{
 "cells": [
  {
   "cell_type": "code",
   "execution_count": 1,
   "metadata": {},
   "outputs": [
    {
     "name": "stdout",
     "output_type": "stream",
     "text": [
      "2.0.0\n",
      "Num GPUs Available:  1\n",
      "Device mapping:\n",
      "/job:localhost/replica:0/task:0/device:XLA_CPU:0 -> device: XLA_CPU device\n",
      "/job:localhost/replica:0/task:0/device:XLA_GPU:0 -> device: XLA_GPU device\n",
      "/job:localhost/replica:0/task:0/device:GPU:0 -> device: 0, name: TITAN RTX, pci bus id: 0000:05:00.0, compute capability: 7.5\n",
      "\n"
     ]
    },
    {
     "data": {
      "text/plain": [
       "<tensorflow.python.client.session.Session at 0x7f4b94138410>"
      ]
     },
     "execution_count": 1,
     "metadata": {},
     "output_type": "execute_result"
    }
   ],
   "source": [
    "#!/usr/bin/env python\n",
    "# -*- coding: utf-8 -*-\n",
    "# @Time    : 2020/1/13 16:28\n",
    "# @Author  : Shark\n",
    "# @Site    :\n",
    "# @File    : tsts_trainer.py\n",
    "# @Software: PyCharm\n",
    "\n",
    "import os\n",
    "os.environ[\"CUDA_VISIBLE_DEVICES\"] = \"1\"\n",
    "os.environ['TF_CPP_MIN_LOG_LEVEL'] = '2'\n",
    "\n",
    "import tensorflow as tf\n",
    "\n",
    "print(tf.__version__)\n",
    "print(\"Num GPUs Available: \", len(tf.config.experimental.list_physical_devices('GPU')))\n",
    "\n",
    "# On CPU/GPU placement\n",
    "config = tf.compat.v1.ConfigProto(allow_soft_placement=True, log_device_placement=True)\n",
    "config.gpu_options.allow_growth = True\n",
    "tf.compat.v1.Session(config=config)\n"
   ]
  },
  {
   "cell_type": "code",
   "execution_count": 2,
   "metadata": {},
   "outputs": [
    {
     "name": "stdout",
     "output_type": "stream",
     "text": [
      "Device mapping:\n",
      "/job:localhost/replica:0/task:0/device:XLA_CPU:0 -> device: XLA_CPU device\n",
      "/job:localhost/replica:0/task:0/device:XLA_GPU:0 -> device: XLA_GPU device\n",
      "/job:localhost/replica:0/task:0/device:GPU:0 -> device: 0, name: TITAN RTX, pci bus id: 0000:05:00.0, compute capability: 7.5\n",
      "\n"
     ]
    },
    {
     "name": "stderr",
     "output_type": "stream",
     "text": [
      "I:LOAD NER CORPUS:[ner_task.p: 65]:loaded 21596 samples from ./allusion_corpus/train.data. Samples:\n",
      "x[0]: ['纶', '綍', '谋', '猷', '盛', ',', '丹', '青', '步', '武', '亲', '。']\n",
      "y[0]: ['B-ALLU', 'I-ALLU', 'O', 'O', 'O', 'O', 'O', 'O', 'O', 'O', 'O', 'O']\n"
     ]
    }
   ],
   "source": [
    "from kashgari.trainer.sampler_multi_task_trainer import SamplerMultiTaskTrainer\n",
    "from kashgari.task import ReadabilityTask, NerTask, AlluSourceTask,AlluClassTask\n",
    "from kashgari.processors import ClassificationProcessor, LabelingProcessor\n",
    "\n",
    "poem_seq_len = 30\n",
    "task_list = []\n",
    "\n",
    "\n",
    "\n",
    "processor = LabelingProcessor(vocab_path=\"../pretrained_embedding/bert/poem_chinese_L-12_H-768_A-12/\")\n",
    "ner_task = NerTask(processor,\n",
    "                   \"./allusion_corpus\",\n",
    "                   poem_seq_len)\n",
    "task_list.append(ner_task)\n",
    "\n",
    "processor = ClassificationProcessor(vocab_path=\"../pretrained_embedding/bert/poem_chinese_L-12_H-768_A-12/\")\n",
    "allu_source_task = AlluSourceTask(processor,\n",
    "                                  \"./allusion_corpus\",\n",
    "                                  poem_seq_len,\n",
    "                                  num_samples=150000)\n",
    "task_list.append(allu_source_task)\n"
   ]
  },
  {
   "cell_type": "code",
   "execution_count": 3,
   "metadata": {
    "scrolled": true
   },
   "outputs": [
    {
     "name": "stderr",
     "output_type": "stream",
     "text": [
      "I:BASE TASK:[base_task.:270]:Task NER:\n",
      "I:BASE TASK:[base_task.:271]:\t230 training batches\n",
      "I:BASE TASK:[base_task.:272]:\t41 validation batches\n",
      "I:BASE TASK:[base_task.:273]:\t68 test batches\n",
      "I:BASE TASK:[base_task.:270]:Task ALLU_SOURCE:\n",
      "I:BASE TASK:[base_task.:271]:\t319 training batches\n",
      "I:BASE TASK:[base_task.:272]:\t57 validation batches\n",
      "I:BASE TASK:[base_task.:273]:\t469 test batches\n",
      "I:BERT EMBEDDING:[bert_embed:105]:seq_len:30\n",
      "I:BERT EMBEDDING:[bert_embed:105]:seq_len:30\n",
      "I:AHMTL MODEL:[AHMTL.py:126]:Multi-Task Learning Model has been instantiated.\n",
      "I:CUR_SPLIT:0:[sampler_mu: 92]:Set up ready. Begining training/validation.\n",
      "I:BASE-MODEL:[base_model:133]:NER's model_dir is ./model_ckpt/2020-02-05-02_23_48/0/NER-Naive_CRF_Model\n",
      "I:BASE-MODEL:[base_model:232]:[NER]:train info:Train on 14684 samples, validate on 2592 samples\n",
      "I:BASE-MODEL:[base_model:133]:ALLU_SOURCE's model_dir is ./model_ckpt/2020-02-05-02_23_48/0/ALLU_SOURCE-NaiveDenseModel\n",
      "I:BASE-MODEL:[base_model:232]:[ALLU_SOURCE]:train info:Train on 20400 samples, validate on 3600 samples\n"
     ]
    },
    {
     "name": "stdout",
     "output_type": "stream",
     "text": [
      "Epoch 1/50\n",
      "549/549 [==============================] - 365s 665ms/step - task_name:     NER     - loss: 5.6727 - accuracy: 0.8028 - val_loss: 10.3349 - val_accuracy: 0.8155\n",
      "549/549 [==============================] - 365s 665ms/step - task_name: ALLU_SOURCE - loss: 0.6722 - accuracy: 0.5743 - val_loss: 0.6705 - val_accuracy: 0.6253 \n"
     ]
    },
    {
     "name": "stderr",
     "output_type": "stream",
     "text": [
      "I:CUR_SPLIT:0:[sampler_mu:139]:----------------------------------------------------------------------------------------------------\n"
     ]
    },
    {
     "name": "stdout",
     "output_type": "stream",
     "text": [
      "Epoch 2/50\n",
      "549/549 [==============================] - 240s 438ms/step - task_name:     NER     - loss: 4.1361 - accuracy: 0.8170 - val_loss: 9.5623 - val_accuracy: 0.8216\n",
      "549/549 [==============================] - 240s 438ms/step - task_name: ALLU_SOURCE - loss: 0.6029 - accuracy: 0.6659 - val_loss: 0.6204 - val_accuracy: 0.6645\n"
     ]
    },
    {
     "name": "stderr",
     "output_type": "stream",
     "text": [
      "I:CUR_SPLIT:0:[sampler_mu:139]:----------------------------------------------------------------------------------------------------\n"
     ]
    },
    {
     "name": "stdout",
     "output_type": "stream",
     "text": [
      "Epoch 3/50\n",
      "549/549 [==============================] - 190s 345ms/step - task_name:     NER     - loss: 3.5305 - accuracy: 0.8181 - val_loss: 9.3686 - val_accuracy: 0.8193\n",
      "549/549 [==============================] - 190s 345ms/step - task_name: ALLU_SOURCE - loss: 0.5776 - accuracy: 0.7001 - val_loss: 0.5576 - val_accuracy: 0.6891\n"
     ]
    },
    {
     "name": "stderr",
     "output_type": "stream",
     "text": [
      "I:CUR_SPLIT:0:[sampler_mu:139]:----------------------------------------------------------------------------------------------------\n"
     ]
    },
    {
     "name": "stdout",
     "output_type": "stream",
     "text": [
      "Epoch 4/50\n",
      "549/549 [==============================] - 195s 355ms/step - task_name:     NER     - loss: 3.6344 - accuracy: 0.8171 - val_loss: 9.1187 - val_accuracy: 0.8193\n",
      "549/549 [==============================] - 195s 355ms/step - task_name: ALLU_SOURCE - loss: 0.5080 - accuracy: 0.7246 - val_loss: 0.5563 - val_accuracy: 0.7050\n"
     ]
    },
    {
     "name": "stderr",
     "output_type": "stream",
     "text": [
      "I:CUR_SPLIT:0:[sampler_mu:139]:----------------------------------------------------------------------------------------------------\n"
     ]
    },
    {
     "name": "stdout",
     "output_type": "stream",
     "text": [
      "Epoch 5/50\n",
      "549/549 [==============================] - 174s 318ms/step - task_name:     NER     - loss: 3.1552 - accuracy: 0.8175 - val_loss: 8.5854 - val_accuracy: 0.8204\n",
      "549/549 [==============================] - 174s 318ms/step - task_name: ALLU_SOURCE - loss: 0.5040 - accuracy: 0.7413 - val_loss: 0.5818 - val_accuracy: 0.6996\n"
     ]
    },
    {
     "name": "stderr",
     "output_type": "stream",
     "text": [
      "I:CUR_SPLIT:0:[sampler_mu:139]:----------------------------------------------------------------------------------------------------\n"
     ]
    },
    {
     "name": "stdout",
     "output_type": "stream",
     "text": [
      "Epoch 6/50\n",
      "549/549 [==============================] - 179s 325ms/step - task_name:     NER     - loss: 2.9889 - accuracy: 0.8179 - val_loss: 8.3255 - val_accuracy: 0.8141\n",
      "549/549 [==============================] - 179s 325ms/step - task_name: ALLU_SOURCE - loss: 0.4874 - accuracy: 0.7560 - val_loss: 0.5431 - val_accuracy: 0.7267\n"
     ]
    },
    {
     "name": "stderr",
     "output_type": "stream",
     "text": [
      "I:CUR_SPLIT:0:[sampler_mu:139]:----------------------------------------------------------------------------------------------------\n"
     ]
    },
    {
     "name": "stdout",
     "output_type": "stream",
     "text": [
      "Epoch 7/50\n",
      "549/549 [==============================] - 176s 321ms/step - task_name:     NER     - loss: 3.2838 - accuracy: 0.8172 - val_loss: 8.3640 - val_accuracy: 0.8179\n",
      "549/549 [==============================] - 176s 321ms/step - task_name: ALLU_SOURCE - loss: 0.4227 - accuracy: 0.7634 - val_loss: 0.5812 - val_accuracy: 0.7138\n"
     ]
    },
    {
     "name": "stderr",
     "output_type": "stream",
     "text": [
      "I:CUR_SPLIT:0:[sampler_mu:139]:----------------------------------------------------------------------------------------------------\n"
     ]
    },
    {
     "name": "stdout",
     "output_type": "stream",
     "text": [
      "Epoch 8/50\n",
      "549/549 [==============================] - 174s 318ms/step - task_name:     NER     - loss: 2.8246 - accuracy: 0.8191 - val_loss: 8.3793 - val_accuracy: 0.8059\n",
      "549/549 [==============================] - 174s 318ms/step - task_name: ALLU_SOURCE - loss: 0.4451 - accuracy: 0.7709 - val_loss: 0.5558 - val_accuracy: 0.7294\n"
     ]
    },
    {
     "name": "stderr",
     "output_type": "stream",
     "text": [
      "I:CUR_SPLIT:0:[sampler_mu:139]:----------------------------------------------------------------------------------------------------\n"
     ]
    },
    {
     "name": "stdout",
     "output_type": "stream",
     "text": [
      "Epoch 9/50\n",
      "549/549 [==============================] - 181s 329ms/step - task_name:     NER     - loss: 2.6845 - accuracy: 0.8201 - val_loss: 7.9974 - val_accuracy: 0.7924\n",
      "549/549 [==============================] - 181s 329ms/step - task_name: ALLU_SOURCE - loss: 0.4339 - accuracy: 0.7839 - val_loss: 0.5666 - val_accuracy: 0.7229\n"
     ]
    },
    {
     "name": "stderr",
     "output_type": "stream",
     "text": [
      "I:CUR_SPLIT:0:[sampler_mu:139]:----------------------------------------------------------------------------------------------------\n"
     ]
    },
    {
     "name": "stdout",
     "output_type": "stream",
     "text": [
      "Epoch 10/50\n",
      "548/549 [============================>.] - ETA: 0s - task_name: ALLU_SOURCE - loss: 0.4916 - accuracy: 0.7747\n",
      "Epoch 00010: ReduceLROnPlateau reducing learning rate to 0.0007000000332482159.\n",
      "549/549 [==============================] - 114s 207ms/step - task_name: ALLU_SOURCE - loss: 0.4555 - accuracy: 0.7748 - val_loss: 0.5270 - val_accuracy: 0.7333\n"
     ]
    },
    {
     "name": "stderr",
     "output_type": "stream",
     "text": [
      "I:CUR_SPLIT:0:[sampler_mu:139]:----------------------------------------------------------------------------------------------------\n"
     ]
    },
    {
     "name": "stdout",
     "output_type": "stream",
     "text": [
      "Epoch 11/50\n",
      "549/549 [==============================] - 110s 200ms/step - task_name: ALLU_SOURCE - loss: 0.4305 - accuracy: 0.7900 - val_loss: 0.5694 - val_accuracy: 0.7220\n"
     ]
    },
    {
     "name": "stderr",
     "output_type": "stream",
     "text": [
      "I:CUR_SPLIT:0:[sampler_mu:139]:----------------------------------------------------------------------------------------------------\n"
     ]
    },
    {
     "name": "stdout",
     "output_type": "stream",
     "text": [
      "Epoch 12/50\n",
      "549/549 [==============================] - 117s 213ms/step - task_name: ALLU_SOURCE - loss: 0.4348 - accuracy: 0.7937 - val_loss: 0.5222 - val_accuracy: 0.7418\n"
     ]
    },
    {
     "name": "stderr",
     "output_type": "stream",
     "text": [
      "I:CUR_SPLIT:0:[sampler_mu:139]:----------------------------------------------------------------------------------------------------\n"
     ]
    },
    {
     "name": "stdout",
     "output_type": "stream",
     "text": [
      "Epoch 13/50\n",
      "549/549 [==============================] - 114s 207ms/step - task_name: ALLU_SOURCE - loss: 0.4048 - accuracy: 0.8041 - val_loss: 0.5236 - val_accuracy: 0.7355\n"
     ]
    },
    {
     "name": "stderr",
     "output_type": "stream",
     "text": [
      "I:CUR_SPLIT:0:[sampler_mu:139]:----------------------------------------------------------------------------------------------------\n"
     ]
    },
    {
     "name": "stdout",
     "output_type": "stream",
     "text": [
      "Epoch 14/50\n",
      "549/549 [==============================] - 108s 197ms/step - task_name: ALLU_SOURCE - loss: 0.3762 - accuracy: 0.8128 - val_loss: 0.5819 - val_accuracy: 0.7262\n"
     ]
    },
    {
     "name": "stderr",
     "output_type": "stream",
     "text": [
      "I:CUR_SPLIT:0:[sampler_mu:139]:----------------------------------------------------------------------------------------------------\n"
     ]
    },
    {
     "name": "stdout",
     "output_type": "stream",
     "text": [
      "Epoch 15/50\n",
      "549/549 [==============================] - 116s 212ms/step - task_name: ALLU_SOURCE - loss: 0.4012 - accuracy: 0.8154 - val_loss: 0.5543 - val_accuracy: 0.7464\n"
     ]
    },
    {
     "name": "stderr",
     "output_type": "stream",
     "text": [
      "I:CUR_SPLIT:0:[sampler_mu:139]:----------------------------------------------------------------------------------------------------\n"
     ]
    },
    {
     "name": "stdout",
     "output_type": "stream",
     "text": [
      "Epoch 16/50\n",
      "549/549 [==============================] - 115s 209ms/step - task_name: ALLU_SOURCE - loss: 0.3893 - accuracy: 0.8203 - val_loss: 0.5871 - val_accuracy: 0.7555\n"
     ]
    },
    {
     "name": "stderr",
     "output_type": "stream",
     "text": [
      "I:CUR_SPLIT:0:[sampler_mu:139]:----------------------------------------------------------------------------------------------------\n"
     ]
    },
    {
     "name": "stdout",
     "output_type": "stream",
     "text": [
      "Epoch 17/50\n",
      "549/549 [==============================] - 114s 207ms/step - task_name: ALLU_SOURCE - loss: 0.3712 - accuracy: 0.8244 - val_loss: 0.6318 - val_accuracy: 0.7484\n"
     ]
    },
    {
     "name": "stderr",
     "output_type": "stream",
     "text": [
      "I:CUR_SPLIT:0:[sampler_mu:139]:----------------------------------------------------------------------------------------------------\n"
     ]
    },
    {
     "name": "stdout",
     "output_type": "stream",
     "text": [
      "Epoch 18/50\n",
      "549/549 [==============================] - 108s 197ms/step - task_name: ALLU_SOURCE - loss: 0.3439 - accuracy: 0.8273 - val_loss: 0.5297 - val_accuracy: 0.7434\n"
     ]
    },
    {
     "name": "stderr",
     "output_type": "stream",
     "text": [
      "I:CUR_SPLIT:0:[sampler_mu:139]:----------------------------------------------------------------------------------------------------\n"
     ]
    },
    {
     "name": "stdout",
     "output_type": "stream",
     "text": [
      "Epoch 19/50\n",
      "549/549 [==============================] - 112s 203ms/step - task_name: ALLU_SOURCE - loss: 0.3579 - accuracy: 0.8324 - val_loss: 0.5580 - val_accuracy: 0.7536\n"
     ]
    },
    {
     "name": "stderr",
     "output_type": "stream",
     "text": [
      "I:CUR_SPLIT:0:[sampler_mu:139]:----------------------------------------------------------------------------------------------------\n"
     ]
    },
    {
     "name": "stdout",
     "output_type": "stream",
     "text": [
      "Epoch 20/50\n",
      "549/549 [==============================] - 116s 212ms/step - task_name: ALLU_SOURCE - loss: 0.3650 - accuracy: 0.8356 - val_loss: 0.5671 - val_accuracy: 0.7486\n"
     ]
    },
    {
     "name": "stderr",
     "output_type": "stream",
     "text": [
      "I:CUR_SPLIT:0:[sampler_mu:139]:----------------------------------------------------------------------------------------------------\n"
     ]
    },
    {
     "name": "stdout",
     "output_type": "stream",
     "text": [
      "Epoch 21/50\n",
      "549/549 [==============================] - 112s 204ms/step - task_name: ALLU_SOURCE - loss: 0.3348 - accuracy: 0.8444 - val_loss: 0.6291 - val_accuracy: 0.7429\n"
     ]
    },
    {
     "name": "stderr",
     "output_type": "stream",
     "text": [
      "I:CUR_SPLIT:0:[sampler_mu:139]:----------------------------------------------------------------------------------------------------\n"
     ]
    },
    {
     "name": "stdout",
     "output_type": "stream",
     "text": [
      "Epoch 22/50\n",
      "549/549 [==============================] - 114s 208ms/step - task_name: ALLU_SOURCE - loss: 0.3398 - accuracy: 0.8472 - val_loss: 0.6407 - val_accuracy: 0.7508\n"
     ]
    },
    {
     "name": "stderr",
     "output_type": "stream",
     "text": [
      "I:CUR_SPLIT:0:[sampler_mu:139]:----------------------------------------------------------------------------------------------------\n"
     ]
    },
    {
     "name": "stdout",
     "output_type": "stream",
     "text": [
      "Epoch 23/50\n",
      "549/549 [==============================] - 111s 202ms/step - task_name: ALLU_SOURCE - loss: 0.3213 - accuracy: 0.8519 - val_loss: 0.6716 - val_accuracy: 0.7418\n"
     ]
    },
    {
     "name": "stderr",
     "output_type": "stream",
     "text": [
      "I:CUR_SPLIT:0:[sampler_mu:139]:----------------------------------------------------------------------------------------------------\n"
     ]
    },
    {
     "name": "stdout",
     "output_type": "stream",
     "text": [
      "\n",
      "----------------------------------NER LABEL METRICS -----------------------------------\n",
      "\n",
      "epoch:labeling EPOCH accuracy 0.820636 precision: 0.417230, recall: 0.428439, f1: 0.422761\n",
      "\n",
      "           precision    recall  f1-score   support\n",
      "\n",
      "     ALLU     0.4172    0.4284    0.4228      4318\n",
      "\n",
      "micro avg     0.4172    0.4284    0.4228      4318\n",
      "macro avg     0.4172    0.4284    0.4228      4318\n",
      "\n",
      "----------------------------------NER END ----------------------------------\n",
      "train_example:**************************************************\n",
      "x_seq:无 复 平 原 赋 , 空 余 邻 笛 声 。\n",
      "y_pred:O O B-ALLU I-ALLU I-ALLU O O O B-ALLU I-ALLU O O\n",
      "y_true:O O B-ALLU I-ALLU I-ALLU O O O O O O O\n",
      "----------\n",
      "x_seq:阮 籍 为 太 守 , 乘 驴 上 东 平 。 剖 竹 十 日 间 , 一 朝 风 化 清 。\n",
      "y_pred:B-ALLU I-ALLU O O O O O O O O O O O O O O O O O O O O O O\n",
      "y_true:O O O O O O B-ALLU I-ALLU I-ALLU I-ALLU I-ALLU O O O O O O O O O O O O O\n",
      "----------\n",
      "x_seq:望 霖 窥 润 础 , 思 吹 候 生 条 。\n",
      "y_pred:O O O O O O O O O O O O\n",
      "y_true:O O O B-ALLU I-ALLU O O O O O O O\n",
      "----------\n",
      "x_seq:汲 黯 薪 逾 积 , 孙 弘 阁 未 开 。\n",
      "y_pred:O O O O O O B-ALLU I-ALLU I-ALLU I-ALLU I-ALLU O\n",
      "y_true:O O O O O O B-ALLU I-ALLU I-ALLU O O O\n",
      "----------\n",
      "x_seq:君 立 天 骄 发 使 车 , 册 文 字 字 著 金 书 。\n",
      "y_pred:O O B-ALLU I-ALLU O O O O O O O O O O O O\n",
      "y_true:O O B-ALLU I-ALLU O O O O O O O O O O O O\n",
      "----------\n",
      "x_seq:长 怀 赤 松 意 , 重 忆 紫 芝 歌 。\n",
      "y_pred:O O B-ALLU I-ALLU O O O O B-ALLU I-ALLU I-ALLU O\n",
      "y_true:O O O O O O O O B-ALLU I-ALLU I-ALLU O\n",
      "----------\n",
      "x_seq:露 盘 侵 汉 耸 , 宫 柳 度 鸦 疏 。\n",
      "y_pred:O O O O O O O O O O O O\n",
      "y_true:B-ALLU I-ALLU O O O O O O O O O O\n",
      "----------\n",
      "x_seq:天 寒 出 巫 峡 , 醉 别 仲 宣 楼 。\n",
      "y_pred:O O O O O O O O B-ALLU I-ALLU I-ALLU O\n",
      "y_true:O O O O O O O O B-ALLU I-ALLU I-ALLU O\n",
      "----------\n",
      "x_seq:非 思 鲈 鱼 脍 , 且 弄 五 湖 船 。\n",
      "y_pred:O O O O O O O O B-ALLU I-ALLU O O\n",
      "y_true:O O B-ALLU I-ALLU O O O O O O O O\n",
      "----------\n",
      "x_seq:终 期 王 母 摘 , 不 羡 武 陵 深 。\n",
      "y_pred:O O O O O O O O B-ALLU I-ALLU O O\n",
      "y_true:O O O O O O O O B-ALLU I-ALLU O O\n",
      "----------\n",
      "END:**************************************************\n",
      "test_example:**************************************************\n",
      "x_seq:尉 佗 虽 北 拜 , 太 史 尚 南 留 。\n",
      "y_pred:B-ALLU I-ALLU I-ALLU I-ALLU I-ALLU O O O O O O O\n",
      "y_true:O O O O O O O B-ALLU I-ALLU I-ALLU O O\n",
      "----------\n",
      "x_seq:桂 折 因 同 时 , 莺 迁 各 异 年 。\n",
      "y_pred:B-ALLU I-ALLU O O O O O O O O O O\n",
      "y_true:O O O O O O B-ALLU O O O O O\n",
      "----------\n",
      "x_seq:长 跪 读 书 心 暂 缓 , 短 章 投 我 曲 何 高 。\n",
      "y_pred:O O O O O O O O O O B-ALLU I-ALLU I-ALLU O O O\n",
      "y_true:O O O O O O O O O O O O B-ALLU I-ALLU I-ALLU O\n",
      "----------\n",
      "x_seq:远 愧 尚 方 曾 赐 履 , 竟 非 吾 土 倦 登 楼 。\n",
      "y_pred:O O O O O B-ALLU I-ALLU O O O O O O O O O\n",
      "y_true:O O O O O B-ALLU I-ALLU O O O O O O O O O\n",
      "----------\n",
      "x_seq:素 服 三 川 化 , 乌 裘 十 上 还 。\n",
      "y_pred:O O O O O O B-ALLU I-ALLU I-ALLU I-ALLU O O\n",
      "y_true:O O O O O O O O B-ALLU I-ALLU O O\n",
      "----------\n",
      "x_seq:应 须 枉 车 歇 , 为 我 访 荷 裳 。\n",
      "y_pred:O O O O O O O O O B-ALLU I-ALLU O\n",
      "y_true:O O O O O O O O O B-ALLU O O\n",
      "----------\n",
      "x_seq:莫 嫌 滴 沥 红 斑 少 , 恰 似 湘 妃 泪 尽 时 。\n",
      "y_pred:O O O O O O O O O O B-ALLU I-ALLU O O O O\n",
      "y_true:O O O O O O O O O O B-ALLU I-ALLU I-ALLU O O O\n",
      "----------\n",
      "x_seq:自 是 湘 州 石 燕 飞 , 那 关 齐 地 商 羊 舞 。\n",
      "y_pred:O O O O B-ALLU I-ALLU O O O O O O O O O O\n",
      "y_true:O O O O O O O O O O O O B-ALLU I-ALLU I-ALLU O\n",
      "----------\n",
      "x_seq:欲 问 希 夷 事 , 音 尘 隔 上 青 。\n",
      "y_pred:O O B-ALLU I-ALLU O O O O O O O O\n",
      "y_true:O O B-ALLU I-ALLU O O O O O O O O\n",
      "----------\n",
      "x_seq:莫 为 [UNK] 鲈 美 , 天 涯 滞 尔 才 。\n",
      "y_pred:O O B-ALLU I-ALLU O O O O O O O O\n",
      "y_true:O O B-ALLU I-ALLU O O O O O O O O\n",
      "----------\n",
      "END:**************************************************\n"
     ]
    },
    {
     "name": "stderr",
     "output_type": "stream",
     "text": [
      "I:SAMPLE_TRAINER:[sampler_mu: 43]:cur_split_idx 0th END\n",
      "I:SAMPLE_TRAINER:[sampler_mu: 44]:****************************************************************************************************\n",
      "I:SAMPLE_TRAINER:[sampler_mu: 45]:****************************************************************************************************\n",
      "I:BASE TASK:[base_task.:270]:Task NER:\n",
      "I:BASE TASK:[base_task.:271]:\t230 training batches\n",
      "I:BASE TASK:[base_task.:272]:\t41 validation batches\n",
      "I:BASE TASK:[base_task.:273]:\t68 test batches\n"
     ]
    },
    {
     "name": "stdout",
     "output_type": "stream",
     "text": [
      "example:**************************************************\n",
      "x_seq:花 扑 征 衣 看 似 绣 , 云 随 马 去 色 疑 [UNK] 。 [UNK] [PAD] [PAD] [PAD] [PAD] [PAD] [PAD] [PAD] [PAD] [PAD] [PAD] [PAD] [PAD]\n",
      "x_ALLU:辟 司 徒 袁 [UNK] 府 , 举 高 第 , 拜 侍 御 史 。 是 时 宦 官 秉 权 , 典 持 政 无 所 回\n",
      "y_pred:[0.865597]\n",
      "y_true:1\n",
      "----------\n",
      "x_seq:花 扑 征 衣 看 似 绣 , 云 随 马 去 色 疑 [UNK] 。 [UNK] [PAD] [PAD] [PAD] [PAD] [PAD] [PAD] [PAD] [PAD] [PAD] [PAD] [PAD] [PAD]\n",
      "x_ALLU:古 公 [UNK] 父 复 脩 后 稷 、 公 刘 之 业 , 积 德 行 义 , 国 人 皆 戴 之 。 薰 育 戎 狄\n",
      "y_pred:[0.32997584]\n",
      "y_true:0\n",
      "----------\n",
      "x_seq:花 扑 征 衣 看 似 绣 , 云 随 马 去 色 疑 [UNK] 。 [UNK] [PAD] [PAD] [PAD] [PAD] [PAD] [PAD] [PAD] [PAD] [PAD] [PAD] [PAD] [PAD]\n",
      "x_ALLU:乐 羊 为 魏 将 而 攻 中 山 , 其 子 在 中 山 , 中 山 之 君 烹 其 子 而 遗 之 羹 , 乐\n",
      "y_pred:[0.48716894]\n",
      "y_true:0\n",
      "----------\n",
      "x_seq:花 扑 征 衣 看 似 绣 , 云 随 马 去 色 疑 [UNK] 。 [UNK] [PAD] [PAD] [PAD] [PAD] [PAD] [PAD] [PAD] [PAD] [PAD] [PAD] [PAD] [PAD]\n",
      "x_ALLU:学 者 称 东 观 为 老 氏 藏 室 、 道 家 蓬 莱 。 [UNK] [PAD] [PAD] [PAD] [PAD] [PAD] [PAD] [PAD] [PAD] [PAD] [PAD] [PAD] [PAD]\n",
      "y_pred:[0.78513896]\n",
      "y_true:0\n",
      "----------\n",
      "x_seq:花 扑 征 衣 看 似 绣 , 云 随 马 去 色 疑 [UNK] 。 [UNK] [PAD] [PAD] [PAD] [PAD] [PAD] [PAD] [PAD] [PAD] [PAD] [PAD] [PAD] [PAD]\n",
      "x_ALLU:帝 姑 馆 陶 公 主 号 窦 太 主 [UNK] [UNK] 主 寡 居 , 年 五 十 余 矣 , 近 幸 董 偃 [UNK] [UNK] 爰\n",
      "y_pred:[0.63330144]\n",
      "y_true:0\n",
      "----------\n",
      "x_seq:花 扑 征 衣 看 似 绣 , 云 随 马 去 色 疑 [UNK] 。 [UNK] [PAD] [PAD] [PAD] [PAD] [PAD] [PAD] [PAD] [PAD] [PAD] [PAD] [PAD] [PAD]\n",
      "x_ALLU:请 琅 邪 王 祥 为 别 驾 [UNK] [UNK] 世 多 其 能 任 贤 。 [UNK] [PAD] [PAD] [PAD] [PAD] [PAD] [PAD] [PAD] [PAD] [PAD] [PAD] [PAD]\n",
      "y_pred:[0.8515518]\n",
      "y_true:0\n",
      "----------\n",
      "x_seq:花 扑 征 衣 看 似 绣 , 云 随 马 去 色 疑 [UNK] 。 [UNK] [PAD] [PAD] [PAD] [PAD] [PAD] [PAD] [PAD] [PAD] [PAD] [PAD] [PAD] [PAD]\n",
      "x_ALLU:晚 节 更 乐 放 逸 , 笃 好 林 [UNK] , 遂 肥 遁 于 河 阳 别 业 。 [UNK] [PAD] [PAD] [PAD] [PAD] [PAD] [PAD] [PAD]\n",
      "y_pred:[0.5631391]\n",
      "y_true:0\n",
      "----------\n",
      "x_seq:花 扑 征 衣 看 似 绣 , 云 随 马 去 色 疑 [UNK] 。 [UNK] [PAD] [PAD] [PAD] [PAD] [PAD] [PAD] [PAD] [PAD] [PAD] [PAD] [PAD] [PAD]\n",
      "x_ALLU:父 之 所 树 , 己 尚 不 敢 不 恭 敬 。 [UNK] [PAD] [PAD] [PAD] [PAD] [PAD] [PAD] [PAD] [PAD] [PAD] [PAD] [PAD] [PAD] [PAD] [PAD] [PAD]\n",
      "y_pred:[0.29501453]\n",
      "y_true:0\n",
      "----------\n",
      "x_seq:花 扑 征 衣 看 似 绣 , 云 随 马 去 色 疑 [UNK] 。 [UNK] [PAD] [PAD] [PAD] [PAD] [PAD] [PAD] [PAD] [PAD] [PAD] [PAD] [PAD] [PAD]\n",
      "x_ALLU:出 游 数 岁 , 大 困 而 归 。 兄 弟 嫂 妹 妻 妾 窃 皆 笑 之 , 曰 : [UNK] 周 人 之 俗 ,\n",
      "y_pred:[0.5802088]\n",
      "y_true:0\n",
      "----------\n",
      "x_seq:花 扑 征 衣 看 似 绣 , 云 随 马 去 色 疑 [UNK] 。 [UNK] [PAD] [PAD] [PAD] [PAD] [PAD] [PAD] [PAD] [PAD] [PAD] [PAD] [PAD] [PAD]\n",
      "x_ALLU:[UNK] 巴 鼓 琴 而 鸟 舞 鱼 跃 [UNK] [PAD] [PAD] [PAD] [PAD] [PAD] [PAD] [PAD] [PAD] [PAD] [PAD] [PAD] [PAD] [PAD] [PAD] [PAD] [PAD] [PAD] [PAD] [PAD]\n",
      "y_pred:[0.68419486]\n",
      "y_true:0\n",
      "----------\n",
      "x_seq:五 陵 年 少 轻 薄 客 , 蛮 锦 花 多 春 袖 窄 。 [UNK] [PAD] [PAD] [PAD] [PAD] [PAD] [PAD] [PAD] [PAD] [PAD] [PAD] [PAD] [PAD]\n",
      "x_ALLU:五 陵 , 谓 长 陵 、 安 陵 、 阳 陵 、 茂 陵 、 平 陵 也 。 [UNK] [PAD] [PAD] [PAD] [PAD] [PAD] [PAD] [PAD] [PAD]\n",
      "y_pred:[0.42863992]\n",
      "y_true:1\n",
      "----------\n",
      "x_seq:五 陵 年 少 轻 薄 客 , 蛮 锦 花 多 春 袖 窄 。 [UNK] [PAD] [PAD] [PAD] [PAD] [PAD] [PAD] [PAD] [PAD] [PAD] [PAD] [PAD] [PAD]\n",
      "x_ALLU:子 曰 : [UNK] 泰 伯 , 其 可 谓 至 德 也 已 矣 。 三 以 天 下 让 , 民 无 得 而 称 焉 。\n",
      "y_pred:[0.34753895]\n",
      "y_true:0\n",
      "----------\n",
      "x_seq:五 陵 年 少 轻 薄 客 , 蛮 锦 花 多 春 袖 窄 。 [UNK] [PAD] [PAD] [PAD] [PAD] [PAD] [PAD] [PAD] [PAD] [PAD] [PAD] [PAD] [PAD]\n",
      "x_ALLU:沛 公 拜 良 为 厩 将 。 良 数 以 《 太 公 兵 法 》 说 沛 公 [UNK] [UNK] 张 良 多 病 , 未 尝\n",
      "y_pred:[0.49149442]\n",
      "y_true:0\n",
      "----------\n",
      "x_seq:五 陵 年 少 轻 薄 客 , 蛮 锦 花 多 春 袖 窄 。 [UNK] [PAD] [PAD] [PAD] [PAD] [PAD] [PAD] [PAD] [PAD] [PAD] [PAD] [PAD] [PAD]\n",
      "x_ALLU:绿 林 , 山 , 在 今 荆 州 当 阳 县 东 北 也 。 [UNK] [PAD] [PAD] [PAD] [PAD] [PAD] [PAD] [PAD] [PAD] [PAD] [PAD] [PAD] [PAD]\n",
      "y_pred:[0.7895918]\n",
      "y_true:0\n",
      "----------\n",
      "x_seq:五 陵 年 少 轻 薄 客 , 蛮 锦 花 多 春 袖 窄 。 [UNK] [PAD] [PAD] [PAD] [PAD] [PAD] [PAD] [PAD] [PAD] [PAD] [PAD] [PAD] [PAD]\n",
      "x_ALLU:[UNK] 在 乡 闾 , 平 心 率 物 。 其 有 争 讼 , 辄 求 判 正 , 晓 譬 曲 直 , 退 无 怨 者\n",
      "y_pred:[0.42838562]\n",
      "y_true:0\n",
      "----------\n",
      "x_seq:五 陵 年 少 轻 薄 客 , 蛮 锦 花 多 春 袖 窄 。 [UNK] [PAD] [PAD] [PAD] [PAD] [PAD] [PAD] [PAD] [PAD] [PAD] [PAD] [PAD] [PAD]\n",
      "x_ALLU:武 丁 即 位 [UNK] [UNK] 梦 天 赐 贤 人 , 胥 靡 之 衣 , 蒙 之 而 来 。 且 云 : [UNK] 我 , 徒\n",
      "y_pred:[0.5074697]\n",
      "y_true:0\n",
      "----------\n",
      "x_seq:五 陵 年 少 轻 薄 客 , 蛮 锦 花 多 春 袖 窄 。 [UNK] [PAD] [PAD] [PAD] [PAD] [PAD] [PAD] [PAD] [PAD] [PAD] [PAD] [PAD] [PAD]\n",
      "x_ALLU:德 行 : 颜 渊 , 闵 子 骞 , 冉 伯 牛 , 仲 弓 。 [UNK] [PAD] [PAD] [PAD] [PAD] [PAD] [PAD] [PAD] [PAD] [PAD] [PAD] [PAD]\n",
      "y_pred:[0.76882434]\n",
      "y_true:0\n",
      "----------\n",
      "x_seq:五 陵 年 少 轻 薄 客 , 蛮 锦 花 多 春 袖 窄 。 [UNK] [PAD] [PAD] [PAD] [PAD] [PAD] [PAD] [PAD] [PAD] [PAD] [PAD] [PAD] [PAD]\n",
      "x_ALLU:小 巫 见 大 巫 , 拔 茅 而 弃 , 此 其 所 以 终 身 弗 如 也 。 [UNK] [PAD] [PAD] [PAD] [PAD] [PAD] [PAD] [PAD]\n",
      "y_pred:[0.2508096]\n",
      "y_true:0\n",
      "----------\n",
      "x_seq:五 陵 年 少 轻 薄 客 , 蛮 锦 花 多 春 袖 窄 。 [UNK] [PAD] [PAD] [PAD] [PAD] [PAD] [PAD] [PAD] [PAD] [PAD] [PAD] [PAD] [PAD]\n",
      "x_ALLU:田 横 乃 与 其 客 二 人 乘 传 诣 雒 阳 。 未 至 三 十 里 , 至 尸 乡 厩 置 , [UNK] [UNK] 遂\n",
      "y_pred:[0.48936874]\n",
      "y_true:0\n",
      "----------\n",
      "x_seq:五 陵 年 少 轻 薄 客 , 蛮 锦 花 多 春 袖 窄 。 [UNK] [PAD] [PAD] [PAD] [PAD] [PAD] [PAD] [PAD] [PAD] [PAD] [PAD] [PAD] [PAD]\n",
      "x_ALLU:一 转 之 丹 , 服 之 三 年 得 仙 。 二 转 之 丹 , 服 之 二 年 得 仙 。 [UNK] [UNK] 八 转 之\n",
      "y_pred:[0.2840503]\n",
      "y_true:0\n",
      "----------\n",
      "x_seq:涂 山 烽 候 惊 , 弭 节 度 龙 城 。 [UNK] [PAD] [PAD] [PAD] [PAD] [PAD] [PAD] [PAD] [PAD] [PAD] [PAD] [PAD] [PAD] [PAD] [PAD] [PAD] [PAD]\n",
      "x_ALLU:五 月 , 大 会 龙 城 , 祭 其 先 、 天 地 、 鬼 神 。 [UNK] [PAD] [PAD] [PAD] [PAD] [PAD] [PAD] [PAD] [PAD] [PAD] [PAD]\n",
      "y_pred:[0.28295004]\n",
      "y_true:1\n",
      "----------\n",
      "x_seq:涂 山 烽 候 惊 , 弭 节 度 龙 城 。 [UNK] [PAD] [PAD] [PAD] [PAD] [PAD] [PAD] [PAD] [PAD] [PAD] [PAD] [PAD] [PAD] [PAD] [PAD] [PAD] [PAD]\n",
      "x_ALLU:泥 丸 九 真 皆 有 房 。 [UNK] [PAD] [PAD] [PAD] [PAD] [PAD] [PAD] [PAD] [PAD] [PAD] [PAD] [PAD] [PAD] [PAD] [PAD] [PAD] [PAD] [PAD] [PAD] [PAD] [PAD]\n",
      "y_pred:[0.29429612]\n",
      "y_true:0\n",
      "----------\n",
      "x_seq:涂 山 烽 候 惊 , 弭 节 度 龙 城 。 [UNK] [PAD] [PAD] [PAD] [PAD] [PAD] [PAD] [PAD] [PAD] [PAD] [PAD] [PAD] [PAD] [PAD] [PAD] [PAD] [PAD]\n",
      "x_ALLU:刘 向 《 别 录 》 曰 : [UNK] [UNK] 衍 之 所 言 , 五 德 终 始 , 天 地 广 大 , 尽 言 天 事\n",
      "y_pred:[0.33511543]\n",
      "y_true:0\n",
      "----------\n",
      "x_seq:涂 山 烽 候 惊 , 弭 节 度 龙 城 。 [UNK] [PAD] [PAD] [PAD] [PAD] [PAD] [PAD] [PAD] [PAD] [PAD] [PAD] [PAD] [PAD] [PAD] [PAD] [PAD] [PAD]\n",
      "x_ALLU:善 祷 谓 文 子 之 言 。 祷 , 求 也 。 [UNK] [PAD] [PAD] [PAD] [PAD] [PAD] [PAD] [PAD] [PAD] [PAD] [PAD] [PAD] [PAD] [PAD] [PAD] [PAD]\n",
      "y_pred:[0.28954324]\n",
      "y_true:0\n",
      "----------\n",
      "x_seq:涂 山 烽 候 惊 , 弭 节 度 龙 城 。 [UNK] [PAD] [PAD] [PAD] [PAD] [PAD] [PAD] [PAD] [PAD] [PAD] [PAD] [PAD] [PAD] [PAD] [PAD] [PAD] [PAD]\n",
      "x_ALLU:康 侯 用 锡 马 蕃 庶 , 昼 日 三 接 。 [UNK] [PAD] [PAD] [PAD] [PAD] [PAD] [PAD] [PAD] [PAD] [PAD] [PAD] [PAD] [PAD] [PAD] [PAD] [PAD]\n",
      "y_pred:[0.4642308]\n",
      "y_true:0\n",
      "----------\n",
      "x_seq:涂 山 烽 候 惊 , 弭 节 度 龙 城 。 [UNK] [PAD] [PAD] [PAD] [PAD] [PAD] [PAD] [PAD] [PAD] [PAD] [PAD] [PAD] [PAD] [PAD] [PAD] [PAD] [PAD]\n",
      "x_ALLU:孝 武 皇 帝 陈 皇 后 , 时 得 幸 , 颇 妒 , 别 在 长 门 宫 。 [UNK] [PAD] [PAD] [PAD] [PAD] [PAD] [PAD] [PAD]\n",
      "y_pred:[0.8521397]\n",
      "y_true:0\n",
      "----------\n",
      "x_seq:涂 山 烽 候 惊 , 弭 节 度 龙 城 。 [UNK] [PAD] [PAD] [PAD] [PAD] [PAD] [PAD] [PAD] [PAD] [PAD] [PAD] [PAD] [PAD] [PAD] [PAD] [PAD] [PAD]\n",
      "x_ALLU:[UNK] 曰 : [UNK] [UNK] 天 地 解 而 雷 雨 作 , 雷 雨 作 而 百 果 草 木 皆 甲 [UNK] 。 解 之 时 ,\n",
      "y_pred:[0.33792135]\n",
      "y_true:0\n",
      "----------\n",
      "x_seq:涂 山 烽 候 惊 , 弭 节 度 龙 城 。 [UNK] [PAD] [PAD] [PAD] [PAD] [PAD] [PAD] [PAD] [PAD] [PAD] [PAD] [PAD] [PAD] [PAD] [PAD] [PAD] [PAD]\n",
      "x_ALLU:披 裘 公 者 , 吴 人 也 。 延 陵 季 子 出 游 , 见 道 中 有 遗 金 , 顾 披 裘 公 曰 :\n",
      "y_pred:[0.7905319]\n",
      "y_true:0\n",
      "----------\n",
      "x_seq:涂 山 烽 候 惊 , 弭 节 度 龙 城 。 [UNK] [PAD] [PAD] [PAD] [PAD] [PAD] [PAD] [PAD] [PAD] [PAD] [PAD] [PAD] [PAD] [PAD] [PAD] [PAD] [PAD]\n",
      "x_ALLU:王 武 子 被 责 , 移 第 北 [UNK] 下 。 于 时 人 多 地 贵 , 济 好 马 射 , 买 地 作 [UNK] ,\n",
      "y_pred:[0.6907348]\n",
      "y_true:0\n",
      "----------\n",
      "x_seq:涂 山 烽 候 惊 , 弭 节 度 龙 城 。 [UNK] [PAD] [PAD] [PAD] [PAD] [PAD] [PAD] [PAD] [PAD] [PAD] [PAD] [PAD] [PAD] [PAD] [PAD] [PAD] [PAD]\n",
      "x_ALLU:祥 解 衣 将 剖 冰 求 之 , 冰 忽 自 解 , 双 鲤 跃 出 , 持 之 而 归 。 [UNK] [PAD] [PAD] [PAD] [PAD]\n",
      "y_pred:[0.36510873]\n",
      "y_true:0\n",
      "----------\n",
      "x_seq:即 此 羡 闲 逸 , 怅 然 吟 式 微 。 [UNK] [PAD] [PAD] [PAD] [PAD] [PAD] [PAD] [PAD] [PAD] [PAD] [PAD] [PAD] [PAD] [PAD] [PAD] [PAD] [PAD]\n",
      "x_ALLU:式 微 式 微 , 胡 不 归 ? 微 君 之 故 , 胡 为 乎 中 露 ? 式 微 式 微 , 胡 不 归 ?\n",
      "y_pred:[0.37040198]\n",
      "y_true:1\n",
      "----------\n",
      "x_seq:即 此 羡 闲 逸 , 怅 然 吟 式 微 。 [UNK] [PAD] [PAD] [PAD] [PAD] [PAD] [PAD] [PAD] [PAD] [PAD] [PAD] [PAD] [PAD] [PAD] [PAD] [PAD] [PAD]\n",
      "x_ALLU:韩 康 字 伯 休 , 一 名 恬 休 , 京 兆 霸 陵 人 。 家 世 著 姓 。 常 采 药 名 山 , 卖\n",
      "y_pred:[0.8673109]\n",
      "y_true:0\n",
      "----------\n",
      "x_seq:即 此 羡 闲 逸 , 怅 然 吟 式 微 。 [UNK] [PAD] [PAD] [PAD] [PAD] [PAD] [PAD] [PAD] [PAD] [PAD] [PAD] [PAD] [PAD] [PAD] [PAD] [PAD] [PAD]\n",
      "x_ALLU:背 , 北 堂 也 。 [UNK] [PAD] [PAD] [PAD] [PAD] [PAD] [PAD] [PAD] [PAD] [PAD] [PAD] [PAD] [PAD] [PAD] [PAD] [PAD] [PAD] [PAD] [PAD] [PAD] [PAD] [PAD] [PAD]\n",
      "y_pred:[0.25280714]\n",
      "y_true:0\n",
      "----------\n",
      "x_seq:即 此 羡 闲 逸 , 怅 然 吟 式 微 。 [UNK] [PAD] [PAD] [PAD] [PAD] [PAD] [PAD] [PAD] [PAD] [PAD] [PAD] [PAD] [PAD] [PAD] [PAD] [PAD] [PAD]\n",
      "x_ALLU:然 则 王 之 所 大 欲 , 可 知 巳 。 欲 辟 土 地 , 朝 秦 楚 , 莅 中 国 而 抚 四 夷 。\n",
      "y_pred:[0.37252858]\n",
      "y_true:0\n",
      "----------\n",
      "x_seq:即 此 羡 闲 逸 , 怅 然 吟 式 微 。 [UNK] [PAD] [PAD] [PAD] [PAD] [PAD] [PAD] [PAD] [PAD] [PAD] [PAD] [PAD] [PAD] [PAD] [PAD] [PAD] [PAD]\n",
      "x_ALLU:阮 籍 字 嗣 宗 , 嗜 酒 能 啸 。 籍 本 有 济 世 志 , 属 魏 晋 之 际 , 天 下 多 故 ,\n",
      "y_pred:[0.8136596]\n",
      "y_true:0\n",
      "----------\n",
      "x_seq:即 此 羡 闲 逸 , 怅 然 吟 式 微 。 [UNK] [PAD] [PAD] [PAD] [PAD] [PAD] [PAD] [PAD] [PAD] [PAD] [PAD] [PAD] [PAD] [PAD] [PAD] [PAD] [PAD]\n",
      "x_ALLU:曾 子 曰 : [UNK] 吾 日 三 省 吾 身 , 为 人 谋 而 不 忠 乎 ? 与 朋 友 交 而 不 信 乎 ?\n",
      "y_pred:[0.30984092]\n",
      "y_true:0\n",
      "----------\n",
      "x_seq:即 此 羡 闲 逸 , 怅 然 吟 式 微 。 [UNK] [PAD] [PAD] [PAD] [PAD] [PAD] [PAD] [PAD] [PAD] [PAD] [PAD] [PAD] [PAD] [PAD] [PAD] [PAD] [PAD]\n",
      "x_ALLU:言 [UNK] 马 十 度 引 车 。 [UNK] [PAD] [PAD] [PAD] [PAD] [PAD] [PAD] [PAD] [PAD] [PAD] [PAD] [PAD] [PAD] [PAD] [PAD] [PAD] [PAD] [PAD] [PAD] [PAD] [PAD]\n",
      "y_pred:[0.36360356]\n",
      "y_true:0\n",
      "----------\n",
      "x_seq:即 此 羡 闲 逸 , 怅 然 吟 式 微 。 [UNK] [PAD] [PAD] [PAD] [PAD] [PAD] [PAD] [PAD] [PAD] [PAD] [PAD] [PAD] [PAD] [PAD] [PAD] [PAD] [PAD]\n",
      "x_ALLU:伍 子 胥 橐 载 而 出 昭 关 , 夜 行 昼 伏 , 至 于 陵 水 , 无 以 糊 其 口 , 膝 行 蒲\n",
      "y_pred:[0.5000574]\n",
      "y_true:0\n",
      "----------\n",
      "x_seq:即 此 羡 闲 逸 , 怅 然 吟 式 微 。 [UNK] [PAD] [PAD] [PAD] [PAD] [PAD] [PAD] [PAD] [PAD] [PAD] [PAD] [PAD] [PAD] [PAD] [PAD] [PAD] [PAD]\n",
      "x_ALLU:无 道 人 之 短 , 无 说 己 之 长 。 施 人 慎 勿 念 , 受 施 慎 勿 忘 。 世 誉 不 足 慕\n",
      "y_pred:[0.28405756]\n",
      "y_true:0\n",
      "----------\n",
      "x_seq:即 此 羡 闲 逸 , 怅 然 吟 式 微 。 [UNK] [PAD] [PAD] [PAD] [PAD] [PAD] [PAD] [PAD] [PAD] [PAD] [PAD] [PAD] [PAD] [PAD] [PAD] [PAD] [PAD]\n",
      "x_ALLU:地 水 火 风 共 成 身 , 随 彼 因 缘 招 异 果 , 同 在 一 处 相 违 害 , 如 四 毒 蛇 居\n",
      "y_pred:[0.29679286]\n",
      "y_true:0\n",
      "----------\n",
      "x_seq:墓 待 龙 骧 诏 , 台 迎 [UNK] [UNK] 威 。 [UNK] [PAD] [PAD] [PAD] [PAD] [PAD] [PAD] [PAD] [PAD] [PAD] [PAD] [PAD] [PAD] [PAD] [PAD] [PAD] [PAD]\n",
      "x_ALLU:或 谓 [UNK] [UNK] , 神 羊 , 能 触 邪 佞 , 《 异 物 志 》 云 : [UNK] 北 荒 之 中 , 有 兽 名\n",
      "y_pred:[0.38684502]\n",
      "y_true:1\n",
      "----------\n",
      "x_seq:墓 待 龙 骧 诏 , 台 迎 [UNK] [UNK] 威 。 [UNK] [PAD] [PAD] [PAD] [PAD] [PAD] [PAD] [PAD] [PAD] [PAD] [PAD] [PAD] [PAD] [PAD] [PAD] [PAD] [PAD]\n",
      "x_ALLU:满 堂 兮 美 人 , 忽 独 与 余 兮 目 成 。 [UNK] [PAD] [PAD] [PAD] [PAD] [PAD] [PAD] [PAD] [PAD] [PAD] [PAD] [PAD] [PAD] [PAD] [PAD]\n",
      "y_pred:[0.75007474]\n",
      "y_true:0\n",
      "----------\n",
      "x_seq:墓 待 龙 骧 诏 , 台 迎 [UNK] [UNK] 威 。 [UNK] [PAD] [PAD] [PAD] [PAD] [PAD] [PAD] [PAD] [PAD] [PAD] [PAD] [PAD] [PAD] [PAD] [PAD] [PAD] [PAD]\n",
      "x_ALLU:泥 丸 九 真 皆 有 房 。 [UNK] [PAD] [PAD] [PAD] [PAD] [PAD] [PAD] [PAD] [PAD] [PAD] [PAD] [PAD] [PAD] [PAD] [PAD] [PAD] [PAD] [PAD] [PAD] [PAD] [PAD]\n",
      "y_pred:[0.32696658]\n",
      "y_true:0\n",
      "----------\n",
      "x_seq:墓 待 龙 骧 诏 , 台 迎 [UNK] [UNK] 威 。 [UNK] [PAD] [PAD] [PAD] [PAD] [PAD] [PAD] [PAD] [PAD] [PAD] [PAD] [PAD] [PAD] [PAD] [PAD] [PAD] [PAD]\n",
      "x_ALLU:杜 乔 字 叔 荣 , 东 汉 河 内 林 虑 人 。 立 朝 正 直 , 官 至 太 尉 。 曾 上 书 谏 帝\n",
      "y_pred:[0.924984]\n",
      "y_true:0\n",
      "----------\n",
      "x_seq:墓 待 龙 骧 诏 , 台 迎 [UNK] [UNK] 威 。 [UNK] [PAD] [PAD] [PAD] [PAD] [PAD] [PAD] [PAD] [PAD] [PAD] [PAD] [PAD] [PAD] [PAD] [PAD] [PAD] [PAD]\n",
      "x_ALLU:夏 统 字 仲 御 , 会 稽 永 兴 人 也 。 幼 孤 贫 , 养 亲 以 孝 闻 。 后 其 母 病 笃 ,\n",
      "y_pred:[0.53207785]\n",
      "y_true:0\n",
      "----------\n",
      "x_seq:墓 待 龙 骧 诏 , 台 迎 [UNK] [UNK] 威 。 [UNK] [PAD] [PAD] [PAD] [PAD] [PAD] [PAD] [PAD] [PAD] [PAD] [PAD] [PAD] [PAD] [PAD] [PAD] [PAD] [PAD]\n",
      "x_ALLU:鸟 乌 得 空 营 , 故 乐 也 。 [UNK] [PAD] [PAD] [PAD] [PAD] [PAD] [PAD] [PAD] [PAD] [PAD] [PAD] [PAD] [PAD] [PAD] [PAD] [PAD] [PAD] [PAD] [PAD]\n",
      "y_pred:[0.37035853]\n",
      "y_true:0\n",
      "----------\n",
      "x_seq:墓 待 龙 骧 诏 , 台 迎 [UNK] [UNK] 威 。 [UNK] [PAD] [PAD] [PAD] [PAD] [PAD] [PAD] [PAD] [PAD] [PAD] [PAD] [PAD] [PAD] [PAD] [PAD] [PAD] [PAD]\n",
      "x_ALLU:盖 圣 人 握 金 镜 , 阐 风 烈 , 龙 骧 [UNK] 屈 , 从 道 污 隆 。 [UNK] [PAD] [PAD] [PAD] [PAD] [PAD] [PAD] [PAD]\n",
      "y_pred:[0.5200169]\n",
      "y_true:0\n",
      "----------\n",
      "x_seq:墓 待 龙 骧 诏 , 台 迎 [UNK] [UNK] 威 。 [UNK] [PAD] [PAD] [PAD] [PAD] [PAD] [PAD] [PAD] [PAD] [PAD] [PAD] [PAD] [PAD] [PAD] [PAD] [PAD] [PAD]\n",
      "x_ALLU:由 , 用 也 。 王 无 轻 用 谗 人 之 言 , 人 将 有 属 耳 于 壁 而 听 之 者 , 知 王 有\n",
      "y_pred:[0.34542814]\n",
      "y_true:0\n",
      "----------\n",
      "x_seq:墓 待 龙 骧 诏 , 台 迎 [UNK] [UNK] 威 。 [UNK] [PAD] [PAD] [PAD] [PAD] [PAD] [PAD] [PAD] [PAD] [PAD] [PAD] [PAD] [PAD] [PAD] [PAD] [PAD] [PAD]\n",
      "x_ALLU:初 除 郎 中 , 元 和 元 年 , 肃 宗 诏 香 诣 东 观 , 读 所 未 尝 见 书 [UNK] [UNK] 永 元 四\n",
      "y_pred:[0.55896854]\n",
      "y_true:0\n",
      "----------\n",
      "x_seq:墓 待 龙 骧 诏 , 台 迎 [UNK] [UNK] 威 。 [UNK] [PAD] [PAD] [PAD] [PAD] [PAD] [PAD] [PAD] [PAD] [PAD] [PAD] [PAD] [PAD] [PAD] [PAD] [PAD] [PAD]\n",
      "x_ALLU:吾 端 冕 而 听 古 乐 , 则 惟 恐 卧 , 听 郑 卫 之 音 则 不 知 倦 。 [UNK] [PAD] [PAD] [PAD] [PAD] [PAD]\n",
      "y_pred:[0.36133188]\n",
      "y_true:0\n",
      "----------\n",
      "x_seq:请 问 汉 家 功 第 一 , 麒 麟 阁 上 识 [UNK] 侯 。 [UNK] [PAD] [PAD] [PAD] [PAD] [PAD] [PAD] [PAD] [PAD] [PAD] [PAD] [PAD] [PAD]\n",
      "x_ALLU:汉 初 , 高 祖 初 入 关 , 约 法 三 章 [UNK] [UNK] 其 后 四 夷 未 附 , 兵 革 未 息 , 三 章\n",
      "y_pred:[0.46122903]\n",
      "y_true:1\n",
      "----------\n",
      "x_seq:请 问 汉 家 功 第 一 , 麒 麟 阁 上 识 [UNK] 侯 。 [UNK] [PAD] [PAD] [PAD] [PAD] [PAD] [PAD] [PAD] [PAD] [PAD] [PAD] [PAD] [PAD]\n",
      "x_ALLU:( 陵 ) 五 迁 为 尚 书 令 , 与 仆 射 郅 寿 、 尚 书 陈 宠 , 同 时 俱 以 才 能 称 。\n",
      "y_pred:[0.69946617]\n",
      "y_true:0\n",
      "----------\n",
      "x_seq:请 问 汉 家 功 第 一 , 麒 麟 阁 上 识 [UNK] 侯 。 [UNK] [PAD] [PAD] [PAD] [PAD] [PAD] [PAD] [PAD] [PAD] [PAD] [PAD] [PAD] [PAD]\n",
      "x_ALLU:吴 隐 之 字 处 默 [UNK] [UNK] [UNK] 隆 安 中 , 以 隐 之 为 龙 骧 将 军 、 广 州 刺 史 、 假 节\n",
      "y_pred:[0.7553241]\n",
      "y_true:0\n",
      "----------\n",
      "x_seq:请 问 汉 家 功 第 一 , 麒 麟 阁 上 识 [UNK] 侯 。 [UNK] [PAD] [PAD] [PAD] [PAD] [PAD] [PAD] [PAD] [PAD] [PAD] [PAD] [PAD] [PAD]\n",
      "x_ALLU:冒 顿 既 立 [UNK] [UNK] 遂 侵 燕 、 代 。 是 时 汉 兵 与 项 羽 相 距 , 中 国 罢 于 兵 革 ,\n",
      "y_pred:[0.5710313]\n",
      "y_true:0\n",
      "----------\n",
      "x_seq:请 问 汉 家 功 第 一 , 麒 麟 阁 上 识 [UNK] 侯 。 [UNK] [PAD] [PAD] [PAD] [PAD] [PAD] [PAD] [PAD] [PAD] [PAD] [PAD] [PAD] [PAD]\n",
      "x_ALLU:楚 王 疾 , 告 大 夫 曰 : [UNK] [UNK] [UNK] 若 以 大 夫 之 灵 , 获 保 首 领 以 殁 于 地 , 唯\n",
      "y_pred:[0.62242466]\n",
      "y_true:0\n",
      "----------\n",
      "x_seq:请 问 汉 家 功 第 一 , 麒 麟 阁 上 识 [UNK] 侯 。 [UNK] [PAD] [PAD] [PAD] [PAD] [PAD] [PAD] [PAD] [PAD] [PAD] [PAD] [PAD] [PAD]\n",
      "x_ALLU:集 , 止 也 。 [UNK] 苑 , 茂 木 貌 。 [UNK] 己 , 里 克 也 。 [UNK] 喻 人 皆 与 奚 齐 , 己 独\n",
      "y_pred:[0.34456196]\n",
      "y_true:0\n",
      "----------\n",
      "x_seq:请 问 汉 家 功 第 一 , 麒 麟 阁 上 识 [UNK] 侯 。 [UNK] [PAD] [PAD] [PAD] [PAD] [PAD] [PAD] [PAD] [PAD] [PAD] [PAD] [PAD] [PAD]\n",
      "x_ALLU:王 孝 伯 言 : [UNK] 名 士 不 必 须 奇 才 。 但 使 常 得 无 事 , 痛 饮 酒 , 熟 读 《 离\n",
      "y_pred:[0.45370534]\n",
      "y_true:0\n",
      "----------\n",
      "x_seq:请 问 汉 家 功 第 一 , 麒 麟 阁 上 识 [UNK] 侯 。 [UNK] [PAD] [PAD] [PAD] [PAD] [PAD] [PAD] [PAD] [PAD] [PAD] [PAD] [PAD] [PAD]\n",
      "x_ALLU:文 帝 受 禅 , 朝 臣 三 公 已 下 并 受 爵 位 ; 歆 以 形 色 忤 时 , 徙 为 司 徒 , 而\n",
      "y_pred:[0.5573156]\n",
      "y_true:0\n",
      "----------\n",
      "x_seq:请 问 汉 家 功 第 一 , 麒 麟 阁 上 识 [UNK] 侯 。 [UNK] [PAD] [PAD] [PAD] [PAD] [PAD] [PAD] [PAD] [PAD] [PAD] [PAD] [PAD] [PAD]\n",
      "x_ALLU:蔡 邕 有 书 近 万 卷 , 汉 末 年 载 数 车 与 王 粲 。 [UNK] [PAD] [PAD] [PAD] [PAD] [PAD] [PAD] [PAD] [PAD] [PAD] [PAD]\n",
      "y_pred:[0.88817745]\n",
      "y_true:0\n",
      "----------\n",
      "x_seq:请 问 汉 家 功 第 一 , 麒 麟 阁 上 识 [UNK] 侯 。 [UNK] [PAD] [PAD] [PAD] [PAD] [PAD] [PAD] [PAD] [PAD] [PAD] [PAD] [PAD] [PAD]\n",
      "x_ALLU:门 楼 上 有 铜 龙 , 若 白 鹤 、 飞 廉 之 为 名 也 。 [UNK] [PAD] [PAD] [PAD] [PAD] [PAD] [PAD] [PAD] [PAD] [PAD] [PAD]\n",
      "y_pred:[0.6877812]\n",
      "y_true:0\n",
      "----------\n",
      "x_seq:而 笑 独 醒 者 , 临 流 多 苦 辛 。 [UNK] [PAD] [PAD] [PAD] [PAD] [PAD] [PAD] [PAD] [PAD] [PAD] [PAD] [PAD] [PAD] [PAD] [PAD] [PAD] [PAD]\n",
      "x_ALLU:屈 原 既 放 , 游 于 江 潭 , 行 吟 泽 畔 , 颜 色 憔 悴 , 形 容 枯 槁 。 渔 父 见 而\n",
      "y_pred:[0.95565975]\n",
      "y_true:1\n",
      "----------\n",
      "x_seq:而 笑 独 醒 者 , 临 流 多 苦 辛 。 [UNK] [PAD] [PAD] [PAD] [PAD] [PAD] [PAD] [PAD] [PAD] [PAD] [PAD] [PAD] [PAD] [PAD] [PAD] [PAD] [PAD]\n",
      "x_ALLU:世 言 荆 轲 , 其 称 太 子 丹 之 命 , [UNK] 天 雨 粟 , 马 生 角 [UNK] 也 , 太 过 。 [UNK] [PAD]\n",
      "y_pred:[0.43775284]\n",
      "y_true:0\n",
      "----------\n",
      "x_seq:而 笑 独 醒 者 , 临 流 多 苦 辛 。 [UNK] [PAD] [PAD] [PAD] [PAD] [PAD] [PAD] [PAD] [PAD] [PAD] [PAD] [PAD] [PAD] [PAD] [PAD] [PAD] [PAD]\n",
      "x_ALLU:汉 帝 相 传 以 秦 王 子 婴 所 奉 白 玉 玺 、 高 帝 斩 白 蛇 剑 。 剑 上 有 七 彩 珠 、\n",
      "y_pred:[0.71477234]\n",
      "y_true:0\n",
      "----------\n",
      "x_seq:而 笑 独 醒 者 , 临 流 多 苦 辛 。 [UNK] [PAD] [PAD] [PAD] [PAD] [PAD] [PAD] [PAD] [PAD] [PAD] [PAD] [PAD] [PAD] [PAD] [PAD] [PAD] [PAD]\n",
      "x_ALLU:笃 好 儒 学 , 兼 占 候 方 术 。 [UNK] [UNK] 作 内 书 二 十 二 篇 , 又 《 中 篇 》 八 章 ,\n",
      "y_pred:[0.45784786]\n",
      "y_true:0\n",
      "----------\n",
      "END:**************************************************\n",
      "array([[0.865597  , 0.32997584, 0.48716894, 0.78513896, 0.63330144,\n",
      "        0.8515518 , 0.5631391 , 0.29501453, 0.5802088 , 0.68419486],\n",
      "       [0.42863992, 0.34753895, 0.49149442, 0.7895918 , 0.42838562,\n",
      "        0.5074697 , 0.76882434, 0.2508096 , 0.48936874, 0.2840503 ],\n",
      "       [0.28295004, 0.29429612, 0.33511543, 0.28954324, 0.4642308 ,\n",
      "        0.8521397 , 0.33792135, 0.7905319 , 0.6907348 , 0.36510873],\n",
      "       [0.37040198, 0.8673109 , 0.25280714, 0.37252858, 0.8136596 ,\n",
      "        0.30984092, 0.36360356, 0.5000574 , 0.28405756, 0.29679286],\n",
      "       [0.38684502, 0.75007474, 0.32696658, 0.924984  , 0.53207785,\n",
      "        0.37035853, 0.5200169 , 0.34542814, 0.55896854, 0.36133188],\n",
      "       [0.46122903, 0.69946617, 0.7553241 , 0.5710313 , 0.62242466,\n",
      "        0.34456196, 0.45370534, 0.5573156 , 0.88817745, 0.6877812 ],\n",
      "       [0.95565975, 0.43775284, 0.71477234, 0.45784786, 0.5598658 ,\n",
      "        0.2795807 , 0.28884393, 0.6853616 , 0.3729844 , 0.60912466],\n",
      "       [0.5685217 , 0.51661146, 0.4949992 , 0.44924128, 0.35276136,\n",
      "        0.60543114, 0.81852996, 0.31386697, 0.44834083, 0.66216016],\n",
      "       [0.35230657, 0.6795584 , 0.29415098, 0.29091454, 0.25293928,\n",
      "        0.82431376, 0.52232146, 0.92585933, 0.4472023 , 0.38274485],\n",
      "       [0.91842353, 0.30845016, 0.6522389 , 0.404985  , 0.43816504,\n",
      "        0.4095942 , 0.624683  , 0.47492015, 0.5692277 , 0.25483048]],\n",
      "      dtype=float32)\n",
      "array([0, 5, 3, 9, 4, 8, 6, 2, 1, 7])\n",
      "[1, 0, 0, 0, 0, 0, 0, 0, 0, 0]\n",
      "array([3, 6, 5, 2, 8, 0, 4, 1, 9, 7])\n",
      "[0, 0, 0, 0, 0, 1, 0, 0, 0, 0]\n",
      "array([5, 7, 8, 4, 9, 6, 2, 1, 3, 0])\n",
      "[0, 0, 0, 0, 0, 0, 0, 0, 0, 1]\n",
      "array([1, 4, 7, 3, 0, 6, 5, 9, 8, 2])\n",
      "[0, 0, 0, 0, 1, 0, 0, 0, 0, 0]\n",
      "array([3, 1, 8, 4, 6, 0, 5, 9, 7, 2])\n",
      "[0, 0, 0, 0, 0, 1, 0, 0, 0, 0]\n",
      "array([8, 2, 1, 9, 4, 3, 7, 0, 6, 5])\n",
      "[0, 0, 0, 0, 0, 0, 0, 1, 0, 0]\n",
      "array([0, 2, 7, 9, 4, 3, 1, 8, 6, 5])\n",
      "[1, 0, 0, 0, 0, 0, 0, 0, 0, 0]\n",
      "array([6, 9, 5, 0, 1, 2, 3, 8, 4, 7])\n",
      "[0, 0, 0, 1, 0, 0, 0, 0, 0, 0]\n",
      "array([7, 5, 1, 6, 8, 9, 0, 2, 3, 4])\n",
      "[0, 0, 0, 0, 0, 0, 1, 0, 0, 0]\n",
      "array([0, 2, 6, 8, 7, 4, 5, 3, 1, 9])\n",
      "[1, 0, 0, 0, 0, 0, 0, 0, 0, 0]\n",
      "\n",
      "----------------------------------ALLU_SOURCE PAIRMATCH METRICS -----------------------------------\n",
      "\n",
      "epoch:PAIRMATCH AVG_RANKING MRR: 0.4970\n",
      "\n",
      "----------------------------------ALLU_SOURCE END ----------------------------------\n"
     ]
    },
    {
     "name": "stderr",
     "output_type": "stream",
     "text": [
      "I:BASE TASK:[base_task.:270]:Task ALLU_SOURCE:\n",
      "I:BASE TASK:[base_task.:271]:\t319 training batches\n",
      "I:BASE TASK:[base_task.:272]:\t57 validation batches\n",
      "I:BASE TASK:[base_task.:273]:\t469 test batches\n",
      "I:BERT EMBEDDING:[bert_embed:105]:seq_len:30\n",
      "I:BERT EMBEDDING:[bert_embed:105]:seq_len:30\n",
      "I:AHMTL MODEL:[AHMTL.py:126]:Multi-Task Learning Model has been instantiated.\n",
      "I:CUR_SPLIT:1:[sampler_mu: 92]:Set up ready. Begining training/validation.\n",
      "I:BASE-MODEL:[base_model:133]:NER's model_dir is ./model_ckpt/2020-02-05-02_23_48/1/NER-Naive_CRF_Model\n",
      "I:BASE-MODEL:[base_model:232]:[NER]:train info:Train on 14684 samples, validate on 2592 samples\n",
      "I:BASE-MODEL:[base_model:133]:ALLU_SOURCE's model_dir is ./model_ckpt/2020-02-05-02_23_48/1/ALLU_SOURCE-NaiveDenseModel\n",
      "I:BASE-MODEL:[base_model:232]:[ALLU_SOURCE]:train info:Train on 20400 samples, validate on 3600 samples\n"
     ]
    },
    {
     "name": "stdout",
     "output_type": "stream",
     "text": [
      "Epoch 1/50\n",
      "549/549 [==============================] - 268s 489ms/step - task_name:     NER     - loss: 5.8559 - accuracy: 0.8011 - val_loss: 11.9975 - val_accuracy: 0.8195\n",
      "549/549 [==============================] - 268s 489ms/step - task_name: ALLU_SOURCE - loss: 0.7424 - accuracy: 0.5234 - val_loss: 0.7026 - val_accuracy: 0.5079 \n"
     ]
    },
    {
     "name": "stderr",
     "output_type": "stream",
     "text": [
      "I:CUR_SPLIT:1:[sampler_mu:139]:----------------------------------------------------------------------------------------------------\n"
     ]
    },
    {
     "name": "stdout",
     "output_type": "stream",
     "text": [
      "Epoch 2/50\n",
      "549/549 [==============================] - 186s 340ms/step - task_name:     NER     - loss: 4.3813 - accuracy: 0.8160 - val_loss: 10.9246 - val_accuracy: 0.8232\n",
      "549/549 [==============================] - 186s 340ms/step - task_name: ALLU_SOURCE - loss: 0.7258 - accuracy: 0.5046 - val_loss: 0.7031 - val_accuracy: 0.4992 \n"
     ]
    },
    {
     "name": "stderr",
     "output_type": "stream",
     "text": [
      "I:CUR_SPLIT:1:[sampler_mu:139]:----------------------------------------------------------------------------------------------------\n"
     ]
    },
    {
     "name": "stdout",
     "output_type": "stream",
     "text": [
      "Epoch 3/50\n",
      "549/549 [==============================] - 180s 329ms/step - task_name:     NER     - loss: 3.8986 - accuracy: 0.8224 - val_loss: 10.1905 - val_accuracy: 0.8243\n",
      "549/549 [==============================] - 180s 329ms/step - task_name: ALLU_SOURCE - loss: 0.7080 - accuracy: 0.5034 - val_loss: 0.7029 - val_accuracy: 0.4992 \n"
     ]
    },
    {
     "name": "stderr",
     "output_type": "stream",
     "text": [
      "I:CUR_SPLIT:1:[sampler_mu:139]:----------------------------------------------------------------------------------------------------\n"
     ]
    },
    {
     "name": "stdout",
     "output_type": "stream",
     "text": [
      "Epoch 4/50\n",
      "549/549 [==============================] - 177s 322ms/step - task_name:     NER     - loss: 3.8588 - accuracy: 0.8230 - val_loss: 9.3762 - val_accuracy: 0.8211\n",
      "549/549 [==============================] - 177s 322ms/step - task_name: ALLU_SOURCE - loss: 0.6645 - accuracy: 0.5043 - val_loss: 0.7027 - val_accuracy: 0.4953\n"
     ]
    },
    {
     "name": "stderr",
     "output_type": "stream",
     "text": [
      "I:CUR_SPLIT:1:[sampler_mu:139]:----------------------------------------------------------------------------------------------------\n"
     ]
    },
    {
     "name": "stdout",
     "output_type": "stream",
     "text": [
      "Epoch 5/50\n",
      "549/549 [==============================] - 176s 321ms/step - task_name:     NER     - loss: 3.1358 - accuracy: 0.8242 - val_loss: 9.1086 - val_accuracy: 0.8230\n",
      "549/549 [==============================] - 176s 321ms/step - task_name: ALLU_SOURCE - loss: 0.7233 - accuracy: 0.4983 - val_loss: 0.7029 - val_accuracy: 0.4992\n"
     ]
    },
    {
     "name": "stderr",
     "output_type": "stream",
     "text": [
      "I:CUR_SPLIT:1:[sampler_mu:139]:----------------------------------------------------------------------------------------------------\n"
     ]
    },
    {
     "name": "stdout",
     "output_type": "stream",
     "text": [
      "Epoch 6/50\n",
      "549/549 [==============================] - 172s 313ms/step - task_name:     NER     - loss: 3.0799 - accuracy: 0.8267 - val_loss: 8.7742 - val_accuracy: 0.8218\n",
      "549/549 [==============================] - 172s 313ms/step - task_name: ALLU_SOURCE - loss: 0.6991 - accuracy: 0.4996 - val_loss: 0.7029 - val_accuracy: 0.4992\n"
     ]
    },
    {
     "name": "stderr",
     "output_type": "stream",
     "text": [
      "I:CUR_SPLIT:1:[sampler_mu:139]:----------------------------------------------------------------------------------------------------\n"
     ]
    },
    {
     "name": "stdout",
     "output_type": "stream",
     "text": [
      "Epoch 7/50\n",
      "548/549 [============================>.] - ETA: 0s - task_name: ALLU_SOURCE - loss: 0.6981 - accuracy: 0.4962\n",
      "Epoch 00007: ReduceLROnPlateau reducing learning rate to 0.0007000000332482159.\n",
      "549/549 [==============================] - 170s 310ms/step - task_name:     NER     - loss: 2.8363 - accuracy: 0.8272 - val_loss: 8.5739 - val_accuracy: 0.8221\n",
      "549/549 [==============================] - 170s 310ms/step - task_name: ALLU_SOURCE - loss: 0.7123 - accuracy: 0.4964 - val_loss: 0.7028 - val_accuracy: 0.4992\n"
     ]
    },
    {
     "name": "stderr",
     "output_type": "stream",
     "text": [
      "I:CUR_SPLIT:1:[sampler_mu:139]:----------------------------------------------------------------------------------------------------\n"
     ]
    },
    {
     "name": "stdout",
     "output_type": "stream",
     "text": [
      "Epoch 8/50\n",
      "549/549 [==============================] - 184s 335ms/step - task_name:     NER     - loss: 2.8660 - accuracy: 0.8285 - val_loss: 8.2157 - val_accuracy: 0.8141\n",
      "549/549 [==============================] - 184s 335ms/step - task_name: ALLU_SOURCE - loss: 0.6812 - accuracy: 0.5050 - val_loss: 0.7027 - val_accuracy: 0.4992\n"
     ]
    },
    {
     "name": "stderr",
     "output_type": "stream",
     "text": [
      "I:CUR_SPLIT:1:[sampler_mu:139]:----------------------------------------------------------------------------------------------------\n"
     ]
    },
    {
     "name": "stdout",
     "output_type": "stream",
     "text": [
      "Epoch 9/50\n",
      "549/549 [==============================] - 67s 121ms/step - task_name:     NER     - loss: 3.1621 - accuracy: 0.7957 - val_loss: 8.4468 - val_accuracy: 0.8187\n"
     ]
    },
    {
     "name": "stderr",
     "output_type": "stream",
     "text": [
      "I:CUR_SPLIT:1:[sampler_mu:139]:----------------------------------------------------------------------------------------------------\n"
     ]
    },
    {
     "name": "stdout",
     "output_type": "stream",
     "text": [
      "Epoch 10/50\n",
      "548/549 [============================>.] - ETA: 0s - task_name:     NER     - loss: 2.6693 - accuracy: 0.8052\n",
      "Epoch 00010: ReduceLROnPlateau reducing learning rate to 0.0007000000332482159.\n",
      "549/549 [==============================] - 67s 122ms/step - task_name:     NER     - loss: 3.0105 - accuracy: 0.8052 - val_loss: 8.0604 - val_accuracy: 0.8177\n"
     ]
    },
    {
     "name": "stderr",
     "output_type": "stream",
     "text": [
      "I:CUR_SPLIT:1:[sampler_mu:139]:----------------------------------------------------------------------------------------------------\n"
     ]
    },
    {
     "name": "stdout",
     "output_type": "stream",
     "text": [
      "\n",
      "----------------------------------NER LABEL METRICS -----------------------------------\n",
      "\n",
      "epoch:labeling EPOCH accuracy 0.831988 precision: 0.473093, recall: 0.331867, f1: 0.390091\n",
      "\n",
      "           precision    recall  f1-score   support\n",
      "\n",
      "     ALLU     0.4736    0.3319    0.3903      4318\n",
      "\n",
      "micro avg     0.4731    0.3319    0.3901      4318\n",
      "macro avg     0.4736    0.3319    0.3903      4318\n",
      "\n",
      "----------------------------------NER END ----------------------------------\n",
      "train_example:**************************************************\n",
      "x_seq:青 鸟 更 不 来 , 麻 姑 断 书 信 。\n",
      "y_pred:B-ALLU I-ALLU O O O O O O O O O O\n",
      "y_true:B-ALLU I-ALLU O O O O O O O O O O\n",
      "----------\n",
      "x_seq:晞 阳 人 似 露 , 解 [UNK] 物 从 风 。\n",
      "y_pred:O O O O O O O O O O O O\n",
      "y_true:O O O O O O O O O O B-ALLU O\n",
      "----------\n",
      "x_seq:南 阳 葛 亮 为 友 朋 , 东 山 谢 安 作 邻 里 。\n",
      "y_pred:O O O O O O O O O O O O O O O O\n",
      "y_true:O O O O O O O O O O B-ALLU I-ALLU O O O O\n",
      "----------\n",
      "x_seq:长 年 愿 奉 西 王 母 , 近 侍 惭 无 东 朔 才 。\n",
      "y_pred:O O O O O O O O O O O O O O O O\n",
      "y_true:O O O O O B-ALLU I-ALLU I-ALLU I-ALLU I-ALLU I-ALLU I-ALLU I-ALLU I-ALLU O O\n",
      "----------\n",
      "x_seq:饮 子 频 通 汗 , 怀 君 想 报 珠 。\n",
      "y_pred:O O O O O O O O O B-ALLU I-ALLU O\n",
      "y_true:O O O O O O O O O B-ALLU I-ALLU O\n",
      "----------\n",
      "x_seq:列 射 三 侯 满 , 兴 师 七 步 旋 。\n",
      "y_pred:O O B-ALLU I-ALLU O O O O O O O O\n",
      "y_true:O O O O O O O O B-ALLU I-ALLU I-ALLU O\n",
      "----------\n",
      "x_seq:芙 蓉 王 俭 府 , 杨 柳 亚 夫 营 。\n",
      "y_pred:O O O O O O O O O O O O\n",
      "y_true:O O O O O O O O B-ALLU I-ALLU I-ALLU O\n",
      "----------\n",
      "x_seq:长 虹 吐 白 日 , 苍 卒 反 受 诛 。\n",
      "y_pred:B-ALLU I-ALLU I-ALLU I-ALLU I-ALLU O B-ALLU I-ALLU O O O O\n",
      "y_true:B-ALLU I-ALLU I-ALLU I-ALLU I-ALLU O O O O O O O\n",
      "----------\n",
      "x_seq:长 忆 山 阴 旧 会 时 , 王 家 兄 弟 尽 相 随 。\n",
      "y_pred:O O O O O O O O B-ALLU I-ALLU I-ALLU I-ALLU O O O O\n",
      "y_true:O O B-ALLU I-ALLU I-ALLU I-ALLU O O O O O O O O O O\n",
      "----------\n",
      "x_seq:陶 令 好 文 常 对 酒 , 相 招 那 惜 醉 为 眠 。\n",
      "y_pred:B-ALLU I-ALLU O O O O O O O O O O O O O O\n",
      "y_true:B-ALLU I-ALLU O O O O O O O O O O O O O O\n",
      "----------\n",
      "END:**************************************************\n",
      "test_example:**************************************************\n",
      "x_seq:身 犹 纳 履 误 , 情 为 覆 盆 伤 。\n",
      "y_pred:O O O O O O O O B-ALLU I-ALLU O O\n",
      "y_true:O O O O O O O O B-ALLU I-ALLU O O\n",
      "----------\n",
      "x_seq:吴 练 已 知 随 影 没 , 朔 风 犹 想 带 嘶 闻 。\n",
      "y_pred:O O O O O O O O O O O O O O O O\n",
      "y_true:B-ALLU I-ALLU O O O O O O O O O O O O O O\n",
      "----------\n",
      "x_seq:蟠 木 为 我 身 , 始 得 全 天 年 。\n",
      "y_pred:B-ALLU I-ALLU O O O O O O O O O O\n",
      "y_true:B-ALLU I-ALLU O O O O O O O O O O\n",
      "----------\n",
      "x_seq:处 处 汀 洲 有 芳 草 , 王 孙 [UNK] 肯 念 归 期 。\n",
      "y_pred:O O O O O O O O O O O O O O O O\n",
      "y_true:O O O O O O B-ALLU I-ALLU I-ALLU O O O O O O O\n",
      "----------\n",
      "x_seq:始 见 田 窦 相 移 夺 , 俄 闻 卫 霍 有 功 勋 。\n",
      "y_pred:O O O O O O O O O O B-ALLU I-ALLU O O O O\n",
      "y_true:O O B-ALLU I-ALLU I-ALLU I-ALLU I-ALLU O O O O O O O O O\n",
      "----------\n",
      "x_seq:空 夜 露 残 惊 堕 羽 , 辽 天 秋 晚 忆 归 程 。\n",
      "y_pred:O O O O O B-ALLU I-ALLU O O O O O O O O O\n",
      "y_true:O O O O O O O O B-ALLU O O O O O O O\n",
      "----------\n",
      "x_seq:潘 岳 叙 年 因 鬓 发 , 扬 雄 托 谏 在 文 章 。\n",
      "y_pred:O O O O O O O O O O O O O O O O\n",
      "y_true:O O O O O O O O B-ALLU I-ALLU O O O O O O\n",
      "----------\n",
      "x_seq:绛 帐 恩 如 昨 , 乌 衣 事 莫 寻 。\n",
      "y_pred:O O O O O O B-ALLU I-ALLU O O O O\n",
      "y_true:O O O O O O B-ALLU I-ALLU O O O O\n",
      "----------\n",
      "x_seq:朝 争 屈 原 草 , 庙 馁 若 敖 魂 。\n",
      "y_pred:O O O O O O O O O O O O\n",
      "y_true:O O O O O O O O B-ALLU I-ALLU I-ALLU O\n",
      "----------\n",
      "x_seq:取 [UNK] 弧 登 垒 , 以 骈 邻 翼 军 。\n",
      "y_pred:O B-ALLU I-ALLU O O O O O O O O O\n",
      "y_true:O B-ALLU I-ALLU O O O O O O O O O\n",
      "----------\n",
      "END:**************************************************\n"
     ]
    },
    {
     "name": "stderr",
     "output_type": "stream",
     "text": [
      "I:SAMPLE_TRAINER:[sampler_mu: 43]:cur_split_idx 1th END\n",
      "I:SAMPLE_TRAINER:[sampler_mu: 44]:****************************************************************************************************\n",
      "I:SAMPLE_TRAINER:[sampler_mu: 45]:****************************************************************************************************\n",
      "I:BASE TASK:[base_task.:270]:Task NER:\n",
      "I:BASE TASK:[base_task.:271]:\t230 training batches\n",
      "I:BASE TASK:[base_task.:272]:\t41 validation batches\n",
      "I:BASE TASK:[base_task.:273]:\t68 test batches\n"
     ]
    },
    {
     "name": "stdout",
     "output_type": "stream",
     "text": [
      "example:**************************************************\n",
      "x_seq:不 复 见 颜 鲍 , 系 舟 卧 荆 巫 。 [UNK] [PAD] [PAD] [PAD] [PAD] [PAD] [PAD] [PAD] [PAD] [PAD] [PAD] [PAD] [PAD] [PAD] [PAD] [PAD] [PAD]\n",
      "x_ALLU:其 源 出 于 陆 机 , 尚 巧 似 。 [UNK] [UNK] 汤 惠 休 曰 : [UNK] 谢 诗 如 芙 蓉 出 水 ; 颜 如\n",
      "y_pred:[0.4937557]\n",
      "y_true:1\n",
      "----------\n",
      "x_seq:不 复 见 颜 鲍 , 系 舟 卧 荆 巫 。 [UNK] [PAD] [PAD] [PAD] [PAD] [PAD] [PAD] [PAD] [PAD] [PAD] [PAD] [PAD] [PAD] [PAD] [PAD] [PAD] [PAD]\n",
      "x_ALLU:蔽 芾 , 小 貌 , 甘 棠 , 杜 也 。 [UNK] [PAD] [PAD] [PAD] [PAD] [PAD] [PAD] [PAD] [PAD] [PAD] [PAD] [PAD] [PAD] [PAD] [PAD] [PAD] [PAD]\n",
      "y_pred:[0.49375576]\n",
      "y_true:0\n",
      "----------\n",
      "x_seq:不 复 见 颜 鲍 , 系 舟 卧 荆 巫 。 [UNK] [PAD] [PAD] [PAD] [PAD] [PAD] [PAD] [PAD] [PAD] [PAD] [PAD] [PAD] [PAD] [PAD] [PAD] [PAD] [PAD]\n",
      "x_ALLU:蓟 子 训 者 , 齐 人 也 [UNK] [UNK] 三 百 余 年 , 颜 色 不 老 。 [UNK] [UNK] 生 曰 : [UNK] 欲 见 先\n",
      "y_pred:[0.4937557]\n",
      "y_true:0\n",
      "----------\n",
      "x_seq:不 复 见 颜 鲍 , 系 舟 卧 荆 巫 。 [UNK] [PAD] [PAD] [PAD] [PAD] [PAD] [PAD] [PAD] [PAD] [PAD] [PAD] [PAD] [PAD] [PAD] [PAD] [PAD] [PAD]\n",
      "x_ALLU:侃 性 纤 密 好 问 , 颇 类 赵 广 汉 。 尝 课 诸 营 种 柳 , 都 尉 夏 施 盗 官 柳 植 之\n",
      "y_pred:[0.49375576]\n",
      "y_true:0\n",
      "----------\n",
      "x_seq:不 复 见 颜 鲍 , 系 舟 卧 荆 巫 。 [UNK] [PAD] [PAD] [PAD] [PAD] [PAD] [PAD] [PAD] [PAD] [PAD] [PAD] [PAD] [PAD] [PAD] [PAD] [PAD] [PAD]\n",
      "x_ALLU:三 十 一 年 , 十 二 月 , 更 名 腊 曰 [UNK] 嘉 平 [UNK] 。 [UNK] [PAD] [PAD] [PAD] [PAD] [PAD] [PAD] [PAD] [PAD] [PAD] [PAD]\n",
      "y_pred:[0.4937557]\n",
      "y_true:0\n",
      "----------\n",
      "x_seq:不 复 见 颜 鲍 , 系 舟 卧 荆 巫 。 [UNK] [PAD] [PAD] [PAD] [PAD] [PAD] [PAD] [PAD] [PAD] [PAD] [PAD] [PAD] [PAD] [PAD] [PAD] [PAD] [PAD]\n",
      "x_ALLU:昆 仑 之 山 , 有 桐 柱 焉 , 其 高 入 天 , 所 谓 天 柱 也 。 [UNK] [UNK] 仙 人 九 府 治 之\n",
      "y_pred:[0.4937557]\n",
      "y_true:0\n",
      "----------\n",
      "x_seq:不 复 见 颜 鲍 , 系 舟 卧 荆 巫 。 [UNK] [PAD] [PAD] [PAD] [PAD] [PAD] [PAD] [PAD] [PAD] [PAD] [PAD] [PAD] [PAD] [PAD] [PAD] [PAD] [PAD]\n",
      "x_ALLU:颍 川 为 之 语 曰 : [UNK] 荀 氏 八 龙 , 慈 明 无 双 。 [UNK] [UNK] [PAD] [PAD] [PAD] [PAD] [PAD] [PAD] [PAD] [PAD] [PAD]\n",
      "y_pred:[0.49375576]\n",
      "y_true:0\n",
      "----------\n",
      "x_seq:不 复 见 颜 鲍 , 系 舟 卧 荆 巫 。 [UNK] [PAD] [PAD] [PAD] [PAD] [PAD] [PAD] [PAD] [PAD] [PAD] [PAD] [PAD] [PAD] [PAD] [PAD] [PAD] [PAD]\n",
      "x_ALLU:今 者 臣 来 , 见 人 于 太 行 , 方 北 面 而 持 其 驾 , 告 臣 曰 : [UNK] 我 欲 之 楚 。\n",
      "y_pred:[0.4937557]\n",
      "y_true:0\n",
      "----------\n",
      "x_seq:不 复 见 颜 鲍 , 系 舟 卧 荆 巫 。 [UNK] [PAD] [PAD] [PAD] [PAD] [PAD] [PAD] [PAD] [PAD] [PAD] [PAD] [PAD] [PAD] [PAD] [PAD] [PAD] [PAD]\n",
      "x_ALLU:老 子 有 客 徐 甲 , 少 赁 于 老 子 , 约 日 雇 百 钱 , 计 欠 甲 七 百 二 十 万 钱 。\n",
      "y_pred:[0.4937557]\n",
      "y_true:0\n",
      "----------\n",
      "x_seq:不 复 见 颜 鲍 , 系 舟 卧 荆 巫 。 [UNK] [PAD] [PAD] [PAD] [PAD] [PAD] [PAD] [PAD] [PAD] [PAD] [PAD] [PAD] [PAD] [PAD] [PAD] [PAD] [PAD]\n",
      "x_ALLU:图 鬼 神 百 物 之 形 , 使 民 逆 备 之 。 [UNK] [PAD] [PAD] [PAD] [PAD] [PAD] [PAD] [PAD] [PAD] [PAD] [PAD] [PAD] [PAD] [PAD] [PAD]\n",
      "y_pred:[0.49375576]\n",
      "y_true:0\n",
      "----------\n",
      "x_seq:珠 履 风 流 忆 富 春 , 三 千 [UNK] 鹭 让 精 神 。 [UNK] [PAD] [PAD] [PAD] [PAD] [PAD] [PAD] [PAD] [PAD] [PAD] [PAD] [PAD] [PAD]\n",
      "x_ALLU:振 鹭 于 飞 , 于 彼 西 [UNK] 。 我 客 戾 止 , 亦 有 斯 容 。 [UNK] [PAD] [PAD] [PAD] [PAD] [PAD] [PAD] [PAD] [PAD]\n",
      "y_pred:[0.49827975]\n",
      "y_true:1\n",
      "----------\n",
      "x_seq:珠 履 风 流 忆 富 春 , 三 千 [UNK] 鹭 让 精 神 。 [UNK] [PAD] [PAD] [PAD] [PAD] [PAD] [PAD] [PAD] [PAD] [PAD] [PAD] [PAD] [PAD]\n",
      "x_ALLU:匍 匐 , 言 尽 力 也 。 [UNK] [PAD] [PAD] [PAD] [PAD] [PAD] [PAD] [PAD] [PAD] [PAD] [PAD] [PAD] [PAD] [PAD] [PAD] [PAD] [PAD] [PAD] [PAD] [PAD] [PAD]\n",
      "y_pred:[0.49827972]\n",
      "y_true:0\n",
      "----------\n",
      "x_seq:珠 履 风 流 忆 富 春 , 三 千 [UNK] 鹭 让 精 神 。 [UNK] [PAD] [PAD] [PAD] [PAD] [PAD] [PAD] [PAD] [PAD] [PAD] [PAD] [PAD] [PAD]\n",
      "x_ALLU:河 上 姹 女 , 灵 而 最 神 , 得 火 则 飞 , 不 见 埃 尘 。 [UNK] [PAD] [PAD] [PAD] [PAD] [PAD] [PAD] [PAD] [PAD]\n",
      "y_pred:[0.49827978]\n",
      "y_true:0\n",
      "----------\n",
      "x_seq:珠 履 风 流 忆 富 春 , 三 千 [UNK] 鹭 让 精 神 。 [UNK] [PAD] [PAD] [PAD] [PAD] [PAD] [PAD] [PAD] [PAD] [PAD] [PAD] [PAD] [PAD]\n",
      "x_ALLU:子 曰 : [UNK] 无 为 而 治 者 其 舜 也 与 ? 夫 何 为 哉 ? 恭 己 正 南 面 而 已 矣 。 [UNK]\n",
      "y_pred:[0.49827975]\n",
      "y_true:0\n",
      "----------\n",
      "x_seq:珠 履 风 流 忆 富 春 , 三 千 [UNK] 鹭 让 精 神 。 [UNK] [PAD] [PAD] [PAD] [PAD] [PAD] [PAD] [PAD] [PAD] [PAD] [PAD] [PAD] [PAD]\n",
      "x_ALLU:温 室 殿 , 按 《 汉 宫 阙 疏 》 , [UNK] 在 长 乐 宫 [UNK] , 又 《 汉 宫 阁 记 》 在 [UNK] 未\n",
      "y_pred:[0.49827978]\n",
      "y_true:0\n",
      "----------\n",
      "x_seq:珠 履 风 流 忆 富 春 , 三 千 [UNK] 鹭 让 精 神 。 [UNK] [PAD] [PAD] [PAD] [PAD] [PAD] [PAD] [PAD] [PAD] [PAD] [PAD] [PAD] [PAD]\n",
      "x_ALLU:孔 子 曰 : [UNK] 士 使 之 射 , 不 能 则 辞 以 疾 , 悬 弧 之 义 也 。 [UNK] [PAD] [PAD] [PAD] [PAD] [PAD]\n",
      "y_pred:[0.49827975]\n",
      "y_true:0\n",
      "----------\n",
      "x_seq:珠 履 风 流 忆 富 春 , 三 千 [UNK] 鹭 让 精 神 。 [UNK] [PAD] [PAD] [PAD] [PAD] [PAD] [PAD] [PAD] [PAD] [PAD] [PAD] [PAD] [PAD]\n",
      "x_ALLU:初 九 , 拔 茅 茹 , 以 其 汇 , 征 吉 。 [UNK] [PAD] [PAD] [PAD] [PAD] [PAD] [PAD] [PAD] [PAD] [PAD] [PAD] [PAD] [PAD] [PAD] [PAD]\n",
      "y_pred:[0.49827978]\n",
      "y_true:0\n",
      "----------\n",
      "x_seq:珠 履 风 流 忆 富 春 , 三 千 [UNK] 鹭 让 精 神 。 [UNK] [PAD] [PAD] [PAD] [PAD] [PAD] [PAD] [PAD] [PAD] [PAD] [PAD] [PAD] [PAD]\n",
      "x_ALLU:王 右 军 [UNK] 夫 人 谓 二 弟 司 空 、 中 郎 曰 : [UNK] 王 家 见 二 谢 , 倾 筐 倒 [UNK] ; 见\n",
      "y_pred:[0.49827978]\n",
      "y_true:0\n",
      "----------\n",
      "x_seq:珠 履 风 流 忆 富 春 , 三 千 [UNK] 鹭 让 精 神 。 [UNK] [PAD] [PAD] [PAD] [PAD] [PAD] [PAD] [PAD] [PAD] [PAD] [PAD] [PAD] [PAD]\n",
      "x_ALLU:王 [UNK] 《 文 志 》 曰 : [UNK] 芝 [UNK] [UNK] 尤 好 草 书 , 学 崔 、 杜 之 法 , 家 之 衣 帛 ,\n",
      "y_pred:[0.49827978]\n",
      "y_true:0\n",
      "----------\n",
      "x_seq:珠 履 风 流 忆 富 春 , 三 千 [UNK] 鹭 让 精 神 。 [UNK] [PAD] [PAD] [PAD] [PAD] [PAD] [PAD] [PAD] [PAD] [PAD] [PAD] [PAD] [PAD]\n",
      "x_ALLU:初 , 祖 父 陵 , 顺 帝 时 客 于 蜀 , 学 道 鹤 鸣 山 中 , 造 作 符 书 , 以 惑 百 姓\n",
      "y_pred:[0.4982798]\n",
      "y_true:0\n",
      "----------\n",
      "x_seq:已 得 嵇 康 趣 , 逢 迎 事 每 阑 。 [UNK] [PAD] [PAD] [PAD] [PAD] [PAD] [PAD] [PAD] [PAD] [PAD] [PAD] [PAD] [PAD] [PAD] [PAD] [PAD] [PAD]\n",
      "x_ALLU:嵇 康 神 交 者 唯 陈 留 阮 籍 、 河 内 山 涛 , 豫 其 流 者 河 内 向 秀 、 沛 国 刘 伶\n",
      "y_pred:[0.49494532]\n",
      "y_true:1\n",
      "----------\n",
      "x_seq:已 得 嵇 康 趣 , 逢 迎 事 每 阑 。 [UNK] [PAD] [PAD] [PAD] [PAD] [PAD] [PAD] [PAD] [PAD] [PAD] [PAD] [PAD] [PAD] [PAD] [PAD] [PAD] [PAD]\n",
      "x_ALLU:又 命 侍 女 更 索 桃 果 , 须 臾 , 以 玉 盘 盛 仙 桃 七 颗 , 大 如 鸭 卵 , 形 圆 青\n",
      "y_pred:[0.4949453]\n",
      "y_true:0\n",
      "----------\n",
      "x_seq:已 得 嵇 康 趣 , 逢 迎 事 每 阑 。 [UNK] [PAD] [PAD] [PAD] [PAD] [PAD] [PAD] [PAD] [PAD] [PAD] [PAD] [PAD] [PAD] [PAD] [PAD] [PAD] [PAD]\n",
      "x_ALLU:假 令 有 遗 德 于 板 筑 之 下 , 有 隐 才 于 屠 钓 之 间 。 [UNK] [PAD] [PAD] [PAD] [PAD] [PAD] [PAD] [PAD] [PAD]\n",
      "y_pred:[0.4949453]\n",
      "y_true:0\n",
      "----------\n",
      "x_seq:已 得 嵇 康 趣 , 逢 迎 事 每 阑 。 [UNK] [PAD] [PAD] [PAD] [PAD] [PAD] [PAD] [PAD] [PAD] [PAD] [PAD] [PAD] [PAD] [PAD] [PAD] [PAD] [PAD]\n",
      "x_ALLU:陈 胜 者 , 阳 城 人 也 , 字 涉 。 陈 涉 乃 立 为 王 , 号 为 张 楚 。 陈 王 之 汝 阴\n",
      "y_pred:[0.49494526]\n",
      "y_true:0\n",
      "----------\n",
      "x_seq:已 得 嵇 康 趣 , 逢 迎 事 每 阑 。 [UNK] [PAD] [PAD] [PAD] [PAD] [PAD] [PAD] [PAD] [PAD] [PAD] [PAD] [PAD] [PAD] [PAD] [PAD] [PAD] [PAD]\n",
      "x_ALLU:蓬 生 麻 中 , 不 扶 而 直 。 [UNK] [PAD] [PAD] [PAD] [PAD] [PAD] [PAD] [PAD] [PAD] [PAD] [PAD] [PAD] [PAD] [PAD] [PAD] [PAD] [PAD] [PAD] [PAD]\n",
      "y_pred:[0.4949453]\n",
      "y_true:0\n",
      "----------\n",
      "x_seq:已 得 嵇 康 趣 , 逢 迎 事 每 阑 。 [UNK] [PAD] [PAD] [PAD] [PAD] [PAD] [PAD] [PAD] [PAD] [PAD] [PAD] [PAD] [PAD] [PAD] [PAD] [PAD] [PAD]\n",
      "x_ALLU:公 孙 丑 问 曰 : [UNK] 夫 子 当 路 于 齐 , 管 仲 、 晏 子 之 功 可 复 许 乎 ? [UNK] [UNK] [PAD]\n",
      "y_pred:[0.4949453]\n",
      "y_true:0\n",
      "----------\n",
      "x_seq:已 得 嵇 康 趣 , 逢 迎 事 每 阑 。 [UNK] [PAD] [PAD] [PAD] [PAD] [PAD] [PAD] [PAD] [PAD] [PAD] [PAD] [PAD] [PAD] [PAD] [PAD] [PAD] [PAD]\n",
      "x_ALLU:燕 昭 王 收 破 燕 后 即 位 , 卑 身 厚 币 , 以 招 贤 者 , 欲 将 以 报 仇 。 故 往 见\n",
      "y_pred:[0.49494523]\n",
      "y_true:0\n",
      "----------\n",
      "x_seq:已 得 嵇 康 趣 , 逢 迎 事 每 阑 。 [UNK] [PAD] [PAD] [PAD] [PAD] [PAD] [PAD] [PAD] [PAD] [PAD] [PAD] [PAD] [PAD] [PAD] [PAD] [PAD] [PAD]\n",
      "x_ALLU:戴 逵 字 安 道 , 谯 国 人 也 。 少 博 学 , [UNK] [UNK] 性 不 乐 当 世 , 常 以 琴 书 自 娱\n",
      "y_pred:[0.49494532]\n",
      "y_true:0\n",
      "----------\n",
      "x_seq:已 得 嵇 康 趣 , 逢 迎 事 每 阑 。 [UNK] [PAD] [PAD] [PAD] [PAD] [PAD] [PAD] [PAD] [PAD] [PAD] [PAD] [PAD] [PAD] [PAD] [PAD] [PAD] [PAD]\n",
      "x_ALLU:蔡 昭 侯 为 两 佩 与 两 裘 以 如 楚 , 献 一 佩 一 裘 于 昭 王 。 昭 王 服 之 , 以 享\n",
      "y_pred:[0.49494523]\n",
      "y_true:0\n",
      "----------\n",
      "x_seq:已 得 嵇 康 趣 , 逢 迎 事 每 阑 。 [UNK] [PAD] [PAD] [PAD] [PAD] [PAD] [PAD] [PAD] [PAD] [PAD] [PAD] [PAD] [PAD] [PAD] [PAD] [PAD] [PAD]\n",
      "x_ALLU:南 阳 郦 县 山 中 有 甘 谷 水 , 谷 水 所 以 甘 者 , 谷 上 左 右 皆 生 甘 菊 , 菊 花\n",
      "y_pred:[0.4949453]\n",
      "y_true:0\n",
      "----------\n",
      "x_seq:赤 伏 起 颓 运 , 卧 龙 得 孔 明 。 [UNK] [PAD] [PAD] [PAD] [PAD] [PAD] [PAD] [PAD] [PAD] [PAD] [PAD] [PAD] [PAD] [PAD] [PAD] [PAD] [PAD]\n",
      "x_ALLU:行 至 [UNK] , 光 武 先 在 长 安 时 同 舍 生 [UNK] 华 自 关 中 奉 《 赤 伏 符 》 曰 : [UNK] 刘\n",
      "y_pred:[0.49573353]\n",
      "y_true:1\n",
      "----------\n",
      "x_seq:赤 伏 起 颓 运 , 卧 龙 得 孔 明 。 [UNK] [PAD] [PAD] [PAD] [PAD] [PAD] [PAD] [PAD] [PAD] [PAD] [PAD] [PAD] [PAD] [PAD] [PAD] [PAD] [PAD]\n",
      "x_ALLU:赵 简 子 有 臣 曰 周 舍 [UNK] [UNK] 。 周 舍 对 曰 : [UNK] 愿 为 谔 谔 之 臣 [UNK] [UNK] 司 君 之 过\n",
      "y_pred:[0.49573353]\n",
      "y_true:0\n",
      "----------\n",
      "x_seq:赤 伏 起 颓 运 , 卧 龙 得 孔 明 。 [UNK] [PAD] [PAD] [PAD] [PAD] [PAD] [PAD] [PAD] [PAD] [PAD] [PAD] [PAD] [PAD] [PAD] [PAD] [PAD] [PAD]\n",
      "x_ALLU:边 让 字 文 礼 , 陈 留 浚 仪 人 也 。 少 辩 博 , 能 属 文 [UNK] [UNK] 议 郎 蔡 邕 深 敬 之\n",
      "y_pred:[0.4957336]\n",
      "y_true:0\n",
      "----------\n",
      "x_seq:赤 伏 起 颓 运 , 卧 龙 得 孔 明 。 [UNK] [PAD] [PAD] [PAD] [PAD] [PAD] [PAD] [PAD] [PAD] [PAD] [PAD] [PAD] [PAD] [PAD] [PAD] [PAD] [PAD]\n",
      "x_ALLU:夫 骥 之 齿 至 矣 , 服 盐 车 而 上 太 行 。 蹄 申 膝 折 , 尾 湛 [UNK] 溃 , 漉 汁 洒 地\n",
      "y_pred:[0.4957335]\n",
      "y_true:0\n",
      "----------\n",
      "x_seq:赤 伏 起 颓 运 , 卧 龙 得 孔 明 。 [UNK] [PAD] [PAD] [PAD] [PAD] [PAD] [PAD] [PAD] [PAD] [PAD] [PAD] [PAD] [PAD] [PAD] [PAD] [PAD] [PAD]\n",
      "x_ALLU:狐 鹿 姑 单 于 立 , 以 左 大 将 为 左 贤 王 , 数 年 病 死 , 其 子 先 贤 掸 不 得 代\n",
      "y_pred:[0.4957335]\n",
      "y_true:0\n",
      "----------\n",
      "x_seq:赤 伏 起 颓 运 , 卧 龙 得 孔 明 。 [UNK] [PAD] [PAD] [PAD] [PAD] [PAD] [PAD] [PAD] [PAD] [PAD] [PAD] [PAD] [PAD] [PAD] [PAD] [PAD] [PAD]\n",
      "x_ALLU:日 南 比 景 县 有 火 鼠 , 取 毛 为 布 , 烧 之 而 精 , 名 火 浣 布 。 [UNK] [PAD] [PAD] [PAD] [PAD]\n",
      "y_pred:[0.49573353]\n",
      "y_true:0\n",
      "----------\n",
      "x_seq:赤 伏 起 颓 运 , 卧 龙 得 孔 明 。 [UNK] [PAD] [PAD] [PAD] [PAD] [PAD] [PAD] [PAD] [PAD] [PAD] [PAD] [PAD] [PAD] [PAD] [PAD] [PAD] [PAD]\n",
      "x_ALLU:司 马 相 如 者 , 蜀 郡 成 都 人 也 , 字 长 卿 。 少 时 好 读 书 , 学 击 剑 , 故 其\n",
      "y_pred:[0.49573353]\n",
      "y_true:0\n",
      "----------\n",
      "x_seq:赤 伏 起 颓 运 , 卧 龙 得 孔 明 。 [UNK] [PAD] [PAD] [PAD] [PAD] [PAD] [PAD] [PAD] [PAD] [PAD] [PAD] [PAD] [PAD] [PAD] [PAD] [PAD] [PAD]\n",
      "x_ALLU:将 军 李 蔡 , 成 纪 人 也 。 事 孝 文 帝 、 景 帝 、 武 帝 。 以 轻 车 将 军 从 大 将\n",
      "y_pred:[0.4957335]\n",
      "y_true:0\n",
      "----------\n",
      "x_seq:赤 伏 起 颓 运 , 卧 龙 得 孔 明 。 [UNK] [PAD] [PAD] [PAD] [PAD] [PAD] [PAD] [PAD] [PAD] [PAD] [PAD] [PAD] [PAD] [PAD] [PAD] [PAD] [PAD]\n",
      "x_ALLU:安 国 入 见 王 而 泣 曰 : [UNK] 主 辱 者 臣 死 。 大 王 无 良 臣 , 故 纷 纷 至 此 。 今\n",
      "y_pred:[0.49573353]\n",
      "y_true:0\n",
      "----------\n",
      "x_seq:赤 伏 起 颓 运 , 卧 龙 得 孔 明 。 [UNK] [PAD] [PAD] [PAD] [PAD] [PAD] [PAD] [PAD] [PAD] [PAD] [PAD] [PAD] [PAD] [PAD] [PAD] [PAD] [PAD]\n",
      "x_ALLU:孙 钟 , 富 春 人 , 坚 父 也 。 与 母 居 , 至 孝 笃 性 , 种 瓜 为 业 。 忽 有 三 年\n",
      "y_pred:[0.49573353]\n",
      "y_true:0\n",
      "----------\n",
      "x_seq:常 时 载 笔 窥 金 匮 , 暇 日 登 楼 到 石 渠 。 [UNK] [PAD] [PAD] [PAD] [PAD] [PAD] [PAD] [PAD] [PAD] [PAD] [PAD] [PAD] [PAD]\n",
      "x_ALLU:石 渠 阁 , 萧 何 造 , 其 下 石 为 渠 以 导 水 , 若 今 御 沟 , 因 为 阁 名 。 所 藏\n",
      "y_pred:[0.49754426]\n",
      "y_true:1\n",
      "----------\n",
      "x_seq:常 时 载 笔 窥 金 匮 , 暇 日 登 楼 到 石 渠 。 [UNK] [PAD] [PAD] [PAD] [PAD] [PAD] [PAD] [PAD] [PAD] [PAD] [PAD] [PAD] [PAD]\n",
      "x_ALLU:日 居 月 诸 , 胡 迭 而 微 。 [UNK] [PAD] [PAD] [PAD] [PAD] [PAD] [PAD] [PAD] [PAD] [PAD] [PAD] [PAD] [PAD] [PAD] [PAD] [PAD] [PAD] [PAD] [PAD]\n",
      "y_pred:[0.49754426]\n",
      "y_true:0\n",
      "----------\n",
      "x_seq:常 时 载 笔 窥 金 匮 , 暇 日 登 楼 到 石 渠 。 [UNK] [PAD] [PAD] [PAD] [PAD] [PAD] [PAD] [PAD] [PAD] [PAD] [PAD] [PAD] [PAD]\n",
      "x_ALLU:冀 , 晋 邑 。 [UNK] [PAD] [PAD] [PAD] [PAD] [PAD] [PAD] [PAD] [PAD] [PAD] [PAD] [PAD] [PAD] [PAD] [PAD] [PAD] [PAD] [PAD] [PAD] [PAD] [PAD] [PAD] [PAD] [PAD]\n",
      "y_pred:[0.4975443]\n",
      "y_true:0\n",
      "----------\n",
      "x_seq:常 时 载 笔 窥 金 匮 , 暇 日 登 楼 到 石 渠 。 [UNK] [PAD] [PAD] [PAD] [PAD] [PAD] [PAD] [PAD] [PAD] [PAD] [PAD] [PAD] [PAD]\n",
      "x_ALLU:伐 木 丁 丁 , 鸟 鸣 嘤 嘤 。 出 自 幽 谷 , 迁 于 乔 木 。 嘤 其 鸣 矣 , 求 其 友 声\n",
      "y_pred:[0.49754423]\n",
      "y_true:0\n",
      "----------\n",
      "x_seq:常 时 载 笔 窥 金 匮 , 暇 日 登 楼 到 石 渠 。 [UNK] [PAD] [PAD] [PAD] [PAD] [PAD] [PAD] [PAD] [PAD] [PAD] [PAD] [PAD] [PAD]\n",
      "x_ALLU:太 康 二 年 , 汲 郡 人 不 准 盗 发 魏 襄 王 墓 , 或 言 安 釐 王 冢 , 得 竹 书 数 十\n",
      "y_pred:[0.49754426]\n",
      "y_true:0\n",
      "----------\n",
      "x_seq:常 时 载 笔 窥 金 匮 , 暇 日 登 楼 到 石 渠 。 [UNK] [PAD] [PAD] [PAD] [PAD] [PAD] [PAD] [PAD] [PAD] [PAD] [PAD] [PAD] [PAD]\n",
      "x_ALLU:( 秦 ) 文 公 [UNK] [UNK] 以 一 牢 祠 , 命 曰 陈 宝 。 [UNK] [PAD] [PAD] [PAD] [PAD] [PAD] [PAD] [PAD] [PAD] [PAD] [PAD] [PAD]\n",
      "y_pred:[0.49754426]\n",
      "y_true:0\n",
      "----------\n",
      "x_seq:常 时 载 笔 窥 金 匮 , 暇 日 登 楼 到 石 渠 。 [UNK] [PAD] [PAD] [PAD] [PAD] [PAD] [PAD] [PAD] [PAD] [PAD] [PAD] [PAD] [PAD]\n",
      "x_ALLU:天 汉 二 年 , 贰 师 将 军 伐 匈 奴 。 李 陵 自 请 带 一 队 人 马 到 兰 干 山 南 以 分\n",
      "y_pred:[0.49754423]\n",
      "y_true:0\n",
      "----------\n",
      "x_seq:常 时 载 笔 窥 金 匮 , 暇 日 登 楼 到 石 渠 。 [UNK] [PAD] [PAD] [PAD] [PAD] [PAD] [PAD] [PAD] [PAD] [PAD] [PAD] [PAD] [PAD]\n",
      "x_ALLU:山 阴 有 一 道 士 , 养 好 鹅 , 羲 之 往 观 焉 , 意 甚 悦 , 固 求 市 之 。 道 士 云\n",
      "y_pred:[0.49754426]\n",
      "y_true:0\n",
      "----------\n",
      "x_seq:常 时 载 笔 窥 金 匮 , 暇 日 登 楼 到 石 渠 。 [UNK] [PAD] [PAD] [PAD] [PAD] [PAD] [PAD] [PAD] [PAD] [PAD] [PAD] [PAD] [PAD]\n",
      "x_ALLU:高 祖 曰 : [UNK] 公 知 其 一 , 未 知 其 二 。 夫 运 筹 策 帷 帐 之 中 , 决 胜 于 千 里\n",
      "y_pred:[0.49754423]\n",
      "y_true:0\n",
      "----------\n",
      "x_seq:常 时 载 笔 窥 金 匮 , 暇 日 登 楼 到 石 渠 。 [UNK] [PAD] [PAD] [PAD] [PAD] [PAD] [PAD] [PAD] [PAD] [PAD] [PAD] [PAD] [PAD]\n",
      "x_ALLU:子 曰 : [UNK] 知 者 乐 水 , 仁 者 乐 山 。 知 者 动 , 仁 者 静 。 知 者 乐 , 仁 者 寿\n",
      "y_pred:[0.4975442]\n",
      "y_true:0\n",
      "----------\n",
      "x_seq:寄 谢 巢 由 客 , 尧 年 正 在 斯 。 [UNK] [PAD] [PAD] [PAD] [PAD] [PAD] [PAD] [PAD] [PAD] [PAD] [PAD] [PAD] [PAD] [PAD] [PAD] [PAD] [PAD]\n",
      "x_ALLU:尧 让 天 下 于 许 由 , 曰 : [UNK] [UNK] [UNK] 夫 子 立 而 天 下 治 , 而 我 犹 尸 之 , 吾 自\n",
      "y_pred:[0.49574468]\n",
      "y_true:1\n",
      "----------\n",
      "x_seq:寄 谢 巢 由 客 , 尧 年 正 在 斯 。 [UNK] [PAD] [PAD] [PAD] [PAD] [PAD] [PAD] [PAD] [PAD] [PAD] [PAD] [PAD] [PAD] [PAD] [PAD] [PAD] [PAD]\n",
      "x_ALLU:须 弥 山 高 八 万 四 千 由 旬 , 上 有 三 十 三 天 城 。 [UNK] [PAD] [PAD] [PAD] [PAD] [PAD] [PAD] [PAD] [PAD] [PAD]\n",
      "y_pred:[0.49574462]\n",
      "y_true:0\n",
      "----------\n",
      "x_seq:寄 谢 巢 由 客 , 尧 年 正 在 斯 。 [UNK] [PAD] [PAD] [PAD] [PAD] [PAD] [PAD] [PAD] [PAD] [PAD] [PAD] [PAD] [PAD] [PAD] [PAD] [PAD] [PAD]\n",
      "x_ALLU:老 子 李 耳 字 伯 阳 [UNK] [UNK] 生 于 殷 时 , 为 周 柱 下 史 [UNK] , 好 养 精 气 [UNK] [UNK] 后 周\n",
      "y_pred:[0.49574468]\n",
      "y_true:0\n",
      "----------\n",
      "x_seq:寄 谢 巢 由 客 , 尧 年 正 在 斯 。 [UNK] [PAD] [PAD] [PAD] [PAD] [PAD] [PAD] [PAD] [PAD] [PAD] [PAD] [PAD] [PAD] [PAD] [PAD] [PAD] [PAD]\n",
      "x_ALLU:后 皇 嘉 树 , 橘 徕 服 兮 。 受 命 不 迁 , 生 南 国 兮 。 [UNK] [PAD] [PAD] [PAD] [PAD] [PAD] [PAD] [PAD] [PAD]\n",
      "y_pred:[0.49574468]\n",
      "y_true:0\n",
      "----------\n",
      "x_seq:寄 谢 巢 由 客 , 尧 年 正 在 斯 。 [UNK] [PAD] [PAD] [PAD] [PAD] [PAD] [PAD] [PAD] [PAD] [PAD] [PAD] [PAD] [PAD] [PAD] [PAD] [PAD] [PAD]\n",
      "x_ALLU:陶 潜 尝 九 月 九 日 无 酒 , ( 出 ) 宅 边 菊 丛 中 , 摘 菊 盈 把 , 坐 其 侧 久 ,\n",
      "y_pred:[0.49574462]\n",
      "y_true:0\n",
      "----------\n",
      "x_seq:寄 谢 巢 由 客 , 尧 年 正 在 斯 。 [UNK] [PAD] [PAD] [PAD] [PAD] [PAD] [PAD] [PAD] [PAD] [PAD] [PAD] [PAD] [PAD] [PAD] [PAD] [PAD] [PAD]\n",
      "x_ALLU:充 好 论 说 , 始 若 诡 异 , 终 有 理 实 。 以 为 俗 儒 守 文 , 多 失 其 真 , 乃 闭\n",
      "y_pred:[0.49574465]\n",
      "y_true:0\n",
      "----------\n",
      "x_seq:寄 谢 巢 由 客 , 尧 年 正 在 斯 。 [UNK] [PAD] [PAD] [PAD] [PAD] [PAD] [PAD] [PAD] [PAD] [PAD] [PAD] [PAD] [PAD] [PAD] [PAD] [PAD] [PAD]\n",
      "x_ALLU:此 武 七 德 。 [UNK] [PAD] [PAD] [PAD] [PAD] [PAD] [PAD] [PAD] [PAD] [PAD] [PAD] [PAD] [PAD] [PAD] [PAD] [PAD] [PAD] [PAD] [PAD] [PAD] [PAD] [PAD] [PAD] [PAD]\n",
      "y_pred:[0.49574462]\n",
      "y_true:0\n",
      "----------\n",
      "x_seq:寄 谢 巢 由 客 , 尧 年 正 在 斯 。 [UNK] [PAD] [PAD] [PAD] [PAD] [PAD] [PAD] [PAD] [PAD] [PAD] [PAD] [PAD] [PAD] [PAD] [PAD] [PAD] [PAD]\n",
      "x_ALLU:冯 夷 , 水 仙 人 , 《 淮 南 》 言 : 冯 夷 得 道 以 潜 于 大 川 也 。 [UNK] [PAD] [PAD] [PAD] [PAD]\n",
      "y_pred:[0.4957447]\n",
      "y_true:0\n",
      "----------\n",
      "x_seq:寄 谢 巢 由 客 , 尧 年 正 在 斯 。 [UNK] [PAD] [PAD] [PAD] [PAD] [PAD] [PAD] [PAD] [PAD] [PAD] [PAD] [PAD] [PAD] [PAD] [PAD] [PAD] [PAD]\n",
      "x_ALLU:山 简 接 [UNK] 倒 , 王 戎 如 意 舞 。 [UNK] [PAD] [PAD] [PAD] [PAD] [PAD] [PAD] [PAD] [PAD] [PAD] [PAD] [PAD] [PAD] [PAD] [PAD] [PAD] [PAD]\n",
      "y_pred:[0.49574465]\n",
      "y_true:0\n",
      "----------\n",
      "x_seq:寄 谢 巢 由 客 , 尧 年 正 在 斯 。 [UNK] [PAD] [PAD] [PAD] [PAD] [PAD] [PAD] [PAD] [PAD] [PAD] [PAD] [PAD] [PAD] [PAD] [PAD] [PAD] [PAD]\n",
      "x_ALLU:汉 欲 西 归 , 张 良 、 陈 平 说 曰 : [UNK] 汉 有 天 下 太 半 , 而 诸 侯 皆 附 之 。 楚\n",
      "y_pred:[0.49574465]\n",
      "y_true:0\n",
      "----------\n",
      "x_seq:一 丘 人 境 尚 堪 恋 , 何 况 海 上 金 银 台 。 [UNK] [PAD] [PAD] [PAD] [PAD] [PAD] [PAD] [PAD] [PAD] [PAD] [PAD] [PAD] [PAD]\n",
      "x_ALLU:三 壶 , 则 海 中 三 山 也 。 一 曰 方 壶 , 则 方 丈 也 ; 二 曰 蓬 壶 , 则 蓬 莱 也\n",
      "y_pred:[0.491501]\n",
      "y_true:1\n",
      "----------\n",
      "x_seq:一 丘 人 境 尚 堪 恋 , 何 况 海 上 金 银 台 。 [UNK] [PAD] [PAD] [PAD] [PAD] [PAD] [PAD] [PAD] [PAD] [PAD] [PAD] [PAD] [PAD]\n",
      "x_ALLU:魂 乎 归 徕 , 定 空 桑 只 。 [UNK] [PAD] [PAD] [PAD] [PAD] [PAD] [PAD] [PAD] [PAD] [PAD] [PAD] [PAD] [PAD] [PAD] [PAD] [PAD] [PAD] [PAD] [PAD]\n",
      "y_pred:[0.4915011]\n",
      "y_true:0\n",
      "----------\n",
      "x_seq:一 丘 人 境 尚 堪 恋 , 何 况 海 上 金 银 台 。 [UNK] [PAD] [PAD] [PAD] [PAD] [PAD] [PAD] [PAD] [PAD] [PAD] [PAD] [PAD] [PAD]\n",
      "x_ALLU:元 帝 徐 妃 讳 昭 佩 , 东 海 [UNK] 人 也 。 [UNK] [UNK] 妃 以 天 监 十 六 年 十 二 月 拜 湘 东\n",
      "y_pred:[0.49150103]\n",
      "y_true:0\n",
      "----------\n",
      "x_seq:一 丘 人 境 尚 堪 恋 , 何 况 海 上 金 银 台 。 [UNK] [PAD] [PAD] [PAD] [PAD] [PAD] [PAD] [PAD] [PAD] [PAD] [PAD] [PAD] [PAD]\n",
      "x_ALLU:欲 谏 者 击 其 鼓 。 [UNK] [PAD] [PAD] [PAD] [PAD] [PAD] [PAD] [PAD] [PAD] [PAD] [PAD] [PAD] [PAD] [PAD] [PAD] [PAD] [PAD] [PAD] [PAD] [PAD] [PAD] [PAD]\n",
      "y_pred:[0.49150106]\n",
      "y_true:0\n",
      "----------\n",
      "END:**************************************************\n",
      "array([[0.4937557 , 0.49375576, 0.4937557 , 0.49375576, 0.4937557 ,\n",
      "        0.4937557 , 0.49375576, 0.4937557 , 0.4937557 , 0.49375576],\n",
      "       [0.49827975, 0.49827972, 0.49827978, 0.49827975, 0.49827978,\n",
      "        0.49827975, 0.49827978, 0.49827978, 0.49827978, 0.4982798 ],\n",
      "       [0.49494532, 0.4949453 , 0.4949453 , 0.49494526, 0.4949453 ,\n",
      "        0.4949453 , 0.49494523, 0.49494532, 0.49494523, 0.4949453 ],\n",
      "       [0.49573353, 0.49573353, 0.4957336 , 0.4957335 , 0.4957335 ,\n",
      "        0.49573353, 0.49573353, 0.4957335 , 0.49573353, 0.49573353],\n",
      "       [0.49754426, 0.49754426, 0.4975443 , 0.49754423, 0.49754426,\n",
      "        0.49754426, 0.49754423, 0.49754426, 0.49754423, 0.4975442 ],\n",
      "       [0.49574468, 0.49574462, 0.49574468, 0.49574468, 0.49574462,\n",
      "        0.49574465, 0.49574462, 0.4957447 , 0.49574465, 0.49574465],\n",
      "       [0.491501  , 0.4915011 , 0.49150103, 0.49150106, 0.491501  ,\n",
      "        0.49150106, 0.49150106, 0.491501  , 0.491501  , 0.49150106],\n",
      "       [0.49715823, 0.4971582 , 0.49715814, 0.49715823, 0.4971582 ,\n",
      "        0.49715814, 0.4971582 , 0.49715817, 0.49715817, 0.49715823],\n",
      "       [0.49105632, 0.49105632, 0.49105626, 0.49105632, 0.49105626,\n",
      "        0.49105632, 0.49105632, 0.49105635, 0.49105632, 0.49105635],\n",
      "       [0.49766994, 0.49766994, 0.49767   , 0.49766997, 0.49766997,\n",
      "        0.49767   , 0.49766994, 0.49766997, 0.49767   , 0.49766994]],\n",
      "      dtype=float32)\n",
      "array([1, 3, 6, 9, 0, 2, 4, 5, 7, 8])\n",
      "[0, 0, 0, 0, 1, 0, 0, 0, 0, 0]\n",
      "array([9, 2, 4, 6, 7, 8, 0, 3, 5, 1])\n",
      "[0, 0, 0, 0, 0, 0, 1, 0, 0, 0]\n",
      "array([0, 7, 1, 2, 4, 5, 9, 3, 6, 8])\n",
      "[1, 0, 0, 0, 0, 0, 0, 0, 0, 0]\n",
      "array([2, 0, 1, 5, 6, 8, 9, 3, 4, 7])\n",
      "[0, 1, 0, 0, 0, 0, 0, 0, 0, 0]\n",
      "array([2, 0, 1, 4, 5, 7, 3, 6, 8, 9])\n",
      "[0, 1, 0, 0, 0, 0, 0, 0, 0, 0]\n",
      "array([7, 0, 2, 3, 5, 8, 9, 1, 4, 6])\n",
      "[0, 1, 0, 0, 0, 0, 0, 0, 0, 0]\n",
      "array([1, 3, 5, 6, 9, 2, 0, 4, 7, 8])\n",
      "[0, 0, 0, 0, 0, 0, 1, 0, 0, 0]\n",
      "array([0, 3, 9, 1, 4, 6, 7, 8, 2, 5])\n",
      "[1, 0, 0, 0, 0, 0, 0, 0, 0, 0]\n",
      "array([7, 9, 0, 1, 3, 5, 6, 8, 2, 4])\n",
      "[0, 0, 1, 0, 0, 0, 0, 0, 0, 0]\n",
      "array([2, 5, 8, 3, 4, 7, 0, 1, 6, 9])\n",
      "[0, 0, 0, 0, 0, 0, 1, 0, 0, 0]\n",
      "\n",
      "----------------------------------ALLU_SOURCE PAIRMATCH METRICS -----------------------------------\n",
      "\n",
      "epoch:PAIRMATCH AVG_RANKING MRR: 0.4843\n",
      "\n",
      "----------------------------------ALLU_SOURCE END ----------------------------------\n"
     ]
    },
    {
     "name": "stderr",
     "output_type": "stream",
     "text": [
      "I:BASE TASK:[base_task.:270]:Task ALLU_SOURCE:\n",
      "I:BASE TASK:[base_task.:271]:\t319 training batches\n",
      "I:BASE TASK:[base_task.:272]:\t57 validation batches\n",
      "I:BASE TASK:[base_task.:273]:\t469 test batches\n",
      "I:BERT EMBEDDING:[bert_embed:105]:seq_len:30\n",
      "I:BERT EMBEDDING:[bert_embed:105]:seq_len:30\n",
      "I:AHMTL MODEL:[AHMTL.py:126]:Multi-Task Learning Model has been instantiated.\n",
      "I:CUR_SPLIT:2:[sampler_mu: 92]:Set up ready. Begining training/validation.\n",
      "I:BASE-MODEL:[base_model:133]:NER's model_dir is ./model_ckpt/2020-02-05-02_23_48/2/NER-Naive_CRF_Model\n",
      "I:BASE-MODEL:[base_model:232]:[NER]:train info:Train on 14684 samples, validate on 2592 samples\n",
      "I:BASE-MODEL:[base_model:133]:ALLU_SOURCE's model_dir is ./model_ckpt/2020-02-05-02_23_48/2/ALLU_SOURCE-NaiveDenseModel\n",
      "I:BASE-MODEL:[base_model:232]:[ALLU_SOURCE]:train info:Train on 20400 samples, validate on 3600 samples\n"
     ]
    },
    {
     "name": "stdout",
     "output_type": "stream",
     "text": [
      "Epoch 1/50\n",
      "549/549 [==============================] - 302s 551ms/step - task_name:     NER     - loss: 5.8404 - accuracy: 0.8089 - val_loss: 13.9352 - val_accuracy: 0.8246\n",
      "549/549 [==============================] - 302s 551ms/step - task_name: ALLU_SOURCE - loss: 0.6571 - accuracy: 0.5730 - val_loss: 0.6479 - val_accuracy: 0.6275 \n"
     ]
    },
    {
     "name": "stderr",
     "output_type": "stream",
     "text": [
      "I:CUR_SPLIT:2:[sampler_mu:139]:----------------------------------------------------------------------------------------------------\n"
     ]
    },
    {
     "name": "stdout",
     "output_type": "stream",
     "text": [
      "Epoch 2/50\n",
      "549/549 [==============================] - 217s 395ms/step - task_name:     NER     - loss: 3.8787 - accuracy: 0.8226 - val_loss: 13.2297 - val_accuracy: 0.8300\n",
      "549/549 [==============================] - 217s 395ms/step - task_name: ALLU_SOURCE - loss: 0.6302 - accuracy: 0.6546 - val_loss: 0.5967 - val_accuracy: 0.6697 \n"
     ]
    },
    {
     "name": "stderr",
     "output_type": "stream",
     "text": [
      "I:CUR_SPLIT:2:[sampler_mu:139]:----------------------------------------------------------------------------------------------------\n"
     ]
    },
    {
     "name": "stdout",
     "output_type": "stream",
     "text": [
      "Epoch 3/50\n",
      "549/549 [==============================] - 222s 404ms/step - task_name:     NER     - loss: 3.3418 - accuracy: 0.8286 - val_loss: 12.3159 - val_accuracy: 0.8308\n",
      "549/549 [==============================] - 222s 404ms/step - task_name: ALLU_SOURCE - loss: 0.5937 - accuracy: 0.6949 - val_loss: 0.5885 - val_accuracy: 0.6856 \n"
     ]
    },
    {
     "name": "stderr",
     "output_type": "stream",
     "text": [
      "I:CUR_SPLIT:2:[sampler_mu:139]:----------------------------------------------------------------------------------------------------\n"
     ]
    },
    {
     "name": "stdout",
     "output_type": "stream",
     "text": [
      "Epoch 4/50\n",
      "549/549 [==============================] - 186s 339ms/step - task_name:     NER     - loss: 3.3829 - accuracy: 0.8298 - val_loss: 11.7785 - val_accuracy: 0.8327\n",
      "549/549 [==============================] - 186s 339ms/step - task_name: ALLU_SOURCE - loss: 0.5253 - accuracy: 0.7221 - val_loss: 0.7020 - val_accuracy: 0.6927 \n"
     ]
    },
    {
     "name": "stderr",
     "output_type": "stream",
     "text": [
      "I:CUR_SPLIT:2:[sampler_mu:139]:----------------------------------------------------------------------------------------------------\n"
     ]
    },
    {
     "name": "stdout",
     "output_type": "stream",
     "text": [
      "Epoch 5/50\n",
      "549/549 [==============================] - 172s 314ms/step - task_name:     NER     - loss: 3.3172 - accuracy: 0.8345 - val_loss: 11.3307 - val_accuracy: 0.8352\n",
      "549/549 [==============================] - 172s 314ms/step - task_name: ALLU_SOURCE - loss: 0.4806 - accuracy: 0.7382 - val_loss: 0.5560 - val_accuracy: 0.7037 \n"
     ]
    },
    {
     "name": "stderr",
     "output_type": "stream",
     "text": [
      "I:CUR_SPLIT:2:[sampler_mu:139]:----------------------------------------------------------------------------------------------------\n"
     ]
    },
    {
     "name": "stdout",
     "output_type": "stream",
     "text": [
      "Epoch 6/50\n",
      "549/549 [==============================] - 178s 325ms/step - task_name:     NER     - loss: 3.0367 - accuracy: 0.8368 - val_loss: 11.0557 - val_accuracy: 0.8215\n",
      "549/549 [==============================] - 178s 325ms/step - task_name: ALLU_SOURCE - loss: 0.4677 - accuracy: 0.7493 - val_loss: 0.5378 - val_accuracy: 0.7262 \n"
     ]
    },
    {
     "name": "stderr",
     "output_type": "stream",
     "text": [
      "I:CUR_SPLIT:2:[sampler_mu:139]:----------------------------------------------------------------------------------------------------\n"
     ]
    },
    {
     "name": "stdout",
     "output_type": "stream",
     "text": [
      "Epoch 7/50\n",
      "549/549 [==============================] - 172s 313ms/step - task_name:     NER     - loss: 2.8196 - accuracy: 0.8374 - val_loss: 10.7927 - val_accuracy: 0.8216\n",
      "549/549 [==============================] - 172s 313ms/step - task_name: ALLU_SOURCE - loss: 0.4634 - accuracy: 0.7612 - val_loss: 0.5649 - val_accuracy: 0.7185 \n"
     ]
    },
    {
     "name": "stderr",
     "output_type": "stream",
     "text": [
      "I:CUR_SPLIT:2:[sampler_mu:139]:----------------------------------------------------------------------------------------------------\n"
     ]
    },
    {
     "name": "stdout",
     "output_type": "stream",
     "text": [
      "Epoch 8/50\n",
      "549/549 [==============================] - 171s 312ms/step - task_name:     NER     - loss: 2.6529 - accuracy: 0.8399 - val_loss: 10.5503 - val_accuracy: 0.8246\n",
      "549/549 [==============================] - 171s 312ms/step - task_name: ALLU_SOURCE - loss: 0.4518 - accuracy: 0.7723 - val_loss: 0.5447 - val_accuracy: 0.7220 \n"
     ]
    },
    {
     "name": "stderr",
     "output_type": "stream",
     "text": [
      "I:CUR_SPLIT:2:[sampler_mu:139]:----------------------------------------------------------------------------------------------------\n"
     ]
    },
    {
     "name": "stdout",
     "output_type": "stream",
     "text": [
      "Epoch 9/50\n",
      "549/549 [==============================] - 176s 321ms/step - task_name:     NER     - loss: 2.8422 - accuracy: 0.8405 - val_loss: 10.3896 - val_accuracy: 0.8116\n",
      "549/549 [==============================] - 176s 321ms/step - task_name: ALLU_SOURCE - loss: 0.3980 - accuracy: 0.7889 - val_loss: 0.5279 - val_accuracy: 0.7267 \n"
     ]
    },
    {
     "name": "stderr",
     "output_type": "stream",
     "text": [
      "I:CUR_SPLIT:2:[sampler_mu:139]:----------------------------------------------------------------------------------------------------\n"
     ]
    },
    {
     "name": "stdout",
     "output_type": "stream",
     "text": [
      "Epoch 10/50\n",
      "549/549 [==============================] - 175s 318ms/step - task_name:     NER     - loss: 2.4254 - accuracy: 0.8430 - val_loss: 10.5634 - val_accuracy: 0.7570\n",
      "549/549 [==============================] - 175s 318ms/step - task_name: ALLU_SOURCE - loss: 0.4319 - accuracy: 0.7898 - val_loss: 0.5957 - val_accuracy: 0.7363 \n"
     ]
    },
    {
     "name": "stderr",
     "output_type": "stream",
     "text": [
      "I:CUR_SPLIT:2:[sampler_mu:139]:----------------------------------------------------------------------------------------------------\n"
     ]
    },
    {
     "name": "stdout",
     "output_type": "stream",
     "text": [
      "Epoch 11/50\n",
      "549/549 [==============================] - 173s 315ms/step - task_name:     NER     - loss: 2.2283 - accuracy: 0.8445 - val_loss: 10.1838 - val_accuracy: 0.7965\n",
      "549/549 [==============================] - 173s 315ms/step - task_name: ALLU_SOURCE - loss: 0.4376 - accuracy: 0.7965 - val_loss: 0.5661 - val_accuracy: 0.7220 \n"
     ]
    },
    {
     "name": "stderr",
     "output_type": "stream",
     "text": [
      "I:CUR_SPLIT:2:[sampler_mu:139]:----------------------------------------------------------------------------------------------------\n"
     ]
    },
    {
     "name": "stdout",
     "output_type": "stream",
     "text": [
      "Epoch 12/50\n",
      "548/549 [============================>.] - ETA: 0s - task_name:     NER     - loss: 2.4211 - accuracy: 0.8434\n",
      "Epoch 00012: ReduceLROnPlateau reducing learning rate to 0.0007000000332482159.\n",
      "549/549 [==============================] - 177s 323ms/step - task_name:     NER     - loss: 2.2816 - accuracy: 0.8436 - val_loss: 10.2766 - val_accuracy: 0.7289\n",
      "549/549 [==============================] - 177s 323ms/step - task_name: ALLU_SOURCE - loss: 0.4096 - accuracy: 0.8036 - val_loss: 0.5941 - val_accuracy: 0.7374 \n"
     ]
    },
    {
     "name": "stderr",
     "output_type": "stream",
     "text": [
      "I:CUR_SPLIT:2:[sampler_mu:139]:----------------------------------------------------------------------------------------------------\n"
     ]
    },
    {
     "name": "stdout",
     "output_type": "stream",
     "text": [
      "Epoch 13/50\n",
      "549/549 [==============================] - 116s 211ms/step - task_name: ALLU_SOURCE - loss: 0.4254 - accuracy: 0.8025 - val_loss: 0.6015 - val_accuracy: 0.7379\n"
     ]
    },
    {
     "name": "stderr",
     "output_type": "stream",
     "text": [
      "I:CUR_SPLIT:2:[sampler_mu:139]:----------------------------------------------------------------------------------------------------\n"
     ]
    },
    {
     "name": "stdout",
     "output_type": "stream",
     "text": [
      "Epoch 14/50\n",
      "549/549 [==============================] - 109s 199ms/step - task_name: ALLU_SOURCE - loss: 0.3845 - accuracy: 0.8140 - val_loss: 0.5841 - val_accuracy: 0.7220\n"
     ]
    },
    {
     "name": "stderr",
     "output_type": "stream",
     "text": [
      "I:CUR_SPLIT:2:[sampler_mu:139]:----------------------------------------------------------------------------------------------------\n"
     ]
    },
    {
     "name": "stdout",
     "output_type": "stream",
     "text": [
      "Epoch 15/50\n",
      "549/549 [==============================] - 120s 219ms/step - task_name: ALLU_SOURCE - loss: 0.4102 - accuracy: 0.8227 - val_loss: 0.5895 - val_accuracy: 0.7144\n"
     ]
    },
    {
     "name": "stderr",
     "output_type": "stream",
     "text": [
      "I:CUR_SPLIT:2:[sampler_mu:139]:----------------------------------------------------------------------------------------------------\n"
     ]
    },
    {
     "name": "stdout",
     "output_type": "stream",
     "text": [
      "Epoch 16/50\n",
      "549/549 [==============================] - 109s 198ms/step - task_name: ALLU_SOURCE - loss: 0.3561 - accuracy: 0.8272 - val_loss: 0.5923 - val_accuracy: 0.7464\n"
     ]
    },
    {
     "name": "stderr",
     "output_type": "stream",
     "text": [
      "I:CUR_SPLIT:2:[sampler_mu:139]:----------------------------------------------------------------------------------------------------\n"
     ]
    },
    {
     "name": "stdout",
     "output_type": "stream",
     "text": [
      "Epoch 17/50\n",
      "549/549 [==============================] - 109s 199ms/step - task_name: ALLU_SOURCE - loss: 0.3473 - accuracy: 0.8340 - val_loss: 0.6641 - val_accuracy: 0.7283\n"
     ]
    },
    {
     "name": "stderr",
     "output_type": "stream",
     "text": [
      "I:CUR_SPLIT:2:[sampler_mu:139]:----------------------------------------------------------------------------------------------------\n"
     ]
    },
    {
     "name": "stdout",
     "output_type": "stream",
     "text": [
      "Epoch 18/50\n",
      "549/549 [==============================] - 106s 194ms/step - task_name: ALLU_SOURCE - loss: 0.3262 - accuracy: 0.8427 - val_loss: 0.6764 - val_accuracy: 0.7388\n"
     ]
    },
    {
     "name": "stderr",
     "output_type": "stream",
     "text": [
      "I:CUR_SPLIT:2:[sampler_mu:139]:----------------------------------------------------------------------------------------------------\n"
     ]
    },
    {
     "name": "stdout",
     "output_type": "stream",
     "text": [
      "Epoch 19/50\n",
      "549/549 [==============================] - 102s 185ms/step - task_name: ALLU_SOURCE - loss: 0.3138 - accuracy: 0.8409 - val_loss: 0.6627 - val_accuracy: 0.7459\n"
     ]
    },
    {
     "name": "stderr",
     "output_type": "stream",
     "text": [
      "I:CUR_SPLIT:2:[sampler_mu:139]:----------------------------------------------------------------------------------------------------\n"
     ]
    },
    {
     "name": "stdout",
     "output_type": "stream",
     "text": [
      "Epoch 20/50\n",
      "549/549 [==============================] - 108s 196ms/step - task_name: ALLU_SOURCE - loss: 0.3201 - accuracy: 0.8491 - val_loss: 0.6249 - val_accuracy: 0.7338\n"
     ]
    },
    {
     "name": "stderr",
     "output_type": "stream",
     "text": [
      "I:CUR_SPLIT:2:[sampler_mu:139]:----------------------------------------------------------------------------------------------------\n"
     ]
    },
    {
     "name": "stdout",
     "output_type": "stream",
     "text": [
      "Epoch 21/50\n",
      "549/549 [==============================] - 107s 195ms/step - task_name: ALLU_SOURCE - loss: 0.3021 - accuracy: 0.8550 - val_loss: 0.6480 - val_accuracy: 0.7571\n"
     ]
    },
    {
     "name": "stderr",
     "output_type": "stream",
     "text": [
      "I:CUR_SPLIT:2:[sampler_mu:139]:----------------------------------------------------------------------------------------------------\n"
     ]
    },
    {
     "name": "stdout",
     "output_type": "stream",
     "text": [
      "Epoch 22/50\n",
      "549/549 [==============================] - 106s 193ms/step - task_name: ALLU_SOURCE - loss: 0.2945 - accuracy: 0.8587 - val_loss: 0.6831 - val_accuracy: 0.7527\n"
     ]
    },
    {
     "name": "stderr",
     "output_type": "stream",
     "text": [
      "I:CUR_SPLIT:2:[sampler_mu:139]:----------------------------------------------------------------------------------------------------\n"
     ]
    },
    {
     "name": "stdout",
     "output_type": "stream",
     "text": [
      "Epoch 23/50\n",
      "549/549 [==============================] - 111s 203ms/step - task_name: ALLU_SOURCE - loss: 0.3059 - accuracy: 0.8631 - val_loss: 0.6781 - val_accuracy: 0.7536\n"
     ]
    },
    {
     "name": "stderr",
     "output_type": "stream",
     "text": [
      "I:CUR_SPLIT:2:[sampler_mu:139]:----------------------------------------------------------------------------------------------------\n"
     ]
    },
    {
     "name": "stdout",
     "output_type": "stream",
     "text": [
      "Epoch 24/50\n",
      "549/549 [==============================] - 110s 200ms/step - task_name: ALLU_SOURCE - loss: 0.2846 - accuracy: 0.8633 - val_loss: 0.6855 - val_accuracy: 0.7552\n"
     ]
    },
    {
     "name": "stderr",
     "output_type": "stream",
     "text": [
      "I:CUR_SPLIT:2:[sampler_mu:139]:----------------------------------------------------------------------------------------------------\n"
     ]
    },
    {
     "name": "stdout",
     "output_type": "stream",
     "text": [
      "Epoch 25/50\n",
      "549/549 [==============================] - 111s 203ms/step - task_name: ALLU_SOURCE - loss: 0.2942 - accuracy: 0.8694 - val_loss: 0.6852 - val_accuracy: 0.7492\n"
     ]
    },
    {
     "name": "stderr",
     "output_type": "stream",
     "text": [
      "I:CUR_SPLIT:2:[sampler_mu:139]:----------------------------------------------------------------------------------------------------\n"
     ]
    },
    {
     "name": "stdout",
     "output_type": "stream",
     "text": [
      "Epoch 26/50\n",
      "549/549 [==============================] - 115s 209ms/step - task_name: ALLU_SOURCE - loss: 0.2986 - accuracy: 0.8722 - val_loss: 0.6487 - val_accuracy: 0.7412\n"
     ]
    },
    {
     "name": "stderr",
     "output_type": "stream",
     "text": [
      "I:CUR_SPLIT:2:[sampler_mu:139]:----------------------------------------------------------------------------------------------------\n"
     ]
    },
    {
     "name": "stdout",
     "output_type": "stream",
     "text": [
      "Epoch 27/50\n",
      "549/549 [==============================] - 109s 198ms/step - task_name: ALLU_SOURCE - loss: 0.2801 - accuracy: 0.8750 - val_loss: 0.7140 - val_accuracy: 0.7379\n"
     ]
    },
    {
     "name": "stderr",
     "output_type": "stream",
     "text": [
      "I:CUR_SPLIT:2:[sampler_mu:139]:----------------------------------------------------------------------------------------------------\n"
     ]
    },
    {
     "name": "stdout",
     "output_type": "stream",
     "text": [
      "Epoch 28/50\n",
      "549/549 [==============================] - 110s 201ms/step - task_name: ALLU_SOURCE - loss: 0.2799 - accuracy: 0.8758 - val_loss: 0.8242 - val_accuracy: 0.7536\n"
     ]
    },
    {
     "name": "stderr",
     "output_type": "stream",
     "text": [
      "I:CUR_SPLIT:2:[sampler_mu:139]:----------------------------------------------------------------------------------------------------\n"
     ]
    },
    {
     "name": "stdout",
     "output_type": "stream",
     "text": [
      "\n",
      "----------------------------------NER LABEL METRICS -----------------------------------\n",
      "\n",
      "epoch:labeling EPOCH accuracy 0.828326 precision: 0.446308, recall: 0.351483, f1: 0.393260\n",
      "\n",
      "           precision    recall  f1-score   support\n",
      "\n",
      "     ALLU     0.4463    0.3515    0.3933      4316\n",
      "\n",
      "micro avg     0.4463    0.3515    0.3933      4316\n",
      "macro avg     0.4463    0.3515    0.3933      4316\n",
      "\n",
      "----------------------------------NER END ----------------------------------\n",
      "train_example:**************************************************\n",
      "x_seq:月 旦 继 平 舆 , 风 流 仕 石 渠 。\n",
      "y_pred:O O O B-ALLU I-ALLU O O O O B-ALLU I-ALLU O\n",
      "y_true:O O O B-ALLU I-ALLU O O O O O O O\n",
      "----------\n",
      "x_seq:五 马 尚 迷 青 琐 路 , 双 鱼 犹 惹 翠 兰 芬 。\n",
      "y_pred:B-ALLU I-ALLU O O O O O O O O O O O O O O\n",
      "y_true:B-ALLU I-ALLU O O O O O O O O O O O O O O\n",
      "----------\n",
      "x_seq:步 檐 青 琐 [UNK] , 方 [UNK] 画 轮 车 。\n",
      "y_pred:O O O O O O O O O O O O\n",
      "y_true:O O B-ALLU I-ALLU O O O O O O O O\n",
      "----------\n",
      "x_seq:朝 趋 九 韶 音 , 暮 列 五 鼎 食 。\n",
      "y_pred:O O O O O O O O O O O O\n",
      "y_true:O O O O O O O O B-ALLU I-ALLU I-ALLU O\n",
      "----------\n",
      "x_seq:闻 道 王 师 犹 转 战 , 谁 能 谈 笑 解 重 围 。\n",
      "y_pred:O O O O O O O O O O O O B-ALLU I-ALLU I-ALLU O\n",
      "y_true:O O O O O O O O O O B-ALLU I-ALLU I-ALLU I-ALLU I-ALLU O\n",
      "----------\n",
      "x_seq:深 洞 莺 啼 恨 阮 郎 , 偷 来 花 下 解 珠 [UNK] 。\n",
      "y_pred:O O O O O B-ALLU I-ALLU O O O O O O O O O\n",
      "y_true:O O O O O B-ALLU I-ALLU O O O O O O O O O\n",
      "----------\n",
      "x_seq:久 留 郎 署 终 难 遇 , 空 扫 相 门 谁 见 知 。\n",
      "y_pred:O O O O O O O O O O O O O O O O\n",
      "y_true:B-ALLU I-ALLU I-ALLU I-ALLU O O O O O O O O O O O O\n",
      "----------\n",
      "x_seq:已 悟 化 城 非 乐 界 , 不 知 今 夕 是 何 年 。\n",
      "y_pred:O O O O O O O O O O B-ALLU I-ALLU O O O O\n",
      "y_true:O O O O O O O O O O B-ALLU I-ALLU O O O O\n",
      "----------\n",
      "x_seq:落 日 吊 李 广 , 白 首 过 河 阳 。\n",
      "y_pred:O O O B-ALLU I-ALLU O O O O O O O\n",
      "y_true:O O O B-ALLU O O O O O O O O\n",
      "----------\n",
      "x_seq:到 此 安 氓 俗 , 琴 堂 又 晏 然 。\n",
      "y_pred:O O O O O O B-ALLU I-ALLU O O O O\n",
      "y_true:O O O O O O B-ALLU I-ALLU O O O O\n",
      "----------\n",
      "END:**************************************************\n",
      "test_example:**************************************************\n",
      "x_seq:上 天 铄 金 石 , 群 盗 乱 豹 虎 。\n",
      "y_pred:O O O O O O O O O O O O\n",
      "y_true:O O B-ALLU I-ALLU I-ALLU O O O O O O O\n",
      "----------\n",
      "x_seq:蓬 岛 侍 臣 今 放 逐 , 羡 君 回 去 逼 龙 墀 。\n",
      "y_pred:B-ALLU I-ALLU O O O O O O O O O O O O O O\n",
      "y_true:B-ALLU O O O O O O O O O O O O O O O\n",
      "----------\n",
      "x_seq:悠 哉 千 里 心 , 欲 采 商 山 芝 。\n",
      "y_pred:O O O O O O O O O O O O\n",
      "y_true:O O O O O O O O B-ALLU I-ALLU O O\n",
      "----------\n",
      "x_seq:行 看 负 薪 客 , 坐 使 桑 田 变 。\n",
      "y_pred:O O B-ALLU I-ALLU O O O O O O O O\n",
      "y_true:O O O O O O O O B-ALLU I-ALLU O O\n",
      "----------\n",
      "x_seq:[UNK] 收 既 断 翠 柳 , 青 帝 又 造 红 兰 。\n",
      "y_pred:B-ALLU I-ALLU O O O O O O O O O O O O\n",
      "y_true:B-ALLU I-ALLU O O O O O O O O O O O O\n",
      "----------\n",
      "x_seq:晚 年 务 置 醴 , 门 引 申 白 宾 。\n",
      "y_pred:O O O O O O O O O B-ALLU I-ALLU O\n",
      "y_true:O O O B-ALLU I-ALLU O O O O O O O\n",
      "----------\n",
      "x_seq:高 阳 诸 醉 客 , 唯 见 古 时 丘 。\n",
      "y_pred:B-ALLU I-ALLU O O O O O O O O O O\n",
      "y_true:B-ALLU I-ALLU O O O O O O O O O O\n",
      "----------\n",
      "x_seq:日 见 帝 道 升 , 谋 猷 垂 景 钟 。\n",
      "y_pred:O O O O O O B-ALLU I-ALLU O B-ALLU I-ALLU O\n",
      "y_true:O O O O O O O O O B-ALLU I-ALLU O\n",
      "----------\n",
      "x_seq:江 陵 从 种 桔 , 交 广 合 投 香 。\n",
      "y_pred:O O O O O O O O O O O O\n",
      "y_true:O O O O O O O O O B-ALLU I-ALLU O\n",
      "----------\n",
      "x_seq:湛 露 晞 尧 日 , 薰 风 入 舜 弦 。\n",
      "y_pred:O O O O O O O O O O O O\n",
      "y_true:O O O O O O B-ALLU I-ALLU O O O O\n",
      "----------\n",
      "END:**************************************************\n"
     ]
    },
    {
     "name": "stderr",
     "output_type": "stream",
     "text": [
      "I:SAMPLE_TRAINER:[sampler_mu: 43]:cur_split_idx 2th END\n",
      "I:SAMPLE_TRAINER:[sampler_mu: 44]:****************************************************************************************************\n",
      "I:SAMPLE_TRAINER:[sampler_mu: 45]:****************************************************************************************************\n",
      "I:BASE TASK:[base_task.:270]:Task NER:\n",
      "I:BASE TASK:[base_task.:271]:\t230 training batches\n",
      "I:BASE TASK:[base_task.:272]:\t41 validation batches\n",
      "I:BASE TASK:[base_task.:273]:\t68 test batches\n"
     ]
    },
    {
     "name": "stdout",
     "output_type": "stream",
     "text": [
      "example:**************************************************\n",
      "x_seq:欲 构 中 天 正 急 材 , 自 缘 烟 水 恋 平 台 。 [UNK] [PAD] [PAD] [PAD] [PAD] [PAD] [PAD] [PAD] [PAD] [PAD] [PAD] [PAD] [PAD]\n",
      "x_ALLU:梁 孝 王 大 治 宫 室 , 为 复 道 , 自 宫 连 属 于 平 台 三 十 余 里 。 [UNK] [PAD] [PAD] [PAD] [PAD]\n",
      "y_pred:[0.37154558]\n",
      "y_true:1\n",
      "----------\n",
      "x_seq:欲 构 中 天 正 急 材 , 自 缘 烟 水 恋 平 台 。 [UNK] [PAD] [PAD] [PAD] [PAD] [PAD] [PAD] [PAD] [PAD] [PAD] [PAD] [PAD] [PAD]\n",
      "x_ALLU:母 湛 氏 , 贤 明 有 法 训 。 [UNK] [UNK] 及 侃 丁 母 忧 , 在 墓 下 , 忽 有 二 客 来 吊 ,\n",
      "y_pred:[0.3376127]\n",
      "y_true:0\n",
      "----------\n",
      "x_seq:欲 构 中 天 正 急 材 , 自 缘 烟 水 恋 平 台 。 [UNK] [PAD] [PAD] [PAD] [PAD] [PAD] [PAD] [PAD] [PAD] [PAD] [PAD] [PAD] [PAD]\n",
      "x_ALLU:扬 雄 《 檄 灵 赋 》 曰 : 世 有 黄 公 者 , 起 于 苍 州 , 精 神 养 性 , 与 道 浮 游\n",
      "y_pred:[0.5402507]\n",
      "y_true:0\n",
      "----------\n",
      "x_seq:欲 构 中 天 正 急 材 , 自 缘 烟 水 恋 平 台 。 [UNK] [PAD] [PAD] [PAD] [PAD] [PAD] [PAD] [PAD] [PAD] [PAD] [PAD] [PAD] [PAD]\n",
      "x_ALLU:楚 襄 王 既 登 阳 云 之 台 , 令 诸 大 夫 景 差 、 唐 勒 、 宋 玉 等 并 造 《 大 言 赋\n",
      "y_pred:[0.43185985]\n",
      "y_true:0\n",
      "----------\n",
      "x_seq:欲 构 中 天 正 急 材 , 自 缘 烟 水 恋 平 台 。 [UNK] [PAD] [PAD] [PAD] [PAD] [PAD] [PAD] [PAD] [PAD] [PAD] [PAD] [PAD] [PAD]\n",
      "x_ALLU:十 七 年 , 伐 中 山 , 使 子 击 守 之 , 赵 仓 唐 傅 之 。 子 击 逢 文 侯 之 师 田 子\n",
      "y_pred:[0.21573618]\n",
      "y_true:0\n",
      "----------\n",
      "x_seq:欲 构 中 天 正 急 材 , 自 缘 烟 水 恋 平 台 。 [UNK] [PAD] [PAD] [PAD] [PAD] [PAD] [PAD] [PAD] [PAD] [PAD] [PAD] [PAD] [PAD]\n",
      "x_ALLU:天 狼 , 星 名 。 以 喻 贪 残 。 日 为 王 者 , 王 者 受 命 必 诛 贪 残 , 故 曰 [UNK] 举\n",
      "y_pred:[0.30296594]\n",
      "y_true:0\n",
      "----------\n",
      "x_seq:欲 构 中 天 正 急 材 , 自 缘 烟 水 恋 平 台 。 [UNK] [PAD] [PAD] [PAD] [PAD] [PAD] [PAD] [PAD] [PAD] [PAD] [PAD] [PAD] [PAD]\n",
      "x_ALLU:翻 性 疏 直 , 数 有 酒 失 。 权 与 张 昭 论 及 神 仙 , 翻 指 昭 曰 : [UNK] 彼 皆 死 人\n",
      "y_pred:[0.32581854]\n",
      "y_true:0\n",
      "----------\n",
      "x_seq:欲 构 中 天 正 急 材 , 自 缘 烟 水 恋 平 台 。 [UNK] [PAD] [PAD] [PAD] [PAD] [PAD] [PAD] [PAD] [PAD] [PAD] [PAD] [PAD] [PAD]\n",
      "x_ALLU:而 , 语 助 , 言 必 馁 。 [UNK] [PAD] [PAD] [PAD] [PAD] [PAD] [PAD] [PAD] [PAD] [PAD] [PAD] [PAD] [PAD] [PAD] [PAD] [PAD] [PAD] [PAD] [PAD] [PAD]\n",
      "y_pred:[0.20216227]\n",
      "y_true:0\n",
      "----------\n",
      "x_seq:欲 构 中 天 正 急 材 , 自 缘 烟 水 恋 平 台 。 [UNK] [PAD] [PAD] [PAD] [PAD] [PAD] [PAD] [PAD] [PAD] [PAD] [PAD] [PAD] [PAD]\n",
      "x_ALLU:之 子 归 穷 泉 , 重 壤 永 幽 隔 。 如 彼 翰 林 鸟 , 双 栖 一 朝 只 。 如 彼 游 川 鱼\n",
      "y_pred:[0.35587212]\n",
      "y_true:0\n",
      "----------\n",
      "x_seq:欲 构 中 天 正 急 材 , 自 缘 烟 水 恋 平 台 。 [UNK] [PAD] [PAD] [PAD] [PAD] [PAD] [PAD] [PAD] [PAD] [PAD] [PAD] [PAD] [PAD]\n",
      "x_ALLU:毛 女 者 , 字 玉 姜 , 在 华 阴 山 中 , 猎 师 世 世 见 之 , 形 体 生 毛 , 自 言 秦\n",
      "y_pred:[0.419216]\n",
      "y_true:0\n",
      "----------\n",
      "x_seq:伫 看 铭 石 罢 , 同 听 凯 歌 声 。 [UNK] [PAD] [PAD] [PAD] [PAD] [PAD] [PAD] [PAD] [PAD] [PAD] [PAD] [PAD] [PAD] [PAD] [PAD] [PAD] [PAD]\n",
      "x_ALLU:( 宪 ) 与 北 单 于 战 于 稽 落 山 , 大 破 之 。 虏 众 崩 溃 , 单 于 遁 走 。 [UNK] [UNK]\n",
      "y_pred:[0.26734623]\n",
      "y_true:1\n",
      "----------\n",
      "x_seq:伫 看 铭 石 罢 , 同 听 凯 歌 声 。 [UNK] [PAD] [PAD] [PAD] [PAD] [PAD] [PAD] [PAD] [PAD] [PAD] [PAD] [PAD] [PAD] [PAD] [PAD] [PAD] [PAD]\n",
      "x_ALLU:卫 灵 公 之 时 , 弥 子 瑕 有 宠 , 专 于 卫 国 。 侏 儒 有 见 公 者 曰 : [UNK] 臣 之 梦\n",
      "y_pred:[0.40720242]\n",
      "y_true:0\n",
      "----------\n",
      "x_seq:伫 看 铭 石 罢 , 同 听 凯 歌 声 。 [UNK] [PAD] [PAD] [PAD] [PAD] [PAD] [PAD] [PAD] [PAD] [PAD] [PAD] [PAD] [PAD] [PAD] [PAD] [PAD] [PAD]\n",
      "x_ALLU:陆 机 云 : [UNK] [UNK] 虞 , 白 虎 黑 文 , 尾 长 于 躯 , 不 食 生 物 , 不 履 生 草 。 [UNK]\n",
      "y_pred:[0.28446335]\n",
      "y_true:0\n",
      "----------\n",
      "x_seq:伫 看 铭 石 罢 , 同 听 凯 歌 声 。 [UNK] [PAD] [PAD] [PAD] [PAD] [PAD] [PAD] [PAD] [PAD] [PAD] [PAD] [PAD] [PAD] [PAD] [PAD] [PAD] [PAD]\n",
      "x_ALLU:以 柔 巽 之 质 , 干 父 之 事 , 能 承 先 轨 , 堪 其 任 者 也 , 故 曰 [UNK] 有 子 也 [UNK]\n",
      "y_pred:[0.24662799]\n",
      "y_true:0\n",
      "----------\n",
      "x_seq:伫 看 铭 石 罢 , 同 听 凯 歌 声 。 [UNK] [PAD] [PAD] [PAD] [PAD] [PAD] [PAD] [PAD] [PAD] [PAD] [PAD] [PAD] [PAD] [PAD] [PAD] [PAD] [PAD]\n",
      "x_ALLU:王 嘉 , 字 子 年 , 陇 西 安 阳 人 也 。 [UNK] [UNK] 好 为 譬 喻 , 状 如 戏 调 ; 言 未 然\n",
      "y_pred:[0.3929426]\n",
      "y_true:0\n",
      "----------\n",
      "x_seq:伫 看 铭 石 罢 , 同 听 凯 歌 声 。 [UNK] [PAD] [PAD] [PAD] [PAD] [PAD] [PAD] [PAD] [PAD] [PAD] [PAD] [PAD] [PAD] [PAD] [PAD] [PAD] [PAD]\n",
      "x_ALLU:有 诏 归 颍 川 太 守 官 , 以 八 百 石 居 治 如 其 前 。 前 后 八 年 , 郡 中 愈 治 。\n",
      "y_pred:[0.37806514]\n",
      "y_true:0\n",
      "----------\n",
      "x_seq:伫 看 铭 石 罢 , 同 听 凯 歌 声 。 [UNK] [PAD] [PAD] [PAD] [PAD] [PAD] [PAD] [PAD] [PAD] [PAD] [PAD] [PAD] [PAD] [PAD] [PAD] [PAD] [PAD]\n",
      "x_ALLU:天 子 赐 之 上 姬 之 长 , 是 曰 盛 门 。 天 子 乃 为 之 台 , 是 曰 重 璧 之 台 。 [UNK]\n",
      "y_pred:[0.2718411]\n",
      "y_true:0\n",
      "----------\n",
      "x_seq:伫 看 铭 石 罢 , 同 听 凯 歌 声 。 [UNK] [PAD] [PAD] [PAD] [PAD] [PAD] [PAD] [PAD] [PAD] [PAD] [PAD] [PAD] [PAD] [PAD] [PAD] [PAD] [PAD]\n",
      "x_ALLU:于 是 洛 灵 感 焉 [UNK] [UNK] 体 迅 飞 [UNK] , 飘 忽 若 神 , 陵 波 微 步 , 罗 袜 生 尘 。 [UNK]\n",
      "y_pred:[0.6680214]\n",
      "y_true:0\n",
      "----------\n",
      "x_seq:伫 看 铭 石 罢 , 同 听 凯 歌 声 。 [UNK] [PAD] [PAD] [PAD] [PAD] [PAD] [PAD] [PAD] [PAD] [PAD] [PAD] [PAD] [PAD] [PAD] [PAD] [PAD] [PAD]\n",
      "x_ALLU:舜 子 商 均 亦 不 肖 , 舜 乃 豫 荐 禹 于 天 。 十 七 年 而 崩 。 三 年 丧 毕 , 禹 亦\n",
      "y_pred:[0.43937534]\n",
      "y_true:0\n",
      "----------\n",
      "x_seq:伫 看 铭 石 罢 , 同 听 凯 歌 声 。 [UNK] [PAD] [PAD] [PAD] [PAD] [PAD] [PAD] [PAD] [PAD] [PAD] [PAD] [PAD] [PAD] [PAD] [PAD] [PAD] [PAD]\n",
      "x_ALLU:盛 彦 字 翁 子 , 广 陵 人 也 。 少 有 异 才 。 年 八 岁 , 诣 吴 太 尉 戴 昌 , 昌 赠\n",
      "y_pred:[0.36997473]\n",
      "y_true:0\n",
      "----------\n",
      "x_seq:短 才 叨 重 寄 , 尸 禄 愧 妨 贤 。 [UNK] [PAD] [PAD] [PAD] [PAD] [PAD] [PAD] [PAD] [PAD] [PAD] [PAD] [PAD] [PAD] [PAD] [PAD] [PAD] [PAD]\n",
      "x_ALLU:( 朱 ) 云 曰 : [UNK] 今 朝 廷 大 臣 上 不 能 匡 主 , 下 亡 以 益 民 , 皆 尸 位 素 餐\n",
      "y_pred:[0.27751255]\n",
      "y_true:1\n",
      "----------\n",
      "x_seq:短 才 叨 重 寄 , 尸 禄 愧 妨 贤 。 [UNK] [PAD] [PAD] [PAD] [PAD] [PAD] [PAD] [PAD] [PAD] [PAD] [PAD] [PAD] [PAD] [PAD] [PAD] [PAD] [PAD]\n",
      "x_ALLU:以 乐 舞 教 国 子 , 舞 云 门 , 大 卷 、 大 咸 、 大 韶 、 大 夏 、 大 [UNK] 、 大 武 。\n",
      "y_pred:[0.26956648]\n",
      "y_true:0\n",
      "----------\n",
      "x_seq:短 才 叨 重 寄 , 尸 禄 愧 妨 贤 。 [UNK] [PAD] [PAD] [PAD] [PAD] [PAD] [PAD] [PAD] [PAD] [PAD] [PAD] [PAD] [PAD] [PAD] [PAD] [PAD] [PAD]\n",
      "x_ALLU:策 , 马 。 临 别 授 之 马 , 并 示 己 所 策 以 展 情 。 绕 朝 , 秦 大 夫 。 [UNK] [PAD] [PAD]\n",
      "y_pred:[0.31026804]\n",
      "y_true:0\n",
      "----------\n",
      "x_seq:短 才 叨 重 寄 , 尸 禄 愧 妨 贤 。 [UNK] [PAD] [PAD] [PAD] [PAD] [PAD] [PAD] [PAD] [PAD] [PAD] [PAD] [PAD] [PAD] [PAD] [PAD] [PAD] [PAD]\n",
      "x_ALLU:呼 嗟 紫 宫 大 门 。 [UNK] [PAD] [PAD] [PAD] [PAD] [PAD] [PAD] [PAD] [PAD] [PAD] [PAD] [PAD] [PAD] [PAD] [PAD] [PAD] [PAD] [PAD] [PAD] [PAD] [PAD] [PAD]\n",
      "y_pred:[0.27307266]\n",
      "y_true:0\n",
      "----------\n",
      "x_seq:短 才 叨 重 寄 , 尸 禄 愧 妨 贤 。 [UNK] [PAD] [PAD] [PAD] [PAD] [PAD] [PAD] [PAD] [PAD] [PAD] [PAD] [PAD] [PAD] [PAD] [PAD] [PAD] [PAD]\n",
      "x_ALLU:文 帝 二 年 九 月 , 初 与 郡 守 为 铜 虎 符 、 竹 使 符 。 [UNK] [PAD] [PAD] [PAD] [PAD] [PAD] [PAD] [PAD] [PAD]\n",
      "y_pred:[0.28351223]\n",
      "y_true:0\n",
      "----------\n",
      "x_seq:短 才 叨 重 寄 , 尸 禄 愧 妨 贤 。 [UNK] [PAD] [PAD] [PAD] [PAD] [PAD] [PAD] [PAD] [PAD] [PAD] [PAD] [PAD] [PAD] [PAD] [PAD] [PAD] [PAD]\n",
      "x_ALLU:骠 骑 将 军 ( 霍 去 病 ) 为 人 少 言 不 泄 , 有 气 敢 任 。 [UNK] [UNK] 天 子 为 治 第 ,\n",
      "y_pred:[0.37739164]\n",
      "y_true:0\n",
      "----------\n",
      "x_seq:短 才 叨 重 寄 , 尸 禄 愧 妨 贤 。 [UNK] [PAD] [PAD] [PAD] [PAD] [PAD] [PAD] [PAD] [PAD] [PAD] [PAD] [PAD] [PAD] [PAD] [PAD] [PAD] [PAD]\n",
      "x_ALLU:本 始 三 年 , 代 蔡 义 为 丞 相 , 封 扶 阳 侯 , 食 邑 七 百 户 。 [UNK] [PAD] [PAD] [PAD] [PAD] [PAD]\n",
      "y_pred:[0.4805703]\n",
      "y_true:0\n",
      "----------\n",
      "x_seq:短 才 叨 重 寄 , 尸 禄 愧 妨 贤 。 [UNK] [PAD] [PAD] [PAD] [PAD] [PAD] [PAD] [PAD] [PAD] [PAD] [PAD] [PAD] [PAD] [PAD] [PAD] [PAD] [PAD]\n",
      "x_ALLU:夫 蜀 都 者 , 盖 兆 基 于 上 世 , 开 国 于 中 古 。 [UNK] [PAD] [PAD] [PAD] [PAD] [PAD] [PAD] [PAD] [PAD] [PAD] [PAD]\n",
      "y_pred:[0.3135985]\n",
      "y_true:0\n",
      "----------\n",
      "x_seq:短 才 叨 重 寄 , 尸 禄 愧 妨 贤 。 [UNK] [PAD] [PAD] [PAD] [PAD] [PAD] [PAD] [PAD] [PAD] [PAD] [PAD] [PAD] [PAD] [PAD] [PAD] [PAD] [PAD]\n",
      "x_ALLU:时 周 继 之 入 庐 山 , 事 释 慧 远 , 彭 城 刘 遗 民 亦 遁 迹 匡 山 , 渊 明 又 不 应\n",
      "y_pred:[0.6240079]\n",
      "y_true:0\n",
      "----------\n",
      "x_seq:短 才 叨 重 寄 , 尸 禄 愧 妨 贤 。 [UNK] [PAD] [PAD] [PAD] [PAD] [PAD] [PAD] [PAD] [PAD] [PAD] [PAD] [PAD] [PAD] [PAD] [PAD] [PAD] [PAD]\n",
      "x_ALLU:伍 子 胥 谏 曰 : [UNK] 夫 越 , 腹 心 之 病 , 今 信 其 浮 辞 诈 伪 而 贪 齐 [UNK] [UNK] 愿 王\n",
      "y_pred:[0.29768926]\n",
      "y_true:0\n",
      "----------\n",
      "x_seq:愧 无 青 玉 案 , 缄 佩 永 不 泯 。 [UNK] [PAD] [PAD] [PAD] [PAD] [PAD] [PAD] [PAD] [PAD] [PAD] [PAD] [PAD] [PAD] [PAD] [PAD] [PAD] [PAD]\n",
      "x_ALLU:玉 案 , 美 器 可 以 致 食 。 [UNK] [PAD] [PAD] [PAD] [PAD] [PAD] [PAD] [PAD] [PAD] [PAD] [PAD] [PAD] [PAD] [PAD] [PAD] [PAD] [PAD] [PAD] [PAD]\n",
      "y_pred:[0.2956492]\n",
      "y_true:1\n",
      "----------\n",
      "x_seq:愧 无 青 玉 案 , 缄 佩 永 不 泯 。 [UNK] [PAD] [PAD] [PAD] [PAD] [PAD] [PAD] [PAD] [PAD] [PAD] [PAD] [PAD] [PAD] [PAD] [PAD] [PAD] [PAD]\n",
      "x_ALLU:玩 字 士 瑶 。 器 量 淹 雅 , 弱 冠 有 美 名 , 贺 循 每 称 其 清 允 平 当 。 [UNK] [UNK] 王\n",
      "y_pred:[0.5042627]\n",
      "y_true:0\n",
      "----------\n",
      "x_seq:愧 无 青 玉 案 , 缄 佩 永 不 泯 。 [UNK] [PAD] [PAD] [PAD] [PAD] [PAD] [PAD] [PAD] [PAD] [PAD] [PAD] [PAD] [PAD] [PAD] [PAD] [PAD] [PAD]\n",
      "x_ALLU:昔 在 帝 尧 , 聪 明 文 思 , 光 宅 天 下 , 将 逊 于 位 , 让 于 虞 舜 。 [UNK] [PAD] [PAD] [PAD]\n",
      "y_pred:[0.30372414]\n",
      "y_true:0\n",
      "----------\n",
      "x_seq:愧 无 青 玉 案 , 缄 佩 永 不 泯 。 [UNK] [PAD] [PAD] [PAD] [PAD] [PAD] [PAD] [PAD] [PAD] [PAD] [PAD] [PAD] [PAD] [PAD] [PAD] [PAD] [PAD]\n",
      "x_ALLU:卓 茂 为 密 令 , 劳 心 谆 谆 , 视 人 如 子 , 举 善 而 教 , 口 无 恶 言 , 吏 人 亲\n",
      "y_pred:[0.23127675]\n",
      "y_true:0\n",
      "----------\n",
      "x_seq:愧 无 青 玉 案 , 缄 佩 永 不 泯 。 [UNK] [PAD] [PAD] [PAD] [PAD] [PAD] [PAD] [PAD] [PAD] [PAD] [PAD] [PAD] [PAD] [PAD] [PAD] [PAD] [PAD]\n",
      "x_ALLU:谢 子 微 见 许 子 将 兄 弟 曰 : [UNK] 平 舆 之 渊 , 有 二 龙 焉 。 [UNK] [UNK] [PAD] [PAD] [PAD] [PAD] [PAD]\n",
      "y_pred:[0.39146167]\n",
      "y_true:0\n",
      "----------\n",
      "x_seq:愧 无 青 玉 案 , 缄 佩 永 不 泯 。 [UNK] [PAD] [PAD] [PAD] [PAD] [PAD] [PAD] [PAD] [PAD] [PAD] [PAD] [PAD] [PAD] [PAD] [PAD] [PAD] [PAD]\n",
      "x_ALLU:[UNK] 苻 , 泽 名 。 于 泽 中 劫 人 。 [UNK] [PAD] [PAD] [PAD] [PAD] [PAD] [PAD] [PAD] [PAD] [PAD] [PAD] [PAD] [PAD] [PAD] [PAD] [PAD] [PAD]\n",
      "y_pred:[0.30886555]\n",
      "y_true:0\n",
      "----------\n",
      "x_seq:愧 无 青 玉 案 , 缄 佩 永 不 泯 。 [UNK] [PAD] [PAD] [PAD] [PAD] [PAD] [PAD] [PAD] [PAD] [PAD] [PAD] [PAD] [PAD] [PAD] [PAD] [PAD] [PAD]\n",
      "x_ALLU:蓼 蓼 者 莪 , 匪 我 伊 蒿 。 哀 哀 父 母 , 生 我 [UNK] 劳 。 [UNK] [PAD] [PAD] [PAD] [PAD] [PAD] [PAD] [PAD] [PAD]\n",
      "y_pred:[0.3721952]\n",
      "y_true:0\n",
      "----------\n",
      "x_seq:愧 无 青 玉 案 , 缄 佩 永 不 泯 。 [UNK] [PAD] [PAD] [PAD] [PAD] [PAD] [PAD] [PAD] [PAD] [PAD] [PAD] [PAD] [PAD] [PAD] [PAD] [PAD] [PAD]\n",
      "x_ALLU:贾 谊 陈 政 事 疏 : 里 谚 曰 : [UNK] 欲 投 鼠 而 忌 器 。 [UNK] 此 善 喻 也 。 鼠 近 于 器\n",
      "y_pred:[0.37688372]\n",
      "y_true:0\n",
      "----------\n",
      "x_seq:愧 无 青 玉 案 , 缄 佩 永 不 泯 。 [UNK] [PAD] [PAD] [PAD] [PAD] [PAD] [PAD] [PAD] [PAD] [PAD] [PAD] [PAD] [PAD] [PAD] [PAD] [PAD] [PAD]\n",
      "x_ALLU:昔 有 夫 妇 将 别 , 破 镜 人 执 半 以 为 信 。 其 妻 与 人 通 , 其 镜 化 鹊 , 飞 至\n",
      "y_pred:[0.28111702]\n",
      "y_true:0\n",
      "----------\n",
      "x_seq:愧 无 青 玉 案 , 缄 佩 永 不 泯 。 [UNK] [PAD] [PAD] [PAD] [PAD] [PAD] [PAD] [PAD] [PAD] [PAD] [PAD] [PAD] [PAD] [PAD] [PAD] [PAD] [PAD]\n",
      "x_ALLU:枯 者 嘘 之 使 生 , 生 者 吹 之 使 枯 。 言 谈 论 有 所 抑 扬 也 。 [UNK] [PAD] [PAD] [PAD] [PAD] [PAD]\n",
      "y_pred:[0.2622525]\n",
      "y_true:0\n",
      "----------\n",
      "x_seq:赴 敌 甘 负 戈 , 论 兵 勇 投 笔 。 [UNK] [PAD] [PAD] [PAD] [PAD] [PAD] [PAD] [PAD] [PAD] [PAD] [PAD] [PAD] [PAD] [PAD] [PAD] [PAD] [PAD]\n",
      "x_ALLU:班 超 家 贫 , 常 为 官 佣 书 以 供 养 [UNK] [UNK] 其 后 行 诣 相 者 , 曰 : [UNK] 祭 酒 , 布\n",
      "y_pred:[0.39639637]\n",
      "y_true:1\n",
      "----------\n",
      "x_seq:赴 敌 甘 负 戈 , 论 兵 勇 投 笔 。 [UNK] [PAD] [PAD] [PAD] [PAD] [PAD] [PAD] [PAD] [PAD] [PAD] [PAD] [PAD] [PAD] [PAD] [PAD] [PAD] [PAD]\n",
      "x_ALLU:魏 文 侯 与 士 大 夫 坐 , 问 曰 : [UNK] 寡 人 何 如 君 也 ? [UNK] 群 臣 皆 曰 : [UNK] 君 ,\n",
      "y_pred:[0.27388763]\n",
      "y_true:0\n",
      "----------\n",
      "x_seq:赴 敌 甘 负 戈 , 论 兵 勇 投 笔 。 [UNK] [PAD] [PAD] [PAD] [PAD] [PAD] [PAD] [PAD] [PAD] [PAD] [PAD] [PAD] [PAD] [PAD] [PAD] [PAD] [PAD]\n",
      "x_ALLU:荀 淑 字 季 和 , 颍 川 颍 阴 人 [UNK] [UNK] 少 有 高 行 。 有 子 八 人 [UNK] [UNK] 并 有 名 称 ,\n",
      "y_pred:[0.5323127]\n",
      "y_true:0\n",
      "----------\n",
      "x_seq:赴 敌 甘 负 戈 , 论 兵 勇 投 笔 。 [UNK] [PAD] [PAD] [PAD] [PAD] [PAD] [PAD] [PAD] [PAD] [PAD] [PAD] [PAD] [PAD] [PAD] [PAD] [PAD] [PAD]\n",
      "x_ALLU:暮 春 和 气 应 , 白 日 照 园 林 。 青 条 若 总 翠 , 黄 华 如 散 金 。 [UNK] [UNK] 讴 吟 何\n",
      "y_pred:[0.34175026]\n",
      "y_true:0\n",
      "----------\n",
      "x_seq:赴 敌 甘 负 戈 , 论 兵 勇 投 笔 。 [UNK] [PAD] [PAD] [PAD] [PAD] [PAD] [PAD] [PAD] [PAD] [PAD] [PAD] [PAD] [PAD] [PAD] [PAD] [PAD] [PAD]\n",
      "x_ALLU:初 , 上 为 太 子 时 , 娶 长 公 主 女 为 妃 。 立 为 帝 , 妃 立 为 皇 后 , 姓 陈 氏\n",
      "y_pred:[0.3427906]\n",
      "y_true:0\n",
      "----------\n",
      "x_seq:赴 敌 甘 负 戈 , 论 兵 勇 投 笔 。 [UNK] [PAD] [PAD] [PAD] [PAD] [PAD] [PAD] [PAD] [PAD] [PAD] [PAD] [PAD] [PAD] [PAD] [PAD] [PAD] [PAD]\n",
      "x_ALLU:时 年 四 十 二 。 [UNK] [PAD] [PAD] [PAD] [PAD] [PAD] [PAD] [PAD] [PAD] [PAD] [PAD] [PAD] [PAD] [PAD] [PAD] [PAD] [PAD] [PAD] [PAD] [PAD] [PAD] [PAD] [PAD]\n",
      "y_pred:[0.43137276]\n",
      "y_true:0\n",
      "----------\n",
      "x_seq:赴 敌 甘 负 戈 , 论 兵 勇 投 笔 。 [UNK] [PAD] [PAD] [PAD] [PAD] [PAD] [PAD] [PAD] [PAD] [PAD] [PAD] [PAD] [PAD] [PAD] [PAD] [PAD] [PAD]\n",
      "x_ALLU:余 有 数 亩 敝 庐 , 寂 寞 人 外 , 聊 以 拟 伏 腊 , 聊 以 避 风 霜 。 [UNK] [PAD] [PAD] [PAD] [PAD]\n",
      "y_pred:[0.3511042]\n",
      "y_true:0\n",
      "----------\n",
      "x_seq:赴 敌 甘 负 戈 , 论 兵 勇 投 笔 。 [UNK] [PAD] [PAD] [PAD] [PAD] [PAD] [PAD] [PAD] [PAD] [PAD] [PAD] [PAD] [PAD] [PAD] [PAD] [PAD] [PAD]\n",
      "x_ALLU:梁 孝 王 好 营 宫 室 苑 圃 之 乐 , 作 曜 华 之 宫 , 筑 兔 园 。 [UNK] 园 中 有 百 灵 山\n",
      "y_pred:[0.41634673]\n",
      "y_true:0\n",
      "----------\n",
      "x_seq:赴 敌 甘 负 戈 , 论 兵 勇 投 笔 。 [UNK] [PAD] [PAD] [PAD] [PAD] [PAD] [PAD] [PAD] [PAD] [PAD] [PAD] [PAD] [PAD] [PAD] [PAD] [PAD] [PAD]\n",
      "x_ALLU:游 齐 诸 子 间 , 诸 儒 生 相 与 排 [UNK] , 不 容 于 齐 。 家 贫 , 假 贷 无 所 得 , 北\n",
      "y_pred:[0.32897353]\n",
      "y_true:0\n",
      "----------\n",
      "x_seq:赴 敌 甘 负 戈 , 论 兵 勇 投 笔 。 [UNK] [PAD] [PAD] [PAD] [PAD] [PAD] [PAD] [PAD] [PAD] [PAD] [PAD] [PAD] [PAD] [PAD] [PAD] [PAD] [PAD]\n",
      "x_ALLU:《 诗 》 云 : [UNK] 尹 氏 大 师 , 秉 国 之 钧 , 四 方 是 维 , 天 子 是 毗 , 俾 民 不\n",
      "y_pred:[0.31373292]\n",
      "y_true:0\n",
      "----------\n",
      "x_seq:苦 摇 求 食 尾 , 常 曝 报 恩 腮 。 [UNK] [PAD] [PAD] [PAD] [PAD] [PAD] [PAD] [PAD] [PAD] [PAD] [PAD] [PAD] [PAD] [PAD] [PAD] [PAD] [PAD]\n",
      "x_ALLU:河 津 一 名 龙 门 , 大 鱼 集 龙 门 下 数 千 , 不 得 上 。 上 者 为 龙 , 不 上 者 [UNK]\n",
      "y_pred:[0.3363733]\n",
      "y_true:1\n",
      "----------\n",
      "x_seq:苦 摇 求 食 尾 , 常 曝 报 恩 腮 。 [UNK] [PAD] [PAD] [PAD] [PAD] [PAD] [PAD] [PAD] [PAD] [PAD] [PAD] [PAD] [PAD] [PAD] [PAD] [PAD] [PAD]\n",
      "x_ALLU:元 帝 初 即 位 , 有 日 蚀 地 震 之 变 , 上 问 以 政 治 得 失 , 衡 上 疏 曰 [UNK] [UNK] [UNK]\n",
      "y_pred:[0.57344246]\n",
      "y_true:0\n",
      "----------\n",
      "x_seq:苦 摇 求 食 尾 , 常 曝 报 恩 腮 。 [UNK] [PAD] [PAD] [PAD] [PAD] [PAD] [PAD] [PAD] [PAD] [PAD] [PAD] [PAD] [PAD] [PAD] [PAD] [PAD] [PAD]\n",
      "x_ALLU:贾 生 名 谊 , 雒 阳 人 也 。 绛 、 灌 、 东 阳 侯 、 冯 敬 之 属 尽 害 之 , 乃 短 贾\n",
      "y_pred:[0.6883023]\n",
      "y_true:0\n",
      "----------\n",
      "x_seq:苦 摇 求 食 尾 , 常 曝 报 恩 腮 。 [UNK] [PAD] [PAD] [PAD] [PAD] [PAD] [PAD] [PAD] [PAD] [PAD] [PAD] [PAD] [PAD] [PAD] [PAD] [PAD] [PAD]\n",
      "x_ALLU:或 称 伊 、 霍 之 勋 , 无 谢 于 往 载 ; 或 谓 良 、 平 之 画 , 复 兴 于 当 今 。 [UNK]\n",
      "y_pred:[0.45176667]\n",
      "y_true:0\n",
      "----------\n",
      "x_seq:苦 摇 求 食 尾 , 常 曝 报 恩 腮 。 [UNK] [PAD] [PAD] [PAD] [PAD] [PAD] [PAD] [PAD] [PAD] [PAD] [PAD] [PAD] [PAD] [PAD] [PAD] [PAD] [PAD]\n",
      "x_ALLU:九 鼎 , 殷 所 受 夏 九 鼎 也 。 武 王 克 商 , 乃 营 雒 邑 而 后 去 之 , 又 迁 九 鼎\n",
      "y_pred:[0.31563586]\n",
      "y_true:0\n",
      "----------\n",
      "x_seq:苦 摇 求 食 尾 , 常 曝 报 恩 腮 。 [UNK] [PAD] [PAD] [PAD] [PAD] [PAD] [PAD] [PAD] [PAD] [PAD] [PAD] [PAD] [PAD] [PAD] [PAD] [PAD] [PAD]\n",
      "x_ALLU:贲 , 勇 士 也 。 [UNK] [PAD] [PAD] [PAD] [PAD] [PAD] [PAD] [PAD] [PAD] [PAD] [PAD] [PAD] [PAD] [PAD] [PAD] [PAD] [PAD] [PAD] [PAD] [PAD] [PAD] [PAD] [PAD]\n",
      "y_pred:[0.23061931]\n",
      "y_true:0\n",
      "----------\n",
      "x_seq:苦 摇 求 食 尾 , 常 曝 报 恩 腮 。 [UNK] [PAD] [PAD] [PAD] [PAD] [PAD] [PAD] [PAD] [PAD] [PAD] [PAD] [PAD] [PAD] [PAD] [PAD] [PAD] [PAD]\n",
      "x_ALLU:西 汉 名 将 卫 青 , 于 元 朔 二 年 出 击 匈 奴 有 功 , 汉 武 帝 制 文 云 : 今 车 骑\n",
      "y_pred:[0.3464483]\n",
      "y_true:0\n",
      "----------\n",
      "x_seq:苦 摇 求 食 尾 , 常 曝 报 恩 腮 。 [UNK] [PAD] [PAD] [PAD] [PAD] [PAD] [PAD] [PAD] [PAD] [PAD] [PAD] [PAD] [PAD] [PAD] [PAD] [PAD] [PAD]\n",
      "x_ALLU:昆 仑 之 山 三 级 : 下 曰 樊 桐 , 一 名 板 松 ; 二 曰 玄 圃 , 一 名 阆 风 ; 上 曰\n",
      "y_pred:[0.40036446]\n",
      "y_true:0\n",
      "----------\n",
      "x_seq:苦 摇 求 食 尾 , 常 曝 报 恩 腮 。 [UNK] [PAD] [PAD] [PAD] [PAD] [PAD] [PAD] [PAD] [PAD] [PAD] [PAD] [PAD] [PAD] [PAD] [PAD] [PAD] [PAD]\n",
      "x_ALLU:先 主 领 荆 州 , 统 以 从 事 守 耒 阳 令 , 在 县 不 治 , 免 官 。 吴 将 鲁 肃 遗 先\n",
      "y_pred:[0.40597668]\n",
      "y_true:0\n",
      "----------\n",
      "x_seq:苦 摇 求 食 尾 , 常 曝 报 恩 腮 。 [UNK] [PAD] [PAD] [PAD] [PAD] [PAD] [PAD] [PAD] [PAD] [PAD] [PAD] [PAD] [PAD] [PAD] [PAD] [PAD] [PAD]\n",
      "x_ALLU:( 简 ) 主 俯 而 笑 曰 : [UNK] 夫 树 橘 柚 者 , 食 之 则 甘 , 嗅 之 则 香 ; 树 枳 棘\n",
      "y_pred:[0.3167982]\n",
      "y_true:0\n",
      "----------\n",
      "x_seq:冶 长 非 罪 曾 [UNK] [UNK] , 长 孺 然 灰 也 经 溺 。 [UNK] [PAD] [PAD] [PAD] [PAD] [PAD] [PAD] [PAD] [PAD] [PAD] [PAD] [PAD] [PAD]\n",
      "x_ALLU:旧 说 冶 长 解 禽 语 , 故 系 之 [UNK] [UNK] 。 [UNK] [PAD] [PAD] [PAD] [PAD] [PAD] [PAD] [PAD] [PAD] [PAD] [PAD] [PAD] [PAD] [PAD] [PAD]\n",
      "y_pred:[0.2989591]\n",
      "y_true:1\n",
      "----------\n",
      "x_seq:冶 长 非 罪 曾 [UNK] [UNK] , 长 孺 然 灰 也 经 溺 。 [UNK] [PAD] [PAD] [PAD] [PAD] [PAD] [PAD] [PAD] [PAD] [PAD] [PAD] [PAD] [PAD]\n",
      "x_ALLU:神 庶 几 助 我 渡 民 危 害 , 无 为 神 羞 辱 。 [UNK] [PAD] [PAD] [PAD] [PAD] [PAD] [PAD] [PAD] [PAD] [PAD] [PAD] [PAD] [PAD]\n",
      "y_pred:[0.31238955]\n",
      "y_true:0\n",
      "----------\n",
      "x_seq:冶 长 非 罪 曾 [UNK] [UNK] , 长 孺 然 灰 也 经 溺 。 [UNK] [PAD] [PAD] [PAD] [PAD] [PAD] [PAD] [PAD] [PAD] [PAD] [PAD] [PAD] [PAD]\n",
      "x_ALLU:扈 江 [UNK] 与 辟 芷 兮 , 纫 秋 兰 以 为 佩 。 [UNK] [PAD] [PAD] [PAD] [PAD] [PAD] [PAD] [PAD] [PAD] [PAD] [PAD] [PAD] [PAD] [PAD]\n",
      "y_pred:[0.66608316]\n",
      "y_true:0\n",
      "----------\n",
      "x_seq:冶 长 非 罪 曾 [UNK] [UNK] , 长 孺 然 灰 也 经 溺 。 [UNK] [PAD] [PAD] [PAD] [PAD] [PAD] [PAD] [PAD] [PAD] [PAD] [PAD] [PAD] [PAD]\n",
      "x_ALLU:古 之 人 , 得 志 , 泽 加 于 民 ; 不 得 志 , 修 身 见 于 世 。 穷 则 独 善 其 身 ,\n",
      "y_pred:[0.2895982]\n",
      "y_true:0\n",
      "----------\n",
      "END:**************************************************\n",
      "array([[0.37154558, 0.3376127 , 0.5402507 , 0.43185985, 0.21573618,\n",
      "        0.30296594, 0.32581854, 0.20216227, 0.35587212, 0.419216  ],\n",
      "       [0.26734623, 0.40720242, 0.28446335, 0.24662799, 0.3929426 ,\n",
      "        0.37806514, 0.2718411 , 0.6680214 , 0.43937534, 0.36997473],\n",
      "       [0.27751255, 0.26956648, 0.31026804, 0.27307266, 0.28351223,\n",
      "        0.37739164, 0.4805703 , 0.3135985 , 0.6240079 , 0.29768926],\n",
      "       [0.2956492 , 0.5042627 , 0.30372414, 0.23127675, 0.39146167,\n",
      "        0.30886555, 0.3721952 , 0.37688372, 0.28111702, 0.2622525 ],\n",
      "       [0.39639637, 0.27388763, 0.5323127 , 0.34175026, 0.3427906 ,\n",
      "        0.43137276, 0.3511042 , 0.41634673, 0.32897353, 0.31373292],\n",
      "       [0.3363733 , 0.57344246, 0.6883023 , 0.45176667, 0.31563586,\n",
      "        0.23061931, 0.3464483 , 0.40036446, 0.40597668, 0.3167982 ],\n",
      "       [0.2989591 , 0.31238955, 0.66608316, 0.2895982 , 0.26224792,\n",
      "        0.31105587, 0.2363525 , 0.3081661 , 0.4608999 , 0.38233295],\n",
      "       [0.88808167, 0.3073553 , 0.40250197, 0.2462697 , 0.3231444 ,\n",
      "        0.3103624 , 0.48727924, 0.33448106, 0.54483235, 0.42644465],\n",
      "       [0.36415407, 0.37960565, 0.29780653, 0.32234427, 0.36701518,\n",
      "        0.34901872, 0.3383366 , 0.31956917, 0.29984546, 0.27619576],\n",
      "       [0.24713892, 0.34011567, 0.26700756, 0.41378307, 0.34117267,\n",
      "        0.40654773, 0.54155755, 0.41641638, 0.29717708, 0.2922487 ]],\n",
      "      dtype=float32)\n",
      "array([2, 3, 9, 0, 8, 1, 6, 5, 4, 7])\n",
      "[0, 0, 0, 1, 0, 0, 0, 0, 0, 0]\n",
      "array([7, 8, 1, 4, 5, 9, 2, 6, 0, 3])\n",
      "[0, 0, 0, 0, 0, 0, 0, 0, 1, 0]\n",
      "array([8, 6, 5, 7, 2, 9, 4, 0, 3, 1])\n",
      "[0, 0, 0, 0, 0, 0, 0, 1, 0, 0]\n",
      "array([1, 4, 7, 6, 5, 2, 0, 8, 9, 3])\n",
      "[0, 0, 0, 0, 0, 0, 1, 0, 0, 0]\n",
      "array([2, 5, 7, 0, 6, 4, 3, 8, 9, 1])\n",
      "[0, 0, 0, 1, 0, 0, 0, 0, 0, 0]\n",
      "array([2, 1, 3, 8, 7, 6, 0, 9, 4, 5])\n",
      "[0, 0, 0, 0, 0, 0, 1, 0, 0, 0]\n",
      "array([2, 8, 9, 1, 5, 7, 0, 3, 4, 6])\n",
      "[0, 0, 0, 0, 0, 0, 1, 0, 0, 0]\n",
      "array([0, 8, 6, 9, 2, 7, 4, 5, 1, 3])\n",
      "[1, 0, 0, 0, 0, 0, 0, 0, 0, 0]\n",
      "array([1, 4, 0, 5, 6, 3, 7, 8, 2, 9])\n",
      "[0, 0, 1, 0, 0, 0, 0, 0, 0, 0]\n",
      "array([6, 7, 3, 5, 4, 1, 8, 9, 2, 0])\n",
      "[0, 0, 0, 0, 0, 0, 0, 0, 0, 1]\n",
      "\n",
      "----------------------------------ALLU_SOURCE PAIRMATCH METRICS -----------------------------------\n",
      "\n",
      "epoch:PAIRMATCH AVG_RANKING MRR: 0.5062\n",
      "\n",
      "----------------------------------ALLU_SOURCE END ----------------------------------\n"
     ]
    },
    {
     "name": "stderr",
     "output_type": "stream",
     "text": [
      "I:BASE TASK:[base_task.:270]:Task ALLU_SOURCE:\n",
      "I:BASE TASK:[base_task.:271]:\t319 training batches\n",
      "I:BASE TASK:[base_task.:272]:\t57 validation batches\n",
      "I:BASE TASK:[base_task.:273]:\t469 test batches\n",
      "I:BERT EMBEDDING:[bert_embed:105]:seq_len:30\n",
      "I:BERT EMBEDDING:[bert_embed:105]:seq_len:30\n",
      "I:AHMTL MODEL:[AHMTL.py:126]:Multi-Task Learning Model has been instantiated.\n",
      "I:CUR_SPLIT:3:[sampler_mu: 92]:Set up ready. Begining training/validation.\n",
      "I:BASE-MODEL:[base_model:133]:NER's model_dir is ./model_ckpt/2020-02-05-02_23_48/3/NER-Naive_CRF_Model\n",
      "I:BASE-MODEL:[base_model:232]:[NER]:train info:Train on 14684 samples, validate on 2592 samples\n",
      "I:BASE-MODEL:[base_model:133]:ALLU_SOURCE's model_dir is ./model_ckpt/2020-02-05-02_23_48/3/ALLU_SOURCE-NaiveDenseModel\n",
      "I:BASE-MODEL:[base_model:232]:[ALLU_SOURCE]:train info:Train on 20400 samples, validate on 3600 samples\n"
     ]
    },
    {
     "name": "stdout",
     "output_type": "stream",
     "text": [
      "Epoch 1/50\n",
      "549/549 [==============================] - 259s 472ms/step - task_name:     NER     - loss: 5.2101 - accuracy: 0.8048 - val_loss: 10.4926 - val_accuracy: 0.8086\n",
      "549/549 [==============================] - 259s 472ms/step - task_name: ALLU_SOURCE - loss: 0.7222 - accuracy: 0.5782 - val_loss: 0.6272 - val_accuracy: 0.6297 \n"
     ]
    },
    {
     "name": "stderr",
     "output_type": "stream",
     "text": [
      "I:CUR_SPLIT:3:[sampler_mu:139]:----------------------------------------------------------------------------------------------------\n"
     ]
    },
    {
     "name": "stdout",
     "output_type": "stream",
     "text": [
      "Epoch 2/50\n",
      "549/549 [==============================] - 175s 318ms/step - task_name:     NER     - loss: 4.1836 - accuracy: 0.8207 - val_loss: 9.6054 - val_accuracy: 0.8133\n",
      "549/549 [==============================] - 175s 318ms/step - task_name: ALLU_SOURCE - loss: 0.6701 - accuracy: 0.5569 - val_loss: 0.7043 - val_accuracy: 0.5063\n"
     ]
    },
    {
     "name": "stderr",
     "output_type": "stream",
     "text": [
      "I:CUR_SPLIT:3:[sampler_mu:139]:----------------------------------------------------------------------------------------------------\n"
     ]
    },
    {
     "name": "stdout",
     "output_type": "stream",
     "text": [
      "Epoch 3/50\n",
      "549/549 [==============================] - 174s 316ms/step - task_name:     NER     - loss: 3.5687 - accuracy: 0.8271 - val_loss: 9.0676 - val_accuracy: 0.8153\n",
      "549/549 [==============================] - 174s 316ms/step - task_name: ALLU_SOURCE - loss: 0.7131 - accuracy: 0.5033 - val_loss: 0.7026 - val_accuracy: 0.4846\n"
     ]
    },
    {
     "name": "stderr",
     "output_type": "stream",
     "text": [
      "I:CUR_SPLIT:3:[sampler_mu:139]:----------------------------------------------------------------------------------------------------\n"
     ]
    },
    {
     "name": "stdout",
     "output_type": "stream",
     "text": [
      "Epoch 4/50\n",
      "549/549 [==============================] - 167s 304ms/step - task_name:     NER     - loss: 3.2508 - accuracy: 0.8312 - val_loss: 8.7324 - val_accuracy: 0.8204\n",
      "549/549 [==============================] - 167s 304ms/step - task_name: ALLU_SOURCE - loss: 0.7141 - accuracy: 0.5057 - val_loss: 0.7029 - val_accuracy: 0.4937\n"
     ]
    },
    {
     "name": "stderr",
     "output_type": "stream",
     "text": [
      "I:CUR_SPLIT:3:[sampler_mu:139]:----------------------------------------------------------------------------------------------------\n"
     ]
    },
    {
     "name": "stdout",
     "output_type": "stream",
     "text": [
      "Epoch 5/50\n",
      "548/549 [============================>.] - ETA: 0s - task_name: ALLU_SOURCE - loss: 0.6965 - accuracy: 0.5036\n",
      "Epoch 00005: ReduceLROnPlateau reducing learning rate to 0.0007000000332482159.\n",
      "549/549 [==============================] - 166s 302ms/step - task_name:     NER     - loss: 3.2657 - accuracy: 0.8330 - val_loss: 8.4894 - val_accuracy: 0.8270\n",
      "549/549 [==============================] - 166s 302ms/step - task_name: ALLU_SOURCE - loss: 0.6774 - accuracy: 0.5036 - val_loss: 0.7027 - val_accuracy: 0.4945\n"
     ]
    },
    {
     "name": "stderr",
     "output_type": "stream",
     "text": [
      "I:CUR_SPLIT:3:[sampler_mu:139]:----------------------------------------------------------------------------------------------------\n"
     ]
    },
    {
     "name": "stdout",
     "output_type": "stream",
     "text": [
      "Epoch 6/50\n",
      "549/549 [==============================] - 178s 325ms/step - task_name:     NER     - loss: 3.0465 - accuracy: 0.8350 - val_loss: 8.1536 - val_accuracy: 0.8082\n",
      "549/549 [==============================] - 178s 325ms/step - task_name: ALLU_SOURCE - loss: 0.6814 - accuracy: 0.5008 - val_loss: 0.7026 - val_accuracy: 0.4937\n"
     ]
    },
    {
     "name": "stderr",
     "output_type": "stream",
     "text": [
      "I:CUR_SPLIT:3:[sampler_mu:139]:----------------------------------------------------------------------------------------------------\n"
     ]
    },
    {
     "name": "stdout",
     "output_type": "stream",
     "text": [
      "Epoch 7/50\n",
      "549/549 [==============================] - 209s 380ms/step - task_name:     NER     - loss: 2.6712 - accuracy: 0.8373 - val_loss: 8.1151 - val_accuracy: 0.8101\n",
      "549/549 [==============================] - 209s 380ms/step - task_name: ALLU_SOURCE - loss: 0.7205 - accuracy: 0.4978 - val_loss: 0.7026 - val_accuracy: 0.4940\n"
     ]
    },
    {
     "name": "stderr",
     "output_type": "stream",
     "text": [
      "I:CUR_SPLIT:3:[sampler_mu:139]:----------------------------------------------------------------------------------------------------\n"
     ]
    },
    {
     "name": "stdout",
     "output_type": "stream",
     "text": [
      "Epoch 8/50\n",
      "548/549 [============================>.] - ETA: 0s - task_name:     NER     - loss: 2.5660 - accuracy: 0.8369\n",
      "Epoch 00008: ReduceLROnPlateau reducing learning rate to 0.0004900000232737511.\n",
      "549/549 [==============================] - 172s 313ms/step - task_name:     NER     - loss: 2.7241 - accuracy: 0.8369 - val_loss: 8.1074 - val_accuracy: 0.7348\n",
      "549/549 [==============================] - 172s 313ms/step - task_name: ALLU_SOURCE - loss: 0.6922 - accuracy: 0.4962 - val_loss: 0.7028 - val_accuracy: 0.4934\n"
     ]
    },
    {
     "name": "stderr",
     "output_type": "stream",
     "text": [
      "I:CUR_SPLIT:3:[sampler_mu:139]:----------------------------------------------------------------------------------------------------\n"
     ]
    },
    {
     "name": "stdout",
     "output_type": "stream",
     "text": [
      "Epoch 9/50\n",
      "549/549 [==============================] - 65s 118ms/step - task_name:     NER     - loss: 3.3832 - accuracy: 0.8126 - val_loss: 7.9536 - val_accuracy: 0.7351\n"
     ]
    },
    {
     "name": "stderr",
     "output_type": "stream",
     "text": [
      "I:CUR_SPLIT:3:[sampler_mu:139]:----------------------------------------------------------------------------------------------------\n"
     ]
    },
    {
     "name": "stdout",
     "output_type": "stream",
     "text": [
      "Epoch 10/50\n",
      "549/549 [==============================] - 54s 99ms/step - task_name:     NER     - loss: 2.5839 - accuracy: 0.8196 - val_loss: 7.9419 - val_accuracy: 0.7472\n"
     ]
    },
    {
     "name": "stderr",
     "output_type": "stream",
     "text": [
      "I:CUR_SPLIT:3:[sampler_mu:139]:----------------------------------------------------------------------------------------------------\n"
     ]
    },
    {
     "name": "stdout",
     "output_type": "stream",
     "text": [
      "Epoch 11/50\n",
      "549/549 [==============================] - 62s 113ms/step - task_name:     NER     - loss: 2.8475 - accuracy: 0.8242 - val_loss: 7.7510 - val_accuracy: 0.7438\n"
     ]
    },
    {
     "name": "stderr",
     "output_type": "stream",
     "text": [
      "I:CUR_SPLIT:3:[sampler_mu:139]:----------------------------------------------------------------------------------------------------\n"
     ]
    },
    {
     "name": "stdout",
     "output_type": "stream",
     "text": [
      "Epoch 12/50\n",
      "549/549 [==============================] - 62s 114ms/step - task_name:     NER     - loss: 2.7672 - accuracy: 0.8291 - val_loss: 7.7642 - val_accuracy: 0.7389\n"
     ]
    },
    {
     "name": "stderr",
     "output_type": "stream",
     "text": [
      "I:CUR_SPLIT:3:[sampler_mu:139]:----------------------------------------------------------------------------------------------------\n"
     ]
    },
    {
     "name": "stdout",
     "output_type": "stream",
     "text": [
      "\n",
      "----------------------------------NER LABEL METRICS -----------------------------------\n",
      "\n",
      "epoch:labeling EPOCH accuracy 0.826252 precision: 0.464686, recall: 0.355272, f1: 0.402679\n",
      "\n",
      "           precision    recall  f1-score   support\n",
      "\n",
      "     ALLU     0.4647    0.3553    0.4027      4315\n",
      "\n",
      "micro avg     0.4647    0.3553    0.4027      4315\n",
      "macro avg     0.4647    0.3553    0.4027      4315\n",
      "\n",
      "----------------------------------NER END ----------------------------------\n",
      "train_example:**************************************************\n",
      "x_seq:丁 零 苏 武 别 , 疏 勒 范 羌 归 。\n",
      "y_pred:O O O O O O O O O O O O\n",
      "y_true:O O B-ALLU I-ALLU O O O O O O O O\n",
      "----------\n",
      "x_seq:可 讶 东 篱 菊 , 能 知 节 候 芳 。\n",
      "y_pred:O O B-ALLU I-ALLU I-ALLU O O O O O O O\n",
      "y_true:O O B-ALLU I-ALLU I-ALLU O O O O O O O\n",
      "----------\n",
      "x_seq:安 得 阮 步 兵 , 同 入 醉 乡 游 。\n",
      "y_pred:O O B-ALLU I-ALLU I-ALLU O O O O O O O\n",
      "y_true:O O B-ALLU I-ALLU I-ALLU O O O O O O O\n",
      "----------\n",
      "x_seq:人 间 无 阿 童 , 犹 唱 水 中 龙 。\n",
      "y_pred:O O O B-ALLU I-ALLU O O O O O O O\n",
      "y_true:O O O B-ALLU I-ALLU O O O O O O O\n",
      "----------\n",
      "x_seq:兼 金 那 足 比 清 文 , 百 首 相 随 愧 使 君 。\n",
      "y_pred:O O O O O O O O O O O O O O O O\n",
      "y_true:B-ALLU I-ALLU O O O O O O O O O O O O O O\n",
      "----------\n",
      "x_seq:江 同 渭 滨 远 , 山 似 傅 岩 高 。\n",
      "y_pred:O O O O O O O O B-ALLU I-ALLU O O\n",
      "y_true:O O O O O O O O B-ALLU I-ALLU O O\n",
      "----------\n",
      "x_seq:采 芝 先 避 贵 , 栽 橘 早 防 贪 。\n",
      "y_pred:O O O O O O O O O O O O\n",
      "y_true:B-ALLU I-ALLU O O O O O O O O O O\n",
      "----------\n",
      "x_seq:闲 斋 夜 击 唾 壶 歌 , 试 望 夷 门 奈 远 何 。\n",
      "y_pred:O O O O O O O O O O B-ALLU I-ALLU O O O O\n",
      "y_true:O O O B-ALLU I-ALLU I-ALLU O O O O O O O O O O\n",
      "----------\n",
      "x_seq:昨 夜 星 辰 动 , 仙 郎 近 汉 关 。\n",
      "y_pred:O O O O O O O O O O O O\n",
      "y_true:O O B-ALLU O O O O O O O O O\n",
      "----------\n",
      "x_seq:浓 暖 气 中 生 历 草 , 是 非 烟 里 爱 瑶 浆 。\n",
      "y_pred:O O O O O B-ALLU I-ALLU O O O O O O B-ALLU I-ALLU O\n",
      "y_true:O O O O O B-ALLU I-ALLU O O O O O O O O O\n",
      "----------\n",
      "END:**************************************************\n",
      "test_example:**************************************************\n",
      "x_seq:马 氏 识 君 眉 最 白 , 阮 公 留 我 眼 长 青 。\n",
      "y_pred:O O O O O O O O O O O O O O O O\n",
      "y_true:O O O O B-ALLU I-ALLU I-ALLU O O O O O O O O O\n",
      "----------\n",
      "x_seq:寂 寞 梁 鸿 病 , 谁 人 代 夜 舂 。\n",
      "y_pred:O O B-ALLU I-ALLU O O O O O O O O\n",
      "y_true:O O B-ALLU I-ALLU O O O O O O O O\n",
      "----------\n",
      "x_seq:盈 虚 用 舍 轮 舆 旋 , 勿 学 灵 均 远 问 天 。\n",
      "y_pred:O O O O O O O O O O B-ALLU I-ALLU O O O O\n",
      "y_true:O O O O O O O O O O O O O B-ALLU I-ALLU O\n",
      "----------\n",
      "x_seq:主 人 能 一 顾 , 转 盼 自 光 辉 。\n",
      "y_pred:O O O B-ALLU I-ALLU O O O O O O O\n",
      "y_true:O O O B-ALLU I-ALLU O O O O O O O\n",
      "----------\n",
      "x_seq:齿 落 未 是 无 心 人 , 舌 存 耻 作 穷 途 哭 。\n",
      "y_pred:O O O O O O O O O O O O B-ALLU I-ALLU I-ALLU O\n",
      "y_true:O O O O O O O O B-ALLU O O O O O O O\n",
      "----------\n",
      "x_seq:在 德 朝 巢 燧 , 居 安 法 禹 汤 。\n",
      "y_pred:O O O B-ALLU I-ALLU O O O O B-ALLU I-ALLU O\n",
      "y_true:O O O O O O O O O B-ALLU I-ALLU O\n",
      "----------\n",
      "x_seq:鹤 归 辽 海 春 光 晚 , 花 落 闲 阶 夕 雨 晴 。\n",
      "y_pred:B-ALLU I-ALLU I-ALLU I-ALLU O O O O O O O O O O O O\n",
      "y_true:B-ALLU I-ALLU I-ALLU O O O O O O O O O O O O O\n",
      "----------\n",
      "x_seq:衣 冠 周 柱 史 , 才 学 我 乡 人 。\n",
      "y_pred:O O B-ALLU I-ALLU I-ALLU O O O O O O O\n",
      "y_true:O O B-ALLU I-ALLU I-ALLU O O O O O O O\n",
      "----------\n",
      "x_seq:再 [UNK] 未 甘 何 处 说 , 但 垂 双 泪 出 咸 秦 。\n",
      "y_pred:O O O O O O O O O O O O O O O O\n",
      "y_true:O B-ALLU O O O O O O O O O O O O O O\n",
      "----------\n",
      "x_seq:白 雪 梁 山 曲 , 寒 风 易 水 歌 。\n",
      "y_pred:O O O O O O O O O O O O\n",
      "y_true:O O B-ALLU I-ALLU I-ALLU O O O O O O O\n",
      "----------\n",
      "END:**************************************************\n"
     ]
    },
    {
     "name": "stderr",
     "output_type": "stream",
     "text": [
      "I:SAMPLE_TRAINER:[sampler_mu: 43]:cur_split_idx 3th END\n",
      "I:SAMPLE_TRAINER:[sampler_mu: 44]:****************************************************************************************************\n",
      "I:SAMPLE_TRAINER:[sampler_mu: 45]:****************************************************************************************************\n",
      "I:BASE TASK:[base_task.:270]:Task NER:\n",
      "I:BASE TASK:[base_task.:271]:\t230 training batches\n",
      "I:BASE TASK:[base_task.:272]:\t41 validation batches\n",
      "I:BASE TASK:[base_task.:273]:\t68 test batches\n"
     ]
    },
    {
     "name": "stdout",
     "output_type": "stream",
     "text": [
      "example:**************************************************\n",
      "x_seq:郭 [UNK] 池 台 处 , 昭 王 尊 酒 前 。 [UNK] [PAD] [PAD] [PAD] [PAD] [PAD] [PAD] [PAD] [PAD] [PAD] [PAD] [PAD] [PAD] [PAD] [PAD] [PAD] [PAD]\n",
      "x_ALLU:岂 伊 白 璧 赐 , 将 起 黄 金 台 。 [UNK] [PAD] [PAD] [PAD] [PAD] [PAD] [PAD] [PAD] [PAD] [PAD] [PAD] [PAD] [PAD] [PAD] [PAD] [PAD] [PAD]\n",
      "y_pred:[0.49967262]\n",
      "y_true:1\n",
      "----------\n",
      "x_seq:郭 [UNK] 池 台 处 , 昭 王 尊 酒 前 。 [UNK] [PAD] [PAD] [PAD] [PAD] [PAD] [PAD] [PAD] [PAD] [PAD] [PAD] [PAD] [PAD] [PAD] [PAD] [PAD] [PAD]\n",
      "x_ALLU:宋 明 帝 《 文 章 志 》 曰 : [UNK] 安 纵 心 事 外 , 疏 略 常 节 , 每 畜 女 妓 , 携 持\n",
      "y_pred:[0.49967262]\n",
      "y_true:0\n",
      "----------\n",
      "x_seq:郭 [UNK] 池 台 处 , 昭 王 尊 酒 前 。 [UNK] [PAD] [PAD] [PAD] [PAD] [PAD] [PAD] [PAD] [PAD] [PAD] [PAD] [PAD] [PAD] [PAD] [PAD] [PAD] [PAD]\n",
      "x_ALLU:王 濛 字 仲 祖 , 哀 靖 皇 后 父 也 。 [UNK] [UNK] 濛 少 时 放 纵 不 羁 , 不 为 乡 曲 所 齿\n",
      "y_pred:[0.49967262]\n",
      "y_true:0\n",
      "----------\n",
      "x_seq:郭 [UNK] 池 台 处 , 昭 王 尊 酒 前 。 [UNK] [PAD] [PAD] [PAD] [PAD] [PAD] [PAD] [PAD] [PAD] [PAD] [PAD] [PAD] [PAD] [PAD] [PAD] [PAD] [PAD]\n",
      "x_ALLU:贰 师 将 军 [UNK] [UNK] 攻 郁 成 , 郁 成 大 破 之 , 所 杀 伤 甚 重 。 贰 师 将 军 [UNK] [UNK] 引\n",
      "y_pred:[0.49967262]\n",
      "y_true:0\n",
      "----------\n",
      "x_seq:郭 [UNK] 池 台 处 , 昭 王 尊 酒 前 。 [UNK] [PAD] [PAD] [PAD] [PAD] [PAD] [PAD] [PAD] [PAD] [PAD] [PAD] [PAD] [PAD] [PAD] [PAD] [PAD] [PAD]\n",
      "x_ALLU:先 帝 创 业 未 半 而 中 道 崩 [UNK] , 今 天 下 三 分 , 益 州 疲 弊 , 此 诚 危 急 存 亡\n",
      "y_pred:[0.4996726]\n",
      "y_true:0\n",
      "----------\n",
      "x_seq:郭 [UNK] 池 台 处 , 昭 王 尊 酒 前 。 [UNK] [PAD] [PAD] [PAD] [PAD] [PAD] [PAD] [PAD] [PAD] [PAD] [PAD] [PAD] [PAD] [PAD] [PAD] [PAD] [PAD]\n",
      "x_ALLU:太 昊 帝 庖 羲 氏 , 风 姓 也 , 蛇 身 人 首 , 有 圣 德 , 都 陈 , 作 瑟 三 十 六 弦\n",
      "y_pred:[0.49967262]\n",
      "y_true:0\n",
      "----------\n",
      "x_seq:郭 [UNK] 池 台 处 , 昭 王 尊 酒 前 。 [UNK] [PAD] [PAD] [PAD] [PAD] [PAD] [PAD] [PAD] [PAD] [PAD] [PAD] [PAD] [PAD] [PAD] [PAD] [PAD] [PAD]\n",
      "x_ALLU:楚 徙 都 郢 , 未 有 城 郭 。 公 子 燮 、 公 子 仪 因 筑 城 为 乱 , 事 未 得 讫 。 子\n",
      "y_pred:[0.49967262]\n",
      "y_true:0\n",
      "----------\n",
      "x_seq:郭 [UNK] 池 台 处 , 昭 王 尊 酒 前 。 [UNK] [PAD] [PAD] [PAD] [PAD] [PAD] [PAD] [PAD] [PAD] [PAD] [PAD] [PAD] [PAD] [PAD] [PAD] [PAD] [PAD]\n",
      "x_ALLU:汤 见 祝 网 者 , 置 四 面 , 其 祝 曰 : [UNK] 从 天 坠 者 , 从 地 出 者 , 从 四 方 来\n",
      "y_pred:[0.49967262]\n",
      "y_true:0\n",
      "----------\n",
      "x_seq:郭 [UNK] 池 台 处 , 昭 王 尊 酒 前 。 [UNK] [PAD] [PAD] [PAD] [PAD] [PAD] [PAD] [PAD] [PAD] [PAD] [PAD] [PAD] [PAD] [PAD] [PAD] [PAD] [PAD]\n",
      "x_ALLU:庶 先 名 福 , 本 单 家 子 , 少 好 任 侠 击 剑 。 中 平 末 , 尝 为 人 报 仇 , [UNK] [UNK]\n",
      "y_pred:[0.49967262]\n",
      "y_true:0\n",
      "----------\n",
      "x_seq:郭 [UNK] 池 台 处 , 昭 王 尊 酒 前 。 [UNK] [PAD] [PAD] [PAD] [PAD] [PAD] [PAD] [PAD] [PAD] [PAD] [PAD] [PAD] [PAD] [PAD] [PAD] [PAD] [PAD]\n",
      "x_ALLU:太 叔 文 子 闻 之 , 曰 : [UNK] [UNK] [UNK] 今 宁 子 视 君 不 如 弈 棋 , 其 何 以 免 乎 ? 弈\n",
      "y_pred:[0.49967262]\n",
      "y_true:0\n",
      "----------\n",
      "x_seq:沧 洲 归 客 梦 , 青 琐 近 臣 心 。 [UNK] [PAD] [PAD] [PAD] [PAD] [PAD] [PAD] [PAD] [PAD] [PAD] [PAD] [PAD] [PAD] [PAD] [PAD] [PAD] [PAD]\n",
      "x_ALLU:孟 说 是 。 青 琐 者 , 刻 为 连 环 文 , 而 青 涂 之 也 。 [UNK] [PAD] [PAD] [PAD] [PAD] [PAD] [PAD] [PAD] [PAD]\n",
      "y_pred:[0.5002539]\n",
      "y_true:1\n",
      "----------\n",
      "x_seq:沧 洲 归 客 梦 , 青 琐 近 臣 心 。 [UNK] [PAD] [PAD] [PAD] [PAD] [PAD] [PAD] [PAD] [PAD] [PAD] [PAD] [PAD] [PAD] [PAD] [PAD] [PAD] [PAD]\n",
      "x_ALLU:汉 武 帝 太 初 元 年 十 一 月 乙 酉 , 柏 梁 灾 。 [UNK] [UNK] 上 还 , 以 柏 梁 灾 故 , 朝\n",
      "y_pred:[0.50025386]\n",
      "y_true:0\n",
      "----------\n",
      "x_seq:沧 洲 归 客 梦 , 青 琐 近 臣 心 。 [UNK] [PAD] [PAD] [PAD] [PAD] [PAD] [PAD] [PAD] [PAD] [PAD] [PAD] [PAD] [PAD] [PAD] [PAD] [PAD] [PAD]\n",
      "x_ALLU:友 字 它 仁 , 襄 阳 人 。 少 好 学 , 不 持 节 俭 。 [UNK] [UNK] 始 仕 荆 州 , 后 在 温 府\n",
      "y_pred:[0.50025386]\n",
      "y_true:0\n",
      "----------\n",
      "x_seq:沧 洲 归 客 梦 , 青 琐 近 臣 心 。 [UNK] [PAD] [PAD] [PAD] [PAD] [PAD] [PAD] [PAD] [PAD] [PAD] [PAD] [PAD] [PAD] [PAD] [PAD] [PAD] [PAD]\n",
      "x_ALLU:少 子 [UNK] 以 中 台 星 [UNK] , 劝 华 逊 位 。 华 不 从 , [UNK] [UNK] 须 臾 , 使 者 到 曰 : [UNK]\n",
      "y_pred:[0.5002539]\n",
      "y_true:0\n",
      "----------\n",
      "x_seq:沧 洲 归 客 梦 , 青 琐 近 臣 心 。 [UNK] [PAD] [PAD] [PAD] [PAD] [PAD] [PAD] [PAD] [PAD] [PAD] [PAD] [PAD] [PAD] [PAD] [PAD] [PAD] [PAD]\n",
      "x_ALLU:拜 渔 阳 太 守 。 捕 击 奸 滑 , 赏 罚 必 信 , 吏 民 皆 乐 为 用 。 匈 奴 尝 以 万 骑\n",
      "y_pred:[0.5002539]\n",
      "y_true:0\n",
      "----------\n",
      "x_seq:沧 洲 归 客 梦 , 青 琐 近 臣 心 。 [UNK] [PAD] [PAD] [PAD] [PAD] [PAD] [PAD] [PAD] [PAD] [PAD] [PAD] [PAD] [PAD] [PAD] [PAD] [PAD] [PAD]\n",
      "x_ALLU:穆 少 有 英 才 , 学 明 《 五 经 》 。 性 矜 严 疾 恶 , 不 交 非 类 。 年 二 十 为 郡\n",
      "y_pred:[0.5002539]\n",
      "y_true:0\n",
      "----------\n",
      "x_seq:沧 洲 归 客 梦 , 青 琐 近 臣 心 。 [UNK] [PAD] [PAD] [PAD] [PAD] [PAD] [PAD] [PAD] [PAD] [PAD] [PAD] [PAD] [PAD] [PAD] [PAD] [PAD] [PAD]\n",
      "x_ALLU:弟 子 曰 : [UNK] [UNK] [UNK] 先 生 不 闻 壶 丘 子 林 之 言 乎 ? [UNK] 子 列 子 笑 曰 : [UNK] 壶 子\n",
      "y_pred:[0.5002539]\n",
      "y_true:0\n",
      "----------\n",
      "x_seq:沧 洲 归 客 梦 , 青 琐 近 臣 心 。 [UNK] [PAD] [PAD] [PAD] [PAD] [PAD] [PAD] [PAD] [PAD] [PAD] [PAD] [PAD] [PAD] [PAD] [PAD] [PAD] [PAD]\n",
      "x_ALLU:武 帝 女 寿 阳 公 主 人 日 卧 于 含 章 簷 下 , 梅 花 落 公 主 额 上 , 成 五 出 之 花\n",
      "y_pred:[0.5002539]\n",
      "y_true:0\n",
      "----------\n",
      "x_seq:沧 洲 归 客 梦 , 青 琐 近 臣 心 。 [UNK] [PAD] [PAD] [PAD] [PAD] [PAD] [PAD] [PAD] [PAD] [PAD] [PAD] [PAD] [PAD] [PAD] [PAD] [PAD] [PAD]\n",
      "x_ALLU:犀 形 似 [UNK] 而 大 , 今 徼 外 所 送 , 有 山 犀 、 水 犀 。 水 犀 之 皮 有 珠 甲 , 山\n",
      "y_pred:[0.50025386]\n",
      "y_true:0\n",
      "----------\n",
      "x_seq:沧 洲 归 客 梦 , 青 琐 近 臣 心 。 [UNK] [PAD] [PAD] [PAD] [PAD] [PAD] [PAD] [PAD] [PAD] [PAD] [PAD] [PAD] [PAD] [PAD] [PAD] [PAD] [PAD]\n",
      "x_ALLU:韦 昭 云 : [UNK] 適 , 谴 也 。 [UNK] [UNK] [PAD] [PAD] [PAD] [PAD] [PAD] [PAD] [PAD] [PAD] [PAD] [PAD] [PAD] [PAD] [PAD] [PAD] [PAD] [PAD] [PAD]\n",
      "y_pred:[0.5002539]\n",
      "y_true:0\n",
      "----------\n",
      "x_seq:空 看 小 垂 手 , 忍 问 大 刀 头 。 [UNK] [PAD] [PAD] [PAD] [PAD] [PAD] [PAD] [PAD] [PAD] [PAD] [PAD] [PAD] [PAD] [PAD] [PAD] [PAD] [PAD]\n",
      "x_ALLU:李 陵 字 少 卿 , 将 兵 击 匈 奴 , 兵 败 投 降 。 汉 昭 帝 立 , 遣 陵 故 人 陇 西 任\n",
      "y_pred:[0.5039579]\n",
      "y_true:1\n",
      "----------\n",
      "x_seq:空 看 小 垂 手 , 忍 问 大 刀 头 。 [UNK] [PAD] [PAD] [PAD] [PAD] [PAD] [PAD] [PAD] [PAD] [PAD] [PAD] [PAD] [PAD] [PAD] [PAD] [PAD] [PAD]\n",
      "x_ALLU:昔 周 宣 王 时 , 史 [UNK] 始 著 《 大 篆 》 十 五 篇 , 或 与 古 同 , 或 与 古 异 , 世\n",
      "y_pred:[0.5039579]\n",
      "y_true:0\n",
      "----------\n",
      "x_seq:空 看 小 垂 手 , 忍 问 大 刀 头 。 [UNK] [PAD] [PAD] [PAD] [PAD] [PAD] [PAD] [PAD] [PAD] [PAD] [PAD] [PAD] [PAD] [PAD] [PAD] [PAD] [PAD]\n",
      "x_ALLU:鸡 既 鸣 矣 , 朝 既 盈 矣 。 匪 鸡 则 鸣 , 苍 蝇 之 声 。 [UNK] [PAD] [PAD] [PAD] [PAD] [PAD] [PAD] [PAD] [PAD]\n",
      "y_pred:[0.5039579]\n",
      "y_true:0\n",
      "----------\n",
      "x_seq:空 看 小 垂 手 , 忍 问 大 刀 头 。 [UNK] [PAD] [PAD] [PAD] [PAD] [PAD] [PAD] [PAD] [PAD] [PAD] [PAD] [PAD] [PAD] [PAD] [PAD] [PAD] [PAD]\n",
      "x_ALLU:武 昌 阳 新 县 , 北 山 上 有 望 夫 石 , 状 若 人 立 者 , 传 云 : 昔 有 贞 妇 , 其\n",
      "y_pred:[0.5039579]\n",
      "y_true:0\n",
      "----------\n",
      "x_seq:空 看 小 垂 手 , 忍 问 大 刀 头 。 [UNK] [PAD] [PAD] [PAD] [PAD] [PAD] [PAD] [PAD] [PAD] [PAD] [PAD] [PAD] [PAD] [PAD] [PAD] [PAD] [PAD]\n",
      "x_ALLU:汉 元 年 正 月 , 沛 公 为 汉 王 , 王 巴 蜀 。 汉 王 赐 良 金 百 [UNK] , 珠 二 斗 , 良\n",
      "y_pred:[0.5039579]\n",
      "y_true:0\n",
      "----------\n",
      "x_seq:空 看 小 垂 手 , 忍 问 大 刀 头 。 [UNK] [PAD] [PAD] [PAD] [PAD] [PAD] [PAD] [PAD] [PAD] [PAD] [PAD] [PAD] [PAD] [PAD] [PAD] [PAD] [PAD]\n",
      "x_ALLU:望 匈 奴 有 数 千 骑 , 见 广 , 以 为 诱 骑 , 皆 惊 , 上 山 陈 。 广 之 百 骑 皆 大\n",
      "y_pred:[0.5039579]\n",
      "y_true:0\n",
      "----------\n",
      "x_seq:空 看 小 垂 手 , 忍 问 大 刀 头 。 [UNK] [PAD] [PAD] [PAD] [PAD] [PAD] [PAD] [PAD] [PAD] [PAD] [PAD] [PAD] [PAD] [PAD] [PAD] [PAD] [PAD]\n",
      "x_ALLU:老 子 曰 : [UNK] 真 人 游 时 各 坐 莲 华 之 上 , 华 径 一 丈 , 有 反 生 灵 香 , 逆 风\n",
      "y_pred:[0.5039579]\n",
      "y_true:0\n",
      "----------\n",
      "x_seq:空 看 小 垂 手 , 忍 问 大 刀 头 。 [UNK] [PAD] [PAD] [PAD] [PAD] [PAD] [PAD] [PAD] [PAD] [PAD] [PAD] [PAD] [PAD] [PAD] [PAD] [PAD] [PAD]\n",
      "x_ALLU:迁 , 徙 也 。 谓 乡 时 之 鸟 出 从 深 谷 , 今 移 处 高 木 。 [UNK] [PAD] [PAD] [PAD] [PAD] [PAD] [PAD] [PAD]\n",
      "y_pred:[0.5039579]\n",
      "y_true:0\n",
      "----------\n",
      "x_seq:空 看 小 垂 手 , 忍 问 大 刀 头 。 [UNK] [PAD] [PAD] [PAD] [PAD] [PAD] [PAD] [PAD] [PAD] [PAD] [PAD] [PAD] [PAD] [PAD] [PAD] [PAD] [PAD]\n",
      "x_ALLU:凌 到 项 , 见 贾 逵 祠 在 水 侧 , 凌 呼 曰 : [UNK] 贾 梁 道 , 王 凌 固 忠 于 魏 之 社\n",
      "y_pred:[0.5039579]\n",
      "y_true:0\n",
      "----------\n",
      "x_seq:空 看 小 垂 手 , 忍 问 大 刀 头 。 [UNK] [PAD] [PAD] [PAD] [PAD] [PAD] [PAD] [PAD] [PAD] [PAD] [PAD] [PAD] [PAD] [PAD] [PAD] [PAD] [PAD]\n",
      "x_ALLU:[UNK] 周 , 子 规 也 , 啼 必 北 向 。 江 介 曰 子 规 。 [UNK] [PAD] [PAD] [PAD] [PAD] [PAD] [PAD] [PAD] [PAD] [PAD] [PAD]\n",
      "y_pred:[0.5039579]\n",
      "y_true:0\n",
      "----------\n",
      "x_seq:君 登 凤 池 去 , 忽 弃 贾 生 才 。 [UNK] [PAD] [PAD] [PAD] [PAD] [PAD] [PAD] [PAD] [PAD] [PAD] [PAD] [PAD] [PAD] [PAD] [PAD] [PAD] [PAD]\n",
      "x_ALLU:请 问 于 服 兮 : [UNK] 予 去 何 之 ? 吉 乎 告 我 , 凶 言 其 灾 。 淹 数 之 度 兮 , 语\n",
      "y_pred:[0.5015109]\n",
      "y_true:1\n",
      "----------\n",
      "x_seq:君 登 凤 池 去 , 忽 弃 贾 生 才 。 [UNK] [PAD] [PAD] [PAD] [PAD] [PAD] [PAD] [PAD] [PAD] [PAD] [PAD] [PAD] [PAD] [PAD] [PAD] [PAD] [PAD]\n",
      "x_ALLU:啼 妆 者 , 薄 拭 目 下 若 啼 处 。 [UNK] [PAD] [PAD] [PAD] [PAD] [PAD] [PAD] [PAD] [PAD] [PAD] [PAD] [PAD] [PAD] [PAD] [PAD] [PAD] [PAD]\n",
      "y_pred:[0.50151086]\n",
      "y_true:0\n",
      "----------\n",
      "x_seq:君 登 凤 池 去 , 忽 弃 贾 生 才 。 [UNK] [PAD] [PAD] [PAD] [PAD] [PAD] [PAD] [PAD] [PAD] [PAD] [PAD] [PAD] [PAD] [PAD] [PAD] [PAD] [PAD]\n",
      "x_ALLU:越 人 三 世 弑 其 君 , 王 子 搜 患 之 , 逃 乎 丹 穴 , 而 越 国 无 君 。 求 王 子 搜\n",
      "y_pred:[0.50151086]\n",
      "y_true:0\n",
      "----------\n",
      "x_seq:君 登 凤 池 去 , 忽 弃 贾 生 才 。 [UNK] [PAD] [PAD] [PAD] [PAD] [PAD] [PAD] [PAD] [PAD] [PAD] [PAD] [PAD] [PAD] [PAD] [PAD] [PAD] [PAD]\n",
      "x_ALLU:《 碧 玉 歌 》 者 , 宋 汝 南 王 所 作 也 。 碧 玉 , 汝 南 王 妾 名 。 以 宠 爱 之 甚\n",
      "y_pred:[0.50151086]\n",
      "y_true:0\n",
      "----------\n",
      "x_seq:君 登 凤 池 去 , 忽 弃 贾 生 才 。 [UNK] [PAD] [PAD] [PAD] [PAD] [PAD] [PAD] [PAD] [PAD] [PAD] [PAD] [PAD] [PAD] [PAD] [PAD] [PAD] [PAD]\n",
      "x_ALLU:细 柳 仓 在 雍 州 咸 阳 县 西 南 二 十 里 也 。 [UNK] [PAD] [PAD] [PAD] [PAD] [PAD] [PAD] [PAD] [PAD] [PAD] [PAD] [PAD] [PAD]\n",
      "y_pred:[0.50151086]\n",
      "y_true:0\n",
      "----------\n",
      "x_seq:君 登 凤 池 去 , 忽 弃 贾 生 才 。 [UNK] [PAD] [PAD] [PAD] [PAD] [PAD] [PAD] [PAD] [PAD] [PAD] [PAD] [PAD] [PAD] [PAD] [PAD] [PAD] [PAD]\n",
      "x_ALLU:( 萧 ) 何 曰 : [UNK] 王 计 必 欲 东 , 能 用 信 , 信 即 留 ; 不 能 用 , 信 终 亡 耳\n",
      "y_pred:[0.5015109]\n",
      "y_true:0\n",
      "----------\n",
      "x_seq:君 登 凤 池 去 , 忽 弃 贾 生 才 。 [UNK] [PAD] [PAD] [PAD] [PAD] [PAD] [PAD] [PAD] [PAD] [PAD] [PAD] [PAD] [PAD] [PAD] [PAD] [PAD] [PAD]\n",
      "x_ALLU:德 也 者 , 万 民 之 宰 也 。 月 也 者 , 群 阴 之 本 也 。 月 望 则 蚌 蛤 实 , 群 阴\n",
      "y_pred:[0.50151086]\n",
      "y_true:0\n",
      "----------\n",
      "x_seq:君 登 凤 池 去 , 忽 弃 贾 生 才 。 [UNK] [PAD] [PAD] [PAD] [PAD] [PAD] [PAD] [PAD] [PAD] [PAD] [PAD] [PAD] [PAD] [PAD] [PAD] [PAD] [PAD]\n",
      "x_ALLU:子 曰 : [UNK] 里 仁 为 美 。 择 不 处 仁 , 焉 得 知 ? [UNK] [UNK] [PAD] [PAD] [PAD] [PAD] [PAD] [PAD] [PAD] [PAD] [PAD]\n",
      "y_pred:[0.50151086]\n",
      "y_true:0\n",
      "----------\n",
      "x_seq:君 登 凤 池 去 , 忽 弃 贾 生 才 。 [UNK] [PAD] [PAD] [PAD] [PAD] [PAD] [PAD] [PAD] [PAD] [PAD] [PAD] [PAD] [PAD] [PAD] [PAD] [PAD] [PAD]\n",
      "x_ALLU:司 马 景 王 命 中 书 令 虞 松 作 表 , 再 呈 辄 不 可 意 , 命 松 更 定 。 以 经 时 ,\n",
      "y_pred:[0.50151086]\n",
      "y_true:0\n",
      "----------\n",
      "x_seq:君 登 凤 池 去 , 忽 弃 贾 生 才 。 [UNK] [PAD] [PAD] [PAD] [PAD] [PAD] [PAD] [PAD] [PAD] [PAD] [PAD] [PAD] [PAD] [PAD] [PAD] [PAD] [PAD]\n",
      "x_ALLU:猛 兽 产 乳 , 养 护 其 子 , 则 搏 噬 过 常 , 故 以 喻 也 。 [UNK] [PAD] [PAD] [PAD] [PAD] [PAD] [PAD] [PAD]\n",
      "y_pred:[0.50151086]\n",
      "y_true:0\n",
      "----------\n",
      "x_seq:壮 心 看 舞 剑 , 别 绪 应 悬 旌 。 [UNK] [PAD] [PAD] [PAD] [PAD] [PAD] [PAD] [PAD] [PAD] [PAD] [PAD] [PAD] [PAD] [PAD] [PAD] [PAD] [PAD]\n",
      "x_ALLU:楚 威 王 对 来 游 说 的 苏 秦 说 : 寡 人 卧 不 安 席 , 食 不 甘 味 , 心 摇 摇 如 悬\n",
      "y_pred:[0.503096]\n",
      "y_true:1\n",
      "----------\n",
      "x_seq:壮 心 看 舞 剑 , 别 绪 应 悬 旌 。 [UNK] [PAD] [PAD] [PAD] [PAD] [PAD] [PAD] [PAD] [PAD] [PAD] [PAD] [PAD] [PAD] [PAD] [PAD] [PAD] [PAD]\n",
      "x_ALLU:总 角 , 聚 两 髻 也 。 [UNK] [PAD] [PAD] [PAD] [PAD] [PAD] [PAD] [PAD] [PAD] [PAD] [PAD] [PAD] [PAD] [PAD] [PAD] [PAD] [PAD] [PAD] [PAD] [PAD] [PAD]\n",
      "y_pred:[0.50309604]\n",
      "y_true:0\n",
      "----------\n",
      "x_seq:壮 心 看 舞 剑 , 别 绪 应 悬 旌 。 [UNK] [PAD] [PAD] [PAD] [PAD] [PAD] [PAD] [PAD] [PAD] [PAD] [PAD] [PAD] [PAD] [PAD] [PAD] [PAD] [PAD]\n",
      "x_ALLU:丘 中 有 麻 , 思 贤 也 。 庄 王 不 明 , 贤 人 放 逐 , 国 人 思 之 而 作 是 诗 也 。\n",
      "y_pred:[0.50309604]\n",
      "y_true:0\n",
      "----------\n",
      "x_seq:壮 心 看 舞 剑 , 别 绪 应 悬 旌 。 [UNK] [PAD] [PAD] [PAD] [PAD] [PAD] [PAD] [PAD] [PAD] [PAD] [PAD] [PAD] [PAD] [PAD] [PAD] [PAD] [PAD]\n",
      "x_ALLU:士 , 理 官 也 。 [UNK] [PAD] [PAD] [PAD] [PAD] [PAD] [PAD] [PAD] [PAD] [PAD] [PAD] [PAD] [PAD] [PAD] [PAD] [PAD] [PAD] [PAD] [PAD] [PAD] [PAD] [PAD] [PAD]\n",
      "y_pred:[0.50309604]\n",
      "y_true:0\n",
      "----------\n",
      "x_seq:壮 心 看 舞 剑 , 别 绪 应 悬 旌 。 [UNK] [PAD] [PAD] [PAD] [PAD] [PAD] [PAD] [PAD] [PAD] [PAD] [PAD] [PAD] [PAD] [PAD] [PAD] [PAD] [PAD]\n",
      "x_ALLU:《 列 仙 传 》 曰 : [UNK] 浮 丘 公 接 王 子 乔 以 上 嵩 高 山 。 [UNK] [UNK] [PAD] [PAD] [PAD] [PAD] [PAD] [PAD]\n",
      "y_pred:[0.50309604]\n",
      "y_true:0\n",
      "----------\n",
      "x_seq:壮 心 看 舞 剑 , 别 绪 应 悬 旌 。 [UNK] [PAD] [PAD] [PAD] [PAD] [PAD] [PAD] [PAD] [PAD] [PAD] [PAD] [PAD] [PAD] [PAD] [PAD] [PAD] [PAD]\n",
      "x_ALLU:更 始 将 北 都 洛 阳 , 以 光 武 行 司 隶 校 尉 , 使 前 整 修 宫 府 。 于 是 置 僚 属\n",
      "y_pred:[0.50309604]\n",
      "y_true:0\n",
      "----------\n",
      "x_seq:壮 心 看 舞 剑 , 别 绪 应 悬 旌 。 [UNK] [PAD] [PAD] [PAD] [PAD] [PAD] [PAD] [PAD] [PAD] [PAD] [PAD] [PAD] [PAD] [PAD] [PAD] [PAD] [PAD]\n",
      "x_ALLU:郑 当 时 者 , 字 庄 , 陈 人 也 [UNK] [UNK] 孝 景 时 , 为 太 子 舍 人 。 每 五 日 洗 沐 ,\n",
      "y_pred:[0.50309604]\n",
      "y_true:0\n",
      "----------\n",
      "x_seq:壮 心 看 舞 剑 , 别 绪 应 悬 旌 。 [UNK] [PAD] [PAD] [PAD] [PAD] [PAD] [PAD] [PAD] [PAD] [PAD] [PAD] [PAD] [PAD] [PAD] [PAD] [PAD] [PAD]\n",
      "x_ALLU:即 日 父 子 俱 移 病 。 满 三 月 赐 告 , 广 遂 称 笃 , 上 疏 乞 骸 骨 。 上 以 其 年\n",
      "y_pred:[0.503096]\n",
      "y_true:0\n",
      "----------\n",
      "x_seq:壮 心 看 舞 剑 , 别 绪 应 悬 旌 。 [UNK] [PAD] [PAD] [PAD] [PAD] [PAD] [PAD] [PAD] [PAD] [PAD] [PAD] [PAD] [PAD] [PAD] [PAD] [PAD] [PAD]\n",
      "x_ALLU:素 不 便 书 , 又 不 喜 作 书 , 而 人 间 多 事 , 堆 案 盈 机 , 不 相 酬 答 , 则 犯\n",
      "y_pred:[0.503096]\n",
      "y_true:0\n",
      "----------\n",
      "x_seq:壮 心 看 舞 剑 , 别 绪 应 悬 旌 。 [UNK] [PAD] [PAD] [PAD] [PAD] [PAD] [PAD] [PAD] [PAD] [PAD] [PAD] [PAD] [PAD] [PAD] [PAD] [PAD] [PAD]\n",
      "x_ALLU:( 韩 ) 信 钓 于 城 下 , 诸 母 漂 , 有 一 母 见 信 饥 , 饭 信 , 竟 漂 数 十 日 。\n",
      "y_pred:[0.50309604]\n",
      "y_true:0\n",
      "----------\n",
      "x_seq:谁 看 挟 剑 赴 长 桥 , 谁 看 浸 发 题 春 竹 。 [UNK] [PAD] [PAD] [PAD] [PAD] [PAD] [PAD] [PAD] [PAD] [PAD] [PAD] [PAD] [PAD]\n",
      "x_ALLU:周 处 字 子 隐 , 义 兴 阳 羡 人 也 。 [UNK] [UNK] 不 修 细 行 , [UNK] [UNK] 谓 父 老 曰 : [UNK] 今\n",
      "y_pred:[0.5030445]\n",
      "y_true:1\n",
      "----------\n",
      "x_seq:谁 看 挟 剑 赴 长 桥 , 谁 看 浸 发 题 春 竹 。 [UNK] [PAD] [PAD] [PAD] [PAD] [PAD] [PAD] [PAD] [PAD] [PAD] [PAD] [PAD] [PAD]\n",
      "x_ALLU:凿 齿 , 兽 名 , 齿 长 三 尺 , 其 状 如 凿 , 下 彻 颔 下 , 而 持 戈 盾 。 [UNK] [PAD] [PAD]\n",
      "y_pred:[0.5030445]\n",
      "y_true:0\n",
      "----------\n",
      "x_seq:谁 看 挟 剑 赴 长 桥 , 谁 看 浸 发 题 春 竹 。 [UNK] [PAD] [PAD] [PAD] [PAD] [PAD] [PAD] [PAD] [PAD] [PAD] [PAD] [PAD] [PAD]\n",
      "x_ALLU:夸 父 不 量 力 , 欲 追 日 影 , 逐 之 于 隅 谷 之 际 。 渴 欲 得 饮 , 赴 饮 渭 河 。\n",
      "y_pred:[0.5030445]\n",
      "y_true:0\n",
      "----------\n",
      "x_seq:谁 看 挟 剑 赴 长 桥 , 谁 看 浸 发 题 春 竹 。 [UNK] [PAD] [PAD] [PAD] [PAD] [PAD] [PAD] [PAD] [PAD] [PAD] [PAD] [PAD] [PAD]\n",
      "x_ALLU:少 [UNK] , 金 天 氏 , 黄 帝 之 子 , 己 姓 之 祖 也 [UNK] [PAD] [PAD] [PAD] [PAD] [PAD] [PAD] [PAD] [PAD] [PAD] [PAD] [PAD]\n",
      "y_pred:[0.5030445]\n",
      "y_true:0\n",
      "----------\n",
      "x_seq:谁 看 挟 剑 赴 长 桥 , 谁 看 浸 发 题 春 竹 。 [UNK] [PAD] [PAD] [PAD] [PAD] [PAD] [PAD] [PAD] [PAD] [PAD] [PAD] [PAD] [PAD]\n",
      "x_ALLU:嵇 康 被 诛 后 , 山 公 举 康 子 绍 为 秘 书 丞 。 [UNK] [PAD] [PAD] [PAD] [PAD] [PAD] [PAD] [PAD] [PAD] [PAD] [PAD] [PAD]\n",
      "y_pred:[0.5030445]\n",
      "y_true:0\n",
      "----------\n",
      "x_seq:谁 看 挟 剑 赴 长 桥 , 谁 看 浸 发 题 春 竹 。 [UNK] [PAD] [PAD] [PAD] [PAD] [PAD] [PAD] [PAD] [PAD] [PAD] [PAD] [PAD] [PAD]\n",
      "x_ALLU:《 虞 殡 》 , 送 葬 歌 曲 。 示 必 死 。 [UNK] [PAD] [PAD] [PAD] [PAD] [PAD] [PAD] [PAD] [PAD] [PAD] [PAD] [PAD] [PAD] [PAD] [PAD]\n",
      "y_pred:[0.5030445]\n",
      "y_true:0\n",
      "----------\n",
      "x_seq:谁 看 挟 剑 赴 长 桥 , 谁 看 浸 发 题 春 竹 。 [UNK] [PAD] [PAD] [PAD] [PAD] [PAD] [PAD] [PAD] [PAD] [PAD] [PAD] [PAD] [PAD]\n",
      "x_ALLU:赵 壹 字 元 淑 , 汉 阳 西 县 人 也 。 [UNK] [UNK] 而 恃 才 [UNK] 傲 , 为 乡 党 所 摈 。 作 《\n",
      "y_pred:[0.5030445]\n",
      "y_true:0\n",
      "----------\n",
      "x_seq:谁 看 挟 剑 赴 长 桥 , 谁 看 浸 发 题 春 竹 。 [UNK] [PAD] [PAD] [PAD] [PAD] [PAD] [PAD] [PAD] [PAD] [PAD] [PAD] [PAD] [PAD]\n",
      "x_ALLU:成 帝 [UNK] [UNK] 多 近 幸 小 臣 , 赵 、 李 从 微 贱 专 宠 , 皆 皇 太 后 与 诸 舅 夙 夜 所\n",
      "y_pred:[0.5030445]\n",
      "y_true:0\n",
      "----------\n",
      "x_seq:谁 看 挟 剑 赴 长 桥 , 谁 看 浸 发 题 春 竹 。 [UNK] [PAD] [PAD] [PAD] [PAD] [PAD] [PAD] [PAD] [PAD] [PAD] [PAD] [PAD] [PAD]\n",
      "x_ALLU:时 梅 陶 及 钟 雅 数 说 余 事 , 纳 辄 困 之 , 因 曰 : [UNK] 君 汝 颍 之 士 , 利 如 锥\n",
      "y_pred:[0.5030445]\n",
      "y_true:0\n",
      "----------\n",
      "x_seq:谁 看 挟 剑 赴 长 桥 , 谁 看 浸 发 题 春 竹 。 [UNK] [PAD] [PAD] [PAD] [PAD] [PAD] [PAD] [PAD] [PAD] [PAD] [PAD] [PAD] [PAD]\n",
      "x_ALLU:膑 生 阿 [UNK] 之 间 , 膑 亦 孙 武 之 后 世 子 孙 也 。 [UNK] [UNK] 尝 与 庞 涓 俱 学 兵 法 。\n",
      "y_pred:[0.5030445]\n",
      "y_true:0\n",
      "----------\n",
      "x_seq:大 有 好 笑 事 , 略 陈 三 五 个 。 [UNK] [UNK] 巴 歌 唱 者 多 , 白 雪 无 人 和 。 [UNK] [PAD] [PAD]\n",
      "x_ALLU:《 下 里 》 《 巴 人 》 , 下 曲 名 也 ; 《 阳 春 》 《 白 雪 》 , 高 曲 名 也 。 [UNK]\n",
      "y_pred:[0.501806]\n",
      "y_true:1\n",
      "----------\n",
      "x_seq:大 有 好 笑 事 , 略 陈 三 五 个 。 [UNK] [UNK] 巴 歌 唱 者 多 , 白 雪 无 人 和 。 [UNK] [PAD] [PAD]\n",
      "x_ALLU:王 太 尉 云 : [UNK] 郭 子 玄 语 议 如 悬 河 写 ( 泻 ) 水 , 注 而 不 竭 。 [UNK] [UNK] [PAD] [PAD]\n",
      "y_pred:[0.501806]\n",
      "y_true:0\n",
      "----------\n",
      "x_seq:大 有 好 笑 事 , 略 陈 三 五 个 。 [UNK] [UNK] 巴 歌 唱 者 多 , 白 雪 无 人 和 。 [UNK] [PAD] [PAD]\n",
      "x_ALLU:诏 曰 : [UNK] 朕 思 迟 直 士 , 侧 席 异 闻 。 [UNK] [UNK] [PAD] [PAD] [PAD] [PAD] [PAD] [PAD] [PAD] [PAD] [PAD] [PAD] [PAD] [PAD]\n",
      "y_pred:[0.501806]\n",
      "y_true:0\n",
      "----------\n",
      "x_seq:大 有 好 笑 事 , 略 陈 三 五 个 。 [UNK] [UNK] 巴 歌 唱 者 多 , 白 雪 无 人 和 。 [UNK] [PAD] [PAD]\n",
      "x_ALLU:杜 预 字 元 凯 , 京 兆 杜 陵 人 也 。 [UNK] [PAD] [PAD] [PAD] [PAD] [PAD] [PAD] [PAD] [PAD] [PAD] [PAD] [PAD] [PAD] [PAD] [PAD] [PAD]\n",
      "y_pred:[0.501806]\n",
      "y_true:0\n",
      "----------\n",
      "END:**************************************************\n",
      "array([[0.49967262, 0.49967262, 0.49967262, 0.49967262, 0.4996726 ,\n",
      "        0.49967262, 0.49967262, 0.49967262, 0.49967262, 0.49967262],\n",
      "       [0.5002539 , 0.50025386, 0.50025386, 0.5002539 , 0.5002539 ,\n",
      "        0.5002539 , 0.5002539 , 0.5002539 , 0.50025386, 0.5002539 ],\n",
      "       [0.5039579 , 0.5039579 , 0.5039579 , 0.5039579 , 0.5039579 ,\n",
      "        0.5039579 , 0.5039579 , 0.5039579 , 0.5039579 , 0.5039579 ],\n",
      "       [0.5015109 , 0.50151086, 0.50151086, 0.50151086, 0.50151086,\n",
      "        0.5015109 , 0.50151086, 0.50151086, 0.50151086, 0.50151086],\n",
      "       [0.503096  , 0.50309604, 0.50309604, 0.50309604, 0.50309604,\n",
      "        0.50309604, 0.50309604, 0.503096  , 0.503096  , 0.50309604],\n",
      "       [0.5030445 , 0.5030445 , 0.5030445 , 0.5030445 , 0.5030445 ,\n",
      "        0.5030445 , 0.5030445 , 0.5030445 , 0.5030445 , 0.5030445 ],\n",
      "       [0.501806  , 0.501806  , 0.501806  , 0.501806  , 0.501806  ,\n",
      "        0.501806  , 0.501806  , 0.501806  , 0.501806  , 0.501806  ],\n",
      "       [0.503866  , 0.503866  , 0.503866  , 0.503866  , 0.5038661 ,\n",
      "        0.503866  , 0.503866  , 0.503866  , 0.503866  , 0.503866  ],\n",
      "       [0.50514233, 0.50514233, 0.50514233, 0.50514233, 0.50514233,\n",
      "        0.50514233, 0.50514233, 0.50514233, 0.50514233, 0.50514233],\n",
      "       [0.49795997, 0.49796   , 0.49795994, 0.49795997, 0.49795994,\n",
      "        0.49795997, 0.49795997, 0.49795997, 0.49795997, 0.49796   ]],\n",
      "      dtype=float32)\n",
      "array([0, 1, 2, 3, 5, 6, 7, 8, 9, 4])\n",
      "[1, 0, 0, 0, 0, 0, 0, 0, 0, 0]\n",
      "array([0, 3, 4, 5, 6, 7, 9, 1, 2, 8])\n",
      "[1, 0, 0, 0, 0, 0, 0, 0, 0, 0]\n",
      "array([0, 1, 2, 3, 4, 5, 6, 7, 8, 9])\n",
      "[1, 0, 0, 0, 0, 0, 0, 0, 0, 0]\n",
      "array([0, 5, 1, 2, 3, 4, 6, 7, 8, 9])\n",
      "[1, 0, 0, 0, 0, 0, 0, 0, 0, 0]\n",
      "array([1, 2, 3, 4, 5, 6, 9, 0, 7, 8])\n",
      "[0, 0, 0, 0, 0, 0, 0, 1, 0, 0]\n",
      "array([0, 1, 2, 3, 4, 5, 6, 7, 8, 9])\n",
      "[1, 0, 0, 0, 0, 0, 0, 0, 0, 0]\n",
      "array([0, 1, 2, 3, 4, 5, 6, 7, 8, 9])\n",
      "[1, 0, 0, 0, 0, 0, 0, 0, 0, 0]\n",
      "array([4, 0, 1, 2, 3, 5, 6, 7, 8, 9])\n",
      "[0, 1, 0, 0, 0, 0, 0, 0, 0, 0]\n",
      "array([0, 1, 2, 3, 4, 5, 6, 7, 8, 9])\n",
      "[1, 0, 0, 0, 0, 0, 0, 0, 0, 0]\n",
      "array([1, 9, 0, 3, 5, 6, 7, 8, 2, 4])\n",
      "[0, 0, 1, 0, 0, 0, 0, 0, 0, 0]\n",
      "\n",
      "----------------------------------ALLU_SOURCE PAIRMATCH METRICS -----------------------------------\n",
      "\n",
      "epoch:PAIRMATCH AVG_RANKING MRR: 0.7570\n",
      "\n",
      "----------------------------------ALLU_SOURCE END ----------------------------------\n"
     ]
    },
    {
     "name": "stderr",
     "output_type": "stream",
     "text": [
      "I:BASE TASK:[base_task.:270]:Task ALLU_SOURCE:\n",
      "I:BASE TASK:[base_task.:271]:\t319 training batches\n",
      "I:BASE TASK:[base_task.:272]:\t57 validation batches\n",
      "I:BASE TASK:[base_task.:273]:\t469 test batches\n",
      "I:BERT EMBEDDING:[bert_embed:105]:seq_len:30\n",
      "I:BERT EMBEDDING:[bert_embed:105]:seq_len:30\n",
      "I:AHMTL MODEL:[AHMTL.py:126]:Multi-Task Learning Model has been instantiated.\n",
      "I:CUR_SPLIT:4:[sampler_mu: 92]:Set up ready. Begining training/validation.\n",
      "I:BASE-MODEL:[base_model:133]:NER's model_dir is ./model_ckpt/2020-02-05-02_23_48/4/NER-Naive_CRF_Model\n",
      "I:BASE-MODEL:[base_model:232]:[NER]:train info:Train on 14684 samples, validate on 2592 samples\n",
      "I:BASE-MODEL:[base_model:133]:ALLU_SOURCE's model_dir is ./model_ckpt/2020-02-05-02_23_48/4/ALLU_SOURCE-NaiveDenseModel\n",
      "I:BASE-MODEL:[base_model:232]:[ALLU_SOURCE]:train info:Train on 20400 samples, validate on 3600 samples\n"
     ]
    },
    {
     "name": "stdout",
     "output_type": "stream",
     "text": [
      "Epoch 1/50\n",
      "549/549 [==============================] - 253s 461ms/step - task_name:     NER     - loss: 7.5758 - accuracy: 0.8052 - val_loss: 17.8890 - val_accuracy: 0.5557\n",
      "549/549 [==============================] - 253s 461ms/step - task_name: ALLU_SOURCE - loss: 0.6838 - accuracy: 0.5816 - val_loss: 0.6418 - val_accuracy: 0.6272 \n"
     ]
    },
    {
     "name": "stderr",
     "output_type": "stream",
     "text": [
      "I:CUR_SPLIT:4:[sampler_mu:139]:----------------------------------------------------------------------------------------------------\n"
     ]
    },
    {
     "name": "stdout",
     "output_type": "stream",
     "text": [
      "Epoch 2/50\n",
      "549/549 [==============================] - 295s 537ms/step - task_name:     NER     - loss: 5.2071 - accuracy: 0.8258 - val_loss: 16.0163 - val_accuracy: 0.7889\n",
      "549/549 [==============================] - 295s 537ms/step - task_name: ALLU_SOURCE - loss: 0.6207 - accuracy: 0.6601 - val_loss: 0.5865 - val_accuracy: 0.6771 \n"
     ]
    },
    {
     "name": "stderr",
     "output_type": "stream",
     "text": [
      "I:CUR_SPLIT:4:[sampler_mu:139]:----------------------------------------------------------------------------------------------------\n"
     ]
    },
    {
     "name": "stdout",
     "output_type": "stream",
     "text": [
      "Epoch 3/50\n",
      "549/549 [==============================] - 231s 421ms/step - task_name:     NER     - loss: 4.6865 - accuracy: 0.8331 - val_loss: 14.7383 - val_accuracy: 0.8265\n",
      "549/549 [==============================] - 231s 421ms/step - task_name: ALLU_SOURCE - loss: 0.5535 - accuracy: 0.6993 - val_loss: 0.5803 - val_accuracy: 0.6974 \n"
     ]
    },
    {
     "name": "stderr",
     "output_type": "stream",
     "text": [
      "I:CUR_SPLIT:4:[sampler_mu:139]:----------------------------------------------------------------------------------------------------\n"
     ]
    },
    {
     "name": "stdout",
     "output_type": "stream",
     "text": [
      "Epoch 4/50\n",
      "549/549 [==============================] - 198s 360ms/step - task_name:     NER     - loss: 4.0644 - accuracy: 0.8350 - val_loss: 13.5122 - val_accuracy: 0.8322\n",
      "549/549 [==============================] - 198s 360ms/step - task_name: ALLU_SOURCE - loss: 0.5284 - accuracy: 0.7218 - val_loss: 0.5552 - val_accuracy: 0.7119 \n"
     ]
    },
    {
     "name": "stderr",
     "output_type": "stream",
     "text": [
      "I:CUR_SPLIT:4:[sampler_mu:139]:----------------------------------------------------------------------------------------------------\n"
     ]
    },
    {
     "name": "stdout",
     "output_type": "stream",
     "text": [
      "Epoch 5/50\n",
      "549/549 [==============================] - 207s 378ms/step - task_name:     NER     - loss: 3.6859 - accuracy: 0.8378 - val_loss: 12.9083 - val_accuracy: 0.7926\n",
      "549/549 [==============================] - 207s 378ms/step - task_name: ALLU_SOURCE - loss: 0.4920 - accuracy: 0.7516 - val_loss: 0.5454 - val_accuracy: 0.7179 \n"
     ]
    },
    {
     "name": "stderr",
     "output_type": "stream",
     "text": [
      "I:CUR_SPLIT:4:[sampler_mu:139]:----------------------------------------------------------------------------------------------------\n"
     ]
    },
    {
     "name": "stdout",
     "output_type": "stream",
     "text": [
      "Epoch 6/50\n",
      "549/549 [==============================] - 171s 312ms/step - task_name:     NER     - loss: 3.5564 - accuracy: 0.8380 - val_loss: 12.1327 - val_accuracy: 0.8034\n",
      "549/549 [==============================] - 171s 312ms/step - task_name: ALLU_SOURCE - loss: 0.4553 - accuracy: 0.7662 - val_loss: 0.5600 - val_accuracy: 0.7259 \n"
     ]
    },
    {
     "name": "stderr",
     "output_type": "stream",
     "text": [
      "I:CUR_SPLIT:4:[sampler_mu:139]:----------------------------------------------------------------------------------------------------\n"
     ]
    },
    {
     "name": "stdout",
     "output_type": "stream",
     "text": [
      "Epoch 7/50\n",
      "549/549 [==============================] - 181s 330ms/step - task_name:     NER     - loss: 3.2310 - accuracy: 0.8367 - val_loss: 11.6789 - val_accuracy: 0.8015\n",
      "549/549 [==============================] - 181s 330ms/step - task_name: ALLU_SOURCE - loss: 0.4434 - accuracy: 0.7795 - val_loss: 0.5232 - val_accuracy: 0.7473 \n"
     ]
    },
    {
     "name": "stderr",
     "output_type": "stream",
     "text": [
      "I:CUR_SPLIT:4:[sampler_mu:139]:----------------------------------------------------------------------------------------------------\n"
     ]
    },
    {
     "name": "stdout",
     "output_type": "stream",
     "text": [
      "Epoch 8/50\n",
      "549/549 [==============================] - 168s 306ms/step - task_name:     NER     - loss: 3.1033 - accuracy: 0.8371 - val_loss: 11.3298 - val_accuracy: 0.7768\n",
      "549/549 [==============================] - 168s 306ms/step - task_name: ALLU_SOURCE - loss: 0.4201 - accuracy: 0.7906 - val_loss: 0.5357 - val_accuracy: 0.7473 \n"
     ]
    },
    {
     "name": "stderr",
     "output_type": "stream",
     "text": [
      "I:CUR_SPLIT:4:[sampler_mu:139]:----------------------------------------------------------------------------------------------------\n"
     ]
    },
    {
     "name": "stdout",
     "output_type": "stream",
     "text": [
      "Epoch 9/50\n",
      "549/549 [==============================] - 166s 303ms/step - task_name:     NER     - loss: 3.1275 - accuracy: 0.8385 - val_loss: 10.9482 - val_accuracy: 0.7549\n",
      "549/549 [==============================] - 166s 303ms/step - task_name: ALLU_SOURCE - loss: 0.4141 - accuracy: 0.7821 - val_loss: 0.7257 - val_accuracy: 0.6839 \n"
     ]
    },
    {
     "name": "stderr",
     "output_type": "stream",
     "text": [
      "I:CUR_SPLIT:4:[sampler_mu:139]:----------------------------------------------------------------------------------------------------\n"
     ]
    },
    {
     "name": "stdout",
     "output_type": "stream",
     "text": [
      "Epoch 10/50\n",
      "549/549 [==============================] - 181s 330ms/step - task_name:     NER     - loss: 2.7125 - accuracy: 0.8380 - val_loss: 10.9091 - val_accuracy: 0.7023\n",
      "549/549 [==============================] - 181s 330ms/step - task_name: ALLU_SOURCE - loss: 0.5552 - accuracy: 0.6960 - val_loss: 0.5970 - val_accuracy: 0.7015 \n"
     ]
    },
    {
     "name": "stderr",
     "output_type": "stream",
     "text": [
      "I:CUR_SPLIT:4:[sampler_mu:139]:----------------------------------------------------------------------------------------------------\n"
     ]
    },
    {
     "name": "stdout",
     "output_type": "stream",
     "text": [
      "Epoch 11/50\n",
      "549/549 [==============================] - 178s 324ms/step - task_name:     NER     - loss: 2.6513 - accuracy: 0.8394 - val_loss: 10.9405 - val_accuracy: 0.6895\n",
      "549/549 [==============================] - 178s 324ms/step - task_name: ALLU_SOURCE - loss: 0.4842 - accuracy: 0.7428 - val_loss: 0.5403 - val_accuracy: 0.7204 \n"
     ]
    },
    {
     "name": "stderr",
     "output_type": "stream",
     "text": [
      "I:CUR_SPLIT:4:[sampler_mu:139]:----------------------------------------------------------------------------------------------------\n"
     ]
    },
    {
     "name": "stdout",
     "output_type": "stream",
     "text": [
      "Epoch 12/50\n",
      "548/549 [============================>.] - ETA: 0s - task_name: ALLU_SOURCE - loss: 0.5736 - accuracy: 0.7494\n",
      "Epoch 00012: ReduceLROnPlateau reducing learning rate to 0.0007000000332482159.\n",
      "549/549 [==============================] - 116s 211ms/step - task_name: ALLU_SOURCE - loss: 0.5309 - accuracy: 0.7493 - val_loss: 0.5502 - val_accuracy: 0.6996\n"
     ]
    },
    {
     "name": "stderr",
     "output_type": "stream",
     "text": [
      "I:CUR_SPLIT:4:[sampler_mu:139]:----------------------------------------------------------------------------------------------------\n"
     ]
    },
    {
     "name": "stdout",
     "output_type": "stream",
     "text": [
      "Epoch 13/50\n",
      "549/549 [==============================] - 105s 192ms/step - task_name: ALLU_SOURCE - loss: 0.4687 - accuracy: 0.7507 - val_loss: 0.5651 - val_accuracy: 0.7297\n"
     ]
    },
    {
     "name": "stderr",
     "output_type": "stream",
     "text": [
      "I:CUR_SPLIT:4:[sampler_mu:139]:----------------------------------------------------------------------------------------------------\n"
     ]
    },
    {
     "name": "stdout",
     "output_type": "stream",
     "text": [
      "Epoch 14/50\n",
      "549/549 [==============================] - 112s 204ms/step - task_name: ALLU_SOURCE - loss: 0.4662 - accuracy: 0.7623 - val_loss: 0.5506 - val_accuracy: 0.7251\n"
     ]
    },
    {
     "name": "stderr",
     "output_type": "stream",
     "text": [
      "I:CUR_SPLIT:4:[sampler_mu:139]:----------------------------------------------------------------------------------------------------\n"
     ]
    },
    {
     "name": "stdout",
     "output_type": "stream",
     "text": [
      "\n",
      "----------------------------------NER LABEL METRICS -----------------------------------\n",
      "\n",
      "epoch:labeling EPOCH accuracy 0.826975 precision: 0.234108, recall: 0.212367, f1: 0.222708\n",
      "\n",
      "           precision    recall  f1-score   support\n",
      "\n",
      "     ALLU     0.2342    0.2124    0.2227      4318\n",
      "\n",
      "micro avg     0.2341    0.2124    0.2227      4318\n",
      "macro avg     0.2342    0.2124    0.2227      4318\n",
      "\n",
      "----------------------------------NER END ----------------------------------\n",
      "train_example:**************************************************\n",
      "x_seq:紫 泥 方 受 命 , 黄 石 乃 推 贤 。\n",
      "y_pred:O I-ALLU O O O O O I-ALLU O O O O\n",
      "y_true:O O O O O O B-ALLU I-ALLU O O O O\n",
      "----------\n",
      "x_seq:酒 薄 恨 浓 消 不 得 , 却 将 惆 怅 问 支 郎 。\n",
      "y_pred:O O O O O O O O O O O O O B-ALLU I-ALLU O\n",
      "y_true:O O O O O O O O O O O O O B-ALLU I-ALLU O\n",
      "----------\n",
      "x_seq:一 轴 郢 人 歌 处 雪 , 两 重 朱 氏 著 来 衣 。\n",
      "y_pred:O O O I-ALLU O O O O O O O I-ALLU O O O O\n",
      "y_true:O O B-ALLU I-ALLU I-ALLU O O O O O O O O O O O\n",
      "----------\n",
      "x_seq:欲 知 世 掌 丝 纶 美 , 池 上 于 今 有 凤 毛 。\n",
      "y_pred:O O O O O I-ALLU O O O O O O O B-ALLU I-ALLU O\n",
      "y_true:O O O O O O O O O O O O O B-ALLU I-ALLU O\n",
      "----------\n",
      "x_seq:何 时 得 携 手 , 林 下 静 吟 诗 。\n",
      "y_pred:O O O O O O O O O O O O\n",
      "y_true:O O O O O O B-ALLU I-ALLU O O O O\n",
      "----------\n",
      "x_seq:惭 将 多 误 曲 , 今 日 献 周 郎 。\n",
      "y_pred:O O O O O O O O O B-ALLU I-ALLU O\n",
      "y_true:O O O B-ALLU I-ALLU I-ALLU I-ALLU I-ALLU I-ALLU I-ALLU O O\n",
      "----------\n",
      "x_seq:隐 榆 非 谏 楚 , 噪 柳 异 悲 潘 。\n",
      "y_pred:O O O O O O O O O O O O\n",
      "y_true:B-ALLU I-ALLU O O O O O O O O O O\n",
      "----------\n",
      "x_seq:当 街 一 叱 百 吏 走 , 冯 敬 胸 中 函 匕 首 。\n",
      "y_pred:O O O O O O O O O I-ALLU O O O O O O\n",
      "y_true:O O O O O O O O B-ALLU I-ALLU O O O O O O\n",
      "----------\n",
      "x_seq:报 国 捐 躯 实 壮 夫 , 楚 囚 垂 欲 复 神 都 。\n",
      "y_pred:O O O O O O O O O O O O O O O O\n",
      "y_true:O O O O O O O O B-ALLU I-ALLU O O O O O O\n",
      "----------\n",
      "x_seq:从 此 几 迁 为 计 相 , 蓬 莱 三 刻 奏 东 巡 。\n",
      "y_pred:O O O O O O O O O O O O O O O O\n",
      "y_true:O O O O O B-ALLU I-ALLU O O O O O O O O O\n",
      "----------\n",
      "END:**************************************************\n",
      "test_example:**************************************************\n",
      "x_seq:萍 蓬 风 波 急 , 桑 榆 日 月 侵 。\n",
      "y_pred:O O O O O O O O O O O O\n",
      "y_true:B-ALLU I-ALLU O O O O O O O O O O\n",
      "----------\n",
      "x_seq:驱 驰 曾 在 五 侯 家 , 见 说 初 生 自 渥 洼 。\n",
      "y_pred:O O O O B-ALLU I-ALLU O O O O O O O O O O\n",
      "y_true:O O O O B-ALLU I-ALLU O O O O O O O O O O\n",
      "----------\n",
      "x_seq:谁 知 杨 伯 起 , 今 日 重 哀 荣 。\n",
      "y_pred:O O B-ALLU I-ALLU I-ALLU O O O O O O O\n",
      "y_true:O O B-ALLU I-ALLU I-ALLU I-ALLU I-ALLU I-ALLU I-ALLU I-ALLU I-ALLU O\n",
      "----------\n",
      "x_seq:徐 市 载 秦 女 , 楼 船 几 时 回 。\n",
      "y_pred:O I-ALLU O O I-ALLU O O O O O O O\n",
      "y_true:B-ALLU I-ALLU I-ALLU I-ALLU I-ALLU O O O O O O O\n",
      "----------\n",
      "x_seq:家 近 小 山 当 海 畔 , 身 留 环 卫 荫 墙 东 。\n",
      "y_pred:O O O O O O O O O O B-ALLU I-ALLU O O O O\n",
      "y_true:O O O O O O O O O O O O O B-ALLU I-ALLU O\n",
      "----------\n",
      "x_seq:空 留 华 表 千 年 约 , 才 毕 丹 炉 九 转 功 。\n",
      "y_pred:O O O O O O O O O O O O O O O O\n",
      "y_true:O O O O O O O O O O B-ALLU I-ALLU I-ALLU O O O\n",
      "----------\n",
      "x_seq:三 献 寝 不 报 , 迟 迟 空 手 回 。\n",
      "y_pred:B-ALLU I-ALLU O O O O O O O O O O\n",
      "y_true:B-ALLU I-ALLU O O O O O O O O O O\n",
      "----------\n",
      "x_seq:[UNK] 头 骑 箕 尾 , 风 尘 蓟 门 起 。\n",
      "y_pred:O O O O I-ALLU O O O O O O O\n",
      "y_true:O O O B-ALLU I-ALLU O O O O O O O\n",
      "----------\n",
      "x_seq:赋 得 长 杨 不 值 钱 , 却 来 京 口 看 莺 迁 。\n",
      "y_pred:O O O I-ALLU O O O O O O O O O B-ALLU I-ALLU O\n",
      "y_true:B-ALLU I-ALLU I-ALLU O O O O O O O O O O O O O\n",
      "----------\n",
      "x_seq:方 从 列 子 御 , 更 逐 浮 云 归 。\n",
      "y_pred:O O B-ALLU I-ALLU O O O O O O O O\n",
      "y_true:O O B-ALLU I-ALLU I-ALLU O O O O O O O\n",
      "----------\n",
      "END:**************************************************\n"
     ]
    },
    {
     "name": "stderr",
     "output_type": "stream",
     "text": [
      "I:SAMPLE_TRAINER:[sampler_mu: 43]:cur_split_idx 4th END\n",
      "I:SAMPLE_TRAINER:[sampler_mu: 44]:****************************************************************************************************\n",
      "I:SAMPLE_TRAINER:[sampler_mu: 45]:****************************************************************************************************\n"
     ]
    },
    {
     "name": "stdout",
     "output_type": "stream",
     "text": [
      "example:**************************************************\n",
      "x_seq:闲 杀 何 从 事 , 伤 哉 苏 子 卿 。 [UNK] [PAD] [PAD] [PAD] [PAD] [PAD] [PAD] [PAD] [PAD] [PAD] [PAD] [PAD] [PAD] [PAD] [PAD] [PAD] [PAD]\n",
      "x_ALLU:武 帝 以 为 有 广 之 风 , 使 将 八 百 骑 , 深 入 匈 奴 二 千 余 里 , 过 居 延 视 地\n",
      "y_pred:[0.3071276]\n",
      "y_true:1\n",
      "----------\n",
      "x_seq:闲 杀 何 从 事 , 伤 哉 苏 子 卿 。 [UNK] [PAD] [PAD] [PAD] [PAD] [PAD] [PAD] [PAD] [PAD] [PAD] [PAD] [PAD] [PAD] [PAD] [PAD] [PAD] [PAD]\n",
      "x_ALLU:沈 约 字 休 文 , 吴 兴 武 康 人 也 。 [UNK] [UNK] ( 梁 ) 高 祖 受 禅 , 为 尚 书 仆 射 ,\n",
      "y_pred:[0.5717294]\n",
      "y_true:0\n",
      "----------\n",
      "x_seq:闲 杀 何 从 事 , 伤 哉 苏 子 卿 。 [UNK] [PAD] [PAD] [PAD] [PAD] [PAD] [PAD] [PAD] [PAD] [PAD] [PAD] [PAD] [PAD] [PAD] [PAD] [PAD] [PAD]\n",
      "x_ALLU:风 师 , 箕 也 。 [UNK] [PAD] [PAD] [PAD] [PAD] [PAD] [PAD] [PAD] [PAD] [PAD] [PAD] [PAD] [PAD] [PAD] [PAD] [PAD] [PAD] [PAD] [PAD] [PAD] [PAD] [PAD] [PAD]\n",
      "y_pred:[0.31579053]\n",
      "y_true:0\n",
      "----------\n",
      "x_seq:闲 杀 何 从 事 , 伤 哉 苏 子 卿 。 [UNK] [PAD] [PAD] [PAD] [PAD] [PAD] [PAD] [PAD] [PAD] [PAD] [PAD] [PAD] [PAD] [PAD] [PAD] [PAD] [PAD]\n",
      "x_ALLU:谓 子 产 重 赋 , 毒 害 百 姓 。 [UNK] [PAD] [PAD] [PAD] [PAD] [PAD] [PAD] [PAD] [PAD] [PAD] [PAD] [PAD] [PAD] [PAD] [PAD] [PAD] [PAD] [PAD]\n",
      "y_pred:[0.3101055]\n",
      "y_true:0\n",
      "----------\n",
      "x_seq:闲 杀 何 从 事 , 伤 哉 苏 子 卿 。 [UNK] [PAD] [PAD] [PAD] [PAD] [PAD] [PAD] [PAD] [PAD] [PAD] [PAD] [PAD] [PAD] [PAD] [PAD] [PAD] [PAD]\n",
      "x_ALLU:按 金 鸡 , 魏 晋 已 前 无 闻 焉 。 或 云 始 自 后 魏 , 亦 云 起 自 吕 光 。 [UNK] [UNK] (\n",
      "y_pred:[0.3600626]\n",
      "y_true:0\n",
      "----------\n",
      "x_seq:闲 杀 何 从 事 , 伤 哉 苏 子 卿 。 [UNK] [PAD] [PAD] [PAD] [PAD] [PAD] [PAD] [PAD] [PAD] [PAD] [PAD] [PAD] [PAD] [PAD] [PAD] [PAD] [PAD]\n",
      "x_ALLU:孟 说 是 。 青 琐 者 , 刻 为 连 环 文 , 而 青 涂 之 也 。 [UNK] [PAD] [PAD] [PAD] [PAD] [PAD] [PAD] [PAD] [PAD]\n",
      "y_pred:[0.34105805]\n",
      "y_true:0\n",
      "----------\n",
      "x_seq:闲 杀 何 从 事 , 伤 哉 苏 子 卿 。 [UNK] [PAD] [PAD] [PAD] [PAD] [PAD] [PAD] [PAD] [PAD] [PAD] [PAD] [PAD] [PAD] [PAD] [PAD] [PAD] [PAD]\n",
      "x_ALLU:王 子 猷 作 桓 车 骑 参 军 。 桓 谓 王 曰 : [UNK] 卿 在 府 久 , 比 当 相 料 理 。 [UNK] 初\n",
      "y_pred:[0.28469795]\n",
      "y_true:0\n",
      "----------\n",
      "x_seq:闲 杀 何 从 事 , 伤 哉 苏 子 卿 。 [UNK] [PAD] [PAD] [PAD] [PAD] [PAD] [PAD] [PAD] [PAD] [PAD] [PAD] [PAD] [PAD] [PAD] [PAD] [PAD] [PAD]\n",
      "x_ALLU:盛 彦 字 翁 子 , 广 陵 人 也 。 少 有 异 才 。 年 八 岁 , 诣 吴 太 尉 戴 昌 , 昌 赠\n",
      "y_pred:[0.44919538]\n",
      "y_true:0\n",
      "----------\n",
      "x_seq:闲 杀 何 从 事 , 伤 哉 苏 子 卿 。 [UNK] [PAD] [PAD] [PAD] [PAD] [PAD] [PAD] [PAD] [PAD] [PAD] [PAD] [PAD] [PAD] [PAD] [PAD] [PAD] [PAD]\n",
      "x_ALLU:谈 者 又 以 先 生 嘘 吸 冲 和 , 吐 故 纳 新 , 蝉 蜕 龙 变 , 弃 俗 登 仙 。 [UNK] [PAD] [PAD]\n",
      "y_pred:[0.31312144]\n",
      "y_true:0\n",
      "----------\n",
      "x_seq:闲 杀 何 从 事 , 伤 哉 苏 子 卿 。 [UNK] [PAD] [PAD] [PAD] [PAD] [PAD] [PAD] [PAD] [PAD] [PAD] [PAD] [PAD] [PAD] [PAD] [PAD] [PAD] [PAD]\n",
      "x_ALLU:祝 鸡 翁 者 , 洛 人 也 。 居 尸 乡 北 山 下 , 养 鸡 百 余 年 , 鸡 有 千 余 头 , 皆\n",
      "y_pred:[0.4508532]\n",
      "y_true:0\n",
      "----------\n",
      "x_seq:只 应 公 子 见 , 先 忆 坠 楼 红 。 [UNK] [PAD] [PAD] [PAD] [PAD] [PAD] [PAD] [PAD] [PAD] [PAD] [PAD] [PAD] [PAD] [PAD] [PAD] [PAD] [PAD]\n",
      "x_ALLU:孙 秀 等 封 皆 大 郡 , 并 据 兵 权 [UNK] [UNK] 伦 素 庸 下 , 无 智 策 , 复 受 制 于 秀 ,\n",
      "y_pred:[0.3288418]\n",
      "y_true:1\n",
      "----------\n",
      "x_seq:只 应 公 子 见 , 先 忆 坠 楼 红 。 [UNK] [PAD] [PAD] [PAD] [PAD] [PAD] [PAD] [PAD] [PAD] [PAD] [PAD] [PAD] [PAD] [PAD] [PAD] [PAD] [PAD]\n",
      "x_ALLU:陈 , 设 张 也 。 公 大 设 捕 鱼 之 备 而 观 之 。 [UNK] [PAD] [PAD] [PAD] [PAD] [PAD] [PAD] [PAD] [PAD] [PAD] [PAD] [PAD]\n",
      "y_pred:[0.2518867]\n",
      "y_true:0\n",
      "----------\n",
      "x_seq:只 应 公 子 见 , 先 忆 坠 楼 红 。 [UNK] [PAD] [PAD] [PAD] [PAD] [PAD] [PAD] [PAD] [PAD] [PAD] [PAD] [PAD] [PAD] [PAD] [PAD] [PAD] [PAD]\n",
      "x_ALLU:尝 与 同 志 宴 集 于 会 稽 山 阴 之 兰 亭 , 羲 之 自 为 之 序 以 申 其 志 , 曰 : [UNK]\n",
      "y_pred:[0.5515279]\n",
      "y_true:0\n",
      "----------\n",
      "x_seq:只 应 公 子 见 , 先 忆 坠 楼 红 。 [UNK] [PAD] [PAD] [PAD] [PAD] [PAD] [PAD] [PAD] [PAD] [PAD] [PAD] [PAD] [PAD] [PAD] [PAD] [PAD] [PAD]\n",
      "x_ALLU:策 , 马 。 临 别 授 之 马 , 并 示 己 所 策 以 展 情 。 绕 朝 , 秦 大 夫 。 [UNK] [PAD] [PAD]\n",
      "y_pred:[0.30933017]\n",
      "y_true:0\n",
      "----------\n",
      "x_seq:只 应 公 子 见 , 先 忆 坠 楼 红 。 [UNK] [PAD] [PAD] [PAD] [PAD] [PAD] [PAD] [PAD] [PAD] [PAD] [PAD] [PAD] [PAD] [PAD] [PAD] [PAD] [PAD]\n",
      "x_ALLU:魏 相 字 弱 翁 , 济 阴 定 陶 人 也 。 [UNK] [UNK] 韦 贤 以 老 病 免 , 相 遂 代 为 丞 相 ,\n",
      "y_pred:[0.50473225]\n",
      "y_true:0\n",
      "----------\n",
      "x_seq:只 应 公 子 见 , 先 忆 坠 楼 红 。 [UNK] [PAD] [PAD] [PAD] [PAD] [PAD] [PAD] [PAD] [PAD] [PAD] [PAD] [PAD] [PAD] [PAD] [PAD] [PAD] [PAD]\n",
      "x_ALLU:初 , 孙 权 杀 吴 郡 太 守 盛 宪 。 [UNK] [PAD] [PAD] [PAD] [PAD] [PAD] [PAD] [PAD] [PAD] [PAD] [PAD] [PAD] [PAD] [PAD] [PAD] [PAD] [PAD]\n",
      "y_pred:[0.2512828]\n",
      "y_true:0\n",
      "----------\n",
      "x_seq:只 应 公 子 见 , 先 忆 坠 楼 红 。 [UNK] [PAD] [PAD] [PAD] [PAD] [PAD] [PAD] [PAD] [PAD] [PAD] [PAD] [PAD] [PAD] [PAD] [PAD] [PAD] [PAD]\n",
      "x_ALLU:邛 疏 者 , 周 封 史 也 。 能 行 气 炼 形 , 煮 石 髓 而 服 之 , 谓 之 [UNK] 石 钟 乳 [UNK]\n",
      "y_pred:[0.3283161]\n",
      "y_true:0\n",
      "----------\n",
      "x_seq:只 应 公 子 见 , 先 忆 坠 楼 红 。 [UNK] [PAD] [PAD] [PAD] [PAD] [PAD] [PAD] [PAD] [PAD] [PAD] [PAD] [PAD] [PAD] [PAD] [PAD] [PAD] [PAD]\n",
      "x_ALLU:窈 窕 淑 女 , 琴 瑟 友 之 。 [UNK] [PAD] [PAD] [PAD] [PAD] [PAD] [PAD] [PAD] [PAD] [PAD] [PAD] [PAD] [PAD] [PAD] [PAD] [PAD] [PAD] [PAD] [PAD]\n",
      "y_pred:[0.28087744]\n",
      "y_true:0\n",
      "----------\n",
      "x_seq:只 应 公 子 见 , 先 忆 坠 楼 红 。 [UNK] [PAD] [PAD] [PAD] [PAD] [PAD] [PAD] [PAD] [PAD] [PAD] [PAD] [PAD] [PAD] [PAD] [PAD] [PAD] [PAD]\n",
      "x_ALLU:王 戎 弱 冠 诣 阮 籍 。 [UNK] [PAD] [PAD] [PAD] [PAD] [PAD] [PAD] [PAD] [PAD] [PAD] [PAD] [PAD] [PAD] [PAD] [PAD] [PAD] [PAD] [PAD] [PAD] [PAD] [PAD]\n",
      "y_pred:[0.42202348]\n",
      "y_true:0\n",
      "----------\n",
      "x_seq:只 应 公 子 见 , 先 忆 坠 楼 红 。 [UNK] [PAD] [PAD] [PAD] [PAD] [PAD] [PAD] [PAD] [PAD] [PAD] [PAD] [PAD] [PAD] [PAD] [PAD] [PAD] [PAD]\n",
      "x_ALLU:炀 帝 萧 皇 后 , 梁 明 帝 [UNK] 之 女 也 [UNK] [UNK] 帝 每 游 幸 , 后 未 尝 不 随 从 [UNK] [UNK] 及\n",
      "y_pred:[0.40448493]\n",
      "y_true:0\n",
      "----------\n",
      "x_seq:方 谢 公 超 步 , 终 从 彦 辅 游 。 [UNK] [PAD] [PAD] [PAD] [PAD] [PAD] [PAD] [PAD] [PAD] [PAD] [PAD] [PAD] [PAD] [PAD] [PAD] [PAD] [PAD]\n",
      "x_ALLU:卫 伯 玉 为 尚 书 , 见 乐 广 与 中 朝 名 士 谈 议 , 奇 之 曰 : [UNK] 自 昔 诸 人 没 已\n",
      "y_pred:[0.49694452]\n",
      "y_true:1\n",
      "----------\n",
      "x_seq:方 谢 公 超 步 , 终 从 彦 辅 游 。 [UNK] [PAD] [PAD] [PAD] [PAD] [PAD] [PAD] [PAD] [PAD] [PAD] [PAD] [PAD] [PAD] [PAD] [PAD] [PAD] [PAD]\n",
      "x_ALLU:延 陵 季 子 适 齐 , 于 其 反 也 , 其 长 子 死 , 葬 于 赢 博 之 间 [UNK] [UNK] 曰 : [UNK] 骨\n",
      "y_pred:[0.22428226]\n",
      "y_true:0\n",
      "----------\n",
      "x_seq:方 谢 公 超 步 , 终 从 彦 辅 游 。 [UNK] [PAD] [PAD] [PAD] [PAD] [PAD] [PAD] [PAD] [PAD] [PAD] [PAD] [PAD] [PAD] [PAD] [PAD] [PAD] [PAD]\n",
      "x_ALLU:纪 昌 者 , 又 学 射 于 飞 卫 。 飞 卫 曰 : [UNK] 尔 先 学 不 瞬 , 而 后 可 言 射 矣 。\n",
      "y_pred:[0.22768036]\n",
      "y_true:0\n",
      "----------\n",
      "x_seq:方 谢 公 超 步 , 终 从 彦 辅 游 。 [UNK] [PAD] [PAD] [PAD] [PAD] [PAD] [PAD] [PAD] [PAD] [PAD] [PAD] [PAD] [PAD] [PAD] [PAD] [PAD] [PAD]\n",
      "x_ALLU:叔 孙 通 者 , 薛 人 也 。 秦 时 以 文 学 征 , 待 诏 博 士 。 数 岁 , 陈 胜 起 山 东\n",
      "y_pred:[0.6108123]\n",
      "y_true:0\n",
      "----------\n",
      "x_seq:方 谢 公 超 步 , 终 从 彦 辅 游 。 [UNK] [PAD] [PAD] [PAD] [PAD] [PAD] [PAD] [PAD] [PAD] [PAD] [PAD] [PAD] [PAD] [PAD] [PAD] [PAD] [PAD]\n",
      "x_ALLU:初 , 孙 坚 兴 义 兵 讨 董 卓 , 徙 家 于 舒 。 坚 子 策 与 瑜 同 年 , 独 相 友 善 ,\n",
      "y_pred:[0.34700882]\n",
      "y_true:0\n",
      "----------\n",
      "x_seq:方 谢 公 超 步 , 终 从 彦 辅 游 。 [UNK] [PAD] [PAD] [PAD] [PAD] [PAD] [PAD] [PAD] [PAD] [PAD] [PAD] [PAD] [PAD] [PAD] [PAD] [PAD] [PAD]\n",
      "x_ALLU:显 宗 即 位 [UNK] [UNK] 养 三 老 五 更 于 辟 痈 。 [UNK] [PAD] [PAD] [PAD] [PAD] [PAD] [PAD] [PAD] [PAD] [PAD] [PAD] [PAD] [PAD] [PAD]\n",
      "y_pred:[0.17967334]\n",
      "y_true:0\n",
      "----------\n",
      "x_seq:方 谢 公 超 步 , 终 从 彦 辅 游 。 [UNK] [PAD] [PAD] [PAD] [PAD] [PAD] [PAD] [PAD] [PAD] [PAD] [PAD] [PAD] [PAD] [PAD] [PAD] [PAD] [PAD]\n",
      "x_ALLU:蓬 者 短 不 畅 , 曲 士 之 谓 。 [UNK] [PAD] [PAD] [PAD] [PAD] [PAD] [PAD] [PAD] [PAD] [PAD] [PAD] [PAD] [PAD] [PAD] [PAD] [PAD] [PAD] [PAD]\n",
      "y_pred:[0.3593099]\n",
      "y_true:0\n",
      "----------\n",
      "x_seq:方 谢 公 超 步 , 终 从 彦 辅 游 。 [UNK] [PAD] [PAD] [PAD] [PAD] [PAD] [PAD] [PAD] [PAD] [PAD] [PAD] [PAD] [PAD] [PAD] [PAD] [PAD] [PAD]\n",
      "x_ALLU:鲸 [UNK] 目 , 即 明 月 珠 , 故 死 不 见 有 目 精 。 [UNK] [PAD] [PAD] [PAD] [PAD] [PAD] [PAD] [PAD] [PAD] [PAD] [PAD] [PAD]\n",
      "y_pred:[0.40454617]\n",
      "y_true:0\n",
      "----------\n",
      "x_seq:方 谢 公 超 步 , 终 从 彦 辅 游 。 [UNK] [PAD] [PAD] [PAD] [PAD] [PAD] [PAD] [PAD] [PAD] [PAD] [PAD] [PAD] [PAD] [PAD] [PAD] [PAD] [PAD]\n",
      "x_ALLU:岂 伊 白 璧 赐 , 将 起 黄 金 台 。 [UNK] [PAD] [PAD] [PAD] [PAD] [PAD] [PAD] [PAD] [PAD] [PAD] [PAD] [PAD] [PAD] [PAD] [PAD] [PAD] [PAD]\n",
      "y_pred:[0.61166054]\n",
      "y_true:0\n",
      "----------\n",
      "x_seq:方 谢 公 超 步 , 终 从 彦 辅 游 。 [UNK] [PAD] [PAD] [PAD] [PAD] [PAD] [PAD] [PAD] [PAD] [PAD] [PAD] [PAD] [PAD] [PAD] [PAD] [PAD] [PAD]\n",
      "x_ALLU:脊 令 不 能 自 舍 , 君 子 有 取 节 尔 。 [UNK] [PAD] [PAD] [PAD] [PAD] [PAD] [PAD] [PAD] [PAD] [PAD] [PAD] [PAD] [PAD] [PAD] [PAD]\n",
      "y_pred:[0.34081417]\n",
      "y_true:0\n",
      "----------\n",
      "x_seq:诗 礼 康 成 学 , 文 章 贾 谊 才 。 [UNK] [PAD] [PAD] [PAD] [PAD] [PAD] [PAD] [PAD] [PAD] [PAD] [PAD] [PAD] [PAD] [PAD] [PAD] [PAD] [PAD]\n",
      "x_ALLU:会 景 帝 不 好 辞 赋 , 是 时 梁 孝 王 来 朝 , 从 游 说 之 士 齐 人 邹 阳 、 淮 阴 枚\n",
      "y_pred:[0.90006244]\n",
      "y_true:1\n",
      "----------\n",
      "x_seq:诗 礼 康 成 学 , 文 章 贾 谊 才 。 [UNK] [PAD] [PAD] [PAD] [PAD] [PAD] [PAD] [PAD] [PAD] [PAD] [PAD] [PAD] [PAD] [PAD] [PAD] [PAD] [PAD]\n",
      "x_ALLU:宣 室 , 未 央 前 正 室 也 。 [UNK] [PAD] [PAD] [PAD] [PAD] [PAD] [PAD] [PAD] [PAD] [PAD] [PAD] [PAD] [PAD] [PAD] [PAD] [PAD] [PAD] [PAD] [PAD]\n",
      "y_pred:[0.18912658]\n",
      "y_true:0\n",
      "----------\n",
      "x_seq:诗 礼 康 成 学 , 文 章 贾 谊 才 。 [UNK] [PAD] [PAD] [PAD] [PAD] [PAD] [PAD] [PAD] [PAD] [PAD] [PAD] [PAD] [PAD] [PAD] [PAD] [PAD] [PAD]\n",
      "x_ALLU:巴 子 使 韩 服 告 于 楚 。 [UNK] [PAD] [PAD] [PAD] [PAD] [PAD] [PAD] [PAD] [PAD] [PAD] [PAD] [PAD] [PAD] [PAD] [PAD] [PAD] [PAD] [PAD] [PAD] [PAD]\n",
      "y_pred:[0.27962223]\n",
      "y_true:0\n",
      "----------\n",
      "x_seq:诗 礼 康 成 学 , 文 章 贾 谊 才 。 [UNK] [PAD] [PAD] [PAD] [PAD] [PAD] [PAD] [PAD] [PAD] [PAD] [PAD] [PAD] [PAD] [PAD] [PAD] [PAD] [PAD]\n",
      "x_ALLU:天 监 有 周 , 昭 假 于 下 。 保 兹 天 子 , 生 仲 山 甫 。 [UNK] [PAD] [PAD] [PAD] [PAD] [PAD] [PAD] [PAD] [PAD]\n",
      "y_pred:[0.34290063]\n",
      "y_true:0\n",
      "----------\n",
      "x_seq:诗 礼 康 成 学 , 文 章 贾 谊 才 。 [UNK] [PAD] [PAD] [PAD] [PAD] [PAD] [PAD] [PAD] [PAD] [PAD] [PAD] [PAD] [PAD] [PAD] [PAD] [PAD] [PAD]\n",
      "x_ALLU:王 猛 隐 华 山 , 桓 温 入 关 , 猛 被 褐 而 诣 之 , 一 面 说 当 代 之 事 , 扪 虱 而\n",
      "y_pred:[0.4250379]\n",
      "y_true:0\n",
      "----------\n",
      "x_seq:诗 礼 康 成 学 , 文 章 贾 谊 才 。 [UNK] [PAD] [PAD] [PAD] [PAD] [PAD] [PAD] [PAD] [PAD] [PAD] [PAD] [PAD] [PAD] [PAD] [PAD] [PAD] [PAD]\n",
      "x_ALLU:傅 介 子 , 家 在 北 地 。 以 从 军 为 郎 , 为 平 乐 监 。 昭 帝 时 , 刺 杀 外 国 王\n",
      "y_pred:[0.32271305]\n",
      "y_true:0\n",
      "----------\n",
      "x_seq:诗 礼 康 成 学 , 文 章 贾 谊 才 。 [UNK] [PAD] [PAD] [PAD] [PAD] [PAD] [PAD] [PAD] [PAD] [PAD] [PAD] [PAD] [PAD] [PAD] [PAD] [PAD] [PAD]\n",
      "x_ALLU:折 腰 步 者 , 足 不 任 体 。 [UNK] [PAD] [PAD] [PAD] [PAD] [PAD] [PAD] [PAD] [PAD] [PAD] [PAD] [PAD] [PAD] [PAD] [PAD] [PAD] [PAD] [PAD] [PAD]\n",
      "y_pred:[0.2311135]\n",
      "y_true:0\n",
      "----------\n",
      "x_seq:诗 礼 康 成 学 , 文 章 贾 谊 才 。 [UNK] [PAD] [PAD] [PAD] [PAD] [PAD] [PAD] [PAD] [PAD] [PAD] [PAD] [PAD] [PAD] [PAD] [PAD] [PAD] [PAD]\n",
      "x_ALLU:齐 人 东 郭 先 生 以 方 士 待 诏 公 车 。 [UNK] [UNK] 诏 召 东 郭 先 生 , 拜 以 为 郡 都 尉\n",
      "y_pred:[0.4717303]\n",
      "y_true:0\n",
      "----------\n",
      "x_seq:诗 礼 康 成 学 , 文 章 贾 谊 才 。 [UNK] [PAD] [PAD] [PAD] [PAD] [PAD] [PAD] [PAD] [PAD] [PAD] [PAD] [PAD] [PAD] [PAD] [PAD] [PAD] [PAD]\n",
      "x_ALLU:周 勃 [UNK] [UNK] 至 登 辅 佐 , 匡 国 家 难 , 诛 诸 吕 , 立 孝 文 , 为 汉 伊 周 , 何 其\n",
      "y_pred:[0.32843518]\n",
      "y_true:0\n",
      "----------\n",
      "x_seq:诗 礼 康 成 学 , 文 章 贾 谊 才 。 [UNK] [PAD] [PAD] [PAD] [PAD] [PAD] [PAD] [PAD] [PAD] [PAD] [PAD] [PAD] [PAD] [PAD] [PAD] [PAD] [PAD]\n",
      "x_ALLU:齐 , 姜 姓 。 [UNK] [PAD] [PAD] [PAD] [PAD] [PAD] [PAD] [PAD] [PAD] [PAD] [PAD] [PAD] [PAD] [PAD] [PAD] [PAD] [PAD] [PAD] [PAD] [PAD] [PAD] [PAD] [PAD] [PAD]\n",
      "y_pred:[0.45138833]\n",
      "y_true:0\n",
      "----------\n",
      "x_seq:莫 废 思 康 乐 , 诗 情 满 沃 洲 。 [UNK] [PAD] [PAD] [PAD] [PAD] [PAD] [PAD] [PAD] [PAD] [PAD] [PAD] [PAD] [PAD] [PAD] [PAD] [PAD] [PAD]\n",
      "x_ALLU:沈 约 字 休 文 , 吴 兴 武 康 人 也 。 [UNK] [UNK] ( 梁 ) 高 祖 受 禅 , 为 尚 书 仆 射 ,\n",
      "y_pred:[0.62087315]\n",
      "y_true:1\n",
      "----------\n",
      "x_seq:莫 废 思 康 乐 , 诗 情 满 沃 洲 。 [UNK] [PAD] [PAD] [PAD] [PAD] [PAD] [PAD] [PAD] [PAD] [PAD] [PAD] [PAD] [PAD] [PAD] [PAD] [PAD] [PAD]\n",
      "x_ALLU:十 一 年 , 高 后 诛 淮 阴 侯 , 布 因 心 恐 。 夏 , 汉 诛 梁 王 彭 越 , [UNK] 之 , 盛\n",
      "y_pred:[0.26841313]\n",
      "y_true:0\n",
      "----------\n",
      "x_seq:莫 废 思 康 乐 , 诗 情 满 沃 洲 。 [UNK] [PAD] [PAD] [PAD] [PAD] [PAD] [PAD] [PAD] [PAD] [PAD] [PAD] [PAD] [PAD] [PAD] [PAD] [PAD] [PAD]\n",
      "x_ALLU:翻 少 好 学 , 有 高 气 。 年 十 二 , 客 有 候 其 兄 者 , 不 过 翻 , 翻 追 书 曰 :\n",
      "y_pred:[0.4238314]\n",
      "y_true:0\n",
      "----------\n",
      "x_seq:莫 废 思 康 乐 , 诗 情 满 沃 洲 。 [UNK] [PAD] [PAD] [PAD] [PAD] [PAD] [PAD] [PAD] [PAD] [PAD] [PAD] [PAD] [PAD] [PAD] [PAD] [PAD] [PAD]\n",
      "x_ALLU:汤 所 往 之 民 , 皆 喜 曰 : [UNK] 待 我 君 来 , 其 可 苏 息 。 [UNK] [UNK] [PAD] [PAD] [PAD] [PAD] [PAD] [PAD]\n",
      "y_pred:[0.2838751]\n",
      "y_true:0\n",
      "----------\n",
      "x_seq:莫 废 思 康 乐 , 诗 情 满 沃 洲 。 [UNK] [PAD] [PAD] [PAD] [PAD] [PAD] [PAD] [PAD] [PAD] [PAD] [PAD] [PAD] [PAD] [PAD] [PAD] [PAD] [PAD]\n",
      "x_ALLU:箫 韶 九 成 , 凤 皇 来 仪 。 [UNK] [PAD] [PAD] [PAD] [PAD] [PAD] [PAD] [PAD] [PAD] [PAD] [PAD] [PAD] [PAD] [PAD] [PAD] [PAD] [PAD] [PAD] [PAD]\n",
      "y_pred:[0.422827]\n",
      "y_true:0\n",
      "----------\n",
      "x_seq:莫 废 思 康 乐 , 诗 情 满 沃 洲 。 [UNK] [PAD] [PAD] [PAD] [PAD] [PAD] [PAD] [PAD] [PAD] [PAD] [PAD] [PAD] [PAD] [PAD] [PAD] [PAD] [PAD]\n",
      "x_ALLU:胡 儿 , 谢 朗 小 字 也 。 [UNK] [PAD] [PAD] [PAD] [PAD] [PAD] [PAD] [PAD] [PAD] [PAD] [PAD] [PAD] [PAD] [PAD] [PAD] [PAD] [PAD] [PAD] [PAD] [PAD]\n",
      "y_pred:[0.5827619]\n",
      "y_true:0\n",
      "----------\n",
      "x_seq:莫 废 思 康 乐 , 诗 情 满 沃 洲 。 [UNK] [PAD] [PAD] [PAD] [PAD] [PAD] [PAD] [PAD] [PAD] [PAD] [PAD] [PAD] [PAD] [PAD] [PAD] [PAD] [PAD]\n",
      "x_ALLU:饰 冠 以 玉 , 光 好 外 见 , 中 非 所 有 。 [UNK] [PAD] [PAD] [PAD] [PAD] [PAD] [PAD] [PAD] [PAD] [PAD] [PAD] [PAD] [PAD] [PAD]\n",
      "y_pred:[0.27322564]\n",
      "y_true:0\n",
      "----------\n",
      "x_seq:莫 废 思 康 乐 , 诗 情 满 沃 洲 。 [UNK] [PAD] [PAD] [PAD] [PAD] [PAD] [PAD] [PAD] [PAD] [PAD] [PAD] [PAD] [PAD] [PAD] [PAD] [PAD] [PAD]\n",
      "x_ALLU:周 道 废 , 秦 拨 去 古 文 , 焚 灭 诗 书 , 故 明 堂 石 室 金 匮 玉 版 , 图 籍 散 乱\n",
      "y_pred:[0.43424422]\n",
      "y_true:0\n",
      "----------\n",
      "x_seq:莫 废 思 康 乐 , 诗 情 满 沃 洲 。 [UNK] [PAD] [PAD] [PAD] [PAD] [PAD] [PAD] [PAD] [PAD] [PAD] [PAD] [PAD] [PAD] [PAD] [PAD] [PAD] [PAD]\n",
      "x_ALLU:及 太 清 二 年 , 景 果 归 附 , 高 祖 欣 然 自 悦 , 谓 与 神 通 , 及 议 纳 之 , 而\n",
      "y_pred:[0.2927872]\n",
      "y_true:0\n",
      "----------\n",
      "x_seq:莫 废 思 康 乐 , 诗 情 满 沃 洲 。 [UNK] [PAD] [PAD] [PAD] [PAD] [PAD] [PAD] [PAD] [PAD] [PAD] [PAD] [PAD] [PAD] [PAD] [PAD] [PAD] [PAD]\n",
      "x_ALLU:安 以 天 子 幼 弱 , 外 戚 擅 权 , 每 朝 会 进 见 , 及 与 公 卿 言 国 家 事 , 未 尝\n",
      "y_pred:[0.47430608]\n",
      "y_true:0\n",
      "----------\n",
      "x_seq:若 教 解 爱 繁 华 事 , 冻 杀 黄 金 屋 里 人 。 [UNK] [PAD] [PAD] [PAD] [PAD] [PAD] [PAD] [PAD] [PAD] [PAD] [PAD] [PAD] [PAD]\n",
      "x_ALLU:擅 宠 骄 贵 , 十 余 年 而 无 子 , 闻 卫 子 夫 得 幸 , 几 死 者 数 焉 。 上 愈 怒 [UNK]\n",
      "y_pred:[0.5128782]\n",
      "y_true:1\n",
      "----------\n",
      "x_seq:若 教 解 爱 繁 华 事 , 冻 杀 黄 金 屋 里 人 。 [UNK] [PAD] [PAD] [PAD] [PAD] [PAD] [PAD] [PAD] [PAD] [PAD] [PAD] [PAD] [PAD]\n",
      "x_ALLU:以 真 为 上 军 大 将 军 , 都 督 中 外 诸 军 事 , 假 节 钺 。 [UNK] [PAD] [PAD] [PAD] [PAD] [PAD] [PAD] [PAD]\n",
      "y_pred:[0.36709404]\n",
      "y_true:0\n",
      "----------\n",
      "x_seq:若 教 解 爱 繁 华 事 , 冻 杀 黄 金 屋 里 人 。 [UNK] [PAD] [PAD] [PAD] [PAD] [PAD] [PAD] [PAD] [PAD] [PAD] [PAD] [PAD] [PAD]\n",
      "x_ALLU:裴 令 公 有 俊 容 仪 , 脱 冠 冕 , 粗 服 乱 头 皆 好 , 时 人 以 为 [UNK] 玉 人 [UNK] 。 见\n",
      "y_pred:[0.46751666]\n",
      "y_true:0\n",
      "----------\n",
      "x_seq:若 教 解 爱 繁 华 事 , 冻 杀 黄 金 屋 里 人 。 [UNK] [PAD] [PAD] [PAD] [PAD] [PAD] [PAD] [PAD] [PAD] [PAD] [PAD] [PAD] [PAD]\n",
      "x_ALLU:春 申 君 曰 : [UNK] 足 下 置 之 。 李 园 , 弱 人 也 , 仆 又 善 之 , 且 又 何 至 为 此\n",
      "y_pred:[0.40681416]\n",
      "y_true:0\n",
      "----------\n",
      "x_seq:若 教 解 爱 繁 华 事 , 冻 杀 黄 金 屋 里 人 。 [UNK] [PAD] [PAD] [PAD] [PAD] [PAD] [PAD] [PAD] [PAD] [PAD] [PAD] [PAD] [PAD]\n",
      "x_ALLU:奇 肱 之 国 在 其 北 。 [UNK] [PAD] [PAD] [PAD] [PAD] [PAD] [PAD] [PAD] [PAD] [PAD] [PAD] [PAD] [PAD] [PAD] [PAD] [PAD] [PAD] [PAD] [PAD] [PAD] [PAD]\n",
      "y_pred:[0.29782516]\n",
      "y_true:0\n",
      "----------\n",
      "x_seq:若 教 解 爱 繁 华 事 , 冻 杀 黄 金 屋 里 人 。 [UNK] [PAD] [PAD] [PAD] [PAD] [PAD] [PAD] [PAD] [PAD] [PAD] [PAD] [PAD] [PAD]\n",
      "x_ALLU:绵 绵 葛 [UNK] , 在 河 之 浒 。 [UNK] 终 远 兄 弟 , 谓 他 人 父 。 [UNK] [PAD] [PAD] [PAD] [PAD] [PAD] [PAD] [PAD]\n",
      "y_pred:[0.24502361]\n",
      "y_true:0\n",
      "----------\n",
      "x_seq:若 教 解 爱 繁 华 事 , 冻 杀 黄 金 屋 里 人 。 [UNK] [PAD] [PAD] [PAD] [PAD] [PAD] [PAD] [PAD] [PAD] [PAD] [PAD] [PAD] [PAD]\n",
      "x_ALLU:衡 乃 拟 班 固 《 两 都 》 , 作 《 二 京 赋 》 , 因 以 讽 谏 。 精 思 傅 会 , 十 年\n",
      "y_pred:[0.6326728]\n",
      "y_true:0\n",
      "----------\n",
      "x_seq:若 教 解 爱 繁 华 事 , 冻 杀 黄 金 屋 里 人 。 [UNK] [PAD] [PAD] [PAD] [PAD] [PAD] [PAD] [PAD] [PAD] [PAD] [PAD] [PAD] [PAD]\n",
      "x_ALLU:先 主 少 孤 , 与 母 贩 履 织 席 为 业 。 舍 东 南 角 篱 上 有 桑 树 生 高 五 丈 余 ,\n",
      "y_pred:[0.29606313]\n",
      "y_true:0\n",
      "----------\n",
      "x_seq:若 教 解 爱 繁 华 事 , 冻 杀 黄 金 屋 里 人 。 [UNK] [PAD] [PAD] [PAD] [PAD] [PAD] [PAD] [PAD] [PAD] [PAD] [PAD] [PAD] [PAD]\n",
      "x_ALLU:是 时 卓 王 孙 有 女 文 君 新 寡 , 好 音 , 故 相 如 缪 与 令 相 重 , 而 以 琴 心 挑\n",
      "y_pred:[0.46104142]\n",
      "y_true:0\n",
      "----------\n",
      "x_seq:若 教 解 爱 繁 华 事 , 冻 杀 黄 金 屋 里 人 。 [UNK] [PAD] [PAD] [PAD] [PAD] [PAD] [PAD] [PAD] [PAD] [PAD] [PAD] [PAD] [PAD]\n",
      "x_ALLU:( 黄 ) 祖 长 子 射 为 章 陵 太 守 , 尤 善 于 衡 。 尝 与 衡 俱 游 , 共 读 蔡 邕 所\n",
      "y_pred:[0.43585753]\n",
      "y_true:0\n",
      "----------\n",
      "x_seq:空 山 寂 寂 兮 颍 阳 人 , 旦 夕 孤 云 随 一 身 。 [UNK] [PAD] [PAD] [PAD] [PAD] [PAD] [PAD] [PAD] [PAD] [PAD] [PAD] [PAD]\n",
      "x_ALLU:尧 让 天 下 于 许 由 [UNK] [UNK] 由 于 是 遁 耕 于 中 岳 颍 水 之 阳 , 箕 山 之 下 , 终 身\n",
      "y_pred:[0.5945306]\n",
      "y_true:1\n",
      "----------\n",
      "x_seq:空 山 寂 寂 兮 颍 阳 人 , 旦 夕 孤 云 随 一 身 。 [UNK] [PAD] [PAD] [PAD] [PAD] [PAD] [PAD] [PAD] [PAD] [PAD] [PAD] [PAD]\n",
      "x_ALLU:陈 思 王 植 字 子 建 。 年 十 岁 余 , 诵 读 《 诗 》 、 《 论 》 及 辞 赋 数 十 万 言\n",
      "y_pred:[0.43853337]\n",
      "y_true:0\n",
      "----------\n",
      "x_seq:空 山 寂 寂 兮 颍 阳 人 , 旦 夕 孤 云 随 一 身 。 [UNK] [PAD] [PAD] [PAD] [PAD] [PAD] [PAD] [PAD] [PAD] [PAD] [PAD] [PAD]\n",
      "x_ALLU:孔 安 国 曰 : [UNK] 放 言 于 国 , 以 诬 周 公 , 以 惑 成 王 也 。 [UNK] [UNK] [PAD] [PAD] [PAD] [PAD] [PAD]\n",
      "y_pred:[0.40588164]\n",
      "y_true:0\n",
      "----------\n",
      "x_seq:空 山 寂 寂 兮 颍 阳 人 , 旦 夕 孤 云 随 一 身 。 [UNK] [PAD] [PAD] [PAD] [PAD] [PAD] [PAD] [PAD] [PAD] [PAD] [PAD] [PAD]\n",
      "x_ALLU:杨 [UNK] 报 会 宗 书 曰 : 家 本 秦 也 , 能 为 秦 声 。 妇 , 赵 女 也 , 雅 善 鼓 瑟 。\n",
      "y_pred:[0.43645543]\n",
      "y_true:0\n",
      "----------\n",
      "END:**************************************************\n",
      "array([[0.3071276 , 0.5717294 , 0.31579053, 0.3101055 , 0.3600626 ,\n",
      "        0.34105805, 0.28469795, 0.44919538, 0.31312144, 0.4508532 ],\n",
      "       [0.3288418 , 0.2518867 , 0.5515279 , 0.30933017, 0.50473225,\n",
      "        0.2512828 , 0.3283161 , 0.28087744, 0.42202348, 0.40448493],\n",
      "       [0.49694452, 0.22428226, 0.22768036, 0.6108123 , 0.34700882,\n",
      "        0.17967334, 0.3593099 , 0.40454617, 0.61166054, 0.34081417],\n",
      "       [0.90006244, 0.18912658, 0.27962223, 0.34290063, 0.4250379 ,\n",
      "        0.32271305, 0.2311135 , 0.4717303 , 0.32843518, 0.45138833],\n",
      "       [0.62087315, 0.26841313, 0.4238314 , 0.2838751 , 0.422827  ,\n",
      "        0.5827619 , 0.27322564, 0.43424422, 0.2927872 , 0.47430608],\n",
      "       [0.5128782 , 0.36709404, 0.46751666, 0.40681416, 0.29782516,\n",
      "        0.24502361, 0.6326728 , 0.29606313, 0.46104142, 0.43585753],\n",
      "       [0.5945306 , 0.43853337, 0.40588164, 0.43645543, 0.43053472,\n",
      "        0.40990084, 0.46141177, 0.5752486 , 0.34950396, 0.22514233],\n",
      "       [0.49901068, 0.40757033, 0.36485177, 0.39940503, 0.46414143,\n",
      "        0.461205  , 0.42917585, 0.30219555, 0.36019918, 0.24716878],\n",
      "       [0.48009855, 0.34925884, 0.3145193 , 0.40000045, 0.549229  ,\n",
      "        0.2711467 , 0.39018655, 0.52843153, 0.48295635, 0.44057834],\n",
      "       [0.76842237, 0.4120943 , 0.2425713 , 0.5121883 , 0.4496499 ,\n",
      "        0.3204872 , 0.18889973, 0.33816957, 0.8444637 , 0.32204437]],\n",
      "      dtype=float32)\n",
      "array([1, 9, 7, 4, 5, 2, 8, 3, 0, 6])\n",
      "[0, 0, 0, 0, 0, 0, 0, 0, 1, 0]\n",
      "array([2, 4, 8, 9, 0, 6, 3, 7, 1, 5])\n",
      "[0, 0, 0, 0, 1, 0, 0, 0, 0, 0]\n",
      "array([8, 3, 0, 7, 6, 4, 9, 2, 1, 5])\n",
      "[0, 0, 1, 0, 0, 0, 0, 0, 0, 0]\n",
      "array([0, 7, 9, 4, 3, 8, 5, 2, 6, 1])\n",
      "[1, 0, 0, 0, 0, 0, 0, 0, 0, 0]\n",
      "array([0, 5, 9, 7, 2, 4, 8, 3, 6, 1])\n",
      "[1, 0, 0, 0, 0, 0, 0, 0, 0, 0]\n",
      "array([6, 0, 2, 8, 9, 3, 1, 4, 7, 5])\n",
      "[0, 1, 0, 0, 0, 0, 0, 0, 0, 0]\n",
      "array([0, 7, 6, 1, 3, 4, 5, 2, 8, 9])\n",
      "[1, 0, 0, 0, 0, 0, 0, 0, 0, 0]\n",
      "array([0, 4, 5, 6, 1, 3, 2, 8, 7, 9])\n",
      "[1, 0, 0, 0, 0, 0, 0, 0, 0, 0]\n",
      "array([4, 7, 8, 0, 9, 3, 6, 1, 2, 5])\n",
      "[0, 0, 0, 1, 0, 0, 0, 0, 0, 0]\n",
      "array([8, 0, 3, 4, 1, 7, 9, 5, 2, 6])\n",
      "[0, 1, 0, 0, 0, 0, 0, 0, 0, 0]\n",
      "\n",
      "----------------------------------ALLU_SOURCE PAIRMATCH METRICS -----------------------------------\n",
      "\n",
      "epoch:PAIRMATCH AVG_RANKING MRR: 0.5037\n",
      "\n",
      "----------------------------------ALLU_SOURCE END ----------------------------------\n"
     ]
    }
   ],
   "source": [
    "allu_def_seq_len = poem_seq_len\n",
    "trainer = SamplerMultiTaskTrainer(task_list=task_list,\n",
    "                                  batch_size=64,\n",
    "                                  total_epochs=50,\n",
    "                                  poem_seq_len=poem_seq_len,\n",
    "                                  allu_def_seq_len=allu_def_seq_len)\n",
    "\n",
    "final_res = trainer.train()\n"
   ]
  },
  {
   "cell_type": "code",
   "execution_count": 4,
   "metadata": {},
   "outputs": [],
   "source": [
    "from kashgari.utils import compute_mean_metrics\n",
    "from kashgari.utils import plot_final_res"
   ]
  },
  {
   "cell_type": "code",
   "execution_count": 5,
   "metadata": {},
   "outputs": [
    {
     "name": "stdout",
     "output_type": "stream",
     "text": [
      "NER\t[0.82683538 0.40708513 0.33588554 0.36629976]\n",
      "ALLU_SOURCE\t0.5496380687830688\n"
     ]
    },
    {
     "data": {
      "image/png": "[encoded data removed]",
      "text/plain": [
       "<Figure size 1440x576 with 10 Axes>"
      ]
     },
     "metadata": {
      "needs_background": "light"
     },
     "output_type": "display_data"
    },
    {
     "data": {
      "image/png": "[encoded data removed]",
      "text/plain": [
       "<Figure size 1440x576 with 10 Axes>"
      ]
     },
     "metadata": {
      "needs_background": "light"
     },
     "output_type": "display_data"
    }
   ],
   "source": [
    "compute_mean_metrics(final_res)\n",
    "plot_final_res(final_res)"
   ]
  },
  {
   "cell_type": "code",
   "execution_count": 6,
   "metadata": {},
   "outputs": [
    {
     "name": "stdout",
     "output_type": "stream",
     "text": [
      "NER\t[0.82683538 0.40708513 0.33588554 0.36629976]\n",
      "ALLU_SOURCE\t0.5496380687830688\n"
     ]
    },
    {
     "data": {
      "image/png": "[encoded data removed]",
      "text/plain": [
       "<Figure size 1440x576 with 10 Axes>"
      ]
     },
     "metadata": {
      "needs_background": "light"
     },
     "output_type": "display_data"
    },
    {
     "data": {
      "image/png": "[encoded data removed]",
      "text/plain": [
       "<Figure size 1440x576 with 10 Axes>"
      ]
     },
     "metadata": {
      "needs_background": "light"
     },
     "output_type": "display_data"
    }
   ],
   "source": [
    "compute_mean_metrics(final_res)\n",
    "plot_final_res(final_res)"
   ]
  },
  {
   "cell_type": "code",
   "execution_count": null,
   "metadata": {},
   "outputs": [],
   "source": []
  }
 ],
 "metadata": {
  "kernelspec": {
   "display_name": "Python [conda env:ner_tf2] *",
   "language": "python",
   "name": "conda-env-ner_tf2-py"
  },
  "language_info": {
   "codemirror_mode": {
    "name": "ipython",
    "version": 3
   },
   "file_extension": ".py",
   "mimetype": "text/x-python",
   "name": "python",
   "nbconvert_exporter": "python",
   "pygments_lexer": "ipython3",
   "version": "3.7.4"
  },
  "toc": {
   "base_numbering": 1,
   "nav_menu": {},
   "number_sections": true,
   "sideBar": true,
   "skip_h1_title": false,
   "title_cell": "Table of Contents",
   "title_sidebar": "Contents",
   "toc_cell": false,
   "toc_position": {},
   "toc_section_display": true,
   "toc_window_display": false
  }
 },
 "nbformat": 4,
 "nbformat_minor": 2
}
