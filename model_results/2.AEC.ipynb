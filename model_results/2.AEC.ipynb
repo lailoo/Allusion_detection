{
 "cells": [
  {
   "cell_type": "code",
   "execution_count": 1,
   "metadata": {},
   "outputs": [
    {
     "name": "stdout",
     "output_type": "stream",
     "text": [
      "2.0.0\n",
      "Num GPUs Available:  1\n",
      "Device mapping:\n",
      "/job:localhost/replica:0/task:0/device:XLA_CPU:0 -> device: XLA_CPU device\n",
      "/job:localhost/replica:0/task:0/device:XLA_GPU:0 -> device: XLA_GPU device\n",
      "/job:localhost/replica:0/task:0/device:GPU:0 -> device: 0, name: TITAN RTX, pci bus id: 0000:04:00.0, compute capability: 7.5\n",
      "\n"
     ]
    },
    {
     "data": {
      "text/plain": [
       "<tensorflow.python.client.session.Session at 0x7f963b472ed0>"
      ]
     },
     "execution_count": 1,
     "metadata": {},
     "output_type": "execute_result"
    }
   ],
   "source": [
    "#!/usr/bin/env python\n",
    "# -*- coding: utf-8 -*-\n",
    "# @Time    : 2020/1/13 16:28\n",
    "# @Author  : Shark\n",
    "# @Site    :\n",
    "# @File    : tsts_trainer.py\n",
    "# @Software: PyCharm\n",
    "\n",
    "import os\n",
    "os.environ[\"CUDA_VISIBLE_DEVICES\"] = \"0\"\n",
    "os.environ['TF_CPP_MIN_LOG_LEVEL'] = '2'\n",
    "\n",
    "import tensorflow as tf\n",
    "\n",
    "print(tf.__version__)\n",
    "print(\"Num GPUs Available: \", len(tf.config.experimental.list_physical_devices('GPU')))\n",
    "\n",
    "# On CPU/GPU placement\n",
    "config = tf.compat.v1.ConfigProto(allow_soft_placement=True, log_device_placement=True)\n",
    "config.gpu_options.allow_growth = True\n",
    "tf.compat.v1.Session(config=config)\n"
   ]
  },
  {
   "cell_type": "code",
   "execution_count": 2,
   "metadata": {},
   "outputs": [
    {
     "name": "stdout",
     "output_type": "stream",
     "text": [
      "Device mapping:\n",
      "/job:localhost/replica:0/task:0/device:XLA_CPU:0 -> device: XLA_CPU device\n",
      "/job:localhost/replica:0/task:0/device:XLA_GPU:0 -> device: XLA_GPU device\n",
      "/job:localhost/replica:0/task:0/device:GPU:0 -> device: 0, name: TITAN RTX, pci bus id: 0000:04:00.0, compute capability: 7.5\n",
      "\n"
     ]
    }
   ],
   "source": [
    "from kashgari.trainer.sampler_multi_task_trainer import SamplerMultiTaskTrainer\n",
    "from kashgari.task import ReadabilityTask, NerTask, AlluSourceTask,AlluClassTask\n",
    "from kashgari.processors import ClassificationProcessor, LabelingProcessor\n",
    "\n",
    "poem_seq_len = 30\n",
    "task_list = []\n",
    "\n",
    "\n",
    "\n",
    "processor = ClassificationProcessor(vocab_path=\"../pretrained_embedding/bert/poem_chinese_L-12_H-768_A-12/\")\n",
    "allu_class_task = AlluClassTask(processor,\n",
    "                                \"./allusion_corpus\",\n",
    "                                poem_seq_len)\n",
    "task_list.append(allu_class_task)\n",
    "\n",
    "\n",
    "\n",
    "\n",
    "\n"
   ]
  },
  {
   "cell_type": "code",
   "execution_count": 3,
   "metadata": {
    "scrolled": true
   },
   "outputs": [
    {
     "name": "stderr",
     "output_type": "stream",
     "text": [
      "I:BASE TASK:[base_task.:270]:Task ALLU_CLASS:\n",
      "I:BASE TASK:[base_task.:271]:\t29 training batches\n",
      "I:BASE TASK:[base_task.:272]:\t6 validation batches\n",
      "I:BASE TASK:[base_task.:273]:\t9 test batches\n",
      "I:BERT EMBEDDING:[bert_embed:105]:seq_len:30\n",
      "I:BERT EMBEDDING:[bert_embed:105]:seq_len:30\n",
      "I:AHMTL MODEL:[AHMTL.py:126]:Multi-Task Learning Model has been instantiated.\n",
      "I:CUR_SPLIT:0:[sampler_mu: 92]:Set up ready. Begining training/validation.\n",
      "I:BASE-MODEL:[base_model:133]:ALLU_CLASS's model_dir is ./model_ckpt/2020-02-03-12_20_21/0/ALLU_CLASS-NaiveDenseModel\n",
      "I:BASE-MODEL:[base_model:232]:[ALLU_CLASS]:train info:Train on 1813 samples, validate on 321 samples\n"
     ]
    },
    {
     "name": "stdout",
     "output_type": "stream",
     "text": [
      "Epoch 1/50\n",
      "29/29 [==============================] - 151s 5s/step - task_name: ALLU_CLASS  - loss: 2.2928 - accuracy: 0.2667 - val_loss: 2.5714 - val_accuracy: 0.3203\n"
     ]
    },
    {
     "name": "stderr",
     "output_type": "stream",
     "text": [
      "I:CUR_SPLIT:0:[sampler_mu:139]:----------------------------------------------------------------------------------------------------\n"
     ]
    },
    {
     "name": "stdout",
     "output_type": "stream",
     "text": [
      "Epoch 2/50\n",
      "29/29 [==============================] - 58s 2s/step - task_name: ALLU_CLASS  - loss: 1.8743 - accuracy: 0.3777 - val_loss: 2.4564 - val_accuracy: 0.3359\n"
     ]
    },
    {
     "name": "stderr",
     "output_type": "stream",
     "text": [
      "I:CUR_SPLIT:0:[sampler_mu:139]:----------------------------------------------------------------------------------------------------\n"
     ]
    },
    {
     "name": "stdout",
     "output_type": "stream",
     "text": [
      "Epoch 3/50\n",
      "29/29 [==============================] - 60s 2s/step - task_name: ALLU_CLASS  - loss: 1.6207 - accuracy: 0.4467 - val_loss: 2.4437 - val_accuracy: 0.3281\n"
     ]
    },
    {
     "name": "stderr",
     "output_type": "stream",
     "text": [
      "I:CUR_SPLIT:0:[sampler_mu:139]:----------------------------------------------------------------------------------------------------\n"
     ]
    },
    {
     "name": "stdout",
     "output_type": "stream",
     "text": [
      "Epoch 4/50\n",
      "29/29 [==============================] - 7s 239ms/step - task_name: ALLU_CLASS  - loss: 1.3959 - accuracy: 0.5307 - val_loss: 2.5020 - val_accuracy: 0.33070 - ac\n"
     ]
    },
    {
     "name": "stderr",
     "output_type": "stream",
     "text": [
      "I:CUR_SPLIT:0:[sampler_mu:139]:----------------------------------------------------------------------------------------------------\n"
     ]
    },
    {
     "name": "stdout",
     "output_type": "stream",
     "text": [
      "Epoch 5/50\n",
      "29/29 [==============================] - 6s 210ms/step - task_name: ALLU_CLASS  - loss: 1.2546 - accuracy: 0.5776 - val_loss: 2.5539 - val_accuracy: 0.3333\n"
     ]
    },
    {
     "name": "stderr",
     "output_type": "stream",
     "text": [
      "I:CUR_SPLIT:0:[sampler_mu:139]:----------------------------------------------------------------------------------------------------\n"
     ]
    },
    {
     "name": "stdout",
     "output_type": "stream",
     "text": [
      "Epoch 6/50\n",
      "29/29 [==============================] - 6s 203ms/step - task_name: ALLU_CLASS  - loss: 1.0932 - accuracy: 0.6395 - val_loss: 2.6670 - val_accuracy: 0.3021\n"
     ]
    },
    {
     "name": "stderr",
     "output_type": "stream",
     "text": [
      "I:CUR_SPLIT:0:[sampler_mu:139]:----------------------------------------------------------------------------------------------------\n"
     ]
    },
    {
     "name": "stdout",
     "output_type": "stream",
     "text": [
      "Epoch 7/50\n",
      "29/29 [==============================] - 6s 207ms/step - task_name: ALLU_CLASS  - loss: 1.7906 - accuracy: 0.4240 - val_loss: 2.9697 - val_accuracy: 0.2370\n"
     ]
    },
    {
     "name": "stderr",
     "output_type": "stream",
     "text": [
      "I:CUR_SPLIT:0:[sampler_mu:139]:----------------------------------------------------------------------------------------------------\n"
     ]
    },
    {
     "name": "stdout",
     "output_type": "stream",
     "text": [
      "Epoch 8/50\n",
      "29/29 [==============================] - 7s 238ms/step - task_name: ALLU_CLASS  - loss: 2.4859 - accuracy: 0.1940 - val_loss: 2.8928 - val_accuracy: 0.1719\n"
     ]
    },
    {
     "name": "stderr",
     "output_type": "stream",
     "text": [
      "I:CUR_SPLIT:0:[sampler_mu:139]:----------------------------------------------------------------------------------------------------\n"
     ]
    },
    {
     "name": "stdout",
     "output_type": "stream",
     "text": [
      "Epoch 9/50\n",
      "28/29 [===========================>..] - ETA: 0s - task_name: ALLU_CLASS  - loss: 2.2766 - accuracy: 0.2243\n",
      "Epoch 00009: ReduceLROnPlateau reducing learning rate to 0.0007000000332482159.\n",
      "29/29 [==============================] - 8s 267ms/step - task_name: ALLU_CLASS  - loss: 2.4140 - accuracy: 0.2214 - val_loss: 2.8300 - val_accuracy: 0.2370\n"
     ]
    },
    {
     "name": "stderr",
     "output_type": "stream",
     "text": [
      "I:CUR_SPLIT:0:[sampler_mu:139]:----------------------------------------------------------------------------------------------------\n"
     ]
    },
    {
     "name": "stdout",
     "output_type": "stream",
     "text": [
      "Epoch 10/50\n",
      "29/29 [==============================] - 7s 257ms/step - task_name: ALLU_CLASS  - loss: 2.3967 - accuracy: 0.2053 - val_loss: 2.8120 - val_accuracy: 0.2370\n"
     ]
    },
    {
     "name": "stderr",
     "output_type": "stream",
     "text": [
      "I:CUR_SPLIT:0:[sampler_mu:139]:----------------------------------------------------------------------------------------------------\n"
     ]
    },
    {
     "name": "stdout",
     "output_type": "stream",
     "text": [
      "\n",
      "----------------------------------ALLU_CLASS CLASS METRICS -----------------------------------\n",
      "\n",
      "              precision    recall  f1-score   support\n",
      "    accuracy                         0.3446       534\n",
      "   macro avg     0.3582    0.2543    0.2564       534\n",
      "weighted avg     0.3559    0.3446    0.3180       534\n",
      "\n",
      "\n",
      "epoch:classification EPOCH accuracy: 0.3445692883895131 precision: 0.358156, recall: 0.254267, f1: 0.256377\n",
      "\n",
      "-----------------------------ALLU_CLASS END ----------------------------\n"
     ]
    },
    {
     "name": "stderr",
     "output_type": "stream",
     "text": [
      "I:SAMPLE_TRAINER:[sampler_mu: 43]:cur_split_idx 0th END\n",
      "I:SAMPLE_TRAINER:[sampler_mu: 44]:****************************************************************************************************\n",
      "I:SAMPLE_TRAINER:[sampler_mu: 45]:****************************************************************************************************\n"
     ]
    },
    {
     "name": "stdout",
     "output_type": "stream",
     "text": [
      "train_example:**************************************************\n",
      "x_seq:廿 年 别 绪 联 床 雨 ， 四 海 虚 名 满 鬓 霜 。 [UNK] [PAD] [PAD] [PAD] [PAD] [PAD] [PAD] [PAD] [PAD] [PAD] [PAD] [PAD] [PAD]\n",
      "y_pred:人事部\n",
      "y_true:天文部\n",
      "----------\n",
      "x_seq:共 言 愁 是 酌 离 杯 ， 况 值 弦 歌 枉 大 才 。 [UNK] [PAD] [PAD] [PAD] [PAD] [PAD] [PAD] [PAD] [PAD] [PAD] [PAD] [PAD] [PAD]\n",
      "y_pred:人事部\n",
      "y_true:文明部\n",
      "----------\n",
      "x_seq:发 时 正 许 沙 鸥 送 ， 到 日 方 乘 竹 马 迎 。 [UNK] [PAD] [PAD] [PAD] [PAD] [PAD] [PAD] [PAD] [PAD] [PAD] [PAD] [PAD] [PAD]\n",
      "y_pred:动物部\n",
      "y_true:政事部\n",
      "----------\n",
      "x_seq:绍 述 政 行 皆 铁 案 ， 党 人 狱 起 又 黄 巾 。 [UNK] [PAD] [PAD] [PAD] [PAD] [PAD] [PAD] [PAD] [PAD] [PAD] [PAD] [PAD] [PAD]\n",
      "y_pred:器用部\n",
      "y_true:政事部\n",
      "----------\n",
      "x_seq:官 曹 三 语 椽 ， 国 器 万 寻 帧 。 [UNK] [PAD] [PAD] [PAD] [PAD] [PAD] [PAD] [PAD] [PAD] [PAD] [PAD] [PAD] [PAD] [PAD] [PAD] [PAD] [PAD]\n",
      "y_pred:器用部\n",
      "y_true:人物部\n",
      "----------\n",
      "x_seq:慷 慨 桓 野 王 ， 哀 歌 和 清 谈 。 [UNK] [PAD] [PAD] [PAD] [PAD] [PAD] [PAD] [PAD] [PAD] [PAD] [PAD] [PAD] [PAD] [PAD] [PAD] [PAD] [PAD]\n",
      "y_pred:人事部\n",
      "y_true:人事部\n",
      "----------\n",
      "x_seq:深 隐 犹 为 未 死 灰 ， 远 寻 知 己 遇 三 台 。 [UNK] [PAD] [PAD] [PAD] [PAD] [PAD] [PAD] [PAD] [PAD] [PAD] [PAD] [PAD] [PAD]\n",
      "y_pred:人事部\n",
      "y_true:人物部\n",
      "----------\n",
      "x_seq:人 皆 知 饮 水 ， 公 辈 不 偷 金 。 [UNK] [PAD] [PAD] [PAD] [PAD] [PAD] [PAD] [PAD] [PAD] [PAD] [PAD] [PAD] [PAD] [PAD] [PAD] [PAD] [PAD]\n",
      "y_pred:器用部\n",
      "y_true:器用部\n",
      "----------\n",
      "x_seq:纵 使 将 军 能 伏 剑 ， 何 人 岛 上 哭 田 横 ？ [UNK] [PAD] [PAD] [PAD] [PAD] [PAD] [PAD] [PAD] [PAD] [PAD] [PAD] [PAD] [PAD]\n",
      "y_pred:人事部\n",
      "y_true:人事部\n",
      "----------\n",
      "x_seq:且 请 同 观 舞 [UNK] [UNK] ， 何 须 竟 哂 食 槟 榔 。 [UNK] [PAD] [PAD] [PAD] [PAD] [PAD] [PAD] [PAD] [PAD] [PAD] [PAD] [PAD] [PAD]\n",
      "y_pred:人事部\n",
      "y_true:器用部\n",
      "----------\n",
      "END:**************************************************\n",
      "test_example:**************************************************\n",
      "x_seq:汉 日 唯 闻 白 衣 宠 ， 唐 年 更 睹 赤 松 游 。 [UNK] [PAD] [PAD] [PAD] [PAD] [PAD] [PAD] [PAD] [PAD] [PAD] [PAD] [PAD] [PAD]\n",
      "y_pred:器用部\n",
      "y_true:器用部\n",
      "----------\n",
      "x_seq:会 作 王 孙 曳 裾 客 ， 为 余 前 谢 鲍 参 军 。 [UNK] [PAD] [PAD] [PAD] [PAD] [PAD] [PAD] [PAD] [PAD] [PAD] [PAD] [PAD] [PAD]\n",
      "y_pred:人物部\n",
      "y_true:人物部\n",
      "----------\n",
      "x_seq:鱼 钥 未 收 清 夜 永 ， 凤 箫 犹 在 翠 微 间 。 [UNK] [PAD] [PAD] [PAD] [PAD] [PAD] [PAD] [PAD] [PAD] [PAD] [PAD] [PAD] [PAD]\n",
      "y_pred:器用部\n",
      "y_true:文明部\n",
      "----------\n",
      "x_seq:不 闻 官 掖 悲 人 [UNK] ， 肯 使 兵 尘 丧 帝 [UNK] 。 [UNK] [PAD] [PAD] [PAD] [PAD] [PAD] [PAD] [PAD] [PAD] [PAD] [PAD] [PAD] [PAD]\n",
      "y_pred:人事部\n",
      "y_true:人事部\n",
      "----------\n",
      "x_seq:李 陵 心 事 久 风 尘 ， 三 十 年 来 岂 卧 薪 ！ [UNK] [PAD] [PAD] [PAD] [PAD] [PAD] [PAD] [PAD] [PAD] [PAD] [PAD] [PAD] [PAD]\n",
      "y_pred:人事部\n",
      "y_true:器用部\n",
      "----------\n",
      "x_seq:往 来 屑 屑 君 应 笑 ， 要 就 南 池 照 客 衣 。 [UNK] [PAD] [PAD] [PAD] [PAD] [PAD] [PAD] [PAD] [PAD] [PAD] [PAD] [PAD] [PAD]\n",
      "y_pred:器用部\n",
      "y_true:人事部\n",
      "----------\n",
      "x_seq:娱 宾 歌 湛 露 ， 广 乐 奏 钧 天 。 [UNK] [PAD] [PAD] [PAD] [PAD] [PAD] [PAD] [PAD] [PAD] [PAD] [PAD] [PAD] [PAD] [PAD] [PAD] [PAD] [PAD]\n",
      "y_pred:天文部\n",
      "y_true:文明部\n",
      "----------\n",
      "x_seq:囊 疏 萤 易 透 ， 锥 钝 股 多 坑 。 [UNK] [PAD] [PAD] [PAD] [PAD] [PAD] [PAD] [PAD] [PAD] [PAD] [PAD] [PAD] [PAD] [PAD] [PAD] [PAD] [PAD]\n",
      "y_pred:器用部\n",
      "y_true:人体部\n",
      "----------\n",
      "x_seq:荻 字 书 犹 记 ， 斑 衣 舞 尚 寻 。 [UNK] [PAD] [PAD] [PAD] [PAD] [PAD] [PAD] [PAD] [PAD] [PAD] [PAD] [PAD] [PAD] [PAD] [PAD] [PAD] [PAD]\n",
      "y_pred:文明部\n",
      "y_true:文明部\n",
      "----------\n",
      "x_seq:晋 库 走 龙 剑 ， 吴 官 伤 燕 雏 。 [UNK] [PAD] [PAD] [PAD] [PAD] [PAD] [PAD] [PAD] [PAD] [PAD] [PAD] [PAD] [PAD] [PAD] [PAD] [PAD] [PAD]\n",
      "y_pred:动物部\n",
      "y_true:人事部\n",
      "----------\n",
      "END:**************************************************\n"
     ]
    },
    {
     "name": "stderr",
     "output_type": "stream",
     "text": [
      "I:BASE TASK:[base_task.:270]:Task ALLU_CLASS:\n",
      "I:BASE TASK:[base_task.:271]:\t29 training batches\n",
      "I:BASE TASK:[base_task.:272]:\t6 validation batches\n",
      "I:BASE TASK:[base_task.:273]:\t9 test batches\n",
      "I:BERT EMBEDDING:[bert_embed:105]:seq_len:30\n",
      "I:BERT EMBEDDING:[bert_embed:105]:seq_len:30\n",
      "I:AHMTL MODEL:[AHMTL.py:126]:Multi-Task Learning Model has been instantiated.\n",
      "I:CUR_SPLIT:1:[sampler_mu: 92]:Set up ready. Begining training/validation.\n",
      "I:BASE-MODEL:[base_model:133]:ALLU_CLASS's model_dir is ./model_ckpt/2020-02-03-12_20_21/1/ALLU_CLASS-NaiveDenseModel\n",
      "I:BASE-MODEL:[base_model:232]:[ALLU_CLASS]:train info:Train on 1813 samples, validate on 321 samples\n"
     ]
    },
    {
     "name": "stdout",
     "output_type": "stream",
     "text": [
      "Epoch 1/50\n",
      "29/29 [==============================] - 42s 1s/step - task_name: ALLU_CLASS  - loss: 2.3297 - accuracy: 0.2532 - val_loss: 2.4789 - val_accuracy: 0.3151\n"
     ]
    },
    {
     "name": "stderr",
     "output_type": "stream",
     "text": [
      "I:CUR_SPLIT:1:[sampler_mu:139]:----------------------------------------------------------------------------------------------------\n"
     ]
    },
    {
     "name": "stdout",
     "output_type": "stream",
     "text": [
      "Epoch 2/50\n",
      "29/29 [==============================] - 43s 1s/step - task_name: ALLU_CLASS  - loss: 1.9471 - accuracy: 0.3696 - val_loss: 2.3091 - val_accuracy: 0.3646\n"
     ]
    },
    {
     "name": "stderr",
     "output_type": "stream",
     "text": [
      "I:CUR_SPLIT:1:[sampler_mu:139]:----------------------------------------------------------------------------------------------------\n"
     ]
    },
    {
     "name": "stdout",
     "output_type": "stream",
     "text": [
      "Epoch 3/50\n",
      "29/29 [==============================] - 20s 698ms/step - task_name: ALLU_CLASS  - loss: 1.6924 - accuracy: 0.4510 - val_loss: 2.2465 - val_accuracy: 0.3516\n"
     ]
    },
    {
     "name": "stderr",
     "output_type": "stream",
     "text": [
      "I:CUR_SPLIT:1:[sampler_mu:139]:----------------------------------------------------------------------------------------------------\n"
     ]
    },
    {
     "name": "stdout",
     "output_type": "stream",
     "text": [
      "Epoch 4/50\n",
      "29/29 [==============================] - 22s 754ms/step - task_name: ALLU_CLASS  - loss: 1.5426 - accuracy: 0.4914 - val_loss: 2.1970 - val_accuracy: 0.3620\n"
     ]
    },
    {
     "name": "stderr",
     "output_type": "stream",
     "text": [
      "I:CUR_SPLIT:1:[sampler_mu:139]:----------------------------------------------------------------------------------------------------\n"
     ]
    },
    {
     "name": "stdout",
     "output_type": "stream",
     "text": [
      "Epoch 5/50\n",
      "29/29 [==============================] - 7s 244ms/step - task_name: ALLU_CLASS  - loss: 1.3764 - accuracy: 0.5302 - val_loss: 2.2369 - val_accuracy: 0.3646\n"
     ]
    },
    {
     "name": "stderr",
     "output_type": "stream",
     "text": [
      "I:CUR_SPLIT:1:[sampler_mu:139]:----------------------------------------------------------------------------------------------------\n"
     ]
    },
    {
     "name": "stdout",
     "output_type": "stream",
     "text": [
      "Epoch 6/50\n",
      "29/29 [==============================] - 8s 265ms/step - task_name: ALLU_CLASS  - loss: 1.2461 - accuracy: 0.5760 - val_loss: 2.2562 - val_accuracy: 0.3750\n"
     ]
    },
    {
     "name": "stderr",
     "output_type": "stream",
     "text": [
      "I:CUR_SPLIT:1:[sampler_mu:139]:----------------------------------------------------------------------------------------------------\n"
     ]
    },
    {
     "name": "stdout",
     "output_type": "stream",
     "text": [
      "Epoch 7/50\n",
      "29/29 [==============================] - 7s 232ms/step - task_name: ALLU_CLASS  - loss: 1.0770 - accuracy: 0.6579 - val_loss: 2.3344 - val_accuracy: 0.3906\n"
     ]
    },
    {
     "name": "stderr",
     "output_type": "stream",
     "text": [
      "I:CUR_SPLIT:1:[sampler_mu:139]:----------------------------------------------------------------------------------------------------\n"
     ]
    },
    {
     "name": "stdout",
     "output_type": "stream",
     "text": [
      "Epoch 8/50\n",
      "29/29 [==============================] - 6s 207ms/step - task_name: ALLU_CLASS  - loss: 0.9440 - accuracy: 0.6880 - val_loss: 2.3814 - val_accuracy: 0.3854\n"
     ]
    },
    {
     "name": "stderr",
     "output_type": "stream",
     "text": [
      "I:CUR_SPLIT:1:[sampler_mu:139]:----------------------------------------------------------------------------------------------------\n"
     ]
    },
    {
     "name": "stdout",
     "output_type": "stream",
     "text": [
      "Epoch 9/50\n",
      "29/29 [==============================] - 7s 246ms/step - task_name: ALLU_CLASS  - loss: 0.8079 - accuracy: 0.7500 - val_loss: 2.4981 - val_accuracy: 0.3750\n"
     ]
    },
    {
     "name": "stderr",
     "output_type": "stream",
     "text": [
      "I:CUR_SPLIT:1:[sampler_mu:139]:----------------------------------------------------------------------------------------------------\n"
     ]
    },
    {
     "name": "stdout",
     "output_type": "stream",
     "text": [
      "Epoch 10/50\n",
      "29/29 [==============================] - 8s 270ms/step - task_name: ALLU_CLASS  - loss: 0.7002 - accuracy: 0.7802 - val_loss: 2.5588 - val_accuracy: 0.3802\n"
     ]
    },
    {
     "name": "stderr",
     "output_type": "stream",
     "text": [
      "I:CUR_SPLIT:1:[sampler_mu:139]:----------------------------------------------------------------------------------------------------\n"
     ]
    },
    {
     "name": "stdout",
     "output_type": "stream",
     "text": [
      "Epoch 11/50\n",
      "29/29 [==============================] - 7s 258ms/step - task_name: ALLU_CLASS  - loss: 0.5828 - accuracy: 0.8405 - val_loss: 2.7033 - val_accuracy: 0.3646\n"
     ]
    },
    {
     "name": "stderr",
     "output_type": "stream",
     "text": [
      "I:CUR_SPLIT:1:[sampler_mu:139]:----------------------------------------------------------------------------------------------------\n"
     ]
    },
    {
     "name": "stdout",
     "output_type": "stream",
     "text": [
      "\n",
      "----------------------------------ALLU_CLASS CLASS METRICS -----------------------------------\n",
      "\n",
      "              precision    recall  f1-score   support\n",
      "    accuracy                         0.3633       534\n",
      "   macro avg     0.3724    0.2892    0.3037       534\n",
      "weighted avg     0.3882    0.3633    0.3500       534\n",
      "\n",
      "\n",
      "epoch:classification EPOCH accuracy: 0.36329588014981273 precision: 0.372450, recall: 0.289158, f1: 0.303708\n",
      "\n",
      "-----------------------------ALLU_CLASS END ----------------------------\n"
     ]
    },
    {
     "name": "stderr",
     "output_type": "stream",
     "text": [
      "I:SAMPLE_TRAINER:[sampler_mu: 43]:cur_split_idx 1th END\n",
      "I:SAMPLE_TRAINER:[sampler_mu: 44]:****************************************************************************************************\n",
      "I:SAMPLE_TRAINER:[sampler_mu: 45]:****************************************************************************************************\n",
      "I:BASE TASK:[base_task.:270]:Task ALLU_CLASS:\n",
      "I:BASE TASK:[base_task.:271]:\t29 training batches\n",
      "I:BASE TASK:[base_task.:272]:\t6 validation batches\n",
      "I:BASE TASK:[base_task.:273]:\t9 test batches\n"
     ]
    },
    {
     "name": "stdout",
     "output_type": "stream",
     "text": [
      "train_example:**************************************************\n",
      "x_seq:望 夫 身 化 石 ， 为 伯 首 如 蓬 。 [UNK] [PAD] [PAD] [PAD] [PAD] [PAD] [PAD] [PAD] [PAD] [PAD] [PAD] [PAD] [PAD] [PAD] [PAD] [PAD] [PAD]\n",
      "y_pred:地理部\n",
      "y_true:地理部\n",
      "----------\n",
      "x_seq:即 事 须 尝 胆 ， 苍 生 可 察 眉 。 [UNK] [PAD] [PAD] [PAD] [PAD] [PAD] [PAD] [PAD] [PAD] [PAD] [PAD] [PAD] [PAD] [PAD] [PAD] [PAD] [PAD]\n",
      "y_pred:人体部\n",
      "y_true:人事部\n",
      "----------\n",
      "x_seq:六 经 依 旧 垂 天 地 ， 千 载 秦 灰 散 劫 空 。 [UNK] [PAD] [PAD] [PAD] [PAD] [PAD] [PAD] [PAD] [PAD] [PAD] [PAD] [PAD] [PAD]\n",
      "y_pred:地理部\n",
      "y_true:地理部\n",
      "----------\n",
      "x_seq:无 因 [UNK] 投 壁 ， 有 味 倒 餐 蔗 。 [UNK] [PAD] [PAD] [PAD] [PAD] [PAD] [PAD] [PAD] [PAD] [PAD] [PAD] [PAD] [PAD] [PAD] [PAD] [PAD] [PAD]\n",
      "y_pred:植物部\n",
      "y_true:植物部\n",
      "----------\n",
      "x_seq:使 君 不 复 怜 乌 攫 ， 属 国 方 将 掘 鼠 余 。 [UNK] [PAD] [PAD] [PAD] [PAD] [PAD] [PAD] [PAD] [PAD] [PAD] [PAD] [PAD] [PAD]\n",
      "y_pred:动物部\n",
      "y_true:人事部\n",
      "----------\n",
      "x_seq:卖 剑 买 牛 吾 欲 老 ， 杀 鸡 为 黍 子 来 无 ？ [UNK] [PAD] [PAD] [PAD] [PAD] [PAD] [PAD] [PAD] [PAD] [PAD] [PAD] [PAD] [PAD]\n",
      "y_pred:人事部\n",
      "y_true:政事部\n",
      "----------\n",
      "x_seq:谁 言 老 龙 吉 ， 未 免 伯 牛 灾 。 [UNK] [PAD] [PAD] [PAD] [PAD] [PAD] [PAD] [PAD] [PAD] [PAD] [PAD] [PAD] [PAD] [PAD] [PAD] [PAD] [PAD]\n",
      "y_pred:动物部\n",
      "y_true:人事部\n",
      "----------\n",
      "x_seq:吾 闻 驾 鼓 车 ， 不 合 用 骐 骥 。 [UNK] [PAD] [PAD] [PAD] [PAD] [PAD] [PAD] [PAD] [PAD] [PAD] [PAD] [PAD] [PAD] [PAD] [PAD] [PAD] [PAD]\n",
      "y_pred:器用部\n",
      "y_true:器用部\n",
      "----------\n",
      "x_seq:不 期 先 挂 剑 ， 长 恐 后 施 鞭 。 [UNK] [PAD] [PAD] [PAD] [PAD] [PAD] [PAD] [PAD] [PAD] [PAD] [PAD] [PAD] [PAD] [PAD] [PAD] [PAD] [PAD]\n",
      "y_pred:人事部\n",
      "y_true:人事部\n",
      "----------\n",
      "x_seq:焉 得 太 阿 决 屏 翳 ， 还 令 率 土 见 朝 曦 。 [UNK] [PAD] [PAD] [PAD] [PAD] [PAD] [PAD] [PAD] [PAD] [PAD] [PAD] [PAD] [PAD]\n",
      "y_pred:器用部\n",
      "y_true:武备部\n",
      "----------\n",
      "END:**************************************************\n",
      "test_example:**************************************************\n",
      "x_seq:奸 声 人 耳 佞 人 心 ， 侏 儒 饱 饭 夷 齐 饿 。 [UNK] [PAD] [PAD] [PAD] [PAD] [PAD] [PAD] [PAD] [PAD] [PAD] [PAD] [PAD] [PAD]\n",
      "y_pred:人事部\n",
      "y_true:器用部\n",
      "----------\n",
      "x_seq:人 琴 久 寂 寞 ， 烟 月 若 平 生 。 [UNK] [PAD] [PAD] [PAD] [PAD] [PAD] [PAD] [PAD] [PAD] [PAD] [PAD] [PAD] [PAD] [PAD] [PAD] [PAD] [PAD]\n",
      "y_pred:人事部\n",
      "y_true:文明部\n",
      "----------\n",
      "x_seq:南 帝 初 奋 极 ， 凿 窍 泄 混 沌 。 [UNK] [PAD] [PAD] [PAD] [PAD] [PAD] [PAD] [PAD] [PAD] [PAD] [PAD] [PAD] [PAD] [PAD] [PAD] [PAD] [PAD]\n",
      "y_pred:九流部\n",
      "y_true:人体部\n",
      "----------\n",
      "x_seq:博 浪 飞 椎 后 ， [UNK] 桥 进 履 车 。 [UNK] [PAD] [PAD] [PAD] [PAD] [PAD] [PAD] [PAD] [PAD] [PAD] [PAD] [PAD] [PAD] [PAD] [PAD] [PAD] [PAD]\n",
      "y_pred:器用部\n",
      "y_true:人事部\n",
      "----------\n",
      "x_seq:天 边 鸿 鹊 不 易 得 ， 便 令 作 对 随 家 鸡 。 [UNK] [PAD] [PAD] [PAD] [PAD] [PAD] [PAD] [PAD] [PAD] [PAD] [PAD] [PAD] [PAD]\n",
      "y_pred:动物部\n",
      "y_true:动物部\n",
      "----------\n",
      "x_seq:莫 问 盐 车 骏 ， 谁 着 酱 [UNK] 玄 ？ [UNK] [PAD] [PAD] [PAD] [PAD] [PAD] [PAD] [PAD] [PAD] [PAD] [PAD] [PAD] [PAD] [PAD] [PAD] [PAD] [PAD]\n",
      "y_pred:动物部\n",
      "y_true:动物部\n",
      "----------\n",
      "x_seq:胡 床 [UNK] 被 萧 然 去 ， 片 石 留 为 剑 阁 铭 。 [UNK] [PAD] [PAD] [PAD] [PAD] [PAD] [PAD] [PAD] [PAD] [PAD] [PAD] [PAD] [PAD]\n",
      "y_pred:器用部\n",
      "y_true:文明部\n",
      "----------\n",
      "x_seq:勖 尔 效 才 略 ， 功 成 衣 锦 还 。 [UNK] [PAD] [PAD] [PAD] [PAD] [PAD] [PAD] [PAD] [PAD] [PAD] [PAD] [PAD] [PAD] [PAD] [PAD] [PAD] [PAD]\n",
      "y_pred:人事部\n",
      "y_true:器用部\n",
      "----------\n",
      "x_seq:徒 闻 斩 蚊 剑 ， 无 复 [UNK] 犀 船 。 [UNK] [PAD] [PAD] [PAD] [PAD] [PAD] [PAD] [PAD] [PAD] [PAD] [PAD] [PAD] [PAD] [PAD] [PAD] [PAD] [PAD]\n",
      "y_pred:器用部\n",
      "y_true:器用部\n",
      "----------\n",
      "x_seq:岂 惟 蜀 客 知 踪 迹 ， 更 问 庭 中 晒 腹 人 。 [UNK] [PAD] [PAD] [PAD] [PAD] [PAD] [PAD] [PAD] [PAD] [PAD] [PAD] [PAD] [PAD]\n",
      "y_pred:器用部\n",
      "y_true:文明部\n",
      "----------\n",
      "END:**************************************************\n"
     ]
    },
    {
     "name": "stderr",
     "output_type": "stream",
     "text": [
      "I:BERT EMBEDDING:[bert_embed:105]:seq_len:30\n",
      "I:BERT EMBEDDING:[bert_embed:105]:seq_len:30\n",
      "I:AHMTL MODEL:[AHMTL.py:126]:Multi-Task Learning Model has been instantiated.\n",
      "I:CUR_SPLIT:2:[sampler_mu: 92]:Set up ready. Begining training/validation.\n",
      "I:BASE-MODEL:[base_model:133]:ALLU_CLASS's model_dir is ./model_ckpt/2020-02-03-12_20_21/2/ALLU_CLASS-NaiveDenseModel\n",
      "I:BASE-MODEL:[base_model:232]:[ALLU_CLASS]:train info:Train on 1813 samples, validate on 321 samples\n"
     ]
    },
    {
     "name": "stdout",
     "output_type": "stream",
     "text": [
      "Epoch 1/50\n",
      "29/29 [==============================] - 52s 2s/step - task_name: ALLU_CLASS  - loss: 2.3128 - accuracy: 0.2705 - val_loss: 2.5712 - val_accuracy: 0.2760\n"
     ]
    },
    {
     "name": "stderr",
     "output_type": "stream",
     "text": [
      "I:CUR_SPLIT:2:[sampler_mu:139]:----------------------------------------------------------------------------------------------------\n"
     ]
    },
    {
     "name": "stdout",
     "output_type": "stream",
     "text": [
      "Epoch 2/50\n",
      "29/29 [==============================] - 34s 1s/step - task_name: ALLU_CLASS  - loss: 1.9401 - accuracy: 0.3793 - val_loss: 2.4239 - val_accuracy: 0.3177\n"
     ]
    },
    {
     "name": "stderr",
     "output_type": "stream",
     "text": [
      "I:CUR_SPLIT:2:[sampler_mu:139]:----------------------------------------------------------------------------------------------------\n"
     ]
    },
    {
     "name": "stdout",
     "output_type": "stream",
     "text": [
      "Epoch 3/50\n",
      "29/29 [==============================] - 27s 914ms/step - task_name: ALLU_CLASS  - loss: 1.7026 - accuracy: 0.4246 - val_loss: 2.3665 - val_accuracy: 0.3359\n"
     ]
    },
    {
     "name": "stderr",
     "output_type": "stream",
     "text": [
      "I:CUR_SPLIT:2:[sampler_mu:139]:----------------------------------------------------------------------------------------------------\n"
     ]
    },
    {
     "name": "stdout",
     "output_type": "stream",
     "text": [
      "Epoch 4/50\n",
      "29/29 [==============================] - 8s 281ms/step - task_name: ALLU_CLASS  - loss: 1.5167 - accuracy: 0.4957 - val_loss: 2.3879 - val_accuracy: 0.3385\n"
     ]
    },
    {
     "name": "stderr",
     "output_type": "stream",
     "text": [
      "I:CUR_SPLIT:2:[sampler_mu:139]:----------------------------------------------------------------------------------------------------\n"
     ]
    },
    {
     "name": "stdout",
     "output_type": "stream",
     "text": [
      "Epoch 5/50\n",
      "29/29 [==============================] - 8s 265ms/step - task_name: ALLU_CLASS  - loss: 1.3609 - accuracy: 0.5523 - val_loss: 2.4442 - val_accuracy: 0.3385\n"
     ]
    },
    {
     "name": "stderr",
     "output_type": "stream",
     "text": [
      "I:CUR_SPLIT:2:[sampler_mu:139]:----------------------------------------------------------------------------------------------------\n"
     ]
    },
    {
     "name": "stdout",
     "output_type": "stream",
     "text": [
      "Epoch 6/50\n",
      "29/29 [==============================] - 8s 268ms/step - task_name: ALLU_CLASS  - loss: 1.2535 - accuracy: 0.5814 - val_loss: 2.4739 - val_accuracy: 0.3255\n"
     ]
    },
    {
     "name": "stderr",
     "output_type": "stream",
     "text": [
      "I:CUR_SPLIT:2:[sampler_mu:139]:----------------------------------------------------------------------------------------------------\n"
     ]
    },
    {
     "name": "stdout",
     "output_type": "stream",
     "text": [
      "Epoch 7/50\n",
      "29/29 [==============================] - 8s 267ms/step - task_name: ALLU_CLASS  - loss: 1.0825 - accuracy: 0.6519 - val_loss: 2.5521 - val_accuracy: 0.3073\n"
     ]
    },
    {
     "name": "stderr",
     "output_type": "stream",
     "text": [
      "I:CUR_SPLIT:2:[sampler_mu:139]:----------------------------------------------------------------------------------------------------\n"
     ]
    },
    {
     "name": "stdout",
     "output_type": "stream",
     "text": [
      "Epoch 8/50\n",
      "29/29 [==============================] - 8s 266ms/step - task_name: ALLU_CLASS  - loss: 0.9466 - accuracy: 0.7015 - val_loss: 2.6665 - val_accuracy: 0.3229\n"
     ]
    },
    {
     "name": "stderr",
     "output_type": "stream",
     "text": [
      "I:CUR_SPLIT:2:[sampler_mu:139]:----------------------------------------------------------------------------------------------------\n"
     ]
    },
    {
     "name": "stdout",
     "output_type": "stream",
     "text": [
      "Epoch 9/50\n",
      "29/29 [==============================] - 6s 222ms/step - task_name: ALLU_CLASS  - loss: 0.7920 - accuracy: 0.7613 - val_loss: 2.7170 - val_accuracy: 0.3203\n"
     ]
    },
    {
     "name": "stderr",
     "output_type": "stream",
     "text": [
      "I:CUR_SPLIT:2:[sampler_mu:139]:----------------------------------------------------------------------------------------------------\n"
     ]
    },
    {
     "name": "stdout",
     "output_type": "stream",
     "text": [
      "Epoch 10/50\n",
      "29/29 [==============================] - 6s 218ms/step - task_name: ALLU_CLASS  - loss: 0.7073 - accuracy: 0.8044 - val_loss: 2.8691 - val_accuracy: 0.3229\n"
     ]
    },
    {
     "name": "stderr",
     "output_type": "stream",
     "text": [
      "I:CUR_SPLIT:2:[sampler_mu:139]:----------------------------------------------------------------------------------------------------\n"
     ]
    },
    {
     "name": "stdout",
     "output_type": "stream",
     "text": [
      "\n",
      "----------------------------------ALLU_CLASS CLASS METRICS -----------------------------------\n",
      "\n",
      "              precision    recall  f1-score   support\n",
      "    accuracy                         0.4026       534\n",
      "   macro avg     0.3321    0.2780    0.2760       534\n",
      "weighted avg     0.3911    0.4026    0.3734       534\n",
      "\n",
      "\n",
      "epoch:classification EPOCH accuracy: 0.40262172284644193 precision: 0.332056, recall: 0.277972, f1: 0.275956\n",
      "\n",
      "-----------------------------ALLU_CLASS END ----------------------------\n",
      "train_example:**************************************************\n",
      "x_seq:开 窗 逢 一 笑 ， 未 觉 徐 娘 老 。 [UNK] [PAD] [PAD] [PAD] [PAD] [PAD] [PAD] [PAD] [PAD] [PAD] [PAD] [PAD] [PAD] [PAD] [PAD] [PAD] [PAD]\n",
      "y_pred:人事部\n",
      "y_true:人事部\n",
      "----------\n",
      "x_seq:疑 惑 樽 中 弩 ， 淹 留 冠 上 簪 。 [UNK] [PAD] [PAD] [PAD] [PAD] [PAD] [PAD] [PAD] [PAD] [PAD] [PAD] [PAD] [PAD] [PAD] [PAD] [PAD] [PAD]\n",
      "y_pred:器用部\n",
      "y_true:武备部\n",
      "----------\n",
      "x_seq:脱 靴 力 士 只 羞 颜 ， 捧 砚 杨 妃 劳 玉 脂 。 [UNK] [PAD] [PAD] [PAD] [PAD] [PAD] [PAD] [PAD] [PAD] [PAD] [PAD] [PAD] [PAD]\n",
      "y_pred:器用部\n",
      "y_true:器用部\n",
      "----------\n",
      "x_seq:淮 南 木 叶 飞 ， 夜 间 广 陵 散 。 [UNK] [PAD] [PAD] [PAD] [PAD] [PAD] [PAD] [PAD] [PAD] [PAD] [PAD] [PAD] [PAD] [PAD] [PAD] [PAD] [PAD]\n",
      "y_pred:人事部\n",
      "y_true:人事部\n",
      "----------\n",
      "x_seq:国 香 兰 已 歇 ， 里 树 橘 犹 新 。 [UNK] [PAD] [PAD] [PAD] [PAD] [PAD] [PAD] [PAD] [PAD] [PAD] [PAD] [PAD] [PAD] [PAD] [PAD] [PAD] [PAD]\n",
      "y_pred:植物部\n",
      "y_true:植物部\n",
      "----------\n",
      "x_seq:秦 穆 杀 三 良 ， 惜 哉 空 尔 为 。 [UNK] [PAD] [PAD] [PAD] [PAD] [PAD] [PAD] [PAD] [PAD] [PAD] [PAD] [PAD] [PAD] [PAD] [PAD] [PAD] [PAD]\n",
      "y_pred:人事部\n",
      "y_true:人事部\n",
      "----------\n",
      "x_seq:鱼 因 感 姜 出 ， 鹤 为 吊 陶 来 。 [UNK] [PAD] [PAD] [PAD] [PAD] [PAD] [PAD] [PAD] [PAD] [PAD] [PAD] [PAD] [PAD] [PAD] [PAD] [PAD] [PAD]\n",
      "y_pred:人事部\n",
      "y_true:人事部\n",
      "----------\n",
      "x_seq:江 夏 无 双 应 未 去 ， 恨 无 文 字 相 娱 嬉 。 [UNK] [PAD] [PAD] [PAD] [PAD] [PAD] [PAD] [PAD] [PAD] [PAD] [PAD] [PAD] [PAD]\n",
      "y_pred:人物部\n",
      "y_true:文明部\n",
      "----------\n",
      "x_seq:玉 台 挂 宝 镜 ， 持 此 意 何 如 ？ [UNK] [PAD] [PAD] [PAD] [PAD] [PAD] [PAD] [PAD] [PAD] [PAD] [PAD] [PAD] [PAD] [PAD] [PAD] [PAD] [PAD]\n",
      "y_pred:器用部\n",
      "y_true:器用部\n",
      "----------\n",
      "x_seq:下 客 依 莲 幕 ， 明 公 念 竹 林 。 [UNK] [PAD] [PAD] [PAD] [PAD] [PAD] [PAD] [PAD] [PAD] [PAD] [PAD] [PAD] [PAD] [PAD] [PAD] [PAD] [PAD]\n",
      "y_pred:人物部\n",
      "y_true:人物部\n",
      "----------\n",
      "END:**************************************************\n"
     ]
    },
    {
     "name": "stderr",
     "output_type": "stream",
     "text": [
      "I:SAMPLE_TRAINER:[sampler_mu: 43]:cur_split_idx 2th END\n",
      "I:SAMPLE_TRAINER:[sampler_mu: 44]:****************************************************************************************************\n",
      "I:SAMPLE_TRAINER:[sampler_mu: 45]:****************************************************************************************************\n",
      "I:BASE TASK:[base_task.:270]:Task ALLU_CLASS:\n",
      "I:BASE TASK:[base_task.:271]:\t29 training batches\n",
      "I:BASE TASK:[base_task.:272]:\t6 validation batches\n",
      "I:BASE TASK:[base_task.:273]:\t9 test batches\n"
     ]
    },
    {
     "name": "stdout",
     "output_type": "stream",
     "text": [
      "test_example:**************************************************\n",
      "x_seq:天 山 自 可 三 箭 取 ， 海 国 何 劳 一 苇 航 。 [UNK] [PAD] [PAD] [PAD] [PAD] [PAD] [PAD] [PAD] [PAD] [PAD] [PAD] [PAD] [PAD]\n",
      "y_pred:地理部\n",
      "y_true:武备部\n",
      "----------\n",
      "x_seq:宁 戚 饭 牛 图 底 事 ， 陆 通 歌 风 也 无 端 。 [UNK] [PAD] [PAD] [PAD] [PAD] [PAD] [PAD] [PAD] [PAD] [PAD] [PAD] [PAD] [PAD]\n",
      "y_pred:文明部\n",
      "y_true:人事部\n",
      "----------\n",
      "x_seq:极 德 难 忘 寸 草 私 ， 多 愁 长 废 蓼 莪 诗 。 [UNK] [PAD] [PAD] [PAD] [PAD] [PAD] [PAD] [PAD] [PAD] [PAD] [PAD] [PAD] [PAD]\n",
      "y_pred:文明部\n",
      "y_true:文明部\n",
      "----------\n",
      "x_seq:马 援 征 行 在 眼 前 ， 葛 强 亲 近 同 心 事 。 [UNK] [PAD] [PAD] [PAD] [PAD] [PAD] [PAD] [PAD] [PAD] [PAD] [PAD] [PAD] [PAD]\n",
      "y_pred:人事部\n",
      "y_true:人物部\n",
      "----------\n",
      "x_seq:犹 嫌 子 夏 儒 ， 肯 学 樊 迟 稼 。 [UNK] [PAD] [PAD] [PAD] [PAD] [PAD] [PAD] [PAD] [PAD] [PAD] [PAD] [PAD] [PAD] [PAD] [PAD] [PAD] [PAD]\n",
      "y_pred:人事部\n",
      "y_true:人事部\n",
      "----------\n",
      "x_seq:我 以 一 箭 书 ， 能 取 聊 城 功 。 [UNK] [PAD] [PAD] [PAD] [PAD] [PAD] [PAD] [PAD] [PAD] [PAD] [PAD] [PAD] [PAD] [PAD] [PAD] [PAD] [PAD]\n",
      "y_pred:文明部\n",
      "y_true:武备部\n",
      "----------\n",
      "x_seq:功 名 画 地 饼 ， 岁 月 下 江 船 。 [UNK] [PAD] [PAD] [PAD] [PAD] [PAD] [PAD] [PAD] [PAD] [PAD] [PAD] [PAD] [PAD] [PAD] [PAD] [PAD] [PAD]\n",
      "y_pred:器用部\n",
      "y_true:文明部\n",
      "----------\n",
      "x_seq:茹 茶 空 有 叹 ， 怀 橘 独 伤 心 。 [UNK] [PAD] [PAD] [PAD] [PAD] [PAD] [PAD] [PAD] [PAD] [PAD] [PAD] [PAD] [PAD] [PAD] [PAD] [PAD] [PAD]\n",
      "y_pred:人事部\n",
      "y_true:伦类部\n",
      "----------\n",
      "x_seq:穷 巷 悄 然 车 马 绝 ， 案 头 干 死 读 书 萤 。 [UNK] [PAD] [PAD] [PAD] [PAD] [PAD] [PAD] [PAD] [PAD] [PAD] [PAD] [PAD] [PAD]\n",
      "y_pred:器用部\n",
      "y_true:动物部\n",
      "----------\n",
      "x_seq:含 情 傲 睨 慰 心 目 ， 何 可 一 日 无 此 君 。 [UNK] [PAD] [PAD] [PAD] [PAD] [PAD] [PAD] [PAD] [PAD] [PAD] [PAD] [PAD] [PAD]\n",
      "y_pred:人事部\n",
      "y_true:人事部\n",
      "----------\n",
      "END:**************************************************\n"
     ]
    },
    {
     "name": "stderr",
     "output_type": "stream",
     "text": [
      "I:BERT EMBEDDING:[bert_embed:105]:seq_len:30\n",
      "I:BERT EMBEDDING:[bert_embed:105]:seq_len:30\n",
      "I:AHMTL MODEL:[AHMTL.py:126]:Multi-Task Learning Model has been instantiated.\n",
      "I:CUR_SPLIT:3:[sampler_mu: 92]:Set up ready. Begining training/validation.\n",
      "I:BASE-MODEL:[base_model:133]:ALLU_CLASS's model_dir is ./model_ckpt/2020-02-03-12_20_21/3/ALLU_CLASS-NaiveDenseModel\n",
      "I:BASE-MODEL:[base_model:232]:[ALLU_CLASS]:train info:Train on 1814 samples, validate on 321 samples\n"
     ]
    },
    {
     "name": "stdout",
     "output_type": "stream",
     "text": [
      "Epoch 1/50\n",
      "29/29 [==============================] - 43s 1s/step - task_name: ALLU_CLASS  - loss: 2.2947 - accuracy: 0.2592 - val_loss: 2.5730 - val_accuracy: 0.2734\n"
     ]
    },
    {
     "name": "stderr",
     "output_type": "stream",
     "text": [
      "I:CUR_SPLIT:3:[sampler_mu:139]:----------------------------------------------------------------------------------------------------\n"
     ]
    },
    {
     "name": "stdout",
     "output_type": "stream",
     "text": [
      "Epoch 2/50\n",
      "29/29 [==============================] - 7s 254ms/step - task_name: ALLU_CLASS  - loss: 1.9853 - accuracy: 0.3648 - val_loss: 2.6855 - val_accuracy: 0.2448\n"
     ]
    },
    {
     "name": "stderr",
     "output_type": "stream",
     "text": [
      "I:CUR_SPLIT:3:[sampler_mu:139]:----------------------------------------------------------------------------------------------------\n"
     ]
    },
    {
     "name": "stdout",
     "output_type": "stream",
     "text": [
      "Epoch 3/50\n",
      "29/29 [==============================] - 14s 487ms/step - task_name: ALLU_CLASS  - loss: 1.7287 - accuracy: 0.4251 - val_loss: 2.3082 - val_accuracy: 0.3359\n"
     ]
    },
    {
     "name": "stderr",
     "output_type": "stream",
     "text": [
      "I:CUR_SPLIT:3:[sampler_mu:139]:----------------------------------------------------------------------------------------------------\n"
     ]
    },
    {
     "name": "stdout",
     "output_type": "stream",
     "text": [
      "Epoch 4/50\n",
      "29/29 [==============================] - 13s 462ms/step - task_name: ALLU_CLASS  - loss: 1.5387 - accuracy: 0.4898 - val_loss: 2.2991 - val_accuracy: 0.3594\n"
     ]
    },
    {
     "name": "stderr",
     "output_type": "stream",
     "text": [
      "I:CUR_SPLIT:3:[sampler_mu:139]:----------------------------------------------------------------------------------------------------\n"
     ]
    },
    {
     "name": "stdout",
     "output_type": "stream",
     "text": [
      "Epoch 5/50\n",
      "29/29 [==============================] - 8s 269ms/step - task_name: ALLU_CLASS  - loss: 1.3590 - accuracy: 0.5420 - val_loss: 2.3092 - val_accuracy: 0.3490\n"
     ]
    },
    {
     "name": "stderr",
     "output_type": "stream",
     "text": [
      "I:CUR_SPLIT:3:[sampler_mu:139]:----------------------------------------------------------------------------------------------------\n"
     ]
    },
    {
     "name": "stdout",
     "output_type": "stream",
     "text": [
      "Epoch 6/50\n",
      "29/29 [==============================] - 7s 237ms/step - task_name: ALLU_CLASS  - loss: 1.1937 - accuracy: 0.6121 - val_loss: 2.3169 - val_accuracy: 0.3359\n"
     ]
    },
    {
     "name": "stderr",
     "output_type": "stream",
     "text": [
      "I:CUR_SPLIT:3:[sampler_mu:139]:----------------------------------------------------------------------------------------------------\n"
     ]
    },
    {
     "name": "stdout",
     "output_type": "stream",
     "text": [
      "Epoch 7/50\n",
      "29/29 [==============================] - 6s 221ms/step - task_name: ALLU_CLASS  - loss: 1.0772 - accuracy: 0.6541 - val_loss: 2.3897 - val_accuracy: 0.3411\n"
     ]
    },
    {
     "name": "stderr",
     "output_type": "stream",
     "text": [
      "I:CUR_SPLIT:3:[sampler_mu:139]:----------------------------------------------------------------------------------------------------\n"
     ]
    },
    {
     "name": "stdout",
     "output_type": "stream",
     "text": [
      "Epoch 8/50\n",
      "29/29 [==============================] - 8s 263ms/step - task_name: ALLU_CLASS  - loss: 0.9510 - accuracy: 0.6902 - val_loss: 2.4930 - val_accuracy: 0.3464\n"
     ]
    },
    {
     "name": "stderr",
     "output_type": "stream",
     "text": [
      "I:CUR_SPLIT:3:[sampler_mu:139]:----------------------------------------------------------------------------------------------------\n"
     ]
    },
    {
     "name": "stdout",
     "output_type": "stream",
     "text": [
      "Epoch 9/50\n",
      "29/29 [==============================] - 7s 249ms/step - task_name: ALLU_CLASS  - loss: 0.8238 - accuracy: 0.7457 - val_loss: 2.5870 - val_accuracy: 0.3542\n"
     ]
    },
    {
     "name": "stderr",
     "output_type": "stream",
     "text": [
      "I:CUR_SPLIT:3:[sampler_mu:139]:----------------------------------------------------------------------------------------------------\n"
     ]
    },
    {
     "name": "stdout",
     "output_type": "stream",
     "text": [
      "Epoch 10/50\n",
      "29/29 [==============================] - 6s 202ms/step - task_name: ALLU_CLASS  - loss: 0.7264 - accuracy: 0.7807 - val_loss: 2.6482 - val_accuracy: 0.3568\n"
     ]
    },
    {
     "name": "stderr",
     "output_type": "stream",
     "text": [
      "I:CUR_SPLIT:3:[sampler_mu:139]:----------------------------------------------------------------------------------------------------\n"
     ]
    },
    {
     "name": "stdout",
     "output_type": "stream",
     "text": [
      "Epoch 11/50\n",
      "29/29 [==============================] - 6s 216ms/step - task_name: ALLU_CLASS  - loss: 0.6271 - accuracy: 0.8179 - val_loss: 2.7806 - val_accuracy: 0.3464\n"
     ]
    },
    {
     "name": "stderr",
     "output_type": "stream",
     "text": [
      "I:CUR_SPLIT:3:[sampler_mu:139]:----------------------------------------------------------------------------------------------------\n"
     ]
    },
    {
     "name": "stdout",
     "output_type": "stream",
     "text": [
      "\n",
      "----------------------------------ALLU_CLASS CLASS METRICS -----------------------------------\n",
      "\n",
      "              precision    recall  f1-score   support\n",
      "    accuracy                         0.3996       533\n",
      "   macro avg     0.4208    0.2923    0.3094       533\n",
      "weighted avg     0.4134    0.3996    0.3740       533\n",
      "\n",
      "\n",
      "epoch:classification EPOCH accuracy: 0.399624765478424 precision: 0.420770, recall: 0.292317, f1: 0.309366\n",
      "\n",
      "-----------------------------ALLU_CLASS END ----------------------------\n"
     ]
    },
    {
     "name": "stderr",
     "output_type": "stream",
     "text": [
      "I:SAMPLE_TRAINER:[sampler_mu: 43]:cur_split_idx 3th END\n",
      "I:SAMPLE_TRAINER:[sampler_mu: 44]:****************************************************************************************************\n",
      "I:SAMPLE_TRAINER:[sampler_mu: 45]:****************************************************************************************************\n"
     ]
    },
    {
     "name": "stdout",
     "output_type": "stream",
     "text": [
      "train_example:**************************************************\n",
      "x_seq:天 边 鸿 鹊 不 易 得 ， 便 令 作 对 随 家 鸡 。 [UNK] [PAD] [PAD] [PAD] [PAD] [PAD] [PAD] [PAD] [PAD] [PAD] [PAD] [PAD] [PAD]\n",
      "y_pred:动物部\n",
      "y_true:动物部\n",
      "----------\n",
      "x_seq:嫦 娥 窃 药 出 人 间 ， 藏 在 蟾 宫 不 放 还 。 [UNK] [PAD] [PAD] [PAD] [PAD] [PAD] [PAD] [PAD] [PAD] [PAD] [PAD] [PAD] [PAD]\n",
      "y_pred:九流部\n",
      "y_true:天文部\n",
      "----------\n",
      "x_seq:羿 焉 [UNK] 日 ， 乌 焉 解 羽 。 [UNK] [PAD] [PAD] [PAD] [PAD] [PAD] [PAD] [PAD] [PAD] [PAD] [PAD] [PAD] [PAD] [PAD] [PAD] [PAD] [PAD] [PAD] [PAD]\n",
      "y_pred:天文部\n",
      "y_true:天文部\n",
      "----------\n",
      "x_seq:骥 服 盐 车 不 称 情 ， 轻 裘 肥 马 凤 凰 城 。 [UNK] [PAD] [PAD] [PAD] [PAD] [PAD] [PAD] [PAD] [PAD] [PAD] [PAD] [PAD] [PAD]\n",
      "y_pred:人事部\n",
      "y_true:人事部\n",
      "----------\n",
      "x_seq:士 节 久 调 丧 ， 舐 痔 甜 不 求 。 [UNK] [PAD] [PAD] [PAD] [PAD] [PAD] [PAD] [PAD] [PAD] [PAD] [PAD] [PAD] [PAD] [PAD] [PAD] [PAD] [PAD]\n",
      "y_pred:人事部\n",
      "y_true:人事部\n",
      "----------\n",
      "x_seq:张 良 思 报 韩 ， 龚 胜 耻 事 新 。 [UNK] [PAD] [PAD] [PAD] [PAD] [PAD] [PAD] [PAD] [PAD] [PAD] [PAD] [PAD] [PAD] [PAD] [PAD] [PAD] [PAD]\n",
      "y_pred:人事部\n",
      "y_true:政事部\n",
      "----------\n",
      "x_seq:去 年 登 高 都 县 北 ， 今 日 重 在 涪 江 滨 。 [UNK] [PAD] [PAD] [PAD] [PAD] [PAD] [PAD] [PAD] [PAD] [PAD] [PAD] [PAD] [PAD]\n",
      "y_pred:地理部\n",
      "y_true:天文部\n",
      "----------\n",
      "x_seq:茂 陵 秋 最 冷 ， 谁 念 一 书 生 ？ [UNK] [PAD] [PAD] [PAD] [PAD] [PAD] [PAD] [PAD] [PAD] [PAD] [PAD] [PAD] [PAD] [PAD] [PAD] [PAD] [PAD]\n",
      "y_pred:人事部\n",
      "y_true:人物部\n",
      "----------\n",
      "x_seq:既 欣 东 日 户 ， 复 咏 南 风 篇 。 [UNK] [PAD] [PAD] [PAD] [PAD] [PAD] [PAD] [PAD] [PAD] [PAD] [PAD] [PAD] [PAD] [PAD] [PAD] [PAD] [PAD]\n",
      "y_pred:文明部\n",
      "y_true:文明部\n",
      "----------\n",
      "x_seq:北 窗 高 卧 羲 皇 侣 ， 只 因 素 稔 读 书 趣 。 [UNK] [PAD] [PAD] [PAD] [PAD] [PAD] [PAD] [PAD] [PAD] [PAD] [PAD] [PAD] [PAD]\n",
      "y_pred:人事部\n",
      "y_true:人事部\n",
      "----------\n",
      "END:**************************************************\n",
      "test_example:**************************************************\n",
      "x_seq:陆 家 正 有 诸 郎 在 ， 宝 剑 千 金 更 属 谁 ？ [UNK] [PAD] [PAD] [PAD] [PAD] [PAD] [PAD] [PAD] [PAD] [PAD] [PAD] [PAD] [PAD]\n",
      "y_pred:人事部\n",
      "y_true:武备部\n",
      "----------\n",
      "x_seq:草 木 也 知 春 有 脚 ， 郊 原 争 睹 雨 随 车 。 [UNK] [PAD] [PAD] [PAD] [PAD] [PAD] [PAD] [PAD] [PAD] [PAD] [PAD] [PAD] [PAD]\n",
      "y_pred:人事部\n",
      "y_true:人体部\n",
      "----------\n",
      "x_seq:忽 欣 来 蝶 梦 ， 恰 报 得 牛 眠 。 [UNK] [PAD] [PAD] [PAD] [PAD] [PAD] [PAD] [PAD] [PAD] [PAD] [PAD] [PAD] [PAD] [PAD] [PAD] [PAD] [PAD]\n",
      "y_pred:动物部\n",
      "y_true:人事部\n",
      "----------\n",
      "x_seq:寂 寞 空 馀 歌 舞 地 ， 玉 箫 惊 起 凤 归 天 。 [UNK] [PAD] [PAD] [PAD] [PAD] [PAD] [PAD] [PAD] [PAD] [PAD] [PAD] [PAD] [PAD]\n",
      "y_pred:人事部\n",
      "y_true:人事部\n",
      "----------\n",
      "x_seq:高 卧 北 窗 凉 ， 超 然 寄 疏 豁 。 [UNK] [PAD] [PAD] [PAD] [PAD] [PAD] [PAD] [PAD] [PAD] [PAD] [PAD] [PAD] [PAD] [PAD] [PAD] [PAD] [PAD]\n",
      "y_pred:人事部\n",
      "y_true:天文部\n",
      "----------\n",
      "x_seq:江 郡 讴 谣 夸 杜 母 ， 洛 城 欢 会 忆 车 公 。 [UNK] [PAD] [PAD] [PAD] [PAD] [PAD] [PAD] [PAD] [PAD] [PAD] [PAD] [PAD] [PAD]\n",
      "y_pred:人物部\n",
      "y_true:政事部\n",
      "----------\n",
      "x_seq:新 愁 旧 恨 真 无 奈 ， 须 就 邻 家 瓮 底 眠 。 [UNK] [PAD] [PAD] [PAD] [PAD] [PAD] [PAD] [PAD] [PAD] [PAD] [PAD] [PAD] [PAD]\n",
      "y_pred:人事部\n",
      "y_true:器用部\n",
      "----------\n",
      "x_seq:可 怜 [UNK] 马 史 ， 白 首 为 谁 雄 ？ [UNK] [PAD] [PAD] [PAD] [PAD] [PAD] [PAD] [PAD] [PAD] [PAD] [PAD] [PAD] [PAD] [PAD] [PAD] [PAD] [PAD]\n",
      "y_pred:人物部\n",
      "y_true:人物部\n",
      "----------\n",
      "x_seq:骊 龙 睡 后 珠 元 在 ， 仙 鹤 行 时 步 又 轻 。 [UNK] [PAD] [PAD] [PAD] [PAD] [PAD] [PAD] [PAD] [PAD] [PAD] [PAD] [PAD] [PAD]\n",
      "y_pred:动物部\n",
      "y_true:人事部\n",
      "----------\n",
      "x_seq:地 幽 蚕 室 闭 ， 门 静 雀 罗 开 。 [UNK] [PAD] [PAD] [PAD] [PAD] [PAD] [PAD] [PAD] [PAD] [PAD] [PAD] [PAD] [PAD] [PAD] [PAD] [PAD] [PAD]\n",
      "y_pred:动物部\n",
      "y_true:器用部\n",
      "----------\n",
      "END:**************************************************\n"
     ]
    },
    {
     "name": "stderr",
     "output_type": "stream",
     "text": [
      "I:BASE TASK:[base_task.:270]:Task ALLU_CLASS:\n",
      "I:BASE TASK:[base_task.:271]:\t29 training batches\n",
      "I:BASE TASK:[base_task.:272]:\t6 validation batches\n",
      "I:BASE TASK:[base_task.:273]:\t9 test batches\n",
      "I:BERT EMBEDDING:[bert_embed:105]:seq_len:30\n",
      "I:BERT EMBEDDING:[bert_embed:105]:seq_len:30\n",
      "I:AHMTL MODEL:[AHMTL.py:126]:Multi-Task Learning Model has been instantiated.\n",
      "I:CUR_SPLIT:4:[sampler_mu: 92]:Set up ready. Begining training/validation.\n",
      "I:BASE-MODEL:[base_model:133]:ALLU_CLASS's model_dir is ./model_ckpt/2020-02-03-12_20_21/4/ALLU_CLASS-NaiveDenseModel\n",
      "I:BASE-MODEL:[base_model:232]:[ALLU_CLASS]:train info:Train on 1814 samples, validate on 321 samples\n"
     ]
    },
    {
     "name": "stdout",
     "output_type": "stream",
     "text": [
      "Epoch 1/50\n",
      "29/29 [==============================] - 38s 1s/step - task_name: ALLU_CLASS  - loss: 2.3572 - accuracy: 0.2355 - val_loss: 2.6117 - val_accuracy: 0.2526\n"
     ]
    },
    {
     "name": "stderr",
     "output_type": "stream",
     "text": [
      "I:CUR_SPLIT:4:[sampler_mu:139]:----------------------------------------------------------------------------------------------------\n"
     ]
    },
    {
     "name": "stdout",
     "output_type": "stream",
     "text": [
      "Epoch 2/50\n",
      "29/29 [==============================] - 18s 615ms/step - task_name: ALLU_CLASS  - loss: 2.0837 - accuracy: 0.3168 - val_loss: 2.4933 - val_accuracy: 0.3047\n"
     ]
    },
    {
     "name": "stderr",
     "output_type": "stream",
     "text": [
      "I:CUR_SPLIT:4:[sampler_mu:139]:----------------------------------------------------------------------------------------------------\n"
     ]
    },
    {
     "name": "stdout",
     "output_type": "stream",
     "text": [
      "Epoch 3/50\n",
      "29/29 [==============================] - 26s 893ms/step - task_name: ALLU_CLASS  - loss: 1.8909 - accuracy: 0.3723 - val_loss: 2.3462 - val_accuracy: 0.3542\n"
     ]
    },
    {
     "name": "stderr",
     "output_type": "stream",
     "text": [
      "I:CUR_SPLIT:4:[sampler_mu:139]:----------------------------------------------------------------------------------------------------\n"
     ]
    },
    {
     "name": "stdout",
     "output_type": "stream",
     "text": [
      "Epoch 4/50\n",
      "29/29 [==============================] - 18s 638ms/step - task_name: ALLU_CLASS  - loss: 1.7096 - accuracy: 0.4300 - val_loss: 2.3378 - val_accuracy: 0.3464\n"
     ]
    },
    {
     "name": "stderr",
     "output_type": "stream",
     "text": [
      "I:CUR_SPLIT:4:[sampler_mu:139]:----------------------------------------------------------------------------------------------------\n"
     ]
    },
    {
     "name": "stdout",
     "output_type": "stream",
     "text": [
      "Epoch 5/50\n",
      "29/29 [==============================] - 6s 202ms/step - task_name: ALLU_CLASS  - loss: 1.5102 - accuracy: 0.4844 - val_loss: 2.3428 - val_accuracy: 0.3411\n"
     ]
    },
    {
     "name": "stderr",
     "output_type": "stream",
     "text": [
      "I:CUR_SPLIT:4:[sampler_mu:139]:----------------------------------------------------------------------------------------------------\n"
     ]
    },
    {
     "name": "stdout",
     "output_type": "stream",
     "text": [
      "Epoch 6/50\n",
      "29/29 [==============================] - 7s 235ms/step - task_name: ALLU_CLASS  - loss: 1.3549 - accuracy: 0.5501 - val_loss: 2.3800 - val_accuracy: 0.3385\n"
     ]
    },
    {
     "name": "stderr",
     "output_type": "stream",
     "text": [
      "I:CUR_SPLIT:4:[sampler_mu:139]:----------------------------------------------------------------------------------------------------\n"
     ]
    },
    {
     "name": "stdout",
     "output_type": "stream",
     "text": [
      "Epoch 7/50\n",
      "29/29 [==============================] - 8s 267ms/step - task_name: ALLU_CLASS  - loss: 1.2103 - accuracy: 0.6018 - val_loss: 2.5062 - val_accuracy: 0.3151\n"
     ]
    },
    {
     "name": "stderr",
     "output_type": "stream",
     "text": [
      "I:CUR_SPLIT:4:[sampler_mu:139]:----------------------------------------------------------------------------------------------------\n"
     ]
    },
    {
     "name": "stdout",
     "output_type": "stream",
     "text": [
      "Epoch 8/50\n",
      "29/29 [==============================] - 7s 240ms/step - task_name: ALLU_CLASS  - loss: 1.0674 - accuracy: 0.6536 - val_loss: 2.5875 - val_accuracy: 0.3203\n"
     ]
    },
    {
     "name": "stderr",
     "output_type": "stream",
     "text": [
      "I:CUR_SPLIT:4:[sampler_mu:139]:----------------------------------------------------------------------------------------------------\n"
     ]
    },
    {
     "name": "stdout",
     "output_type": "stream",
     "text": [
      "Epoch 9/50\n",
      "29/29 [==============================] - 6s 203ms/step - task_name: ALLU_CLASS  - loss: 0.9302 - accuracy: 0.7064 - val_loss: 2.7285 - val_accuracy: 0.3021\n"
     ]
    },
    {
     "name": "stderr",
     "output_type": "stream",
     "text": [
      "I:CUR_SPLIT:4:[sampler_mu:139]:----------------------------------------------------------------------------------------------------\n"
     ]
    },
    {
     "name": "stdout",
     "output_type": "stream",
     "text": [
      "Epoch 10/50\n",
      "29/29 [==============================] - 7s 246ms/step - task_name: ALLU_CLASS  - loss: 0.8280 - accuracy: 0.7344 - val_loss: 2.8562 - val_accuracy: 0.3203\n"
     ]
    },
    {
     "name": "stderr",
     "output_type": "stream",
     "text": [
      "I:CUR_SPLIT:4:[sampler_mu:139]:----------------------------------------------------------------------------------------------------\n"
     ]
    },
    {
     "name": "stdout",
     "output_type": "stream",
     "text": [
      "Epoch 11/50\n",
      "29/29 [==============================] - 8s 278ms/step - task_name: ALLU_CLASS  - loss: 0.7580 - accuracy: 0.7565 - val_loss: 2.7988 - val_accuracy: 0.3099\n"
     ]
    },
    {
     "name": "stderr",
     "output_type": "stream",
     "text": [
      "I:CUR_SPLIT:4:[sampler_mu:139]:----------------------------------------------------------------------------------------------------\n"
     ]
    },
    {
     "name": "stdout",
     "output_type": "stream",
     "text": [
      "\n",
      "----------------------------------ALLU_CLASS CLASS METRICS -----------------------------------\n",
      "\n",
      "              precision    recall  f1-score   support\n",
      "    accuracy                         0.3302       533\n",
      "   macro avg     0.2957    0.2230    0.2361       533\n",
      "weighted avg     0.3276    0.3302    0.3054       533\n",
      "\n",
      "\n",
      "epoch:classification EPOCH accuracy: 0.3302063789868668 precision: 0.295691, recall: 0.223048, f1: 0.236074\n",
      "\n",
      "-----------------------------ALLU_CLASS END ----------------------------\n"
     ]
    },
    {
     "name": "stderr",
     "output_type": "stream",
     "text": [
      "I:SAMPLE_TRAINER:[sampler_mu: 43]:cur_split_idx 4th END\n",
      "I:SAMPLE_TRAINER:[sampler_mu: 44]:****************************************************************************************************\n",
      "I:SAMPLE_TRAINER:[sampler_mu: 45]:****************************************************************************************************\n"
     ]
    },
    {
     "name": "stdout",
     "output_type": "stream",
     "text": [
      "train_example:**************************************************\n",
      "x_seq:惟 君 知 我 苦 ， 何 异 [UNK] 桐 鸣 。 [UNK] [PAD] [PAD] [PAD] [PAD] [PAD] [PAD] [PAD] [PAD] [PAD] [PAD] [PAD] [PAD] [PAD] [PAD] [PAD] [PAD]\n",
      "y_pred:人事部\n",
      "y_true:人事部\n",
      "----------\n",
      "x_seq:陶 潜 政 事 千 杯 酒 ， 张 翰 生 涯 一 叶 舟 。 [UNK] [PAD] [PAD] [PAD] [PAD] [PAD] [PAD] [PAD] [PAD] [PAD] [PAD] [PAD] [PAD]\n",
      "y_pred:人事部\n",
      "y_true:人事部\n",
      "----------\n",
      "x_seq:煮 豆 燃 萁 谁 管 得 ， 莫 将 成 败 论 英 雄 。 [UNK] [PAD] [PAD] [PAD] [PAD] [PAD] [PAD] [PAD] [PAD] [PAD] [PAD] [PAD] [PAD]\n",
      "y_pred:器用部\n",
      "y_true:植物部\n",
      "----------\n",
      "x_seq:题 桥 一 字 终 何 益 ， 卖 赋 千 金 竟 或 无 。 [UNK] [PAD] [PAD] [PAD] [PAD] [PAD] [PAD] [PAD] [PAD] [PAD] [PAD] [PAD] [PAD]\n",
      "y_pred:器用部\n",
      "y_true:器用部\n",
      "----------\n",
      "x_seq:恐 是 叶 公 好 假 龙 ， 及 见 真 龙 却 惊 怕 。 [UNK] [PAD] [PAD] [PAD] [PAD] [PAD] [PAD] [PAD] [PAD] [PAD] [PAD] [PAD] [PAD]\n",
      "y_pred:动物部\n",
      "y_true:人物部\n",
      "----------\n",
      "x_seq:白 眉 年 少 未 弱 冠 ， 落 纸 纷 纷 运 纤 腕 。 [UNK] [PAD] [PAD] [PAD] [PAD] [PAD] [PAD] [PAD] [PAD] [PAD] [PAD] [PAD] [PAD]\n",
      "y_pred:人体部\n",
      "y_true:人体部\n",
      "----------\n",
      "x_seq:雨 垫 林 宗 巾 ， 风 落 孟 嘉 帽 。 [UNK] [PAD] [PAD] [PAD] [PAD] [PAD] [PAD] [PAD] [PAD] [PAD] [PAD] [PAD] [PAD] [PAD] [PAD] [PAD] [PAD]\n",
      "y_pred:器用部\n",
      "y_true:人事部\n",
      "----------\n",
      "x_seq:风 月 寂 寥 思 往 事 ， 暮 春 空 赋 白 头 吟 。 [UNK] [PAD] [PAD] [PAD] [PAD] [PAD] [PAD] [PAD] [PAD] [PAD] [PAD] [PAD] [PAD]\n",
      "y_pred:人事部\n",
      "y_true:人事部\n",
      "----------\n",
      "x_seq:复 羡 二 龙 去 ， 才 华 冠 世 雄 。 [UNK] [PAD] [PAD] [PAD] [PAD] [PAD] [PAD] [PAD] [PAD] [PAD] [PAD] [PAD] [PAD] [PAD] [PAD] [PAD] [PAD]\n",
      "y_pred:人事部\n",
      "y_true:伦类部\n",
      "----------\n",
      "x_seq:王 谢 风 流 看 二 妙 ， 病 夫 直 欲 卧 墙 东 。 [UNK] [PAD] [PAD] [PAD] [PAD] [PAD] [PAD] [PAD] [PAD] [PAD] [PAD] [PAD] [PAD]\n",
      "y_pred:人事部\n",
      "y_true:人事部\n",
      "----------\n",
      "END:**************************************************\n",
      "test_example:**************************************************\n",
      "x_seq:灰 死 如 我 心 ， 雪 白 如 我 发 。 [UNK] [PAD] [PAD] [PAD] [PAD] [PAD] [PAD] [PAD] [PAD] [PAD] [PAD] [PAD] [PAD] [PAD] [PAD] [PAD] [PAD]\n",
      "y_pred:人事部\n",
      "y_true:人事部\n",
      "----------\n",
      "x_seq:汲 黯 薪 逾 积 ， 孙 弘 阁 未 开 。 [UNK] [PAD] [PAD] [PAD] [PAD] [PAD] [PAD] [PAD] [PAD] [PAD] [PAD] [PAD] [PAD] [PAD] [PAD] [PAD] [PAD]\n",
      "y_pred:器用部\n",
      "y_true:器用部\n",
      "----------\n",
      "x_seq:致 君 丹 槛 折 ， 哭 友 白 云 长 。 [UNK] [PAD] [PAD] [PAD] [PAD] [PAD] [PAD] [PAD] [PAD] [PAD] [PAD] [PAD] [PAD] [PAD] [PAD] [PAD] [PAD]\n",
      "y_pred:人事部\n",
      "y_true:政事部\n",
      "----------\n",
      "x_seq:我 闻 西 汉 日 ， 四 老 南 山 幽 。 [UNK] [PAD] [PAD] [PAD] [PAD] [PAD] [PAD] [PAD] [PAD] [PAD] [PAD] [PAD] [PAD] [PAD] [PAD] [PAD] [PAD]\n",
      "y_pred:人事部\n",
      "y_true:人事部\n",
      "----------\n",
      "x_seq:武 子 窗 尘 积 ， 隋 家 苑 树 深 。 [UNK] [PAD] [PAD] [PAD] [PAD] [PAD] [PAD] [PAD] [PAD] [PAD] [PAD] [PAD] [PAD] [PAD] [PAD] [PAD] [PAD]\n",
      "y_pred:器用部\n",
      "y_true:器用部\n",
      "----------\n",
      "x_seq:莫 笑 冯 唐 老 ， 还 来 谒 圣 君 。 [UNK] [PAD] [PAD] [PAD] [PAD] [PAD] [PAD] [PAD] [PAD] [PAD] [PAD] [PAD] [PAD] [PAD] [PAD] [PAD] [PAD]\n",
      "y_pred:人事部\n",
      "y_true:人事部\n",
      "----------\n",
      "x_seq:寒 谷 谩 劳 邹 氏 律 ， 长 天 独 遇 宋 都 风 。 [UNK] [PAD] [PAD] [PAD] [PAD] [PAD] [PAD] [PAD] [PAD] [PAD] [PAD] [PAD] [PAD]\n",
      "y_pred:文明部\n",
      "y_true:文明部\n",
      "----------\n",
      "x_seq:蜜 房 各 自 开 户 [UNK] ， 蚁 穴 或 梦 封 侯 王 。 [UNK] [PAD] [PAD] [PAD] [PAD] [PAD] [PAD] [PAD] [PAD] [PAD] [PAD] [PAD] [PAD]\n",
      "y_pred:人事部\n",
      "y_true:人事部\n",
      "----------\n",
      "x_seq:岂 无 嵇 绍 血 ， 沾 洒 属 车 尘 。 [UNK] [PAD] [PAD] [PAD] [PAD] [PAD] [PAD] [PAD] [PAD] [PAD] [PAD] [PAD] [PAD] [PAD] [PAD] [PAD] [PAD]\n",
      "y_pred:人事部\n",
      "y_true:政事部\n",
      "----------\n",
      "x_seq:安 能 以 此 上 论 列 ， 愿 借 辩 口 如 悬 河 。 [UNK] [PAD] [PAD] [PAD] [PAD] [PAD] [PAD] [PAD] [PAD] [PAD] [PAD] [PAD] [PAD]\n",
      "y_pred:人事部\n",
      "y_true:人体部\n",
      "----------\n",
      "END:**************************************************\n"
     ]
    }
   ],
   "source": [
    "allu_def_seq_len = poem_seq_len\n",
    "trainer = SamplerMultiTaskTrainer(task_list=task_list,\n",
    "                                  batch_size=64,\n",
    "                                  total_epochs=50,\n",
    "                                  poem_seq_len=poem_seq_len,\n",
    "                                  allu_def_seq_len=allu_def_seq_len)\n",
    "\n",
    "final_res = trainer.train()\n"
   ]
  },
  {
   "cell_type": "code",
   "execution_count": 4,
   "metadata": {},
   "outputs": [],
   "source": [
    "from kashgari.utils import compute_mean_metrics\n",
    "from kashgari.utils import plot_final_res"
   ]
  },
  {
   "cell_type": "code",
   "execution_count": 5,
   "metadata": {},
   "outputs": [
    {
     "name": "stdout",
     "output_type": "stream",
     "text": [
      "The history saving thread hit an unexpected error (OperationalError('database is locked')).History will not be written to the database.ALLU_CLASS\t[0.36806361 0.35582475 0.26735222 0.27629607]\n",
      "\n"
     ]
    },
    {
     "data": {
      "image/png": "[encoded data removed]",
      "text/plain": [
       "<Figure size 1440x576 with 10 Axes>"
      ]
     },
     "metadata": {
      "needs_background": "light"
     },
     "output_type": "display_data"
    }
   ],
   "source": [
    "compute_mean_metrics(final_res)\n",
    "plot_final_res(final_res)"
   ]
  }
 ],
 "metadata": {
  "kernelspec": {
   "display_name": "Python [conda env:ner_tf2] *",
   "language": "python",
   "name": "conda-env-ner_tf2-py"
  },
  "language_info": {
   "codemirror_mode": {
    "name": "ipython",
    "version": 3
   },
   "file_extension": ".py",
   "mimetype": "text/x-python",
   "name": "python",
   "nbconvert_exporter": "python",
   "pygments_lexer": "ipython3",
   "version": "3.7.4"
  },
  "toc": {
   "base_numbering": 1,
   "nav_menu": {},
   "number_sections": true,
   "sideBar": true,
   "skip_h1_title": false,
   "title_cell": "Table of Contents",
   "title_sidebar": "Contents",
   "toc_cell": false,
   "toc_position": {},
   "toc_section_display": true,
   "toc_window_display": false
  }
 },
 "nbformat": 4,
 "nbformat_minor": 2
}
