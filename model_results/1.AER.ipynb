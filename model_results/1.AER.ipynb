{
 "cells": [
  {
   "cell_type": "code",
   "execution_count": 1,
   "metadata": {},
   "outputs": [
    {
     "name": "stdout",
     "output_type": "stream",
     "text": [
      "2.0.0\n",
      "Num GPUs Available:  1\n",
      "Device mapping:\n",
      "/job:localhost/replica:0/task:0/device:XLA_CPU:0 -> device: XLA_CPU device\n",
      "/job:localhost/replica:0/task:0/device:XLA_GPU:0 -> device: XLA_GPU device\n",
      "/job:localhost/replica:0/task:0/device:GPU:0 -> device: 0, name: TITAN RTX, pci bus id: 0000:08:00.0, compute capability: 7.5\n",
      "\n"
     ]
    },
    {
     "data": {
      "text/plain": [
       "<tensorflow.python.client.session.Session at 0x7fe87418c3d0>"
      ]
     },
     "execution_count": 1,
     "metadata": {},
     "output_type": "execute_result"
    }
   ],
   "source": [
    "#!/usr/bin/env python\n",
    "# -*- coding: utf-8 -*-\n",
    "# @Time    : 2020/1/13 16:28\n",
    "# @Author  : Shark\n",
    "# @Site    :\n",
    "# @File    : tsts_trainer.py\n",
    "# @Software: PyCharm\n",
    "\n",
    "import os\n",
    "os.environ[\"CUDA_VISIBLE_DEVICES\"] = \"4\"\n",
    "os.environ['TF_CPP_MIN_LOG_LEVEL'] = '2'\n",
    "\n",
    "import tensorflow as tf\n",
    "\n",
    "print(tf.__version__)\n",
    "print(\"Num GPUs Available: \", len(tf.config.experimental.list_physical_devices('GPU')))\n",
    "\n",
    "# On CPU/GPU placement\n",
    "config = tf.compat.v1.ConfigProto(allow_soft_placement=True, log_device_placement=True)\n",
    "config.gpu_options.allow_growth = True\n",
    "tf.compat.v1.Session(config=config)\n"
   ]
  },
  {
   "cell_type": "code",
   "execution_count": 2,
   "metadata": {},
   "outputs": [
    {
     "name": "stdout",
     "output_type": "stream",
     "text": [
      "Device mapping:\n",
      "/job:localhost/replica:0/task:0/device:XLA_CPU:0 -> device: XLA_CPU device\n",
      "/job:localhost/replica:0/task:0/device:XLA_GPU:0 -> device: XLA_GPU device\n",
      "/job:localhost/replica:0/task:0/device:GPU:0 -> device: 0, name: TITAN RTX, pci bus id: 0000:08:00.0, compute capability: 7.5\n",
      "\n"
     ]
    },
    {
     "name": "stderr",
     "output_type": "stream",
     "text": [
      "I:LOAD NER CORPUS:[ner_task.p: 65]:loaded 21596 samples from ./allusion_corpus/train.data. Samples:\n",
      "x[0]: ['纶', '綍', '谋', '猷', '盛', ',', '丹', '青', '步', '武', '亲', '。']\n",
      "y[0]: ['B-ALLU', 'I-ALLU', 'O', 'O', 'O', 'O', 'O', 'O', 'O', 'O', 'O', 'O']\n"
     ]
    }
   ],
   "source": [
    "from kashgari.trainer.sampler_multi_task_trainer import SamplerMultiTaskTrainer\n",
    "from kashgari.task import ReadabilityTask, NerTask, AlluSourceTask,AlluClassTask\n",
    "from kashgari.processors import ClassificationProcessor, LabelingProcessor\n",
    "\n",
    "poem_seq_len = 30\n",
    "task_list = []\n",
    "\n",
    "\n",
    "\n",
    "processor = LabelingProcessor(vocab_path=\"../pretrained_embedding/bert/poem_chinese_L-12_H-768_A-12/\")\n",
    "ner_task = NerTask(processor,\n",
    "                   \"./allusion_corpus\",\n",
    "                   poem_seq_len)\n",
    "task_list.append(ner_task)\n"
   ]
  },
  {
   "cell_type": "code",
   "execution_count": null,
   "metadata": {
    "scrolled": true
   },
   "outputs": [
    {
     "name": "stderr",
     "output_type": "stream",
     "text": [
      "I:BASE TASK:[base_task.:270]:Task NER:\n",
      "I:BASE TASK:[base_task.:271]:\t230 training batches\n",
      "I:BASE TASK:[base_task.:272]:\t41 validation batches\n",
      "I:BASE TASK:[base_task.:273]:\t68 test batches\n",
      "I:BERT EMBEDDING:[bert_embed:105]:seq_len:30\n",
      "I:BERT EMBEDDING:[bert_embed:105]:seq_len:30\n",
      "I:AHMTL MODEL:[AHMTL.py:126]:Multi-Task Learning Model has been instantiated.\n",
      "I:CUR_SPLIT:0:[sampler_mu: 92]:Set up ready. Begining training/validation.\n",
      "I:BASE-MODEL:[base_model:133]:NER's model_dir is ./model_ckpt/2020-02-04-13_18_52/0/NER-Naive_CRF_Model\n",
      "I:BASE-MODEL:[base_model:232]:[NER]:train info:Train on 14684 samples, validate on 2592 samples\n"
     ]
    },
    {
     "name": "stdout",
     "output_type": "stream",
     "text": [
      "Epoch 1/50\n",
      "230/230 [==============================] - 94s 410ms/step - task_name:     NER     - loss: 7.2535 - accuracy: 0.8090 - val_loss: 17.7448 - val_accuracy: 0.4741\n"
     ]
    },
    {
     "name": "stderr",
     "output_type": "stream",
     "text": [
      "I:CUR_SPLIT:0:[sampler_mu:139]:----------------------------------------------------------------------------------------------------\n"
     ]
    },
    {
     "name": "stdout",
     "output_type": "stream",
     "text": [
      "Epoch 2/50\n",
      "230/230 [==============================] - 61s 266ms/step - task_name:     NER     - loss: 5.5957 - accuracy: 0.8291 - val_loss: 15.6214 - val_accuracy: 0.7570\n"
     ]
    },
    {
     "name": "stderr",
     "output_type": "stream",
     "text": [
      "I:CUR_SPLIT:0:[sampler_mu:139]:----------------------------------------------------------------------------------------------------\n"
     ]
    },
    {
     "name": "stdout",
     "output_type": "stream",
     "text": [
      "Epoch 3/50\n",
      "230/230 [==============================] - 61s 267ms/step - task_name:     NER     - loss: 4.7185 - accuracy: 0.8397 - val_loss: 13.9075 - val_accuracy: 0.8148\n"
     ]
    },
    {
     "name": "stderr",
     "output_type": "stream",
     "text": [
      "I:CUR_SPLIT:0:[sampler_mu:139]:----------------------------------------------------------------------------------------------------\n"
     ]
    },
    {
     "name": "stdout",
     "output_type": "stream",
     "text": [
      "Epoch 4/50\n",
      "230/230 [==============================] - 62s 269ms/step - task_name:     NER     - loss: 4.1578 - accuracy: 0.8438 - val_loss: 12.6079 - val_accuracy: 0.8291\n"
     ]
    },
    {
     "name": "stderr",
     "output_type": "stream",
     "text": [
      "I:CUR_SPLIT:0:[sampler_mu:139]:----------------------------------------------------------------------------------------------------\n"
     ]
    },
    {
     "name": "stdout",
     "output_type": "stream",
     "text": [
      "Epoch 5/50\n",
      "230/230 [==============================] - 61s 265ms/step - task_name:     NER     - loss: 3.6692 - accuracy: 0.8477 - val_loss: 11.5726 - val_accuracy: 0.8272\n"
     ]
    },
    {
     "name": "stderr",
     "output_type": "stream",
     "text": [
      "I:CUR_SPLIT:0:[sampler_mu:139]:----------------------------------------------------------------------------------------------------\n"
     ]
    },
    {
     "name": "stdout",
     "output_type": "stream",
     "text": [
      "Epoch 6/50\n",
      "230/230 [==============================] - 61s 265ms/step - task_name:     NER     - loss: 3.3110 - accuracy: 0.8510 - val_loss: 10.7864 - val_accuracy: 0.8302\n"
     ]
    },
    {
     "name": "stderr",
     "output_type": "stream",
     "text": [
      "I:CUR_SPLIT:0:[sampler_mu:139]:----------------------------------------------------------------------------------------------------\n"
     ]
    },
    {
     "name": "stdout",
     "output_type": "stream",
     "text": [
      "Epoch 7/50\n",
      "230/230 [==============================] - 61s 265ms/step - task_name:     NER     - loss: 3.0622 - accuracy: 0.8527 - val_loss: 10.2254 - val_accuracy: 0.8191\n"
     ]
    },
    {
     "name": "stderr",
     "output_type": "stream",
     "text": [
      "I:CUR_SPLIT:0:[sampler_mu:139]:----------------------------------------------------------------------------------------------------\n"
     ]
    },
    {
     "name": "stdout",
     "output_type": "stream",
     "text": [
      "Epoch 8/50\n",
      "230/230 [==============================] - 61s 265ms/step - task_name:     NER     - loss: 2.8300 - accuracy: 0.8562 - val_loss: 9.8283 - val_accuracy: 0.7402\n"
     ]
    },
    {
     "name": "stderr",
     "output_type": "stream",
     "text": [
      "I:CUR_SPLIT:0:[sampler_mu:139]:----------------------------------------------------------------------------------------------------\n"
     ]
    },
    {
     "name": "stdout",
     "output_type": "stream",
     "text": [
      "Epoch 9/50\n",
      "230/230 [==============================] - 61s 265ms/step - task_name:     NER     - loss: 2.6620 - accuracy: 0.8570 - val_loss: 9.5162 - val_accuracy: 0.7296\n"
     ]
    },
    {
     "name": "stderr",
     "output_type": "stream",
     "text": [
      "I:CUR_SPLIT:0:[sampler_mu:139]:----------------------------------------------------------------------------------------------------\n"
     ]
    },
    {
     "name": "stdout",
     "output_type": "stream",
     "text": [
      "Epoch 10/50\n",
      "230/230 [==============================] - 61s 266ms/step - task_name:     NER     - loss: 2.4903 - accuracy: 0.8622 - val_loss: 9.3038 - val_accuracy: 0.7117\n"
     ]
    },
    {
     "name": "stderr",
     "output_type": "stream",
     "text": [
      "I:CUR_SPLIT:0:[sampler_mu:139]:----------------------------------------------------------------------------------------------------\n"
     ]
    },
    {
     "name": "stdout",
     "output_type": "stream",
     "text": [
      "Epoch 11/50\n",
      "230/230 [==============================] - 61s 266ms/step - task_name:     NER     - loss: 2.3545 - accuracy: 0.8635 - val_loss: 9.1309 - val_accuracy: 0.6912\n"
     ]
    },
    {
     "name": "stderr",
     "output_type": "stream",
     "text": [
      "I:CUR_SPLIT:0:[sampler_mu:139]:----------------------------------------------------------------------------------------------------\n"
     ]
    },
    {
     "name": "stdout",
     "output_type": "stream",
     "text": [
      "Epoch 12/50\n",
      "230/230 [==============================] - 61s 266ms/step - task_name:     NER     - loss: 2.2370 - accuracy: 0.8662 - val_loss: 9.1192 - val_accuracy: 0.6694\n"
     ]
    },
    {
     "name": "stderr",
     "output_type": "stream",
     "text": [
      "I:CUR_SPLIT:0:[sampler_mu:139]:----------------------------------------------------------------------------------------------------\n"
     ]
    },
    {
     "name": "stdout",
     "output_type": "stream",
     "text": [
      "Epoch 13/50\n",
      "230/230 [==============================] - 61s 267ms/step - task_name:     NER     - loss: 2.1269 - accuracy: 0.8696 - val_loss: 8.9900 - val_accuracy: 0.6460\n"
     ]
    },
    {
     "name": "stderr",
     "output_type": "stream",
     "text": [
      "I:CUR_SPLIT:0:[sampler_mu:139]:----------------------------------------------------------------------------------------------------\n"
     ]
    },
    {
     "name": "stdout",
     "output_type": "stream",
     "text": [
      "\n",
      "----------------------------------NER LABEL METRICS -----------------------------------\n",
      "\n",
      "epoch:labeling EPOCH accuracy 0.819769 precision: 0.238295, recall: 0.249884, f1: 0.243952\n",
      "\n",
      "           precision    recall  f1-score   support\n",
      "\n",
      "     ALLU     0.2383    0.2499    0.2440      4318\n",
      "\n",
      "micro avg     0.2383    0.2499    0.2440      4318\n",
      "macro avg     0.2383    0.2499    0.2440      4318\n",
      "\n",
      "----------------------------------NER END ----------------------------------\n",
      "train_example:**************************************************\n",
      "x_seq:谁 当 门 下 客 , 独 见 有 任 安 。\n",
      "y_pred:O O O O O O O O O B-ALLU I-ALLU O\n",
      "y_true:O O O O O O O O O B-ALLU I-ALLU O\n",
      "----------\n",
      "x_seq:镜 中 鸾 影 胡 威 去 , 剑 外 花 归 卫 玠 还 。\n",
      "y_pred:O O O O B-ALLU I-ALLU O O O O O O O O O O\n",
      "y_true:O O O O O O O O O O O O B-ALLU I-ALLU O O\n",
      "----------\n",
      "x_seq:颜 子 不 得 禄 , 谁 谓 天 道 平 。\n",
      "y_pred:B-ALLU I-ALLU O O O O O O O O O O\n",
      "y_true:B-ALLU O O O O O O O O O O O\n",
      "----------\n",
      "x_seq:花 萼 楼 南 大 合 乐 , 八 音 九 奏 鸾 来 仪 。\n",
      "y_pred:O O O O O O O O O O O O O O O O\n",
      "y_true:O O O O O O O O O O O O O B-ALLU I-ALLU O\n",
      "----------\n",
      "x_seq:少 年 安 得 长 少 年 , 海 波 尚 变 为 桑 田 。\n",
      "y_pred:O O O O O O O O O O O O O O O O\n",
      "y_true:O O O O O O O O B-ALLU I-ALLU I-ALLU I-ALLU I-ALLU I-ALLU I-ALLU O\n",
      "----------\n",
      "x_seq:占 星 非 聚 德 , 梦 月 [UNK] 悬 名 。\n",
      "y_pred:O O O O O O O O O O O O\n",
      "y_true:O O O O O O B-ALLU I-ALLU O O O O\n",
      "----------\n",
      "x_seq:今 日 竹 林 宴 , 我 家 贤 侍 郎 。\n",
      "y_pred:O O B-ALLU I-ALLU O O O O O O O O\n",
      "y_true:O O B-ALLU I-ALLU O O O O O O O O\n",
      "----------\n",
      "x_seq:点 缀 簿 上 字 , 趋 跄 阁 前 铃 。\n",
      "y_pred:O O O O O O O O O O O O\n",
      "y_true:O O O O O O O O B-ALLU I-ALLU I-ALLU O\n",
      "----------\n",
      "x_seq:清 新 庾 开 府 , 俊 逸 鲍 参 军 。\n",
      "y_pred:O O O O O O O O O O O O\n",
      "y_true:O O O O O O O O B-ALLU I-ALLU I-ALLU O\n",
      "----------\n",
      "x_seq:贝 锦 无 停 织 , 朱 丝 有 断 弦 。\n",
      "y_pred:B-ALLU O O O O O O O O O O O\n",
      "y_true:B-ALLU I-ALLU O O O O O O O O O O\n",
      "----------\n",
      "END:**************************************************\n"
     ]
    },
    {
     "name": "stderr",
     "output_type": "stream",
     "text": [
      "I:SAMPLE_TRAINER:[sampler_mu: 43]:cur_split_idx 0th END\n",
      "I:SAMPLE_TRAINER:[sampler_mu: 44]:****************************************************************************************************\n",
      "I:SAMPLE_TRAINER:[sampler_mu: 45]:****************************************************************************************************\n",
      "I:BASE TASK:[base_task.:270]:Task NER:\n",
      "I:BASE TASK:[base_task.:271]:\t230 training batches\n",
      "I:BASE TASK:[base_task.:272]:\t41 validation batches\n",
      "I:BASE TASK:[base_task.:273]:\t68 test batches\n"
     ]
    },
    {
     "name": "stdout",
     "output_type": "stream",
     "text": [
      "test_example:**************************************************\n",
      "x_seq:尉 佗 虽 北 拜 , 太 史 尚 南 留 。\n",
      "y_pred:B-ALLU I-ALLU O O O O O O O O O O\n",
      "y_true:O O O O O O O B-ALLU I-ALLU I-ALLU O O\n",
      "----------\n",
      "x_seq:桂 折 因 同 时 , 莺 迁 各 异 年 。\n",
      "y_pred:B-ALLU O O O O O O O O O O O\n",
      "y_true:O O O O O O B-ALLU O O O O O\n",
      "----------\n",
      "x_seq:长 跪 读 书 心 暂 缓 , 短 章 投 我 曲 何 高 。\n",
      "y_pred:O O O O O O O O O O O O O O O O\n",
      "y_true:O O O O O O O O O O O O B-ALLU I-ALLU I-ALLU O\n",
      "----------\n",
      "x_seq:远 愧 尚 方 曾 赐 履 , 竟 非 吾 土 倦 登 楼 。\n",
      "y_pred:O O O O O O O O O O O O O O O O\n",
      "y_true:O O O O O B-ALLU I-ALLU O O O O O O O O O\n",
      "----------\n",
      "x_seq:素 服 三 川 化 , 乌 裘 十 上 还 。\n",
      "y_pred:O O B-ALLU O O O B-ALLU I-ALLU O O O O\n",
      "y_true:O O O O O O O O B-ALLU I-ALLU O O\n",
      "----------\n",
      "x_seq:应 须 枉 车 歇 , 为 我 访 荷 裳 。\n",
      "y_pred:O O O O O O O O O B-ALLU I-ALLU O\n",
      "y_true:O O O O O O O O O B-ALLU O O\n",
      "----------\n",
      "x_seq:莫 嫌 滴 沥 红 斑 少 , 恰 似 湘 妃 泪 尽 时 。\n",
      "y_pred:O O O O O O O O O O B-ALLU O O O O O\n",
      "y_true:O O O O O O O O O O B-ALLU I-ALLU I-ALLU O O O\n",
      "----------\n",
      "x_seq:自 是 湘 州 石 燕 飞 , 那 关 齐 地 商 羊 舞 。\n",
      "y_pred:O O O O B-ALLU I-ALLU O O O O O O O I-ALLU O O\n",
      "y_true:O O O O O O O O O O O O B-ALLU I-ALLU I-ALLU O\n",
      "----------\n",
      "x_seq:欲 问 希 夷 事 , 音 尘 隔 上 青 。\n",
      "y_pred:O O B-ALLU I-ALLU O O O O O O O O\n",
      "y_true:O O B-ALLU I-ALLU O O O O O O O O\n",
      "----------\n",
      "x_seq:莫 为 [UNK] 鲈 美 , 天 涯 滞 尔 才 。\n",
      "y_pred:O O B-ALLU I-ALLU O O O O O O O O\n",
      "y_true:O O B-ALLU I-ALLU O O O O O O O O\n",
      "----------\n",
      "END:**************************************************\n"
     ]
    },
    {
     "name": "stderr",
     "output_type": "stream",
     "text": [
      "I:BERT EMBEDDING:[bert_embed:105]:seq_len:30\n",
      "I:BERT EMBEDDING:[bert_embed:105]:seq_len:30\n",
      "I:AHMTL MODEL:[AHMTL.py:126]:Multi-Task Learning Model has been instantiated.\n",
      "I:CUR_SPLIT:1:[sampler_mu: 92]:Set up ready. Begining training/validation.\n",
      "I:BASE-MODEL:[base_model:133]:NER's model_dir is ./model_ckpt/2020-02-04-13_18_52/1/NER-Naive_CRF_Model\n",
      "I:BASE-MODEL:[base_model:232]:[NER]:train info:Train on 14684 samples, validate on 2592 samples\n"
     ]
    },
    {
     "name": "stdout",
     "output_type": "stream",
     "text": [
      "Epoch 1/50\n",
      "230/230 [==============================] - 94s 409ms/step - task_name:     NER     - loss: 5.7377 - accuracy: 0.8112 - val_loss: 11.1720 - val_accuracy: 0.8252\n"
     ]
    },
    {
     "name": "stderr",
     "output_type": "stream",
     "text": [
      "I:CUR_SPLIT:1:[sampler_mu:139]:----------------------------------------------------------------------------------------------------\n"
     ]
    },
    {
     "name": "stdout",
     "output_type": "stream",
     "text": [
      "Epoch 2/50\n",
      "230/230 [==============================] - 61s 266ms/step - task_name:     NER     - loss: 4.4866 - accuracy: 0.8274 - val_loss: 10.0343 - val_accuracy: 0.8344\n"
     ]
    },
    {
     "name": "stderr",
     "output_type": "stream",
     "text": [
      "I:CUR_SPLIT:1:[sampler_mu:139]:----------------------------------------------------------------------------------------------------\n"
     ]
    },
    {
     "name": "stdout",
     "output_type": "stream",
     "text": [
      "Epoch 3/50\n",
      "230/230 [==============================] - 62s 270ms/step - task_name:     NER     - loss: 3.9017 - accuracy: 0.8336 - val_loss: 9.2927 - val_accuracy: 0.8419\n"
     ]
    },
    {
     "name": "stderr",
     "output_type": "stream",
     "text": [
      "I:CUR_SPLIT:1:[sampler_mu:139]:----------------------------------------------------------------------------------------------------\n"
     ]
    },
    {
     "name": "stdout",
     "output_type": "stream",
     "text": [
      "Epoch 4/50\n",
      "230/230 [==============================] - 61s 266ms/step - task_name:     NER     - loss: 3.4966 - accuracy: 0.8383 - val_loss: 8.7805 - val_accuracy: 0.8408\n"
     ]
    },
    {
     "name": "stderr",
     "output_type": "stream",
     "text": [
      "I:CUR_SPLIT:1:[sampler_mu:139]:----------------------------------------------------------------------------------------------------\n"
     ]
    },
    {
     "name": "stdout",
     "output_type": "stream",
     "text": [
      "Epoch 5/50\n",
      "230/230 [==============================] - 61s 267ms/step - task_name:     NER     - loss: 3.2537 - accuracy: 0.8387 - val_loss: 8.4693 - val_accuracy: 0.8361\n"
     ]
    },
    {
     "name": "stderr",
     "output_type": "stream",
     "text": [
      "I:CUR_SPLIT:1:[sampler_mu:139]:----------------------------------------------------------------------------------------------------\n"
     ]
    },
    {
     "name": "stdout",
     "output_type": "stream",
     "text": [
      "Epoch 6/50\n",
      "230/230 [==============================] - 63s 276ms/step - task_name:     NER     - loss: 3.0078 - accuracy: 0.8410 - val_loss: 8.2424 - val_accuracy: 0.8112\n"
     ]
    },
    {
     "name": "stderr",
     "output_type": "stream",
     "text": [
      "I:CUR_SPLIT:1:[sampler_mu:139]:----------------------------------------------------------------------------------------------------\n"
     ]
    },
    {
     "name": "stdout",
     "output_type": "stream",
     "text": [
      "Epoch 7/50\n",
      "230/230 [==============================] - 64s 277ms/step - task_name:     NER     - loss: 2.7973 - accuracy: 0.8438 - val_loss: 8.0786 - val_accuracy: 0.8097\n"
     ]
    },
    {
     "name": "stderr",
     "output_type": "stream",
     "text": [
      "I:CUR_SPLIT:1:[sampler_mu:139]:----------------------------------------------------------------------------------------------------\n"
     ]
    },
    {
     "name": "stdout",
     "output_type": "stream",
     "text": [
      "Epoch 8/50\n",
      "230/230 [==============================] - 64s 279ms/step - task_name:     NER     - loss: 2.6369 - accuracy: 0.8468 - val_loss: 8.0172 - val_accuracy: 0.8091\n"
     ]
    },
    {
     "name": "stderr",
     "output_type": "stream",
     "text": [
      "I:CUR_SPLIT:1:[sampler_mu:139]:----------------------------------------------------------------------------------------------------\n"
     ]
    },
    {
     "name": "stdout",
     "output_type": "stream",
     "text": [
      "Epoch 9/50\n",
      "230/230 [==============================] - 61s 266ms/step - task_name:     NER     - loss: 2.5122 - accuracy: 0.8478 - val_loss: 7.9662 - val_accuracy: 0.8100\n"
     ]
    },
    {
     "name": "stderr",
     "output_type": "stream",
     "text": [
      "I:CUR_SPLIT:1:[sampler_mu:139]:----------------------------------------------------------------------------------------------------\n"
     ]
    },
    {
     "name": "stdout",
     "output_type": "stream",
     "text": [
      "Epoch 10/50\n",
      "230/230 [==============================] - 62s 269ms/step - task_name:     NER     - loss: 2.4691 - accuracy: 0.8471 - val_loss: 7.8530 - val_accuracy: 0.8139\n"
     ]
    },
    {
     "name": "stderr",
     "output_type": "stream",
     "text": [
      "I:CUR_SPLIT:1:[sampler_mu:139]:----------------------------------------------------------------------------------------------------\n"
     ]
    },
    {
     "name": "stdout",
     "output_type": "stream",
     "text": [
      "\n",
      "----------------------------------NER LABEL METRICS -----------------------------------\n",
      "\n",
      "epoch:labeling EPOCH accuracy 0.832277 precision: 0.485284, recall: 0.320750, f1: 0.386224\n",
      "\n",
      "           precision    recall  f1-score   support\n",
      "\n",
      "     ALLU     0.4856    0.3208    0.3863      4318\n",
      "\n",
      "micro avg     0.4853    0.3208    0.3862      4318\n",
      "macro avg     0.4856    0.3208    0.3863      4318\n",
      "\n",
      "----------------------------------NER END ----------------------------------\n",
      "train_example:**************************************************\n",
      "x_seq:楚 臣 伤 江 枫 , 谢 客 拾 海 月 。\n",
      "y_pred:O O O O O O O O O O O O\n",
      "y_true:B-ALLU I-ALLU I-ALLU I-ALLU I-ALLU O O O O O O O\n",
      "----------\n",
      "x_seq:椒 兰 共 妒 忌 , 绛 灌 共 谗 谄 。\n",
      "y_pred:B-ALLU I-ALLU O O O O B-ALLU I-ALLU O O O O\n",
      "y_true:B-ALLU I-ALLU I-ALLU I-ALLU I-ALLU O O O O O O O\n",
      "----------\n",
      "x_seq:金 谷 走 车 来 , 玉 人 骑 马 待 。\n",
      "y_pred:B-ALLU I-ALLU O O O O O O O O O O\n",
      "y_true:B-ALLU I-ALLU O O O O O O O O O O\n",
      "----------\n",
      "x_seq:色 向 怀 铅 白 , 光 因 翰 简 融 。\n",
      "y_pred:O O B-ALLU I-ALLU O O O O O O O O\n",
      "y_true:O O B-ALLU I-ALLU O O O O O O O O\n",
      "----------\n",
      "x_seq:霏 微 傍 青 霭 , 容 与 随 白 鸥 。\n",
      "y_pred:O O O O O O O O O B-ALLU I-ALLU O\n",
      "y_true:O O O O O O O O O B-ALLU I-ALLU O\n",
      "----------\n",
      "x_seq:望 云 思 圣 主 , 披 雾 忆 群 贤 。\n",
      "y_pred:B-ALLU I-ALLU O O O O B-ALLU I-ALLU O O O O\n",
      "y_true:O B-ALLU I-ALLU I-ALLU I-ALLU I-ALLU I-ALLU O O O O O\n",
      "----------\n",
      "x_seq:何 烦 五 色 药 , 尊 下 即 丹 丘 。\n",
      "y_pred:O O O O O O O O O B-ALLU I-ALLU O\n",
      "y_true:O O O O O O O O O B-ALLU I-ALLU O\n",
      "----------\n",
      "x_seq:秋 郊 细 柳 道 , 走 马 一 夕 还 。\n",
      "y_pred:O O B-ALLU I-ALLU O O O O O O O O\n",
      "y_true:O O B-ALLU I-ALLU O O O O O O O O\n",
      "----------\n",
      "x_seq:不 作 河 西 尉 , 凄 凉 为 折 腰 。\n",
      "y_pred:O O O O O O O O O B-ALLU I-ALLU O\n",
      "y_true:O O O O O O O O O B-ALLU I-ALLU O\n",
      "----------\n",
      "x_seq:贾 谊 三 年 谪 , 班 超 万 里 侯 。\n",
      "y_pred:B-ALLU I-ALLU I-ALLU I-ALLU I-ALLU O O O B-ALLU I-ALLU I-ALLU O\n",
      "y_true:B-ALLU I-ALLU O O O O O O O O O O\n",
      "----------\n",
      "END:**************************************************\n"
     ]
    },
    {
     "name": "stderr",
     "output_type": "stream",
     "text": [
      "I:SAMPLE_TRAINER:[sampler_mu: 43]:cur_split_idx 1th END\n",
      "I:SAMPLE_TRAINER:[sampler_mu: 44]:****************************************************************************************************\n",
      "I:SAMPLE_TRAINER:[sampler_mu: 45]:****************************************************************************************************\n",
      "I:BASE TASK:[base_task.:270]:Task NER:\n",
      "I:BASE TASK:[base_task.:271]:\t230 training batches\n",
      "I:BASE TASK:[base_task.:272]:\t41 validation batches\n",
      "I:BASE TASK:[base_task.:273]:\t68 test batches\n"
     ]
    },
    {
     "name": "stdout",
     "output_type": "stream",
     "text": [
      "test_example:**************************************************\n",
      "x_seq:身 犹 纳 履 误 , 情 为 覆 盆 伤 。\n",
      "y_pred:O O O O O O O O B-ALLU I-ALLU O O\n",
      "y_true:O O O O O O O O B-ALLU I-ALLU O O\n",
      "----------\n",
      "x_seq:吴 练 已 知 随 影 没 , 朔 风 犹 想 带 嘶 闻 。\n",
      "y_pred:O O O O O O O O O O O O O O O O\n",
      "y_true:B-ALLU I-ALLU O O O O O O O O O O O O O O\n",
      "----------\n",
      "x_seq:蟠 木 为 我 身 , 始 得 全 天 年 。\n",
      "y_pred:B-ALLU I-ALLU O O O O O O O O O O\n",
      "y_true:B-ALLU I-ALLU O O O O O O O O O O\n",
      "----------\n",
      "x_seq:处 处 汀 洲 有 芳 草 , 王 孙 [UNK] 肯 念 归 期 。\n",
      "y_pred:O O O O O O O O B-ALLU I-ALLU O O O O O O\n",
      "y_true:O O O O O O B-ALLU I-ALLU I-ALLU O O O O O O O\n",
      "----------\n",
      "x_seq:始 见 田 窦 相 移 夺 , 俄 闻 卫 霍 有 功 勋 。\n",
      "y_pred:O O O O O O O O O O B-ALLU I-ALLU O O O O\n",
      "y_true:O O B-ALLU I-ALLU I-ALLU I-ALLU I-ALLU O O O O O O O O O\n",
      "----------\n",
      "x_seq:空 夜 露 残 惊 堕 羽 , 辽 天 秋 晚 忆 归 程 。\n",
      "y_pred:O O O O O O O O O O O O O O O O\n",
      "y_true:O O O O O O O O B-ALLU O O O O O O O\n",
      "----------\n",
      "x_seq:潘 岳 叙 年 因 鬓 发 , 扬 雄 托 谏 在 文 章 。\n",
      "y_pred:O O O O O O O O O O O O O O O O\n",
      "y_true:O O O O O O O O B-ALLU I-ALLU O O O O O O\n",
      "----------\n",
      "x_seq:绛 帐 恩 如 昨 , 乌 衣 事 莫 寻 。\n",
      "y_pred:O O O O O O B-ALLU I-ALLU O O O O\n",
      "y_true:O O O O O O B-ALLU I-ALLU O O O O\n",
      "----------\n",
      "x_seq:朝 争 屈 原 草 , 庙 馁 若 敖 魂 。\n",
      "y_pred:O O O O O O O O O O O O\n",
      "y_true:O O O O O O O O B-ALLU I-ALLU I-ALLU O\n",
      "----------\n",
      "x_seq:取 [UNK] 弧 登 垒 , 以 骈 邻 翼 军 。\n",
      "y_pred:O O O O O O O O O O O O\n",
      "y_true:O B-ALLU I-ALLU O O O O O O O O O\n",
      "----------\n",
      "END:**************************************************\n"
     ]
    },
    {
     "name": "stderr",
     "output_type": "stream",
     "text": [
      "I:BERT EMBEDDING:[bert_embed:105]:seq_len:30\n",
      "I:BERT EMBEDDING:[bert_embed:105]:seq_len:30\n",
      "I:AHMTL MODEL:[AHMTL.py:126]:Multi-Task Learning Model has been instantiated.\n",
      "I:CUR_SPLIT:2:[sampler_mu: 92]:Set up ready. Begining training/validation.\n",
      "I:BASE-MODEL:[base_model:133]:NER's model_dir is ./model_ckpt/2020-02-04-13_18_52/2/NER-Naive_CRF_Model\n",
      "I:BASE-MODEL:[base_model:232]:[NER]:train info:Train on 14684 samples, validate on 2592 samples\n"
     ]
    },
    {
     "name": "stdout",
     "output_type": "stream",
     "text": [
      "Epoch 1/50\n",
      "230/230 [==============================] - 93s 405ms/step - task_name:     NER     - loss: 6.3835 - accuracy: 0.8083 - val_loss: 15.9314 - val_accuracy: 0.7935\n"
     ]
    },
    {
     "name": "stderr",
     "output_type": "stream",
     "text": [
      "I:CUR_SPLIT:2:[sampler_mu:139]:----------------------------------------------------------------------------------------------------\n"
     ]
    },
    {
     "name": "stdout",
     "output_type": "stream",
     "text": [
      "Epoch 2/50\n",
      "230/230 [==============================] - 63s 273ms/step - task_name:     NER     - loss: 4.7565 - accuracy: 0.8300 - val_loss: 14.2436 - val_accuracy: 0.8076\n"
     ]
    },
    {
     "name": "stderr",
     "output_type": "stream",
     "text": [
      "I:CUR_SPLIT:2:[sampler_mu:139]:----------------------------------------------------------------------------------------------------\n"
     ]
    },
    {
     "name": "stdout",
     "output_type": "stream",
     "text": [
      "Epoch 3/50\n",
      "230/230 [==============================] - 62s 271ms/step - task_name:     NER     - loss: 4.0652 - accuracy: 0.8371 - val_loss: 12.9905 - val_accuracy: 0.8245\n"
     ]
    },
    {
     "name": "stderr",
     "output_type": "stream",
     "text": [
      "I:CUR_SPLIT:2:[sampler_mu:139]:----------------------------------------------------------------------------------------------------\n"
     ]
    },
    {
     "name": "stdout",
     "output_type": "stream",
     "text": [
      "Epoch 4/50\n",
      "230/230 [==============================] - 62s 269ms/step - task_name:     NER     - loss: 3.6204 - accuracy: 0.8411 - val_loss: 11.9910 - val_accuracy: 0.8334\n"
     ]
    },
    {
     "name": "stderr",
     "output_type": "stream",
     "text": [
      "I:CUR_SPLIT:2:[sampler_mu:139]:----------------------------------------------------------------------------------------------------\n"
     ]
    },
    {
     "name": "stdout",
     "output_type": "stream",
     "text": [
      "Epoch 5/50\n",
      "230/230 [==============================] - 61s 267ms/step - task_name:     NER     - loss: 3.2807 - accuracy: 0.8436 - val_loss: 11.2672 - val_accuracy: 0.8299\n"
     ]
    },
    {
     "name": "stderr",
     "output_type": "stream",
     "text": [
      "I:CUR_SPLIT:2:[sampler_mu:139]:----------------------------------------------------------------------------------------------------\n"
     ]
    },
    {
     "name": "stdout",
     "output_type": "stream",
     "text": [
      "Epoch 6/50\n",
      "230/230 [==============================] - 63s 275ms/step - task_name:     NER     - loss: 3.0199 - accuracy: 0.8459 - val_loss: 10.7067 - val_accuracy: 0.8279\n"
     ]
    },
    {
     "name": "stderr",
     "output_type": "stream",
     "text": [
      "I:CUR_SPLIT:2:[sampler_mu:139]:----------------------------------------------------------------------------------------------------\n"
     ]
    },
    {
     "name": "stdout",
     "output_type": "stream",
     "text": [
      "Epoch 7/50\n",
      "230/230 [==============================] - 67s 291ms/step - task_name:     NER     - loss: 2.8181 - accuracy: 0.8466 - val_loss: 10.2580 - val_accuracy: 0.8295\n"
     ]
    },
    {
     "name": "stderr",
     "output_type": "stream",
     "text": [
      "I:CUR_SPLIT:2:[sampler_mu:139]:----------------------------------------------------------------------------------------------------\n"
     ]
    },
    {
     "name": "stdout",
     "output_type": "stream",
     "text": [
      "Epoch 8/50\n",
      "230/230 [==============================] - 72s 311ms/step - task_name:     NER     - loss: 2.6384 - accuracy: 0.8500 - val_loss: 9.8974 - val_accuracy: 0.8270\n"
     ]
    },
    {
     "name": "stderr",
     "output_type": "stream",
     "text": [
      "I:CUR_SPLIT:2:[sampler_mu:139]:----------------------------------------------------------------------------------------------------\n"
     ]
    },
    {
     "name": "stdout",
     "output_type": "stream",
     "text": [
      "Epoch 9/50\n",
      " 46/230 [=====>........................] - ETA: 52s - task_name:     NER     - loss: 2.8062 - accuracy: 0.8552"
     ]
    }
   ],
   "source": [
    "allu_def_seq_len = poem_seq_len\n",
    "trainer = SamplerMultiTaskTrainer(task_list=task_list,\n",
    "                                  batch_size=64,\n",
    "                                  total_epochs=50,\n",
    "                                  poem_seq_len=poem_seq_len,\n",
    "                                  allu_def_seq_len=allu_def_seq_len)\n",
    "\n",
    "final_res = trainer.train()\n"
   ]
  },
  {
   "cell_type": "code",
   "execution_count": null,
   "metadata": {},
   "outputs": [],
   "source": [
    "from kashgari.utils import compute_mean_metrics\n",
    "from kashgari.utils import plot_final_res"
   ]
  },
  {
   "cell_type": "code",
   "execution_count": null,
   "metadata": {},
   "outputs": [],
   "source": [
    "compute_mean_metrics(final_res)\n",
    "plot_final_res(final_res)"
   ]
  },
  {
   "cell_type": "code",
   "execution_count": 6,
   "metadata": {},
   "outputs": [
    {
     "name": "stdout",
     "output_type": "stream",
     "text": [
      "NER\t[0.82531813 0.35374482 0.25786169 0.29477445]\n"
     ]
    },
    {
     "data": {
      "image/png": "[encoded data removed]",
      "text/plain": [
       "<Figure size 1440x576 with 10 Axes>"
      ]
     },
     "metadata": {
      "needs_background": "light"
     },
     "output_type": "display_data"
    }
   ],
   "source": [
    "compute_mean_metrics(final_res)\n",
    "plot_final_res(final_res)"
   ]
  },
  {
   "cell_type": "code",
   "execution_count": null,
   "metadata": {},
   "outputs": [],
   "source": []
  }
 ],
 "metadata": {
  "kernelspec": {
   "display_name": "Python [conda env:ner_tf2] *",
   "language": "python",
   "name": "conda-env-ner_tf2-py"
  },
  "language_info": {
   "codemirror_mode": {
    "name": "ipython",
    "version": 3
   },
   "file_extension": ".py",
   "mimetype": "text/x-python",
   "name": "python",
   "nbconvert_exporter": "python",
   "pygments_lexer": "ipython3",
   "version": "3.7.4"
  },
  "toc": {
   "base_numbering": 1,
   "nav_menu": {},
   "number_sections": true,
   "sideBar": true,
   "skip_h1_title": false,
   "title_cell": "Table of Contents",
   "title_sidebar": "Contents",
   "toc_cell": false,
   "toc_position": {},
   "toc_section_display": true,
   "toc_window_display": false
  }
 },
 "nbformat": 4,
 "nbformat_minor": 2
}
