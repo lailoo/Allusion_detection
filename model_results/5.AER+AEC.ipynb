{
 "cells": [
  {
   "cell_type": "code",
   "execution_count": 1,
   "metadata": {},
   "outputs": [
    {
     "name": "stdout",
     "output_type": "stream",
     "text": [
      "2.0.0\n",
      "Num GPUs Available:  1\n",
      "Device mapping:\n",
      "/job:localhost/replica:0/task:0/device:XLA_CPU:0 -> device: XLA_CPU device\n",
      "/job:localhost/replica:0/task:0/device:XLA_GPU:0 -> device: XLA_GPU device\n",
      "/job:localhost/replica:0/task:0/device:GPU:0 -> device: 0, name: TITAN RTX, pci bus id: 0000:04:00.0, compute capability: 7.5\n",
      "\n"
     ]
    },
    {
     "data": {
      "text/plain": [
       "<tensorflow.python.client.session.Session at 0x7fcbe9f75390>"
      ]
     },
     "execution_count": 1,
     "metadata": {},
     "output_type": "execute_result"
    }
   ],
   "source": [
    "#!/usr/bin/env python\n",
    "# -*- coding: utf-8 -*-\n",
    "# @Time    : 2020/1/13 16:28\n",
    "# @Author  : Shark\n",
    "# @Site    :\n",
    "# @File    : tsts_trainer.py\n",
    "# @Software: PyCharm\n",
    "\n",
    "import os\n",
    "os.environ[\"CUDA_VISIBLE_DEVICES\"] = \"0\"\n",
    "os.environ['TF_CPP_MIN_LOG_LEVEL'] = '2'\n",
    "\n",
    "import tensorflow as tf\n",
    "\n",
    "print(tf.__version__)\n",
    "print(\"Num GPUs Available: \", len(tf.config.experimental.list_physical_devices('GPU')))\n",
    "\n",
    "# On CPU/GPU placement\n",
    "config = tf.compat.v1.ConfigProto(allow_soft_placement=True, log_device_placement=True)\n",
    "config.gpu_options.allow_growth = True\n",
    "tf.compat.v1.Session(config=config)\n"
   ]
  },
  {
   "cell_type": "code",
   "execution_count": 2,
   "metadata": {},
   "outputs": [
    {
     "name": "stdout",
     "output_type": "stream",
     "text": [
      "Device mapping:\n",
      "/job:localhost/replica:0/task:0/device:XLA_CPU:0 -> device: XLA_CPU device\n",
      "/job:localhost/replica:0/task:0/device:XLA_GPU:0 -> device: XLA_GPU device\n",
      "/job:localhost/replica:0/task:0/device:GPU:0 -> device: 0, name: TITAN RTX, pci bus id: 0000:04:00.0, compute capability: 7.5\n",
      "\n"
     ]
    },
    {
     "name": "stderr",
     "output_type": "stream",
     "text": [
      "I:LOAD NER CORPUS:[ner_task.p: 65]:loaded 21596 samples from ./allusion_corpus/train.data. Samples:\n",
      "x[0]: ['纶', '綍', '谋', '猷', '盛', ',', '丹', '青', '步', '武', '亲', '。']\n",
      "y[0]: ['B-ALLU', 'I-ALLU', 'O', 'O', 'O', 'O', 'O', 'O', 'O', 'O', 'O', 'O']\n"
     ]
    }
   ],
   "source": [
    "from kashgari.trainer.sampler_multi_task_trainer import SamplerMultiTaskTrainer\n",
    "from kashgari.task import ReadabilityTask, NerTask, AlluSourceTask,AlluClassTask\n",
    "from kashgari.processors import ClassificationProcessor, LabelingProcessor\n",
    "\n",
    "poem_seq_len = 30\n",
    "task_list = []\n",
    "\n",
    "\n",
    "\n",
    "processor = ClassificationProcessor(vocab_path=\"../pretrained_embedding/bert/poem_chinese_L-12_H-768_A-12/\")\n",
    "allu_class_task = AlluClassTask(processor,\n",
    "                                \"./allusion_corpus\",\n",
    "                                poem_seq_len)\n",
    "task_list.append(allu_class_task)\n",
    "\n",
    "processor = LabelingProcessor(vocab_path=\"../pretrained_embedding/bert/poem_chinese_L-12_H-768_A-12/\")\n",
    "ner_task = NerTask(processor,\n",
    "                   \"./allusion_corpus\",\n",
    "                   poem_seq_len)\n",
    "task_list.append(ner_task)\n",
    "\n",
    "\n"
   ]
  },
  {
   "cell_type": "code",
   "execution_count": 3,
   "metadata": {
    "scrolled": true
   },
   "outputs": [
    {
     "name": "stderr",
     "output_type": "stream",
     "text": [
      "I:BASE TASK:[base_task.:270]:Task ALLU_CLASS:\n",
      "I:BASE TASK:[base_task.:271]:\t29 training batches\n",
      "I:BASE TASK:[base_task.:272]:\t6 validation batches\n",
      "I:BASE TASK:[base_task.:273]:\t9 test batches\n",
      "I:BASE TASK:[base_task.:270]:Task NER:\n",
      "I:BASE TASK:[base_task.:271]:\t230 training batches\n",
      "I:BASE TASK:[base_task.:272]:\t41 validation batches\n",
      "I:BASE TASK:[base_task.:273]:\t68 test batches\n",
      "I:BERT EMBEDDING:[bert_embed:105]:seq_len:30\n",
      "I:BERT EMBEDDING:[bert_embed:105]:seq_len:30\n",
      "I:AHMTL MODEL:[AHMTL.py:126]:Multi-Task Learning Model has been instantiated.\n",
      "I:CUR_SPLIT:0:[sampler_mu: 92]:Set up ready. Begining training/validation.\n",
      "I:BASE-MODEL:[base_model:133]:NER's model_dir is ./model_ckpt/2020-02-06-10_16_41/0/NER-Naive_CRF_Model\n",
      "I:BASE-MODEL:[base_model:232]:[NER]:train info:Train on 14684 samples, validate on 2592 samples\n",
      "I:BASE-MODEL:[base_model:133]:ALLU_CLASS's model_dir is ./model_ckpt/2020-02-06-10_16_41/0/ALLU_CLASS-NaiveDenseModel\n",
      "I:BASE-MODEL:[base_model:232]:[ALLU_CLASS]:train info:Train on 1813 samples, validate on 321 samples\n"
     ]
    },
    {
     "name": "stdout",
     "output_type": "stream",
     "text": [
      "Epoch 1/50\n",
      "259/259 [==============================] - 131s 505ms/step - task_name:     NER     - loss: 5.4737 - accuracy: 0.8082 - val_loss: 11.3154 - val_accuracy: 0.8243\n",
      "259/259 [==============================] - 131s 505ms/step - task_name: ALLU_CLASS  - loss: 2.1102 - accuracy: 0.2452 - val_loss: 2.5237 - val_accuracy: 0.2969 \n"
     ]
    },
    {
     "name": "stderr",
     "output_type": "stream",
     "text": [
      "I:CUR_SPLIT:0:[sampler_mu:139]:----------------------------------------------------------------------------------------------------\n"
     ]
    },
    {
     "name": "stdout",
     "output_type": "stream",
     "text": [
      "Epoch 2/50\n",
      "259/259 [==============================] - 66s 255ms/step - task_name:     NER     - loss: 4.2647 - accuracy: 0.8213 - val_loss: 10.3150 - val_accuracy: 0.8314\n",
      "259/259 [==============================] - 66s 255ms/step - task_name: ALLU_CLASS  - loss: 2.0935 - accuracy: 0.3649 - val_loss: 2.2290 - val_accuracy: 0.3880 \n"
     ]
    },
    {
     "name": "stderr",
     "output_type": "stream",
     "text": [
      "I:CUR_SPLIT:0:[sampler_mu:139]:----------------------------------------------------------------------------------------------------\n"
     ]
    },
    {
     "name": "stdout",
     "output_type": "stream",
     "text": [
      "Epoch 3/50\n",
      "259/259 [==============================] - 66s 253ms/step - task_name:     NER     - loss: 3.6211 - accuracy: 0.8257 - val_loss: 9.4926 - val_accuracy: 0.8298\n",
      "259/259 [==============================] - 66s 253ms/step - task_name: ALLU_CLASS  - loss: 1.9724 - accuracy: 0.4476 - val_loss: 2.0892 - val_accuracy: 0.4089\n"
     ]
    },
    {
     "name": "stderr",
     "output_type": "stream",
     "text": [
      "I:CUR_SPLIT:0:[sampler_mu:139]:----------------------------------------------------------------------------------------------------\n"
     ]
    },
    {
     "name": "stdout",
     "output_type": "stream",
     "text": [
      "Epoch 4/50\n",
      "259/259 [==============================] - 66s 254ms/step - task_name:     NER     - loss: 3.3346 - accuracy: 0.8276 - val_loss: 9.0741 - val_accuracy: 0.8246\n",
      "259/259 [==============================] - 66s 254ms/step - task_name: ALLU_CLASS  - loss: 1.5522 - accuracy: 0.5297 - val_loss: 2.0799 - val_accuracy: 0.4323\n"
     ]
    },
    {
     "name": "stderr",
     "output_type": "stream",
     "text": [
      "I:CUR_SPLIT:0:[sampler_mu:139]:----------------------------------------------------------------------------------------------------\n"
     ]
    },
    {
     "name": "stdout",
     "output_type": "stream",
     "text": [
      "Epoch 5/50\n",
      "259/259 [==============================] - 69s 266ms/step - task_name:     NER     - loss: 3.0534 - accuracy: 0.8299 - val_loss: 8.8606 - val_accuracy: 0.8236\n",
      "259/259 [==============================] - 69s 266ms/step - task_name: ALLU_CLASS  - loss: 1.4729 - accuracy: 0.5724 - val_loss: 2.0834 - val_accuracy: 0.4349\n"
     ]
    },
    {
     "name": "stderr",
     "output_type": "stream",
     "text": [
      "I:CUR_SPLIT:0:[sampler_mu:139]:----------------------------------------------------------------------------------------------------\n"
     ]
    },
    {
     "name": "stdout",
     "output_type": "stream",
     "text": [
      "Epoch 6/50\n",
      "259/259 [==============================] - 66s 255ms/step - task_name:     NER     - loss: 2.8878 - accuracy: 0.8324 - val_loss: 8.6305 - val_accuracy: 0.8240\n",
      "259/259 [==============================] - 66s 255ms/step - task_name: ALLU_CLASS  - loss: 1.1452 - accuracy: 0.6315 - val_loss: 2.1470 - val_accuracy: 0.4271\n"
     ]
    },
    {
     "name": "stderr",
     "output_type": "stream",
     "text": [
      "I:CUR_SPLIT:0:[sampler_mu:139]:----------------------------------------------------------------------------------------------------\n"
     ]
    },
    {
     "name": "stdout",
     "output_type": "stream",
     "text": [
      "Epoch 7/50\n",
      "259/259 [==============================] - 69s 265ms/step - task_name:     NER     - loss: 2.7645 - accuracy: 0.8334 - val_loss: 8.3390 - val_accuracy: 0.8167\n",
      "259/259 [==============================] - 69s 265ms/step - task_name: ALLU_CLASS  - loss: 1.0493 - accuracy: 0.6433 - val_loss: 2.2249 - val_accuracy: 0.4219\n"
     ]
    },
    {
     "name": "stderr",
     "output_type": "stream",
     "text": [
      "I:CUR_SPLIT:0:[sampler_mu:139]:----------------------------------------------------------------------------------------------------\n"
     ]
    },
    {
     "name": "stdout",
     "output_type": "stream",
     "text": [
      "Epoch 8/50\n",
      "259/259 [==============================] - 68s 261ms/step - task_name:     NER     - loss: 2.5345 - accuracy: 0.8368 - val_loss: 8.1356 - val_accuracy: 0.8096\n",
      "259/259 [==============================] - 68s 261ms/step - task_name: ALLU_CLASS  - loss: 0.9912 - accuracy: 0.7216 - val_loss: 2.2888 - val_accuracy: 0.4323\n"
     ]
    },
    {
     "name": "stderr",
     "output_type": "stream",
     "text": [
      "I:CUR_SPLIT:0:[sampler_mu:139]:----------------------------------------------------------------------------------------------------\n"
     ]
    },
    {
     "name": "stdout",
     "output_type": "stream",
     "text": [
      "Epoch 9/50\n",
      "259/259 [==============================] - 68s 264ms/step - task_name:     NER     - loss: 2.3942 - accuracy: 0.8400 - val_loss: 8.0415 - val_accuracy: 0.7412\n",
      "259/259 [==============================] - 68s 264ms/step - task_name: ALLU_CLASS  - loss: 0.8442 - accuracy: 0.7746 - val_loss: 2.4024 - val_accuracy: 0.4323\n"
     ]
    },
    {
     "name": "stderr",
     "output_type": "stream",
     "text": [
      "I:CUR_SPLIT:0:[sampler_mu:139]:----------------------------------------------------------------------------------------------------\n"
     ]
    },
    {
     "name": "stdout",
     "output_type": "stream",
     "text": [
      "Epoch 10/50\n",
      "259/259 [==============================] - 6s 22ms/step - task_name: ALLU_CLASS  - loss: 0.8250 - accuracy: 0.7008 - val_loss: 2.3871 - val_accuracy: 0.4062\n"
     ]
    },
    {
     "name": "stderr",
     "output_type": "stream",
     "text": [
      "I:CUR_SPLIT:0:[sampler_mu:139]:----------------------------------------------------------------------------------------------------\n"
     ]
    },
    {
     "name": "stdout",
     "output_type": "stream",
     "text": [
      "Epoch 11/50\n",
      "259/259 [==============================] - 6s 25ms/step - task_name: ALLU_CLASS  - loss: 0.7682 - accuracy: 0.7702 - val_loss: 2.4471 - val_accuracy: 0.4010\n"
     ]
    },
    {
     "name": "stderr",
     "output_type": "stream",
     "text": [
      "I:CUR_SPLIT:0:[sampler_mu:139]:----------------------------------------------------------------------------------------------------\n"
     ]
    },
    {
     "name": "stdout",
     "output_type": "stream",
     "text": [
      "Epoch 12/50\n",
      "259/259 [==============================] - 6s 23ms/step - task_name: ALLU_CLASS  - loss: 0.5608 - accuracy: 0.8320 - val_loss: 2.5785 - val_accuracy: 0.3932\n"
     ]
    },
    {
     "name": "stderr",
     "output_type": "stream",
     "text": [
      "I:CUR_SPLIT:0:[sampler_mu:139]:----------------------------------------------------------------------------------------------------\n"
     ]
    },
    {
     "name": "stdout",
     "output_type": "stream",
     "text": [
      "\n",
      "----------------------------------NER LABEL METRICS -----------------------------------\n",
      "\n",
      "epoch:labeling EPOCH accuracy 0.825625 precision: 0.473143, recall: 0.330554, f1: 0.389200\n",
      "\n",
      "           precision    recall  f1-score   support\n",
      "\n",
      "     ALLU     0.4731    0.3306    0.3892      4317\n",
      "\n",
      "micro avg     0.4731    0.3306    0.3892      4317\n",
      "macro avg     0.4731    0.3306    0.3892      4317\n",
      "\n",
      "----------------------------------NER END ----------------------------------\n",
      "train_example:**************************************************\n",
      "x_seq:客 道 耻 摇 尾 , 皇 恩 宽 犯 鳞 。\n",
      "y_pred:O O O O O O O O O B-ALLU I-ALLU O\n",
      "y_true:O O O B-ALLU I-ALLU O O O O O O O\n",
      "----------\n",
      "x_seq:闻 道 飞 [UNK] 向 洛 阳 , 翩 翩 矫 [UNK] 度 文 昌 。\n",
      "y_pred:O O O O O O O O O O O O O O O O\n",
      "y_true:O O O B-ALLU O O O O O O O O O O O O\n",
      "----------\n",
      "x_seq:王 湛 床 头 见 周 易 , 长 康 传 里 好 丹 青 。\n",
      "y_pred:B-ALLU I-ALLU I-ALLU I-ALLU I-ALLU I-ALLU I-ALLU O O O O O O O O O\n",
      "y_true:O O B-ALLU I-ALLU I-ALLU I-ALLU I-ALLU O O O O O O O O O\n",
      "----------\n",
      "x_seq:他 时 干 蛊 声 名 著 , 今 日 悬 弧 宴 乐 酣 。\n",
      "y_pred:O O O O O O O O O O B-ALLU I-ALLU O O O O\n",
      "y_true:O O B-ALLU I-ALLU O O O O O O O O O O O O\n",
      "----------\n",
      "x_seq:烟 鸿 秋 更 远 , 天 马 寒 愈 健 。\n",
      "y_pred:O O O O O O B-ALLU I-ALLU O O O O\n",
      "y_true:O O O O O O B-ALLU I-ALLU O O O O\n",
      "----------\n",
      "x_seq:物 外 须 仙 侣 , 人 间 要 使 君 。\n",
      "y_pred:O O O O O O O O O O O O\n",
      "y_true:O O O B-ALLU O O O O O O O O\n",
      "----------\n",
      "x_seq:绿 珠 犹 得 石 崇 怜 , 飞 燕 曾 经 汉 皇 宠 。\n",
      "y_pred:B-ALLU I-ALLU O O O O O O O O O O O O O O\n",
      "y_true:O O O O O O O O B-ALLU I-ALLU O O O O O O\n",
      "----------\n",
      "x_seq:杨 叶 纵 能 穿 旧 的 , 桂 枝 何 须 受 新 香 。\n",
      "y_pred:O O O O O O O O O O O O O O O O\n",
      "y_true:B-ALLU I-ALLU I-ALLU I-ALLU I-ALLU O O O O O O O O O O O\n",
      "----------\n",
      "x_seq:合 浦 无 明 珠 , 龙 洲 无 木 奴 。\n",
      "y_pred:O O O O O O O O O B-ALLU I-ALLU O\n",
      "y_true:B-ALLU I-ALLU I-ALLU I-ALLU I-ALLU O O O O O O O\n",
      "----------\n",
      "x_seq:湘 水 夜 空 巫 峡 远 , 不 知 归 路 欲 如 何 。\n",
      "y_pred:O O O O O O O O O O O O O O O O\n",
      "y_true:O O O O B-ALLU O O O O O O O O O O O\n",
      "----------\n",
      "END:**************************************************\n",
      "test_example:**************************************************\n",
      "x_seq:简 成 良 史 笔 , 年 是 洛 阳 才 。\n",
      "y_pred:O O O O O O O O B-ALLU I-ALLU O O\n",
      "y_true:O O B-ALLU I-ALLU O O O O O O O O\n",
      "----------\n",
      "x_seq:山 阴 道 士 如 相 见 , 应 写 黄 庭 换 白 鹅 。\n",
      "y_pred:O O O O O O O O O O B-ALLU I-ALLU I-ALLU I-ALLU I-ALLU O\n",
      "y_true:O O O O O O O O O O O O B-ALLU I-ALLU I-ALLU O\n",
      "----------\n",
      "x_seq:前 军 苏 武 节 , 左 将 吕 虔 刀 。\n",
      "y_pred:O O O O O O O O B-ALLU I-ALLU I-ALLU O\n",
      "y_true:O O B-ALLU I-ALLU I-ALLU O O O O O O O\n",
      "----------\n",
      "x_seq:从 来 此 地 黄 昏 散 , 未 信 河 梁 是 别 离 。\n",
      "y_pred:O O O O O O O O O O B-ALLU I-ALLU O O O O\n",
      "y_true:O O O O O O O O O O B-ALLU I-ALLU O O O O\n",
      "----------\n",
      "x_seq:皆 为 百 里 宰 , 正 似 六 安 丞 。\n",
      "y_pred:O O O O O O O O O O O O\n",
      "y_true:O O O O O O O O B-ALLU I-ALLU I-ALLU O\n",
      "----------\n",
      "x_seq:炙 背 可 以 献 天 子 , 美 芹 由 来 知 野 人 。\n",
      "y_pred:O O O O O O O O O O O O O O O O\n",
      "y_true:O O O O B-ALLU I-ALLU I-ALLU I-ALLU I-ALLU I-ALLU O O O O O O\n",
      "----------\n",
      "x_seq:先 垄 每 怀 风 木 夜 , 画 堂 无 复 彩 衣 时 。\n",
      "y_pred:O O O O O O O O O O O O B-ALLU I-ALLU O O\n",
      "y_true:O O O O B-ALLU I-ALLU O O O O O O O O O O\n",
      "----------\n",
      "x_seq:常 日 每 齐 眉 , 今 朝 共 解 颐 。\n",
      "y_pred:O O O B-ALLU I-ALLU O O O O B-ALLU I-ALLU O\n",
      "y_true:O O O O O O O O O B-ALLU I-ALLU O\n",
      "----------\n",
      "x_seq:淮 源 之 水 清 , 可 以 濯 君 缨 。\n",
      "y_pred:B-ALLU I-ALLU O O O O O O B-ALLU I-ALLU I-ALLU O\n",
      "y_true:O O O O O O O O B-ALLU I-ALLU I-ALLU O\n",
      "----------\n",
      "x_seq:开 目 为 晨 光 , 闭 目 为 夜 色 。\n",
      "y_pred:O O O O O O O O O O O O\n",
      "y_true:B-ALLU I-ALLU I-ALLU I-ALLU O O O O O O O O\n",
      "----------\n",
      "END:**************************************************\n"
     ]
    },
    {
     "name": "stderr",
     "output_type": "stream",
     "text": [
      "/home/liulei/anaconda3/envs/ner_tf2/lib/python3.7/site-packages/sklearn/metrics/classification.py:1437: UndefinedMetricWarning: Precision is ill-defined and being set to 0.0 in labels with no predicted samples.\n",
      "  'precision', 'predicted', average, warn_for)\n",
      "/home/liulei/anaconda3/envs/ner_tf2/lib/python3.7/site-packages/sklearn/metrics/classification.py:1437: UndefinedMetricWarning: F-score is ill-defined and being set to 0.0 in labels with no predicted samples.\n",
      "  'precision', 'predicted', average, warn_for)\n",
      "/home/liulei/anaconda3/envs/ner_tf2/lib/python3.7/site-packages/sklearn/metrics/classification.py:1437: UndefinedMetricWarning: Precision and F-score are ill-defined and being set to 0.0 in labels with no predicted samples.\n",
      "  'precision', 'predicted', average, warn_for)\n"
     ]
    },
    {
     "name": "stdout",
     "output_type": "stream",
     "text": [
      "\n",
      "----------------------------------ALLU_CLASS CLASS METRICS -----------------------------------\n",
      "\n",
      "              precision    recall  f1-score   support\n",
      "    accuracy                         0.2940       534\n",
      "   macro avg     0.2055    0.1293    0.1103       534\n",
      "weighted avg     0.2600    0.2940    0.2183       534\n",
      "\n",
      "\n",
      "epoch:classification EPOCH accuracy: 0.2940074906367041 precision: 0.205518, recall: 0.129278, f1: 0.110260\n",
      "\n",
      "-----------------------------ALLU_CLASS END ----------------------------\n"
     ]
    },
    {
     "name": "stderr",
     "output_type": "stream",
     "text": [
      "I:SAMPLE_TRAINER:[sampler_mu: 43]:cur_split_idx 0th END\n",
      "I:SAMPLE_TRAINER:[sampler_mu: 44]:****************************************************************************************************\n",
      "I:SAMPLE_TRAINER:[sampler_mu: 45]:****************************************************************************************************\n",
      "I:BASE TASK:[base_task.:270]:Task ALLU_CLASS:\n",
      "I:BASE TASK:[base_task.:271]:\t29 training batches\n",
      "I:BASE TASK:[base_task.:272]:\t6 validation batches\n",
      "I:BASE TASK:[base_task.:273]:\t9 test batches\n"
     ]
    },
    {
     "name": "stdout",
     "output_type": "stream",
     "text": [
      "train_example:**************************************************\n",
      "x_seq:入 楚 廉 颇 犹 未 老 ， 过 秦 扁 鹊 更 能 工 。 [UNK] [PAD] [PAD] [PAD] [PAD] [PAD] [PAD] [PAD] [PAD] [PAD] [PAD] [PAD] [PAD]\n",
      "y_pred:人事部\n",
      "y_true:人物部\n",
      "----------\n",
      "x_seq:将 征 任 土 贡 ， 更 发 济 川 舟 。 [UNK] [PAD] [PAD] [PAD] [PAD] [PAD] [PAD] [PAD] [PAD] [PAD] [PAD] [PAD] [PAD] [PAD] [PAD] [PAD] [PAD]\n",
      "y_pred:器用部\n",
      "y_true:器用部\n",
      "----------\n",
      "x_seq:端 拱 复 垂 裳 ， 长 怀 御 远 方 。 [UNK] [PAD] [PAD] [PAD] [PAD] [PAD] [PAD] [PAD] [PAD] [PAD] [PAD] [PAD] [PAD] [PAD] [PAD] [PAD] [PAD]\n",
      "y_pred:器用部\n",
      "y_true:人物部\n",
      "----------\n",
      "x_seq:想 是 三 刀 梦 ， 森 然 在 眼 然 。 [UNK] [PAD] [PAD] [PAD] [PAD] [PAD] [PAD] [PAD] [PAD] [PAD] [PAD] [PAD] [PAD] [PAD] [PAD] [PAD] [PAD]\n",
      "y_pred:人事部\n",
      "y_true:人事部\n",
      "----------\n",
      "x_seq:夜 深 一 片 城 头 月 ， 曾 照 张 良 案 上 筹 。 [UNK] [PAD] [PAD] [PAD] [PAD] [PAD] [PAD] [PAD] [PAD] [PAD] [PAD] [PAD] [PAD]\n",
      "y_pred:器用部\n",
      "y_true:人物部\n",
      "----------\n",
      "x_seq:神 女 生 涯 原 是 梦 ， 小 姑 居 处 本 无 郎 。 [UNK] [PAD] [PAD] [PAD] [PAD] [PAD] [PAD] [PAD] [PAD] [PAD] [PAD] [PAD] [PAD]\n",
      "y_pred:人事部\n",
      "y_true:九流部\n",
      "----------\n",
      "x_seq:已 为 平 子 归 休 计 ， 五 老 岩 前 必 共 闻 。 [UNK] [PAD] [PAD] [PAD] [PAD] [PAD] [PAD] [PAD] [PAD] [PAD] [PAD] [PAD] [PAD]\n",
      "y_pred:人事部\n",
      "y_true:人事部\n",
      "----------\n",
      "x_seq:援 毫 飞 凤 藻 ， 发 匣 吼 龙 泉 。 [UNK] [PAD] [PAD] [PAD] [PAD] [PAD] [PAD] [PAD] [PAD] [PAD] [PAD] [PAD] [PAD] [PAD] [PAD] [PAD] [PAD]\n",
      "y_pred:动物部\n",
      "y_true:文明部\n",
      "----------\n",
      "x_seq:美 人 美 人 兮 归 去 来 ， 莫 作 朝 云 暮 雨 兮 飞 阳 台 。 [UNK] [PAD] [PAD] [PAD] [PAD] [PAD] [PAD] [PAD] [PAD]\n",
      "y_pred:人事部\n",
      "y_true:人事部\n",
      "----------\n",
      "x_seq:律 通 幽 谷 暖 ， 盆 举 太 阳 辉 。 [UNK] [PAD] [PAD] [PAD] [PAD] [PAD] [PAD] [PAD] [PAD] [PAD] [PAD] [PAD] [PAD] [PAD] [PAD] [PAD] [PAD]\n",
      "y_pred:器用部\n",
      "y_true:地理部\n",
      "----------\n",
      "END:**************************************************\n",
      "test_example:**************************************************\n",
      "x_seq:汉 日 唯 闻 白 衣 宠 ， 唐 年 更 睹 赤 松 游 。 [UNK] [PAD] [PAD] [PAD] [PAD] [PAD] [PAD] [PAD] [PAD] [PAD] [PAD] [PAD] [PAD]\n",
      "y_pred:器用部\n",
      "y_true:器用部\n",
      "----------\n",
      "x_seq:会 作 王 孙 曳 裾 客 ， 为 余 前 谢 鲍 参 军 。 [UNK] [PAD] [PAD] [PAD] [PAD] [PAD] [PAD] [PAD] [PAD] [PAD] [PAD] [PAD] [PAD]\n",
      "y_pred:人物部\n",
      "y_true:人物部\n",
      "----------\n",
      "x_seq:鱼 钥 未 收 清 夜 永 ， 凤 箫 犹 在 翠 微 间 。 [UNK] [PAD] [PAD] [PAD] [PAD] [PAD] [PAD] [PAD] [PAD] [PAD] [PAD] [PAD] [PAD]\n",
      "y_pred:器用部\n",
      "y_true:文明部\n",
      "----------\n",
      "x_seq:不 闻 官 掖 悲 人 [UNK] ， 肯 使 兵 尘 丧 帝 [UNK] 。 [UNK] [PAD] [PAD] [PAD] [PAD] [PAD] [PAD] [PAD] [PAD] [PAD] [PAD] [PAD] [PAD]\n",
      "y_pred:人事部\n",
      "y_true:人事部\n",
      "----------\n",
      "x_seq:李 陵 心 事 久 风 尘 ， 三 十 年 来 岂 卧 薪 ！ [UNK] [PAD] [PAD] [PAD] [PAD] [PAD] [PAD] [PAD] [PAD] [PAD] [PAD] [PAD] [PAD]\n",
      "y_pred:人事部\n",
      "y_true:器用部\n",
      "----------\n",
      "x_seq:往 来 屑 屑 君 应 笑 ， 要 就 南 池 照 客 衣 。 [UNK] [PAD] [PAD] [PAD] [PAD] [PAD] [PAD] [PAD] [PAD] [PAD] [PAD] [PAD] [PAD]\n",
      "y_pred:器用部\n",
      "y_true:人事部\n",
      "----------\n",
      "x_seq:娱 宾 歌 湛 露 ， 广 乐 奏 钧 天 。 [UNK] [PAD] [PAD] [PAD] [PAD] [PAD] [PAD] [PAD] [PAD] [PAD] [PAD] [PAD] [PAD] [PAD] [PAD] [PAD] [PAD]\n",
      "y_pred:器用部\n",
      "y_true:文明部\n",
      "----------\n",
      "x_seq:囊 疏 萤 易 透 ， 锥 钝 股 多 坑 。 [UNK] [PAD] [PAD] [PAD] [PAD] [PAD] [PAD] [PAD] [PAD] [PAD] [PAD] [PAD] [PAD] [PAD] [PAD] [PAD] [PAD]\n",
      "y_pred:器用部\n",
      "y_true:人体部\n",
      "----------\n",
      "x_seq:荻 字 书 犹 记 ， 斑 衣 舞 尚 寻 。 [UNK] [PAD] [PAD] [PAD] [PAD] [PAD] [PAD] [PAD] [PAD] [PAD] [PAD] [PAD] [PAD] [PAD] [PAD] [PAD] [PAD]\n",
      "y_pred:器用部\n",
      "y_true:文明部\n",
      "----------\n",
      "x_seq:晋 库 走 龙 剑 ， 吴 官 伤 燕 雏 。 [UNK] [PAD] [PAD] [PAD] [PAD] [PAD] [PAD] [PAD] [PAD] [PAD] [PAD] [PAD] [PAD] [PAD] [PAD] [PAD] [PAD]\n",
      "y_pred:动物部\n",
      "y_true:人事部\n",
      "----------\n",
      "END:**************************************************\n"
     ]
    },
    {
     "name": "stderr",
     "output_type": "stream",
     "text": [
      "I:BASE TASK:[base_task.:270]:Task NER:\n",
      "I:BASE TASK:[base_task.:271]:\t230 training batches\n",
      "I:BASE TASK:[base_task.:272]:\t41 validation batches\n",
      "I:BASE TASK:[base_task.:273]:\t68 test batches\n",
      "I:BERT EMBEDDING:[bert_embed:105]:seq_len:30\n",
      "I:BERT EMBEDDING:[bert_embed:105]:seq_len:30\n",
      "I:AHMTL MODEL:[AHMTL.py:126]:Multi-Task Learning Model has been instantiated.\n",
      "I:CUR_SPLIT:1:[sampler_mu: 92]:Set up ready. Begining training/validation.\n",
      "I:BASE-MODEL:[base_model:133]:NER's model_dir is ./model_ckpt/2020-02-06-10_16_41/1/NER-Naive_CRF_Model\n",
      "I:BASE-MODEL:[base_model:232]:[NER]:train info:Train on 14684 samples, validate on 2592 samples\n",
      "I:BASE-MODEL:[base_model:133]:ALLU_CLASS's model_dir is ./model_ckpt/2020-02-06-10_16_41/1/ALLU_CLASS-NaiveDenseModel\n",
      "I:BASE-MODEL:[base_model:232]:[ALLU_CLASS]:train info:Train on 1813 samples, validate on 321 samples\n"
     ]
    },
    {
     "name": "stdout",
     "output_type": "stream",
     "text": [
      "Epoch 1/50\n",
      "259/259 [==============================] - 125s 482ms/step - task_name:     NER     - loss: 7.8889 - accuracy: 0.8002 - val_loss: 16.9828 - val_accuracy: 0.5227\n",
      "259/259 [==============================] - 125s 482ms/step - task_name: ALLU_CLASS  - loss: 1.7743 - accuracy: 0.2422 - val_loss: 2.5048 - val_accuracy: 0.3073 \n"
     ]
    },
    {
     "name": "stderr",
     "output_type": "stream",
     "text": [
      "I:CUR_SPLIT:1:[sampler_mu:139]:----------------------------------------------------------------------------------------------------\n"
     ]
    },
    {
     "name": "stdout",
     "output_type": "stream",
     "text": [
      "Epoch 2/50\n",
      "259/259 [==============================] - 68s 264ms/step - task_name:     NER     - loss: 5.8163 - accuracy: 0.8238 - val_loss: 15.1079 - val_accuracy: 0.5148\n",
      "259/259 [==============================] - 68s 264ms/step - task_name: ALLU_CLASS  - loss: 1.9831 - accuracy: 0.3648 - val_loss: 2.2278 - val_accuracy: 0.3802 \n"
     ]
    },
    {
     "name": "stderr",
     "output_type": "stream",
     "text": [
      "I:CUR_SPLIT:1:[sampler_mu:139]:----------------------------------------------------------------------------------------------------\n"
     ]
    },
    {
     "name": "stdout",
     "output_type": "stream",
     "text": [
      "Epoch 3/50\n",
      "259/259 [==============================] - 66s 255ms/step - task_name:     NER     - loss: 4.9105 - accuracy: 0.8354 - val_loss: 13.5420 - val_accuracy: 0.5325\n",
      "259/259 [==============================] - 66s 255ms/step - task_name: ALLU_CLASS  - loss: 1.6016 - accuracy: 0.4392 - val_loss: 2.1900 - val_accuracy: 0.3854 \n"
     ]
    },
    {
     "name": "stderr",
     "output_type": "stream",
     "text": [
      "I:CUR_SPLIT:1:[sampler_mu:139]:----------------------------------------------------------------------------------------------------\n"
     ]
    },
    {
     "name": "stdout",
     "output_type": "stream",
     "text": [
      "Epoch 4/50\n",
      "259/259 [==============================] - 66s 253ms/step - task_name:     NER     - loss: 4.1605 - accuracy: 0.8386 - val_loss: 12.3602 - val_accuracy: 0.8371\n",
      "259/259 [==============================] - 66s 253ms/step - task_name: ALLU_CLASS  - loss: 1.7153 - accuracy: 0.4934 - val_loss: 2.2291 - val_accuracy: 0.3698 \n"
     ]
    },
    {
     "name": "stderr",
     "output_type": "stream",
     "text": [
      "I:CUR_SPLIT:1:[sampler_mu:139]:----------------------------------------------------------------------------------------------------\n"
     ]
    },
    {
     "name": "stdout",
     "output_type": "stream",
     "text": [
      "Epoch 5/50\n",
      "259/259 [==============================] - 66s 254ms/step - task_name:     NER     - loss: 3.7531 - accuracy: 0.8397 - val_loss: 11.5326 - val_accuracy: 0.8352\n",
      "259/259 [==============================] - 66s 254ms/step - task_name: ALLU_CLASS  - loss: 1.3541 - accuracy: 0.5533 - val_loss: 2.2780 - val_accuracy: 0.4036 \n"
     ]
    },
    {
     "name": "stderr",
     "output_type": "stream",
     "text": [
      "I:CUR_SPLIT:1:[sampler_mu:139]:----------------------------------------------------------------------------------------------------\n"
     ]
    },
    {
     "name": "stdout",
     "output_type": "stream",
     "text": [
      "Epoch 6/50\n",
      "259/259 [==============================] - 65s 253ms/step - task_name:     NER     - loss: 3.3264 - accuracy: 0.8425 - val_loss: 10.7183 - val_accuracy: 0.8337\n",
      "259/259 [==============================] - 65s 253ms/step - task_name: ALLU_CLASS  - loss: 1.2744 - accuracy: 0.5983 - val_loss: 2.3644 - val_accuracy: 0.3984 \n"
     ]
    },
    {
     "name": "stderr",
     "output_type": "stream",
     "text": [
      "I:CUR_SPLIT:1:[sampler_mu:139]:----------------------------------------------------------------------------------------------------\n"
     ]
    },
    {
     "name": "stdout",
     "output_type": "stream",
     "text": [
      "Epoch 7/50\n",
      "259/259 [==============================] - 65s 252ms/step - task_name:     NER     - loss: 2.9741 - accuracy: 0.8439 - val_loss: 10.2543 - val_accuracy: 0.8321\n",
      "259/259 [==============================] - 65s 252ms/step - task_name: ALLU_CLASS  - loss: 1.2704 - accuracy: 0.6680 - val_loss: 2.3868 - val_accuracy: 0.3542 \n"
     ]
    },
    {
     "name": "stderr",
     "output_type": "stream",
     "text": [
      "I:CUR_SPLIT:1:[sampler_mu:139]:----------------------------------------------------------------------------------------------------\n"
     ]
    },
    {
     "name": "stdout",
     "output_type": "stream",
     "text": [
      "Epoch 8/50\n",
      "259/259 [==============================] - 66s 253ms/step - task_name:     NER     - loss: 2.8795 - accuracy: 0.8450 - val_loss: 9.7046 - val_accuracy: 0.8308\n",
      "259/259 [==============================] - 66s 253ms/step - task_name: ALLU_CLASS  - loss: 0.7914 - accuracy: 0.7113 - val_loss: 2.5163 - val_accuracy: 0.3854\n"
     ]
    },
    {
     "name": "stderr",
     "output_type": "stream",
     "text": [
      "I:CUR_SPLIT:1:[sampler_mu:139]:----------------------------------------------------------------------------------------------------\n"
     ]
    },
    {
     "name": "stdout",
     "output_type": "stream",
     "text": [
      "Epoch 9/50\n",
      "259/259 [==============================] - 66s 255ms/step - task_name:     NER     - loss: 2.7192 - accuracy: 0.8459 - val_loss: 9.4397 - val_accuracy: 0.8286\n",
      "259/259 [==============================] - 66s 255ms/step - task_name: ALLU_CLASS  - loss: 0.6240 - accuracy: 0.7269 - val_loss: 2.5858 - val_accuracy: 0.3542\n"
     ]
    },
    {
     "name": "stderr",
     "output_type": "stream",
     "text": [
      "I:CUR_SPLIT:1:[sampler_mu:139]:----------------------------------------------------------------------------------------------------\n"
     ]
    },
    {
     "name": "stdout",
     "output_type": "stream",
     "text": [
      "Epoch 10/50\n",
      "259/259 [==============================] - 66s 254ms/step - task_name:     NER     - loss: 2.5600 - accuracy: 0.8486 - val_loss: 9.1598 - val_accuracy: 0.8250\n",
      "259/259 [==============================] - 66s 254ms/step - task_name: ALLU_CLASS  - loss: 0.5097 - accuracy: 0.7773 - val_loss: 2.6433 - val_accuracy: 0.3750\n"
     ]
    },
    {
     "name": "stderr",
     "output_type": "stream",
     "text": [
      "I:CUR_SPLIT:1:[sampler_mu:139]:----------------------------------------------------------------------------------------------------\n"
     ]
    },
    {
     "name": "stdout",
     "output_type": "stream",
     "text": [
      "Epoch 11/50\n",
      "259/259 [==============================] - 66s 255ms/step - task_name:     NER     - loss: 2.3431 - accuracy: 0.8516 - val_loss: 8.8812 - val_accuracy: 0.8214\n",
      "259/259 [==============================] - 66s 255ms/step - task_name: ALLU_CLASS  - loss: 0.6295 - accuracy: 0.7963 - val_loss: 2.7035 - val_accuracy: 0.3932\n"
     ]
    },
    {
     "name": "stderr",
     "output_type": "stream",
     "text": [
      "I:CUR_SPLIT:1:[sampler_mu:139]:----------------------------------------------------------------------------------------------------\n"
     ]
    },
    {
     "name": "stdout",
     "output_type": "stream",
     "text": [
      "Epoch 12/50\n",
      "259/259 [==============================] - 6s 25ms/step - task_name: ALLU_CLASS  - loss: 0.8417 - accuracy: 0.7260 - val_loss: 2.6328 - val_accuracy: 0.3750\n"
     ]
    },
    {
     "name": "stderr",
     "output_type": "stream",
     "text": [
      "I:CUR_SPLIT:1:[sampler_mu:139]:----------------------------------------------------------------------------------------------------\n"
     ]
    },
    {
     "name": "stdout",
     "output_type": "stream",
     "text": [
      "\n",
      "----------------------------------NER LABEL METRICS -----------------------------------\n",
      "\n",
      "epoch:labeling EPOCH accuracy 0.832276 precision: 0.335332, recall: 0.194393, f1: 0.246113\n",
      "\n",
      "           precision    recall  f1-score   support\n",
      "\n",
      "     ALLU     0.3357    0.1944    0.2462      4316\n",
      "\n",
      "micro avg     0.3353    0.1944    0.2461      4316\n",
      "macro avg     0.3357    0.1944    0.2462      4316\n",
      "\n",
      "----------------------------------NER END ----------------------------------\n",
      "train_example:**************************************************\n",
      "x_seq:未 及 冯 公 老 , 何 惊 孺 子 贫 。\n",
      "y_pred:O O O O O O O O O O O O\n",
      "y_true:O O O O O O O O B-ALLU I-ALLU I-ALLU O\n",
      "----------\n",
      "x_seq:心 穷 伏 火 阳 精 丹 , 口 涌 淮 王 万 毕 术 。\n",
      "y_pred:O O O O O O O O O O O O O O O O\n",
      "y_true:O O O O O O O O O O B-ALLU I-ALLU O O O O\n",
      "----------\n",
      "x_seq:旧 苑 经 寒 露 , 残 池 问 劫 灰 。\n",
      "y_pred:O O O O O O O O O O O O\n",
      "y_true:O O O O O O O O O B-ALLU I-ALLU O\n",
      "----------\n",
      "x_seq:河 冻 未 渔 不 易 得 , 凿 冰 筑 侵 河 伯 宫 。\n",
      "y_pred:O O O O O O O O O O O O O O O O\n",
      "y_true:B-ALLU I-ALLU I-ALLU I-ALLU I-ALLU I-ALLU I-ALLU I-ALLU I-ALLU I-ALLU I-ALLU I-ALLU I-ALLU I-ALLU O O\n",
      "----------\n",
      "x_seq:汉 朝 卿 相 尽 风 云 , 司 马 题 桥 众 又 闻 。\n",
      "y_pred:O O O O O O O O B-ALLU I-ALLU O I-ALLU O O O O\n",
      "y_true:O O O O O O O O O O B-ALLU I-ALLU O O O O\n",
      "----------\n",
      "x_seq:渔 父 自 夷 犹 , 白 鸥 不 羁 束 。\n",
      "y_pred:O O O O O O O O O O O O\n",
      "y_true:O O O O O O B-ALLU I-ALLU O O O O\n",
      "----------\n",
      "x_seq:闻 听 谢 [UNK] 吟 为 政 , 静 看 萧 何 坐 致 君 。\n",
      "y_pred:O O B-ALLU I-ALLU O O O O O O O O O O O O\n",
      "y_true:O O B-ALLU I-ALLU O O O O O O O O O O O O\n",
      "----------\n",
      "x_seq:染 翰 过 草 圣 , 赋 诗 轻 子 虚 。\n",
      "y_pred:O O O O I-ALLU O O O O O O O\n",
      "y_true:O O O B-ALLU I-ALLU O O O O O O O\n",
      "----------\n",
      "x_seq:自 古 全 才 贵 文 武 , 懦 夫 只 解 冠 章 甫 。\n",
      "y_pred:O O O O O O O O O O O O O B-ALLU I-ALLU O\n",
      "y_true:O O O O O O O O O O O O B-ALLU I-ALLU I-ALLU O\n",
      "----------\n",
      "x_seq:莫 羡 黄 公 盖 , 须 乘 彦 伯 舟 。\n",
      "y_pred:O O O O O O O O O O O O\n",
      "y_true:O O O O O O O O B-ALLU I-ALLU I-ALLU O\n",
      "----------\n",
      "END:**************************************************\n",
      "test_example:**************************************************\n",
      "x_seq:交 情 剧 断 金 , 文 律 每 招 寻 。\n",
      "y_pred:O O O B-ALLU I-ALLU O O O O O O O\n",
      "y_true:O O O B-ALLU I-ALLU O O O O O O O\n",
      "----------\n",
      "x_seq:却 思 黄 绶 事 , 辜 负 紫 芝 心 。\n",
      "y_pred:O O B-ALLU O O O O O O O O O\n",
      "y_true:O O B-ALLU I-ALLU O O O O O O O O\n",
      "----------\n",
      "x_seq:十 上 耻 还 家 , 裴 回 守 归 路 。\n",
      "y_pred:O O O O O O O O O O O O\n",
      "y_true:B-ALLU I-ALLU O O O O O O O O O O\n",
      "----------\n",
      "x_seq:床 前 磨 镜 客 , 树 下 灌 园 人 。\n",
      "y_pred:O O B-ALLU I-ALLU O O O O B-ALLU I-ALLU O O\n",
      "y_true:O O O O O O O O B-ALLU I-ALLU O O\n",
      "----------\n",
      "x_seq:隐 吏 逢 梅 福 , 游 山 忆 谢 公 。\n",
      "y_pred:O O O O O O O O O O O O\n",
      "y_true:O O O O O O O O O B-ALLU I-ALLU O\n",
      "----------\n",
      "x_seq:秦 火 不 [UNK] 石 , 秦 火 空 [UNK] 文 。\n",
      "y_pred:O O O O O O O O O O O O\n",
      "y_true:O O O B-ALLU I-ALLU I-ALLU I-ALLU I-ALLU I-ALLU I-ALLU I-ALLU O\n",
      "----------\n",
      "x_seq:芜 城 登 眺 作 , 才 动 广 陵 人 。\n",
      "y_pred:O O O O O O O O O O O O\n",
      "y_true:B-ALLU I-ALLU I-ALLU I-ALLU I-ALLU O O O O O O O\n",
      "----------\n",
      "x_seq:扶 颠 待 柱 石 , 独 坐 飞 风 霜 。\n",
      "y_pred:O O O O O O O O O O O O\n",
      "y_true:O O O O O O B-ALLU I-ALLU O O O O\n",
      "----------\n",
      "x_seq:爱 礼 谁 为 羊 , 恋 主 吾 犹 马 。\n",
      "y_pred:O O O O O O O O O O O O\n",
      "y_true:B-ALLU I-ALLU I-ALLU I-ALLU I-ALLU O O O O O O O\n",
      "----------\n",
      "x_seq:客 愁 青 眼 别 , 家 喜 玉 人 归 。\n",
      "y_pred:O O B-ALLU O O O O O B-ALLU I-ALLU O O\n",
      "y_true:O O B-ALLU I-ALLU O O O O O O O O\n",
      "----------\n",
      "END:**************************************************\n"
     ]
    },
    {
     "name": "stderr",
     "output_type": "stream",
     "text": [
      "/home/liulei/anaconda3/envs/ner_tf2/lib/python3.7/site-packages/sklearn/metrics/classification.py:1437: UndefinedMetricWarning: Precision is ill-defined and being set to 0.0 in labels with no predicted samples.\n",
      "  'precision', 'predicted', average, warn_for)\n",
      "/home/liulei/anaconda3/envs/ner_tf2/lib/python3.7/site-packages/sklearn/metrics/classification.py:1437: UndefinedMetricWarning: F-score is ill-defined and being set to 0.0 in labels with no predicted samples.\n",
      "  'precision', 'predicted', average, warn_for)\n",
      "/home/liulei/anaconda3/envs/ner_tf2/lib/python3.7/site-packages/sklearn/metrics/classification.py:1437: UndefinedMetricWarning: Precision and F-score are ill-defined and being set to 0.0 in labels with no predicted samples.\n",
      "  'precision', 'predicted', average, warn_for)\n"
     ]
    },
    {
     "name": "stdout",
     "output_type": "stream",
     "text": [
      "\n",
      "----------------------------------ALLU_CLASS CLASS METRICS -----------------------------------\n",
      "\n",
      "              precision    recall  f1-score   support\n",
      "    accuracy                         0.2697       534\n",
      "   macro avg     0.0867    0.1229    0.0986       534\n",
      "weighted avg     0.1661    0.2697    0.1990       534\n",
      "\n",
      "\n",
      "epoch:classification EPOCH accuracy: 0.2696629213483146 precision: 0.086706, recall: 0.122924, f1: 0.098571\n",
      "\n",
      "-----------------------------ALLU_CLASS END ----------------------------\n"
     ]
    },
    {
     "name": "stderr",
     "output_type": "stream",
     "text": [
      "I:SAMPLE_TRAINER:[sampler_mu: 43]:cur_split_idx 1th END\n",
      "I:SAMPLE_TRAINER:[sampler_mu: 44]:****************************************************************************************************\n",
      "I:SAMPLE_TRAINER:[sampler_mu: 45]:****************************************************************************************************\n",
      "I:BASE TASK:[base_task.:270]:Task ALLU_CLASS:\n",
      "I:BASE TASK:[base_task.:271]:\t29 training batches\n",
      "I:BASE TASK:[base_task.:272]:\t6 validation batches\n",
      "I:BASE TASK:[base_task.:273]:\t9 test batches\n"
     ]
    },
    {
     "name": "stdout",
     "output_type": "stream",
     "text": [
      "train_example:**************************************************\n",
      "x_seq:鲤 庭 传 事 业 ， 鸡 树 遂 翱 翔 。 [UNK] [PAD] [PAD] [PAD] [PAD] [PAD] [PAD] [PAD] [PAD] [PAD] [PAD] [PAD] [PAD] [PAD] [PAD] [PAD] [PAD]\n",
      "y_pred:动物部\n",
      "y_true:器用部\n",
      "----------\n",
      "x_seq:好 同 姑 射 称 仙 子 ， 会 到 罗 浮 化 美 人 。 [UNK] [PAD] [PAD] [PAD] [PAD] [PAD] [PAD] [PAD] [PAD] [PAD] [PAD] [PAD] [PAD]\n",
      "y_pred:人物部\n",
      "y_true:九流部\n",
      "----------\n",
      "x_seq:黔 娄 固 穷 士 ， 妻 贤 忘 其 贫 。 [UNK] [PAD] [PAD] [PAD] [PAD] [PAD] [PAD] [PAD] [PAD] [PAD] [PAD] [PAD] [PAD] [PAD] [PAD] [PAD] [PAD]\n",
      "y_pred:人事部\n",
      "y_true:伦类部\n",
      "----------\n",
      "x_seq:飞 燕 皇 后 轻 身 舞 ， 紫 官 夫 人 绝 世 歌 。 [UNK] [PAD] [PAD] [PAD] [PAD] [PAD] [PAD] [PAD] [PAD] [PAD] [PAD] [PAD] [PAD]\n",
      "y_pred:人物部\n",
      "y_true:文明部\n",
      "----------\n",
      "x_seq:送 君 应 典 [UNK] [UNK] 裘 ， 凭 仗 千 钟 洗 别 愁 。 [UNK] [PAD] [PAD] [PAD] [PAD] [PAD] [PAD] [PAD] [PAD] [PAD] [PAD] [PAD] [PAD]\n",
      "y_pred:器用部\n",
      "y_true:器用部\n",
      "----------\n",
      "x_seq:十 载 王 [UNK] 泪 ， 重 沾 柏 叶 新 。 [UNK] [PAD] [PAD] [PAD] [PAD] [PAD] [PAD] [PAD] [PAD] [PAD] [PAD] [PAD] [PAD] [PAD] [PAD] [PAD] [PAD]\n",
      "y_pred:人事部\n",
      "y_true:人事部\n",
      "----------\n",
      "x_seq:冯 夷 翩 跹 舞 [UNK] 波 ， 鲛 人 出 听 停 绡 梭 。 [UNK] [PAD] [PAD] [PAD] [PAD] [PAD] [PAD] [PAD] [PAD] [PAD] [PAD] [PAD] [PAD]\n",
      "y_pred:动物部\n",
      "y_true:动物部\n",
      "----------\n",
      "x_seq:荀 炉 残 更 换 ， 湘 瑟 罢 仍 调 。 [UNK] [PAD] [PAD] [PAD] [PAD] [PAD] [PAD] [PAD] [PAD] [PAD] [PAD] [PAD] [PAD] [PAD] [PAD] [PAD] [PAD]\n",
      "y_pred:文明部\n",
      "y_true:器用部\n",
      "----------\n",
      "x_seq:[UNK] [UNK] 始 云 赠 ， 胶 漆 乃 相 投 。 [UNK] [PAD] [PAD] [PAD] [PAD] [PAD] [PAD] [PAD] [PAD] [PAD] [PAD] [PAD] [PAD] [PAD] [PAD] [PAD] [PAD]\n",
      "y_pred:人事部\n",
      "y_true:伦类部\n",
      "----------\n",
      "x_seq:美 人 美 人 兮 归 去 来 ， 莫 作 朝 云 暮 雨 兮 飞 阳 台 。 [UNK] [PAD] [PAD] [PAD] [PAD] [PAD] [PAD] [PAD] [PAD]\n",
      "y_pred:人事部\n",
      "y_true:人事部\n",
      "----------\n",
      "END:**************************************************\n",
      "test_example:**************************************************\n",
      "x_seq:奸 声 人 耳 佞 人 心 ， 侏 儒 饱 饭 夷 齐 饿 。 [UNK] [PAD] [PAD] [PAD] [PAD] [PAD] [PAD] [PAD] [PAD] [PAD] [PAD] [PAD] [PAD]\n",
      "y_pred:人事部\n",
      "y_true:器用部\n",
      "----------\n",
      "x_seq:人 琴 久 寂 寞 ， 烟 月 若 平 生 。 [UNK] [PAD] [PAD] [PAD] [PAD] [PAD] [PAD] [PAD] [PAD] [PAD] [PAD] [PAD] [PAD] [PAD] [PAD] [PAD] [PAD]\n",
      "y_pred:人事部\n",
      "y_true:文明部\n",
      "----------\n",
      "x_seq:南 帝 初 奋 极 ， 凿 窍 泄 混 沌 。 [UNK] [PAD] [PAD] [PAD] [PAD] [PAD] [PAD] [PAD] [PAD] [PAD] [PAD] [PAD] [PAD] [PAD] [PAD] [PAD] [PAD]\n",
      "y_pred:人事部\n",
      "y_true:人体部\n",
      "----------\n",
      "x_seq:博 浪 飞 椎 后 ， [UNK] 桥 进 履 车 。 [UNK] [PAD] [PAD] [PAD] [PAD] [PAD] [PAD] [PAD] [PAD] [PAD] [PAD] [PAD] [PAD] [PAD] [PAD] [PAD] [PAD]\n",
      "y_pred:器用部\n",
      "y_true:人事部\n",
      "----------\n",
      "x_seq:天 边 鸿 鹊 不 易 得 ， 便 令 作 对 随 家 鸡 。 [UNK] [PAD] [PAD] [PAD] [PAD] [PAD] [PAD] [PAD] [PAD] [PAD] [PAD] [PAD] [PAD]\n",
      "y_pred:动物部\n",
      "y_true:动物部\n",
      "----------\n",
      "x_seq:莫 问 盐 车 骏 ， 谁 着 酱 [UNK] 玄 ？ [UNK] [PAD] [PAD] [PAD] [PAD] [PAD] [PAD] [PAD] [PAD] [PAD] [PAD] [PAD] [PAD] [PAD] [PAD] [PAD] [PAD]\n",
      "y_pred:器用部\n",
      "y_true:动物部\n",
      "----------\n",
      "x_seq:胡 床 [UNK] 被 萧 然 去 ， 片 石 留 为 剑 阁 铭 。 [UNK] [PAD] [PAD] [PAD] [PAD] [PAD] [PAD] [PAD] [PAD] [PAD] [PAD] [PAD] [PAD]\n",
      "y_pred:器用部\n",
      "y_true:文明部\n",
      "----------\n",
      "x_seq:勖 尔 效 才 略 ， 功 成 衣 锦 还 。 [UNK] [PAD] [PAD] [PAD] [PAD] [PAD] [PAD] [PAD] [PAD] [PAD] [PAD] [PAD] [PAD] [PAD] [PAD] [PAD] [PAD]\n",
      "y_pred:人物部\n",
      "y_true:器用部\n",
      "----------\n",
      "x_seq:徒 闻 斩 蚊 剑 ， 无 复 [UNK] 犀 船 。 [UNK] [PAD] [PAD] [PAD] [PAD] [PAD] [PAD] [PAD] [PAD] [PAD] [PAD] [PAD] [PAD] [PAD] [PAD] [PAD] [PAD]\n",
      "y_pred:器用部\n",
      "y_true:器用部\n",
      "----------\n",
      "x_seq:岂 惟 蜀 客 知 踪 迹 ， 更 问 庭 中 晒 腹 人 。 [UNK] [PAD] [PAD] [PAD] [PAD] [PAD] [PAD] [PAD] [PAD] [PAD] [PAD] [PAD] [PAD]\n",
      "y_pred:人事部\n",
      "y_true:文明部\n",
      "----------\n",
      "END:**************************************************\n"
     ]
    },
    {
     "name": "stderr",
     "output_type": "stream",
     "text": [
      "I:BASE TASK:[base_task.:270]:Task NER:\n",
      "I:BASE TASK:[base_task.:271]:\t230 training batches\n",
      "I:BASE TASK:[base_task.:272]:\t41 validation batches\n",
      "I:BASE TASK:[base_task.:273]:\t68 test batches\n",
      "I:BERT EMBEDDING:[bert_embed:105]:seq_len:30\n",
      "I:BERT EMBEDDING:[bert_embed:105]:seq_len:30\n",
      "I:AHMTL MODEL:[AHMTL.py:126]:Multi-Task Learning Model has been instantiated.\n",
      "I:CUR_SPLIT:2:[sampler_mu: 92]:Set up ready. Begining training/validation.\n",
      "I:BASE-MODEL:[base_model:133]:NER's model_dir is ./model_ckpt/2020-02-06-10_16_41/2/NER-Naive_CRF_Model\n",
      "I:BASE-MODEL:[base_model:232]:[NER]:train info:Train on 14684 samples, validate on 2592 samples\n",
      "I:BASE-MODEL:[base_model:133]:ALLU_CLASS's model_dir is ./model_ckpt/2020-02-06-10_16_41/2/ALLU_CLASS-NaiveDenseModel\n",
      "I:BASE-MODEL:[base_model:232]:[ALLU_CLASS]:train info:Train on 1813 samples, validate on 321 samples\n"
     ]
    },
    {
     "name": "stdout",
     "output_type": "stream",
     "text": [
      "Epoch 1/50\n",
      "259/259 [==============================] - 126s 486ms/step - task_name:     NER     - loss: 6.1379 - accuracy: 0.8084 - val_loss: 9.9703 - val_accuracy: 0.7603\n",
      "259/259 [==============================] - 126s 486ms/step - task_name: ALLU_CLASS  - loss: 1.8305 - accuracy: 0.2237 - val_loss: 2.7815 - val_accuracy: 0.2057\n"
     ]
    },
    {
     "name": "stderr",
     "output_type": "stream",
     "text": [
      "I:CUR_SPLIT:2:[sampler_mu:139]:----------------------------------------------------------------------------------------------------\n"
     ]
    },
    {
     "name": "stdout",
     "output_type": "stream",
     "text": [
      "Epoch 2/50\n",
      "259/259 [==============================] - 66s 254ms/step - task_name:     NER     - loss: 4.5278 - accuracy: 0.8252 - val_loss: 9.0733 - val_accuracy: 0.7654\n",
      "259/259 [==============================] - 66s 254ms/step - task_name: ALLU_CLASS  - loss: 2.0922 - accuracy: 0.3041 - val_loss: 2.6239 - val_accuracy: 0.2734\n"
     ]
    },
    {
     "name": "stderr",
     "output_type": "stream",
     "text": [
      "I:CUR_SPLIT:2:[sampler_mu:139]:----------------------------------------------------------------------------------------------------\n"
     ]
    },
    {
     "name": "stdout",
     "output_type": "stream",
     "text": [
      "Epoch 3/50\n",
      "259/259 [==============================] - 68s 261ms/step - task_name:     NER     - loss: 3.9611 - accuracy: 0.8298 - val_loss: 8.5833 - val_accuracy: 0.7545\n",
      "259/259 [==============================] - 68s 261ms/step - task_name: ALLU_CLASS  - loss: 1.8129 - accuracy: 0.3588 - val_loss: 2.5853 - val_accuracy: 0.2734\n"
     ]
    },
    {
     "name": "stderr",
     "output_type": "stream",
     "text": [
      "I:CUR_SPLIT:2:[sampler_mu:139]:----------------------------------------------------------------------------------------------------\n"
     ]
    },
    {
     "name": "stdout",
     "output_type": "stream",
     "text": [
      "Epoch 4/50\n",
      "259/259 [==============================] - 66s 253ms/step - task_name:     NER     - loss: 3.5177 - accuracy: 0.8324 - val_loss: 8.1829 - val_accuracy: 0.7552\n",
      "259/259 [==============================] - 66s 253ms/step - task_name: ALLU_CLASS  - loss: 1.9162 - accuracy: 0.4133 - val_loss: 2.4728 - val_accuracy: 0.2969\n"
     ]
    },
    {
     "name": "stderr",
     "output_type": "stream",
     "text": [
      "I:CUR_SPLIT:2:[sampler_mu:139]:----------------------------------------------------------------------------------------------------\n"
     ]
    },
    {
     "name": "stdout",
     "output_type": "stream",
     "text": [
      "Epoch 5/50\n",
      "259/259 [==============================] - 66s 253ms/step - task_name:     NER     - loss: 3.2701 - accuracy: 0.8333 - val_loss: 8.0069 - val_accuracy: 0.7573\n",
      "259/259 [==============================] - 66s 253ms/step - task_name: ALLU_CLASS  - loss: 1.6304 - accuracy: 0.4569 - val_loss: 2.4909 - val_accuracy: 0.3073\n"
     ]
    },
    {
     "name": "stderr",
     "output_type": "stream",
     "text": [
      "I:CUR_SPLIT:2:[sampler_mu:139]:----------------------------------------------------------------------------------------------------\n"
     ]
    },
    {
     "name": "stdout",
     "output_type": "stream",
     "text": [
      "Epoch 6/50\n",
      "259/259 [==============================] - 66s 253ms/step - task_name:     NER     - loss: 3.0801 - accuracy: 0.8345 - val_loss: 7.9005 - val_accuracy: 0.7549\n",
      "259/259 [==============================] - 66s 253ms/step - task_name: ALLU_CLASS  - loss: 1.4398 - accuracy: 0.4883 - val_loss: 2.5400 - val_accuracy: 0.3281\n"
     ]
    },
    {
     "name": "stderr",
     "output_type": "stream",
     "text": [
      "I:CUR_SPLIT:2:[sampler_mu:139]:----------------------------------------------------------------------------------------------------\n"
     ]
    },
    {
     "name": "stdout",
     "output_type": "stream",
     "text": [
      "Epoch 7/50\n",
      "259/259 [==============================] - 68s 264ms/step - task_name:     NER     - loss: 2.9635 - accuracy: 0.8354 - val_loss: 7.7276 - val_accuracy: 0.7542\n",
      "259/259 [==============================] - 68s 264ms/step - task_name: ALLU_CLASS  - loss: 1.1029 - accuracy: 0.5421 - val_loss: 2.6250 - val_accuracy: 0.3333\n"
     ]
    },
    {
     "name": "stderr",
     "output_type": "stream",
     "text": [
      "I:CUR_SPLIT:2:[sampler_mu:139]:----------------------------------------------------------------------------------------------------\n"
     ]
    },
    {
     "name": "stdout",
     "output_type": "stream",
     "text": [
      "Epoch 8/50\n",
      "259/259 [==============================] - 67s 259ms/step - task_name:     NER     - loss: 2.6144 - accuracy: 0.8360 - val_loss: 7.5538 - val_accuracy: 0.7536\n",
      "259/259 [==============================] - 67s 259ms/step - task_name: ALLU_CLASS  - loss: 1.7891 - accuracy: 0.5707 - val_loss: 2.6822 - val_accuracy: 0.3177\n"
     ]
    },
    {
     "name": "stderr",
     "output_type": "stream",
     "text": [
      "I:CUR_SPLIT:2:[sampler_mu:139]:----------------------------------------------------------------------------------------------------\n"
     ]
    },
    {
     "name": "stdout",
     "output_type": "stream",
     "text": [
      "Epoch 9/50\n",
      "259/259 [==============================] - 68s 261ms/step - task_name:     NER     - loss: 2.6546 - accuracy: 0.8375 - val_loss: 7.6269 - val_accuracy: 0.7407\n",
      "259/259 [==============================] - 68s 261ms/step - task_name: ALLU_CLASS  - loss: 1.1394 - accuracy: 0.6016 - val_loss: 2.6929 - val_accuracy: 0.2969\n"
     ]
    },
    {
     "name": "stderr",
     "output_type": "stream",
     "text": [
      "I:CUR_SPLIT:2:[sampler_mu:139]:----------------------------------------------------------------------------------------------------\n"
     ]
    },
    {
     "name": "stdout",
     "output_type": "stream",
     "text": [
      "Epoch 10/50\n",
      "259/259 [==============================] - 4s 16ms/step - task_name: ALLU_CLASS  - loss: 0.9116 - accuracy: 0.5337 - val_loss: 2.7206 - val_accuracy: 0.2943\n"
     ]
    },
    {
     "name": "stderr",
     "output_type": "stream",
     "text": [
      "I:CUR_SPLIT:2:[sampler_mu:139]:----------------------------------------------------------------------------------------------------\n"
     ]
    },
    {
     "name": "stdout",
     "output_type": "stream",
     "text": [
      "Epoch 11/50\n",
      "259/259 [==============================] - 5s 21ms/step - task_name: ALLU_CLASS  - loss: 1.0570 - accuracy: 0.5825 - val_loss: 2.8107 - val_accuracy: 0.3281\n"
     ]
    },
    {
     "name": "stderr",
     "output_type": "stream",
     "text": [
      "I:CUR_SPLIT:2:[sampler_mu:139]:----------------------------------------------------------------------------------------------------\n"
     ]
    },
    {
     "name": "stdout",
     "output_type": "stream",
     "text": [
      "Epoch 12/50\n",
      "259/259 [==============================] - 7s 28ms/step - task_name: ALLU_CLASS  - loss: 1.3438 - accuracy: 0.6406 - val_loss: 2.7796 - val_accuracy: 0.3073\n"
     ]
    },
    {
     "name": "stderr",
     "output_type": "stream",
     "text": [
      "I:CUR_SPLIT:2:[sampler_mu:139]:----------------------------------------------------------------------------------------------------\n"
     ]
    },
    {
     "name": "stdout",
     "output_type": "stream",
     "text": [
      "Epoch 13/50\n",
      "247/259 [===========================>..] - ETA: 0s - task_name: ALLU_CLASS  - loss: 0.7995 - accuracy: 0.7013\n",
      "Epoch 00013: ReduceLROnPlateau reducing learning rate to 0.0007000000332482159.\n",
      "259/259 [==============================] - 7s 27ms/step - task_name: ALLU_CLASS  - loss: 1.0668 - accuracy: 0.7013 - val_loss: 2.9311 - val_accuracy: 0.3333\n"
     ]
    },
    {
     "name": "stderr",
     "output_type": "stream",
     "text": [
      "I:CUR_SPLIT:2:[sampler_mu:139]:----------------------------------------------------------------------------------------------------\n"
     ]
    },
    {
     "name": "stdout",
     "output_type": "stream",
     "text": [
      "Epoch 14/50\n",
      "259/259 [==============================] - 5s 18ms/step - task_name: ALLU_CLASS  - loss: 0.5199 - accuracy: 0.7703 - val_loss: 2.8843 - val_accuracy: 0.3177\n"
     ]
    },
    {
     "name": "stderr",
     "output_type": "stream",
     "text": [
      "I:CUR_SPLIT:2:[sampler_mu:139]:----------------------------------------------------------------------------------------------------\n"
     ]
    },
    {
     "name": "stdout",
     "output_type": "stream",
     "text": [
      "\n",
      "----------------------------------NER LABEL METRICS -----------------------------------\n",
      "\n",
      "epoch:labeling EPOCH accuracy 0.836054 precision: 0.493640, recall: 0.323529, f1: 0.390879\n",
      "\n",
      "           precision    recall  f1-score   support\n",
      "\n",
      "     ALLU     0.4938    0.3235    0.3909      4318\n",
      "\n",
      "micro avg     0.4936    0.3235    0.3909      4318\n",
      "macro avg     0.4938    0.3235    0.3909      4318\n",
      "\n",
      "----------------------------------NER END ----------------------------------\n",
      "train_example:**************************************************\n",
      "x_seq:道 畅 应 为 蝶 , 时 来 必 问 牛 。\n",
      "y_pred:O O O O O O O O O O O O\n",
      "y_true:O O O O O O O O O B-ALLU I-ALLU O\n",
      "----------\n",
      "x_seq:问 谁 能 为 御 , 旷 世 不 可 求 。 惟 昔 穆 王 子 , 乘 之 极 遐 游 。 王 良 执 其 [UNK]\n",
      "y_pred:O O O O O O O O O O O O O O O O O O O O O O O O O O O O O\n",
      "y_true:O O O O O O O O O O O O O O O O O O O O O O O O O O O O O\n",
      "----------\n",
      "x_seq:茂 礼 雕 龙 昔 , 香 名 展 骥 初 。\n",
      "y_pred:O O B-ALLU I-ALLU O O O O O O O O\n",
      "y_true:O O B-ALLU I-ALLU O O O O O O O O\n",
      "----------\n",
      "x_seq:未 逢 调 鼎 用 , 徒 有 济 川 心 。\n",
      "y_pred:O O O O O O O O O O O O\n",
      "y_true:O O B-ALLU I-ALLU O O O O O O O O\n",
      "----------\n",
      "x_seq:楚 客 早 闻 歌 凤 德 , 刘 琨 休 更 舞 鸡 声 。\n",
      "y_pred:O O O O O O O O O O O O O O O O\n",
      "y_true:O O O O B-ALLU I-ALLU O O O O O O O O O O\n",
      "----------\n",
      "x_seq:荷 衣 半 破 带 莓 苔 , 笑 向 陶 潜 酒 瓮 开 。\n",
      "y_pred:O O O O O O O O O O B-ALLU I-ALLU O O O O\n",
      "y_true:O O O O O O O O O O B-ALLU I-ALLU O O O O\n",
      "----------\n",
      "x_seq:乔 木 出 云 心 , 闲 门 掩 山 腹 。\n",
      "y_pred:O O O O O O O O O O O O\n",
      "y_true:B-ALLU I-ALLU O O O O O O O O O O\n",
      "----------\n",
      "x_seq:偃 须 求 五 鼎 , 陶 只 爱 吾 庐 。\n",
      "y_pred:O O O O O O O O O O O O\n",
      "y_true:O O O O O O O O B-ALLU I-ALLU I-ALLU O\n",
      "----------\n",
      "x_seq:疏 属 便 同 巫 峡 路 , 洛 川 真 是 武 陵 溪 。\n",
      "y_pred:O O O O O O O O O O O O B-ALLU I-ALLU O O\n",
      "y_true:O O O O O O O O O O O O B-ALLU I-ALLU O O\n",
      "----------\n",
      "x_seq:猛 将 谋 臣 徒 自 贵 , 蛾 眉 一 笑 塞 尘 清 。\n",
      "y_pred:O O O O O O O O B-ALLU I-ALLU O O O O O O\n",
      "y_true:O O O O O O O O B-ALLU I-ALLU O O O O O O\n",
      "----------\n",
      "END:**************************************************\n",
      "test_example:**************************************************\n",
      "x_seq:安 得 封 域 内 , 长 有 扈 苗 征 。\n",
      "y_pred:O O O O O O O O B-ALLU I-ALLU O O\n",
      "y_true:O O O O O O O O B-ALLU I-ALLU I-ALLU O\n",
      "----------\n",
      "x_seq:荀 氏 八 龙 唯 欠 一 , 桓 山 四 凤 已 过 三 。\n",
      "y_pred:O O O O O O O O O O O O O O O O\n",
      "y_true:O O B-ALLU I-ALLU O O O O O O O O O O O O\n",
      "----------\n",
      "x_seq:百 篇 书 判 从 饶 白 , 八 米 诗 章 未 伏 卢 。\n",
      "y_pred:O O O O O O O O O O O O O O O O\n",
      "y_true:O O O O O O O O B-ALLU I-ALLU I-ALLU I-ALLU I-ALLU I-ALLU I-ALLU O\n",
      "----------\n",
      "x_seq:壶 中 药 物 梯 霞 诀 , 肘 后 方 书 缩 地 功 。\n",
      "y_pred:O O O O O O O O O O O O O O O O\n",
      "y_true:O O O O O O O O B-ALLU I-ALLU I-ALLU O O O O O\n",
      "----------\n",
      "x_seq:鱼 游 沸 鼎 知 无 日 , 鸟 覆 危 巢 岂 待 风 。\n",
      "y_pred:O O O O O O O O O O O O O O O O\n",
      "y_true:B-ALLU I-ALLU I-ALLU I-ALLU O O O O O O O O O O O O\n",
      "----------\n",
      "x_seq:露 坛 装 琬 琰 , 真 像 写 松 乔 。\n",
      "y_pred:O O O O O O O O O B-ALLU I-ALLU O\n",
      "y_true:O O O O O O O O O B-ALLU I-ALLU O\n",
      "----------\n",
      "x_seq:闻 君 折 得 东 堂 桂 , 折 罢 那 能 不 暂 归 。\n",
      "y_pred:O O B-ALLU I-ALLU I-ALLU I-ALLU I-ALLU O O O O O O O O O\n",
      "y_true:O O B-ALLU I-ALLU I-ALLU I-ALLU I-ALLU O O O O O O O O O\n",
      "----------\n",
      "x_seq:阿 娇 生 汉 宫 , 西 施 住 南 国 。\n",
      "y_pred:O O O O O O O O O O O O\n",
      "y_true:O O O O O O B-ALLU I-ALLU O O O O\n",
      "----------\n",
      "x_seq:之 荆 且 愿 依 刘 表 , 折 桂 终 惭 见 郤 [UNK] 。\n",
      "y_pred:O O O O O O O O O O O O O O O O\n",
      "y_true:O O O O O O O O O O O O O B-ALLU I-ALLU O\n",
      "----------\n",
      "x_seq:弦 泛 桐 材 响 , 杯 澄 糯 [UNK] 醇 。\n",
      "y_pred:O O O O O O O O O O O O\n",
      "y_true:O O B-ALLU I-ALLU O O O O O O O O\n",
      "----------\n",
      "END:**************************************************\n"
     ]
    },
    {
     "name": "stderr",
     "output_type": "stream",
     "text": [
      "/home/liulei/anaconda3/envs/ner_tf2/lib/python3.7/site-packages/sklearn/metrics/classification.py:1437: UndefinedMetricWarning: Precision is ill-defined and being set to 0.0 in labels with no predicted samples.\n",
      "  'precision', 'predicted', average, warn_for)\n",
      "/home/liulei/anaconda3/envs/ner_tf2/lib/python3.7/site-packages/sklearn/metrics/classification.py:1437: UndefinedMetricWarning: F-score is ill-defined and being set to 0.0 in labels with no predicted samples.\n",
      "  'precision', 'predicted', average, warn_for)\n",
      "/home/liulei/anaconda3/envs/ner_tf2/lib/python3.7/site-packages/sklearn/metrics/classification.py:1437: UndefinedMetricWarning: Precision and F-score are ill-defined and being set to 0.0 in labels with no predicted samples.\n",
      "  'precision', 'predicted', average, warn_for)\n"
     ]
    },
    {
     "name": "stdout",
     "output_type": "stream",
     "text": [
      "\n",
      "----------------------------------ALLU_CLASS CLASS METRICS -----------------------------------\n",
      "\n",
      "              precision    recall  f1-score   support\n",
      "    accuracy                         0.2659       534\n",
      "   macro avg     0.0853    0.1105    0.0824       534\n",
      "weighted avg     0.1766    0.2659    0.1848       534\n",
      "\n",
      "\n",
      "epoch:classification EPOCH accuracy: 0.26591760299625467 precision: 0.085295, recall: 0.110473, f1: 0.082415\n",
      "\n",
      "-----------------------------ALLU_CLASS END ----------------------------\n"
     ]
    },
    {
     "name": "stderr",
     "output_type": "stream",
     "text": [
      "I:SAMPLE_TRAINER:[sampler_mu: 43]:cur_split_idx 2th END\n",
      "I:SAMPLE_TRAINER:[sampler_mu: 44]:****************************************************************************************************\n",
      "I:SAMPLE_TRAINER:[sampler_mu: 45]:****************************************************************************************************\n",
      "I:BASE TASK:[base_task.:270]:Task ALLU_CLASS:\n"
     ]
    },
    {
     "name": "stdout",
     "output_type": "stream",
     "text": [
      "train_example:**************************************************\n",
      "x_seq:传 道 寻 仙 友 ， 青 囊 卖 卜 来 。 [UNK] [PAD] [PAD] [PAD] [PAD] [PAD] [PAD] [PAD] [PAD] [PAD] [PAD] [PAD] [PAD] [PAD] [PAD] [PAD] [PAD]\n",
      "y_pred:器用部\n",
      "y_true:九流部\n",
      "----------\n",
      "x_seq:客 里 冯 援 剑 ， 歌 中 宁 戚 牛 。 [UNK] [PAD] [PAD] [PAD] [PAD] [PAD] [PAD] [PAD] [PAD] [PAD] [PAD] [PAD] [PAD] [PAD] [PAD] [PAD] [PAD]\n",
      "y_pred:器用部\n",
      "y_true:武备部\n",
      "----------\n",
      "x_seq:荻 字 书 犹 记 ， 斑 衣 舞 尚 寻 。 [UNK] [PAD] [PAD] [PAD] [PAD] [PAD] [PAD] [PAD] [PAD] [PAD] [PAD] [PAD] [PAD] [PAD] [PAD] [PAD] [PAD]\n",
      "y_pred:器用部\n",
      "y_true:文明部\n",
      "----------\n",
      "x_seq:飞 鸣 还 接 翅 ， 行 序 密 衔 芦 。 [UNK] [PAD] [PAD] [PAD] [PAD] [PAD] [PAD] [PAD] [PAD] [PAD] [PAD] [PAD] [PAD] [PAD] [PAD] [PAD] [PAD]\n",
      "y_pred:动物部\n",
      "y_true:植物部\n",
      "----------\n",
      "x_seq:野 老 不 知 尧 舜 力 ， 酣 歌 一 曲 太 平 人 。 [UNK] [PAD] [PAD] [PAD] [PAD] [PAD] [PAD] [PAD] [PAD] [PAD] [PAD] [PAD] [PAD]\n",
      "y_pred:器用部\n",
      "y_true:人物部\n",
      "----------\n",
      "x_seq:乐 广 披 云 日 ， 山 涛 卷 雾 年 。 [UNK] [PAD] [PAD] [PAD] [PAD] [PAD] [PAD] [PAD] [PAD] [PAD] [PAD] [PAD] [PAD] [PAD] [PAD] [PAD] [PAD]\n",
      "y_pred:人物部\n",
      "y_true:人物部\n",
      "----------\n",
      "x_seq:惠 连 发 清 兴 ， 袁 安 念 高 卧 。 [UNK] [PAD] [PAD] [PAD] [PAD] [PAD] [PAD] [PAD] [PAD] [PAD] [PAD] [PAD] [PAD] [PAD] [PAD] [PAD] [PAD]\n",
      "y_pred:器用部\n",
      "y_true:人事部\n",
      "----------\n",
      "x_seq:汉 日 唯 闻 白 衣 宠 ， 唐 年 更 睹 赤 松 游 。 [UNK] [PAD] [PAD] [PAD] [PAD] [PAD] [PAD] [PAD] [PAD] [PAD] [PAD] [PAD] [PAD]\n",
      "y_pred:器用部\n",
      "y_true:器用部\n",
      "----------\n",
      "x_seq:异 代 流 风 多 感 激 ， 草 间 时 有 纳 肝 人 。 [UNK] [PAD] [PAD] [PAD] [PAD] [PAD] [PAD] [PAD] [PAD] [PAD] [PAD] [PAD] [PAD]\n",
      "y_pred:人事部\n",
      "y_true:人体部\n",
      "----------\n",
      "x_seq:敢 云 下 笔 不 加 点 ， 差 喜 临 文 无 愧 辞 。 [UNK] [PAD] [PAD] [PAD] [PAD] [PAD] [PAD] [PAD] [PAD] [PAD] [PAD] [PAD] [PAD]\n",
      "y_pred:人事部\n",
      "y_true:文明部\n",
      "----------\n",
      "END:**************************************************\n",
      "test_example:**************************************************\n",
      "x_seq:天 山 自 可 三 箭 取 ， 海 国 何 劳 一 苇 航 。 [UNK] [PAD] [PAD] [PAD] [PAD] [PAD] [PAD] [PAD] [PAD] [PAD] [PAD] [PAD] [PAD]\n",
      "y_pred:人事部\n",
      "y_true:武备部\n",
      "----------\n",
      "x_seq:宁 戚 饭 牛 图 底 事 ， 陆 通 歌 风 也 无 端 。 [UNK] [PAD] [PAD] [PAD] [PAD] [PAD] [PAD] [PAD] [PAD] [PAD] [PAD] [PAD] [PAD]\n",
      "y_pred:人事部\n",
      "y_true:人事部\n",
      "----------\n",
      "x_seq:极 德 难 忘 寸 草 私 ， 多 愁 长 废 蓼 莪 诗 。 [UNK] [PAD] [PAD] [PAD] [PAD] [PAD] [PAD] [PAD] [PAD] [PAD] [PAD] [PAD] [PAD]\n",
      "y_pred:人事部\n",
      "y_true:文明部\n",
      "----------\n",
      "x_seq:马 援 征 行 在 眼 前 ， 葛 强 亲 近 同 心 事 。 [UNK] [PAD] [PAD] [PAD] [PAD] [PAD] [PAD] [PAD] [PAD] [PAD] [PAD] [PAD] [PAD]\n",
      "y_pred:人事部\n",
      "y_true:人物部\n",
      "----------\n",
      "x_seq:犹 嫌 子 夏 儒 ， 肯 学 樊 迟 稼 。 [UNK] [PAD] [PAD] [PAD] [PAD] [PAD] [PAD] [PAD] [PAD] [PAD] [PAD] [PAD] [PAD] [PAD] [PAD] [PAD] [PAD]\n",
      "y_pred:器用部\n",
      "y_true:人事部\n",
      "----------\n",
      "x_seq:我 以 一 箭 书 ， 能 取 聊 城 功 。 [UNK] [PAD] [PAD] [PAD] [PAD] [PAD] [PAD] [PAD] [PAD] [PAD] [PAD] [PAD] [PAD] [PAD] [PAD] [PAD] [PAD]\n",
      "y_pred:器用部\n",
      "y_true:武备部\n",
      "----------\n",
      "x_seq:功 名 画 地 饼 ， 岁 月 下 江 船 。 [UNK] [PAD] [PAD] [PAD] [PAD] [PAD] [PAD] [PAD] [PAD] [PAD] [PAD] [PAD] [PAD] [PAD] [PAD] [PAD] [PAD]\n",
      "y_pred:器用部\n",
      "y_true:文明部\n",
      "----------\n",
      "x_seq:茹 茶 空 有 叹 ， 怀 橘 独 伤 心 。 [UNK] [PAD] [PAD] [PAD] [PAD] [PAD] [PAD] [PAD] [PAD] [PAD] [PAD] [PAD] [PAD] [PAD] [PAD] [PAD] [PAD]\n",
      "y_pred:人事部\n",
      "y_true:伦类部\n",
      "----------\n",
      "x_seq:穷 巷 悄 然 车 马 绝 ， 案 头 干 死 读 书 萤 。 [UNK] [PAD] [PAD] [PAD] [PAD] [PAD] [PAD] [PAD] [PAD] [PAD] [PAD] [PAD] [PAD]\n",
      "y_pred:器用部\n",
      "y_true:动物部\n",
      "----------\n",
      "x_seq:含 情 傲 睨 慰 心 目 ， 何 可 一 日 无 此 君 。 [UNK] [PAD] [PAD] [PAD] [PAD] [PAD] [PAD] [PAD] [PAD] [PAD] [PAD] [PAD] [PAD]\n",
      "y_pred:器用部\n",
      "y_true:人事部\n",
      "----------\n",
      "END:**************************************************\n"
     ]
    },
    {
     "name": "stderr",
     "output_type": "stream",
     "text": [
      "I:BASE TASK:[base_task.:271]:\t29 training batches\n",
      "I:BASE TASK:[base_task.:272]:\t6 validation batches\n",
      "I:BASE TASK:[base_task.:273]:\t9 test batches\n",
      "I:BASE TASK:[base_task.:270]:Task NER:\n",
      "I:BASE TASK:[base_task.:271]:\t230 training batches\n",
      "I:BASE TASK:[base_task.:272]:\t41 validation batches\n",
      "I:BASE TASK:[base_task.:273]:\t68 test batches\n",
      "I:BERT EMBEDDING:[bert_embed:105]:seq_len:30\n",
      "I:BERT EMBEDDING:[bert_embed:105]:seq_len:30\n",
      "I:AHMTL MODEL:[AHMTL.py:126]:Multi-Task Learning Model has been instantiated.\n",
      "I:CUR_SPLIT:3:[sampler_mu: 92]:Set up ready. Begining training/validation.\n",
      "I:BASE-MODEL:[base_model:133]:NER's model_dir is ./model_ckpt/2020-02-06-10_16_41/3/NER-Naive_CRF_Model\n",
      "I:BASE-MODEL:[base_model:232]:[NER]:train info:Train on 14684 samples, validate on 2592 samples\n",
      "I:BASE-MODEL:[base_model:133]:ALLU_CLASS's model_dir is ./model_ckpt/2020-02-06-10_16_41/3/ALLU_CLASS-NaiveDenseModel\n",
      "I:BASE-MODEL:[base_model:232]:[ALLU_CLASS]:train info:Train on 1814 samples, validate on 321 samples\n"
     ]
    },
    {
     "name": "stdout",
     "output_type": "stream",
     "text": [
      "Epoch 1/50\n",
      "259/259 [==============================] - 126s 486ms/step - task_name:     NER     - loss: 5.7646 - accuracy: 0.8126 - val_loss: 11.0769 - val_accuracy: 0.8105\n",
      "259/259 [==============================] - 126s 486ms/step - task_name: ALLU_CLASS  - loss: 2.4117 - accuracy: 0.2516 - val_loss: 2.5713 - val_accuracy: 0.2604 \n"
     ]
    },
    {
     "name": "stderr",
     "output_type": "stream",
     "text": [
      "I:CUR_SPLIT:3:[sampler_mu:139]:----------------------------------------------------------------------------------------------------\n"
     ]
    },
    {
     "name": "stdout",
     "output_type": "stream",
     "text": [
      "Epoch 2/50\n",
      "259/259 [==============================] - 65s 252ms/step - task_name:     NER     - loss: 4.5700 - accuracy: 0.8282 - val_loss: 10.2743 - val_accuracy: 0.8304\n",
      "259/259 [==============================] - 65s 252ms/step - task_name: ALLU_CLASS  - loss: 1.6272 - accuracy: 0.3639 - val_loss: 2.3823 - val_accuracy: 0.3229 \n"
     ]
    },
    {
     "name": "stderr",
     "output_type": "stream",
     "text": [
      "I:CUR_SPLIT:3:[sampler_mu:139]:----------------------------------------------------------------------------------------------------\n"
     ]
    },
    {
     "name": "stdout",
     "output_type": "stream",
     "text": [
      "Epoch 3/50\n",
      "259/259 [==============================] - 65s 251ms/step - task_name:     NER     - loss: 3.8768 - accuracy: 0.8335 - val_loss: 9.7774 - val_accuracy: 0.8324\n",
      "259/259 [==============================] - 65s 251ms/step - task_name: ALLU_CLASS  - loss: 1.6540 - accuracy: 0.4342 - val_loss: 2.3276 - val_accuracy: 0.3594\n"
     ]
    },
    {
     "name": "stderr",
     "output_type": "stream",
     "text": [
      "I:CUR_SPLIT:3:[sampler_mu:139]:----------------------------------------------------------------------------------------------------\n"
     ]
    },
    {
     "name": "stdout",
     "output_type": "stream",
     "text": [
      "Epoch 4/50\n",
      "259/259 [==============================] - 67s 259ms/step - task_name:     NER     - loss: 3.5568 - accuracy: 0.8378 - val_loss: 9.1874 - val_accuracy: 0.7477\n",
      "259/259 [==============================] - 67s 259ms/step - task_name: ALLU_CLASS  - loss: 1.1042 - accuracy: 0.4993 - val_loss: 2.3510 - val_accuracy: 0.4167\n"
     ]
    },
    {
     "name": "stderr",
     "output_type": "stream",
     "text": [
      "I:CUR_SPLIT:3:[sampler_mu:139]:----------------------------------------------------------------------------------------------------\n"
     ]
    },
    {
     "name": "stdout",
     "output_type": "stream",
     "text": [
      "Epoch 5/50\n",
      "259/259 [==============================] - 66s 256ms/step - task_name:     NER     - loss: 3.0979 - accuracy: 0.8392 - val_loss: 8.9147 - val_accuracy: 0.7476\n",
      "259/259 [==============================] - 66s 256ms/step - task_name: ALLU_CLASS  - loss: 1.4803 - accuracy: 0.5353 - val_loss: 2.3377 - val_accuracy: 0.4141\n"
     ]
    },
    {
     "name": "stderr",
     "output_type": "stream",
     "text": [
      "I:CUR_SPLIT:3:[sampler_mu:139]:----------------------------------------------------------------------------------------------------\n"
     ]
    },
    {
     "name": "stdout",
     "output_type": "stream",
     "text": [
      "Epoch 6/50\n",
      "259/259 [==============================] - 65s 250ms/step - task_name:     NER     - loss: 2.9330 - accuracy: 0.8416 - val_loss: 8.8823 - val_accuracy: 0.7482\n",
      "259/259 [==============================] - 65s 250ms/step - task_name: ALLU_CLASS  - loss: 1.0732 - accuracy: 0.5998 - val_loss: 2.4336 - val_accuracy: 0.3932\n"
     ]
    },
    {
     "name": "stderr",
     "output_type": "stream",
     "text": [
      "I:CUR_SPLIT:3:[sampler_mu:139]:----------------------------------------------------------------------------------------------------\n"
     ]
    },
    {
     "name": "stdout",
     "output_type": "stream",
     "text": [
      "Epoch 7/50\n",
      "259/259 [==============================] - 65s 250ms/step - task_name:     NER     - loss: 2.7212 - accuracy: 0.8405 - val_loss: 8.7797 - val_accuracy: 0.7477\n",
      "259/259 [==============================] - 65s 250ms/step - task_name: ALLU_CLASS  - loss: 1.1130 - accuracy: 0.6438 - val_loss: 2.5018 - val_accuracy: 0.4010\n"
     ]
    },
    {
     "name": "stderr",
     "output_type": "stream",
     "text": [
      "I:CUR_SPLIT:3:[sampler_mu:139]:----------------------------------------------------------------------------------------------------\n"
     ]
    },
    {
     "name": "stdout",
     "output_type": "stream",
     "text": [
      "Epoch 8/50\n",
      "259/259 [==============================] - 65s 252ms/step - task_name:     NER     - loss: 2.6454 - accuracy: 0.8418 - val_loss: 8.7622 - val_accuracy: 0.7477\n",
      "259/259 [==============================] - 65s 252ms/step - task_name: ALLU_CLASS  - loss: 0.9746 - accuracy: 0.6775 - val_loss: 2.6143 - val_accuracy: 0.3880\n"
     ]
    },
    {
     "name": "stderr",
     "output_type": "stream",
     "text": [
      "I:CUR_SPLIT:3:[sampler_mu:139]:----------------------------------------------------------------------------------------------------\n"
     ]
    },
    {
     "name": "stdout",
     "output_type": "stream",
     "text": [
      "Epoch 9/50\n",
      "259/259 [==============================] - 67s 257ms/step - task_name:     NER     - loss: 2.4298 - accuracy: 0.8437 - val_loss: 8.6496 - val_accuracy: 0.7468\n",
      "259/259 [==============================] - 67s 257ms/step - task_name: ALLU_CLASS  - loss: 0.9674 - accuracy: 0.7334 - val_loss: 2.7220 - val_accuracy: 0.3802\n"
     ]
    },
    {
     "name": "stderr",
     "output_type": "stream",
     "text": [
      "I:CUR_SPLIT:3:[sampler_mu:139]:----------------------------------------------------------------------------------------------------\n"
     ]
    },
    {
     "name": "stdout",
     "output_type": "stream",
     "text": [
      "Epoch 10/50\n",
      "259/259 [==============================] - 67s 259ms/step - task_name:     NER     - loss: 2.3278 - accuracy: 0.8475 - val_loss: 8.6916 - val_accuracy: 0.7460\n",
      "259/259 [==============================] - 67s 259ms/step - task_name: ALLU_CLASS  - loss: 0.7179 - accuracy: 0.7796 - val_loss: 2.6423 - val_accuracy: 0.3854\n"
     ]
    },
    {
     "name": "stderr",
     "output_type": "stream",
     "text": [
      "I:CUR_SPLIT:3:[sampler_mu:139]:----------------------------------------------------------------------------------------------------\n"
     ]
    },
    {
     "name": "stdout",
     "output_type": "stream",
     "text": [
      "Epoch 11/50\n",
      "259/259 [==============================] - 6s 22ms/step - task_name: ALLU_CLASS  - loss: 0.7534 - accuracy: 0.7206 - val_loss: 2.7160 - val_accuracy: 0.3750\n"
     ]
    },
    {
     "name": "stderr",
     "output_type": "stream",
     "text": [
      "I:CUR_SPLIT:3:[sampler_mu:139]:----------------------------------------------------------------------------------------------------\n"
     ]
    },
    {
     "name": "stdout",
     "output_type": "stream",
     "text": [
      "\n",
      "----------------------------------NER LABEL METRICS -----------------------------------\n",
      "\n",
      "epoch:labeling EPOCH accuracy 0.830636 precision: 0.499804, recall: 0.295044, f1: 0.371050\n",
      "\n",
      "           precision    recall  f1-score   support\n",
      "\n",
      "     ALLU     0.5000    0.2950    0.3711      4318\n",
      "\n",
      "micro avg     0.4998    0.2950    0.3710      4318\n",
      "macro avg     0.5000    0.2950    0.3711      4318\n",
      "\n",
      "----------------------------------NER END ----------------------------------\n",
      "train_example:**************************************************\n",
      "x_seq:不 似 凤 皇 池 畔 见 , 飘 扬 今 隔 上 林 园 。\n",
      "y_pred:O O B-ALLU I-ALLU I-ALLU O O O O O O O O O O O\n",
      "y_true:O O B-ALLU I-ALLU I-ALLU O O O O O O O O O O O\n",
      "----------\n",
      "x_seq:撤 弦 惊 物 故 , [UNK] 具 见 家 贫 。\n",
      "y_pred:O O O O O O O O O O O O\n",
      "y_true:O O O O O O B-ALLU I-ALLU I-ALLU I-ALLU I-ALLU O\n",
      "----------\n",
      "x_seq:洛 川 昔 云 遇 , 高 唐 今 尚 违 。\n",
      "y_pred:O O O O O O B-ALLU I-ALLU O O O O\n",
      "y_true:O O O O O O B-ALLU I-ALLU O O O O\n",
      "----------\n",
      "x_seq:白 社 会 中 曾 共 醉 , 青 云 路 上 未 相 逢 。\n",
      "y_pred:B-ALLU I-ALLU O O O O O O O O O O O O O O\n",
      "y_true:B-ALLU I-ALLU O O O O O O O O O O O O O O\n",
      "----------\n",
      "x_seq:晋 朝 叔 夜 旧 相 知 , 蜀 郡 文 君 小 来 识 。\n",
      "y_pred:O O O O O O O O O O B-ALLU I-ALLU O O O O\n",
      "y_true:O O O O O O O O O O B-ALLU I-ALLU O O O O\n",
      "----------\n",
      "x_seq:邹 律 有 风 吹 不 变 , [UNK] 枝 无 分 住 应 难 。\n",
      "y_pred:O O O O O O O O O O O O O O O O\n",
      "y_true:O O O O O O O O B-ALLU O O O O O O O\n",
      "----------\n",
      "x_seq:才 雄 望 羔 雁 , 寿 促 背 貂 蝉 。\n",
      "y_pred:O O O O O O O O O B-ALLU I-ALLU O\n",
      "y_true:O O O O O O O O O B-ALLU I-ALLU O\n",
      "----------\n",
      "x_seq:甲 乙 科 攀 桂 , 图 书 阁 践 蓬 。\n",
      "y_pred:O O O O O O O O O O O O\n",
      "y_true:O O O O O O O O B-ALLU I-ALLU I-ALLU O\n",
      "----------\n",
      "x_seq:旧 时 闻 笛 泪 , 今 夜 重 沾 衣 。\n",
      "y_pred:O O B-ALLU I-ALLU I-ALLU O O O O O O O\n",
      "y_true:O O B-ALLU I-ALLU O O O O O O O O\n",
      "----------\n",
      "x_seq:为 应 金 门 策 , 多 应 说 战 机 。\n",
      "y_pred:O O B-ALLU I-ALLU O O O O O O O O\n",
      "y_true:O O B-ALLU I-ALLU O O O O O O O O\n",
      "----------\n",
      "END:**************************************************\n",
      "test_example:**************************************************\n",
      "x_seq:非 通 非 介 人 , 谁 论 四 十 九 。 贤 哉 [UNK] 伯 玉 , 清 风 独 不 朽 。\n",
      "y_pred:O O O O O O O O O O O O O O B-ALLU I-ALLU I-ALLU O O O O O O O\n",
      "y_true:B-ALLU I-ALLU I-ALLU I-ALLU I-ALLU I-ALLU I-ALLU I-ALLU I-ALLU O O O O O O O O O O O O O O O\n",
      "----------\n",
      "x_seq:功 成 拂 衣 去 , 归 人 武 陵 源 。\n",
      "y_pred:O O O O O O O O B-ALLU I-ALLU I-ALLU O\n",
      "y_true:O O O O O O O O B-ALLU I-ALLU I-ALLU O\n",
      "----------\n",
      "x_seq:官 军 西 出 过 楼 兰 , 营 幕 傍 临 月 窟 寒 。\n",
      "y_pred:O O O O O O O O O O O O B-ALLU I-ALLU O O\n",
      "y_true:O O O O O O O O O O O O B-ALLU I-ALLU O O\n",
      "----------\n",
      "x_seq:一 枝 犹 挂 东 堂 梦 , 千 里 空 驰 北 巷 心 。\n",
      "y_pred:O O O O O O O O O O O O O O O O\n",
      "y_true:O O O O B-ALLU I-ALLU O O O O O O O O O O\n",
      "----------\n",
      "x_seq:长 峦 谷 口 倚 嵇 家 , 白 昼 千 峰 老 翠 华 。\n",
      "y_pred:O O O O O B-ALLU I-ALLU O O O O O O O O O\n",
      "y_true:O O O O O B-ALLU O O O O O O O O O O\n",
      "----------\n",
      "x_seq:每 得 樵 风 梗 , 往 来 殊 不 难 。\n",
      "y_pred:O O O O O O O O O O O O\n",
      "y_true:O O B-ALLU I-ALLU O O O O O O O O\n",
      "----------\n",
      "x_seq:未 曾 无 兴 咏 , 多 谢 沈 东 阳 。\n",
      "y_pred:O O O O O O O O B-ALLU O O O\n",
      "y_true:O O O O O O O O B-ALLU I-ALLU I-ALLU O\n",
      "----------\n",
      "x_seq:周 侯 山 [UNK] , 会 稽 霞 举 。\n",
      "y_pred:O O O O O O O O O O\n",
      "y_true:B-ALLU I-ALLU I-ALLU I-ALLU O O O O O O\n",
      "----------\n",
      "x_seq:闻 道 慈 亲 倚 门 待 , 到 时 兰 叶 正 萋 萋 。\n",
      "y_pred:O O O O O O O O O O O O O O O O\n",
      "y_true:O O O O B-ALLU I-ALLU O O O O O O O O O O\n",
      "----------\n",
      "x_seq:塞 垣 万 里 无 飞 鸟 , 可 是 边 城 用 郅 都 。\n",
      "y_pred:O O O O O O O O O O O O O B-ALLU I-ALLU O\n",
      "y_true:O O O O O O O O O O O O O B-ALLU I-ALLU O\n",
      "----------\n",
      "END:**************************************************\n"
     ]
    },
    {
     "name": "stderr",
     "output_type": "stream",
     "text": [
      "/home/liulei/anaconda3/envs/ner_tf2/lib/python3.7/site-packages/sklearn/metrics/classification.py:1437: UndefinedMetricWarning: Precision is ill-defined and being set to 0.0 in labels with no predicted samples.\n",
      "  'precision', 'predicted', average, warn_for)\n",
      "/home/liulei/anaconda3/envs/ner_tf2/lib/python3.7/site-packages/sklearn/metrics/classification.py:1437: UndefinedMetricWarning: F-score is ill-defined and being set to 0.0 in labels with no predicted samples.\n",
      "  'precision', 'predicted', average, warn_for)\n",
      "/home/liulei/anaconda3/envs/ner_tf2/lib/python3.7/site-packages/sklearn/metrics/classification.py:1437: UndefinedMetricWarning: Precision and F-score are ill-defined and being set to 0.0 in labels with no predicted samples.\n",
      "  'precision', 'predicted', average, warn_for)\n"
     ]
    },
    {
     "name": "stdout",
     "output_type": "stream",
     "text": [
      "\n",
      "----------------------------------ALLU_CLASS CLASS METRICS -----------------------------------\n",
      "\n",
      "              precision    recall  f1-score   support\n",
      "    accuracy                         0.3058       533\n",
      "   macro avg     0.2454    0.1182    0.1043       533\n",
      "weighted avg     0.3027    0.3058    0.2065       533\n",
      "\n",
      "\n",
      "epoch:classification EPOCH accuracy: 0.3058161350844278 precision: 0.245408, recall: 0.118231, f1: 0.104287\n",
      "\n",
      "-----------------------------ALLU_CLASS END ----------------------------\n"
     ]
    },
    {
     "name": "stderr",
     "output_type": "stream",
     "text": [
      "I:SAMPLE_TRAINER:[sampler_mu: 43]:cur_split_idx 3th END\n",
      "I:SAMPLE_TRAINER:[sampler_mu: 44]:****************************************************************************************************\n",
      "I:SAMPLE_TRAINER:[sampler_mu: 45]:****************************************************************************************************\n",
      "I:BASE TASK:[base_task.:270]:Task ALLU_CLASS:\n",
      "I:BASE TASK:[base_task.:271]:\t29 training batches\n"
     ]
    },
    {
     "name": "stdout",
     "output_type": "stream",
     "text": [
      "train_example:**************************************************\n",
      "x_seq:贾 氏 窥 帘 韩 [UNK] 少 ， 宓 妃 留 枕 魏 玉 才 。 [UNK] [PAD] [PAD] [PAD] [PAD] [PAD] [PAD] [PAD] [PAD] [PAD] [PAD] [PAD] [PAD]\n",
      "y_pred:人事部\n",
      "y_true:器用部\n",
      "----------\n",
      "x_seq:绅 书 亦 徒 然 ， 脐 噬 嗟 晚 矣 。 [UNK] [PAD] [PAD] [PAD] [PAD] [PAD] [PAD] [PAD] [PAD] [PAD] [PAD] [PAD] [PAD] [PAD] [PAD] [PAD] [PAD]\n",
      "y_pred:人事部\n",
      "y_true:人体部\n",
      "----------\n",
      "x_seq:蚌 [UNK] 徒 喧 竞 ， 笙 歌 罢 献 酬 。 [UNK] [PAD] [PAD] [PAD] [PAD] [PAD] [PAD] [PAD] [PAD] [PAD] [PAD] [PAD] [PAD] [PAD] [PAD] [PAD] [PAD]\n",
      "y_pred:人事部\n",
      "y_true:动物部\n",
      "----------\n",
      "x_seq:身 病 心 轻 安 ， 道 肥 体 [UNK] 瘦 。 [UNK] [PAD] [PAD] [PAD] [PAD] [PAD] [PAD] [PAD] [PAD] [PAD] [PAD] [PAD] [PAD] [PAD] [PAD] [PAD] [PAD]\n",
      "y_pred:人事部\n",
      "y_true:人体部\n",
      "----------\n",
      "x_seq:花 作 蝉 娟 玉 作 妆 ， 风 流 争 似 旧 徐 娘 。 [UNK] [PAD] [PAD] [PAD] [PAD] [PAD] [PAD] [PAD] [PAD] [PAD] [PAD] [PAD] [PAD]\n",
      "y_pred:人物部\n",
      "y_true:人物部\n",
      "----------\n",
      "x_seq:家 鸡 野 骛 同 登 俎 ， 春 蚓 秋 蛇 总 人 [UNK] 。 [UNK] [PAD] [PAD] [PAD] [PAD] [PAD] [PAD] [PAD] [PAD] [PAD] [PAD] [PAD] [PAD]\n",
      "y_pred:动物部\n",
      "y_true:动物部\n",
      "----------\n",
      "x_seq:血 毛 不 见 南 山 虎 ， 想 得 弦 声 裂 石 时 。 [UNK] [PAD] [PAD] [PAD] [PAD] [PAD] [PAD] [PAD] [PAD] [PAD] [PAD] [PAD] [PAD]\n",
      "y_pred:人事部\n",
      "y_true:地理部\n",
      "----------\n",
      "x_seq:洞 房 深 闭 不 曾 开 ， 横 卧 乌 龙 作 妒 媒 。 [UNK] [PAD] [PAD] [PAD] [PAD] [PAD] [PAD] [PAD] [PAD] [PAD] [PAD] [PAD] [PAD]\n",
      "y_pred:人事部\n",
      "y_true:人事部\n",
      "----------\n",
      "x_seq:诗 书 自 可 老 斫 轮 ， 智 略 足 以 解 连 环 。 [UNK] [PAD] [PAD] [PAD] [PAD] [PAD] [PAD] [PAD] [PAD] [PAD] [PAD] [PAD] [PAD]\n",
      "y_pred:人事部\n",
      "y_true:文明部\n",
      "----------\n",
      "x_seq:直 非 头 似 笔 ， 智 谢 里 名 椿 。 [UNK] [PAD] [PAD] [PAD] [PAD] [PAD] [PAD] [PAD] [PAD] [PAD] [PAD] [PAD] [PAD] [PAD] [PAD] [PAD] [PAD]\n",
      "y_pred:人物部\n",
      "y_true:政事部\n",
      "----------\n",
      "END:**************************************************\n",
      "test_example:**************************************************\n",
      "x_seq:陆 家 正 有 诸 郎 在 ， 宝 剑 千 金 更 属 谁 ？ [UNK] [PAD] [PAD] [PAD] [PAD] [PAD] [PAD] [PAD] [PAD] [PAD] [PAD] [PAD] [PAD]\n",
      "y_pred:器用部\n",
      "y_true:武备部\n",
      "----------\n",
      "x_seq:草 木 也 知 春 有 脚 ， 郊 原 争 睹 雨 随 车 。 [UNK] [PAD] [PAD] [PAD] [PAD] [PAD] [PAD] [PAD] [PAD] [PAD] [PAD] [PAD] [PAD]\n",
      "y_pred:人事部\n",
      "y_true:人体部\n",
      "----------\n",
      "x_seq:忽 欣 来 蝶 梦 ， 恰 报 得 牛 眠 。 [UNK] [PAD] [PAD] [PAD] [PAD] [PAD] [PAD] [PAD] [PAD] [PAD] [PAD] [PAD] [PAD] [PAD] [PAD] [PAD] [PAD]\n",
      "y_pred:人事部\n",
      "y_true:人事部\n",
      "----------\n",
      "x_seq:寂 寞 空 馀 歌 舞 地 ， 玉 箫 惊 起 凤 归 天 。 [UNK] [PAD] [PAD] [PAD] [PAD] [PAD] [PAD] [PAD] [PAD] [PAD] [PAD] [PAD] [PAD]\n",
      "y_pred:人事部\n",
      "y_true:人事部\n",
      "----------\n",
      "x_seq:高 卧 北 窗 凉 ， 超 然 寄 疏 豁 。 [UNK] [PAD] [PAD] [PAD] [PAD] [PAD] [PAD] [PAD] [PAD] [PAD] [PAD] [PAD] [PAD] [PAD] [PAD] [PAD] [PAD]\n",
      "y_pred:人事部\n",
      "y_true:天文部\n",
      "----------\n",
      "x_seq:江 郡 讴 谣 夸 杜 母 ， 洛 城 欢 会 忆 车 公 。 [UNK] [PAD] [PAD] [PAD] [PAD] [PAD] [PAD] [PAD] [PAD] [PAD] [PAD] [PAD] [PAD]\n",
      "y_pred:人事部\n",
      "y_true:政事部\n",
      "----------\n",
      "x_seq:新 愁 旧 恨 真 无 奈 ， 须 就 邻 家 瓮 底 眠 。 [UNK] [PAD] [PAD] [PAD] [PAD] [PAD] [PAD] [PAD] [PAD] [PAD] [PAD] [PAD] [PAD]\n",
      "y_pred:人事部\n",
      "y_true:器用部\n",
      "----------\n",
      "x_seq:可 怜 [UNK] 马 史 ， 白 首 为 谁 雄 ？ [UNK] [PAD] [PAD] [PAD] [PAD] [PAD] [PAD] [PAD] [PAD] [PAD] [PAD] [PAD] [PAD] [PAD] [PAD] [PAD] [PAD]\n",
      "y_pred:人事部\n",
      "y_true:人物部\n",
      "----------\n",
      "x_seq:骊 龙 睡 后 珠 元 在 ， 仙 鹤 行 时 步 又 轻 。 [UNK] [PAD] [PAD] [PAD] [PAD] [PAD] [PAD] [PAD] [PAD] [PAD] [PAD] [PAD] [PAD]\n",
      "y_pred:人事部\n",
      "y_true:人事部\n",
      "----------\n",
      "x_seq:地 幽 蚕 室 闭 ， 门 静 雀 罗 开 。 [UNK] [PAD] [PAD] [PAD] [PAD] [PAD] [PAD] [PAD] [PAD] [PAD] [PAD] [PAD] [PAD] [PAD] [PAD] [PAD] [PAD]\n",
      "y_pred:器用部\n",
      "y_true:器用部\n",
      "----------\n",
      "END:**************************************************\n"
     ]
    },
    {
     "name": "stderr",
     "output_type": "stream",
     "text": [
      "I:BASE TASK:[base_task.:272]:\t6 validation batches\n",
      "I:BASE TASK:[base_task.:273]:\t9 test batches\n",
      "I:BASE TASK:[base_task.:270]:Task NER:\n",
      "I:BASE TASK:[base_task.:271]:\t230 training batches\n",
      "I:BASE TASK:[base_task.:272]:\t41 validation batches\n",
      "I:BASE TASK:[base_task.:273]:\t68 test batches\n",
      "I:BERT EMBEDDING:[bert_embed:105]:seq_len:30\n",
      "I:BERT EMBEDDING:[bert_embed:105]:seq_len:30\n",
      "I:AHMTL MODEL:[AHMTL.py:126]:Multi-Task Learning Model has been instantiated.\n",
      "I:CUR_SPLIT:4:[sampler_mu: 92]:Set up ready. Begining training/validation.\n",
      "I:BASE-MODEL:[base_model:133]:NER's model_dir is ./model_ckpt/2020-02-06-10_16_41/4/NER-Naive_CRF_Model\n",
      "I:BASE-MODEL:[base_model:232]:[NER]:train info:Train on 14684 samples, validate on 2592 samples\n",
      "I:BASE-MODEL:[base_model:133]:ALLU_CLASS's model_dir is ./model_ckpt/2020-02-06-10_16_41/4/ALLU_CLASS-NaiveDenseModel\n",
      "I:BASE-MODEL:[base_model:232]:[ALLU_CLASS]:train info:Train on 1814 samples, validate on 321 samples\n"
     ]
    },
    {
     "name": "stdout",
     "output_type": "stream",
     "text": [
      "Epoch 1/50\n",
      "259/259 [==============================] - 130s 500ms/step - task_name:     NER     - loss: 5.8744 - accuracy: 0.8003 - val_loss: 11.4009 - val_accuracy: 0.7533\n",
      "259/259 [==============================] - 130s 500ms/step - task_name: ALLU_CLASS  - loss: 2.7958 - accuracy: 0.2571 - val_loss: 2.4435 - val_accuracy: 0.3229 \n"
     ]
    },
    {
     "name": "stderr",
     "output_type": "stream",
     "text": [
      "I:CUR_SPLIT:4:[sampler_mu:139]:----------------------------------------------------------------------------------------------------\n"
     ]
    },
    {
     "name": "stdout",
     "output_type": "stream",
     "text": [
      "Epoch 2/50\n",
      "259/259 [==============================] - 65s 250ms/step - task_name:     NER     - loss: 4.3418 - accuracy: 0.8190 - val_loss: 10.4895 - val_accuracy: 0.7558\n",
      "259/259 [==============================] - 65s 250ms/step - task_name: ALLU_CLASS  - loss: 2.4077 - accuracy: 0.3554 - val_loss: 2.2917 - val_accuracy: 0.3828 \n"
     ]
    },
    {
     "name": "stderr",
     "output_type": "stream",
     "text": [
      "I:CUR_SPLIT:4:[sampler_mu:139]:----------------------------------------------------------------------------------------------------\n"
     ]
    },
    {
     "name": "stdout",
     "output_type": "stream",
     "text": [
      "Epoch 3/50\n",
      "259/259 [==============================] - 65s 251ms/step - task_name:     NER     - loss: 3.8565 - accuracy: 0.8237 - val_loss: 9.9886 - val_accuracy: 0.7542\n",
      "259/259 [==============================] - 65s 251ms/step - task_name: ALLU_CLASS  - loss: 1.9798 - accuracy: 0.4048 - val_loss: 2.2962 - val_accuracy: 0.3880\n"
     ]
    },
    {
     "name": "stderr",
     "output_type": "stream",
     "text": [
      "I:CUR_SPLIT:4:[sampler_mu:139]:----------------------------------------------------------------------------------------------------\n"
     ]
    },
    {
     "name": "stdout",
     "output_type": "stream",
     "text": [
      "Epoch 4/50\n",
      "259/259 [==============================] - 67s 258ms/step - task_name:     NER     - loss: 3.5219 - accuracy: 0.8250 - val_loss: 9.6578 - val_accuracy: 0.7433\n",
      "259/259 [==============================] - 67s 258ms/step - task_name: ALLU_CLASS  - loss: 1.7198 - accuracy: 0.4464 - val_loss: 2.3324 - val_accuracy: 0.3542\n"
     ]
    },
    {
     "name": "stderr",
     "output_type": "stream",
     "text": [
      "I:CUR_SPLIT:4:[sampler_mu:139]:----------------------------------------------------------------------------------------------------\n"
     ]
    },
    {
     "name": "stdout",
     "output_type": "stream",
     "text": [
      "Epoch 5/50\n",
      "259/259 [==============================] - 64s 249ms/step - task_name:     NER     - loss: 3.1669 - accuracy: 0.8235 - val_loss: 9.3050 - val_accuracy: 0.7441\n",
      "259/259 [==============================] - 64s 249ms/step - task_name: ALLU_CLASS  - loss: 1.9505 - accuracy: 0.4878 - val_loss: 2.2236 - val_accuracy: 0.4010\n"
     ]
    },
    {
     "name": "stderr",
     "output_type": "stream",
     "text": [
      "I:CUR_SPLIT:4:[sampler_mu:139]:----------------------------------------------------------------------------------------------------\n"
     ]
    },
    {
     "name": "stdout",
     "output_type": "stream",
     "text": [
      "Epoch 6/50\n",
      "259/259 [==============================] - 67s 259ms/step - task_name:     NER     - loss: 3.1106 - accuracy: 0.8246 - val_loss: 9.2014 - val_accuracy: 0.7425\n",
      "259/259 [==============================] - 67s 259ms/step - task_name: ALLU_CLASS  - loss: 1.2640 - accuracy: 0.5276 - val_loss: 2.3282 - val_accuracy: 0.3516\n"
     ]
    },
    {
     "name": "stderr",
     "output_type": "stream",
     "text": [
      "I:CUR_SPLIT:4:[sampler_mu:139]:----------------------------------------------------------------------------------------------------\n"
     ]
    },
    {
     "name": "stdout",
     "output_type": "stream",
     "text": [
      "Epoch 7/50\n",
      "259/259 [==============================] - 67s 260ms/step - task_name:     NER     - loss: 3.0029 - accuracy: 0.8247 - val_loss: 8.9213 - val_accuracy: 0.7407\n",
      "259/259 [==============================] - 67s 260ms/step - task_name: ALLU_CLASS  - loss: 0.9102 - accuracy: 0.5625 - val_loss: 2.3715 - val_accuracy: 0.3698\n"
     ]
    },
    {
     "name": "stderr",
     "output_type": "stream",
     "text": [
      "I:CUR_SPLIT:4:[sampler_mu:139]:----------------------------------------------------------------------------------------------------\n"
     ]
    },
    {
     "name": "stdout",
     "output_type": "stream",
     "text": [
      "Epoch 8/50\n",
      "259/259 [==============================] - 67s 258ms/step - task_name:     NER     - loss: 2.6946 - accuracy: 0.8270 - val_loss: 8.7097 - val_accuracy: 0.7394\n",
      "259/259 [==============================] - 67s 258ms/step - task_name: ALLU_CLASS  - loss: 1.3938 - accuracy: 0.5966 - val_loss: 2.4962 - val_accuracy: 0.3333\n"
     ]
    },
    {
     "name": "stderr",
     "output_type": "stream",
     "text": [
      "I:CUR_SPLIT:4:[sampler_mu:139]:----------------------------------------------------------------------------------------------------\n"
     ]
    },
    {
     "name": "stdout",
     "output_type": "stream",
     "text": [
      "Epoch 9/50\n",
      "259/259 [==============================] - 65s 252ms/step - task_name:     NER     - loss: 2.6823 - accuracy: 0.8278 - val_loss: 8.7738 - val_accuracy: 0.7408\n",
      "259/259 [==============================] - 65s 252ms/step - task_name: ALLU_CLASS  - loss: 0.9614 - accuracy: 0.6219 - val_loss: 2.5003 - val_accuracy: 0.3880\n"
     ]
    },
    {
     "name": "stderr",
     "output_type": "stream",
     "text": [
      "I:CUR_SPLIT:4:[sampler_mu:139]:----------------------------------------------------------------------------------------------------\n"
     ]
    },
    {
     "name": "stdout",
     "output_type": "stream",
     "text": [
      "Epoch 10/50\n",
      "259/259 [==============================] - 3s 13ms/step - task_name: ALLU_CLASS  - loss: 0.7481 - accuracy: 0.5188 - val_loss: 2.3277 - val_accuracy: 0.3542\n"
     ]
    },
    {
     "name": "stderr",
     "output_type": "stream",
     "text": [
      "I:CUR_SPLIT:4:[sampler_mu:139]:----------------------------------------------------------------------------------------------------\n"
     ]
    },
    {
     "name": "stdout",
     "output_type": "stream",
     "text": [
      "Epoch 11/50\n",
      "259/259 [==============================] - 6s 25ms/step - task_name: ALLU_CLASS  - loss: 1.2748 - accuracy: 0.5938 - val_loss: 2.3465 - val_accuracy: 0.3724\n"
     ]
    },
    {
     "name": "stderr",
     "output_type": "stream",
     "text": [
      "I:CUR_SPLIT:4:[sampler_mu:139]:----------------------------------------------------------------------------------------------------\n"
     ]
    },
    {
     "name": "stdout",
     "output_type": "stream",
     "text": [
      "Epoch 12/50\n",
      "259/259 [==============================] - 6s 24ms/step - task_name: ALLU_CLASS  - loss: 1.0331 - accuracy: 0.6600 - val_loss: 2.3846 - val_accuracy: 0.3620\n"
     ]
    },
    {
     "name": "stderr",
     "output_type": "stream",
     "text": [
      "I:CUR_SPLIT:4:[sampler_mu:139]:----------------------------------------------------------------------------------------------------\n"
     ]
    },
    {
     "name": "stdout",
     "output_type": "stream",
     "text": [
      "\n",
      "----------------------------------NER LABEL METRICS -----------------------------------\n",
      "\n",
      "epoch:labeling EPOCH accuracy 0.837079 precision: 0.472222, recall: 0.370250, f1: 0.415065\n",
      "\n",
      "           precision    recall  f1-score   support\n",
      "\n",
      "     ALLU     0.4724    0.3703    0.4151      4316\n",
      "\n",
      "micro avg     0.4722    0.3703    0.4151      4316\n",
      "macro avg     0.4724    0.3703    0.4151      4316\n",
      "\n",
      "----------------------------------NER END ----------------------------------\n",
      "train_example:**************************************************\n",
      "x_seq:议 高 通 白 虎 , 谏 切 伏 青 蒲 。\n",
      "y_pred:O O O O O O O O O B-ALLU I-ALLU O\n",
      "y_true:B-ALLU I-ALLU I-ALLU I-ALLU O O O O O O O O\n",
      "----------\n",
      "x_seq:功 名 思 马 援 , 歌 唱 咽 羊 昙 。\n",
      "y_pred:O O O O O O O O O O O O\n",
      "y_true:O O O O O O O O O B-ALLU I-ALLU O\n",
      "----------\n",
      "x_seq:酒 阑 击 筑 语 , 及 此 离 会 因 。\n",
      "y_pred:O O B-ALLU I-ALLU O O O O O O O O\n",
      "y_true:O O B-ALLU I-ALLU O O O O O O O O\n",
      "----------\n",
      "x_seq:家 山 春 更 好 , 越 鸟 在 庭 柯 。\n",
      "y_pred:O O O O O O B-ALLU I-ALLU O O O O\n",
      "y_true:O O O O O O B-ALLU I-ALLU O O O O\n",
      "----------\n",
      "x_seq:红 迷 天 子 帆 边 日 , 紫 夺 星 郎 帐 外 兰 。\n",
      "y_pred:O O O O O O O O O O B-ALLU I-ALLU O O O O\n",
      "y_true:O O O O O O O O O O B-ALLU I-ALLU O O O O\n",
      "----------\n",
      "x_seq:盘 薄 荆 之 门 , 滔 滔 南 国 纪 。\n",
      "y_pred:O O O O O O O O B-ALLU I-ALLU I-ALLU O\n",
      "y_true:O O O O O O O O B-ALLU I-ALLU I-ALLU O\n",
      "----------\n",
      "x_seq:唯 将 酒 作 圣 , 不 厌 谷 名 愚 。\n",
      "y_pred:O O O O O O O O B-ALLU I-ALLU I-ALLU O\n",
      "y_true:O O B-ALLU O O O O O O O O O\n",
      "----------\n",
      "x_seq:鹿 鸣 验 食 野 , 鱼 乐 知 观 濠 。\n",
      "y_pred:B-ALLU I-ALLU O O O O O O O O O O\n",
      "y_true:B-ALLU I-ALLU O O O O O O O O O O\n",
      "----------\n",
      "x_seq:几 分 汉 廷 竹 , 夙 拥 文 侯 彗 。\n",
      "y_pred:O O O O O O O O B-ALLU I-ALLU I-ALLU O\n",
      "y_true:O O O O O O O O B-ALLU I-ALLU I-ALLU O\n",
      "----------\n",
      "x_seq:身 犹 纳 履 误 , 情 为 覆 盆 伤 。\n",
      "y_pred:O O O O O O O O B-ALLU I-ALLU O O\n",
      "y_true:O O O O O O O O B-ALLU I-ALLU O O\n",
      "----------\n",
      "END:**************************************************\n",
      "test_example:**************************************************\n",
      "x_seq:别 有 妖 妍 胜 桃 李 , 攀 来 折 去 亦 成 蹊 。\n",
      "y_pred:O O O O O B-ALLU I-ALLU O B-ALLU I-ALLU I-ALLU I-ALLU I-ALLU I-ALLU I-ALLU O\n",
      "y_true:O O O O O O O O O O O O O B-ALLU I-ALLU O\n",
      "----------\n",
      "x_seq:榻 因 徐 孺 解 , 醴 为 穆 生 陈 。\n",
      "y_pred:O O O O O O O O O O O O\n",
      "y_true:O O O O O O B-ALLU I-ALLU I-ALLU I-ALLU O O\n",
      "----------\n",
      "x_seq:止 陪 [UNK] 鹭 居 清 秩 , 滥 应 星 辰 [UNK] 上 玄 。\n",
      "y_pred:O O O O O O O O O O O O O O O O\n",
      "y_true:O O B-ALLU O O O O O O O O O O O O O\n",
      "----------\n",
      "x_seq:辕 门 拜 首 儒 衣 弊 , 貌 似 牢 之 岂 不 怜 。\n",
      "y_pred:O O O O O O O O O O B-ALLU I-ALLU O O O O\n",
      "y_true:O O O O O O O O B-ALLU I-ALLU I-ALLU I-ALLU O O O O\n",
      "----------\n",
      "x_seq:系 书 无 浪 语 , 愁 寂 故 山 薇 。\n",
      "y_pred:B-ALLU I-ALLU O O O O O O O O O O\n",
      "y_true:B-ALLU I-ALLU O O O O O O O O O O\n",
      "----------\n",
      "x_seq:对 案 临 青 玉 , 窥 书 捧 紫 泥 。\n",
      "y_pred:O O O O O O O O O O O O\n",
      "y_true:O O O O O O O B-ALLU I-ALLU I-ALLU O O\n",
      "----------\n",
      "x_seq:陶 令 多 真 意 , 相 思 一 解 颜 。\n",
      "y_pred:B-ALLU I-ALLU O O O O O O O O O O\n",
      "y_true:B-ALLU I-ALLU O O O O O O O O O O\n",
      "----------\n",
      "x_seq:由 来 强 干 地 , 未 有 不 臣 朝 。\n",
      "y_pred:O O B-ALLU I-ALLU O O O O B-ALLU I-ALLU O O\n",
      "y_true:O O B-ALLU I-ALLU O O O O O O O O\n",
      "----------\n",
      "x_seq:秦 家 祖 龙 还 刻 石 , 碣 石 之 [UNK] 李 斯 迹 。\n",
      "y_pred:O O O O O O O O O O O O O O O O\n",
      "y_true:O O O O O O B-ALLU I-ALLU I-ALLU O O O O O O O\n",
      "----------\n",
      "x_seq:忽 思 鲈 鱼 [UNK] , 复 有 沧 洲 心 。\n",
      "y_pred:O O O O O O O O B-ALLU I-ALLU O O\n",
      "y_true:O O O O O O O O B-ALLU I-ALLU O O\n",
      "----------\n",
      "END:**************************************************\n"
     ]
    },
    {
     "name": "stderr",
     "output_type": "stream",
     "text": [
      "/home/liulei/anaconda3/envs/ner_tf2/lib/python3.7/site-packages/sklearn/metrics/classification.py:1437: UndefinedMetricWarning: Precision is ill-defined and being set to 0.0 in labels with no predicted samples.\n",
      "  'precision', 'predicted', average, warn_for)\n",
      "/home/liulei/anaconda3/envs/ner_tf2/lib/python3.7/site-packages/sklearn/metrics/classification.py:1437: UndefinedMetricWarning: F-score is ill-defined and being set to 0.0 in labels with no predicted samples.\n",
      "  'precision', 'predicted', average, warn_for)\n",
      "/home/liulei/anaconda3/envs/ner_tf2/lib/python3.7/site-packages/sklearn/metrics/classification.py:1437: UndefinedMetricWarning: Precision and F-score are ill-defined and being set to 0.0 in labels with no predicted samples.\n",
      "  'precision', 'predicted', average, warn_for)\n"
     ]
    },
    {
     "name": "stdout",
     "output_type": "stream",
     "text": [
      "\n",
      "----------------------------------ALLU_CLASS CLASS METRICS -----------------------------------\n",
      "\n",
      "              precision    recall  f1-score   support\n",
      "    accuracy                         0.2871       533\n",
      "   macro avg     0.1181    0.1203    0.0981       533\n",
      "weighted avg     0.2075    0.2871    0.2040       533\n",
      "\n",
      "\n",
      "epoch:classification EPOCH accuracy: 0.2870544090056285 precision: 0.118091, recall: 0.120262, f1: 0.098107\n",
      "\n",
      "-----------------------------ALLU_CLASS END ----------------------------\n"
     ]
    },
    {
     "name": "stderr",
     "output_type": "stream",
     "text": [
      "I:SAMPLE_TRAINER:[sampler_mu: 43]:cur_split_idx 4th END\n",
      "I:SAMPLE_TRAINER:[sampler_mu: 44]:****************************************************************************************************\n",
      "I:SAMPLE_TRAINER:[sampler_mu: 45]:****************************************************************************************************\n"
     ]
    },
    {
     "name": "stdout",
     "output_type": "stream",
     "text": [
      "train_example:**************************************************\n",
      "x_seq:虚 历 金 华 省 ， 何 殊 地 下 郎 ？ [UNK] [PAD] [PAD] [PAD] [PAD] [PAD] [PAD] [PAD] [PAD] [PAD] [PAD] [PAD] [PAD] [PAD] [PAD] [PAD] [PAD]\n",
      "y_pred:人物部\n",
      "y_true:人物部\n",
      "----------\n",
      "x_seq:开 眉 既 压 后 ， 染 指 偷 尝 处 。 [UNK] [PAD] [PAD] [PAD] [PAD] [PAD] [PAD] [PAD] [PAD] [PAD] [PAD] [PAD] [PAD] [PAD] [PAD] [PAD] [PAD]\n",
      "y_pred:器用部\n",
      "y_true:人事部\n",
      "----------\n",
      "x_seq:东 指 羲 和 能 走 马 ， 海 尘 新 生 石 山 下 。 [UNK] [PAD] [PAD] [PAD] [PAD] [PAD] [PAD] [PAD] [PAD] [PAD] [PAD] [PAD] [PAD]\n",
      "y_pred:人事部\n",
      "y_true:地理部\n",
      "----------\n",
      "x_seq:上 医 医 国 本 恒 理 ， 况 有 高 文 比 秋 水 。 [UNK] [PAD] [PAD] [PAD] [PAD] [PAD] [PAD] [PAD] [PAD] [PAD] [PAD] [PAD] [PAD]\n",
      "y_pred:人物部\n",
      "y_true:人物部\n",
      "----------\n",
      "x_seq:叶 怯 穿 杨 箭 ， 囊 藏 透 颖 锥 。 [UNK] [PAD] [PAD] [PAD] [PAD] [PAD] [PAD] [PAD] [PAD] [PAD] [PAD] [PAD] [PAD] [PAD] [PAD] [PAD] [PAD]\n",
      "y_pred:器用部\n",
      "y_true:武备部\n",
      "----------\n",
      "x_seq:旅 馆 夜 忧 姜 被 冷 ， 暮 江 寒 觉 晏 裘 轻 。 [UNK] [PAD] [PAD] [PAD] [PAD] [PAD] [PAD] [PAD] [PAD] [PAD] [PAD] [PAD] [PAD]\n",
      "y_pred:器用部\n",
      "y_true:器用部\n",
      "----------\n",
      "x_seq:功 名 思 马 援 ， 歌 唱 咽 羊 昙 。 [UNK] [PAD] [PAD] [PAD] [PAD] [PAD] [PAD] [PAD] [PAD] [PAD] [PAD] [PAD] [PAD] [PAD] [PAD] [PAD] [PAD]\n",
      "y_pred:人事部\n",
      "y_true:人事部\n",
      "----------\n",
      "x_seq:野 老 不 知 尧 舜 力 ， 酣 歌 一 曲 太 平 人 。 [UNK] [PAD] [PAD] [PAD] [PAD] [PAD] [PAD] [PAD] [PAD] [PAD] [PAD] [PAD] [PAD]\n",
      "y_pred:人事部\n",
      "y_true:人物部\n",
      "----------\n",
      "x_seq:平 舆 之 渊 ， 有 二 龙 焉 。 ' [UNK] [PAD] [PAD] [PAD] [PAD] [PAD] [PAD] [PAD] [PAD] [PAD] [PAD] [PAD] [PAD] [PAD] [PAD] [PAD] [PAD] [PAD]\n",
      "y_pred:动物部\n",
      "y_true:动物部\n",
      "----------\n",
      "x_seq:月 明 休 近 相 思 树 ， 恐 有 韩 凭 一 处 栖 。 [UNK] [PAD] [PAD] [PAD] [PAD] [PAD] [PAD] [PAD] [PAD] [PAD] [PAD] [PAD] [PAD]\n",
      "y_pred:人事部\n",
      "y_true:人事部\n",
      "----------\n",
      "END:**************************************************\n",
      "test_example:**************************************************\n",
      "x_seq:灰 死 如 我 心 ， 雪 白 如 我 发 。 [UNK] [PAD] [PAD] [PAD] [PAD] [PAD] [PAD] [PAD] [PAD] [PAD] [PAD] [PAD] [PAD] [PAD] [PAD] [PAD] [PAD]\n",
      "y_pred:人事部\n",
      "y_true:人事部\n",
      "----------\n",
      "x_seq:汲 黯 薪 逾 积 ， 孙 弘 阁 未 开 。 [UNK] [PAD] [PAD] [PAD] [PAD] [PAD] [PAD] [PAD] [PAD] [PAD] [PAD] [PAD] [PAD] [PAD] [PAD] [PAD] [PAD]\n",
      "y_pred:器用部\n",
      "y_true:器用部\n",
      "----------\n",
      "x_seq:致 君 丹 槛 折 ， 哭 友 白 云 长 。 [UNK] [PAD] [PAD] [PAD] [PAD] [PAD] [PAD] [PAD] [PAD] [PAD] [PAD] [PAD] [PAD] [PAD] [PAD] [PAD] [PAD]\n",
      "y_pred:人事部\n",
      "y_true:政事部\n",
      "----------\n",
      "x_seq:我 闻 西 汉 日 ， 四 老 南 山 幽 。 [UNK] [PAD] [PAD] [PAD] [PAD] [PAD] [PAD] [PAD] [PAD] [PAD] [PAD] [PAD] [PAD] [PAD] [PAD] [PAD] [PAD]\n",
      "y_pred:人事部\n",
      "y_true:人事部\n",
      "----------\n",
      "x_seq:武 子 窗 尘 积 ， 隋 家 苑 树 深 。 [UNK] [PAD] [PAD] [PAD] [PAD] [PAD] [PAD] [PAD] [PAD] [PAD] [PAD] [PAD] [PAD] [PAD] [PAD] [PAD] [PAD]\n",
      "y_pred:器用部\n",
      "y_true:器用部\n",
      "----------\n",
      "x_seq:莫 笑 冯 唐 老 ， 还 来 谒 圣 君 。 [UNK] [PAD] [PAD] [PAD] [PAD] [PAD] [PAD] [PAD] [PAD] [PAD] [PAD] [PAD] [PAD] [PAD] [PAD] [PAD] [PAD]\n",
      "y_pred:人事部\n",
      "y_true:人事部\n",
      "----------\n",
      "x_seq:寒 谷 谩 劳 邹 氏 律 ， 长 天 独 遇 宋 都 风 。 [UNK] [PAD] [PAD] [PAD] [PAD] [PAD] [PAD] [PAD] [PAD] [PAD] [PAD] [PAD] [PAD]\n",
      "y_pred:人事部\n",
      "y_true:文明部\n",
      "----------\n",
      "x_seq:蜜 房 各 自 开 户 [UNK] ， 蚁 穴 或 梦 封 侯 王 。 [UNK] [PAD] [PAD] [PAD] [PAD] [PAD] [PAD] [PAD] [PAD] [PAD] [PAD] [PAD] [PAD]\n",
      "y_pred:器用部\n",
      "y_true:人事部\n",
      "----------\n",
      "x_seq:岂 无 嵇 绍 血 ， 沾 洒 属 车 尘 。 [UNK] [PAD] [PAD] [PAD] [PAD] [PAD] [PAD] [PAD] [PAD] [PAD] [PAD] [PAD] [PAD] [PAD] [PAD] [PAD] [PAD]\n",
      "y_pred:人事部\n",
      "y_true:政事部\n",
      "----------\n",
      "x_seq:安 能 以 此 上 论 列 ， 愿 借 辩 口 如 悬 河 。 [UNK] [PAD] [PAD] [PAD] [PAD] [PAD] [PAD] [PAD] [PAD] [PAD] [PAD] [PAD] [PAD]\n",
      "y_pred:人事部\n",
      "y_true:人体部\n",
      "----------\n",
      "END:**************************************************\n"
     ]
    }
   ],
   "source": [
    "allu_def_seq_len = poem_seq_len\n",
    "trainer = SamplerMultiTaskTrainer(task_list=task_list,\n",
    "                                  batch_size=64,\n",
    "                                  total_epochs=50,\n",
    "                                  poem_seq_len=poem_seq_len,\n",
    "                                  allu_def_seq_len=allu_def_seq_len)\n",
    "\n",
    "final_res = trainer.train()\n"
   ]
  },
  {
   "cell_type": "code",
   "execution_count": 4,
   "metadata": {},
   "outputs": [],
   "source": [
    "from kashgari.utils import compute_mean_metrics\n",
    "from kashgari.utils import plot_final_res"
   ]
  },
  {
   "cell_type": "code",
   "execution_count": 5,
   "metadata": {},
   "outputs": [
    {
     "name": "stdout",
     "output_type": "stream",
     "text": [
      "NER\t[0.83233406 0.45482812 0.30275405 0.36246124]\n",
      "ALLU_CLASS\t[0.28449171 0.14820352 0.12023383 0.0987279 ]\n"
     ]
    },
    {
     "data": {
      "image/png": "[encoded data removed]",
      "text/plain": [
       "<Figure size 1440x576 with 10 Axes>"
      ]
     },
     "metadata": {
      "needs_background": "light"
     },
     "output_type": "display_data"
    },
    {
     "data": {
      "image/png": "[encoded data removed]",
      "text/plain": [
       "<Figure size 1440x576 with 10 Axes>"
      ]
     },
     "metadata": {
      "needs_background": "light"
     },
     "output_type": "display_data"
    }
   ],
   "source": [
    "compute_mean_metrics(final_res)\n",
    "plot_final_res(final_res)"
   ]
  }
 ],
 "metadata": {
  "kernelspec": {
   "display_name": "Python [conda env:ner_tf2] *",
   "language": "python",
   "name": "conda-env-ner_tf2-py"
  },
  "language_info": {
   "codemirror_mode": {
    "name": "ipython",
    "version": 3
   },
   "file_extension": ".py",
   "mimetype": "text/x-python",
   "name": "python",
   "nbconvert_exporter": "python",
   "pygments_lexer": "ipython3",
   "version": "3.7.4"
  },
  "toc": {
   "base_numbering": 1,
   "nav_menu": {},
   "number_sections": true,
   "sideBar": true,
   "skip_h1_title": false,
   "title_cell": "Table of Contents",
   "title_sidebar": "Contents",
   "toc_cell": false,
   "toc_position": {},
   "toc_section_display": true,
   "toc_window_display": false
  }
 },
 "nbformat": 4,
 "nbformat_minor": 2
}
