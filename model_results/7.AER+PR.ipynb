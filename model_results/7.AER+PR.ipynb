{
 "cells": [
  {
   "cell_type": "code",
   "execution_count": 1,
   "metadata": {},
   "outputs": [
    {
     "name": "stdout",
     "output_type": "stream",
     "text": [
      "2.0.0\n",
      "Num GPUs Available:  1\n",
      "Device mapping:\n",
      "/job:localhost/replica:0/task:0/device:XLA_CPU:0 -> device: XLA_CPU device\n",
      "/job:localhost/replica:0/task:0/device:XLA_GPU:0 -> device: XLA_GPU device\n",
      "/job:localhost/replica:0/task:0/device:GPU:0 -> device: 0, name: TITAN RTX, pci bus id: 0000:05:00.0, compute capability: 7.5\n",
      "\n"
     ]
    },
    {
     "data": {
      "text/plain": [
       "<tensorflow.python.client.session.Session at 0x7f01c01dd410>"
      ]
     },
     "execution_count": 1,
     "metadata": {},
     "output_type": "execute_result"
    }
   ],
   "source": [
    "#!/usr/bin/env python\n",
    "# -*- coding: utf-8 -*-\n",
    "# @Time    : 2020/1/13 16:28\n",
    "# @Author  : Shark\n",
    "# @Site    :\n",
    "# @File    : tsts_trainer.py\n",
    "# @Software: PyCharm\n",
    "\n",
    "import os\n",
    "os.environ[\"CUDA_VISIBLE_DEVICES\"] = \"1\"\n",
    "os.environ['TF_CPP_MIN_LOG_LEVEL'] = '2'\n",
    "\n",
    "import tensorflow as tf\n",
    "\n",
    "print(tf.__version__)\n",
    "print(\"Num GPUs Available: \", len(tf.config.experimental.list_physical_devices('GPU')))\n",
    "\n",
    "# On CPU/GPU placement\n",
    "config = tf.compat.v1.ConfigProto(allow_soft_placement=True, log_device_placement=True)\n",
    "config.gpu_options.allow_growth = True\n",
    "tf.compat.v1.Session(config=config)"
   ]
  },
  {
   "cell_type": "code",
   "execution_count": 2,
   "metadata": {},
   "outputs": [
    {
     "name": "stdout",
     "output_type": "stream",
     "text": [
      "Device mapping:\n",
      "/job:localhost/replica:0/task:0/device:XLA_CPU:0 -> device: XLA_CPU device\n",
      "/job:localhost/replica:0/task:0/device:XLA_GPU:0 -> device: XLA_GPU device\n",
      "/job:localhost/replica:0/task:0/device:GPU:0 -> device: 0, name: TITAN RTX, pci bus id: 0000:05:00.0, compute capability: 7.5\n",
      "\n"
     ]
    },
    {
     "name": "stderr",
     "output_type": "stream",
     "text": [
      "I:LOAD NER CORPUS:[ner_task.p: 65]:loaded 21596 samples from ./allusion_corpus/train.data. Samples:\n",
      "x[0]: ['纶', '綍', '谋', '猷', '盛', ',', '丹', '青', '步', '武', '亲', '。']\n",
      "y[0]: ['B-ALLU', 'I-ALLU', 'O', 'O', 'O', 'O', 'O', 'O', 'O', 'O', 'O', 'O']\n"
     ]
    }
   ],
   "source": [
    "from kashgari.trainer.sampler_multi_task_trainer import SamplerMultiTaskTrainer\n",
    "from kashgari.task import ReadabilityTask, NerTask, AlluSourceTask,AlluClassTask\n",
    "from kashgari.processors import ClassificationProcessor, LabelingProcessor\n",
    "\n",
    "poem_seq_len = 30\n",
    "task_list = []\n",
    "\n",
    "processor = ClassificationProcessor(vocab_path=\"../pretrained_embedding/bert/poem_chinese_L-12_H-768_A-12/\")\n",
    "readability_task = ReadabilityTask(processor,\n",
    "                                   \"./allusion_corpus\",\n",
    "                                   poem_seq_len)\n",
    "task_list.append(readability_task)\n",
    "\n",
    "processor = LabelingProcessor(vocab_path=\"../pretrained_embedding/bert/poem_chinese_L-12_H-768_A-12/\")\n",
    "ner_task = NerTask(processor,\n",
    "                   \"./allusion_corpus\",\n",
    "                   poem_seq_len)\n",
    "task_list.append(ner_task)"
   ]
  },
  {
   "cell_type": "code",
   "execution_count": 3,
   "metadata": {
    "scrolled": true
   },
   "outputs": [
    {
     "name": "stderr",
     "output_type": "stream",
     "text": [
      "I:BASE TASK:[base_task.:270]:Task READABILITY:\n",
      "I:BASE TASK:[base_task.:271]:\t21 training batches\n",
      "I:BASE TASK:[base_task.:272]:\t4 validation batches\n",
      "I:BASE TASK:[base_task.:273]:\t6 test batches\n",
      "I:BASE TASK:[base_task.:270]:Task NER:\n",
      "I:BASE TASK:[base_task.:271]:\t230 training batches\n",
      "I:BASE TASK:[base_task.:272]:\t41 validation batches\n",
      "I:BASE TASK:[base_task.:273]:\t68 test batches\n",
      "I:BERT EMBEDDING:[bert_embed:105]:seq_len:30\n",
      "I:BERT EMBEDDING:[bert_embed:105]:seq_len:30\n",
      "I:AHMTL MODEL:[AHMTL.py:126]:Multi-Task Learning Model has been instantiated.\n",
      "I:CUR_SPLIT:0:[sampler_mu: 92]:Set up ready. Begining training/validation.\n",
      "I:BASE-MODEL:[base_model:133]:NER's model_dir is ./model_ckpt/2020-02-06-10_23_22/0/NER-Naive_CRF_Model\n",
      "I:BASE-MODEL:[base_model:232]:[NER]:train info:Train on 14684 samples, validate on 2592 samples\n",
      "I:BASE-MODEL:[base_model:133]:READABILITY's model_dir is ./model_ckpt/2020-02-06-10_23_22/0/READABILITY-NaiveDenseModel\n",
      "I:BASE-MODEL:[base_model:232]:[READABILITY]:train info:Train on 1301 samples, validate on 230 samples\n"
     ]
    },
    {
     "name": "stdout",
     "output_type": "stream",
     "text": [
      "Epoch 1/50\n",
      "251/251 [==============================] - 126s 502ms/step - task_name:     NER     - loss: 5.0699 - accuracy: 0.8083 - val_loss: 10.0969 - val_accuracy: 0.8254\n",
      "251/251 [==============================] - 126s 502ms/step - task_name: READABILITY - loss: 0.8761 - accuracy: 0.5714 - val_loss: 0.8401 - val_accuracy: 0.6367 \n"
     ]
    },
    {
     "name": "stderr",
     "output_type": "stream",
     "text": [
      "I:CUR_SPLIT:0:[sampler_mu:139]:----------------------------------------------------------------------------------------------------\n"
     ]
    },
    {
     "name": "stdout",
     "output_type": "stream",
     "text": [
      "Epoch 2/50\n",
      "251/251 [==============================] - 64s 254ms/step - task_name:     NER     - loss: 4.1344 - accuracy: 0.8189 - val_loss: 9.5791 - val_accuracy: 0.8328\n",
      "251/251 [==============================] - 64s 254ms/step - task_name: READABILITY - loss: 0.5788 - accuracy: 0.6279 - val_loss: 0.7231 - val_accuracy: 0.6758\n"
     ]
    },
    {
     "name": "stderr",
     "output_type": "stream",
     "text": [
      "I:CUR_SPLIT:0:[sampler_mu:139]:----------------------------------------------------------------------------------------------------\n"
     ]
    },
    {
     "name": "stdout",
     "output_type": "stream",
     "text": [
      "Epoch 3/50\n",
      "251/251 [==============================] - 66s 263ms/step - task_name:     NER     - loss: 3.6257 - accuracy: 0.8223 - val_loss: 9.0413 - val_accuracy: 0.8197\n",
      "251/251 [==============================] - 66s 263ms/step - task_name: READABILITY - loss: 0.6334 - accuracy: 0.6760 - val_loss: 0.7271 - val_accuracy: 0.6914\n"
     ]
    },
    {
     "name": "stderr",
     "output_type": "stream",
     "text": [
      "I:CUR_SPLIT:0:[sampler_mu:139]:----------------------------------------------------------------------------------------------------\n"
     ]
    },
    {
     "name": "stdout",
     "output_type": "stream",
     "text": [
      "Epoch 4/50\n",
      "251/251 [==============================] - 66s 265ms/step - task_name:     NER     - loss: 3.3593 - accuracy: 0.8255 - val_loss: 8.9027 - val_accuracy: 0.8190\n",
      "251/251 [==============================] - 66s 265ms/step - task_name: READABILITY - loss: 0.4067 - accuracy: 0.7007 - val_loss: 0.7091 - val_accuracy: 0.7188\n"
     ]
    },
    {
     "name": "stderr",
     "output_type": "stream",
     "text": [
      "I:CUR_SPLIT:0:[sampler_mu:139]:----------------------------------------------------------------------------------------------------\n"
     ]
    },
    {
     "name": "stdout",
     "output_type": "stream",
     "text": [
      "Epoch 5/50\n",
      "251/251 [==============================] - 66s 263ms/step - task_name:     NER     - loss: 3.1898 - accuracy: 0.8249 - val_loss: 8.5498 - val_accuracy: 0.8162\n",
      "251/251 [==============================] - 66s 263ms/step - task_name: READABILITY - loss: 0.3329 - accuracy: 0.7315 - val_loss: 0.7133 - val_accuracy: 0.6953\n"
     ]
    },
    {
     "name": "stderr",
     "output_type": "stream",
     "text": [
      "I:CUR_SPLIT:0:[sampler_mu:139]:----------------------------------------------------------------------------------------------------\n"
     ]
    },
    {
     "name": "stdout",
     "output_type": "stream",
     "text": [
      "Epoch 6/50\n",
      "251/251 [==============================] - 66s 264ms/step - task_name:     NER     - loss: 2.8479 - accuracy: 0.8267 - val_loss: 8.6234 - val_accuracy: 0.8160\n",
      "251/251 [==============================] - 66s 264ms/step - task_name: READABILITY - loss: 0.5958 - accuracy: 0.7411 - val_loss: 0.7463 - val_accuracy: 0.7031\n"
     ]
    },
    {
     "name": "stderr",
     "output_type": "stream",
     "text": [
      "I:CUR_SPLIT:0:[sampler_mu:139]:----------------------------------------------------------------------------------------------------\n"
     ]
    },
    {
     "name": "stdout",
     "output_type": "stream",
     "text": [
      "Epoch 7/50\n",
      "251/251 [==============================] - 66s 264ms/step - task_name:     NER     - loss: 2.6305 - accuracy: 0.8302 - val_loss: 8.4510 - val_accuracy: 0.8175\n",
      "251/251 [==============================] - 66s 264ms/step - task_name: READABILITY - loss: 0.6106 - accuracy: 0.7676 - val_loss: 0.9694 - val_accuracy: 0.6328\n"
     ]
    },
    {
     "name": "stderr",
     "output_type": "stream",
     "text": [
      "I:CUR_SPLIT:0:[sampler_mu:139]:----------------------------------------------------------------------------------------------------\n"
     ]
    },
    {
     "name": "stdout",
     "output_type": "stream",
     "text": [
      "Epoch 8/50\n",
      "250/251 [============================>.] - ETA: 0s - task_name: READABILITY - loss: 0.3395 - accuracy: 0.8094\n",
      "Epoch 00008: ReduceLROnPlateau reducing learning rate to 0.0007000000332482159.\n",
      "251/251 [==============================] - 63s 253ms/step - task_name:     NER     - loss: 2.5228 - accuracy: 0.8297 - val_loss: 8.8734 - val_accuracy: 0.8189\n",
      "251/251 [==============================] - 63s 253ms/step - task_name: READABILITY - loss: 0.5894 - accuracy: 0.8083 - val_loss: 0.8085 - val_accuracy: 0.6758\n"
     ]
    },
    {
     "name": "stderr",
     "output_type": "stream",
     "text": [
      "I:CUR_SPLIT:0:[sampler_mu:139]:----------------------------------------------------------------------------------------------------\n"
     ]
    },
    {
     "name": "stdout",
     "output_type": "stream",
     "text": [
      "Epoch 9/50\n",
      "251/251 [==============================] - 64s 254ms/step - task_name:     NER     - loss: 2.3729 - accuracy: 0.8314 - val_loss: 8.7811 - val_accuracy: 0.8170\n",
      "251/251 [==============================] - 64s 254ms/step - task_name: READABILITY - loss: 0.5410 - accuracy: 0.8454 - val_loss: 0.7892 - val_accuracy: 0.7109\n"
     ]
    },
    {
     "name": "stderr",
     "output_type": "stream",
     "text": [
      "I:CUR_SPLIT:0:[sampler_mu:139]:----------------------------------------------------------------------------------------------------\n"
     ]
    },
    {
     "name": "stdout",
     "output_type": "stream",
     "text": [
      "Epoch 10/50\n",
      "251/251 [==============================] - 5s 21ms/step - task_name: READABILITY - loss: 0.5486 - accuracy: 0.8062 - val_loss: 0.8782 - val_accuracy: 0.6875\n"
     ]
    },
    {
     "name": "stderr",
     "output_type": "stream",
     "text": [
      "I:CUR_SPLIT:0:[sampler_mu:139]:----------------------------------------------------------------------------------------------------\n"
     ]
    },
    {
     "name": "stdout",
     "output_type": "stream",
     "text": [
      "Epoch 11/50\n",
      "247/251 [============================>.] - ETA: 0s - task_name: READABILITY - loss: 0.2831 - accuracy: 0.8533\n",
      "Epoch 00011: ReduceLROnPlateau reducing learning rate to 0.0004900000232737511.\n",
      "251/251 [==============================] - 5s 20ms/step - task_name: READABILITY - loss: 0.4232 - accuracy: 0.8533 - val_loss: 0.9240 - val_accuracy: 0.6875\n"
     ]
    },
    {
     "name": "stderr",
     "output_type": "stream",
     "text": [
      "I:CUR_SPLIT:0:[sampler_mu:139]:----------------------------------------------------------------------------------------------------\n"
     ]
    },
    {
     "name": "stdout",
     "output_type": "stream",
     "text": [
      "\n",
      "----------------------------------NER LABEL METRICS -----------------------------------\n",
      "\n",
      "epoch:labeling EPOCH accuracy 0.836987 precision: 0.473715, recall: 0.373553, f1: 0.417713\n",
      "\n",
      "           precision    recall  f1-score   support\n",
      "\n",
      "     ALLU     0.4739    0.3736    0.4178      4318\n",
      "\n",
      "micro avg     0.4737    0.3736    0.4177      4318\n",
      "macro avg     0.4739    0.3736    0.4178      4318\n",
      "\n",
      "----------------------------------NER END ----------------------------------\n",
      "train_example:**************************************************\n",
      "x_seq:灌 园 何 其 鄙 , 皎 皎 於 陵 中 。\n",
      "y_pred:B-ALLU I-ALLU O O O O O O O O O O\n",
      "y_true:B-ALLU I-ALLU O O O O O O O O O O\n",
      "----------\n",
      "x_seq:五 湖 竟 负 他 年 志 , 百 战 空 垂 异 代 名 。\n",
      "y_pred:B-ALLU I-ALLU O O O O O O O O O O O O O O\n",
      "y_true:B-ALLU I-ALLU O O O O O O O O O O O O O O\n",
      "----------\n",
      "x_seq:大 底 [UNK] 鹏 须 自 适 , 何 尝 玉 石 不 同 焚 。\n",
      "y_pred:O O B-ALLU I-ALLU O O O O O O O O O O O O\n",
      "y_true:O O B-ALLU I-ALLU O O O O O O O O O O O O\n",
      "----------\n",
      "x_seq:玉 山 那 惜 醉 , 金 谷 已 无 春 。\n",
      "y_pred:B-ALLU I-ALLU O O O O B-ALLU I-ALLU O O O O\n",
      "y_true:O O O O O O B-ALLU I-ALLU O O O O\n",
      "----------\n",
      "x_seq:方 朔 金 门 侍 , 班 姬 玉 辇 迎 。\n",
      "y_pred:O O O O O O O O O O O O\n",
      "y_true:O O O O O O B-ALLU I-ALLU O O O O\n",
      "----------\n",
      "x_seq:古 人 三 乐 兮 , 我 乐 多 之 。\n",
      "y_pred:O O B-ALLU I-ALLU O O O O O O O\n",
      "y_true:O O B-ALLU I-ALLU O O O O O O O\n",
      "----------\n",
      "x_seq:生 年 [UNK] 冠 子 , 叹 世 鹿 皮 翁 。\n",
      "y_pred:O O B-ALLU I-ALLU O O O O B-ALLU I-ALLU O O\n",
      "y_true:O O B-ALLU I-ALLU I-ALLU O O O O O O O\n",
      "----------\n",
      "x_seq:忠 诚 上 资 策 , 仁 勇 佐 前 筹 。\n",
      "y_pred:O O O O O O O O O B-ALLU I-ALLU O\n",
      "y_true:O O O O O O O O O B-ALLU I-ALLU O\n",
      "----------\n",
      "x_seq:美 似 [UNK] 超 终 有 日 , 去 依 刘 表 更 何 疑 。\n",
      "y_pred:O O B-ALLU I-ALLU O O O O O O O O O O O O\n",
      "y_true:O O O O O O O O O B-ALLU I-ALLU I-ALLU O O O O\n",
      "----------\n",
      "x_seq:[UNK] 夷 近 何 去 , 空 山 临 沧 溟 。\n",
      "y_pred:B-ALLU I-ALLU O O O O O O O O O O\n",
      "y_true:B-ALLU I-ALLU O O O O O O O O O O\n",
      "----------\n",
      "END:**************************************************\n",
      "test_example:**************************************************\n",
      "x_seq:鸾 凤 [UNK] 羽 仪 , 骐 骥 在 郊 [UNK] 。\n",
      "y_pred:O O O O O O B-ALLU I-ALLU O O O O\n",
      "y_true:O O O O O O B-ALLU I-ALLU O O O O\n",
      "----------\n",
      "x_seq:忆 昔 南 阳 顾 草 庐 , 便 乘 雷 电 捧 乘 舆 。\n",
      "y_pred:O O O O O O O O O O O O O O O O\n",
      "y_true:O O O O B-ALLU O O O O O O O O O O O\n",
      "----------\n",
      "x_seq:绿 绮 韵 高 湘 女 怨 , 青 葭 色 映 水 禽 寒 。\n",
      "y_pred:O O O O O O O O O O O O O O O O\n",
      "y_true:B-ALLU I-ALLU O O O O O O O O O O O O O O\n",
      "----------\n",
      "x_seq:细 侯 风 韵 兼 前 事 , 不 止 为 舟 也 作 霖 。\n",
      "y_pred:B-ALLU I-ALLU O O O O O O O O O O O O O O\n",
      "y_true:B-ALLU I-ALLU O O O O O O O O O O O O O O\n",
      "----------\n",
      "x_seq:鹫 翎 金 仆 姑 , 燕 尾 绣 [UNK] 弧 。\n",
      "y_pred:O O O O O O O O O O O O\n",
      "y_true:O O O O O O O O O B-ALLU I-ALLU O\n",
      "----------\n",
      "x_seq:孤 鸿 秋 出 塞 , 一 叶 暗 辞 林 。\n",
      "y_pred:O O O O O O B-ALLU I-ALLU O O O O\n",
      "y_true:O O B-ALLU I-ALLU I-ALLU I-ALLU I-ALLU O O O O O\n",
      "----------\n",
      "x_seq:[UNK] 知 鸡 树 后 , 更 接 凤 池 欢 。\n",
      "y_pred:O O O O O O O O B-ALLU I-ALLU O O\n",
      "y_true:O O B-ALLU I-ALLU O O O O O O O O\n",
      "----------\n",
      "x_seq:多 君 有 奇 略 , 投 笔 佐 元 戎 。\n",
      "y_pred:O O O O O O O O O O O O\n",
      "y_true:O O O O O O B-ALLU I-ALLU O O O O\n",
      "----------\n",
      "x_seq:远 师 [UNK] 忌 鼓 鸣 琴 , 去 和 南 风 惬 舜 心 。\n",
      "y_pred:O O O O O O O O O O O O O O O O\n",
      "y_true:O O B-ALLU I-ALLU I-ALLU I-ALLU I-ALLU O O O O O O O O O\n",
      "----------\n",
      "x_seq:而 笑 独 醒 者 , 临 流 多 苦 辛 。\n",
      "y_pred:O O B-ALLU I-ALLU O O O O O O O O\n",
      "y_true:O O B-ALLU I-ALLU O O O O O O O O\n",
      "----------\n",
      "END:**************************************************\n",
      "\n",
      "----------------------------------READABILITY CLASS METRICS -----------------------------------\n",
      "\n",
      "              precision    recall  f1-score   support\n",
      "    accuracy                         0.5744       383\n",
      "   macro avg     0.6254    0.5863    0.5627       383\n",
      "weighted avg     0.5857    0.5744    0.5278       383\n",
      "\n",
      "\n",
      "epoch:classification EPOCH accuracy: 0.5744125326370757 precision: 0.625432, recall: 0.586308, f1: 0.562666\n",
      "\n",
      "-----------------------------READABILITY END ----------------------------\n"
     ]
    },
    {
     "name": "stderr",
     "output_type": "stream",
     "text": [
      "I:SAMPLE_TRAINER:[sampler_mu: 43]:cur_split_idx 0th END\n",
      "I:SAMPLE_TRAINER:[sampler_mu: 44]:****************************************************************************************************\n",
      "I:SAMPLE_TRAINER:[sampler_mu: 45]:****************************************************************************************************\n",
      "I:BASE TASK:[base_task.:270]:Task READABILITY:\n",
      "I:BASE TASK:[base_task.:271]:\t21 training batches\n",
      "I:BASE TASK:[base_task.:272]:\t4 validation batches\n",
      "I:BASE TASK:[base_task.:273]:\t6 test batches\n"
     ]
    },
    {
     "name": "stdout",
     "output_type": "stream",
     "text": [
      "train_example:**************************************************\n",
      "x_seq:燎 沉 香 ， 消 [UNK] 暑 。 鸟 雀 呼 晴 ， 侵 晓 窥 檐 语 。 叶 上 初 阳 干 宿 雨 、 水 面\n",
      "y_pred:1\n",
      "y_true:1\n",
      "----------\n",
      "x_seq:漫 漫 秋 夜 长 ， 烈 烈 北 风 凉 。 展 转 不 能 寐 ， 披 衣 起 彷 徨 。 彷 徨 忽 已 久\n",
      "y_pred:1\n",
      "y_true:1\n",
      "----------\n",
      "x_seq:日 居 月 诸 ， 照 临 下 土 。 乃 如 之 人 兮 ， 逝 不 古 处 ？ 胡 能 有 定 ？ 宁 不 我\n",
      "y_pred:3\n",
      "y_true:3\n",
      "----------\n",
      "x_seq:茅 檐 长 扫 净 无 苔 ， 花 木 成 畦 手 自 栽 。 一 水 护 田 将 绿 绕 ， 两 山 排 [UNK] 送\n",
      "y_pred:1\n",
      "y_true:1\n",
      "----------\n",
      "x_seq:千 里 黄 云 白 日 [UNK] ， 北 风 吹 雁 雪 纷 纷 。 莫 愁 前 路 无 知 己 ， 天 下 谁 人 不\n",
      "y_pred:1\n",
      "y_true:1\n",
      "----------\n",
      "x_seq:梁 惠 王 曰 ： [UNK] 寡 人 之 于 国 也 ， 尽 心 焉 耳 矣 。 河 内 凶 ， 则 移 其 民 于 河\n",
      "y_pred:3\n",
      "y_true:3\n",
      "----------\n",
      "x_seq:男 声 欣 欣 女 颜 悦 ， 人 家 不 怨 言 语 别 。 五 月 虽 热 麦 风 清 ， 檐 头 索 索 [UNK]\n",
      "y_pred:1\n",
      "y_true:2\n",
      "----------\n",
      "x_seq:晨 趋 紫 禁 中 ， 夕 待 金 门 诏 。 观 书 散 遗 [UNK] ， 探 古 穷 至 妙 。 片 言 苟 会 心\n",
      "y_pred:2\n",
      "y_true:2\n",
      "----------\n",
      "x_seq:山 寺 钟 鸣 昼 已 昏 ， 渔 梁 渡 头 争 渡 喧 。 人 随 沙 岸 向 江 村 ， 余 亦 乘 舟 归\n",
      "y_pred:1\n",
      "y_true:2\n",
      "----------\n",
      "x_seq:花 亦 无 知 ， 月 亦 无 聊 ， 酒 亦 无 灵 。 把 夭 桃 斫 断 ， 煞 他 风 景 ； 鹦 哥 煮\n",
      "y_pred:2\n",
      "y_true:2\n",
      "----------\n",
      "END:**************************************************\n",
      "test_example:**************************************************\n",
      "x_seq:鸦 翎 羽 箭 山 桑 弓 ， 仰 天 射 落 衔 芦 鸿 。 麻 衣 黑 肥 冲 北 风 ， 带 酒 日 晚 歌\n",
      "y_pred:1\n",
      "y_true:2\n",
      "----------\n",
      "x_seq:渴 不 饮 盗 泉 水 ， 热 不 息 恶 木 阴 。 恶 木 岂 无 枝 ？ 志 士 多 苦 心 。 整 驾 肃\n",
      "y_pred:3\n",
      "y_true:2\n",
      "----------\n",
      "x_seq:楚 女 欲 归 南 浦 ， 朝 雨 。 湿 愁 红 ， 小 船 摇 漾 入 花 里 。 波 起 ， 隔 西 风 。\n",
      "y_pred:1\n",
      "y_true:1\n",
      "----------\n",
      "x_seq:零 落 残 魂 倍 黯 然 ， 双 垂 别 泪 越 江 边 。 一 身 去 国 六 千 里 ， 万 死 投 荒 十\n",
      "y_pred:1\n",
      "y_true:2\n",
      "----------\n",
      "x_seq:蓬 头 稚 子 学 垂 纶 ， 侧 坐 莓 苔 草 映 身 。 路 人 借 问 遥 招 手 ， 怕 得 鱼 惊 不\n",
      "y_pred:1\n",
      "y_true:1\n",
      "----------\n",
      "x_seq:两 种 风 流 ， 一 家 制 作 。 雪 花 全 似 梅 花 萼 。 细 看 不 是 雪 无 香 ， 天 风 吹\n",
      "y_pred:1\n",
      "y_true:1\n",
      "----------\n",
      "x_seq:前 不 见 古 人 ， 后 不 见 来 者 。 念 天 地 之 悠 悠 ， 独 怆 然 而 涕 下 。 [UNK] [PAD] [PAD]\n",
      "y_pred:1\n",
      "y_true:1\n",
      "----------\n",
      "x_seq:柴 门 风 卷 却 吹 工 ， [UNK] 径 初 成 竹 旋 栽 。 梢 影 细 从 茶 碗 入 ， 叶 声 轻 逐 篆\n",
      "y_pred:1\n",
      "y_true:3\n",
      "----------\n",
      "x_seq:古 木 卧 平 沙 ， 摧 残 岁 月 赊 。 有 根 横 水 石 ， 无 叶 拂 烟 霞 。 春 至 苔 为 叶\n",
      "y_pred:1\n",
      "y_true:2\n",
      "----------\n",
      "x_seq:客 从 东 方 来 ， 衣 上 灞 陵 雨 。 问 客 何 为 来 ， 采 山 因 买 斧 。 冥 冥 花 正 开\n",
      "y_pred:1\n",
      "y_true:1\n",
      "----------\n",
      "END:**************************************************\n"
     ]
    },
    {
     "name": "stderr",
     "output_type": "stream",
     "text": [
      "I:BASE TASK:[base_task.:270]:Task NER:\n",
      "I:BASE TASK:[base_task.:271]:\t230 training batches\n",
      "I:BASE TASK:[base_task.:272]:\t41 validation batches\n",
      "I:BASE TASK:[base_task.:273]:\t68 test batches\n",
      "I:BERT EMBEDDING:[bert_embed:105]:seq_len:30\n",
      "I:BERT EMBEDDING:[bert_embed:105]:seq_len:30\n",
      "I:AHMTL MODEL:[AHMTL.py:126]:Multi-Task Learning Model has been instantiated.\n",
      "I:CUR_SPLIT:1:[sampler_mu: 92]:Set up ready. Begining training/validation.\n",
      "I:BASE-MODEL:[base_model:133]:NER's model_dir is ./model_ckpt/2020-02-06-10_23_22/1/NER-Naive_CRF_Model\n",
      "I:BASE-MODEL:[base_model:232]:[NER]:train info:Train on 14684 samples, validate on 2592 samples\n",
      "I:BASE-MODEL:[base_model:133]:READABILITY's model_dir is ./model_ckpt/2020-02-06-10_23_22/1/READABILITY-NaiveDenseModel\n",
      "I:BASE-MODEL:[base_model:232]:[READABILITY]:train info:Train on 1301 samples, validate on 230 samples\n"
     ]
    },
    {
     "name": "stdout",
     "output_type": "stream",
     "text": [
      "Epoch 1/50\n",
      "251/251 [==============================] - 126s 503ms/step - task_name:     NER     - loss: 5.8406 - accuracy: 0.8062 - val_loss: 11.4956 - val_accuracy: 0.8117\n",
      "251/251 [==============================] - 126s 503ms/step - task_name: READABILITY - loss: 0.9801 - accuracy: 0.5362 - val_loss: 0.7345 - val_accuracy: 0.6562 \n"
     ]
    },
    {
     "name": "stderr",
     "output_type": "stream",
     "text": [
      "I:CUR_SPLIT:1:[sampler_mu:139]:----------------------------------------------------------------------------------------------------\n"
     ]
    },
    {
     "name": "stdout",
     "output_type": "stream",
     "text": [
      "Epoch 2/50\n",
      "251/251 [==============================] - 63s 252ms/step - task_name:     NER     - loss: 4.6163 - accuracy: 0.8181 - val_loss: 10.5285 - val_accuracy: 0.8162\n",
      "251/251 [==============================] - 63s 252ms/step - task_name: READABILITY - loss: 0.6262 - accuracy: 0.6536 - val_loss: 0.6679 - val_accuracy: 0.7305 \n"
     ]
    },
    {
     "name": "stderr",
     "output_type": "stream",
     "text": [
      "I:CUR_SPLIT:1:[sampler_mu:139]:----------------------------------------------------------------------------------------------------\n"
     ]
    },
    {
     "name": "stdout",
     "output_type": "stream",
     "text": [
      "Epoch 3/50\n",
      "251/251 [==============================] - 63s 251ms/step - task_name:     NER     - loss: 3.8769 - accuracy: 0.8231 - val_loss: 9.7488 - val_accuracy: 0.8130\n",
      "251/251 [==============================] - 63s 251ms/step - task_name: READABILITY - loss: 0.7569 - accuracy: 0.7131 - val_loss: 0.6723 - val_accuracy: 0.7070\n"
     ]
    },
    {
     "name": "stderr",
     "output_type": "stream",
     "text": [
      "I:CUR_SPLIT:1:[sampler_mu:139]:----------------------------------------------------------------------------------------------------\n"
     ]
    },
    {
     "name": "stdout",
     "output_type": "stream",
     "text": [
      "Epoch 4/50\n",
      "251/251 [==============================] - 63s 253ms/step - task_name:     NER     - loss: 3.4332 - accuracy: 0.8239 - val_loss: 9.2270 - val_accuracy: 0.8154\n",
      "251/251 [==============================] - 63s 253ms/step - task_name: READABILITY - loss: 0.7817 - accuracy: 0.7422 - val_loss: 0.7593 - val_accuracy: 0.7148\n"
     ]
    },
    {
     "name": "stderr",
     "output_type": "stream",
     "text": [
      "I:CUR_SPLIT:1:[sampler_mu:139]:----------------------------------------------------------------------------------------------------\n"
     ]
    },
    {
     "name": "stdout",
     "output_type": "stream",
     "text": [
      "Epoch 5/50\n",
      "250/251 [============================>.] - ETA: 0s - task_name: READABILITY - loss: 0.4578 - accuracy: 0.7683\n",
      "Epoch 00005: ReduceLROnPlateau reducing learning rate to 0.0007000000332482159.\n",
      "251/251 [==============================] - 64s 255ms/step - task_name:     NER     - loss: 3.1509 - accuracy: 0.8259 - val_loss: 8.8750 - val_accuracy: 0.8170\n",
      "251/251 [==============================] - 64s 255ms/step - task_name: READABILITY - loss: 0.7297 - accuracy: 0.7683 - val_loss: 0.7723 - val_accuracy: 0.7070\n"
     ]
    },
    {
     "name": "stderr",
     "output_type": "stream",
     "text": [
      "I:CUR_SPLIT:1:[sampler_mu:139]:----------------------------------------------------------------------------------------------------\n"
     ]
    },
    {
     "name": "stdout",
     "output_type": "stream",
     "text": [
      "Epoch 6/50\n",
      "251/251 [==============================] - 64s 255ms/step - task_name:     NER     - loss: 3.0402 - accuracy: 0.8264 - val_loss: 8.5957 - val_accuracy: 0.8179\n",
      "251/251 [==============================] - 64s 255ms/step - task_name: READABILITY - loss: 0.4832 - accuracy: 0.7984 - val_loss: 0.7533 - val_accuracy: 0.7109\n"
     ]
    },
    {
     "name": "stderr",
     "output_type": "stream",
     "text": [
      "I:CUR_SPLIT:1:[sampler_mu:139]:----------------------------------------------------------------------------------------------------\n"
     ]
    },
    {
     "name": "stdout",
     "output_type": "stream",
     "text": [
      "Epoch 7/50\n",
      "251/251 [==============================] - 63s 253ms/step - task_name:     NER     - loss: 2.8270 - accuracy: 0.8260 - val_loss: 8.4004 - val_accuracy: 0.8144\n",
      "251/251 [==============================] - 63s 253ms/step - task_name: READABILITY - loss: 0.4970 - accuracy: 0.8294 - val_loss: 0.7221 - val_accuracy: 0.7305\n"
     ]
    },
    {
     "name": "stderr",
     "output_type": "stream",
     "text": [
      "I:CUR_SPLIT:1:[sampler_mu:139]:----------------------------------------------------------------------------------------------------\n"
     ]
    },
    {
     "name": "stdout",
     "output_type": "stream",
     "text": [
      "Epoch 8/50\n",
      "251/251 [==============================] - 64s 255ms/step - task_name:     NER     - loss: 2.7445 - accuracy: 0.8284 - val_loss: 8.2850 - val_accuracy: 0.8145\n",
      "251/251 [==============================] - 64s 255ms/step - task_name: READABILITY - loss: 0.3574 - accuracy: 0.8377 - val_loss: 0.7384 - val_accuracy: 0.7422\n"
     ]
    },
    {
     "name": "stderr",
     "output_type": "stream",
     "text": [
      "I:CUR_SPLIT:1:[sampler_mu:139]:----------------------------------------------------------------------------------------------------\n"
     ]
    },
    {
     "name": "stdout",
     "output_type": "stream",
     "text": [
      "Epoch 9/50\n",
      "251/251 [==============================] - 64s 256ms/step - task_name:     NER     - loss: 2.6306 - accuracy: 0.8318 - val_loss: 8.1856 - val_accuracy: 0.8148\n",
      "251/251 [==============================] - 64s 256ms/step - task_name: READABILITY - loss: 0.2784 - accuracy: 0.8479 - val_loss: 0.8060 - val_accuracy: 0.6992\n"
     ]
    },
    {
     "name": "stderr",
     "output_type": "stream",
     "text": [
      "I:CUR_SPLIT:1:[sampler_mu:139]:----------------------------------------------------------------------------------------------------\n"
     ]
    },
    {
     "name": "stdout",
     "output_type": "stream",
     "text": [
      "Epoch 10/50\n",
      "251/251 [==============================] - 65s 260ms/step - task_name:     NER     - loss: 2.4166 - accuracy: 0.8342 - val_loss: 8.0028 - val_accuracy: 0.8038\n",
      "251/251 [==============================] - 65s 260ms/step - task_name: READABILITY - loss: 0.4286 - accuracy: 0.8575 - val_loss: 0.8537 - val_accuracy: 0.7031\n"
     ]
    },
    {
     "name": "stderr",
     "output_type": "stream",
     "text": [
      "I:CUR_SPLIT:1:[sampler_mu:139]:----------------------------------------------------------------------------------------------------\n"
     ]
    },
    {
     "name": "stdout",
     "output_type": "stream",
     "text": [
      "Epoch 11/50\n",
      "251/251 [==============================] - 66s 261ms/step - task_name:     NER     - loss: 2.3441 - accuracy: 0.8386 - val_loss: 7.9464 - val_accuracy: 0.8004\n",
      "251/251 [==============================] - 66s 261ms/step - task_name: READABILITY - loss: 0.3121 - accuracy: 0.8758 - val_loss: 0.8656 - val_accuracy: 0.7188\n"
     ]
    },
    {
     "name": "stderr",
     "output_type": "stream",
     "text": [
      "I:CUR_SPLIT:1:[sampler_mu:139]:----------------------------------------------------------------------------------------------------\n"
     ]
    },
    {
     "name": "stdout",
     "output_type": "stream",
     "text": [
      "Epoch 12/50\n",
      "250/251 [============================>.] - ETA: 0s - task_name:     NER     - loss: 2.2186 - accuracy: 0.8390\n",
      "Epoch 00012: ReduceLROnPlateau reducing learning rate to 0.0004900000232737511.\n",
      "251/251 [==============================] - 63s 251ms/step - task_name:     NER     - loss: 2.1651 - accuracy: 0.8389 - val_loss: 7.7332 - val_accuracy: 0.8096\n",
      "251/251 [==============================] - 63s 251ms/step - task_name: READABILITY - loss: 0.4150 - accuracy: 0.9005 - val_loss: 0.8979 - val_accuracy: 0.6758\n"
     ]
    },
    {
     "name": "stderr",
     "output_type": "stream",
     "text": [
      "I:CUR_SPLIT:1:[sampler_mu:139]:----------------------------------------------------------------------------------------------------\n"
     ]
    },
    {
     "name": "stdout",
     "output_type": "stream",
     "text": [
      "Epoch 13/50\n",
      "251/251 [==============================] - 66s 262ms/step - task_name:     NER     - loss: 2.1411 - accuracy: 0.8454 - val_loss: 7.6861 - val_accuracy: 0.7987\n",
      "251/251 [==============================] - 66s 262ms/step - task_name: READABILITY - loss: 0.2769 - accuracy: 0.9130 - val_loss: 0.8977 - val_accuracy: 0.6758\n"
     ]
    },
    {
     "name": "stderr",
     "output_type": "stream",
     "text": [
      "I:CUR_SPLIT:1:[sampler_mu:139]:----------------------------------------------------------------------------------------------------\n"
     ]
    },
    {
     "name": "stdout",
     "output_type": "stream",
     "text": [
      "Epoch 14/50\n",
      "251/251 [==============================] - 4s 17ms/step - task_name: READABILITY - loss: 0.2840 - accuracy: 0.8992 - val_loss: 0.8723 - val_accuracy: 0.6797\n"
     ]
    },
    {
     "name": "stderr",
     "output_type": "stream",
     "text": [
      "I:CUR_SPLIT:1:[sampler_mu:139]:----------------------------------------------------------------------------------------------------\n"
     ]
    },
    {
     "name": "stdout",
     "output_type": "stream",
     "text": [
      "Epoch 15/50\n",
      "251/251 [==============================] - 6s 23ms/step - task_name: READABILITY - loss: 0.3415 - accuracy: 0.9016 - val_loss: 0.9149 - val_accuracy: 0.7031\n"
     ]
    },
    {
     "name": "stderr",
     "output_type": "stream",
     "text": [
      "I:CUR_SPLIT:1:[sampler_mu:139]:----------------------------------------------------------------------------------------------------\n"
     ]
    },
    {
     "name": "stdout",
     "output_type": "stream",
     "text": [
      "\n",
      "----------------------------------NER LABEL METRICS -----------------------------------\n",
      "\n",
      "epoch:labeling EPOCH accuracy 0.822935 precision: 0.435897, recall: 0.413386, f1: 0.424343\n",
      "\n",
      "           precision    recall  f1-score   support\n",
      "\n",
      "     ALLU     0.4360    0.4134    0.4244      4318\n",
      "\n",
      "micro avg     0.4359    0.4134    0.4243      4318\n",
      "macro avg     0.4360    0.4134    0.4244      4318\n",
      "\n",
      "----------------------------------NER END ----------------------------------\n",
      "train_example:**************************************************\n",
      "x_seq:长 房 萸 早 熟 , 彭 泽 菊 初 收 。\n",
      "y_pred:O O O O O O B-ALLU I-ALLU O O O O\n",
      "y_true:B-ALLU I-ALLU I-ALLU O O O O O O O O O\n",
      "----------\n",
      "x_seq:郑 公 [UNK] 散 鬓 成 丝 , 酒 后 常 称 老 画 师 。\n",
      "y_pred:B-ALLU I-ALLU I-ALLU I-ALLU O O O O O O O O O O O O\n",
      "y_true:O O B-ALLU I-ALLU O O O O O O O O O O O O\n",
      "----------\n",
      "x_seq:辞 辇 复 当 熊 , 倾 心 奉 六 宫 。\n",
      "y_pred:O O O B-ALLU I-ALLU O O O O O O O\n",
      "y_true:O O O B-ALLU I-ALLU O O O O O O O\n",
      "----------\n",
      "x_seq:才 施 偃 月 行 军 令 , 便 见 台 星 逼 座 隅 。\n",
      "y_pred:O O B-ALLU I-ALLU O O O O O O B-ALLU I-ALLU O O O O\n",
      "y_true:O O B-ALLU I-ALLU O O O O O O O O O O O O\n",
      "----------\n",
      "x_seq:流 声 集 孔 雀 , 带 影 出 [UNK] 羊 。\n",
      "y_pred:O O O O O O O O O O O O\n",
      "y_true:O O O O O O O O O B-ALLU I-ALLU O\n",
      "----------\n",
      "x_seq:惠 我 双 龙 不 言 价 , 等 闲 不 敢 将 悬 挂 。 恐 是 叶 公 好 假 龙 , 及 见 真 龙 却\n",
      "y_pred:O O O B-ALLU I-ALLU I-ALLU I-ALLU I-ALLU I-ALLU I-ALLU I-ALLU I-ALLU I-ALLU I-ALLU I-ALLU I-ALLU I-ALLU I-ALLU I-ALLU I-ALLU I-ALLU I-ALLU I-ALLU O O O O O O\n",
      "y_true:O O O B-ALLU I-ALLU I-ALLU I-ALLU I-ALLU I-ALLU I-ALLU I-ALLU I-ALLU I-ALLU I-ALLU I-ALLU I-ALLU I-ALLU I-ALLU I-ALLU O O O O O O O O O O\n",
      "----------\n",
      "x_seq:暮 年 伤 泛 梗 , 累 日 慰 寒 灰 。\n",
      "y_pred:O O O B-ALLU I-ALLU O O O O B-ALLU I-ALLU O\n",
      "y_true:O O O O O O O O O B-ALLU I-ALLU O\n",
      "----------\n",
      "x_seq:英 主 任 贤 增 虎 翼 , 假 王 徼 福 犯 龙 鳞 。\n",
      "y_pred:O O O O O O O O O O O O O O O O\n",
      "y_true:O O O O O O O O O O O O B-ALLU I-ALLU I-ALLU O\n",
      "----------\n",
      "x_seq:世 嫌 山 水 僻 , 谁 伴 谢 公 吟 。\n",
      "y_pred:O O O O O O O O B-ALLU I-ALLU I-ALLU O\n",
      "y_true:O O O O O O O O B-ALLU I-ALLU O O\n",
      "----------\n",
      "x_seq:谏 猎 一 朝 寝 , 论 边 素 未 工 。\n",
      "y_pred:B-ALLU I-ALLU O O O O O O O O O O\n",
      "y_true:B-ALLU I-ALLU O O O O O O O O O O\n",
      "----------\n",
      "END:**************************************************\n",
      "test_example:**************************************************\n",
      "x_seq:云 泉 日 日 长 松 寺 , 丝 管 年 年 细 柳 营 。\n",
      "y_pred:O O O O O O O O O O O O B-ALLU I-ALLU I-ALLU O\n",
      "y_true:O O O O O O O O O O O O B-ALLU I-ALLU I-ALLU O\n",
      "----------\n",
      "x_seq:无 谋 静 国 东 归 去 , 羞 过 商 山 四 老 祠 。\n",
      "y_pred:O O B-ALLU I-ALLU O O O O O O B-ALLU I-ALLU I-ALLU I-ALLU O O\n",
      "y_true:O O O O O O O O O O B-ALLU I-ALLU I-ALLU I-ALLU O O\n",
      "----------\n",
      "x_seq:虽 投 定 远 笔 , 未 坐 将 军 树 。\n",
      "y_pred:O O B-ALLU I-ALLU I-ALLU O O O B-ALLU I-ALLU I-ALLU O\n",
      "y_true:O B-ALLU I-ALLU I-ALLU I-ALLU O O O O O O O\n",
      "----------\n",
      "x_seq:未 知 几 曲 醉 , 醉 入 无 何 乡 。\n",
      "y_pred:O O B-ALLU I-ALLU I-ALLU I-ALLU O O B-ALLU I-ALLU I-ALLU O\n",
      "y_true:O O O O O O O O B-ALLU I-ALLU I-ALLU O\n",
      "----------\n",
      "x_seq:尚 书 剑 履 出 明 光 , 居 守 旌 旗 赴 洛 阳 。\n",
      "y_pred:O O B-ALLU I-ALLU O O O O O O O O O O O O\n",
      "y_true:O O B-ALLU I-ALLU O O O O O O O O O O O O\n",
      "----------\n",
      "x_seq:稻 粱 求 未 足 , 薏 苡 谤 何 频 。\n",
      "y_pred:O O O O O O B-ALLU I-ALLU O O O O\n",
      "y_true:O O O O O O B-ALLU I-ALLU I-ALLU O O O\n",
      "----------\n",
      "x_seq:如 何 补 衮 服 , 来 看 衲 衣 人 。\n",
      "y_pred:O O B-ALLU I-ALLU I-ALLU O O O O O O O\n",
      "y_true:O O B-ALLU I-ALLU O O O O O O O O\n",
      "----------\n",
      "x_seq:舞 石 旋 应 将 乳 子 , 行 云 莫 自 湿 仙 衣 。\n",
      "y_pred:O O O O O O O O O O O O O O O O\n",
      "y_true:O O O O O O O O B-ALLU O O O O O O O\n",
      "----------\n",
      "x_seq:中 郎 何 为 者 , 倒 [UNK] 惊 座 宾 。\n",
      "y_pred:O O O O O O B-ALLU I-ALLU O O O O\n",
      "y_true:O O O O O O B-ALLU I-ALLU O O O O\n",
      "----------\n",
      "x_seq:泉 尊 陶 宰 酒 , 月 眉 谢 郎 妓 。\n",
      "y_pred:O O O O O O O O B-ALLU I-ALLU I-ALLU O\n",
      "y_true:O O B-ALLU O O O O O O O O O\n",
      "----------\n",
      "END:**************************************************\n",
      "\n",
      "----------------------------------READABILITY CLASS METRICS -----------------------------------\n",
      "\n",
      "              precision    recall  f1-score   support\n",
      "    accuracy                         0.6266       383\n",
      "   macro avg     0.6577    0.6410    0.6344       383\n",
      "weighted avg     0.6327    0.6266    0.6114       383\n",
      "\n",
      "\n",
      "epoch:classification EPOCH accuracy: 0.6266318537859008 precision: 0.657708, recall: 0.641043, f1: 0.634388\n",
      "\n",
      "-----------------------------READABILITY END ----------------------------\n"
     ]
    },
    {
     "name": "stderr",
     "output_type": "stream",
     "text": [
      "I:SAMPLE_TRAINER:[sampler_mu: 43]:cur_split_idx 1th END\n",
      "I:SAMPLE_TRAINER:[sampler_mu: 44]:****************************************************************************************************\n",
      "I:SAMPLE_TRAINER:[sampler_mu: 45]:****************************************************************************************************\n",
      "I:BASE TASK:[base_task.:270]:Task READABILITY:\n",
      "I:BASE TASK:[base_task.:271]:\t21 training batches\n",
      "I:BASE TASK:[base_task.:272]:\t4 validation batches\n",
      "I:BASE TASK:[base_task.:273]:\t6 test batches\n"
     ]
    },
    {
     "name": "stdout",
     "output_type": "stream",
     "text": [
      "train_example:**************************************************\n",
      "x_seq:辞 宗 盛 荆 梦 ， 登 歌 美 [UNK] 绎 。 徒 收 杞 梓 饶 ， 曾 非 羽 人 宅 。 罗 景 蔼 云 [UNK]\n",
      "y_pred:3\n",
      "y_true:3\n",
      "----------\n",
      "x_seq:女 曰 鸡 鸣 ， 士 曰 昧 旦 。 子 兴 视 夜 ， 明 星 有 烂 。 将 翱 将 翔 ， 弋 [UNK] 与 雁\n",
      "y_pred:3\n",
      "y_true:3\n",
      "----------\n",
      "x_seq:重 冈 已 隔 红 尘 断 ， 村 落 更 年 丰 。 移 居 要 就 ， 窗 中 远 岫 ， 舍 后 长 松 。\n",
      "y_pred:1\n",
      "y_true:2\n",
      "----------\n",
      "x_seq:行 向 石 栏 立 ， 清 寒 不 可 云 。 流 来 桥 下 水 ， 半 是 洞 中 云 。 欲 住 逢 年 尽\n",
      "y_pred:1\n",
      "y_true:1\n",
      "----------\n",
      "x_seq:九 州 生 气 恃 风 雷 ， 万 马 齐 [UNK] 究 可 哀 。 我 劝 天 公 重 抖 擞 ， 不 拘 一 格 降\n",
      "y_pred:2\n",
      "y_true:2\n",
      "----------\n",
      "x_seq:君 家 全 盛 日 ， 台 鼎 何 陆 离 ！ 斩 鳌 翼 娲 皇 ， 炼 石 补 天 维 。 一 回 日 月 顾\n",
      "y_pred:2\n",
      "y_true:3\n",
      "----------\n",
      "x_seq:细 雨 湿 流 光 ， 芳 草 年 年 与 恨 长 。 烟 锁 凤 楼 无 限 事 ， 茫 茫 。 鸾 镜 鸳 衾\n",
      "y_pred:2\n",
      "y_true:2\n",
      "----------\n",
      "x_seq:羊 续 高 高 挂 起 ， 冯 苦 苦 伤 悲 。 大 海 边 ， 长 江 内 ， 多 少 渔 矶 ？ 记 得 荆\n",
      "y_pred:1\n",
      "y_true:1\n",
      "----------\n",
      "x_seq:鸿 雁 出 塞 北 ， 乃 在 无 人 乡 。 举 翅 万 馀 里 ， 行 止 自 成 行 。 冬 节 食 南 稻\n",
      "y_pred:1\n",
      "y_true:2\n",
      "----------\n",
      "x_seq:落 花 如 梦 凄 迷 ， 麝 烟 微 ， 又 是 夕 阳 潜 下 小 楼 西 。 愁 无 限 ， 消 瘦 尽 ，\n",
      "y_pred:1\n",
      "y_true:1\n",
      "----------\n",
      "END:**************************************************\n",
      "test_example:**************************************************\n",
      "x_seq:黑 云 压 城 城 欲 摧 ， 甲 光 向 日 金 鳞 开 。 角 声 满 天 秋 色 里 ， 塞 上 燕 脂 凝\n",
      "y_pred:1\n",
      "y_true:2\n",
      "----------\n",
      "x_seq:秋 到 边 城 角 声 哀 ， 烽 火 照 高 台 。 悲 歌 击 筑 ， 凭 高 [UNK] 酒 ， 此 兴 悠 哉 。\n",
      "y_pred:1\n",
      "y_true:2\n",
      "----------\n",
      "x_seq:燕 草 如 碧 丝 ， 秦 桑 低 绿 枝 。 当 君 怀 归 日 ， 是 妾 断 肠 时 。 春 风 不 相 识\n",
      "y_pred:1\n",
      "y_true:1\n",
      "----------\n",
      "x_seq:夸 父 诞 宏 志 ， 乃 与 日 竞 走 。 俱 至 虞 渊 下 ， 似 若 无 胜 负 。 神 力 既 殊 妙\n",
      "y_pred:2\n",
      "y_true:1\n",
      "----------\n",
      "x_seq:少 年 听 雨 歌 楼 上 。 红 烛 昏 罗 帐 。 壮 年 听 雨 客 舟 中 。 江 阔 云 低 、 断 雁\n",
      "y_pred:1\n",
      "y_true:2\n",
      "----------\n",
      "x_seq:凤 兮 凤 兮 何 德 之 衰 。 往 者 不 可 谏 。 来 者 犹 可 追 。 已 而 已 而 。 今 之 从\n",
      "y_pred:3\n",
      "y_true:1\n",
      "----------\n",
      "x_seq:洋 洋 平 潭 ， 乃 漱 乃 濯 。 邈 邈 遐 景 ， 载 欣 载 瞩 。 人 亦 有 言 ， 称 心 易 足\n",
      "y_pred:3\n",
      "y_true:2\n",
      "----------\n",
      "x_seq:吾 家 洗 砚 池 头 树 ， 个 个 花 开 淡 墨 痕 。 不 要 人 夸 好 颜 色 ， 只 流 清 气 满\n",
      "y_pred:1\n",
      "y_true:1\n",
      "----------\n",
      "x_seq:余 闲 居 ， 爱 重 九 之 名 。 秋 菊 盈 园 ， 而 持 醪 靡 由 ， 空 服 九 华 ， 寄 怀 于\n",
      "y_pred:3\n",
      "y_true:2\n",
      "----------\n",
      "x_seq:故 人 西 辞 黄 鹤 楼 ， 烟 花 三 月 下 扬 州 。 孤 帆 远 影 碧 空 尽 ， 唯 见 长 江 天\n",
      "y_pred:1\n",
      "y_true:1\n",
      "----------\n",
      "END:**************************************************\n"
     ]
    },
    {
     "name": "stderr",
     "output_type": "stream",
     "text": [
      "I:BASE TASK:[base_task.:270]:Task NER:\n",
      "I:BASE TASK:[base_task.:271]:\t230 training batches\n",
      "I:BASE TASK:[base_task.:272]:\t41 validation batches\n",
      "I:BASE TASK:[base_task.:273]:\t68 test batches\n",
      "I:BERT EMBEDDING:[bert_embed:105]:seq_len:30\n",
      "I:BERT EMBEDDING:[bert_embed:105]:seq_len:30\n",
      "I:AHMTL MODEL:[AHMTL.py:126]:Multi-Task Learning Model has been instantiated.\n",
      "I:CUR_SPLIT:2:[sampler_mu: 92]:Set up ready. Begining training/validation.\n",
      "I:BASE-MODEL:[base_model:133]:NER's model_dir is ./model_ckpt/2020-02-06-10_23_22/2/NER-Naive_CRF_Model\n",
      "I:BASE-MODEL:[base_model:232]:[NER]:train info:Train on 14684 samples, validate on 2592 samples\n",
      "I:BASE-MODEL:[base_model:133]:READABILITY's model_dir is ./model_ckpt/2020-02-06-10_23_22/2/READABILITY-NaiveDenseModel\n",
      "I:BASE-MODEL:[base_model:232]:[READABILITY]:train info:Train on 1301 samples, validate on 230 samples\n"
     ]
    },
    {
     "name": "stdout",
     "output_type": "stream",
     "text": [
      "Epoch 1/50\n",
      "251/251 [==============================] - 125s 499ms/step - task_name:     NER     - loss: 5.8482 - accuracy: 0.8090 - val_loss: 15.4732 - val_accuracy: 0.5227\n",
      "251/251 [==============================] - 125s 499ms/step - task_name: READABILITY - loss: 1.1823 - accuracy: 0.5804 - val_loss: 0.7035 - val_accuracy: 0.6797 \n"
     ]
    },
    {
     "name": "stderr",
     "output_type": "stream",
     "text": [
      "I:CUR_SPLIT:2:[sampler_mu:139]:----------------------------------------------------------------------------------------------------\n"
     ]
    },
    {
     "name": "stdout",
     "output_type": "stream",
     "text": [
      "Epoch 2/50\n",
      "251/251 [==============================] - 63s 251ms/step - task_name:     NER     - loss: 4.6136 - accuracy: 0.8286 - val_loss: 14.0385 - val_accuracy: 0.7879\n",
      "251/251 [==============================] - 63s 251ms/step - task_name: READABILITY - loss: 0.6910 - accuracy: 0.6897 - val_loss: 0.7125 - val_accuracy: 0.6953 \n"
     ]
    },
    {
     "name": "stderr",
     "output_type": "stream",
     "text": [
      "I:CUR_SPLIT:2:[sampler_mu:139]:----------------------------------------------------------------------------------------------------\n"
     ]
    },
    {
     "name": "stdout",
     "output_type": "stream",
     "text": [
      "Epoch 3/50\n",
      "251/251 [==============================] - 64s 254ms/step - task_name:     NER     - loss: 3.8917 - accuracy: 0.8337 - val_loss: 12.8315 - val_accuracy: 0.8160\n",
      "251/251 [==============================] - 64s 254ms/step - task_name: READABILITY - loss: 0.8011 - accuracy: 0.7465 - val_loss: 0.6760 - val_accuracy: 0.7070 \n"
     ]
    },
    {
     "name": "stderr",
     "output_type": "stream",
     "text": [
      "I:CUR_SPLIT:2:[sampler_mu:139]:----------------------------------------------------------------------------------------------------\n"
     ]
    },
    {
     "name": "stdout",
     "output_type": "stream",
     "text": [
      "Epoch 4/50\n",
      "251/251 [==============================] - 66s 262ms/step - task_name:     NER     - loss: 3.5283 - accuracy: 0.8378 - val_loss: 12.0199 - val_accuracy: 0.8125\n",
      "251/251 [==============================] - 66s 262ms/step - task_name: READABILITY - loss: 0.6557 - accuracy: 0.7539 - val_loss: 0.8145 - val_accuracy: 0.6680 \n"
     ]
    },
    {
     "name": "stderr",
     "output_type": "stream",
     "text": [
      "I:CUR_SPLIT:2:[sampler_mu:139]:----------------------------------------------------------------------------------------------------\n"
     ]
    },
    {
     "name": "stdout",
     "output_type": "stream",
     "text": [
      "Epoch 5/50\n",
      "251/251 [==============================] - 66s 262ms/step - task_name:     NER     - loss: 3.2213 - accuracy: 0.8389 - val_loss: 11.3438 - val_accuracy: 0.8133\n",
      "251/251 [==============================] - 66s 262ms/step - task_name: READABILITY - loss: 0.6322 - accuracy: 0.7643 - val_loss: 0.8000 - val_accuracy: 0.6641 \n"
     ]
    },
    {
     "name": "stderr",
     "output_type": "stream",
     "text": [
      "I:CUR_SPLIT:2:[sampler_mu:139]:----------------------------------------------------------------------------------------------------\n"
     ]
    },
    {
     "name": "stdout",
     "output_type": "stream",
     "text": [
      "Epoch 6/50\n",
      "251/251 [==============================] - 63s 252ms/step - task_name:     NER     - loss: 2.9543 - accuracy: 0.8406 - val_loss: 10.9166 - val_accuracy: 0.7961\n",
      "251/251 [==============================] - 63s 252ms/step - task_name: READABILITY - loss: 0.6205 - accuracy: 0.8131 - val_loss: 0.7157 - val_accuracy: 0.6992 \n"
     ]
    },
    {
     "name": "stderr",
     "output_type": "stream",
     "text": [
      "I:CUR_SPLIT:2:[sampler_mu:139]:----------------------------------------------------------------------------------------------------\n"
     ]
    },
    {
     "name": "stdout",
     "output_type": "stream",
     "text": [
      "Epoch 7/50\n",
      "251/251 [==============================] - 64s 255ms/step - task_name:     NER     - loss: 2.8569 - accuracy: 0.8408 - val_loss: 10.5991 - val_accuracy: 0.7825\n",
      "251/251 [==============================] - 64s 255ms/step - task_name: READABILITY - loss: 0.4268 - accuracy: 0.8273 - val_loss: 0.7145 - val_accuracy: 0.7109 \n"
     ]
    },
    {
     "name": "stderr",
     "output_type": "stream",
     "text": [
      "I:CUR_SPLIT:2:[sampler_mu:139]:----------------------------------------------------------------------------------------------------\n"
     ]
    },
    {
     "name": "stdout",
     "output_type": "stream",
     "text": [
      "Epoch 8/50\n",
      "251/251 [==============================] - 63s 253ms/step - task_name:     NER     - loss: 2.6792 - accuracy: 0.8434 - val_loss: 10.2032 - val_accuracy: 0.7914\n",
      "251/251 [==============================] - 63s 253ms/step - task_name: READABILITY - loss: 0.4030 - accuracy: 0.8467 - val_loss: 0.7473 - val_accuracy: 0.6836 \n"
     ]
    },
    {
     "name": "stderr",
     "output_type": "stream",
     "text": [
      "I:CUR_SPLIT:2:[sampler_mu:139]:----------------------------------------------------------------------------------------------------\n"
     ]
    },
    {
     "name": "stdout",
     "output_type": "stream",
     "text": [
      "Epoch 9/50\n",
      "251/251 [==============================] - 64s 254ms/step - task_name:     NER     - loss: 2.4965 - accuracy: 0.8458 - val_loss: 9.9558 - val_accuracy: 0.7907\n",
      "251/251 [==============================] - 64s 254ms/step - task_name: READABILITY - loss: 0.4457 - accuracy: 0.8398 - val_loss: 0.7492 - val_accuracy: 0.6914\n"
     ]
    },
    {
     "name": "stderr",
     "output_type": "stream",
     "text": [
      "I:CUR_SPLIT:2:[sampler_mu:139]:----------------------------------------------------------------------------------------------------\n"
     ]
    },
    {
     "name": "stdout",
     "output_type": "stream",
     "text": [
      "Epoch 10/50\n",
      "251/251 [==============================] - 64s 255ms/step - task_name:     NER     - loss: 2.4159 - accuracy: 0.8472 - val_loss: 9.7276 - val_accuracy: 0.7887\n",
      "251/251 [==============================] - 64s 255ms/step - task_name: READABILITY - loss: 0.3067 - accuracy: 0.8797 - val_loss: 0.7500 - val_accuracy: 0.7188\n"
     ]
    },
    {
     "name": "stderr",
     "output_type": "stream",
     "text": [
      "I:CUR_SPLIT:2:[sampler_mu:139]:----------------------------------------------------------------------------------------------------\n"
     ]
    },
    {
     "name": "stdout",
     "output_type": "stream",
     "text": [
      "Epoch 11/50\n",
      "251/251 [==============================] - 5s 21ms/step - task_name: READABILITY - loss: 0.4658 - accuracy: 0.8576 - val_loss: 0.8037 - val_accuracy: 0.7188\n"
     ]
    },
    {
     "name": "stderr",
     "output_type": "stream",
     "text": [
      "I:CUR_SPLIT:2:[sampler_mu:139]:----------------------------------------------------------------------------------------------------\n"
     ]
    },
    {
     "name": "stdout",
     "output_type": "stream",
     "text": [
      "Epoch 12/50\n",
      "251/251 [==============================] - 5s 19ms/step - task_name: READABILITY - loss: 0.3176 - accuracy: 0.8928 - val_loss: 0.8024 - val_accuracy: 0.7227\n"
     ]
    },
    {
     "name": "stderr",
     "output_type": "stream",
     "text": [
      "I:CUR_SPLIT:2:[sampler_mu:139]:----------------------------------------------------------------------------------------------------\n"
     ]
    },
    {
     "name": "stdout",
     "output_type": "stream",
     "text": [
      "Epoch 13/50\n",
      "251/251 [==============================] - 4s 17ms/step - task_name: READABILITY - loss: 0.2384 - accuracy: 0.9242 - val_loss: 0.8174 - val_accuracy: 0.7266\n"
     ]
    },
    {
     "name": "stderr",
     "output_type": "stream",
     "text": [
      "I:CUR_SPLIT:2:[sampler_mu:139]:----------------------------------------------------------------------------------------------------\n"
     ]
    },
    {
     "name": "stdout",
     "output_type": "stream",
     "text": [
      "Epoch 14/50\n",
      "251/251 [==============================] - 4s 15ms/step - task_name: READABILITY - loss: 0.1926 - accuracy: 0.9358 - val_loss: 0.8040 - val_accuracy: 0.7109\n"
     ]
    },
    {
     "name": "stderr",
     "output_type": "stream",
     "text": [
      "I:CUR_SPLIT:2:[sampler_mu:139]:----------------------------------------------------------------------------------------------------\n"
     ]
    },
    {
     "name": "stdout",
     "output_type": "stream",
     "text": [
      "Epoch 15/50\n",
      "251/251 [==============================] - 6s 26ms/step - task_name: READABILITY - loss: 0.2857 - accuracy: 0.9458 - val_loss: 1.0105 - val_accuracy: 0.6758\n"
     ]
    },
    {
     "name": "stderr",
     "output_type": "stream",
     "text": [
      "I:CUR_SPLIT:2:[sampler_mu:139]:----------------------------------------------------------------------------------------------------\n"
     ]
    },
    {
     "name": "stdout",
     "output_type": "stream",
     "text": [
      "Epoch 16/50\n",
      "251/251 [==============================] - 4s 17ms/step - task_name: READABILITY - loss: 0.1586 - accuracy: 0.9531 - val_loss: 1.0493 - val_accuracy: 0.6641\n"
     ]
    },
    {
     "name": "stderr",
     "output_type": "stream",
     "text": [
      "I:CUR_SPLIT:2:[sampler_mu:139]:----------------------------------------------------------------------------------------------------\n"
     ]
    },
    {
     "name": "stdout",
     "output_type": "stream",
     "text": [
      "Epoch 17/50\n",
      "251/251 [==============================] - 3s 12ms/step - task_name: READABILITY - loss: 0.1023 - accuracy: 0.9520 - val_loss: 1.0470 - val_accuracy: 0.6641\n"
     ]
    },
    {
     "name": "stderr",
     "output_type": "stream",
     "text": [
      "I:CUR_SPLIT:2:[sampler_mu:139]:----------------------------------------------------------------------------------------------------\n"
     ]
    },
    {
     "name": "stdout",
     "output_type": "stream",
     "text": [
      "Epoch 18/50\n",
      "251/251 [==============================] - 5s 22ms/step - task_name: READABILITY - loss: 0.1053 - accuracy: 0.9563 - val_loss: 1.2359 - val_accuracy: 0.6602\n"
     ]
    },
    {
     "name": "stderr",
     "output_type": "stream",
     "text": [
      "I:CUR_SPLIT:2:[sampler_mu:139]:----------------------------------------------------------------------------------------------------\n"
     ]
    },
    {
     "name": "stdout",
     "output_type": "stream",
     "text": [
      "Epoch 19/50\n",
      "251/251 [==============================] - 5s 20ms/step - task_name: READABILITY - loss: 0.2172 - accuracy: 0.9413 - val_loss: 0.9415 - val_accuracy: 0.7031\n"
     ]
    },
    {
     "name": "stderr",
     "output_type": "stream",
     "text": [
      "I:CUR_SPLIT:2:[sampler_mu:139]:----------------------------------------------------------------------------------------------------\n"
     ]
    },
    {
     "name": "stdout",
     "output_type": "stream",
     "text": [
      "Epoch 20/50\n",
      "248/251 [============================>.] - ETA: 0s - task_name: READABILITY - loss: 0.1240 - accuracy: 0.9325\n",
      "Epoch 00020: ReduceLROnPlateau reducing learning rate to 0.0007000000332482159.\n",
      "251/251 [==============================] - 8s 30ms/step - task_name: READABILITY - loss: 0.2275 - accuracy: 0.9333 - val_loss: 1.4570 - val_accuracy: 0.6211\n"
     ]
    },
    {
     "name": "stderr",
     "output_type": "stream",
     "text": [
      "I:CUR_SPLIT:2:[sampler_mu:139]:----------------------------------------------------------------------------------------------------\n"
     ]
    },
    {
     "name": "stdout",
     "output_type": "stream",
     "text": [
      "\n",
      "----------------------------------NER LABEL METRICS -----------------------------------\n",
      "\n",
      "epoch:labeling EPOCH accuracy 0.822956 precision: 0.323396, recall: 0.231286, f1: 0.269693\n",
      "\n",
      "           precision    recall  f1-score   support\n",
      "\n",
      "     ALLU     0.3240    0.2313    0.2699      4315\n",
      "\n",
      "micro avg     0.3234    0.2313    0.2697      4315\n",
      "macro avg     0.3240    0.2313    0.2699      4315\n",
      "\n",
      "----------------------------------NER END ----------------------------------\n",
      "train_example:**************************************************\n",
      "x_seq:蹉 跎 潘 鬓 至 , 蹭 蹬 阮 途 穷 。\n",
      "y_pred:O O B-ALLU O O O O O B-ALLU O O O\n",
      "y_true:O O O O O O O O B-ALLU I-ALLU O O\n",
      "----------\n",
      "x_seq:翟 汤 隐 操 , 许 询 胜 具 。\n",
      "y_pred:O O O O O B-ALLU O O O O\n",
      "y_true:O O O O O B-ALLU I-ALLU I-ALLU I-ALLU O\n",
      "----------\n",
      "x_seq:阆 风 入 辙 迹 , 旷 原 延 冥 搜 。\n",
      "y_pred:O O O O O O O O O O O O\n",
      "y_true:B-ALLU I-ALLU O O O O O O O O O O\n",
      "----------\n",
      "x_seq:茂 陵 罢 酒 惭 中 圣 , 漳 浦 题 诗 怯 大 巫 。\n",
      "y_pred:O O O O O O O O O O O O O O O O\n",
      "y_true:O O O O O B-ALLU I-ALLU O O O O O O O O O\n",
      "----------\n",
      "x_seq:屠 狗 与 贩 [UNK] , 突 起 定 倾 危 。\n",
      "y_pred:B-ALLU O O O O O O O O O O O\n",
      "y_true:B-ALLU I-ALLU O O O O O O O O O O\n",
      "----------\n",
      "x_seq:风 来 应 啸 阮 , 波 动 可 琴 嵇 。\n",
      "y_pred:O O O O O O O O O O O O\n",
      "y_true:O O O B-ALLU I-ALLU O O O O O O O\n",
      "----------\n",
      "x_seq:一 醉 六 十 日 , 一 裘 三 十 年 。\n",
      "y_pred:O O O O O O B-ALLU I-ALLU O O O O\n",
      "y_true:B-ALLU I-ALLU I-ALLU I-ALLU I-ALLU O O O O O O O\n",
      "----------\n",
      "x_seq:贵 来 君 却 少 , 秋 至 老 偏 悲 。\n",
      "y_pred:O O O O O O O O O O O O\n",
      "y_true:O O O O O O B-ALLU I-ALLU I-ALLU I-ALLU I-ALLU O\n",
      "----------\n",
      "x_seq:稼 [UNK] 随 波 澜 , 西 成 不 可 求 。\n",
      "y_pred:B-ALLU O O O O O O O O O O O\n",
      "y_true:O O O O O O B-ALLU I-ALLU O O O O\n",
      "----------\n",
      "x_seq:临 川 内 史 怜 诸 谢 , 尔 在 生 缘 比 惠 宗 。\n",
      "y_pred:O O O O O O O O O O O O O O O O\n",
      "y_true:B-ALLU I-ALLU I-ALLU I-ALLU O O O O O O O O O O O O\n",
      "----------\n",
      "END:**************************************************\n",
      "test_example:**************************************************\n",
      "x_seq:坐 疑 许 宅 驱 鸡 犬 , 笑 类 樊 妻 化 羽 毛 。\n",
      "y_pred:O O O O O O O O O O B-ALLU I-ALLU O O O O\n",
      "y_true:O O B-ALLU I-ALLU I-ALLU I-ALLU I-ALLU O O O O O O O O O\n",
      "----------\n",
      "x_seq:翩 翩 羽 骑 双 旌 后 , 上 客 亲 随 郭 细 侯 。\n",
      "y_pred:O O O O O O O O O O O O B-ALLU I-ALLU I-ALLU O\n",
      "y_true:O O O O O O O O O O O O B-ALLU I-ALLU I-ALLU O\n",
      "----------\n",
      "x_seq:盛 德 方 清 贵 , 旋 闻 逐 逝 波 。\n",
      "y_pred:O O O O O O O O O O O O\n",
      "y_true:O O O O O O O O O B-ALLU O O\n",
      "----------\n",
      "x_seq:相 如 不 足 夸 [UNK] [UNK] , 王 恭 鹤 [UNK] 安 可 方 。\n",
      "y_pred:O O O O O O O O B-ALLU I-ALLU I-ALLU I-ALLU O O O O\n",
      "y_true:O O O O O B-ALLU I-ALLU O O O O O O O O O\n",
      "----------\n",
      "x_seq:朝 饮 河 生 尘 , 暮 饮 海 绝 流 。\n",
      "y_pred:O O O O O O O O O O O O\n",
      "y_true:O B-ALLU I-ALLU I-ALLU I-ALLU I-ALLU I-ALLU I-ALLU I-ALLU I-ALLU I-ALLU O\n",
      "----------\n",
      "x_seq:九 年 夏 四 月 , 天 诫 若 言 语 。 烈 风 驾 地 震 , 狞 雷 驱 猛 雨 。\n",
      "y_pred:O O O O O O O O O O O O O O O O O O O O O O I-ALLU O\n",
      "y_true:O O O O O O B-ALLU I-ALLU O O O O O O O O O O O O O O O O\n",
      "----------\n",
      "x_seq:寂 寞 天 籁 息 , 清 迥 鸟 声 曙 。\n",
      "y_pred:O O O O O O O O O O O O\n",
      "y_true:O O B-ALLU I-ALLU O O O O O O O O\n",
      "----------\n",
      "x_seq:常 谈 即 至 理 , 安 事 非 常 情 。\n",
      "y_pred:O O O O O O O O O O O O\n",
      "y_true:B-ALLU O O O O O O O O O O O\n",
      "----------\n",
      "x_seq:绣 衣 屡 许 携 家 酝 , 皂 盖 能 忘 折 野 梅 。\n",
      "y_pred:O O O O O O O O B-ALLU I-ALLU O O O O O O\n",
      "y_true:B-ALLU I-ALLU O O O O O O O O O O O O O O\n",
      "----------\n",
      "x_seq:自 嫌 如 匹 素 , 刀 尺 不 由 身 。\n",
      "y_pred:O O O O O O B-ALLU O O O O O\n",
      "y_true:O O O O O O B-ALLU I-ALLU O O O O\n",
      "----------\n",
      "END:**************************************************\n",
      "\n",
      "----------------------------------READABILITY CLASS METRICS -----------------------------------\n",
      "\n",
      "              precision    recall  f1-score   support\n",
      "    accuracy                         0.6110       383\n",
      "   macro avg     0.6478    0.5600    0.5681       383\n",
      "weighted avg     0.6136    0.6110    0.5765       383\n",
      "\n",
      "\n",
      "epoch:classification EPOCH accuracy: 0.6109660574412533 precision: 0.647754, recall: 0.559958, f1: 0.568074\n",
      "\n",
      "-----------------------------READABILITY END ----------------------------\n"
     ]
    },
    {
     "name": "stderr",
     "output_type": "stream",
     "text": [
      "I:SAMPLE_TRAINER:[sampler_mu: 43]:cur_split_idx 2th END\n",
      "I:SAMPLE_TRAINER:[sampler_mu: 44]:****************************************************************************************************\n",
      "I:SAMPLE_TRAINER:[sampler_mu: 45]:****************************************************************************************************\n",
      "I:BASE TASK:[base_task.:270]:Task READABILITY:\n",
      "I:BASE TASK:[base_task.:271]:\t21 training batches\n",
      "I:BASE TASK:[base_task.:272]:\t4 validation batches\n",
      "I:BASE TASK:[base_task.:273]:\t6 test batches\n"
     ]
    },
    {
     "name": "stdout",
     "output_type": "stream",
     "text": [
      "train_example:**************************************************\n",
      "x_seq:宛 彼 鸣 鸠 ， 翰 飞 戾 天 。 我 心 忧 伤 ， 念 昔 先 人 。 明 发 不 寐 ， 有 怀 二 人\n",
      "y_pred:3\n",
      "y_true:3\n",
      "----------\n",
      "x_seq:青 山 隐 隐 水 迢 迢 ， 秋 尽 江 南 草 未 凋 。 二 十 四 桥 明 月 夜 ， 玉 人 何 处 教\n",
      "y_pred:1\n",
      "y_true:1\n",
      "----------\n",
      "x_seq:百 叶 双 桃 晚 更 红 ， 窥 窗 映 竹 见 玲 珑 。 应 知 侍 史 归 天 上 ， 故 伴 仙 郎 宿\n",
      "y_pred:1\n",
      "y_true:2\n",
      "----------\n",
      "x_seq:生 涯 岂 料 承 优 诏 ， 世 事 空 知 学 醉 歌 。 江 上 月 明 胡 雁 过 ， 淮 南 木 落 楚\n",
      "y_pred:1\n",
      "y_true:2\n",
      "----------\n",
      "x_seq:有 [UNK] 者 弁 ， 实 维 伊 何 ？ 尔 酒 既 旨 ， 尔 肴 既 嘉 。 岂 伊 异 人 ？ 兄 弟 匪 他\n",
      "y_pred:3\n",
      "y_true:3\n",
      "----------\n",
      "x_seq:下 床 着 新 衣 ， 初 学 小 姑 拜 。 低 头 羞 见 人 ， 双 手 结 裙 带 。 [UNK] [PAD] [PAD] [PAD] [PAD]\n",
      "y_pred:1\n",
      "y_true:1\n",
      "----------\n",
      "x_seq:共 骇 群 龙 水 上 游 ， 不 知 原 是 木 兰 舟 。 云 旗 猎 猎 翻 青 汉 ， 雷 鼓 嘈 嘈 殷\n",
      "y_pred:1\n",
      "y_true:1\n",
      "----------\n",
      "x_seq:牛 羊 散 漫 落 日 下 ， 野 草 生 香 乳 酪 甜 。 卷 地 朔 风 沙 似 雪 ， 家 家 行 帐 下\n",
      "y_pred:1\n",
      "y_true:1\n",
      "----------\n",
      "x_seq:冰 雪 林 中 著 此 身 ， 不 同 桃 李 混 芳 尘 。 忽 然 一 夜 清 香 发 ， 散 作 乾 坤 万\n",
      "y_pred:1\n",
      "y_true:1\n",
      "----------\n",
      "x_seq:司 马 错 与 张 仪 争 论 于 秦 惠 王 前 ， 司 马 错 欲 伐 蜀 ， 张 仪 曰 ： [UNK] 不 如 伐\n",
      "y_pred:3\n",
      "y_true:3\n",
      "----------\n",
      "END:**************************************************\n",
      "test_example:**************************************************\n",
      "x_seq:长 江 悲 已 滞 ， 万 里 念 将 归 。 况 属 高 风 晚 ， 山 山 黄 叶 飞 。 [UNK] [PAD] [PAD] [PAD] [PAD]\n",
      "y_pred:1\n",
      "y_true:1\n",
      "----------\n",
      "x_seq:一 粒 红 稻 饭 ， 几 滴 牛 颔 血 。 珊 瑚 枝 下 人 ， 衔 杯 吐 不 歇 。 [UNK] [PAD] [PAD] [PAD] [PAD]\n",
      "y_pred:1\n",
      "y_true:1\n",
      "----------\n",
      "x_seq:废 逐 人 所 弃 ， 遂 为 鬼 神 欺 。 才 难 不 其 然 ， 卒 与 大 患 期 。 凌 人 古 受 氏\n",
      "y_pred:2\n",
      "y_true:3\n",
      "----------\n",
      "x_seq:雨 晴 云 散 ， 满 江 明 月 。 风 微 浪 息 ， 扁 舟 一 叶 。 半 夜 心 ， 三 生 梦 ， 万\n",
      "y_pred:1\n",
      "y_true:1\n",
      "----------\n",
      "x_seq:零 落 栖 迟 一 杯 酒 ， 主 人 奉 觞 客 长 寿 。 主 父 西 游 困 不 归 ， 家 人 折 断 门\n",
      "y_pred:1\n",
      "y_true:2\n",
      "----------\n",
      "x_seq:春 残 何 事 苦 思 乡 ， 病 里 梳 头 恨 最 长 。 梁 燕 语 多 终 日 在 ， 蔷 薇 风 细 一\n",
      "y_pred:1\n",
      "y_true:1\n",
      "----------\n",
      "x_seq:青 山 相 待 ， 白 云 相 爱 ， 梦 不 到 紫 罗 袍 共 黄 金 带 。 一 茅 斋 ， 野 花 开 。\n",
      "y_pred:1\n",
      "y_true:1\n",
      "----------\n",
      "x_seq:紫 陌 红 尘 拂 面 来 ， 无 人 不 道 看 花 回 。 玄 都 观 里 桃 千 树 ， 尽 是 刘 郎 去\n",
      "y_pred:1\n",
      "y_true:1\n",
      "----------\n",
      "x_seq:乱 后 烧 残 数 架 书 ， 峰 前 犹 自 恋 吾 庐 。 忘 机 渐 喜 逢 人 少 ， 览 镜 空 怜 待\n",
      "y_pred:2\n",
      "y_true:2\n",
      "----------\n",
      "x_seq:江 水 漾 西 风 ， 江 花 脱 晚 红 。 离 情 被 横 笛 ， 吹 过 乱 山 东 。 [UNK] [PAD] [PAD] [PAD] [PAD]\n",
      "y_pred:1\n",
      "y_true:1\n",
      "----------\n",
      "END:**************************************************\n"
     ]
    },
    {
     "name": "stderr",
     "output_type": "stream",
     "text": [
      "I:BASE TASK:[base_task.:270]:Task NER:\n",
      "I:BASE TASK:[base_task.:271]:\t230 training batches\n",
      "I:BASE TASK:[base_task.:272]:\t41 validation batches\n",
      "I:BASE TASK:[base_task.:273]:\t68 test batches\n",
      "I:BERT EMBEDDING:[bert_embed:105]:seq_len:30\n",
      "I:BERT EMBEDDING:[bert_embed:105]:seq_len:30\n",
      "I:AHMTL MODEL:[AHMTL.py:126]:Multi-Task Learning Model has been instantiated.\n",
      "I:CUR_SPLIT:3:[sampler_mu: 92]:Set up ready. Begining training/validation.\n",
      "I:BASE-MODEL:[base_model:133]:NER's model_dir is ./model_ckpt/2020-02-06-10_23_22/3/NER-Naive_CRF_Model\n",
      "I:BASE-MODEL:[base_model:232]:[NER]:train info:Train on 14684 samples, validate on 2592 samples\n",
      "I:BASE-MODEL:[base_model:133]:READABILITY's model_dir is ./model_ckpt/2020-02-06-10_23_22/3/READABILITY-NaiveDenseModel\n",
      "I:BASE-MODEL:[base_model:232]:[READABILITY]:train info:Train on 1301 samples, validate on 230 samples\n"
     ]
    },
    {
     "name": "stdout",
     "output_type": "stream",
     "text": [
      "Epoch 1/50\n",
      "251/251 [==============================] - 123s 489ms/step - task_name:     NER     - loss: 7.0967 - accuracy: 0.8038 - val_loss: 19.8838 - val_accuracy: 0.1544\n",
      "251/251 [==============================] - 123s 489ms/step - task_name: READABILITY - loss: 0.8178 - accuracy: 0.5576 - val_loss: 0.8126 - val_accuracy: 0.6641 \n"
     ]
    },
    {
     "name": "stderr",
     "output_type": "stream",
     "text": [
      "I:CUR_SPLIT:3:[sampler_mu:139]:----------------------------------------------------------------------------------------------------\n"
     ]
    },
    {
     "name": "stdout",
     "output_type": "stream",
     "text": [
      "Epoch 2/50\n",
      "251/251 [==============================] - 65s 261ms/step - task_name:     NER     - loss: 5.0923 - accuracy: 0.8232 - val_loss: 18.3086 - val_accuracy: 0.1772\n",
      "251/251 [==============================] - 65s 261ms/step - task_name: READABILITY - loss: 0.7951 - accuracy: 0.6071 - val_loss: 0.7862 - val_accuracy: 0.6523 \n"
     ]
    },
    {
     "name": "stderr",
     "output_type": "stream",
     "text": [
      "I:CUR_SPLIT:3:[sampler_mu:139]:----------------------------------------------------------------------------------------------------\n"
     ]
    },
    {
     "name": "stdout",
     "output_type": "stream",
     "text": [
      "Epoch 3/50\n",
      "251/251 [==============================] - 64s 254ms/step - task_name:     NER     - loss: 4.3823 - accuracy: 0.8316 - val_loss: 17.1903 - val_accuracy: 0.8013\n",
      "251/251 [==============================] - 64s 254ms/step - task_name: READABILITY - loss: 0.6637 - accuracy: 0.6758 - val_loss: 0.7476 - val_accuracy: 0.6914 \n"
     ]
    },
    {
     "name": "stderr",
     "output_type": "stream",
     "text": [
      "I:CUR_SPLIT:3:[sampler_mu:139]:----------------------------------------------------------------------------------------------------\n"
     ]
    },
    {
     "name": "stdout",
     "output_type": "stream",
     "text": [
      "Epoch 4/50\n",
      "251/251 [==============================] - 65s 257ms/step - task_name:     NER     - loss: 3.9887 - accuracy: 0.8350 - val_loss: 15.9038 - val_accuracy: 0.8126\n",
      "251/251 [==============================] - 65s 257ms/step - task_name: READABILITY - loss: 0.4356 - accuracy: 0.7020 - val_loss: 0.7659 - val_accuracy: 0.6562 \n"
     ]
    },
    {
     "name": "stderr",
     "output_type": "stream",
     "text": [
      "I:CUR_SPLIT:3:[sampler_mu:139]:----------------------------------------------------------------------------------------------------\n"
     ]
    },
    {
     "name": "stdout",
     "output_type": "stream",
     "text": [
      "Epoch 5/50\n",
      "251/251 [==============================] - 67s 265ms/step - task_name:     NER     - loss: 3.3598 - accuracy: 0.8368 - val_loss: 15.0843 - val_accuracy: 0.7745\n",
      "251/251 [==============================] - 67s 265ms/step - task_name: READABILITY - loss: 0.9037 - accuracy: 0.7319 - val_loss: 0.9407 - val_accuracy: 0.6328 \n"
     ]
    },
    {
     "name": "stderr",
     "output_type": "stream",
     "text": [
      "I:CUR_SPLIT:3:[sampler_mu:139]:----------------------------------------------------------------------------------------------------\n"
     ]
    },
    {
     "name": "stdout",
     "output_type": "stream",
     "text": [
      "Epoch 6/50\n",
      "251/251 [==============================] - 64s 255ms/step - task_name:     NER     - loss: 3.3262 - accuracy: 0.8377 - val_loss: 14.8943 - val_accuracy: 0.6110\n",
      "251/251 [==============================] - 64s 255ms/step - task_name: READABILITY - loss: 0.4179 - accuracy: 0.7686 - val_loss: 0.7980 - val_accuracy: 0.6719 \n"
     ]
    },
    {
     "name": "stderr",
     "output_type": "stream",
     "text": [
      "I:CUR_SPLIT:3:[sampler_mu:139]:----------------------------------------------------------------------------------------------------\n"
     ]
    },
    {
     "name": "stdout",
     "output_type": "stream",
     "text": [
      "Epoch 7/50\n",
      "251/251 [==============================] - 64s 254ms/step - task_name:     NER     - loss: 3.0657 - accuracy: 0.8398 - val_loss: 13.9646 - val_accuracy: 0.6604\n",
      "251/251 [==============================] - 64s 254ms/step - task_name: READABILITY - loss: 0.4697 - accuracy: 0.7681 - val_loss: 0.7802 - val_accuracy: 0.6641 \n"
     ]
    },
    {
     "name": "stderr",
     "output_type": "stream",
     "text": [
      "I:CUR_SPLIT:3:[sampler_mu:139]:----------------------------------------------------------------------------------------------------\n"
     ]
    },
    {
     "name": "stdout",
     "output_type": "stream",
     "text": [
      "Epoch 8/50\n",
      "251/251 [==============================] - 64s 255ms/step - task_name:     NER     - loss: 2.9247 - accuracy: 0.8415 - val_loss: 13.7736 - val_accuracy: 0.6328\n",
      "251/251 [==============================] - 64s 255ms/step - task_name: READABILITY - loss: 0.3505 - accuracy: 0.7927 - val_loss: 0.8699 - val_accuracy: 0.6602 \n"
     ]
    },
    {
     "name": "stderr",
     "output_type": "stream",
     "text": [
      "I:CUR_SPLIT:3:[sampler_mu:139]:----------------------------------------------------------------------------------------------------\n"
     ]
    },
    {
     "name": "stdout",
     "output_type": "stream",
     "text": [
      "Epoch 9/50\n",
      "251/251 [==============================] - 64s 254ms/step - task_name:     NER     - loss: 2.7201 - accuracy: 0.8415 - val_loss: 13.5382 - val_accuracy: 0.3616\n",
      "251/251 [==============================] - 64s 254ms/step - task_name: READABILITY - loss: 0.4317 - accuracy: 0.8008 - val_loss: 0.8166 - val_accuracy: 0.6758 \n"
     ]
    },
    {
     "name": "stderr",
     "output_type": "stream",
     "text": [
      "I:CUR_SPLIT:3:[sampler_mu:139]:----------------------------------------------------------------------------------------------------\n"
     ]
    },
    {
     "name": "stdout",
     "output_type": "stream",
     "text": [
      "Epoch 10/50\n",
      "251/251 [==============================] - 63s 253ms/step - task_name:     NER     - loss: 2.5182 - accuracy: 0.8427 - val_loss: 13.2223 - val_accuracy: 0.3455\n",
      "251/251 [==============================] - 63s 253ms/step - task_name: READABILITY - loss: 0.5121 - accuracy: 0.8382 - val_loss: 0.8596 - val_accuracy: 0.6641 \n"
     ]
    },
    {
     "name": "stderr",
     "output_type": "stream",
     "text": [
      "I:CUR_SPLIT:3:[sampler_mu:139]:----------------------------------------------------------------------------------------------------\n"
     ]
    },
    {
     "name": "stdout",
     "output_type": "stream",
     "text": [
      "Epoch 11/50\n",
      "251/251 [==============================] - 59s 235ms/step - task_name:     NER     - loss: 2.8164 - accuracy: 0.8219 - val_loss: 12.9777 - val_accuracy: 0.2949\n"
     ]
    },
    {
     "name": "stderr",
     "output_type": "stream",
     "text": [
      "I:CUR_SPLIT:3:[sampler_mu:139]:----------------------------------------------------------------------------------------------------\n"
     ]
    },
    {
     "name": "stdout",
     "output_type": "stream",
     "text": [
      "\n",
      "----------------------------------NER LABEL METRICS -----------------------------------\n",
      "\n",
      "epoch:labeling EPOCH accuracy 0.817675 precision: 0.372800, recall: 0.053960, f1: 0.094275\n",
      "\n",
      "           precision    recall  f1-score   support\n",
      "\n",
      "     ALLU     0.3746    0.0540    0.0943      4318\n",
      "\n",
      "micro avg     0.3728    0.0540    0.0943      4318\n",
      "macro avg     0.3746    0.0540    0.0943      4318\n",
      "\n",
      "----------------------------------NER END ----------------------------------\n",
      "train_example:**************************************************\n",
      "x_seq:林 壑 能 忘 轩 冕 贵 , 白 云 黄 鹤 好 相 亲 。\n",
      "y_pred:O O O O O O O O O O O O O O O O\n",
      "y_true:O O O O B-ALLU I-ALLU O O O O O O O O O O\n",
      "----------\n",
      "x_seq:刘 桢 徒 有 气 , 管 [UNK] 独 无 年 。\n",
      "y_pred:O O O O O O O O O O O O\n",
      "y_true:B-ALLU I-ALLU I-ALLU I-ALLU I-ALLU O O O O O O O\n",
      "----------\n",
      "x_seq:献 芹 则 小 小 , 荐 藻 明 区 区 。\n",
      "y_pred:O O O O O O O O O O O O\n",
      "y_true:B-ALLU I-ALLU O O O O O O O O O O\n",
      "----------\n",
      "x_seq:还 乘 郑 小 驷 , [UNK] [UNK] 县 城 阴 。\n",
      "y_pred:O O O O O O O O O O O O\n",
      "y_true:O O B-ALLU I-ALLU I-ALLU O O O O O O O\n",
      "----------\n",
      "x_seq:一 朝 诏 下 辞 金 屋 , 班 姬 自 痛 何 仓 卒 。\n",
      "y_pred:O O O O O O O O O O O O O O O O\n",
      "y_true:O O O O O B-ALLU I-ALLU O O O O O O O O O\n",
      "----------\n",
      "x_seq:陶 令 何 足 录 , 彭 泽 归 已 迟 。\n",
      "y_pred:O O O O O O O O O O O O\n",
      "y_true:O B-ALLU I-ALLU I-ALLU I-ALLU I-ALLU I-ALLU O O O O O\n",
      "----------\n",
      "x_seq:禹 穴 探 书 罢 , 天 台 作 赋 游 。\n",
      "y_pred:O O O O O O O O O O O O\n",
      "y_true:B-ALLU I-ALLU O O O O O O O O O O\n",
      "----------\n",
      "x_seq:少 小 不 好 弄 , [UNK] 巡 奉 弓 箕 。\n",
      "y_pred:O O O O O O O O O O O O\n",
      "y_true:O O B-ALLU I-ALLU I-ALLU O O O O O O O\n",
      "----------\n",
      "x_seq:[UNK] 王 犹 指 鹿 , 依 社 尚 凭 狐 。\n",
      "y_pred:O O O O O O O O O O O O\n",
      "y_true:O O O O O O O B-ALLU I-ALLU I-ALLU I-ALLU O\n",
      "----------\n",
      "x_seq:女 娲 戏 黄 土 , 团 作 愚 下 人 。 散 在 六 合 间 , 蒙 蒙 若 沙 尘 。\n",
      "y_pred:O O O O O O O O O O O O O O O O O O O O O O O O\n",
      "y_true:B-ALLU I-ALLU I-ALLU I-ALLU I-ALLU O O O O O O O O O O O O O O O O O O O\n",
      "----------\n",
      "END:**************************************************\n",
      "test_example:**************************************************\n",
      "x_seq:左 牵 犬 马 诚 难 测 , 右 袒 簪 缨 最 负 恩 。\n",
      "y_pred:O O O O O O O O O O O O O O O O\n",
      "y_true:B-ALLU I-ALLU O O O O O O O O O O O O O O\n",
      "----------\n",
      "x_seq:位 高 汤 左 相 , 权 总 汉 诸 侯 。\n",
      "y_pred:O O O O O O O O O O O O\n",
      "y_true:O O B-ALLU I-ALLU I-ALLU O O O O O O O\n",
      "----------\n",
      "x_seq:更 恋 陶 彭 泽 , 无 心 议 去 官 。\n",
      "y_pred:O O O O O O O O O O O O\n",
      "y_true:O O O B-ALLU I-ALLU O O O O O O O\n",
      "----------\n",
      "x_seq:李 广 从 来 先 将 士 , 卫 青 未 肯 学 孙 吴 。\n",
      "y_pred:O O O O O O O O O O O O O O O O\n",
      "y_true:B-ALLU I-ALLU I-ALLU I-ALLU I-ALLU I-ALLU O O O O O O O O O O\n",
      "----------\n",
      "x_seq:伊 籍 一 拜 , 郦 生 长 揖 。\n",
      "y_pred:O O O O O O O O O O\n",
      "y_true:O O O O O B-ALLU I-ALLU I-ALLU I-ALLU O\n",
      "----------\n",
      "x_seq:斩 虏 还 遮 塞 , 绥 降 更 筑 城 。\n",
      "y_pred:O O O O O O O O O O O O\n",
      "y_true:O O O O O O B-ALLU I-ALLU I-ALLU I-ALLU I-ALLU O\n",
      "----------\n",
      "x_seq:夫 子 墙 还 峻 , [UNK] 侯 宅 过 谦 。\n",
      "y_pred:O O O O O O O O O O O O\n",
      "y_true:O O O O O O B-ALLU I-ALLU O O O O\n",
      "----------\n",
      "x_seq:弧 矢 引 满 反 射 人 , 天 狼 呀 啄 明 煌 煌 。\n",
      "y_pred:O O O O O O O O O O O O O O O O\n",
      "y_true:O O O O O O O O B-ALLU I-ALLU O O O O O O\n",
      "----------\n",
      "x_seq:似 璧 悲 三 献 , 疑 珠 怯 再 投 。\n",
      "y_pred:O O O O O O O O O O O O\n",
      "y_true:O O O O O O O B-ALLU I-ALLU I-ALLU I-ALLU O\n",
      "----------\n",
      "x_seq:而 君 复 何 为 , 甘 食 比 豢 豹 。\n",
      "y_pred:O O O O O O O O O B-ALLU I-ALLU O\n",
      "y_true:O O O O O O O O O B-ALLU I-ALLU O\n",
      "----------\n",
      "END:**************************************************\n",
      "\n",
      "----------------------------------READABILITY CLASS METRICS -----------------------------------\n",
      "\n",
      "              precision    recall  f1-score   support\n",
      "    accuracy                         0.6501       383\n",
      "   macro avg     0.7018    0.6914    0.6518       383\n",
      "weighted avg     0.7002    0.6501    0.6184       383\n",
      "\n",
      "\n",
      "epoch:classification EPOCH accuracy: 0.6501305483028721 precision: 0.701767, recall: 0.691384, f1: 0.651817\n",
      "\n",
      "-----------------------------READABILITY END ----------------------------\n"
     ]
    },
    {
     "name": "stderr",
     "output_type": "stream",
     "text": [
      "I:SAMPLE_TRAINER:[sampler_mu: 43]:cur_split_idx 3th END\n",
      "I:SAMPLE_TRAINER:[sampler_mu: 44]:****************************************************************************************************\n",
      "I:SAMPLE_TRAINER:[sampler_mu: 45]:****************************************************************************************************\n",
      "I:BASE TASK:[base_task.:270]:Task READABILITY:\n",
      "I:BASE TASK:[base_task.:271]:\t21 training batches\n",
      "I:BASE TASK:[base_task.:272]:\t4 validation batches\n",
      "I:BASE TASK:[base_task.:273]:\t6 test batches\n"
     ]
    },
    {
     "name": "stdout",
     "output_type": "stream",
     "text": [
      "train_example:**************************************************\n",
      "x_seq:古 人 学 问 无 遗 力 ， 少 壮 工 夫 老 始 成 。 纸 上 得 来 终 觉 浅 ， 绝 知 此 事 要\n",
      "y_pred:1\n",
      "y_true:1\n",
      "----------\n",
      "x_seq:金 锁 重 门 荒 苑 静 ， 绮 窗 愁 对 秋 空 。 翠 华 一 去 寂 无 踪 。 玉 楼 歌 吹 ， 声\n",
      "y_pred:1\n",
      "y_true:1\n",
      "----------\n",
      "x_seq:五 月 五 日 午 ， 赠 我 一 枝 艾 。 故 人 不 可 见 ， 新 知 万 里 外 。 丹 心 照 夙 昔\n",
      "y_pred:1\n",
      "y_true:1\n",
      "----------\n",
      "x_seq:杨 花 扑 帐 春 云 热 ， 龟 甲 屏 风 醉 眼 [UNK] 。 东 家 胡 蝶 西 家 飞 ， 白 骑 少 年 今\n",
      "y_pred:1\n",
      "y_true:1\n",
      "----------\n",
      "x_seq:炉 火 照 天 地 ， 红 星 乱 紫 烟 。 赧 郎 明 月 夜 ， 歌 曲 动 寒 川 。 [UNK] [PAD] [PAD] [PAD] [PAD]\n",
      "y_pred:1\n",
      "y_true:1\n",
      "----------\n",
      "x_seq:岂 是 从 容 唱 渭 城 ， 个 中 当 有 不 平 鸣 。 可 怜 日 晏 忍 饥 面 ， 强 作 春 深 求\n",
      "y_pred:1\n",
      "y_true:1\n",
      "----------\n",
      "x_seq:三 百 六 十 日 ， 日 日 醉 如 泥 。 虽 为 李 白 妇 ， 何 异 太 常 妻 。 [UNK] [PAD] [PAD] [PAD] [PAD]\n",
      "y_pred:1\n",
      "y_true:1\n",
      "----------\n",
      "x_seq:黄 鸟 黄 鸟 ， 无 集 于 穀 ， 无 啄 我 粟 。 此 邦 之 人 ， 不 我 肯 穀 。 言 旋 言 归\n",
      "y_pred:3\n",
      "y_true:3\n",
      "----------\n",
      "x_seq:曾 绝 朱 缨 吐 锦 茵 ， 欲 披 荒 草 访 遗 尘 。 秋 风 忽 洒 西 园 泪 ， 满 目 山 阳 笛\n",
      "y_pred:2\n",
      "y_true:2\n",
      "----------\n",
      "x_seq:驿 外 断 桥 边 ， 寂 寞 开 无 主 。 已 是 黄 昏 独 自 愁 ， 更 著 风 和 雨 。 无 意 苦\n",
      "y_pred:1\n",
      "y_true:1\n",
      "----------\n",
      "END:**************************************************\n",
      "test_example:**************************************************\n",
      "x_seq:嗟 嗟 烈 祖 ！ 有 秩 斯 祜 。 申 锡 无 疆 ， 及 尔 斯 所 。 既 载 清 [UNK] ， [UNK] 我 思 成\n",
      "y_pred:3\n",
      "y_true:3\n",
      "----------\n",
      "x_seq:社 长 排 门 告 示 ， 但 有 的 差 使 无 推 故 ， 这 差 使 不 寻 俗 。 一 壁 厢 纳 草 也\n",
      "y_pred:1\n",
      "y_true:3\n",
      "----------\n",
      "x_seq:吴 无 君 ， 无 大 夫 ， 此 何 以 有 君 ， 有 大 夫 ？ 贤 季 子 也 。 何 贤 乎 季 子 ？\n",
      "y_pred:1\n",
      "y_true:3\n",
      "----------\n",
      "x_seq:江 国 逾 千 里 ， 山 城 仅 百 层 。 岸 风 翻 夕 浪 ， 舟 雪 洒 寒 灯 。 留 滞 才 难 尽\n",
      "y_pred:1\n",
      "y_true:2\n",
      "----------\n",
      "x_seq:樱 桃 落 尽 春 归 去 ， 蝶 翻 金 粉 双 飞 。 子 规 啼 月 小 楼 西 ， 玉 钩 罗 幕 ， 惆\n",
      "y_pred:1\n",
      "y_true:2\n",
      "----------\n",
      "x_seq:人 闲 桂 花 落 ， 夜 静 春 山 空 。 月 出 惊 山 鸟 ， 时 鸣 春 涧 中 。 [UNK] [PAD] [PAD] [PAD] [PAD]\n",
      "y_pred:1\n",
      "y_true:1\n",
      "----------\n",
      "x_seq:牧 童 骑 黄 牛 ， 歌 声 振 林 樾 。 意 欲 捕 鸣 蝉 ， 忽 然 闭 口 立 。 [UNK] [PAD] [PAD] [PAD] [PAD]\n",
      "y_pred:1\n",
      "y_true:1\n",
      "----------\n",
      "x_seq:西 京 乱 无 象 ， 豺 虎 方 [UNK] 患 。 复 弃 中 国 去 ， 委 身 适 荆 蛮 。 亲 戚 对 我 悲\n",
      "y_pred:2\n",
      "y_true:2\n",
      "----------\n",
      "x_seq:爆 竹 声 中 一 岁 除 ， 春 风 送 暖 入 屠 苏 。 千 门 万 户 [UNK] [UNK] 日 ， 总 把 新 桃 换\n",
      "y_pred:1\n",
      "y_true:1\n",
      "----------\n",
      "x_seq:岂 曰 无 衣 ？ 与 子 同 袍 。 王 于 兴 师 ， 修 我 戈 矛 。 与 子 同 仇 ！ 岂 曰 无 衣\n",
      "y_pred:3\n",
      "y_true:2\n",
      "----------\n",
      "END:**************************************************\n"
     ]
    },
    {
     "name": "stderr",
     "output_type": "stream",
     "text": [
      "I:BASE TASK:[base_task.:270]:Task NER:\n",
      "I:BASE TASK:[base_task.:271]:\t230 training batches\n",
      "I:BASE TASK:[base_task.:272]:\t41 validation batches\n",
      "I:BASE TASK:[base_task.:273]:\t68 test batches\n",
      "I:BERT EMBEDDING:[bert_embed:105]:seq_len:30\n",
      "I:BERT EMBEDDING:[bert_embed:105]:seq_len:30\n",
      "I:AHMTL MODEL:[AHMTL.py:126]:Multi-Task Learning Model has been instantiated.\n",
      "I:CUR_SPLIT:4:[sampler_mu: 92]:Set up ready. Begining training/validation.\n",
      "I:BASE-MODEL:[base_model:133]:NER's model_dir is ./model_ckpt/2020-02-06-10_23_22/4/NER-Naive_CRF_Model\n",
      "I:BASE-MODEL:[base_model:232]:[NER]:train info:Train on 14684 samples, validate on 2592 samples\n",
      "I:BASE-MODEL:[base_model:133]:READABILITY's model_dir is ./model_ckpt/2020-02-06-10_23_22/4/READABILITY-NaiveDenseModel\n",
      "I:BASE-MODEL:[base_model:232]:[READABILITY]:train info:Train on 1302 samples, validate on 230 samples\n"
     ]
    },
    {
     "name": "stdout",
     "output_type": "stream",
     "text": [
      "Epoch 1/50\n",
      "251/251 [==============================] - 122s 488ms/step - task_name:     NER     - loss: 6.2555 - accuracy: 0.8106 - val_loss: 11.3339 - val_accuracy: 0.7617\n",
      "251/251 [==============================] - 122s 488ms/step - task_name: READABILITY - loss: 1.0014 - accuracy: 0.5684 - val_loss: 0.8659 - val_accuracy: 0.6445 \n"
     ]
    },
    {
     "name": "stderr",
     "output_type": "stream",
     "text": [
      "I:CUR_SPLIT:4:[sampler_mu:139]:----------------------------------------------------------------------------------------------------\n"
     ]
    },
    {
     "name": "stdout",
     "output_type": "stream",
     "text": [
      "Epoch 2/50\n",
      "251/251 [==============================] - 63s 252ms/step - task_name:     NER     - loss: 4.8461 - accuracy: 0.8297 - val_loss: 9.8899 - val_accuracy: 0.7710\n",
      "251/251 [==============================] - 63s 252ms/step - task_name: READABILITY - loss: 0.6860 - accuracy: 0.6882 - val_loss: 0.8007 - val_accuracy: 0.6602\n"
     ]
    },
    {
     "name": "stderr",
     "output_type": "stream",
     "text": [
      "I:CUR_SPLIT:4:[sampler_mu:139]:----------------------------------------------------------------------------------------------------\n"
     ]
    },
    {
     "name": "stdout",
     "output_type": "stream",
     "text": [
      "Epoch 3/50\n",
      "251/251 [==============================] - 65s 260ms/step - task_name:     NER     - loss: 4.1274 - accuracy: 0.8383 - val_loss: 9.0184 - val_accuracy: 0.7751\n",
      "251/251 [==============================] - 65s 260ms/step - task_name: READABILITY - loss: 0.5868 - accuracy: 0.7219 - val_loss: 0.8014 - val_accuracy: 0.6797\n"
     ]
    },
    {
     "name": "stderr",
     "output_type": "stream",
     "text": [
      "I:CUR_SPLIT:4:[sampler_mu:139]:----------------------------------------------------------------------------------------------------\n"
     ]
    },
    {
     "name": "stdout",
     "output_type": "stream",
     "text": [
      "Epoch 4/50\n",
      "251/251 [==============================] - 65s 258ms/step - task_name:     NER     - loss: 3.6051 - accuracy: 0.8429 - val_loss: 8.4531 - val_accuracy: 0.7780\n",
      "251/251 [==============================] - 65s 258ms/step - task_name: READABILITY - loss: 0.6034 - accuracy: 0.7415 - val_loss: 0.7768 - val_accuracy: 0.6562\n"
     ]
    },
    {
     "name": "stderr",
     "output_type": "stream",
     "text": [
      "I:CUR_SPLIT:4:[sampler_mu:139]:----------------------------------------------------------------------------------------------------\n"
     ]
    },
    {
     "name": "stdout",
     "output_type": "stream",
     "text": [
      "Epoch 5/50\n",
      "251/251 [==============================] - 66s 264ms/step - task_name:     NER     - loss: 3.2119 - accuracy: 0.8451 - val_loss: 8.0757 - val_accuracy: 0.7784\n",
      "251/251 [==============================] - 66s 264ms/step - task_name: READABILITY - loss: 0.6327 - accuracy: 0.7656 - val_loss: 0.9610 - val_accuracy: 0.6250\n"
     ]
    },
    {
     "name": "stderr",
     "output_type": "stream",
     "text": [
      "I:CUR_SPLIT:4:[sampler_mu:139]:----------------------------------------------------------------------------------------------------\n"
     ]
    },
    {
     "name": "stdout",
     "output_type": "stream",
     "text": [
      "Epoch 6/50\n",
      "251/251 [==============================] - 64s 253ms/step - task_name:     NER     - loss: 3.0162 - accuracy: 0.8478 - val_loss: 7.9690 - val_accuracy: 0.7759\n",
      "251/251 [==============================] - 64s 253ms/step - task_name: READABILITY - loss: 0.4338 - accuracy: 0.8076 - val_loss: 0.8832 - val_accuracy: 0.6523\n"
     ]
    },
    {
     "name": "stderr",
     "output_type": "stream",
     "text": [
      "I:CUR_SPLIT:4:[sampler_mu:139]:----------------------------------------------------------------------------------------------------\n"
     ]
    },
    {
     "name": "stdout",
     "output_type": "stream",
     "text": [
      "Epoch 7/50\n",
      "251/251 [==============================] - 66s 262ms/step - task_name:     NER     - loss: 2.7689 - accuracy: 0.8510 - val_loss: 7.8562 - val_accuracy: 0.7602\n",
      "251/251 [==============================] - 66s 262ms/step - task_name: READABILITY - loss: 0.4557 - accuracy: 0.7930 - val_loss: 0.9157 - val_accuracy: 0.6484\n"
     ]
    },
    {
     "name": "stderr",
     "output_type": "stream",
     "text": [
      "I:CUR_SPLIT:4:[sampler_mu:139]:----------------------------------------------------------------------------------------------------\n"
     ]
    },
    {
     "name": "stdout",
     "output_type": "stream",
     "text": [
      "Epoch 8/50\n",
      "251/251 [==============================] - 63s 251ms/step - task_name:     NER     - loss: 2.8344 - accuracy: 0.8453 - val_loss: 7.6762 - val_accuracy: 0.7604\n",
      "251/251 [==============================] - 63s 251ms/step - task_name: READABILITY - loss: 0.4380 - accuracy: 0.8251 - val_loss: 0.8331 - val_accuracy: 0.6680\n"
     ]
    },
    {
     "name": "stderr",
     "output_type": "stream",
     "text": [
      "I:CUR_SPLIT:4:[sampler_mu:139]:----------------------------------------------------------------------------------------------------\n"
     ]
    },
    {
     "name": "stdout",
     "output_type": "stream",
     "text": [
      "Epoch 9/50\n",
      "251/251 [==============================] - 65s 261ms/step - task_name:     NER     - loss: 2.5295 - accuracy: 0.8525 - val_loss: 7.6953 - val_accuracy: 0.7414\n",
      "251/251 [==============================] - 65s 261ms/step - task_name: READABILITY - loss: 0.3197 - accuracy: 0.8620 - val_loss: 0.8371 - val_accuracy: 0.7031\n"
     ]
    },
    {
     "name": "stderr",
     "output_type": "stream",
     "text": [
      "I:CUR_SPLIT:4:[sampler_mu:139]:----------------------------------------------------------------------------------------------------\n"
     ]
    },
    {
     "name": "stdout",
     "output_type": "stream",
     "text": [
      "Epoch 10/50\n",
      "251/251 [==============================] - 63s 249ms/step - task_name:     NER     - loss: 2.3215 - accuracy: 0.8551 - val_loss: 7.6770 - val_accuracy: 0.7431\n",
      "251/251 [==============================] - 63s 249ms/step - task_name: READABILITY - loss: 0.3758 - accuracy: 0.8777 - val_loss: 0.9208 - val_accuracy: 0.6758\n"
     ]
    },
    {
     "name": "stderr",
     "output_type": "stream",
     "text": [
      "I:CUR_SPLIT:4:[sampler_mu:139]:----------------------------------------------------------------------------------------------------\n"
     ]
    },
    {
     "name": "stdout",
     "output_type": "stream",
     "text": [
      "Epoch 11/50\n",
      "251/251 [==============================] - 63s 249ms/step - task_name:     NER     - loss: 2.2448 - accuracy: 0.8586 - val_loss: 7.7496 - val_accuracy: 0.7429\n",
      "251/251 [==============================] - 63s 249ms/step - task_name: READABILITY - loss: 0.2426 - accuracy: 0.9010 - val_loss: 0.9758 - val_accuracy: 0.6641\n"
     ]
    },
    {
     "name": "stderr",
     "output_type": "stream",
     "text": [
      "I:CUR_SPLIT:4:[sampler_mu:139]:----------------------------------------------------------------------------------------------------\n"
     ]
    },
    {
     "name": "stdout",
     "output_type": "stream",
     "text": [
      "Epoch 12/50\n",
      "251/251 [==============================] - 66s 261ms/step - task_name:     NER     - loss: 2.1329 - accuracy: 0.8615 - val_loss: 7.6829 - val_accuracy: 0.7392\n",
      "251/251 [==============================] - 66s 261ms/step - task_name: READABILITY - loss: 0.2927 - accuracy: 0.8758 - val_loss: 1.0957 - val_accuracy: 0.6484\n"
     ]
    },
    {
     "name": "stderr",
     "output_type": "stream",
     "text": [
      "I:CUR_SPLIT:4:[sampler_mu:139]:----------------------------------------------------------------------------------------------------\n"
     ]
    },
    {
     "name": "stdout",
     "output_type": "stream",
     "text": [
      "Epoch 13/50\n",
      "251/251 [==============================] - 5s 19ms/step - task_name: READABILITY - loss: 0.3500 - accuracy: 0.8900 - val_loss: 1.1596 - val_accuracy: 0.6367\n"
     ]
    },
    {
     "name": "stderr",
     "output_type": "stream",
     "text": [
      "I:CUR_SPLIT:4:[sampler_mu:139]:----------------------------------------------------------------------------------------------------\n"
     ]
    },
    {
     "name": "stdout",
     "output_type": "stream",
     "text": [
      "Epoch 14/50\n",
      "251/251 [==============================] - 4s 16ms/step - task_name: READABILITY - loss: 0.2334 - accuracy: 0.9250 - val_loss: 1.1903 - val_accuracy: 0.6445\n"
     ]
    },
    {
     "name": "stderr",
     "output_type": "stream",
     "text": [
      "I:CUR_SPLIT:4:[sampler_mu:139]:----------------------------------------------------------------------------------------------------\n"
     ]
    },
    {
     "name": "stdout",
     "output_type": "stream",
     "text": [
      "Epoch 15/50\n",
      "251/251 [==============================] - 5s 21ms/step - task_name: READABILITY - loss: 0.2604 - accuracy: 0.9421 - val_loss: 1.1493 - val_accuracy: 0.6797\n"
     ]
    },
    {
     "name": "stderr",
     "output_type": "stream",
     "text": [
      "I:CUR_SPLIT:4:[sampler_mu:139]:----------------------------------------------------------------------------------------------------\n"
     ]
    },
    {
     "name": "stdout",
     "output_type": "stream",
     "text": [
      "Epoch 16/50\n",
      "251/251 [==============================] - 4s 16ms/step - task_name: READABILITY - loss: 0.1451 - accuracy: 0.9592 - val_loss: 1.2032 - val_accuracy: 0.6836\n"
     ]
    },
    {
     "name": "stderr",
     "output_type": "stream",
     "text": [
      "I:CUR_SPLIT:4:[sampler_mu:139]:----------------------------------------------------------------------------------------------------\n"
     ]
    },
    {
     "name": "stdout",
     "output_type": "stream",
     "text": [
      "\n",
      "----------------------------------NER LABEL METRICS -----------------------------------\n",
      "\n",
      "epoch:labeling EPOCH accuracy 0.823326 precision: 0.443654, recall: 0.361214, f1: 0.398212\n",
      "\n",
      "           precision    recall  f1-score   support\n",
      "\n",
      "     ALLU     0.4440    0.3612    0.3984      4316\n",
      "\n",
      "micro avg     0.4437    0.3612    0.3982      4316\n",
      "macro avg     0.4440    0.3612    0.3984      4316\n",
      "\n",
      "----------------------------------NER END ----------------------------------\n",
      "train_example:**************************************************\n",
      "x_seq:终 惭 太 丘 道 , 不 为 小 生 私 。\n",
      "y_pred:O O B-ALLU I-ALLU O O O O O O O O\n",
      "y_true:O O B-ALLU I-ALLU I-ALLU O O O O O O O\n",
      "----------\n",
      "x_seq:既 卧 黔 娄 衾 , 空 立 陈 [UNK] 碑 。\n",
      "y_pred:O O O O O O O O O O O O\n",
      "y_true:O O B-ALLU I-ALLU O O O O O O O O\n",
      "----------\n",
      "x_seq:东 野 窥 禹 穴 , 李 翱 观 涛 江 。 萧 条 千 万 里 , 会 合 安 可 逢 。\n",
      "y_pred:O O O B-ALLU I-ALLU O O O O O O O O O O O O O O O O O O O\n",
      "y_true:O O O B-ALLU I-ALLU O O O O O O O O O O O O O O O O O O O\n",
      "----------\n",
      "x_seq:白 鹤 高 飞 不 逐 群 , 嵇 康 琴 酒 鲍 昭 文 。\n",
      "y_pred:O O O O O O O O O O O O O O O O\n",
      "y_true:O O O O O O O O B-ALLU I-ALLU O O O O O O\n",
      "----------\n",
      "x_seq:若 无 三 千 客 , 谁 道 信 陵 君 。\n",
      "y_pred:O O B-ALLU I-ALLU I-ALLU O O O O O O O\n",
      "y_true:O O B-ALLU I-ALLU I-ALLU O O O O O O O\n",
      "----------\n",
      "x_seq:东 平 为 善 , 司 马 称 好 。\n",
      "y_pred:O O O O O B-ALLU I-ALLU I-ALLU I-ALLU O\n",
      "y_true:O O O O O B-ALLU I-ALLU I-ALLU I-ALLU O\n",
      "----------\n",
      "x_seq:素 车 应 度 洛 , 珠 履 更 归 秦 。\n",
      "y_pred:O O O O O O B-ALLU I-ALLU O O O O\n",
      "y_true:O O O O O O B-ALLU I-ALLU O O O O\n",
      "----------\n",
      "x_seq:终 当 遇 安 期 , 于 此 炼 玉 液 。\n",
      "y_pred:O O O B-ALLU I-ALLU O O O O O O O\n",
      "y_true:O O O B-ALLU I-ALLU O O O O O O O\n",
      "----------\n",
      "x_seq:绮 季 衣 冠 称 鬓 面 , 吴 公 政 事 副 词 华 。\n",
      "y_pred:O O O O O O O O O O O O O O O O\n",
      "y_true:O O O O O O O O B-ALLU I-ALLU O O O O O O\n",
      "----------\n",
      "x_seq:空 留 华 表 千 年 约 , 才 毕 丹 炉 九 转 功 。\n",
      "y_pred:O O B-ALLU I-ALLU O O O O O O O O O O O O\n",
      "y_true:O O B-ALLU I-ALLU O O O O O O O O O O O O\n",
      "----------\n",
      "END:**************************************************\n",
      "test_example:**************************************************\n",
      "x_seq:楼 船 非 习 战 , [UNK] 马 是 嘉 招 。\n",
      "y_pred:O O O O O O B-ALLU I-ALLU O O O O\n",
      "y_true:O O O O O O B-ALLU I-ALLU O O O O\n",
      "----------\n",
      "x_seq:转 枕 挑 灯 候 晓 鸡 , 相 君 应 叹 太 常 妻 。\n",
      "y_pred:O O O O O O O O O O O O B-ALLU I-ALLU I-ALLU O\n",
      "y_true:O O O O O O O O O O O O B-ALLU I-ALLU I-ALLU O\n",
      "----------\n",
      "x_seq:认 得 旧 溪 兼 旧 意 , 恰 如 羊 祜 识 金 环 。\n",
      "y_pred:O O O O O O O O O O B-ALLU I-ALLU O O O O\n",
      "y_true:O O O O O O O O O O B-ALLU I-ALLU I-ALLU I-ALLU I-ALLU O\n",
      "----------\n",
      "x_seq:会 当 系 取 天 骄 入 , 不 使 军 书 夜 刺 闺 。\n",
      "y_pred:O O O O B-ALLU I-ALLU O O O O O O O O O O\n",
      "y_true:O O O O B-ALLU I-ALLU O O O O O O O O O O\n",
      "----------\n",
      "x_seq:嗟 嗟 邓 大 夫 , 士 卒 终 倒 戟 。\n",
      "y_pred:O O O O O O O O O B-ALLU I-ALLU O\n",
      "y_true:O O O O O O O O O B-ALLU I-ALLU O\n",
      "----------\n",
      "x_seq:舞 退 燕 姬 曲 , 歌 征 谢 [UNK] 诗 。\n",
      "y_pred:O O O O O O O O B-ALLU I-ALLU O O\n",
      "y_true:O O O O O O O O B-ALLU I-ALLU O O\n",
      "----------\n",
      "x_seq:四 方 分 [UNK] 受 , 千 里 坐 谋 成 。\n",
      "y_pred:O O O O O O O O O O O O\n",
      "y_true:O O B-ALLU I-ALLU O O O O O O O O\n",
      "----------\n",
      "x_seq:门 前 下 客 虽 弹 [UNK] , 溪 畔 穷 鱼 且 曝 腮 。\n",
      "y_pred:O O O O O B-ALLU I-ALLU O O O O O O B-ALLU I-ALLU O\n",
      "y_true:O O O O O B-ALLU I-ALLU O O O O O O O O O\n",
      "----------\n",
      "x_seq:飘 泊 南 庭 老 , 祗 应 学 水 仙 。\n",
      "y_pred:O O B-ALLU I-ALLU O O O O O O O O\n",
      "y_true:O O O O O O O O O B-ALLU I-ALLU O\n",
      "----------\n",
      "x_seq:经 出 宣 尼 壁 , 书 留 晏 子 楹 。\n",
      "y_pred:O O B-ALLU I-ALLU I-ALLU O O O O O O O\n",
      "y_true:O O O O O O B-ALLU I-ALLU I-ALLU O O O\n",
      "----------\n",
      "END:**************************************************\n",
      "\n",
      "----------------------------------READABILITY CLASS METRICS -----------------------------------\n",
      "\n",
      "              precision    recall  f1-score   support\n",
      "    accuracy                         0.6021       382\n",
      "   macro avg     0.6815    0.5888    0.5841       382\n",
      "weighted avg     0.6438    0.6021    0.5685       382\n",
      "\n",
      "\n",
      "epoch:classification EPOCH accuracy: 0.6020942408376964 precision: 0.681501, recall: 0.588788, f1: 0.584088\n",
      "\n",
      "-----------------------------READABILITY END ----------------------------\n"
     ]
    },
    {
     "name": "stderr",
     "output_type": "stream",
     "text": [
      "I:SAMPLE_TRAINER:[sampler_mu: 43]:cur_split_idx 4th END\n",
      "I:SAMPLE_TRAINER:[sampler_mu: 44]:****************************************************************************************************\n",
      "I:SAMPLE_TRAINER:[sampler_mu: 45]:****************************************************************************************************\n"
     ]
    },
    {
     "name": "stdout",
     "output_type": "stream",
     "text": [
      "train_example:**************************************************\n",
      "x_seq:早 梅 发 高 树 ， 迥 映 楚 天 碧 。 朔 吹 飘 夜 香 ， 繁 霜 滋 晓 白 。 欲 为 万 里 赠\n",
      "y_pred:1\n",
      "y_true:1\n",
      "----------\n",
      "x_seq:匪 风 发 兮 ， 匪 车 偈 兮 。 顾 瞻 周 道 ， 中 心 [UNK] 兮 。 匪 风 飘 兮 ， 匪 车 嘌 兮\n",
      "y_pred:3\n",
      "y_true:3\n",
      "----------\n",
      "x_seq:薄 雾 浓 云 愁 永 昼 ， 瑞 脑 消 金 兽 。 佳 节 又 重 阳 ， 玉 枕 纱 橱 ， 半 夜 凉 初\n",
      "y_pred:2\n",
      "y_true:2\n",
      "----------\n",
      "x_seq:地 胜 遗 尘 事 ， 身 闲 念 岁 华 。 晚 晴 风 过 竹 ， 深 夜 月 当 花 。 石 乱 知 泉 咽\n",
      "y_pred:1\n",
      "y_true:1\n",
      "----------\n",
      "x_seq:昨 夜 雨 疏 风 骤 ， 浓 睡 不 消 残 酒 。 试 问 卷 帘 人 ， 却 道 海 棠 依 旧 。 知 否\n",
      "y_pred:1\n",
      "y_true:1\n",
      "----------\n",
      "x_seq:羊 续 高 高 挂 起 ， 冯 苦 苦 伤 悲 。 大 海 边 ， 长 江 内 ， 多 少 渔 矶 ？ 记 得 荆\n",
      "y_pred:1\n",
      "y_true:1\n",
      "----------\n",
      "x_seq:枝 间 新 绿 一 重 重 ， 小 蕾 深 藏 数 点 红 。 爱 惜 芳 心 莫 轻 吐 ， 且 教 桃 李 闹\n",
      "y_pred:1\n",
      "y_true:1\n",
      "----------\n",
      "x_seq:津 桥 春 水 浸 红 霞 ， 烟 柳 风 丝 拂 岸 斜 。 翠 辇 不 来 金 殿 闭 ， 宫 莺 衔 出 上\n",
      "y_pred:1\n",
      "y_true:1\n",
      "----------\n",
      "x_seq:[UNK] [UNK] 在 东 ， 莫 之 敢 指 。 女 子 有 行 ， 远 父 母 兄 弟 。 朝 [UNK] 于 西 ， 崇 朝 其\n",
      "y_pred:3\n",
      "y_true:3\n",
      "----------\n",
      "x_seq:故 人 柳 子 厚 之 谪 永 州 ， 得 胜 地 ， 结 茅 树 蔬 ， 为 沼 [UNK] ， 为 台 榭 ， 目 曰\n",
      "y_pred:2\n",
      "y_true:1\n",
      "----------\n",
      "END:**************************************************\n",
      "test_example:**************************************************\n",
      "x_seq:枯 藤 老 树 昏 鸦 ， 小 桥 流 水 人 家 ， 古 道 西 风 瘦 马 。 夕 阳 西 下 ， 断 肠 人\n",
      "y_pred:1\n",
      "y_true:1\n",
      "----------\n",
      "x_seq:兰 陵 美 酒 郁 金 香 ， 玉 碗 盛 来 琥 珀 光 。 但 使 主 人 能 醉 客 ， 不 知 何 处 是\n",
      "y_pred:1\n",
      "y_true:1\n",
      "----------\n",
      "x_seq:汉 家 三 十 六 将 军 ， 东 方 雷 动 横 阵 云 。 鸡 鸣 函 谷 客 如 雾 ， 貌 同 心 异 不\n",
      "y_pred:1\n",
      "y_true:3\n",
      "----------\n",
      "x_seq:乙 丑 岁 赴 试 并 州 ， 道 逢 捕 雁 者 云 ： [UNK] 今 旦 获 一 雁 ， 杀 之 矣 。 其 脱 网\n",
      "y_pred:2\n",
      "y_true:2\n",
      "----------\n",
      "x_seq:越 女 新 妆 出 镜 心 ， 自 知 明 艳 更 沉 吟 。 齐 纨 未 是 人 间 贵 ， 一 曲 菱 歌 敌\n",
      "y_pred:1\n",
      "y_true:2\n",
      "----------\n",
      "x_seq:阳 关 万 里 道 ， 不 见 一 人 归 。 惟 有 河 边 雁 ， 秋 来 南 向 飞 。 [UNK] [PAD] [PAD] [PAD] [PAD]\n",
      "y_pred:1\n",
      "y_true:1\n",
      "----------\n",
      "x_seq:嬴 氏 乱 天 纪 ， 贤 者 避 其 世 。 黄 绮 之 商 山 ， 伊 人 亦 云 逝 。 往 迹 浸 复 湮\n",
      "y_pred:2\n",
      "y_true:2\n",
      "----------\n",
      "x_seq:把 酒 祝 东 风 ， 且 共 从 容 。 垂 杨 紫 陌 洛 城 东 。 总 是 当 时 携 手 处 ， 游 遍\n",
      "y_pred:1\n",
      "y_true:2\n",
      "----------\n",
      "x_seq:莺 嘴 啄 花 红 溜 ， 燕 尾 点 波 绿 皱 。 指 冷 玉 笙 寒 ， 吹 彻 小 梅 春 透 。 依 旧\n",
      "y_pred:1\n",
      "y_true:1\n",
      "----------\n",
      "x_seq:羔 裘 逍 遥 ， 狐 裘 以 朝 。 岂 不 尔 思 ？ 劳 心 [UNK] [UNK] 。 羔 裘 翱 翔 ， 狐 裘 在 堂\n",
      "y_pred:2\n",
      "y_true:3\n",
      "----------\n",
      "END:**************************************************\n"
     ]
    }
   ],
   "source": [
    "allu_def_seq_len = poem_seq_len\n",
    "trainer = SamplerMultiTaskTrainer(task_list=task_list,\n",
    "                                  batch_size=64,\n",
    "                                  total_epochs=50,\n",
    "                                  poem_seq_len=poem_seq_len,\n",
    "                                  allu_def_seq_len=allu_def_seq_len)\n",
    "\n",
    "final_res = trainer.train()"
   ]
  },
  {
   "cell_type": "code",
   "execution_count": 4,
   "metadata": {},
   "outputs": [],
   "source": [
    "from kashgari.utils import compute_mean_metrics\n",
    "from kashgari.utils import plot_final_res"
   ]
  },
  {
   "cell_type": "code",
   "execution_count": 5,
   "metadata": {},
   "outputs": [
    {
     "name": "stdout",
     "output_type": "stream",
     "text": [
      "NER\t[0.8247757  0.4098925  0.28667977 0.32084732]\n",
      "READABILITY\t[0.61284705 0.66283239 0.6134963  0.60020659]\n"
     ]
    },
    {
     "data": {
      "image/png": "[encoded data removed]",
      "text/plain": [
       "<Figure size 1440x576 with 10 Axes>"
      ]
     },
     "metadata": {
      "needs_background": "light"
     },
     "output_type": "display_data"
    },
    {
     "data": {
      "image/png": "[encoded data removed]",
      "text/plain": [
       "<Figure size 1440x576 with 10 Axes>"
      ]
     },
     "metadata": {
      "needs_background": "light"
     },
     "output_type": "display_data"
    }
   ],
   "source": [
    "compute_mean_metrics(final_res)\n",
    "plot_final_res(final_res)"
   ]
  },
  {
   "cell_type": "code",
   "execution_count": null,
   "metadata": {},
   "outputs": [],
   "source": []
  }
 ],
 "metadata": {
  "kernelspec": {
   "display_name": "Python [conda env:ner_tf2] *",
   "language": "python",
   "name": "conda-env-ner_tf2-py"
  },
  "language_info": {
   "codemirror_mode": {
    "name": "ipython",
    "version": 3
   },
   "file_extension": ".py",
   "mimetype": "text/x-python",
   "name": "python",
   "nbconvert_exporter": "python",
   "pygments_lexer": "ipython3",
   "version": "3.7.4"
  },
  "toc": {
   "base_numbering": 1,
   "nav_menu": {},
   "number_sections": true,
   "sideBar": true,
   "skip_h1_title": false,
   "title_cell": "Table of Contents",
   "title_sidebar": "Contents",
   "toc_cell": false,
   "toc_position": {},
   "toc_section_display": true,
   "toc_window_display": false
  }
 },
 "nbformat": 4,
 "nbformat_minor": 2
}
