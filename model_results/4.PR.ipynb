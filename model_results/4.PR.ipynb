{
 "cells": [
  {
   "cell_type": "code",
   "execution_count": 1,
   "metadata": {},
   "outputs": [
    {
     "name": "stdout",
     "output_type": "stream",
     "text": [
      "2.0.0\n",
      "Num GPUs Available:  1\n",
      "Device mapping:\n",
      "/job:localhost/replica:0/task:0/device:XLA_CPU:0 -> device: XLA_CPU device\n",
      "/job:localhost/replica:0/task:0/device:XLA_GPU:0 -> device: XLA_GPU device\n",
      "/job:localhost/replica:0/task:0/device:GPU:0 -> device: 0, name: TITAN RTX, pci bus id: 0000:05:00.0, compute capability: 7.5\n",
      "\n"
     ]
    },
    {
     "data": {
      "text/plain": [
       "<tensorflow.python.client.session.Session at 0x7fa6a9216350>"
      ]
     },
     "execution_count": 1,
     "metadata": {},
     "output_type": "execute_result"
    }
   ],
   "source": [
    "#!/usr/bin/env python\n",
    "# -*- coding: utf-8 -*-\n",
    "# @Time    : 2020/1/13 16:28\n",
    "# @Author  : Shark\n",
    "# @Site    :\n",
    "# @File    : tsts_trainer.py\n",
    "# @Software: PyCharm\n",
    "\n",
    "import os\n",
    "os.environ[\"CUDA_VISIBLE_DEVICES\"] = \"1\"\n",
    "os.environ['TF_CPP_MIN_LOG_LEVEL'] = '2'\n",
    "\n",
    "import tensorflow as tf\n",
    "\n",
    "print(tf.__version__)\n",
    "print(\"Num GPUs Available: \", len(tf.config.experimental.list_physical_devices('GPU')))\n",
    "\n",
    "# On CPU/GPU placement\n",
    "config = tf.compat.v1.ConfigProto(allow_soft_placement=True, log_device_placement=True)\n",
    "config.gpu_options.allow_growth = True\n",
    "tf.compat.v1.Session(config=config)"
   ]
  },
  {
   "cell_type": "code",
   "execution_count": 2,
   "metadata": {},
   "outputs": [
    {
     "name": "stdout",
     "output_type": "stream",
     "text": [
      "Device mapping:\n",
      "/job:localhost/replica:0/task:0/device:XLA_CPU:0 -> device: XLA_CPU device\n",
      "/job:localhost/replica:0/task:0/device:XLA_GPU:0 -> device: XLA_GPU device\n",
      "/job:localhost/replica:0/task:0/device:GPU:0 -> device: 0, name: TITAN RTX, pci bus id: 0000:05:00.0, compute capability: 7.5\n",
      "\n"
     ]
    }
   ],
   "source": [
    "from kashgari.trainer.sampler_multi_task_trainer import SamplerMultiTaskTrainer\n",
    "from kashgari.task import ReadabilityTask, NerTask, AlluSourceTask,AlluClassTask\n",
    "from kashgari.processors import ClassificationProcessor, LabelingProcessor\n",
    "\n",
    "poem_seq_len = 30\n",
    "task_list = []\n",
    "\n",
    "processor = ClassificationProcessor(vocab_path=\"../pretrained_embedding/bert/poem_chinese_L-12_H-768_A-12/\")\n",
    "readability_task = ReadabilityTask(processor,\n",
    "                                   \"./allusion_corpus\",\n",
    "                                   poem_seq_len)\n",
    "task_list.append(readability_task)"
   ]
  },
  {
   "cell_type": "code",
   "execution_count": 3,
   "metadata": {
    "scrolled": true
   },
   "outputs": [
    {
     "name": "stderr",
     "output_type": "stream",
     "text": [
      "I:BASE TASK:[base_task.:270]:Task READABILITY:\n",
      "I:BASE TASK:[base_task.:271]:\t21 training batches\n",
      "I:BASE TASK:[base_task.:272]:\t4 validation batches\n",
      "I:BASE TASK:[base_task.:273]:\t6 test batches\n",
      "I:BERT EMBEDDING:[bert_embed:105]:seq_len:30\n",
      "I:BERT EMBEDDING:[bert_embed:105]:seq_len:30\n",
      "I:AHMTL MODEL:[AHMTL.py:126]:Multi-Task Learning Model has been instantiated.\n",
      "I:CUR_SPLIT:0:[sampler_mu: 92]:Set up ready. Begining training/validation.\n",
      "I:BASE-MODEL:[base_model:133]:READABILITY's model_dir is ./model_ckpt/2020-02-03-12_17_56/0/READABILITY-NaiveDenseModel\n",
      "I:BASE-MODEL:[base_model:232]:[READABILITY]:train info:Train on 1301 samples, validate on 230 samples\n"
     ]
    },
    {
     "name": "stdout",
     "output_type": "stream",
     "text": [
      "Epoch 1/50\n",
      "21/21 [==============================] - 137s 7s/step - task_name: READABILITY - loss: 0.8290 - accuracy: 0.5900 - val_loss: 0.8393 - val_accuracy: 0.6328\n"
     ]
    },
    {
     "name": "stderr",
     "output_type": "stream",
     "text": [
      "I:CUR_SPLIT:0:[sampler_mu:139]:----------------------------------------------------------------------------------------------------\n"
     ]
    },
    {
     "name": "stdout",
     "output_type": "stream",
     "text": [
      "Epoch 2/50\n",
      "21/21 [==============================] - 79s 4s/step - task_name: READABILITY - loss: 0.6655 - accuracy: 0.7091 - val_loss: 0.7778 - val_accuracy: 0.6602\n"
     ]
    },
    {
     "name": "stderr",
     "output_type": "stream",
     "text": [
      "I:CUR_SPLIT:0:[sampler_mu:139]:----------------------------------------------------------------------------------------------------\n"
     ]
    },
    {
     "name": "stdout",
     "output_type": "stream",
     "text": [
      "Epoch 3/50\n",
      "21/21 [==============================] - 21s 996ms/step - task_name: READABILITY - loss: 0.6033 - accuracy: 0.7232 - val_loss: 0.7507 - val_accuracy: 0.6641\n"
     ]
    },
    {
     "name": "stderr",
     "output_type": "stream",
     "text": [
      "I:CUR_SPLIT:0:[sampler_mu:139]:----------------------------------------------------------------------------------------------------\n"
     ]
    },
    {
     "name": "stdout",
     "output_type": "stream",
     "text": [
      "Epoch 4/50\n",
      "21/21 [==============================] - 5s 228ms/step - task_name: READABILITY - loss: 0.5449 - accuracy: 0.7641 - val_loss: 0.7544 - val_accuracy: 0.6367\n"
     ]
    },
    {
     "name": "stderr",
     "output_type": "stream",
     "text": [
      "I:CUR_SPLIT:0:[sampler_mu:139]:----------------------------------------------------------------------------------------------------\n"
     ]
    },
    {
     "name": "stdout",
     "output_type": "stream",
     "text": [
      "Epoch 5/50\n",
      "21/21 [==============================] - 4s 208ms/step - task_name: READABILITY - loss: 0.5099 - accuracy: 0.7798 - val_loss: 0.7523 - val_accuracy: 0.6523\n"
     ]
    },
    {
     "name": "stderr",
     "output_type": "stream",
     "text": [
      "I:CUR_SPLIT:0:[sampler_mu:139]:----------------------------------------------------------------------------------------------------\n"
     ]
    },
    {
     "name": "stdout",
     "output_type": "stream",
     "text": [
      "Epoch 6/50\n",
      "21/21 [==============================] - 4s 208ms/step - task_name: READABILITY - loss: 0.4474 - accuracy: 0.8207 - val_loss: 0.8253 - val_accuracy: 0.6445\n"
     ]
    },
    {
     "name": "stderr",
     "output_type": "stream",
     "text": [
      "I:CUR_SPLIT:0:[sampler_mu:139]:----------------------------------------------------------------------------------------------------\n"
     ]
    },
    {
     "name": "stdout",
     "output_type": "stream",
     "text": [
      "Epoch 7/50\n",
      "21/21 [==============================] - 4s 211ms/step - task_name: READABILITY - loss: 0.4057 - accuracy: 0.8378 - val_loss: 0.8713 - val_accuracy: 0.6523\n"
     ]
    },
    {
     "name": "stderr",
     "output_type": "stream",
     "text": [
      "I:CUR_SPLIT:0:[sampler_mu:139]:----------------------------------------------------------------------------------------------------\n"
     ]
    },
    {
     "name": "stdout",
     "output_type": "stream",
     "text": [
      "Epoch 8/50\n",
      "21/21 [==============================] - 5s 235ms/step - task_name: READABILITY - loss: 0.3312 - accuracy: 0.8824 - val_loss: 1.0446 - val_accuracy: 0.5977\n"
     ]
    },
    {
     "name": "stderr",
     "output_type": "stream",
     "text": [
      "I:CUR_SPLIT:0:[sampler_mu:139]:----------------------------------------------------------------------------------------------------\n"
     ]
    },
    {
     "name": "stdout",
     "output_type": "stream",
     "text": [
      "Epoch 9/50\n",
      "21/21 [==============================] - 5s 236ms/step - task_name: READABILITY - loss: 0.2921 - accuracy: 0.8929 - val_loss: 1.1725 - val_accuracy: 0.5977\n"
     ]
    },
    {
     "name": "stderr",
     "output_type": "stream",
     "text": [
      "I:CUR_SPLIT:0:[sampler_mu:139]:----------------------------------------------------------------------------------------------------\n"
     ]
    },
    {
     "name": "stdout",
     "output_type": "stream",
     "text": [
      "Epoch 10/50\n",
      "21/21 [==============================] - 6s 295ms/step - task_name: READABILITY - loss: 0.2586 - accuracy: 0.9062 - val_loss: 1.4444 - val_accuracy: 0.5859\n"
     ]
    },
    {
     "name": "stderr",
     "output_type": "stream",
     "text": [
      "I:CUR_SPLIT:0:[sampler_mu:139]:----------------------------------------------------------------------------------------------------\n"
     ]
    },
    {
     "name": "stdout",
     "output_type": "stream",
     "text": [
      "\n",
      "----------------------------------READABILITY CLASS METRICS -----------------------------------\n",
      "\n",
      "              precision    recall  f1-score   support\n",
      "    accuracy                         0.6997       383\n",
      "   macro avg     0.7408    0.6754    0.6986       383\n",
      "weighted avg     0.7108    0.6997    0.7001       383\n",
      "\n",
      "\n",
      "epoch:classification EPOCH accuracy: 0.6997389033942559 precision: 0.740803, recall: 0.675407, f1: 0.698605\n",
      "\n",
      "-----------------------------READABILITY END ----------------------------\n",
      "train_example:**************************************************\n",
      "x_seq:金 谷 年 年 ， 乱 生 春 色 谁 为 主 ？ 余 花 落 处 ， 满 地 和 烟 雨 。 又 是 离 歌 ，\n",
      "y_pred:2\n",
      "y_true:2\n",
      "----------\n",
      "x_seq:中 庭 淡 月 照 三 更 ， 白 露 洗 空 河 汉 明 。 莫 遣 西 风 吹 叶 尽 ， 却 愁 无 处 着\n",
      "y_pred:1\n",
      "y_true:1\n",
      "----------\n",
      "x_seq:碧 空 溶 溶 月 华 静 ， 月 里 愁 人 吊 孤 影 。 花 开 残 菊 傍 疏 篱 ， 叶 下 衰 桐 落\n",
      "y_pred:1\n",
      "y_true:1\n",
      "----------\n",
      "x_seq:昔 年 戎 虏 犯 榆 关 ， 一 败 龙 城 匹 马 还 。 侯 印 不 闻 封 李 广 ， 他 人 丘 垄 似\n",
      "y_pred:2\n",
      "y_true:1\n",
      "----------\n",
      "x_seq:江 国 逾 千 里 ， 山 城 仅 百 层 。 岸 风 翻 夕 浪 ， 舟 雪 洒 寒 灯 。 留 滞 才 难 尽\n",
      "y_pred:2\n",
      "y_true:2\n",
      "----------\n",
      "x_seq:相 见 时 难 别 亦 难 ， 东 风 无 力 百 花 残 。 春 蚕 到 死 丝 方 尽 ， 蜡 炬 成 灰 泪\n",
      "y_pred:1\n",
      "y_true:2\n",
      "----------\n",
      "x_seq:秋 风 起 兮 白 云 飞 ， 草 木 黄 落 兮 雁 南 归 。 兰 有 秀 兮 菊 有 芳 ， 怀 佳 人 兮\n",
      "y_pred:2\n",
      "y_true:2\n",
      "----------\n",
      "x_seq:桂 树 丛 生 兮 山 之 幽 ， 偃 蹇 连 蜷 兮 枝 相 缭 。 山 气 [UNK] [UNK] 兮 石 嵯 峨 ， 溪 谷\n",
      "y_pred:2\n",
      "y_true:3\n",
      "----------\n",
      "x_seq:陟 彼 北 芒 兮 ， [UNK] ！ 顾 瞻 帝 京 兮 ， [UNK] ！ 宫 阙 崔 嵬 兮 ， [UNK] ！ 民 之 [UNK] 劳 兮\n",
      "y_pred:3\n",
      "y_true:3\n",
      "----------\n",
      "x_seq:吁 嗟 此 转 蓬 ， 居 世 何 独 然 。 长 去 本 根 逝 ， 夙 夜 无 休 闲 。 东 西 经 七 陌\n",
      "y_pred:2\n",
      "y_true:2\n",
      "----------\n",
      "END:**************************************************\n"
     ]
    },
    {
     "name": "stderr",
     "output_type": "stream",
     "text": [
      "I:SAMPLE_TRAINER:[sampler_mu: 43]:cur_split_idx 0th END\n",
      "I:SAMPLE_TRAINER:[sampler_mu: 44]:****************************************************************************************************\n",
      "I:SAMPLE_TRAINER:[sampler_mu: 45]:****************************************************************************************************\n"
     ]
    },
    {
     "name": "stdout",
     "output_type": "stream",
     "text": [
      "test_example:**************************************************\n",
      "x_seq:鸦 翎 羽 箭 山 桑 弓 ， 仰 天 射 落 衔 芦 鸿 。 麻 衣 黑 肥 冲 北 风 ， 带 酒 日 晚 歌\n",
      "y_pred:2\n",
      "y_true:2\n",
      "----------\n",
      "x_seq:渴 不 饮 盗 泉 水 ， 热 不 息 恶 木 阴 。 恶 木 岂 无 枝 ？ 志 士 多 苦 心 。 整 驾 肃\n",
      "y_pred:2\n",
      "y_true:2\n",
      "----------\n",
      "x_seq:楚 女 欲 归 南 浦 ， 朝 雨 。 湿 愁 红 ， 小 船 摇 漾 入 花 里 。 波 起 ， 隔 西 风 。\n",
      "y_pred:1\n",
      "y_true:1\n",
      "----------\n",
      "x_seq:零 落 残 魂 倍 黯 然 ， 双 垂 别 泪 越 江 边 。 一 身 去 国 六 千 里 ， 万 死 投 荒 十\n",
      "y_pred:2\n",
      "y_true:2\n",
      "----------\n",
      "x_seq:蓬 头 稚 子 学 垂 纶 ， 侧 坐 莓 苔 草 映 身 。 路 人 借 问 遥 招 手 ， 怕 得 鱼 惊 不\n",
      "y_pred:1\n",
      "y_true:1\n",
      "----------\n",
      "x_seq:两 种 风 流 ， 一 家 制 作 。 雪 花 全 似 梅 花 萼 。 细 看 不 是 雪 无 香 ， 天 风 吹\n",
      "y_pred:1\n",
      "y_true:1\n",
      "----------\n",
      "x_seq:前 不 见 古 人 ， 后 不 见 来 者 。 念 天 地 之 悠 悠 ， 独 怆 然 而 涕 下 。 [UNK] [PAD] [PAD]\n",
      "y_pred:1\n",
      "y_true:1\n",
      "----------\n",
      "x_seq:柴 门 风 卷 却 吹 工 ， [UNK] 径 初 成 竹 旋 栽 。 梢 影 细 从 茶 碗 入 ， 叶 声 轻 逐 篆\n",
      "y_pred:1\n",
      "y_true:3\n",
      "----------\n",
      "x_seq:古 木 卧 平 沙 ， 摧 残 岁 月 赊 。 有 根 横 水 石 ， 无 叶 拂 烟 霞 。 春 至 苔 为 叶\n",
      "y_pred:2\n",
      "y_true:2\n",
      "----------\n",
      "x_seq:客 从 东 方 来 ， 衣 上 灞 陵 雨 。 问 客 何 为 来 ， 采 山 因 买 斧 。 冥 冥 花 正 开\n",
      "y_pred:1\n",
      "y_true:1\n",
      "----------\n",
      "END:**************************************************\n"
     ]
    },
    {
     "name": "stderr",
     "output_type": "stream",
     "text": [
      "I:BASE TASK:[base_task.:270]:Task READABILITY:\n",
      "I:BASE TASK:[base_task.:271]:\t21 training batches\n",
      "I:BASE TASK:[base_task.:272]:\t4 validation batches\n",
      "I:BASE TASK:[base_task.:273]:\t6 test batches\n",
      "I:BERT EMBEDDING:[bert_embed:105]:seq_len:30\n",
      "I:BERT EMBEDDING:[bert_embed:105]:seq_len:30\n",
      "I:AHMTL MODEL:[AHMTL.py:126]:Multi-Task Learning Model has been instantiated.\n",
      "I:CUR_SPLIT:1:[sampler_mu: 92]:Set up ready. Begining training/validation.\n",
      "I:BASE-MODEL:[base_model:133]:READABILITY's model_dir is ./model_ckpt/2020-02-03-12_17_56/1/READABILITY-NaiveDenseModel\n",
      "I:BASE-MODEL:[base_model:232]:[READABILITY]:train info:Train on 1301 samples, validate on 230 samples\n"
     ]
    },
    {
     "name": "stdout",
     "output_type": "stream",
     "text": [
      "Epoch 1/50\n",
      "21/21 [==============================] - 42s 2s/step - task_name: READABILITY - loss: 0.8772 - accuracy: 0.5699 - val_loss: 0.9659 - val_accuracy: 0.6250\n"
     ]
    },
    {
     "name": "stderr",
     "output_type": "stream",
     "text": [
      "I:CUR_SPLIT:1:[sampler_mu:139]:----------------------------------------------------------------------------------------------------\n"
     ]
    },
    {
     "name": "stdout",
     "output_type": "stream",
     "text": [
      "Epoch 2/50\n",
      "21/21 [==============================] - 29s 1s/step - task_name: READABILITY - loss: 0.6939 - accuracy: 0.6845 - val_loss: 0.9157 - val_accuracy: 0.6680\n"
     ]
    },
    {
     "name": "stderr",
     "output_type": "stream",
     "text": [
      "I:CUR_SPLIT:1:[sampler_mu:139]:----------------------------------------------------------------------------------------------------\n"
     ]
    },
    {
     "name": "stdout",
     "output_type": "stream",
     "text": [
      "Epoch 3/50\n",
      "21/21 [==============================] - 5s 216ms/step - task_name: READABILITY - loss: 0.6339 - accuracy: 0.7143 - val_loss: 0.9246 - val_accuracy: 0.6367\n"
     ]
    },
    {
     "name": "stderr",
     "output_type": "stream",
     "text": [
      "I:CUR_SPLIT:1:[sampler_mu:139]:----------------------------------------------------------------------------------------------------\n"
     ]
    },
    {
     "name": "stdout",
     "output_type": "stream",
     "text": [
      "Epoch 4/50\n",
      "21/21 [==============================] - 4s 203ms/step - task_name: READABILITY - loss: 0.5734 - accuracy: 0.7530 - val_loss: 0.9405 - val_accuracy: 0.6641\n"
     ]
    },
    {
     "name": "stderr",
     "output_type": "stream",
     "text": [
      "I:CUR_SPLIT:1:[sampler_mu:139]:----------------------------------------------------------------------------------------------------\n"
     ]
    },
    {
     "name": "stdout",
     "output_type": "stream",
     "text": [
      "Epoch 5/50\n",
      "21/21 [==============================] - 4s 210ms/step - task_name: READABILITY - loss: 0.5132 - accuracy: 0.7753 - val_loss: 0.9688 - val_accuracy: 0.6289\n"
     ]
    },
    {
     "name": "stderr",
     "output_type": "stream",
     "text": [
      "I:CUR_SPLIT:1:[sampler_mu:139]:----------------------------------------------------------------------------------------------------\n"
     ]
    },
    {
     "name": "stdout",
     "output_type": "stream",
     "text": [
      "Epoch 6/50\n",
      "21/21 [==============================] - 4s 206ms/step - task_name: READABILITY - loss: 0.4638 - accuracy: 0.8080 - val_loss: 1.0311 - val_accuracy: 0.6328\n"
     ]
    },
    {
     "name": "stderr",
     "output_type": "stream",
     "text": [
      "I:CUR_SPLIT:1:[sampler_mu:139]:----------------------------------------------------------------------------------------------------\n"
     ]
    },
    {
     "name": "stdout",
     "output_type": "stream",
     "text": [
      "Epoch 7/50\n",
      "21/21 [==============================] - 4s 210ms/step - task_name: READABILITY - loss: 0.4041 - accuracy: 0.8371 - val_loss: 1.0069 - val_accuracy: 0.6406\n"
     ]
    },
    {
     "name": "stderr",
     "output_type": "stream",
     "text": [
      "I:CUR_SPLIT:1:[sampler_mu:139]:----------------------------------------------------------------------------------------------------\n"
     ]
    },
    {
     "name": "stdout",
     "output_type": "stream",
     "text": [
      "Epoch 8/50\n",
      "21/21 [==============================] - 4s 212ms/step - task_name: READABILITY - loss: 0.3494 - accuracy: 0.8616 - val_loss: 1.1650 - val_accuracy: 0.6055\n"
     ]
    },
    {
     "name": "stderr",
     "output_type": "stream",
     "text": [
      "I:CUR_SPLIT:1:[sampler_mu:139]:----------------------------------------------------------------------------------------------------\n"
     ]
    },
    {
     "name": "stdout",
     "output_type": "stream",
     "text": [
      "Epoch 9/50\n",
      "21/21 [==============================] - 5s 231ms/step - task_name: READABILITY - loss: 0.3183 - accuracy: 0.8713 - val_loss: 1.3548 - val_accuracy: 0.5977\n"
     ]
    },
    {
     "name": "stderr",
     "output_type": "stream",
     "text": [
      "I:CUR_SPLIT:1:[sampler_mu:139]:----------------------------------------------------------------------------------------------------\n"
     ]
    },
    {
     "name": "stdout",
     "output_type": "stream",
     "text": [
      "\n",
      "----------------------------------READABILITY CLASS METRICS -----------------------------------\n",
      "\n",
      "              precision    recall  f1-score   support\n",
      "    accuracy                         0.6371       383\n",
      "   macro avg     0.6851    0.6285    0.6499       383\n",
      "weighted avg     0.6494    0.6371    0.6393       383\n",
      "\n",
      "\n",
      "epoch:classification EPOCH accuracy: 0.6370757180156658 precision: 0.685135, recall: 0.628534, f1: 0.649880\n",
      "\n",
      "-----------------------------READABILITY END ----------------------------\n"
     ]
    },
    {
     "name": "stderr",
     "output_type": "stream",
     "text": [
      "I:SAMPLE_TRAINER:[sampler_mu: 43]:cur_split_idx 1th END\n",
      "I:SAMPLE_TRAINER:[sampler_mu: 44]:****************************************************************************************************\n",
      "I:SAMPLE_TRAINER:[sampler_mu: 45]:****************************************************************************************************\n"
     ]
    },
    {
     "name": "stdout",
     "output_type": "stream",
     "text": [
      "train_example:**************************************************\n",
      "x_seq:辞 宗 盛 荆 梦 ， 登 歌 美 [UNK] 绎 。 徒 收 杞 梓 饶 ， 曾 非 羽 人 宅 。 罗 景 蔼 云 [UNK]\n",
      "y_pred:2\n",
      "y_true:3\n",
      "----------\n",
      "x_seq:马 上 凝 情 忆 旧 游 ， 照 花 淹 竹 小 溪 流 。 钿 筝 罗 幕 玉 搔 头 。 早 是 出 门 长\n",
      "y_pred:1\n",
      "y_true:1\n",
      "----------\n",
      "x_seq:小 院 深 深 门 掩 亚 。 寂 寞 珠 帘 ， 画 阁 重 重 下 。 欲 近 禁 烟 微 雨 罢 ， 绿 杨\n",
      "y_pred:1\n",
      "y_true:2\n",
      "----------\n",
      "x_seq:上 陵 何 美 美 ， 下 津 风 以 寒 。 问 客 从 何 来 ， 言 从 水 中 央 。 桂 树 为 君 船\n",
      "y_pred:1\n",
      "y_true:2\n",
      "----------\n",
      "x_seq:为 君 既 不 易 ， 为 臣 良 独 难 。 忠 信 事 不 显 ， 乃 有 见 疑 患 。 周 公 佐 成 王\n",
      "y_pred:3\n",
      "y_true:2\n",
      "----------\n",
      "x_seq:有 车 邻 邻 ， 有 马 白 颠 。 未 见 君 子 ， 寺 人 之 令 。 阪 有 漆 ， [UNK] 有 栗 。 既\n",
      "y_pred:3\n",
      "y_true:3\n",
      "----------\n",
      "x_seq:我 行 日 夜 向 江 海 ， 枫 叶 芦 花 秋 兴 长 。 长 淮 忽 迷 天 远 近 ， 青 山 久 与 船\n",
      "y_pred:2\n",
      "y_true:2\n",
      "----------\n",
      "x_seq:回 乐 峰 前 沙 似 雪 ， 受 降 城 外 月 如 霜 。 ( 回 乐 峰 一 作 ： 回 乐 烽 ） 不 知\n",
      "y_pred:1\n",
      "y_true:1\n",
      "----------\n",
      "x_seq:阳 关 万 里 道 ， 不 见 一 人 归 。 惟 有 河 边 雁 ， 秋 来 南 向 飞 。 [UNK] [PAD] [PAD] [PAD] [PAD]\n",
      "y_pred:1\n",
      "y_true:1\n",
      "----------\n",
      "x_seq:绵 绵 葛 [UNK] ， 在 河 之 浒 。 终 远 兄 弟 ， 谓 他 人 父 。 谓 他 人 父 ， 亦 莫 我 顾\n",
      "y_pred:3\n",
      "y_true:3\n",
      "----------\n",
      "END:**************************************************\n",
      "test_example:**************************************************\n",
      "x_seq:黑 云 压 城 城 欲 摧 ， 甲 光 向 日 金 鳞 开 。 角 声 满 天 秋 色 里 ， 塞 上 燕 脂 凝\n",
      "y_pred:2\n",
      "y_true:2\n",
      "----------\n",
      "x_seq:秋 到 边 城 角 声 哀 ， 烽 火 照 高 台 。 悲 歌 击 筑 ， 凭 高 [UNK] 酒 ， 此 兴 悠 哉 。\n",
      "y_pred:2\n",
      "y_true:2\n",
      "----------\n",
      "x_seq:燕 草 如 碧 丝 ， 秦 桑 低 绿 枝 。 当 君 怀 归 日 ， 是 妾 断 肠 时 。 春 风 不 相 识\n",
      "y_pred:1\n",
      "y_true:1\n",
      "----------\n",
      "x_seq:夸 父 诞 宏 志 ， 乃 与 日 竞 走 。 俱 至 虞 渊 下 ， 似 若 无 胜 负 。 神 力 既 殊 妙\n",
      "y_pred:2\n",
      "y_true:1\n",
      "----------\n",
      "x_seq:少 年 听 雨 歌 楼 上 。 红 烛 昏 罗 帐 。 壮 年 听 雨 客 舟 中 。 江 阔 云 低 、 断 雁\n",
      "y_pred:1\n",
      "y_true:2\n",
      "----------\n",
      "x_seq:凤 兮 凤 兮 何 德 之 衰 。 往 者 不 可 谏 。 来 者 犹 可 追 。 已 而 已 而 。 今 之 从\n",
      "y_pred:3\n",
      "y_true:1\n",
      "----------\n",
      "x_seq:洋 洋 平 潭 ， 乃 漱 乃 濯 。 邈 邈 遐 景 ， 载 欣 载 瞩 。 人 亦 有 言 ， 称 心 易 足\n",
      "y_pred:3\n",
      "y_true:2\n",
      "----------\n",
      "x_seq:吾 家 洗 砚 池 头 树 ， 个 个 花 开 淡 墨 痕 。 不 要 人 夸 好 颜 色 ， 只 流 清 气 满\n",
      "y_pred:2\n",
      "y_true:1\n",
      "----------\n",
      "x_seq:余 闲 居 ， 爱 重 九 之 名 。 秋 菊 盈 园 ， 而 持 醪 靡 由 ， 空 服 九 华 ， 寄 怀 于\n",
      "y_pred:3\n",
      "y_true:2\n",
      "----------\n",
      "x_seq:故 人 西 辞 黄 鹤 楼 ， 烟 花 三 月 下 扬 州 。 孤 帆 远 影 碧 空 尽 ， 唯 见 长 江 天\n",
      "y_pred:1\n",
      "y_true:1\n",
      "----------\n",
      "END:**************************************************\n"
     ]
    },
    {
     "name": "stderr",
     "output_type": "stream",
     "text": [
      "I:BASE TASK:[base_task.:270]:Task READABILITY:\n",
      "I:BASE TASK:[base_task.:271]:\t21 training batches\n",
      "I:BASE TASK:[base_task.:272]:\t4 validation batches\n",
      "I:BASE TASK:[base_task.:273]:\t6 test batches\n",
      "I:BERT EMBEDDING:[bert_embed:105]:seq_len:30\n",
      "I:BERT EMBEDDING:[bert_embed:105]:seq_len:30\n",
      "I:AHMTL MODEL:[AHMTL.py:126]:Multi-Task Learning Model has been instantiated.\n",
      "I:CUR_SPLIT:2:[sampler_mu: 92]:Set up ready. Begining training/validation.\n",
      "I:BASE-MODEL:[base_model:133]:READABILITY's model_dir is ./model_ckpt/2020-02-03-12_17_56/2/READABILITY-NaiveDenseModel\n",
      "I:BASE-MODEL:[base_model:232]:[READABILITY]:train info:Train on 1301 samples, validate on 230 samples\n"
     ]
    },
    {
     "name": "stdout",
     "output_type": "stream",
     "text": [
      "Epoch 1/50\n",
      "21/21 [==============================] - 40s 2s/step - task_name: READABILITY - loss: 0.8749 - accuracy: 0.5826 - val_loss: 0.8405 - val_accuracy: 0.6133\n"
     ]
    },
    {
     "name": "stderr",
     "output_type": "stream",
     "text": [
      "I:CUR_SPLIT:2:[sampler_mu:139]:----------------------------------------------------------------------------------------------------\n"
     ]
    },
    {
     "name": "stdout",
     "output_type": "stream",
     "text": [
      "Epoch 2/50\n",
      "21/21 [==============================] - 27s 1s/step - task_name: READABILITY - loss: 0.7344 - accuracy: 0.6540 - val_loss: 0.7824 - val_accuracy: 0.6484\n"
     ]
    },
    {
     "name": "stderr",
     "output_type": "stream",
     "text": [
      "I:CUR_SPLIT:2:[sampler_mu:139]:----------------------------------------------------------------------------------------------------\n"
     ]
    },
    {
     "name": "stdout",
     "output_type": "stream",
     "text": [
      "Epoch 3/50\n",
      "21/21 [==============================] - 4s 208ms/step - task_name: READABILITY - loss: 0.6789 - accuracy: 0.6987 - val_loss: 0.7876 - val_accuracy: 0.6797\n"
     ]
    },
    {
     "name": "stderr",
     "output_type": "stream",
     "text": [
      "I:CUR_SPLIT:2:[sampler_mu:139]:----------------------------------------------------------------------------------------------------\n"
     ]
    },
    {
     "name": "stdout",
     "output_type": "stream",
     "text": [
      "Epoch 4/50\n",
      "21/21 [==============================] - 24s 1s/step - task_name: READABILITY - loss: 0.6365 - accuracy: 0.7128 - val_loss: 0.7547 - val_accuracy: 0.6953\n"
     ]
    },
    {
     "name": "stderr",
     "output_type": "stream",
     "text": [
      "I:CUR_SPLIT:2:[sampler_mu:139]:----------------------------------------------------------------------------------------------------\n"
     ]
    },
    {
     "name": "stdout",
     "output_type": "stream",
     "text": [
      "Epoch 5/50\n",
      "21/21 [==============================] - 5s 216ms/step - task_name: READABILITY - loss: 0.5593 - accuracy: 0.7604 - val_loss: 0.8023 - val_accuracy: 0.6523\n"
     ]
    },
    {
     "name": "stderr",
     "output_type": "stream",
     "text": [
      "I:CUR_SPLIT:2:[sampler_mu:139]:----------------------------------------------------------------------------------------------------\n"
     ]
    },
    {
     "name": "stdout",
     "output_type": "stream",
     "text": [
      "Epoch 6/50\n",
      "21/21 [==============================] - 4s 207ms/step - task_name: READABILITY - loss: 0.4948 - accuracy: 0.7976 - val_loss: 0.9683 - val_accuracy: 0.6289\n"
     ]
    },
    {
     "name": "stderr",
     "output_type": "stream",
     "text": [
      "I:CUR_SPLIT:2:[sampler_mu:139]:----------------------------------------------------------------------------------------------------\n"
     ]
    },
    {
     "name": "stdout",
     "output_type": "stream",
     "text": [
      "Epoch 7/50\n",
      "21/21 [==============================] - 4s 206ms/step - task_name: READABILITY - loss: 0.4702 - accuracy: 0.8162 - val_loss: 0.8832 - val_accuracy: 0.6445\n"
     ]
    },
    {
     "name": "stderr",
     "output_type": "stream",
     "text": [
      "I:CUR_SPLIT:2:[sampler_mu:139]:----------------------------------------------------------------------------------------------------\n"
     ]
    },
    {
     "name": "stdout",
     "output_type": "stream",
     "text": [
      "Epoch 8/50\n",
      "21/21 [==============================] - 4s 209ms/step - task_name: READABILITY - loss: 0.3984 - accuracy: 0.8512 - val_loss: 0.8748 - val_accuracy: 0.6719\n"
     ]
    },
    {
     "name": "stderr",
     "output_type": "stream",
     "text": [
      "I:CUR_SPLIT:2:[sampler_mu:139]:----------------------------------------------------------------------------------------------------\n"
     ]
    },
    {
     "name": "stdout",
     "output_type": "stream",
     "text": [
      "Epoch 9/50\n",
      "21/21 [==============================] - 5s 216ms/step - task_name: READABILITY - loss: 0.3515 - accuracy: 0.8750 - val_loss: 0.9644 - val_accuracy: 0.6641\n"
     ]
    },
    {
     "name": "stderr",
     "output_type": "stream",
     "text": [
      "I:CUR_SPLIT:2:[sampler_mu:139]:----------------------------------------------------------------------------------------------------\n"
     ]
    },
    {
     "name": "stdout",
     "output_type": "stream",
     "text": [
      "Epoch 10/50\n",
      "21/21 [==============================] - 7s 323ms/step - task_name: READABILITY - loss: 0.2989 - accuracy: 0.8943 - val_loss: 0.9565 - val_accuracy: 0.6602\n"
     ]
    },
    {
     "name": "stderr",
     "output_type": "stream",
     "text": [
      "I:CUR_SPLIT:2:[sampler_mu:139]:----------------------------------------------------------------------------------------------------\n"
     ]
    },
    {
     "name": "stdout",
     "output_type": "stream",
     "text": [
      "Epoch 11/50\n",
      "21/21 [==============================] - 7s 336ms/step - task_name: READABILITY - loss: 0.2475 - accuracy: 0.9174 - val_loss: 1.0363 - val_accuracy: 0.6758\n"
     ]
    },
    {
     "name": "stderr",
     "output_type": "stream",
     "text": [
      "I:CUR_SPLIT:2:[sampler_mu:139]:----------------------------------------------------------------------------------------------------\n"
     ]
    },
    {
     "name": "stdout",
     "output_type": "stream",
     "text": [
      "\n",
      "----------------------------------READABILITY CLASS METRICS -----------------------------------\n",
      "\n",
      "              precision    recall  f1-score   support\n",
      "    accuracy                         0.6397       383\n",
      "   macro avg     0.6435    0.6243    0.6283       383\n",
      "weighted avg     0.6320    0.6397    0.6292       383\n",
      "\n",
      "\n",
      "epoch:classification EPOCH accuracy: 0.639686684073107 precision: 0.643545, recall: 0.624255, f1: 0.628288\n",
      "\n",
      "-----------------------------READABILITY END ----------------------------\n"
     ]
    },
    {
     "name": "stderr",
     "output_type": "stream",
     "text": [
      "I:SAMPLE_TRAINER:[sampler_mu: 43]:cur_split_idx 2th END\n",
      "I:SAMPLE_TRAINER:[sampler_mu: 44]:****************************************************************************************************\n",
      "I:SAMPLE_TRAINER:[sampler_mu: 45]:****************************************************************************************************\n"
     ]
    },
    {
     "name": "stdout",
     "output_type": "stream",
     "text": [
      "train_example:**************************************************\n",
      "x_seq:莫 唱 当 年 长 恨 歌 ， 人 间 亦 自 有 银 河 。 石 壕 村 里 夫 妻 别 ， 泪 比 长 生 殿\n",
      "y_pred:1\n",
      "y_true:1\n",
      "----------\n",
      "x_seq:天 街 小 雨 润 如 酥 ， 草 色 遥 看 近 却 无 。 最 是 一 年 春 好 处 ， 绝 胜 烟 柳 满\n",
      "y_pred:1\n",
      "y_true:1\n",
      "----------\n",
      "x_seq:潜 虬 媚 幽 姿 ， 飞 鸿 响 远 音 。 薄 霄 愧 云 浮 ， 栖 川 [UNK] 渊 沉 。 进 德 智 所 拙\n",
      "y_pred:2\n",
      "y_true:2\n",
      "----------\n",
      "x_seq:忆 梅 下 西 洲 ， 折 梅 寄 江 北 。 单 衫 杏 子 红 ， 双 鬓 鸦 雏 色 。 西 洲 在 何 处\n",
      "y_pred:1\n",
      "y_true:1\n",
      "----------\n",
      "x_seq:满 眼 青 山 未 得 过 ， 镜 中 无 那 鬓 丝 何 。 只 言 旋 老 转 无 事 ， 欲 到 中 年 事\n",
      "y_pred:1\n",
      "y_true:1\n",
      "----------\n",
      "x_seq:界 围 汇 湘 曲 ， 青 壁 环 澄 流 。 悬 泉 粲 成 帘 ， 罗 注 无 时 休 。 韵 磬 叩 凝 碧\n",
      "y_pred:2\n",
      "y_true:3\n",
      "----------\n",
      "x_seq:常 羡 人 间 琢 玉 郎 ， 天 应 乞 与 点 酥 娘 。 尽 道 清 歌 传 皓 齿 ， 风 起 ， 雪 飞\n",
      "y_pred:2\n",
      "y_true:2\n",
      "----------\n",
      "x_seq:泛 彼 柏 舟 ， 在 彼 中 河 。 [UNK] 彼 两 髦 ， 实 维 我 仪 。 之 死 矢 靡 它 。 母 也 天\n",
      "y_pred:3\n",
      "y_true:3\n",
      "----------\n",
      "x_seq:梳 洗 罢 ， 独 倚 望 江 楼 。 过 尽 千 帆 皆 不 是 ， 斜 晖 脉 脉 水 悠 悠 。 肠 断 白\n",
      "y_pred:1\n",
      "y_true:1\n",
      "----------\n",
      "x_seq:半 堤 花 雨 。 对 芳 辰 消 遣 ， 无 奈 情 绪 。 春 色 尚 堪 描 画 在 ， 万 紫 千 红 尘\n",
      "y_pred:1\n",
      "y_true:2\n",
      "----------\n",
      "END:**************************************************\n",
      "test_example:**************************************************\n",
      "x_seq:长 江 悲 已 滞 ， 万 里 念 将 归 。 况 属 高 风 晚 ， 山 山 黄 叶 飞 。 [UNK] [PAD] [PAD] [PAD] [PAD]\n",
      "y_pred:1\n",
      "y_true:1\n",
      "----------\n",
      "x_seq:一 粒 红 稻 饭 ， 几 滴 牛 颔 血 。 珊 瑚 枝 下 人 ， 衔 杯 吐 不 歇 。 [UNK] [PAD] [PAD] [PAD] [PAD]\n",
      "y_pred:1\n",
      "y_true:1\n",
      "----------\n",
      "x_seq:废 逐 人 所 弃 ， 遂 为 鬼 神 欺 。 才 难 不 其 然 ， 卒 与 大 患 期 。 凌 人 古 受 氏\n",
      "y_pred:2\n",
      "y_true:3\n",
      "----------\n",
      "x_seq:雨 晴 云 散 ， 满 江 明 月 。 风 微 浪 息 ， 扁 舟 一 叶 。 半 夜 心 ， 三 生 梦 ， 万\n",
      "y_pred:1\n",
      "y_true:1\n",
      "----------\n",
      "x_seq:零 落 栖 迟 一 杯 酒 ， 主 人 奉 觞 客 长 寿 。 主 父 西 游 困 不 归 ， 家 人 折 断 门\n",
      "y_pred:1\n",
      "y_true:2\n",
      "----------\n",
      "x_seq:春 残 何 事 苦 思 乡 ， 病 里 梳 头 恨 最 长 。 梁 燕 语 多 终 日 在 ， 蔷 薇 风 细 一\n",
      "y_pred:1\n",
      "y_true:1\n",
      "----------\n",
      "x_seq:青 山 相 待 ， 白 云 相 爱 ， 梦 不 到 紫 罗 袍 共 黄 金 带 。 一 茅 斋 ， 野 花 开 。\n",
      "y_pred:1\n",
      "y_true:1\n",
      "----------\n",
      "x_seq:紫 陌 红 尘 拂 面 来 ， 无 人 不 道 看 花 回 。 玄 都 观 里 桃 千 树 ， 尽 是 刘 郎 去\n",
      "y_pred:1\n",
      "y_true:1\n",
      "----------\n",
      "x_seq:乱 后 烧 残 数 架 书 ， 峰 前 犹 自 恋 吾 庐 。 忘 机 渐 喜 逢 人 少 ， 览 镜 空 怜 待\n",
      "y_pred:2\n",
      "y_true:2\n",
      "----------\n",
      "x_seq:江 水 漾 西 风 ， 江 花 脱 晚 红 。 离 情 被 横 笛 ， 吹 过 乱 山 东 。 [UNK] [PAD] [PAD] [PAD] [PAD]\n",
      "y_pred:1\n",
      "y_true:1\n",
      "----------\n",
      "END:**************************************************\n"
     ]
    },
    {
     "name": "stderr",
     "output_type": "stream",
     "text": [
      "I:BASE TASK:[base_task.:270]:Task READABILITY:\n",
      "I:BASE TASK:[base_task.:271]:\t21 training batches\n",
      "I:BASE TASK:[base_task.:272]:\t4 validation batches\n",
      "I:BASE TASK:[base_task.:273]:\t6 test batches\n",
      "I:BERT EMBEDDING:[bert_embed:105]:seq_len:30\n",
      "I:BERT EMBEDDING:[bert_embed:105]:seq_len:30\n",
      "I:AHMTL MODEL:[AHMTL.py:126]:Multi-Task Learning Model has been instantiated.\n",
      "I:CUR_SPLIT:3:[sampler_mu: 92]:Set up ready. Begining training/validation.\n",
      "I:BASE-MODEL:[base_model:133]:READABILITY's model_dir is ./model_ckpt/2020-02-03-12_17_56/3/READABILITY-NaiveDenseModel\n",
      "I:BASE-MODEL:[base_model:232]:[READABILITY]:train info:Train on 1301 samples, validate on 230 samples\n"
     ]
    },
    {
     "name": "stdout",
     "output_type": "stream",
     "text": [
      "Epoch 1/50\n",
      "21/21 [==============================] - 45s 2s/step - task_name: READABILITY - loss: 0.8489 - accuracy: 0.5930 - val_loss: 0.9517 - val_accuracy: 0.5977\n"
     ]
    },
    {
     "name": "stderr",
     "output_type": "stream",
     "text": [
      "I:CUR_SPLIT:3:[sampler_mu:139]:----------------------------------------------------------------------------------------------------\n"
     ]
    },
    {
     "name": "stdout",
     "output_type": "stream",
     "text": [
      "Epoch 2/50\n",
      "21/21 [==============================] - 26s 1s/step - task_name: READABILITY - loss: 0.6895 - accuracy: 0.6823 - val_loss: 0.9200 - val_accuracy: 0.6172\n"
     ]
    },
    {
     "name": "stderr",
     "output_type": "stream",
     "text": [
      "I:CUR_SPLIT:3:[sampler_mu:139]:----------------------------------------------------------------------------------------------------\n"
     ]
    },
    {
     "name": "stdout",
     "output_type": "stream",
     "text": [
      "Epoch 3/50\n",
      "21/21 [==============================] - 7s 325ms/step - task_name: READABILITY - loss: 0.7655 - accuracy: 0.6272 - val_loss: 1.0426 - val_accuracy: 0.5820\n"
     ]
    },
    {
     "name": "stderr",
     "output_type": "stream",
     "text": [
      "I:CUR_SPLIT:3:[sampler_mu:139]:----------------------------------------------------------------------------------------------------\n"
     ]
    },
    {
     "name": "stdout",
     "output_type": "stream",
     "text": [
      "Epoch 4/50\n",
      "21/21 [==============================] - 21s 987ms/step - task_name: READABILITY - loss: 0.6231 - accuracy: 0.7232 - val_loss: 0.9065 - val_accuracy: 0.6172\n"
     ]
    },
    {
     "name": "stderr",
     "output_type": "stream",
     "text": [
      "I:CUR_SPLIT:3:[sampler_mu:139]:----------------------------------------------------------------------------------------------------\n"
     ]
    },
    {
     "name": "stdout",
     "output_type": "stream",
     "text": [
      "Epoch 5/50\n",
      "21/21 [==============================] - 7s 354ms/step - task_name: READABILITY - loss: 0.5697 - accuracy: 0.7470 - val_loss: 0.9306 - val_accuracy: 0.6445\n"
     ]
    },
    {
     "name": "stderr",
     "output_type": "stream",
     "text": [
      "I:CUR_SPLIT:3:[sampler_mu:139]:----------------------------------------------------------------------------------------------------\n"
     ]
    },
    {
     "name": "stdout",
     "output_type": "stream",
     "text": [
      "Epoch 6/50\n",
      "21/21 [==============================] - 7s 344ms/step - task_name: READABILITY - loss: 0.5388 - accuracy: 0.7738 - val_loss: 0.9192 - val_accuracy: 0.6445\n"
     ]
    },
    {
     "name": "stderr",
     "output_type": "stream",
     "text": [
      "I:CUR_SPLIT:3:[sampler_mu:139]:----------------------------------------------------------------------------------------------------\n"
     ]
    },
    {
     "name": "stdout",
     "output_type": "stream",
     "text": [
      "Epoch 7/50\n",
      "21/21 [==============================] - 7s 335ms/step - task_name: READABILITY - loss: 0.4727 - accuracy: 0.7954 - val_loss: 0.9186 - val_accuracy: 0.6289\n"
     ]
    },
    {
     "name": "stderr",
     "output_type": "stream",
     "text": [
      "I:CUR_SPLIT:3:[sampler_mu:139]:----------------------------------------------------------------------------------------------------\n"
     ]
    },
    {
     "name": "stdout",
     "output_type": "stream",
     "text": [
      "Epoch 8/50\n",
      "21/21 [==============================] - 7s 352ms/step - task_name: READABILITY - loss: 0.4289 - accuracy: 0.8304 - val_loss: 0.9671 - val_accuracy: 0.6484\n"
     ]
    },
    {
     "name": "stderr",
     "output_type": "stream",
     "text": [
      "I:CUR_SPLIT:3:[sampler_mu:139]:----------------------------------------------------------------------------------------------------\n"
     ]
    },
    {
     "name": "stdout",
     "output_type": "stream",
     "text": [
      "Epoch 9/50\n",
      "21/21 [==============================] - 6s 308ms/step - task_name: READABILITY - loss: 0.3925 - accuracy: 0.8333 - val_loss: 1.0447 - val_accuracy: 0.6328\n"
     ]
    },
    {
     "name": "stderr",
     "output_type": "stream",
     "text": [
      "I:CUR_SPLIT:3:[sampler_mu:139]:----------------------------------------------------------------------------------------------------\n"
     ]
    },
    {
     "name": "stdout",
     "output_type": "stream",
     "text": [
      "Epoch 10/50\n",
      "21/21 [==============================] - 5s 252ms/step - task_name: READABILITY - loss: 0.3559 - accuracy: 0.8705 - val_loss: 1.1263 - val_accuracy: 0.6289\n"
     ]
    },
    {
     "name": "stderr",
     "output_type": "stream",
     "text": [
      "I:CUR_SPLIT:3:[sampler_mu:139]:----------------------------------------------------------------------------------------------------\n"
     ]
    },
    {
     "name": "stdout",
     "output_type": "stream",
     "text": [
      "Epoch 11/50\n",
      "21/21 [==============================] - 6s 281ms/step - task_name: READABILITY - loss: 0.3259 - accuracy: 0.8854 - val_loss: 1.1825 - val_accuracy: 0.6133\n"
     ]
    },
    {
     "name": "stderr",
     "output_type": "stream",
     "text": [
      "I:CUR_SPLIT:3:[sampler_mu:139]:----------------------------------------------------------------------------------------------------\n"
     ]
    },
    {
     "name": "stdout",
     "output_type": "stream",
     "text": [
      "\n",
      "----------------------------------READABILITY CLASS METRICS -----------------------------------\n",
      "\n",
      "              precision    recall  f1-score   support\n",
      "    accuracy                         0.6815       383\n",
      "   macro avg     0.7289    0.6814    0.6965       383\n",
      "weighted avg     0.6965    0.6815    0.6799       383\n",
      "\n",
      "\n",
      "epoch:classification EPOCH accuracy: 0.6814621409921671 precision: 0.728908, recall: 0.681397, f1: 0.696515\n",
      "\n",
      "-----------------------------READABILITY END ----------------------------\n"
     ]
    },
    {
     "name": "stderr",
     "output_type": "stream",
     "text": [
      "I:SAMPLE_TRAINER:[sampler_mu: 43]:cur_split_idx 3th END\n",
      "I:SAMPLE_TRAINER:[sampler_mu: 44]:****************************************************************************************************\n",
      "I:SAMPLE_TRAINER:[sampler_mu: 45]:****************************************************************************************************\n"
     ]
    },
    {
     "name": "stdout",
     "output_type": "stream",
     "text": [
      "train_example:**************************************************\n",
      "x_seq:月 映 林 塘 静 ， 风 含 笑 语 凉 。 俯 窥 怜 绿 净 ， 小 立 伫 幽 香 。 携 幼 寻 新 [UNK]\n",
      "y_pred:2\n",
      "y_true:1\n",
      "----------\n",
      "x_seq:帷 飘 白 玉 堂 ， [UNK] 卷 碧 牙 床 。 楚 女 当 时 意 ， 萧 萧 发 彩 凉 。 [UNK] [PAD] [PAD] [PAD] [PAD]\n",
      "y_pred:2\n",
      "y_true:1\n",
      "----------\n",
      "x_seq:今 夕 为 何 夕 ， 他 乡 说 故 乡 。 看 人 儿 女 大 ， 为 客 岁 年 长 。 戎 马 无 休 歇\n",
      "y_pred:1\n",
      "y_true:1\n",
      "----------\n",
      "x_seq:飒 飒 西 风 满 院 栽 ， 蕊 寒 香 冷 蝶 难 来 。 他 年 我 若 为 青 帝 ， 报 与 桃 花 一\n",
      "y_pred:2\n",
      "y_true:2\n",
      "----------\n",
      "x_seq:蜀 国 曾 闻 子 规 鸟 ， 宣 城 又 见 杜 鹃 花 。 一 叫 一 回 肠 一 断 ， 三 春 三 月 忆\n",
      "y_pred:1\n",
      "y_true:1\n",
      "----------\n",
      "x_seq:今 日 竹 林 宴 ， 我 家 贤 侍 郎 。 三 杯 容 小 阮 ， 醉 后 发 清 狂 。 船 上 齐 桡 乐\n",
      "y_pred:1\n",
      "y_true:1\n",
      "----------\n",
      "x_seq:春 江 潮 水 连 海 平 ， 海 上 明 月 共 潮 生 。 滟 滟 随 波 千 万 里 ， 何 处 春 江 无\n",
      "y_pred:1\n",
      "y_true:2\n",
      "----------\n",
      "x_seq:卖 炭 翁 ， 伐 薪 烧 炭 南 山 中 。 满 面 尘 灰 烟 火 色 ， 两 鬓 苍 苍 十 指 黑 。 卖\n",
      "y_pred:2\n",
      "y_true:2\n",
      "----------\n",
      "x_seq:[UNK] 彼 流 水 ， 朝 宗 于 海 。 [UNK] 彼 飞 隼 ， 载 飞 载 止 。 嗟 我 兄 弟 ， 邦 人 诸 友\n",
      "y_pred:3\n",
      "y_true:3\n",
      "----------\n",
      "x_seq:八 月 秋 高 风 怒 号 ， 卷 我 屋 上 三 重 茅 。 茅 飞 渡 江 洒 江 郊 ， 高 者 挂 [UNK] 长\n",
      "y_pred:2\n",
      "y_true:2\n",
      "----------\n",
      "END:**************************************************\n",
      "test_example:**************************************************\n",
      "x_seq:嗟 嗟 烈 祖 ！ 有 秩 斯 祜 。 申 锡 无 疆 ， 及 尔 斯 所 。 既 载 清 [UNK] ， [UNK] 我 思 成\n",
      "y_pred:3\n",
      "y_true:3\n",
      "----------\n",
      "x_seq:社 长 排 门 告 示 ， 但 有 的 差 使 无 推 故 ， 这 差 使 不 寻 俗 。 一 壁 厢 纳 草 也\n",
      "y_pred:1\n",
      "y_true:3\n",
      "----------\n",
      "x_seq:吴 无 君 ， 无 大 夫 ， 此 何 以 有 君 ， 有 大 夫 ？ 贤 季 子 也 。 何 贤 乎 季 子 ？\n",
      "y_pred:1\n",
      "y_true:3\n",
      "----------\n",
      "x_seq:江 国 逾 千 里 ， 山 城 仅 百 层 。 岸 风 翻 夕 浪 ， 舟 雪 洒 寒 灯 。 留 滞 才 难 尽\n",
      "y_pred:2\n",
      "y_true:2\n",
      "----------\n",
      "x_seq:樱 桃 落 尽 春 归 去 ， 蝶 翻 金 粉 双 飞 。 子 规 啼 月 小 楼 西 ， 玉 钩 罗 幕 ， 惆\n",
      "y_pred:2\n",
      "y_true:2\n",
      "----------\n",
      "x_seq:人 闲 桂 花 落 ， 夜 静 春 山 空 。 月 出 惊 山 鸟 ， 时 鸣 春 涧 中 。 [UNK] [PAD] [PAD] [PAD] [PAD]\n",
      "y_pred:1\n",
      "y_true:1\n",
      "----------\n",
      "x_seq:牧 童 骑 黄 牛 ， 歌 声 振 林 樾 。 意 欲 捕 鸣 蝉 ， 忽 然 闭 口 立 。 [UNK] [PAD] [PAD] [PAD] [PAD]\n",
      "y_pred:1\n",
      "y_true:1\n",
      "----------\n",
      "x_seq:西 京 乱 无 象 ， 豺 虎 方 [UNK] 患 。 复 弃 中 国 去 ， 委 身 适 荆 蛮 。 亲 戚 对 我 悲\n",
      "y_pred:2\n",
      "y_true:2\n",
      "----------\n",
      "x_seq:爆 竹 声 中 一 岁 除 ， 春 风 送 暖 入 屠 苏 。 千 门 万 户 [UNK] [UNK] 日 ， 总 把 新 桃 换\n",
      "y_pred:1\n",
      "y_true:1\n",
      "----------\n",
      "x_seq:岂 曰 无 衣 ？ 与 子 同 袍 。 王 于 兴 师 ， 修 我 戈 矛 。 与 子 同 仇 ！ 岂 曰 无 衣\n",
      "y_pred:3\n",
      "y_true:2\n",
      "----------\n",
      "END:**************************************************\n"
     ]
    },
    {
     "name": "stderr",
     "output_type": "stream",
     "text": [
      "I:BASE TASK:[base_task.:270]:Task READABILITY:\n",
      "I:BASE TASK:[base_task.:271]:\t21 training batches\n",
      "I:BASE TASK:[base_task.:272]:\t4 validation batches\n",
      "I:BASE TASK:[base_task.:273]:\t6 test batches\n",
      "I:BERT EMBEDDING:[bert_embed:105]:seq_len:30\n",
      "I:BERT EMBEDDING:[bert_embed:105]:seq_len:30\n",
      "I:AHMTL MODEL:[AHMTL.py:126]:Multi-Task Learning Model has been instantiated.\n",
      "I:CUR_SPLIT:4:[sampler_mu: 92]:Set up ready. Begining training/validation.\n",
      "I:BASE-MODEL:[base_model:133]:READABILITY's model_dir is ./model_ckpt/2020-02-03-12_17_56/4/READABILITY-NaiveDenseModel\n",
      "I:BASE-MODEL:[base_model:232]:[READABILITY]:train info:Train on 1302 samples, validate on 230 samples\n"
     ]
    },
    {
     "name": "stdout",
     "output_type": "stream",
     "text": [
      "Epoch 1/50\n",
      "21/21 [==============================] - 51s 2s/step - task_name: READABILITY - loss: 0.8499 - accuracy: 0.5900 - val_loss: 0.8614 - val_accuracy: 0.6641\n"
     ]
    },
    {
     "name": "stderr",
     "output_type": "stream",
     "text": [
      "I:CUR_SPLIT:4:[sampler_mu:139]:----------------------------------------------------------------------------------------------------\n"
     ]
    },
    {
     "name": "stdout",
     "output_type": "stream",
     "text": [
      "Epoch 2/50\n",
      "21/21 [==============================] - 14s 687ms/step - task_name: READABILITY - loss: 0.6552 - accuracy: 0.7165 - val_loss: 0.8043 - val_accuracy: 0.6562\n"
     ]
    },
    {
     "name": "stderr",
     "output_type": "stream",
     "text": [
      "I:CUR_SPLIT:4:[sampler_mu:139]:----------------------------------------------------------------------------------------------------\n"
     ]
    },
    {
     "name": "stdout",
     "output_type": "stream",
     "text": [
      "Epoch 3/50\n",
      "21/21 [==============================] - 4s 202ms/step - task_name: READABILITY - loss: 0.6056 - accuracy: 0.7351 - val_loss: 0.8455 - val_accuracy: 0.6484\n"
     ]
    },
    {
     "name": "stderr",
     "output_type": "stream",
     "text": [
      "I:CUR_SPLIT:4:[sampler_mu:139]:----------------------------------------------------------------------------------------------------\n"
     ]
    },
    {
     "name": "stdout",
     "output_type": "stream",
     "text": [
      "Epoch 4/50\n",
      "21/21 [==============================] - 4s 212ms/step - task_name: READABILITY - loss: 0.5467 - accuracy: 0.7693 - val_loss: 0.8182 - val_accuracy: 0.6445\n"
     ]
    },
    {
     "name": "stderr",
     "output_type": "stream",
     "text": [
      "I:CUR_SPLIT:4:[sampler_mu:139]:----------------------------------------------------------------------------------------------------\n"
     ]
    },
    {
     "name": "stdout",
     "output_type": "stream",
     "text": [
      "Epoch 5/50\n",
      "21/21 [==============================] - 7s 310ms/step - task_name: READABILITY - loss: 0.4876 - accuracy: 0.8013 - val_loss: 0.8705 - val_accuracy: 0.6289\n"
     ]
    },
    {
     "name": "stderr",
     "output_type": "stream",
     "text": [
      "I:CUR_SPLIT:4:[sampler_mu:139]:----------------------------------------------------------------------------------------------------\n"
     ]
    },
    {
     "name": "stdout",
     "output_type": "stream",
     "text": [
      "Epoch 6/50\n",
      "21/21 [==============================] - 7s 322ms/step - task_name: READABILITY - loss: 0.4548 - accuracy: 0.8185 - val_loss: 0.8673 - val_accuracy: 0.6602\n"
     ]
    },
    {
     "name": "stderr",
     "output_type": "stream",
     "text": [
      "I:CUR_SPLIT:4:[sampler_mu:139]:----------------------------------------------------------------------------------------------------\n"
     ]
    },
    {
     "name": "stdout",
     "output_type": "stream",
     "text": [
      "Epoch 7/50\n",
      "21/21 [==============================] - 7s 313ms/step - task_name: READABILITY - loss: 0.3912 - accuracy: 0.8445 - val_loss: 0.9515 - val_accuracy: 0.6484\n"
     ]
    },
    {
     "name": "stderr",
     "output_type": "stream",
     "text": [
      "I:CUR_SPLIT:4:[sampler_mu:139]:----------------------------------------------------------------------------------------------------\n"
     ]
    },
    {
     "name": "stdout",
     "output_type": "stream",
     "text": [
      "Epoch 8/50\n",
      "21/21 [==============================] - 7s 314ms/step - task_name: READABILITY - loss: 0.3453 - accuracy: 0.8765 - val_loss: 1.0922 - val_accuracy: 0.6211\n"
     ]
    },
    {
     "name": "stderr",
     "output_type": "stream",
     "text": [
      "I:CUR_SPLIT:4:[sampler_mu:139]:----------------------------------------------------------------------------------------------------\n"
     ]
    },
    {
     "name": "stdout",
     "output_type": "stream",
     "text": [
      "Epoch 9/50\n",
      "21/21 [==============================] - 6s 263ms/step - task_name: READABILITY - loss: 0.2911 - accuracy: 0.8951 - val_loss: 1.1620 - val_accuracy: 0.6055\n"
     ]
    },
    {
     "name": "stderr",
     "output_type": "stream",
     "text": [
      "I:CUR_SPLIT:4:[sampler_mu:139]:----------------------------------------------------------------------------------------------------\n"
     ]
    },
    {
     "name": "stdout",
     "output_type": "stream",
     "text": [
      "\n",
      "----------------------------------READABILITY CLASS METRICS -----------------------------------\n",
      "\n",
      "              precision    recall  f1-score   support\n",
      "    accuracy                         0.6623       382\n",
      "   macro avg     0.7052    0.6521    0.6593       382\n",
      "weighted avg     0.6785    0.6623    0.6505       382\n",
      "\n",
      "\n",
      "epoch:classification EPOCH accuracy: 0.662303664921466 precision: 0.705192, recall: 0.652085, f1: 0.659348\n",
      "\n",
      "-----------------------------READABILITY END ----------------------------\n",
      "train_example:**************************************************\n",
      "x_seq:凤 舞 团 团 饼 。 恨 分 破 、 教 孤 令 。 金 渠 体 净 ， 只 轮 慢 碾 ， 玉 尘 光 莹 。\n",
      "y_pred:2\n",
      "y_true:3\n",
      "----------\n",
      "x_seq:八 月 奔 涛 ， 千 尺 崔 嵬 ， [UNK] 然 欲 惊 。 似 灵 妃 顾 笑 ， 神 鱼 进 舞 ； 冯 夷 击\n",
      "y_pred:2\n",
      "y_true:3\n",
      "----------\n",
      "x_seq:醉 里 挑 灯 看 剑 ， 梦 回 吹 角 连 营 。 八 百 里 分 麾 下 炙 ， 五 十 弦 翻 塞 外 声\n",
      "y_pred:2\n",
      "y_true:2\n",
      "----------\n",
      "x_seq:辛 丑 正 月 五 日 ， 天 气 澄 和 ， 风 物 闲 美 ， 与 二 三 邻 曲 ， 同 游 斜 川 。 临\n",
      "y_pred:1\n",
      "y_true:3\n",
      "----------\n",
      "x_seq:父 耕 原 上 田 ， 子 [UNK] 山 下 荒 。 六 月 禾 未 秀 ， 官 家 已 修 仓 。 [UNK] [PAD] [PAD] [PAD] [PAD]\n",
      "y_pred:1\n",
      "y_true:1\n",
      "----------\n",
      "x_seq:少 年 听 雨 歌 楼 上 。 红 烛 昏 罗 帐 。 壮 年 听 雨 客 舟 中 。 江 阔 云 低 、 断 雁\n",
      "y_pred:1\n",
      "y_true:2\n",
      "----------\n",
      "x_seq:云 想 衣 裳 花 想 容 ， 春 风 拂 槛 露 华 浓 。 若 非 群 玉 山 头 见 ， 会 向 瑶 台 月\n",
      "y_pred:2\n",
      "y_true:1\n",
      "----------\n",
      "x_seq:冷 红 飘 起 桃 花 片 ， 青 春 意 绪 阑 珊 。 画 楼 帘 幕 卷 轻 寒 ， 酒 馀 人 散 去 ，\n",
      "y_pred:1\n",
      "y_true:2\n",
      "----------\n",
      "x_seq:绵 绵 瓜 [UNK] 。 民 之 初 生 ， 自 土 沮 漆 。 古 公 [UNK] 父 ， 陶 复 陶 冗 ， 未 有 家 室\n",
      "y_pred:3\n",
      "y_true:3\n",
      "----------\n",
      "x_seq:细 雨 茸 茸 湿 楝 花 ， 南 风 树 树 熟 枇 杷 ； 徐 行 不 记 山 深 浅 ， 一 路 莺 啼 送\n",
      "y_pred:1\n",
      "y_true:1\n",
      "----------\n",
      "END:**************************************************\n"
     ]
    },
    {
     "name": "stderr",
     "output_type": "stream",
     "text": [
      "I:SAMPLE_TRAINER:[sampler_mu: 43]:cur_split_idx 4th END\n",
      "I:SAMPLE_TRAINER:[sampler_mu: 44]:****************************************************************************************************\n",
      "I:SAMPLE_TRAINER:[sampler_mu: 45]:****************************************************************************************************\n"
     ]
    },
    {
     "name": "stdout",
     "output_type": "stream",
     "text": [
      "test_example:**************************************************\n",
      "x_seq:枯 藤 老 树 昏 鸦 ， 小 桥 流 水 人 家 ， 古 道 西 风 瘦 马 。 夕 阳 西 下 ， 断 肠 人\n",
      "y_pred:1\n",
      "y_true:1\n",
      "----------\n",
      "x_seq:兰 陵 美 酒 郁 金 香 ， 玉 碗 盛 来 琥 珀 光 。 但 使 主 人 能 醉 客 ， 不 知 何 处 是\n",
      "y_pred:1\n",
      "y_true:1\n",
      "----------\n",
      "x_seq:汉 家 三 十 六 将 军 ， 东 方 雷 动 横 阵 云 。 鸡 鸣 函 谷 客 如 雾 ， 貌 同 心 异 不\n",
      "y_pred:1\n",
      "y_true:3\n",
      "----------\n",
      "x_seq:乙 丑 岁 赴 试 并 州 ， 道 逢 捕 雁 者 云 ： [UNK] 今 旦 获 一 雁 ， 杀 之 矣 。 其 脱 网\n",
      "y_pred:1\n",
      "y_true:2\n",
      "----------\n",
      "x_seq:越 女 新 妆 出 镜 心 ， 自 知 明 艳 更 沉 吟 。 齐 纨 未 是 人 间 贵 ， 一 曲 菱 歌 敌\n",
      "y_pred:1\n",
      "y_true:2\n",
      "----------\n",
      "x_seq:阳 关 万 里 道 ， 不 见 一 人 归 。 惟 有 河 边 雁 ， 秋 来 南 向 飞 。 [UNK] [PAD] [PAD] [PAD] [PAD]\n",
      "y_pred:1\n",
      "y_true:1\n",
      "----------\n",
      "x_seq:嬴 氏 乱 天 纪 ， 贤 者 避 其 世 。 黄 绮 之 商 山 ， 伊 人 亦 云 逝 。 往 迹 浸 复 湮\n",
      "y_pred:2\n",
      "y_true:2\n",
      "----------\n",
      "x_seq:把 酒 祝 东 风 ， 且 共 从 容 。 垂 杨 紫 陌 洛 城 东 。 总 是 当 时 携 手 处 ， 游 遍\n",
      "y_pred:1\n",
      "y_true:2\n",
      "----------\n",
      "x_seq:莺 嘴 啄 花 红 溜 ， 燕 尾 点 波 绿 皱 。 指 冷 玉 笙 寒 ， 吹 彻 小 梅 春 透 。 依 旧\n",
      "y_pred:1\n",
      "y_true:1\n",
      "----------\n",
      "x_seq:羔 裘 逍 遥 ， 狐 裘 以 朝 。 岂 不 尔 思 ？ 劳 心 [UNK] [UNK] 。 羔 裘 翱 翔 ， 狐 裘 在 堂\n",
      "y_pred:3\n",
      "y_true:3\n",
      "----------\n",
      "END:**************************************************\n"
     ]
    }
   ],
   "source": [
    "allu_def_seq_len = poem_seq_len\n",
    "trainer = SamplerMultiTaskTrainer(task_list=task_list,\n",
    "                                  batch_size=64,\n",
    "                                  total_epochs=50,\n",
    "                                  poem_seq_len=poem_seq_len,\n",
    "                                  allu_def_seq_len=allu_def_seq_len)\n",
    "\n",
    "final_res = trainer.train()"
   ]
  },
  {
   "cell_type": "code",
   "execution_count": 4,
   "metadata": {},
   "outputs": [],
   "source": [
    "from kashgari.utils import compute_mean_metrics\n",
    "from kashgari.utils import plot_final_res"
   ]
  },
  {
   "cell_type": "code",
   "execution_count": 5,
   "metadata": {},
   "outputs": [
    {
     "name": "stdout",
     "output_type": "stream",
     "text": [
      "READABILITY\t[0.66405342 0.70071647 0.65233552 0.66652712]\n"
     ]
    },
    {
     "data": {
      "image/png": "[encoded data removed]",
      "text/plain": [
       "<Figure size 1440x576 with 10 Axes>"
      ]
     },
     "metadata": {
      "needs_background": "light"
     },
     "output_type": "display_data"
    }
   ],
   "source": [
    "compute_mean_metrics(final_res)\n",
    "plot_final_res(final_res)"
   ]
  },
  {
   "cell_type": "code",
   "execution_count": null,
   "metadata": {},
   "outputs": [],
   "source": []
  }
 ],
 "metadata": {
  "kernelspec": {
   "display_name": "Python [conda env:ner_tf2] *",
   "language": "python",
   "name": "conda-env-ner_tf2-py"
  },
  "language_info": {
   "codemirror_mode": {
    "name": "ipython",
    "version": 3
   },
   "file_extension": ".py",
   "mimetype": "text/x-python",
   "name": "python",
   "nbconvert_exporter": "python",
   "pygments_lexer": "ipython3",
   "version": "3.7.4"
  },
  "toc": {
   "base_numbering": 1,
   "nav_menu": {},
   "number_sections": true,
   "sideBar": true,
   "skip_h1_title": false,
   "title_cell": "Table of Contents",
   "title_sidebar": "Contents",
   "toc_cell": false,
   "toc_position": {},
   "toc_section_display": true,
   "toc_window_display": false
  }
 },
 "nbformat": 4,
 "nbformat_minor": 2
}
