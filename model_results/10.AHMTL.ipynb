{
 "cells": [
  {
   "cell_type": "code",
   "execution_count": 1,
   "metadata": {},
   "outputs": [
    {
     "name": "stdout",
     "output_type": "stream",
     "text": [
      "2.0.0\n",
      "Num GPUs Available:  1\n",
      "Device mapping:\n",
      "/job:localhost/replica:0/task:0/device:XLA_CPU:0 -> device: XLA_CPU device\n",
      "/job:localhost/replica:0/task:0/device:XLA_GPU:0 -> device: XLA_GPU device\n",
      "/job:localhost/replica:0/task:0/device:GPU:0 -> device: 0, name: TITAN RTX, pci bus id: 0000:0c:00.0, compute capability: 7.5\n",
      "\n"
     ]
    },
    {
     "data": {
      "text/plain": [
       "<tensorflow.python.client.session.Session at 0x7fb9f83b0590>"
      ]
     },
     "execution_count": 1,
     "metadata": {},
     "output_type": "execute_result"
    }
   ],
   "source": [
    "#!/usr/bin/env python\n",
    "# -*- coding: utf-8 -*-\n",
    "# @Time    : 2020/1/13 16:28\n",
    "# @Author  : Shark\n",
    "# @Site    :\n",
    "# @File    : tsts_trainer.py\n",
    "# @Software: PyCharm\n",
    "\n",
    "import os\n",
    "os.environ[\"CUDA_VISIBLE_DEVICES\"] = \"6\"\n",
    "os.environ['TF_CPP_MIN_LOG_LEVEL'] = '2'\n",
    "\n",
    "import tensorflow as tf\n",
    "\n",
    "print(tf.__version__)\n",
    "print(\"Num GPUs Available: \", len(tf.config.experimental.list_physical_devices('GPU')))\n",
    "\n",
    "# On CPU/GPU placement\n",
    "config = tf.compat.v1.ConfigProto(allow_soft_placement=True, log_device_placement=True)\n",
    "config.gpu_options.allow_growth = True\n",
    "tf.compat.v1.Session(config=config)\n"
   ]
  },
  {
   "cell_type": "code",
   "execution_count": 2,
   "metadata": {},
   "outputs": [
    {
     "name": "stdout",
     "output_type": "stream",
     "text": [
      "Device mapping:\n",
      "/job:localhost/replica:0/task:0/device:XLA_CPU:0 -> device: XLA_CPU device\n",
      "/job:localhost/replica:0/task:0/device:XLA_GPU:0 -> device: XLA_GPU device\n",
      "/job:localhost/replica:0/task:0/device:GPU:0 -> device: 0, name: TITAN RTX, pci bus id: 0000:0c:00.0, compute capability: 7.5\n",
      "\n"
     ]
    },
    {
     "name": "stderr",
     "output_type": "stream",
     "text": [
      "I:LOAD NER CORPUS:[ner_task.p: 65]:loaded 21596 samples from ./allusion_corpus/train.data. Samples:\n",
      "x[0]: ['纶', '綍', '谋', '猷', '盛', ',', '丹', '青', '步', '武', '亲', '。']\n",
      "y[0]: ['B-ALLU', 'I-ALLU', 'O', 'O', 'O', 'O', 'O', 'O', 'O', 'O', 'O', 'O']\n"
     ]
    }
   ],
   "source": [
    "from kashgari.trainer.sampler_multi_task_trainer import SamplerMultiTaskTrainer\n",
    "from kashgari.task import ReadabilityTask, NerTask, AlluSourceTask,AlluClassTask\n",
    "from kashgari.processors import ClassificationProcessor, LabelingProcessor\n",
    "\n",
    "poem_seq_len = 30\n",
    "task_list = []\n",
    "processor = LabelingProcessor(vocab_path=\"../pretrained_embedding/bert/poem_chinese_L-12_H-768_A-12/\")\n",
    "ner_task = NerTask(processor,\n",
    "                   \"./allusion_corpus\",\n",
    "                   poem_seq_len,\n",
    "                   num_samples=3000)\n",
    "task_list.append(ner_task)\n",
    "\n",
    "\n",
    "\n",
    "processor = ClassificationProcessor(vocab_path=\"../pretrained_embedding/bert/poem_chinese_L-12_H-768_A-12/\")\n",
    "allu_class_task = AlluClassTask(processor,\n",
    "                                \"./allusion_corpus\",\n",
    "                                poem_seq_len)\n",
    "task_list.append(allu_class_task)\n",
    "\n",
    "\n",
    "\n",
    "processor = ClassificationProcessor(vocab_path=\"../pretrained_embedding/bert/poem_chinese_L-12_H-768_A-12/\")\n",
    "readability_task = ReadabilityTask(processor,\n",
    "                                   \"./allusion_corpus\",\n",
    "                                   poem_seq_len)\n",
    "task_list.append(readability_task)\n",
    "\n",
    "\n",
    "processor = ClassificationProcessor(vocab_path=\"../pretrained_embedding/bert/poem_chinese_L-12_H-768_A-12/\")\n",
    "allu_source_task = AlluSourceTask(processor,\n",
    "                                  \"./allusion_corpus\",\n",
    "                                  poem_seq_len,\n",
    "                                  num_samples=30000)\n",
    "task_list.append(allu_source_task)\n"
   ]
  },
  {
   "cell_type": "code",
   "execution_count": 3,
   "metadata": {
    "scrolled": true
   },
   "outputs": [
    {
     "name": "stderr",
     "output_type": "stream",
     "text": [
      "I:BASE TASK:[base_task.:270]:Task NER:\n",
      "I:BASE TASK:[base_task.:271]:\t32 training batches\n",
      "I:BASE TASK:[base_task.:272]:\t6 validation batches\n",
      "I:BASE TASK:[base_task.:273]:\t10 test batches\n",
      "I:BASE TASK:[base_task.:270]:Task ALLU_CLASS:\n",
      "I:BASE TASK:[base_task.:271]:\t29 training batches\n",
      "I:BASE TASK:[base_task.:272]:\t6 validation batches\n",
      "I:BASE TASK:[base_task.:273]:\t9 test batches\n",
      "I:BASE TASK:[base_task.:270]:Task READABILITY:\n",
      "I:BASE TASK:[base_task.:271]:\t21 training batches\n",
      "I:BASE TASK:[base_task.:272]:\t4 validation batches\n",
      "I:BASE TASK:[base_task.:273]:\t6 test batches\n",
      "I:BASE TASK:[base_task.:270]:Task ALLU_SOURCE:\n",
      "I:BASE TASK:[base_task.:271]:\t64 training batches\n",
      "I:BASE TASK:[base_task.:272]:\t12 validation batches\n",
      "I:BASE TASK:[base_task.:273]:\t94 test batches\n",
      "I:BERT EMBEDDING:[bert_embed:105]:seq_len:30\n",
      "I:BERT EMBEDDING:[bert_embed:105]:seq_len:30\n",
      "I:AHMTL MODEL:[AHMTL.py:126]:Multi-Task Learning Model has been instantiated.\n",
      "I:CUR_SPLIT:0:[sampler_mu: 92]:Set up ready. Begining training/validation.\n",
      "I:BASE-MODEL:[base_model:133]:NER's model_dir is ./model_ckpt/2020-02-04-01_18_48/0/NER-Naive_CRF_Model\n",
      "I:BASE-MODEL:[base_model:232]:[NER]:train info:Train on 2040 samples, validate on 360 samples\n",
      "I:BASE-MODEL:[base_model:133]:ALLU_SOURCE's model_dir is ./model_ckpt/2020-02-04-01_18_48/0/ALLU_SOURCE-NaiveDenseModel\n",
      "I:BASE-MODEL:[base_model:232]:[ALLU_SOURCE]:train info:Train on 4080 samples, validate on 720 samples\n",
      "I:BASE-MODEL:[base_model:133]:ALLU_CLASS's model_dir is ./model_ckpt/2020-02-04-01_18_48/0/ALLU_CLASS-NaiveDenseModel\n",
      "I:BASE-MODEL:[base_model:232]:[ALLU_CLASS]:train info:Train on 1813 samples, validate on 321 samples\n",
      "I:BASE-MODEL:[base_model:133]:READABILITY's model_dir is ./model_ckpt/2020-02-04-01_18_48/0/READABILITY-NaiveDenseModel\n",
      "I:BASE-MODEL:[base_model:232]:[READABILITY]:train info:Train on 1301 samples, validate on 230 samples\n"
     ]
    },
    {
     "name": "stdout",
     "output_type": "stream",
     "text": [
      "Epoch 1/50\n",
      "146/146 [==============================] - 210s 1s/step - task_name:     NER     - loss: 7.9207 - accuracy: 0.7691 - val_loss: 12.1034 - val_accuracy: 0.8006\n",
      "146/146 [==============================] - 210s 1s/step - task_name: ALLU_SOURCE - loss: 0.7533 - accuracy: 0.5717 - val_loss: 0.7370 - val_accuracy: 0.5742 \n",
      "146/146 [==============================] - 210s 1s/step - task_name: ALLU_CLASS  - loss: 2.2249 - accuracy: 0.2292 - val_loss: 2.6830 - val_accuracy: 0.2292\n",
      "146/146 [==============================] - 210s 1s/step - task_name: READABILITY - loss: 0.8327 - accuracy: 0.5477 - val_loss: 0.8521 - val_accuracy: 0.6406\n"
     ]
    },
    {
     "name": "stderr",
     "output_type": "stream",
     "text": [
      "I:CUR_SPLIT:0:[sampler_mu:139]:----------------------------------------------------------------------------------------------------\n"
     ]
    },
    {
     "name": "stdout",
     "output_type": "stream",
     "text": [
      "Epoch 2/50\n",
      "146/146 [==============================] - 58s 401ms/step - task_name:     NER     - loss: 5.9782 - accuracy: 0.8058 - val_loss: 11.8871 - val_accuracy: 0.7989\n",
      "146/146 [==============================] - 58s 401ms/step - task_name: ALLU_SOURCE - loss: 0.5635 - accuracy: 0.6088 - val_loss: 0.7324 - val_accuracy: 0.6016 \n",
      "146/146 [==============================] - 58s 401ms/step - task_name: ALLU_CLASS  - loss: 2.2441 - accuracy: 0.3211 - val_loss: 2.5409 - val_accuracy: 0.2682\n",
      "146/146 [==============================] - 59s 401ms/step - task_name: READABILITY - loss: 0.8311 - accuracy: 0.6706 - val_loss: 0.7909 - val_accuracy: 0.6836\n"
     ]
    },
    {
     "name": "stderr",
     "output_type": "stream",
     "text": [
      "I:CUR_SPLIT:0:[sampler_mu:139]:----------------------------------------------------------------------------------------------------\n"
     ]
    },
    {
     "name": "stdout",
     "output_type": "stream",
     "text": [
      "Epoch 3/50\n",
      "146/146 [==============================] - 51s 346ms/step - task_name:     NER     - loss: 4.9165 - accuracy: 0.8136 - val_loss: 11.7381 - val_accuracy: 0.8008\n",
      "146/146 [==============================] - 51s 346ms/step - task_name: ALLU_SOURCE - loss: 0.7336 - accuracy: 0.6475 - val_loss: 0.7079 - val_accuracy: 0.5924 \n",
      "146/146 [==============================] - 51s 346ms/step - task_name: ALLU_CLASS  - loss: 1.2809 - accuracy: 0.3775 - val_loss: 2.5413 - val_accuracy: 0.2682\n",
      "146/146 [==============================] - 51s 346ms/step - task_name: READABILITY - loss: 0.6353 - accuracy: 0.7016 - val_loss: 0.8668 - val_accuracy: 0.6250\n"
     ]
    },
    {
     "name": "stderr",
     "output_type": "stream",
     "text": [
      "I:CUR_SPLIT:0:[sampler_mu:139]:----------------------------------------------------------------------------------------------------\n"
     ]
    },
    {
     "name": "stdout",
     "output_type": "stream",
     "text": [
      "Epoch 4/50\n",
      "146/146 [==============================] - 46s 315ms/step - task_name:     NER     - loss: 4.2481 - accuracy: 0.8191 - val_loss: 11.4916 - val_accuracy: 0.8034\n",
      "146/146 [==============================] - 46s 315ms/step - task_name: ALLU_SOURCE - loss: 0.6383 - accuracy: 0.6859 - val_loss: 0.7127 - val_accuracy: 0.6367 \n",
      "146/146 [==============================] - 46s 315ms/step - task_name: ALLU_CLASS  - loss: 1.6580 - accuracy: 0.4132 - val_loss: 2.4817 - val_accuracy: 0.3047\n",
      "146/146 [==============================] - 46s 315ms/step - task_name: READABILITY - loss: 0.5598 - accuracy: 0.7461 - val_loss: 0.9050 - val_accuracy: 0.6367\n"
     ]
    },
    {
     "name": "stderr",
     "output_type": "stream",
     "text": [
      "I:CUR_SPLIT:0:[sampler_mu:139]:----------------------------------------------------------------------------------------------------\n"
     ]
    },
    {
     "name": "stdout",
     "output_type": "stream",
     "text": [
      "Epoch 5/50\n",
      "145/146 [============================>.] - ETA: 0s - task_name:     NER     - loss: 4.6277 - accuracy: 0.8156\n",
      "Epoch 00005: ReduceLROnPlateau reducing learning rate to 0.0007000000332482159.\n",
      "146/146 [==============================] - 49s 332ms/step - task_name:     NER     - loss: 3.0088 - accuracy: 0.8161 - val_loss: 11.6846 - val_accuracy: 0.8002\n",
      "146/146 [==============================] - 49s 332ms/step - task_name: ALLU_SOURCE - loss: 0.6158 - accuracy: 0.7166 - val_loss: 0.7051 - val_accuracy: 0.6458 \n",
      "146/146 [==============================] - 49s 332ms/step - task_name: ALLU_CLASS  - loss: 1.7967 - accuracy: 0.4663 - val_loss: 2.4655 - val_accuracy: 0.2917\n",
      "146/146 [==============================] - 49s 332ms/step - task_name: READABILITY - loss: 0.5580 - accuracy: 0.7597 - val_loss: 0.8899 - val_accuracy: 0.6445\n"
     ]
    },
    {
     "name": "stderr",
     "output_type": "stream",
     "text": [
      "I:CUR_SPLIT:0:[sampler_mu:139]:----------------------------------------------------------------------------------------------------\n"
     ]
    },
    {
     "name": "stdout",
     "output_type": "stream",
     "text": [
      "Epoch 6/50\n",
      "145/146 [============================>.] - ETA: 0s - task_name: ALLU_SOURCE - loss: 0.4399 - accuracy: 0.7547\n",
      "Epoch 00006: ReduceLROnPlateau reducing learning rate to 0.0007000000332482159.\n",
      "146/146 [==============================] - 48s 330ms/step - task_name:     NER     - loss: 6.5038 - accuracy: 0.7954 - val_loss: 11.4690 - val_accuracy: 0.8011\n",
      "146/146 [==============================] - 48s 330ms/step - task_name: ALLU_SOURCE - loss: 0.4735 - accuracy: 0.7547 - val_loss: 0.6953 - val_accuracy: 0.6549 \n",
      "146/146 [==============================] - 48s 330ms/step - task_name: ALLU_CLASS  - loss: 1.5832 - accuracy: 0.4927 - val_loss: 2.5367 - val_accuracy: 0.3073\n",
      "146/146 [==============================] - 48s 330ms/step - task_name: READABILITY - loss: 0.5830 - accuracy: 0.7599 - val_loss: 0.8936 - val_accuracy: 0.6484\n"
     ]
    },
    {
     "name": "stderr",
     "output_type": "stream",
     "text": [
      "I:CUR_SPLIT:0:[sampler_mu:139]:----------------------------------------------------------------------------------------------------\n"
     ]
    },
    {
     "name": "stdout",
     "output_type": "stream",
     "text": [
      "Epoch 7/50\n",
      "146/146 [==============================] - 42s 290ms/step - task_name:     NER     - loss: 5.0512 - accuracy: 0.8184 - val_loss: 11.2722 - val_accuracy: 0.7996\n",
      "146/146 [==============================] - 42s 290ms/step - task_name: ALLU_SOURCE - loss: 0.3899 - accuracy: 0.7677 - val_loss: 0.7288 - val_accuracy: 0.6263 \n",
      "146/146 [==============================] - 42s 290ms/step - task_name: ALLU_CLASS  - loss: 1.8042 - accuracy: 0.5440 - val_loss: 2.5316 - val_accuracy: 0.3021\n",
      "146/146 [==============================] - 42s 290ms/step - task_name: READABILITY - loss: 0.4267 - accuracy: 0.8141 - val_loss: 0.9938 - val_accuracy: 0.6289\n"
     ]
    },
    {
     "name": "stderr",
     "output_type": "stream",
     "text": [
      "I:CUR_SPLIT:0:[sampler_mu:139]:----------------------------------------------------------------------------------------------------\n"
     ]
    },
    {
     "name": "stdout",
     "output_type": "stream",
     "text": [
      "Epoch 8/50\n",
      "145/146 [============================>.] - ETA: 0s - task_name: ALLU_CLASS  - loss: 1.1730 - accuracy: 0.5831\n",
      "Epoch 00008: ReduceLROnPlateau reducing learning rate to 0.0007000000332482159.\n",
      "146/146 [==============================] - 46s 313ms/step - task_name:     NER     - loss: 3.3078 - accuracy: 0.8202 - val_loss: 11.1967 - val_accuracy: 0.8013\n",
      "146/146 [==============================] - 46s 313ms/step - task_name: ALLU_SOURCE - loss: 0.5390 - accuracy: 0.7928 - val_loss: 0.7607 - val_accuracy: 0.6471 \n",
      "146/146 [==============================] - 46s 313ms/step - task_name: ALLU_CLASS  - loss: 1.2415 - accuracy: 0.5835 - val_loss: 2.5030 - val_accuracy: 0.3151\n",
      "146/146 [==============================] - 46s 313ms/step - task_name: READABILITY - loss: 0.2921 - accuracy: 0.8375 - val_loss: 1.1033 - val_accuracy: 0.5977\n"
     ]
    },
    {
     "name": "stderr",
     "output_type": "stream",
     "text": [
      "I:CUR_SPLIT:0:[sampler_mu:139]:----------------------------------------------------------------------------------------------------\n"
     ]
    },
    {
     "name": "stdout",
     "output_type": "stream",
     "text": [
      "Epoch 9/50\n",
      "146/146 [==============================] - 43s 293ms/step - task_name:     NER     - loss: 3.6671 - accuracy: 0.8301 - val_loss: 11.2218 - val_accuracy: 0.8069\n",
      "146/146 [==============================] - 43s 293ms/step - task_name: ALLU_SOURCE - loss: 0.4487 - accuracy: 0.8185 - val_loss: 0.8076 - val_accuracy: 0.6445 \n",
      "146/146 [==============================] - 43s 293ms/step - task_name: ALLU_CLASS  - loss: 0.9865 - accuracy: 0.6194 - val_loss: 2.5726 - val_accuracy: 0.2917\n",
      "146/146 [==============================] - 43s 293ms/step - task_name: READABILITY - loss: 0.3887 - accuracy: 0.8615 - val_loss: 1.0697 - val_accuracy: 0.6328\n"
     ]
    },
    {
     "name": "stderr",
     "output_type": "stream",
     "text": [
      "I:CUR_SPLIT:0:[sampler_mu:139]:----------------------------------------------------------------------------------------------------\n"
     ]
    },
    {
     "name": "stdout",
     "output_type": "stream",
     "text": [
      "Epoch 10/50\n",
      "145/146 [============================>.] - ETA: 0s - task_name: ALLU_CLASS  - loss: 1.3665 - accuracy: 0.5432\n",
      "Epoch 00010: ReduceLROnPlateau reducing learning rate to 0.0004900000232737511.\n",
      "146/146 [==============================] - 36s 244ms/step - task_name:     NER     - loss: 4.1792 - accuracy: 0.8253 - val_loss: 11.2142 - val_accuracy: 0.8006\n",
      "146/146 [==============================] - 36s 244ms/step - task_name: ALLU_SOURCE - loss: 0.3945 - accuracy: 0.8339 - val_loss: 0.8130 - val_accuracy: 0.6510 \n",
      "146/146 [==============================] - 36s 244ms/step - task_name: ALLU_CLASS  - loss: 0.7927 - accuracy: 0.5432 - val_loss: 2.5407 - val_accuracy: 0.2812\n"
     ]
    },
    {
     "name": "stderr",
     "output_type": "stream",
     "text": [
      "I:CUR_SPLIT:0:[sampler_mu:139]:----------------------------------------------------------------------------------------------------\n"
     ]
    },
    {
     "name": "stdout",
     "output_type": "stream",
     "text": [
      "Epoch 11/50\n",
      "145/146 [============================>.] - ETA: 0s - task_name:     NER     - loss: 4.0339 - accuracy: 0.8285\n",
      "Epoch 00011: ReduceLROnPlateau reducing learning rate to 0.0004900000232737511.\n",
      "146/146 [==============================] - 38s 260ms/step - task_name:     NER     - loss: 3.6139 - accuracy: 0.8285 - val_loss: 11.2180 - val_accuracy: 0.8019\n",
      "146/146 [==============================] - 38s 260ms/step - task_name: ALLU_SOURCE - loss: 0.3798 - accuracy: 0.8440 - val_loss: 0.9189 - val_accuracy: 0.6042 \n",
      "146/146 [==============================] - 38s 260ms/step - task_name: ALLU_CLASS  - loss: 1.2264 - accuracy: 0.6051 - val_loss: 2.5689 - val_accuracy: 0.3099\n"
     ]
    },
    {
     "name": "stderr",
     "output_type": "stream",
     "text": [
      "I:CUR_SPLIT:0:[sampler_mu:139]:----------------------------------------------------------------------------------------------------\n"
     ]
    },
    {
     "name": "stdout",
     "output_type": "stream",
     "text": [
      "Epoch 12/50\n",
      "146/146 [==============================] - 41s 277ms/step - task_name:     NER     - loss: 5.2036 - accuracy: 0.8299 - val_loss: 10.9352 - val_accuracy: 0.8018\n",
      "146/146 [==============================] - 41s 278ms/step - task_name: ALLU_SOURCE - loss: 0.3345 - accuracy: 0.8569 - val_loss: 0.9025 - val_accuracy: 0.6224 \n",
      "146/146 [==============================] - 41s 278ms/step - task_name: ALLU_CLASS  - loss: 0.8422 - accuracy: 0.6406 - val_loss: 2.5919 - val_accuracy: 0.2969\n"
     ]
    },
    {
     "name": "stderr",
     "output_type": "stream",
     "text": [
      "I:CUR_SPLIT:0:[sampler_mu:139]:----------------------------------------------------------------------------------------------------\n"
     ]
    },
    {
     "name": "stdout",
     "output_type": "stream",
     "text": [
      "Epoch 13/50\n",
      "146/146 [==============================] - 30s 204ms/step - task_name:     NER     - loss: 2.7550 - accuracy: 0.8346 - val_loss: 10.9629 - val_accuracy: 0.8063\n",
      "146/146 [==============================] - 30s 204ms/step - task_name: ALLU_SOURCE - loss: 0.3301 - accuracy: 0.8714 - val_loss: 1.0040 - val_accuracy: 0.6055 \n"
     ]
    },
    {
     "name": "stderr",
     "output_type": "stream",
     "text": [
      "I:CUR_SPLIT:0:[sampler_mu:139]:----------------------------------------------------------------------------------------------------\n"
     ]
    },
    {
     "name": "stdout",
     "output_type": "stream",
     "text": [
      "Epoch 14/50\n",
      "146/146 [==============================] - 11s 79ms/step - task_name:     NER     - loss: 3.9693 - accuracy: 0.8320 - val_loss: 10.9348 - val_accuracy: 0.8025\n"
     ]
    },
    {
     "name": "stderr",
     "output_type": "stream",
     "text": [
      "I:CUR_SPLIT:0:[sampler_mu:139]:----------------------------------------------------------------------------------------------------\n"
     ]
    },
    {
     "name": "stdout",
     "output_type": "stream",
     "text": [
      "Epoch 15/50\n",
      "146/146 [==============================] - 12s 83ms/step - task_name:     NER     - loss: 4.1943 - accuracy: 0.8381 - val_loss: 10.8359 - val_accuracy: 0.8051\n"
     ]
    },
    {
     "name": "stderr",
     "output_type": "stream",
     "text": [
      "I:CUR_SPLIT:0:[sampler_mu:139]:----------------------------------------------------------------------------------------------------\n"
     ]
    },
    {
     "name": "stdout",
     "output_type": "stream",
     "text": [
      "Epoch 16/50\n",
      "145/146 [============================>.] - ETA: 0s - task_name:     NER     - loss: 3.5034 - accuracy: 0.8463\n",
      "Epoch 00016: ReduceLROnPlateau reducing learning rate to 0.00034300000406801696.\n",
      "146/146 [==============================] - 12s 84ms/step - task_name:     NER     - loss: 4.2004 - accuracy: 0.8459 - val_loss: 10.7668 - val_accuracy: 0.8090\n"
     ]
    },
    {
     "name": "stderr",
     "output_type": "stream",
     "text": [
      "I:CUR_SPLIT:0:[sampler_mu:139]:----------------------------------------------------------------------------------------------------\n"
     ]
    },
    {
     "name": "stdout",
     "output_type": "stream",
     "text": [
      "Epoch 17/50\n",
      "146/146 [==============================] - 11s 72ms/step - task_name:     NER     - loss: 3.3216 - accuracy: 0.8477 - val_loss: 10.7606 - val_accuracy: 0.8075\n"
     ]
    },
    {
     "name": "stderr",
     "output_type": "stream",
     "text": [
      "I:CUR_SPLIT:0:[sampler_mu:139]:----------------------------------------------------------------------------------------------------\n"
     ]
    },
    {
     "name": "stdout",
     "output_type": "stream",
     "text": [
      "Epoch 18/50\n",
      "146/146 [==============================] - 11s 76ms/step - task_name:     NER     - loss: 3.5618 - accuracy: 0.8533 - val_loss: 10.7122 - val_accuracy: 0.8034\n"
     ]
    },
    {
     "name": "stderr",
     "output_type": "stream",
     "text": [
      "I:CUR_SPLIT:0:[sampler_mu:139]:----------------------------------------------------------------------------------------------------\n"
     ]
    },
    {
     "name": "stdout",
     "output_type": "stream",
     "text": [
      "Epoch 19/50\n",
      "146/146 [==============================] - 9s 64ms/step - task_name:     NER     - loss: 2.4991 - accuracy: 0.8530 - val_loss: 10.6814 - val_accuracy: 0.8046\n"
     ]
    },
    {
     "name": "stderr",
     "output_type": "stream",
     "text": [
      "I:CUR_SPLIT:0:[sampler_mu:139]:----------------------------------------------------------------------------------------------------\n"
     ]
    },
    {
     "name": "stdout",
     "output_type": "stream",
     "text": [
      "Epoch 20/50\n",
      "146/146 [==============================] - 13s 86ms/step - task_name:     NER     - loss: 4.0590 - accuracy: 0.8562 - val_loss: 10.6149 - val_accuracy: 0.8056\n"
     ]
    },
    {
     "name": "stderr",
     "output_type": "stream",
     "text": [
      "I:CUR_SPLIT:0:[sampler_mu:139]:----------------------------------------------------------------------------------------------------\n"
     ]
    },
    {
     "name": "stdout",
     "output_type": "stream",
     "text": [
      "Epoch 21/50\n",
      "146/146 [==============================] - 9s 65ms/step - task_name:     NER     - loss: 2.6919 - accuracy: 0.8563 - val_loss: 10.6130 - val_accuracy: 0.8044\n"
     ]
    },
    {
     "name": "stderr",
     "output_type": "stream",
     "text": [
      "I:CUR_SPLIT:0:[sampler_mu:139]:----------------------------------------------------------------------------------------------------\n"
     ]
    },
    {
     "name": "stdout",
     "output_type": "stream",
     "text": [
      "Epoch 22/50\n",
      "145/146 [============================>.] - ETA: 0s - task_name:     NER     - loss: 3.2807 - accuracy: 0.8595\n",
      "Epoch 00022: ReduceLROnPlateau reducing learning rate to 0.00024009999469853935.\n",
      "146/146 [==============================] - 11s 76ms/step - task_name:     NER     - loss: 3.3307 - accuracy: 0.8595 - val_loss: 10.5883 - val_accuracy: 0.8042\n"
     ]
    },
    {
     "name": "stderr",
     "output_type": "stream",
     "text": [
      "I:CUR_SPLIT:0:[sampler_mu:139]:----------------------------------------------------------------------------------------------------\n"
     ]
    },
    {
     "name": "stdout",
     "output_type": "stream",
     "text": [
      "Epoch 23/50\n",
      "146/146 [==============================] - 8s 55ms/step - task_name:     NER     - loss: 2.8725 - accuracy: 0.8643 - val_loss: 10.6311 - val_accuracy: 0.8058\n"
     ]
    },
    {
     "name": "stderr",
     "output_type": "stream",
     "text": [
      "I:CUR_SPLIT:0:[sampler_mu:139]:----------------------------------------------------------------------------------------------------\n"
     ]
    },
    {
     "name": "stdout",
     "output_type": "stream",
     "text": [
      "Epoch 24/50\n",
      "146/146 [==============================] - 13s 90ms/step - task_name:     NER     - loss: 3.8151 - accuracy: 0.8659 - val_loss: 10.5553 - val_accuracy: 0.8033\n"
     ]
    },
    {
     "name": "stderr",
     "output_type": "stream",
     "text": [
      "I:CUR_SPLIT:0:[sampler_mu:139]:----------------------------------------------------------------------------------------------------\n"
     ]
    },
    {
     "name": "stdout",
     "output_type": "stream",
     "text": [
      "Epoch 25/50\n",
      "139/146 [===========================>..] - ETA: 0s - task_name:     NER     - loss: 3.0700 - accuracy: 0.8666\n",
      "Epoch 00025: ReduceLROnPlateau reducing learning rate to 0.00016806999628897755.\n",
      "146/146 [==============================] - 9s 63ms/step - task_name:     NER     - loss: 3.3548 - accuracy: 0.8666 - val_loss: 10.5735 - val_accuracy: 0.8045\n"
     ]
    },
    {
     "name": "stderr",
     "output_type": "stream",
     "text": [
      "I:CUR_SPLIT:0:[sampler_mu:139]:----------------------------------------------------------------------------------------------------\n"
     ]
    },
    {
     "name": "stdout",
     "output_type": "stream",
     "text": [
      "Epoch 26/50\n",
      "146/146 [==============================] - 10s 68ms/step - task_name:     NER     - loss: 2.6396 - accuracy: 0.8703 - val_loss: 10.4897 - val_accuracy: 0.8033\n"
     ]
    },
    {
     "name": "stderr",
     "output_type": "stream",
     "text": [
      "I:CUR_SPLIT:0:[sampler_mu:139]:----------------------------------------------------------------------------------------------------\n"
     ]
    },
    {
     "name": "stdout",
     "output_type": "stream",
     "text": [
      "Epoch 27/50\n",
      "146/146 [==============================] - 7s 49ms/step - task_name:     NER     - loss: 2.4952 - accuracy: 0.8705 - val_loss: 10.5605 - val_accuracy: 0.8040\n"
     ]
    },
    {
     "name": "stderr",
     "output_type": "stream",
     "text": [
      "I:CUR_SPLIT:0:[sampler_mu:139]:----------------------------------------------------------------------------------------------------\n"
     ]
    },
    {
     "name": "stdout",
     "output_type": "stream",
     "text": [
      "Epoch 28/50\n",
      "146/146 [==============================] - 9s 60ms/step - task_name:     NER     - loss: 2.1528 - accuracy: 0.8700 - val_loss: 10.4836 - val_accuracy: 0.8034\n"
     ]
    },
    {
     "name": "stderr",
     "output_type": "stream",
     "text": [
      "I:CUR_SPLIT:0:[sampler_mu:139]:----------------------------------------------------------------------------------------------------\n"
     ]
    },
    {
     "name": "stdout",
     "output_type": "stream",
     "text": [
      "Epoch 29/50\n",
      "146/146 [==============================] - 9s 65ms/step - task_name:     NER     - loss: 3.2506 - accuracy: 0.8741 - val_loss: 10.4914 - val_accuracy: 0.8029\n"
     ]
    },
    {
     "name": "stderr",
     "output_type": "stream",
     "text": [
      "I:CUR_SPLIT:0:[sampler_mu:139]:----------------------------------------------------------------------------------------------------\n"
     ]
    },
    {
     "name": "stdout",
     "output_type": "stream",
     "text": [
      "Epoch 30/50\n",
      "146/146 [==============================] - 11s 74ms/step - task_name:     NER     - loss: 2.8340 - accuracy: 0.8753 - val_loss: 10.4464 - val_accuracy: 0.8061\n"
     ]
    },
    {
     "name": "stderr",
     "output_type": "stream",
     "text": [
      "I:CUR_SPLIT:0:[sampler_mu:139]:----------------------------------------------------------------------------------------------------\n"
     ]
    },
    {
     "name": "stdout",
     "output_type": "stream",
     "text": [
      "Epoch 31/50\n",
      "134/146 [==========================>...] - ETA: 0s - task_name:     NER     - loss: 2.6378 - accuracy: 0.8777\n",
      "Epoch 00031: ReduceLROnPlateau reducing learning rate to 0.00011764899536501615.\n",
      "146/146 [==============================] - 11s 73ms/step - task_name:     NER     - loss: 2.7103 - accuracy: 0.8784 - val_loss: 10.4055 - val_accuracy: 0.8038\n"
     ]
    },
    {
     "name": "stderr",
     "output_type": "stream",
     "text": [
      "I:CUR_SPLIT:0:[sampler_mu:139]:----------------------------------------------------------------------------------------------------\n"
     ]
    },
    {
     "name": "stdout",
     "output_type": "stream",
     "text": [
      "Epoch 32/50\n",
      "146/146 [==============================] - 11s 75ms/step - task_name:     NER     - loss: 2.7847 - accuracy: 0.8768 - val_loss: 10.3177 - val_accuracy: 0.8044\n"
     ]
    },
    {
     "name": "stderr",
     "output_type": "stream",
     "text": [
      "I:CUR_SPLIT:0:[sampler_mu:139]:----------------------------------------------------------------------------------------------------\n"
     ]
    },
    {
     "name": "stdout",
     "output_type": "stream",
     "text": [
      "Epoch 33/50\n",
      "146/146 [==============================] - 8s 57ms/step - task_name:     NER     - loss: 2.6518 - accuracy: 0.8812 - val_loss: 10.3776 - val_accuracy: 0.8046\n"
     ]
    },
    {
     "name": "stderr",
     "output_type": "stream",
     "text": [
      "I:CUR_SPLIT:0:[sampler_mu:139]:----------------------------------------------------------------------------------------------------\n"
     ]
    },
    {
     "name": "stdout",
     "output_type": "stream",
     "text": [
      "Epoch 34/50\n",
      "140/146 [===========================>..] - ETA: 0s - task_name:     NER     - loss: 2.8002 - accuracy: 0.8806\n",
      "Epoch 00034: ReduceLROnPlateau reducing learning rate to 8.235429777414538e-05.\n",
      "146/146 [==============================] - 9s 65ms/step - task_name:     NER     - loss: 3.0565 - accuracy: 0.8806 - val_loss: 10.3824 - val_accuracy: 0.8052\n"
     ]
    },
    {
     "name": "stderr",
     "output_type": "stream",
     "text": [
      "I:CUR_SPLIT:0:[sampler_mu:139]:----------------------------------------------------------------------------------------------------\n"
     ]
    },
    {
     "name": "stdout",
     "output_type": "stream",
     "text": [
      "Epoch 35/50\n",
      "146/146 [==============================] - 10s 68ms/step - task_name:     NER     - loss: 3.2017 - accuracy: 0.8819 - val_loss: 10.4107 - val_accuracy: 0.8048\n"
     ]
    },
    {
     "name": "stderr",
     "output_type": "stream",
     "text": [
      "I:CUR_SPLIT:0:[sampler_mu:139]:----------------------------------------------------------------------------------------------------\n"
     ]
    },
    {
     "name": "stdout",
     "output_type": "stream",
     "text": [
      "Epoch 36/50\n",
      "146/146 [==============================] - 12s 81ms/step - task_name:     NER     - loss: 3.8857 - accuracy: 0.8816 - val_loss: 10.4123 - val_accuracy: 0.8044\n"
     ]
    },
    {
     "name": "stderr",
     "output_type": "stream",
     "text": [
      "I:CUR_SPLIT:0:[sampler_mu:139]:----------------------------------------------------------------------------------------------------\n"
     ]
    },
    {
     "name": "stdout",
     "output_type": "stream",
     "text": [
      "Epoch 37/50\n",
      "143/146 [============================>.] - ETA: 0s - task_name:     NER     - loss: 2.6846 - accuracy: 0.8806\n",
      "Epoch 00037: ReduceLROnPlateau reducing learning rate to 5.76480058953166e-05.\n",
      "146/146 [==============================] - 9s 62ms/step - task_name:     NER     - loss: 2.8494 - accuracy: 0.8806 - val_loss: 10.4260 - val_accuracy: 0.8052\n"
     ]
    },
    {
     "name": "stderr",
     "output_type": "stream",
     "text": [
      "I:CUR_SPLIT:0:[sampler_mu:139]:----------------------------------------------------------------------------------------------------\n"
     ]
    },
    {
     "name": "stdout",
     "output_type": "stream",
     "text": [
      "Epoch 38/50\n",
      "146/146 [==============================] - 10s 67ms/step - task_name:     NER     - loss: 3.0557 - accuracy: 0.8870 - val_loss: 10.4006 - val_accuracy: 0.8018\n"
     ]
    },
    {
     "name": "stderr",
     "output_type": "stream",
     "text": [
      "I:CUR_SPLIT:0:[sampler_mu:139]:----------------------------------------------------------------------------------------------------\n"
     ]
    },
    {
     "name": "stdout",
     "output_type": "stream",
     "text": [
      "Epoch 39/50\n",
      "146/146 [==============================] - 9s 65ms/step - task_name:     NER     - loss: 2.8912 - accuracy: 0.8844 - val_loss: 10.3851 - val_accuracy: 0.8024\n"
     ]
    },
    {
     "name": "stderr",
     "output_type": "stream",
     "text": [
      "I:CUR_SPLIT:0:[sampler_mu:139]:----------------------------------------------------------------------------------------------------\n"
     ]
    },
    {
     "name": "stdout",
     "output_type": "stream",
     "text": [
      "\n",
      "----------------------------------NER LABEL METRICS -----------------------------------\n",
      "\n",
      "epoch:labeling EPOCH accuracy 0.811736 precision: 0.410714, recall: 0.268333, f1: 0.324597\n",
      "\n",
      "           precision    recall  f1-score   support\n",
      "\n",
      "     ALLU     0.4118    0.2683    0.3249       600\n",
      "\n",
      "micro avg     0.4107    0.2683    0.3246       600\n",
      "macro avg     0.4118    0.2683    0.3249       600\n",
      "\n",
      "----------------------------------NER END ----------------------------------\n",
      "train_example:**************************************************\n",
      "x_seq:谁 谓 兵 戈 际 , 鸣 琴 方 一 弹 。\n",
      "y_pred:O O O O O O B-ALLU I-ALLU O O O O\n",
      "y_true:O O O O O O B-ALLU I-ALLU O O O O\n",
      "----------\n",
      "x_seq:犹 乘 飞 [UNK] [UNK] , 尚 识 仙 人 面 。\n",
      "y_pred:O O O O O O O O O O O O\n",
      "y_true:O O O B-ALLU I-ALLU O O O O O O O\n",
      "----------\n",
      "x_seq:台 前 镜 影 伴 仙 娥 , 楼 上 箫 声 随 凤 史 。\n",
      "y_pred:O O O O O O O O O O O O O B-ALLU I-ALLU O\n",
      "y_true:O O O O O O O O O O B-ALLU I-ALLU I-ALLU I-ALLU I-ALLU O\n",
      "----------\n",
      "x_seq:泠 泠 中 山 醇 , 片 片 昆 丘 [UNK] 。 一 杯 有 余 味 , 再 览 增 光 鲜 。\n",
      "y_pred:O O O O O O O O B-ALLU I-ALLU O O O O O O O O O O O O O O\n",
      "y_true:O O O O O O O O B-ALLU I-ALLU O O O O O O O O O O O O O O\n",
      "----------\n",
      "x_seq:词 臣 陪 羽 猎 , 战 将 骋 骐 [UNK] 。\n",
      "y_pred:O O O B-ALLU I-ALLU O O O O O O O\n",
      "y_true:O O B-ALLU I-ALLU I-ALLU O O O O O O O\n",
      "----------\n",
      "x_seq:能 齐 大 椿 长 , 不 与 小 山 同 。\n",
      "y_pred:O O O O O O O O O O O O\n",
      "y_true:O O O B-ALLU O O O O O O O O\n",
      "----------\n",
      "x_seq:差 池 尽 三 黜 , 蹭 蹬 各 南 州 。\n",
      "y_pred:O O O B-ALLU I-ALLU O O O O O O O\n",
      "y_true:O O O B-ALLU I-ALLU O O O O O O O\n",
      "----------\n",
      "x_seq:迟 暮 嗟 为 客 , 西 南 喜 得 朋 。\n",
      "y_pred:O O O O O O B-ALLU I-ALLU I-ALLU I-ALLU I-ALLU O\n",
      "y_true:O O O O O O B-ALLU I-ALLU I-ALLU I-ALLU I-ALLU O\n",
      "----------\n",
      "x_seq:日 月 虽 云 尊 , 不 能 活 乌 蟾 。\n",
      "y_pred:O O O O O O O O O B-ALLU I-ALLU O\n",
      "y_true:O O O O O O O O O B-ALLU I-ALLU O\n",
      "----------\n",
      "x_seq:朝 见 裴 叔 则 , 朗 如 行 玉 山 。\n",
      "y_pred:O O O O O O O O O O O O\n",
      "y_true:O O O O O O O O B-ALLU I-ALLU O O\n",
      "----------\n",
      "END:**************************************************\n",
      "test_example:**************************************************\n",
      "x_seq:尉 佗 虽 北 拜 , 太 史 尚 南 留 。\n",
      "y_pred:B-ALLU I-ALLU O O O O O O O O O O\n",
      "y_true:O O O O O O O B-ALLU I-ALLU I-ALLU O O\n",
      "----------\n",
      "x_seq:桂 折 因 同 时 , 莺 迁 各 异 年 。\n",
      "y_pred:O O O O O O O O O O O O\n",
      "y_true:O O O O O O B-ALLU O O O O O\n",
      "----------\n",
      "x_seq:长 跪 读 书 心 暂 缓 , 短 章 投 我 曲 何 高 。\n",
      "y_pred:O O O O O O O O O O O O B-ALLU O O O\n",
      "y_true:O O O O O O O O O O O O B-ALLU I-ALLU I-ALLU O\n",
      "----------\n",
      "x_seq:远 愧 尚 方 曾 赐 履 , 竟 非 吾 土 倦 登 楼 。\n",
      "y_pred:O O O O O O O O O O O O O O O O\n",
      "y_true:O O O O O B-ALLU I-ALLU O O O O O O O O O\n",
      "----------\n",
      "x_seq:素 服 三 川 化 , 乌 裘 十 上 还 。\n",
      "y_pred:O O B-ALLU I-ALLU O O O O O O O O\n",
      "y_true:O O O O O O O O B-ALLU I-ALLU O O\n",
      "----------\n",
      "x_seq:应 须 枉 车 歇 , 为 我 访 荷 裳 。\n",
      "y_pred:O O O O O O O O O B-ALLU I-ALLU O\n",
      "y_true:O O O O O O O O O B-ALLU O O\n",
      "----------\n",
      "x_seq:莫 嫌 滴 沥 红 斑 少 , 恰 似 湘 妃 泪 尽 时 。\n",
      "y_pred:O O O O O O O O O O B-ALLU I-ALLU O O O O\n",
      "y_true:O O O O O O O O O O B-ALLU I-ALLU I-ALLU O O O\n",
      "----------\n",
      "x_seq:自 是 湘 州 石 燕 飞 , 那 关 齐 地 商 羊 舞 。\n",
      "y_pred:O O O O O O O O O O O O O O O O\n",
      "y_true:O O O O O O O O O O O O B-ALLU I-ALLU I-ALLU O\n",
      "----------\n",
      "x_seq:欲 问 希 夷 事 , 音 尘 隔 上 青 。\n",
      "y_pred:O O O O O O O O O O O O\n",
      "y_true:O O B-ALLU I-ALLU O O O O O O O O\n",
      "----------\n",
      "x_seq:莫 为 [UNK] 鲈 美 , 天 涯 滞 尔 才 。\n",
      "y_pred:O O B-ALLU I-ALLU I-ALLU O O O O O O O\n",
      "y_true:O O B-ALLU I-ALLU O O O O O O O O\n",
      "----------\n",
      "END:**************************************************\n",
      "example:**************************************************\n",
      "x_seq:如 今 贾 谊 赋 , 不 漫 说 长 沙 。 [UNK] [PAD] [PAD] [PAD] [PAD] [PAD] [PAD] [PAD] [PAD] [PAD] [PAD] [PAD] [PAD] [PAD] [PAD] [PAD] [PAD]\n",
      "x_ALLU:梁 王 不 悦 , 游 于 兔 园 , 乃 置 旨 酒 , 命 宾 友 , 召 邹 生 , 延 枚 叟 。 [UNK] [PAD]\n",
      "y_pred:[0.99589884]\n",
      "y_true:1\n",
      "----------\n",
      "x_seq:如 今 贾 谊 赋 , 不 漫 说 长 沙 。 [UNK] [PAD] [PAD] [PAD] [PAD] [PAD] [PAD] [PAD] [PAD] [PAD] [PAD] [PAD] [PAD] [PAD] [PAD] [PAD] [PAD]\n",
      "x_ALLU:鲸 [UNK] , 大 鱼 名 , 以 喻 不 义 之 人 , 吞 食 小 国 。 [UNK] [PAD] [PAD] [PAD] [PAD] [PAD] [PAD] [PAD] [PAD] [PAD]\n",
      "y_pred:[0.13300774]\n",
      "y_true:0\n",
      "----------\n",
      "x_seq:如 今 贾 谊 赋 , 不 漫 说 长 沙 。 [UNK] [PAD] [PAD] [PAD] [PAD] [PAD] [PAD] [PAD] [PAD] [PAD] [PAD] [PAD] [PAD] [PAD] [PAD] [PAD] [PAD]\n",
      "x_ALLU:老 子 者 , 楚 苦 县 厉 乡 曲 仁 里 人 也 , 姓 李 氏 , 名 耳 , 字 [UNK] , 周 守 藏 室\n",
      "y_pred:[0.5787907]\n",
      "y_true:0\n",
      "----------\n",
      "x_seq:如 今 贾 谊 赋 , 不 漫 说 长 沙 。 [UNK] [PAD] [PAD] [PAD] [PAD] [PAD] [PAD] [PAD] [PAD] [PAD] [PAD] [PAD] [PAD] [PAD] [PAD] [PAD] [PAD]\n",
      "x_ALLU:缀 以 万 年 , [UNK] 以 紫 榛 。 或 以 嘉 名 取 宠 , 或 以 美 材 见 珍 。 [UNK] [PAD] [PAD] [PAD] [PAD]\n",
      "y_pred:[0.09052703]\n",
      "y_true:0\n",
      "----------\n",
      "x_seq:如 今 贾 谊 赋 , 不 漫 说 长 沙 。 [UNK] [PAD] [PAD] [PAD] [PAD] [PAD] [PAD] [PAD] [PAD] [PAD] [PAD] [PAD] [PAD] [PAD] [PAD] [PAD] [PAD]\n",
      "x_ALLU:苏 章 于 顺 帝 时 , 迁 冀 州 刺 史 。 故 人 为 清 河 太 守 , 章 行 部 案 其 奸 臧 。\n",
      "y_pred:[0.18466088]\n",
      "y_true:0\n",
      "----------\n",
      "x_seq:如 今 贾 谊 赋 , 不 漫 说 长 沙 。 [UNK] [PAD] [PAD] [PAD] [PAD] [PAD] [PAD] [PAD] [PAD] [PAD] [PAD] [PAD] [PAD] [PAD] [PAD] [PAD] [PAD]\n",
      "x_ALLU:春 月 饮 酒 加 葱 , 以 通 五 脏 。 [UNK] [PAD] [PAD] [PAD] [PAD] [PAD] [PAD] [PAD] [PAD] [PAD] [PAD] [PAD] [PAD] [PAD] [PAD] [PAD] [PAD]\n",
      "y_pred:[0.05718258]\n",
      "y_true:0\n",
      "----------\n",
      "x_seq:如 今 贾 谊 赋 , 不 漫 说 长 沙 。 [UNK] [PAD] [PAD] [PAD] [PAD] [PAD] [PAD] [PAD] [PAD] [PAD] [PAD] [PAD] [PAD] [PAD] [PAD] [PAD] [PAD]\n",
      "x_ALLU:文 帝 受 禅 , 朝 臣 三 公 已 下 并 受 爵 位 ; 歆 以 形 色 忤 时 , 徙 为 司 徒 , 而\n",
      "y_pred:[0.344169]\n",
      "y_true:0\n",
      "----------\n",
      "x_seq:如 今 贾 谊 赋 , 不 漫 说 长 沙 。 [UNK] [PAD] [PAD] [PAD] [PAD] [PAD] [PAD] [PAD] [PAD] [PAD] [PAD] [PAD] [PAD] [PAD] [PAD] [PAD] [PAD]\n",
      "x_ALLU:及 太 清 二 年 , 景 果 归 附 , 高 祖 欣 然 自 悦 , 谓 与 神 通 , 及 议 纳 之 , 而\n",
      "y_pred:[0.14982936]\n",
      "y_true:0\n",
      "----------\n",
      "x_seq:如 今 贾 谊 赋 , 不 漫 说 长 沙 。 [UNK] [PAD] [PAD] [PAD] [PAD] [PAD] [PAD] [PAD] [PAD] [PAD] [PAD] [PAD] [PAD] [PAD] [PAD] [PAD] [PAD]\n",
      "x_ALLU:上 以 其 言 迂 阔 , 不 甚 宠 异 也 。 吉 遂 谢 病 归 琅 邪 。 [UNK] [PAD] [PAD] [PAD] [PAD] [PAD] [PAD] [PAD]\n",
      "y_pred:[0.3423397]\n",
      "y_true:0\n",
      "----------\n",
      "x_seq:如 今 贾 谊 赋 , 不 漫 说 长 沙 。 [UNK] [PAD] [PAD] [PAD] [PAD] [PAD] [PAD] [PAD] [PAD] [PAD] [PAD] [PAD] [PAD] [PAD] [PAD] [PAD] [PAD]\n",
      "x_ALLU:进 则 保 龙 见 , 退 为 触 蕃 [UNK] 。 [UNK] [PAD] [PAD] [PAD] [PAD] [PAD] [PAD] [PAD] [PAD] [PAD] [PAD] [PAD] [PAD] [PAD] [PAD] [PAD] [PAD]\n",
      "y_pred:[0.19431385]\n",
      "y_true:0\n",
      "----------\n",
      "x_seq:阿 娇 得 似 红 儿 貌 , 不 费 长 门 买 赋 金 。 [UNK] [PAD] [PAD] [PAD] [PAD] [PAD] [PAD] [PAD] [PAD] [PAD] [PAD] [PAD] [PAD]\n",
      "x_ALLU:孝 武 皇 帝 陈 皇 后 时 得 幸 , 颇 妒 , 别 在 长 门 宫 , 愁 闷 悲 思 。 闻 蜀 郡 成\n",
      "y_pred:[0.79701495]\n",
      "y_true:1\n",
      "----------\n",
      "x_seq:阿 娇 得 似 红 儿 貌 , 不 费 长 门 买 赋 金 。 [UNK] [PAD] [PAD] [PAD] [PAD] [PAD] [PAD] [PAD] [PAD] [PAD] [PAD] [PAD] [PAD]\n",
      "x_ALLU:蚕 则 绩 而 蟹 有 匡 。 [UNK] [PAD] [PAD] [PAD] [PAD] [PAD] [PAD] [PAD] [PAD] [PAD] [PAD] [PAD] [PAD] [PAD] [PAD] [PAD] [PAD] [PAD] [PAD] [PAD] [PAD]\n",
      "y_pred:[0.04442051]\n",
      "y_true:0\n",
      "----------\n",
      "x_seq:阿 娇 得 似 红 儿 貌 , 不 费 长 门 买 赋 金 。 [UNK] [PAD] [PAD] [PAD] [PAD] [PAD] [PAD] [PAD] [PAD] [PAD] [PAD] [PAD] [PAD]\n",
      "x_ALLU:天 子 乃 驾 雕 [UNK] , 六 骏 [UNK] , 戴 翠 帽 , 倚 金 较 。 [UNK] [PAD] [PAD] [PAD] [PAD] [PAD] [PAD] [PAD] [PAD] [PAD]\n",
      "y_pred:[0.2551757]\n",
      "y_true:0\n",
      "----------\n",
      "x_seq:阿 娇 得 似 红 儿 貌 , 不 费 长 门 买 赋 金 。 [UNK] [PAD] [PAD] [PAD] [PAD] [PAD] [PAD] [PAD] [PAD] [PAD] [PAD] [PAD] [PAD]\n",
      "x_ALLU:人 有 言 曰 , 虽 有 挈 瓶 之 知 , 守 不 假 器 , 礼 也 。 [UNK] [PAD] [PAD] [PAD] [PAD] [PAD] [PAD] [PAD] [PAD]\n",
      "y_pred:[0.08503482]\n",
      "y_true:0\n",
      "----------\n",
      "x_seq:阿 娇 得 似 红 儿 貌 , 不 费 长 门 买 赋 金 。 [UNK] [PAD] [PAD] [PAD] [PAD] [PAD] [PAD] [PAD] [PAD] [PAD] [PAD] [PAD] [PAD]\n",
      "x_ALLU:钟 繇 字 元 常 , 颍 川 长 社 人 也 [UNK] [UNK] 文 帝 即 王 位 [UNK] [UNK] 迁 太 尉 , 转 封 平 阳\n",
      "y_pred:[0.5528219]\n",
      "y_true:0\n",
      "----------\n",
      "x_seq:阿 娇 得 似 红 儿 貌 , 不 费 长 门 买 赋 金 。 [UNK] [PAD] [PAD] [PAD] [PAD] [PAD] [PAD] [PAD] [PAD] [PAD] [PAD] [PAD] [PAD]\n",
      "x_ALLU:桑 林 , 殷 汤 乐 名 也 。 经 首 , 咸 池 乐 章 名 , 则 尧 乐 也 。 [UNK] [PAD] [PAD] [PAD] [PAD] [PAD]\n",
      "y_pred:[0.3671021]\n",
      "y_true:0\n",
      "----------\n",
      "x_seq:阿 娇 得 似 红 儿 貌 , 不 费 长 门 买 赋 金 。 [UNK] [PAD] [PAD] [PAD] [PAD] [PAD] [PAD] [PAD] [PAD] [PAD] [PAD] [PAD] [PAD]\n",
      "x_ALLU:将 战 , 华 元 杀 羊 食 士 , 其 御 羊 斟 不 与 。 及 战 , 曰 : [UNK] 畴 昔 之 羊 , 子\n",
      "y_pred:[0.40192363]\n",
      "y_true:0\n",
      "----------\n",
      "x_seq:阿 娇 得 似 红 儿 貌 , 不 费 长 门 买 赋 金 。 [UNK] [PAD] [PAD] [PAD] [PAD] [PAD] [PAD] [PAD] [PAD] [PAD] [PAD] [PAD] [PAD]\n",
      "x_ALLU:李 少 君 死 后 百 余 日 后 , 人 有 见 少 君 在 河 东 蒲 坂 乘 青 骡 , 帝 闻 之 , 发\n",
      "y_pred:[0.41695964]\n",
      "y_true:0\n",
      "----------\n",
      "x_seq:阿 娇 得 似 红 儿 貌 , 不 费 长 门 买 赋 金 。 [UNK] [PAD] [PAD] [PAD] [PAD] [PAD] [PAD] [PAD] [PAD] [PAD] [PAD] [PAD] [PAD]\n",
      "x_ALLU:许 劭 字 子 将 , 汝 南 平 舆 人 也 。 少 峻 名 节 , 好 人 伦 , 多 所 赏 识 。 劭 与\n",
      "y_pred:[0.37488353]\n",
      "y_true:0\n",
      "----------\n",
      "x_seq:阿 娇 得 似 红 儿 貌 , 不 费 长 门 买 赋 金 。 [UNK] [PAD] [PAD] [PAD] [PAD] [PAD] [PAD] [PAD] [PAD] [PAD] [PAD] [PAD] [PAD]\n",
      "x_ALLU:《 贵 和 》 第 十 一 。 [UNK] [PAD] [PAD] [PAD] [PAD] [PAD] [PAD] [PAD] [PAD] [PAD] [PAD] [PAD] [PAD] [PAD] [PAD] [PAD] [PAD] [PAD] [PAD] [PAD] [PAD]\n",
      "y_pred:[0.32065243]\n",
      "y_true:0\n",
      "----------\n",
      "x_seq:章 台 折 杨 柳 , 春 日 路 旁 情 。 [UNK] [PAD] [PAD] [PAD] [PAD] [PAD] [PAD] [PAD] [PAD] [PAD] [PAD] [PAD] [PAD] [PAD] [PAD] [PAD] [PAD]\n",
      "x_ALLU:敞 无 威 仪 , 时 罢 朝 会 , 过 走 马 章 台 街 , 使 御 吏 驱 , 自 以 便 面 [UNK] 马 。\n",
      "y_pred:[0.32170555]\n",
      "y_true:1\n",
      "----------\n",
      "x_seq:章 台 折 杨 柳 , 春 日 路 旁 情 。 [UNK] [PAD] [PAD] [PAD] [PAD] [PAD] [PAD] [PAD] [PAD] [PAD] [PAD] [PAD] [PAD] [PAD] [PAD] [PAD] [PAD]\n",
      "x_ALLU:祥 谓 徵 祥 。 上 九 处 履 之 极 履 , 道 已 成 , 故 视 其 所 履 之 行 , 善 恶 得 失\n",
      "y_pred:[0.06085578]\n",
      "y_true:0\n",
      "----------\n",
      "x_seq:章 台 折 杨 柳 , 春 日 路 旁 情 。 [UNK] [PAD] [PAD] [PAD] [PAD] [PAD] [PAD] [PAD] [PAD] [PAD] [PAD] [PAD] [PAD] [PAD] [PAD] [PAD] [PAD]\n",
      "x_ALLU:赐 御 衣 及 绶 , 禀 食 公 车 [UNK] [PAD] [PAD] [PAD] [PAD] [PAD] [PAD] [PAD] [PAD] [PAD] [PAD] [PAD] [PAD] [PAD] [PAD] [PAD] [PAD] [PAD] [PAD]\n",
      "y_pred:[0.30998924]\n",
      "y_true:0\n",
      "----------\n",
      "x_seq:章 台 折 杨 柳 , 春 日 路 旁 情 。 [UNK] [PAD] [PAD] [PAD] [PAD] [PAD] [PAD] [PAD] [PAD] [PAD] [PAD] [PAD] [PAD] [PAD] [PAD] [PAD] [PAD]\n",
      "x_ALLU:猿 五 百 岁 化 为 [UNK] , [UNK] 千 岁 化 为 老 人 。 [UNK] [PAD] [PAD] [PAD] [PAD] [PAD] [PAD] [PAD] [PAD] [PAD] [PAD] [PAD] [PAD]\n",
      "y_pred:[0.45183933]\n",
      "y_true:0\n",
      "----------\n",
      "x_seq:章 台 折 杨 柳 , 春 日 路 旁 情 。 [UNK] [PAD] [PAD] [PAD] [PAD] [PAD] [PAD] [PAD] [PAD] [PAD] [PAD] [PAD] [PAD] [PAD] [PAD] [PAD] [PAD]\n",
      "x_ALLU:自 从 别 郎 后 , 卧 宿 头 不 举 。 飞 龙 落 药 店 , 骨 出 只 为 汝 。 [UNK] [PAD] [PAD] [PAD] [PAD]\n",
      "y_pred:[0.55809987]\n",
      "y_true:0\n",
      "----------\n",
      "x_seq:章 台 折 杨 柳 , 春 日 路 旁 情 。 [UNK] [PAD] [PAD] [PAD] [PAD] [PAD] [PAD] [PAD] [PAD] [PAD] [PAD] [PAD] [PAD] [PAD] [PAD] [PAD] [PAD]\n",
      "x_ALLU:非 都 卢 之 轻 [UNK] , 孰 能 超 而 究 升 。 [UNK] [PAD] [PAD] [PAD] [PAD] [PAD] [PAD] [PAD] [PAD] [PAD] [PAD] [PAD] [PAD] [PAD] [PAD]\n",
      "y_pred:[0.11574072]\n",
      "y_true:0\n",
      "----------\n",
      "x_seq:章 台 折 杨 柳 , 春 日 路 旁 情 。 [UNK] [PAD] [PAD] [PAD] [PAD] [PAD] [PAD] [PAD] [PAD] [PAD] [PAD] [PAD] [PAD] [PAD] [PAD] [PAD] [PAD]\n",
      "x_ALLU:诏 遂 封 冀 妻 孙 寿 为 襄 城 君 , 兼 食 阳 翟 租 。 [UNK] [UNK] 寿 色 美 而 善 为 妖 态 ,\n",
      "y_pred:[0.23349962]\n",
      "y_true:0\n",
      "----------\n",
      "x_seq:章 台 折 杨 柳 , 春 日 路 旁 情 。 [UNK] [PAD] [PAD] [PAD] [PAD] [PAD] [PAD] [PAD] [PAD] [PAD] [PAD] [PAD] [PAD] [PAD] [PAD] [PAD] [PAD]\n",
      "x_ALLU:伏 周 、 孔 之 轨 [UNK] , 驰 颜 、 闵 之 极 挚 。 [UNK] [PAD] [PAD] [PAD] [PAD] [PAD] [PAD] [PAD] [PAD] [PAD] [PAD] [PAD] [PAD]\n",
      "y_pred:[0.25657165]\n",
      "y_true:0\n",
      "----------\n",
      "x_seq:章 台 折 杨 柳 , 春 日 路 旁 情 。 [UNK] [PAD] [PAD] [PAD] [PAD] [PAD] [PAD] [PAD] [PAD] [PAD] [PAD] [PAD] [PAD] [PAD] [PAD] [PAD] [PAD]\n",
      "x_ALLU:周 旋 我 陋 圃 , 西 瞻 广 武 庐 。 [UNK] [PAD] [PAD] [PAD] [PAD] [PAD] [PAD] [PAD] [PAD] [PAD] [PAD] [PAD] [PAD] [PAD] [PAD] [PAD] [PAD]\n",
      "y_pred:[0.49799356]\n",
      "y_true:0\n",
      "----------\n",
      "x_seq:章 台 折 杨 柳 , 春 日 路 旁 情 。 [UNK] [PAD] [PAD] [PAD] [PAD] [PAD] [PAD] [PAD] [PAD] [PAD] [PAD] [PAD] [PAD] [PAD] [PAD] [PAD] [PAD]\n",
      "x_ALLU:横 波 , 言 目 邪 视 , 如 水 之 横 流 也 。 [UNK] [PAD] [PAD] [PAD] [PAD] [PAD] [PAD] [PAD] [PAD] [PAD] [PAD] [PAD] [PAD] [PAD]\n",
      "y_pred:[0.11399552]\n",
      "y_true:0\n",
      "----------\n",
      "x_seq:唯 闻 陶 靖 节 , 多 在 醉 乡 游 。 [UNK] [PAD] [PAD] [PAD] [PAD] [PAD] [PAD] [PAD] [PAD] [PAD] [PAD] [PAD] [PAD] [PAD] [PAD] [PAD] [PAD]\n",
      "x_ALLU:[UNK] 少 好 学 , 有 美 名 , 文 章 清 丽 [UNK] [UNK] 转 王 俭 卫 军 东 阁 祭 酒 , 太 子 舍 人\n",
      "y_pred:[0.7704761]\n",
      "y_true:1\n",
      "----------\n",
      "x_seq:唯 闻 陶 靖 节 , 多 在 醉 乡 游 。 [UNK] [PAD] [PAD] [PAD] [PAD] [PAD] [PAD] [PAD] [PAD] [PAD] [PAD] [PAD] [PAD] [PAD] [PAD] [PAD] [PAD]\n",
      "x_ALLU:肩 吾 字 子 慎 。 八 岁 能 赋 诗 , 特 为 兄 於 陵 所 友 爱 [UNK] [UNK] 累 迁 中 录 事 谘 议\n",
      "y_pred:[0.54929173]\n",
      "y_true:0\n",
      "----------\n",
      "x_seq:唯 闻 陶 靖 节 , 多 在 醉 乡 游 。 [UNK] [PAD] [PAD] [PAD] [PAD] [PAD] [PAD] [PAD] [PAD] [PAD] [PAD] [PAD] [PAD] [PAD] [PAD] [PAD] [PAD]\n",
      "x_ALLU:秦 文 公 东 猎 [UNK] 渭 之 间 , 卜 居 之 而 吉 。 文 公 梦 黄 蛇 自 天 下 属 地 , 其 口\n",
      "y_pred:[0.5211041]\n",
      "y_true:0\n",
      "----------\n",
      "x_seq:唯 闻 陶 靖 节 , 多 在 醉 乡 游 。 [UNK] [PAD] [PAD] [PAD] [PAD] [PAD] [PAD] [PAD] [PAD] [PAD] [PAD] [PAD] [PAD] [PAD] [PAD] [PAD] [PAD]\n",
      "x_ALLU:绵 蛮 黄 鸟 , 止 于 丘 阿 。 道 之 云 远 , 我 劳 如 何 。 绵 蛮 黄 鸟 , 止 于 丘 隅\n",
      "y_pred:[0.5820034]\n",
      "y_true:0\n",
      "----------\n",
      "x_seq:唯 闻 陶 靖 节 , 多 在 醉 乡 游 。 [UNK] [PAD] [PAD] [PAD] [PAD] [PAD] [PAD] [PAD] [PAD] [PAD] [PAD] [PAD] [PAD] [PAD] [PAD] [PAD] [PAD]\n",
      "x_ALLU:非 无 北 阙 之 心 , 犹 有 云 台 之 仗 。 [UNK] [PAD] [PAD] [PAD] [PAD] [PAD] [PAD] [PAD] [PAD] [PAD] [PAD] [PAD] [PAD] [PAD] [PAD]\n",
      "y_pred:[0.41175288]\n",
      "y_true:0\n",
      "----------\n",
      "x_seq:唯 闻 陶 靖 节 , 多 在 醉 乡 游 。 [UNK] [PAD] [PAD] [PAD] [PAD] [PAD] [PAD] [PAD] [PAD] [PAD] [PAD] [PAD] [PAD] [PAD] [PAD] [PAD] [PAD]\n",
      "x_ALLU:谢 子 微 见 许 子 将 兄 弟 曰 : [UNK] 平 舆 之 渊 , 有 二 龙 焉 。 [UNK] [UNK] [PAD] [PAD] [PAD] [PAD] [PAD]\n",
      "y_pred:[0.44876027]\n",
      "y_true:0\n",
      "----------\n",
      "x_seq:唯 闻 陶 靖 节 , 多 在 醉 乡 游 。 [UNK] [PAD] [PAD] [PAD] [PAD] [PAD] [PAD] [PAD] [PAD] [PAD] [PAD] [PAD] [PAD] [PAD] [PAD] [PAD] [PAD]\n",
      "x_ALLU:太 白 宿 , 主 军 来 冲 拒 也 。 [UNK] [PAD] [PAD] [PAD] [PAD] [PAD] [PAD] [PAD] [PAD] [PAD] [PAD] [PAD] [PAD] [PAD] [PAD] [PAD] [PAD] [PAD]\n",
      "y_pred:[0.15828317]\n",
      "y_true:0\n",
      "----------\n",
      "x_seq:唯 闻 陶 靖 节 , 多 在 醉 乡 游 。 [UNK] [PAD] [PAD] [PAD] [PAD] [PAD] [PAD] [PAD] [PAD] [PAD] [PAD] [PAD] [PAD] [PAD] [PAD] [PAD] [PAD]\n",
      "x_ALLU:汉 彩 女 常 以 七 月 七 日 穿 七 孔 针 于 开 襟 楼 , 俱 以 习 之 。 [UNK] [PAD] [PAD] [PAD] [PAD] [PAD]\n",
      "y_pred:[0.06076294]\n",
      "y_true:0\n",
      "----------\n",
      "x_seq:唯 闻 陶 靖 节 , 多 在 醉 乡 游 。 [UNK] [PAD] [PAD] [PAD] [PAD] [PAD] [PAD] [PAD] [PAD] [PAD] [PAD] [PAD] [PAD] [PAD] [PAD] [PAD] [PAD]\n",
      "x_ALLU:永 平 十 五 年 , 上 ( 汉 明 帝 ) 行 幸 诸 国 , 敕 [UNK] 车 驾 发 后 , 将 缇 骑 宿 玄\n",
      "y_pred:[0.4010176]\n",
      "y_true:0\n",
      "----------\n",
      "x_seq:唯 闻 陶 靖 节 , 多 在 醉 乡 游 。 [UNK] [PAD] [PAD] [PAD] [PAD] [PAD] [PAD] [PAD] [PAD] [PAD] [PAD] [PAD] [PAD] [PAD] [PAD] [PAD] [PAD]\n",
      "x_ALLU:鹦 鹉 鸟 有 三 种 : 一 种 青 , 大 如 乌 臼 ; 一 种 白 , 大 如 [UNK] [UNK] ; 一 种 五 色\n",
      "y_pred:[0.5588746]\n",
      "y_true:0\n",
      "----------\n",
      "x_seq:莫 笑 乱 离 方 解 印 , 犹 胜 颠 蹶 未 抽 簪 。 [UNK] [PAD] [PAD] [PAD] [PAD] [PAD] [PAD] [PAD] [PAD] [PAD] [PAD] [PAD] [PAD]\n",
      "x_ALLU:抽 簪 解 朝 衣 , 散 发 归 海 隅 。 [UNK] [PAD] [PAD] [PAD] [PAD] [PAD] [PAD] [PAD] [PAD] [PAD] [PAD] [PAD] [PAD] [PAD] [PAD] [PAD] [PAD]\n",
      "y_pred:[0.6146077]\n",
      "y_true:1\n",
      "----------\n",
      "x_seq:莫 笑 乱 离 方 解 印 , 犹 胜 颠 蹶 未 抽 簪 。 [UNK] [PAD] [PAD] [PAD] [PAD] [PAD] [PAD] [PAD] [PAD] [PAD] [PAD] [PAD] [PAD]\n",
      "x_ALLU:孝 成 帝 时 , 客 有 荐 雄 文 似 相 如 者 。 [UNK] [PAD] [PAD] [PAD] [PAD] [PAD] [PAD] [PAD] [PAD] [PAD] [PAD] [PAD] [PAD] [PAD]\n",
      "y_pred:[0.6295154]\n",
      "y_true:0\n",
      "----------\n",
      "x_seq:莫 笑 乱 离 方 解 印 , 犹 胜 颠 蹶 未 抽 簪 。 [UNK] [PAD] [PAD] [PAD] [PAD] [PAD] [PAD] [PAD] [PAD] [PAD] [PAD] [PAD] [PAD]\n",
      "x_ALLU:无 忧 也 。 瞿 过 四 十 , 当 有 五 丈 夫 。 [UNK] [PAD] [PAD] [PAD] [PAD] [PAD] [PAD] [PAD] [PAD] [PAD] [PAD] [PAD] [PAD] [PAD]\n",
      "y_pred:[0.26196235]\n",
      "y_true:0\n",
      "----------\n",
      "x_seq:莫 笑 乱 离 方 解 印 , 犹 胜 颠 蹶 未 抽 簪 。 [UNK] [PAD] [PAD] [PAD] [PAD] [PAD] [PAD] [PAD] [PAD] [PAD] [PAD] [PAD] [PAD]\n",
      "x_ALLU:[UNK] 以 [UNK] 燎 祀 风 师 。 [UNK] 风 师 者 , 箕 星 也 。 箕 主 簸 扬 , 能 致 风 气 。 [UNK] [PAD]\n",
      "y_pred:[0.26898444]\n",
      "y_true:0\n",
      "----------\n",
      "x_seq:莫 笑 乱 离 方 解 印 , 犹 胜 颠 蹶 未 抽 簪 。 [UNK] [PAD] [PAD] [PAD] [PAD] [PAD] [PAD] [PAD] [PAD] [PAD] [PAD] [PAD] [PAD]\n",
      "x_ALLU:负 局 先 生 者 , 不 知 何 许 人 也 。 语 似 燕 代 间 人 。 常 负 磨 镜 局 , 徇 吴 市\n",
      "y_pred:[0.47088656]\n",
      "y_true:0\n",
      "----------\n",
      "x_seq:莫 笑 乱 离 方 解 印 , 犹 胜 颠 蹶 未 抽 簪 。 [UNK] [PAD] [PAD] [PAD] [PAD] [PAD] [PAD] [PAD] [PAD] [PAD] [PAD] [PAD] [PAD]\n",
      "x_ALLU:功 业 未 及 建 , 夕 阳 忽 西 流 。 何 意 百 炼 钢 , 化 为 绕 指 柔 。 [UNK] [PAD] [PAD] [PAD] [PAD]\n",
      "y_pred:[0.11657372]\n",
      "y_true:0\n",
      "----------\n",
      "x_seq:莫 笑 乱 离 方 解 印 , 犹 胜 颠 蹶 未 抽 簪 。 [UNK] [PAD] [PAD] [PAD] [PAD] [PAD] [PAD] [PAD] [PAD] [PAD] [PAD] [PAD] [PAD]\n",
      "x_ALLU:东 方 欲 明 星 烂 烂 , 汝 南 晨 鸡 登 坛 唤 。 [UNK] [PAD] [PAD] [PAD] [PAD] [PAD] [PAD] [PAD] [PAD] [PAD] [PAD] [PAD] [PAD]\n",
      "y_pred:[0.50061035]\n",
      "y_true:0\n",
      "----------\n",
      "x_seq:莫 笑 乱 离 方 解 印 , 犹 胜 颠 蹶 未 抽 簪 。 [UNK] [PAD] [PAD] [PAD] [PAD] [PAD] [PAD] [PAD] [PAD] [PAD] [PAD] [PAD] [PAD]\n",
      "x_ALLU:越 州 余 姚 县 有 历 山 舜 井 , 濮 州 雷 泽 县 有 历 山 舜 井 。 [UNK] [UNK] 及 [UNK] 州 历 山\n",
      "y_pred:[0.14359051]\n",
      "y_true:0\n",
      "----------\n",
      "x_seq:莫 笑 乱 离 方 解 印 , 犹 胜 颠 蹶 未 抽 簪 。 [UNK] [PAD] [PAD] [PAD] [PAD] [PAD] [PAD] [PAD] [PAD] [PAD] [PAD] [PAD] [PAD]\n",
      "x_ALLU:吴 王 有 女 滕 玉 , 因 谋 伐 楚 , 与 夫 人 及 女 会 蒸 鱼 , 王 前 尝 半 而 与 女 ,\n",
      "y_pred:[0.22908378]\n",
      "y_true:0\n",
      "----------\n",
      "x_seq:莫 笑 乱 离 方 解 印 , 犹 胜 颠 蹶 未 抽 簪 。 [UNK] [PAD] [PAD] [PAD] [PAD] [PAD] [PAD] [PAD] [PAD] [PAD] [PAD] [PAD] [PAD]\n",
      "x_ALLU:玄 即 路 , 于 道 疾 笃 , 上 疏 曰 : [UNK] 臣 以 常 人 , 才 不 佐 世 , 忽 蒙 殊 遇 ,\n",
      "y_pred:[0.6550492]\n",
      "y_true:0\n",
      "----------\n",
      "x_seq:楚 隔 乾 坤 远 , 难 招 病 客 魂 。 [UNK] [PAD] [PAD] [PAD] [PAD] [PAD] [PAD] [PAD] [PAD] [PAD] [PAD] [PAD] [PAD] [PAD] [PAD] [PAD] [PAD]\n",
      "x_ALLU:宋 玉 怜 哀 屈 原 , 忠 而 斥 弃 , 愁 懑 山 泽 , 魂 魄 放 佚 , 厥 命 将 落 , 故 作\n",
      "y_pred:[0.9116835]\n",
      "y_true:1\n",
      "----------\n",
      "x_seq:楚 隔 乾 坤 远 , 难 招 病 客 魂 。 [UNK] [PAD] [PAD] [PAD] [PAD] [PAD] [PAD] [PAD] [PAD] [PAD] [PAD] [PAD] [PAD] [PAD] [PAD] [PAD] [PAD]\n",
      "x_ALLU:文 帝 初 欲 为 武 帝 求 婚 于 籍 , 籍 醉 六 十 日 , 不 得 言 而 止 。 [UNK] [PAD] [PAD] [PAD] [PAD]\n",
      "y_pred:[0.3919868]\n",
      "y_true:0\n",
      "----------\n",
      "x_seq:楚 隔 乾 坤 远 , 难 招 病 客 魂 。 [UNK] [PAD] [PAD] [PAD] [PAD] [PAD] [PAD] [PAD] [PAD] [PAD] [PAD] [PAD] [PAD] [PAD] [PAD] [PAD] [PAD]\n",
      "x_ALLU:谶 明 解 咒 术 , 所 向 皆 验 , 西 域 号 为 大 咒 师 。 后 随 王 入 山 , 王 渴 须 水\n",
      "y_pred:[0.30610555]\n",
      "y_true:0\n",
      "----------\n",
      "x_seq:楚 隔 乾 坤 远 , 难 招 病 客 魂 。 [UNK] [PAD] [PAD] [PAD] [PAD] [PAD] [PAD] [PAD] [PAD] [PAD] [PAD] [PAD] [PAD] [PAD] [PAD] [PAD] [PAD]\n",
      "x_ALLU:邹 衍 睹 有 国 者 益 淫 侈 [UNK] [UNK] 乃 深 观 阴 阳 消 息 而 作 怪 迂 之 变 , 《 终 始 》\n",
      "y_pred:[0.38807908]\n",
      "y_true:0\n",
      "----------\n",
      "x_seq:楚 隔 乾 坤 远 , 难 招 病 客 魂 。 [UNK] [PAD] [PAD] [PAD] [PAD] [PAD] [PAD] [PAD] [PAD] [PAD] [PAD] [PAD] [PAD] [PAD] [PAD] [PAD] [PAD]\n",
      "x_ALLU:六 国 时 , 羊 角 哀 与 左 伯 桃 为 友 , 闻 楚 王 贤 , 俱 往 仕 , 至 梁 山 , 逢 雪\n",
      "y_pred:[0.20976937]\n",
      "y_true:0\n",
      "----------\n",
      "x_seq:楚 隔 乾 坤 远 , 难 招 病 客 魂 。 [UNK] [PAD] [PAD] [PAD] [PAD] [PAD] [PAD] [PAD] [PAD] [PAD] [PAD] [PAD] [PAD] [PAD] [PAD] [PAD] [PAD]\n",
      "x_ALLU:神 仙 岳 岳 于 楝 间 , 玉 女 窥 窗 而 下 视 。 [UNK] [PAD] [PAD] [PAD] [PAD] [PAD] [PAD] [PAD] [PAD] [PAD] [PAD] [PAD] [PAD]\n",
      "y_pred:[0.80780023]\n",
      "y_true:0\n",
      "----------\n",
      "x_seq:楚 隔 乾 坤 远 , 难 招 病 客 魂 。 [UNK] [PAD] [PAD] [PAD] [PAD] [PAD] [PAD] [PAD] [PAD] [PAD] [PAD] [PAD] [PAD] [PAD] [PAD] [PAD] [PAD]\n",
      "x_ALLU:山 梁 之 餐 , 豢 豹 之 胎 。 小 饭 大 [UNK] , 如 汤 沃 雪 。 此 亦 天 下 之 至 美 也 。\n",
      "y_pred:[0.1760121]\n",
      "y_true:0\n",
      "----------\n",
      "x_seq:楚 隔 乾 坤 远 , 难 招 病 客 魂 。 [UNK] [PAD] [PAD] [PAD] [PAD] [PAD] [PAD] [PAD] [PAD] [PAD] [PAD] [PAD] [PAD] [PAD] [PAD] [PAD] [PAD]\n",
      "x_ALLU:饰 冠 以 玉 , 光 好 外 见 , 中 非 所 有 。 [UNK] [PAD] [PAD] [PAD] [PAD] [PAD] [PAD] [PAD] [PAD] [PAD] [PAD] [PAD] [PAD] [PAD]\n",
      "y_pred:[0.2467393]\n",
      "y_true:0\n",
      "----------\n",
      "x_seq:楚 隔 乾 坤 远 , 难 招 病 客 魂 。 [UNK] [PAD] [PAD] [PAD] [PAD] [PAD] [PAD] [PAD] [PAD] [PAD] [PAD] [PAD] [PAD] [PAD] [PAD] [PAD] [PAD]\n",
      "x_ALLU:暇 豫 之 吾 吾 , 不 如 鸟 乌 。 [UNK] 人 皆 集 于 苑 , 己 独 集 于 枯 。 [UNK] [PAD] [PAD] [PAD] [PAD]\n",
      "y_pred:[0.09542507]\n",
      "y_true:0\n",
      "----------\n",
      "x_seq:楚 隔 乾 坤 远 , 难 招 病 客 魂 。 [UNK] [PAD] [PAD] [PAD] [PAD] [PAD] [PAD] [PAD] [PAD] [PAD] [PAD] [PAD] [PAD] [PAD] [PAD] [PAD] [PAD]\n",
      "x_ALLU:灵 运 父 祖 并 葬 始 宁 县 , 并 有 故 宅 及 墅 , 遂 移 籍 会 稽 , 修 营 别 业 , 傍\n",
      "y_pred:[0.48439282]\n",
      "y_true:0\n",
      "----------\n",
      "x_seq:时 伤 大 野 麟 , 命 问 长 沙 [UNK] 。 [UNK] [PAD] [PAD] [PAD] [PAD] [PAD] [PAD] [PAD] [PAD] [PAD] [PAD] [PAD] [PAD] [PAD] [PAD] [PAD] [PAD]\n",
      "x_ALLU:西 狩 获 麟 。 [UNK] [PAD] [PAD] [PAD] [PAD] [PAD] [PAD] [PAD] [PAD] [PAD] [PAD] [PAD] [PAD] [PAD] [PAD] [PAD] [PAD] [PAD] [PAD] [PAD] [PAD] [PAD] [PAD] [PAD]\n",
      "y_pred:[0.22299793]\n",
      "y_true:1\n",
      "----------\n",
      "x_seq:时 伤 大 野 麟 , 命 问 长 沙 [UNK] 。 [UNK] [PAD] [PAD] [PAD] [PAD] [PAD] [PAD] [PAD] [PAD] [PAD] [PAD] [PAD] [PAD] [PAD] [PAD] [PAD] [PAD]\n",
      "x_ALLU:至 成 帝 时 , 以 书 颇 散 亡 , 使 谒 者 陈 农 求 遗 书 于 天 下 。 [UNK] [PAD] [PAD] [PAD] [PAD] [PAD]\n",
      "y_pred:[0.1441473]\n",
      "y_true:0\n",
      "----------\n",
      "x_seq:时 伤 大 野 麟 , 命 问 长 沙 [UNK] 。 [UNK] [PAD] [PAD] [PAD] [PAD] [PAD] [PAD] [PAD] [PAD] [PAD] [PAD] [PAD] [PAD] [PAD] [PAD] [PAD] [PAD]\n",
      "x_ALLU:枚 乘 字 叔 , 淮 阴 人 也 , 为 吴 王 [UNK] 郎 中 [UNK] [UNK] 吴 王 不 用 乘 策 , 卒 见 禽 灭\n",
      "y_pred:[0.9973695]\n",
      "y_true:0\n",
      "----------\n",
      "x_seq:时 伤 大 野 麟 , 命 问 长 沙 [UNK] 。 [UNK] [PAD] [PAD] [PAD] [PAD] [PAD] [PAD] [PAD] [PAD] [PAD] [PAD] [PAD] [PAD] [PAD] [PAD] [PAD] [PAD]\n",
      "x_ALLU:秋 , 楚 人 灭 夔 , 以 夔 子 归 。 [UNK] [PAD] [PAD] [PAD] [PAD] [PAD] [PAD] [PAD] [PAD] [PAD] [PAD] [PAD] [PAD] [PAD] [PAD] [PAD] [PAD]\n",
      "y_pred:[0.33436674]\n",
      "y_true:0\n",
      "----------\n",
      "END:**************************************************\n",
      "array([[0.99589884, 0.13300774, 0.5787907 , 0.09052703, 0.18466088,\n",
      "        0.05718258, 0.344169  , 0.14982936, 0.3423397 , 0.19431385],\n",
      "       [0.79701495, 0.04442051, 0.2551757 , 0.08503482, 0.5528219 ,\n",
      "        0.3671021 , 0.40192363, 0.41695964, 0.37488353, 0.32065243],\n",
      "       [0.32170555, 0.06085578, 0.30998924, 0.45183933, 0.55809987,\n",
      "        0.11574072, 0.23349962, 0.25657165, 0.49799356, 0.11399552],\n",
      "       [0.7704761 , 0.54929173, 0.5211041 , 0.5820034 , 0.41175288,\n",
      "        0.44876027, 0.15828317, 0.06076294, 0.4010176 , 0.5588746 ],\n",
      "       [0.6146077 , 0.6295154 , 0.26196235, 0.26898444, 0.47088656,\n",
      "        0.11657372, 0.50061035, 0.14359051, 0.22908378, 0.6550492 ],\n",
      "       [0.9116835 , 0.3919868 , 0.30610555, 0.38807908, 0.20976937,\n",
      "        0.80780023, 0.1760121 , 0.2467393 , 0.09542507, 0.48439282],\n",
      "       [0.22299793, 0.1441473 , 0.9973695 , 0.33436674, 0.60483545,\n",
      "        0.11527929, 0.32647038, 0.05375272, 0.64908725, 0.1799792 ],\n",
      "       [0.34480458, 0.3432256 , 0.62677634, 0.89998245, 0.38633874,\n",
      "        0.3909109 , 0.15982541, 0.24382934, 0.41250873, 0.6053004 ],\n",
      "       [0.78056127, 0.59774315, 0.5358951 , 0.19750828, 0.18410134,\n",
      "        0.6971532 , 0.2034074 , 0.30613583, 0.19230232, 0.103136  ],\n",
      "       [0.25059795, 0.3386832 , 0.61934954, 0.631243  , 0.36932486,\n",
      "        0.7346904 , 0.47460097, 0.4574728 , 0.44354033, 0.42345566]],\n",
      "      dtype=float32)\n",
      "array([0, 2, 6, 8, 9, 4, 7, 1, 3, 5])\n",
      "[1, 0, 0, 0, 0, 0, 0, 0, 0, 0]\n",
      "array([0, 4, 7, 6, 8, 5, 9, 2, 3, 1])\n",
      "[1, 0, 0, 0, 0, 0, 0, 0, 0, 0]\n",
      "array([4, 8, 3, 0, 2, 7, 6, 5, 9, 1])\n",
      "[0, 0, 0, 1, 0, 0, 0, 0, 0, 0]\n",
      "array([0, 3, 9, 1, 2, 5, 4, 8, 6, 7])\n",
      "[1, 0, 0, 0, 0, 0, 0, 0, 0, 0]\n",
      "array([9, 1, 0, 6, 4, 3, 2, 8, 7, 5])\n",
      "[0, 0, 1, 0, 0, 0, 0, 0, 0, 0]\n",
      "array([0, 5, 9, 1, 3, 2, 7, 4, 6, 8])\n",
      "[1, 0, 0, 0, 0, 0, 0, 0, 0, 0]\n",
      "array([2, 8, 4, 3, 6, 0, 9, 1, 5, 7])\n",
      "[0, 0, 0, 0, 0, 1, 0, 0, 0, 0]\n",
      "array([3, 2, 9, 8, 5, 4, 0, 1, 7, 6])\n",
      "[0, 0, 0, 0, 0, 0, 1, 0, 0, 0]\n",
      "array([0, 5, 1, 2, 7, 6, 3, 8, 4, 9])\n",
      "[1, 0, 0, 0, 0, 0, 0, 0, 0, 0]\n",
      "array([5, 3, 2, 6, 7, 8, 9, 4, 1, 0])\n",
      "[0, 0, 0, 0, 0, 0, 0, 0, 0, 1]\n",
      "\n",
      "----------------------------------ALLU_SOURCE PAIRMATCH METRICS -----------------------------------\n",
      "\n",
      "epoch:PAIRMATCH AVG_RANKING MRR: 0.5092\n",
      "\n",
      "----------------------------------ALLU_SOURCE END ----------------------------------\n",
      "\n",
      "----------------------------------ALLU_CLASS CLASS METRICS -----------------------------------\n",
      "\n",
      "              precision    recall  f1-score   support\n",
      "    accuracy                         0.3408       534\n",
      "   macro avg     0.3244    0.2823    0.2756       534\n",
      "weighted avg     0.3559    0.3408    0.3308       534\n",
      "\n",
      "\n",
      "epoch:classification EPOCH accuracy: 0.3408239700374532 precision: 0.324394, recall: 0.282303, f1: 0.275606\n",
      "\n",
      "-----------------------------ALLU_CLASS END ----------------------------\n",
      "train_example:**************************************************\n",
      "x_seq:寥 寥 武 城 宰 ， 遗 井 虞 山 阴 。 [UNK] [PAD] [PAD] [PAD] [PAD] [PAD] [PAD] [PAD] [PAD] [PAD] [PAD] [PAD] [PAD] [PAD] [PAD] [PAD] [PAD]\n",
      "y_pred:人物部\n",
      "y_true:人物部\n",
      "----------\n",
      "x_seq:将 辞 邺 下 刘 公 斡 ， 却 见 云 间 陆 士 龙 。 [UNK] [PAD] [PAD] [PAD] [PAD] [PAD] [PAD] [PAD] [PAD] [PAD] [PAD] [PAD] [PAD]\n",
      "y_pred:人物部\n",
      "y_true:人物部\n",
      "----------\n",
      "x_seq:泪 湿 孤 鸾 晓 镜 昏 ， 近 来 方 解 惜 青 春 。 [UNK] [PAD] [PAD] [PAD] [PAD] [PAD] [PAD] [PAD] [PAD] [PAD] [PAD] [PAD] [PAD]\n",
      "y_pred:器用部\n",
      "y_true:人事部\n",
      "----------\n",
      "x_seq:新 编 来 如 彻 扎 箭 ， 劲 笔 更 似 划 沙 锥 。 [UNK] [PAD] [PAD] [PAD] [PAD] [PAD] [PAD] [PAD] [PAD] [PAD] [PAD] [PAD] [PAD]\n",
      "y_pred:武备部\n",
      "y_true:武备部\n",
      "----------\n",
      "x_seq:持 赠 小 君 聊 一 笑 ， 不 须 射 雉 [UNK] 黄 间 。 [UNK] [PAD] [PAD] [PAD] [PAD] [PAD] [PAD] [PAD] [PAD] [PAD] [PAD] [PAD] [PAD]\n",
      "y_pred:人事部\n",
      "y_true:伦类部\n",
      "----------\n",
      "x_seq:功 名 思 马 援 ， 歌 唱 咽 羊 昙 。 [UNK] [PAD] [PAD] [PAD] [PAD] [PAD] [PAD] [PAD] [PAD] [PAD] [PAD] [PAD] [PAD] [PAD] [PAD] [PAD] [PAD]\n",
      "y_pred:人物部\n",
      "y_true:人事部\n",
      "----------\n",
      "x_seq:洗 兵 逢 骤 雨 ， 送 阵 出 黄 云 。 [UNK] [PAD] [PAD] [PAD] [PAD] [PAD] [PAD] [PAD] [PAD] [PAD] [PAD] [PAD] [PAD] [PAD] [PAD] [PAD] [PAD]\n",
      "y_pred:天文部\n",
      "y_true:天文部\n",
      "----------\n",
      "x_seq:龙 驭 杳 安 之 ， 台 星 陨 衡 鼎 。 [UNK] [PAD] [PAD] [PAD] [PAD] [PAD] [PAD] [PAD] [PAD] [PAD] [PAD] [PAD] [PAD] [PAD] [PAD] [PAD] [PAD]\n",
      "y_pred:天文部\n",
      "y_true:天文部\n",
      "----------\n",
      "x_seq:犬 书 曾 去 洛 ， 鹤 病 悔 游 秦 。 [UNK] [PAD] [PAD] [PAD] [PAD] [PAD] [PAD] [PAD] [PAD] [PAD] [PAD] [PAD] [PAD] [PAD] [PAD] [PAD] [PAD]\n",
      "y_pred:动物部\n",
      "y_true:器用部\n",
      "----------\n",
      "x_seq:全 蜀 多 名 土 ， 严 家 聚 德 星 。 [UNK] [PAD] [PAD] [PAD] [PAD] [PAD] [PAD] [PAD] [PAD] [PAD] [PAD] [PAD] [PAD] [PAD] [PAD] [PAD] [PAD]\n",
      "y_pred:人物部\n",
      "y_true:天文部\n",
      "----------\n",
      "END:**************************************************\n",
      "test_example:**************************************************\n",
      "x_seq:战 连 唇 齿 国 ， 军 急 羽 毛 书 。 [UNK] [PAD] [PAD] [PAD] [PAD] [PAD] [PAD] [PAD] [PAD] [PAD] [PAD] [PAD] [PAD] [PAD] [PAD] [PAD] [PAD]\n",
      "y_pred:武备部\n",
      "y_true:人体部\n",
      "----------\n",
      "x_seq:高 谈 先 马 度 ， 伪 晓 预 鸡 鸣 。 [UNK] [PAD] [PAD] [PAD] [PAD] [PAD] [PAD] [PAD] [PAD] [PAD] [PAD] [PAD] [PAD] [PAD] [PAD] [PAD] [PAD]\n",
      "y_pred:武备部\n",
      "y_true:动物部\n",
      "----------\n",
      "x_seq:文 章 已 变 南 山 雾 ， 羽 翼 应 持 北 海 风 。 [UNK] [PAD] [PAD] [PAD] [PAD] [PAD] [PAD] [PAD] [PAD] [PAD] [PAD] [PAD] [PAD]\n",
      "y_pred:天文部\n",
      "y_true:天文部\n",
      "----------\n",
      "x_seq:才 尽 已 无 枫 落 句 ， 身 存 又 见 雁 来 时 。 [UNK] [PAD] [PAD] [PAD] [PAD] [PAD] [PAD] [PAD] [PAD] [PAD] [PAD] [PAD] [PAD]\n",
      "y_pred:人事部\n",
      "y_true:文明部\n",
      "----------\n",
      "x_seq:我 有 延 陵 剑 ， 君 无 陆 贾 金 。 [UNK] [PAD] [PAD] [PAD] [PAD] [PAD] [PAD] [PAD] [PAD] [PAD] [PAD] [PAD] [PAD] [PAD] [PAD] [PAD] [PAD]\n",
      "y_pred:人物部\n",
      "y_true:器用部\n",
      "----------\n",
      "x_seq:试 寻 北 产 汗 血 驹 ， 莫 杀 南 飞 寄 书 雁 [UNK] [PAD] [PAD] [PAD] [PAD] [PAD] [PAD] [PAD] [PAD] [PAD] [PAD] [PAD] [PAD] [PAD]\n",
      "y_pred:动物部\n",
      "y_true:动物部\n",
      "----------\n",
      "x_seq:上 有 六 龙 回 日 之 高 标 ， 下 有 冲 波 逆 折 之 回 川 。 [UNK] [PAD] [PAD] [PAD] [PAD] [PAD] [PAD] [PAD] [PAD]\n",
      "y_pred:地理部\n",
      "y_true:动物部\n",
      "----------\n",
      "x_seq:右 军 誓 墓 心 何 切 ， 吏 部 来 潮 道 已 光 。 [UNK] [PAD] [PAD] [PAD] [PAD] [PAD] [PAD] [PAD] [PAD] [PAD] [PAD] [PAD] [PAD]\n",
      "y_pred:人事部\n",
      "y_true:人事部\n",
      "----------\n",
      "x_seq:鹤 归 辽 海 逾 千 岁 ， 枫 落 吴 江 又 一 秋 。 [UNK] [PAD] [PAD] [PAD] [PAD] [PAD] [PAD] [PAD] [PAD] [PAD] [PAD] [PAD] [PAD]\n",
      "y_pred:人事部\n",
      "y_true:地理部\n",
      "----------\n",
      "x_seq:且 请 同 观 舞 [UNK] [UNK] ， 何 须 竟 哂 食 槟 榔 。 [UNK] [PAD] [PAD] [PAD] [PAD] [PAD] [PAD] [PAD] [PAD] [PAD] [PAD] [PAD] [PAD]\n",
      "y_pred:器用部\n",
      "y_true:器用部\n",
      "----------\n",
      "END:**************************************************\n",
      "\n",
      "----------------------------------READABILITY CLASS METRICS -----------------------------------\n",
      "\n",
      "              precision    recall  f1-score   support\n",
      "    accuracy                         0.6423       383\n",
      "   macro avg     0.6828    0.6556    0.6658       383\n",
      "weighted avg     0.6458    0.6423    0.6410       383\n",
      "\n",
      "\n",
      "epoch:classification EPOCH accuracy: 0.6422976501305483 precision: 0.682752, recall: 0.655553, f1: 0.665827\n",
      "\n",
      "-----------------------------READABILITY END ----------------------------\n"
     ]
    },
    {
     "name": "stderr",
     "output_type": "stream",
     "text": [
      "I:SAMPLE_TRAINER:[sampler_mu: 43]:cur_split_idx 0th END\n",
      "I:SAMPLE_TRAINER:[sampler_mu: 44]:****************************************************************************************************\n",
      "I:SAMPLE_TRAINER:[sampler_mu: 45]:****************************************************************************************************\n",
      "I:BASE TASK:[base_task.:270]:Task NER:\n",
      "I:BASE TASK:[base_task.:271]:\t32 training batches\n",
      "I:BASE TASK:[base_task.:272]:\t6 validation batches\n",
      "I:BASE TASK:[base_task.:273]:\t10 test batches\n"
     ]
    },
    {
     "name": "stdout",
     "output_type": "stream",
     "text": [
      "train_example:**************************************************\n",
      "x_seq:晴 川 落 日 初 低 ， 惆 怅 孤 舟 解 携 。 鸟 向 平 芜 远 近 ， 人 随 流 水 东 西 。 白\n",
      "y_pred:2\n",
      "y_true:2\n",
      "----------\n",
      "x_seq:太 和 九 年 李 训 、 郑 注 败 后 ， 仇 士 良 愈 专 恣 。 上 登 临 游 幸 ， 未 尝 为 乐\n",
      "y_pred:2\n",
      "y_true:1\n",
      "----------\n",
      "x_seq:于 以 采 蘋 ？ 南 涧 之 滨 。 于 以 采 藻 ？ 于 彼 行 潦 。 于 以 盛 之 ？ 维 筐 及 [UNK]\n",
      "y_pred:3\n",
      "y_true:3\n",
      "----------\n",
      "x_seq:一 声 画 角 谯 门 ， 半 庭 新 月 黄 昏 ， 雪 里 山 前 水 滨 。 竹 篱 茅 舍 ， 淡 烟 衰\n",
      "y_pred:1\n",
      "y_true:1\n",
      "----------\n",
      "x_seq:人 生 只 合 梁 园 住 ， 快 活 煞 几 个 白 头 父 。 指 他 家 五 辈 风 流 ， 睡 足 胭 脂\n",
      "y_pred:2\n",
      "y_true:2\n",
      "----------\n",
      "x_seq:河 中 之 水 向 东 流 ， 洛 阳 女 儿 名 莫 愁 。 莫 愁 十 三 能 织 绮 ， 十 四 采 桑 南\n",
      "y_pred:2\n",
      "y_true:2\n",
      "----------\n",
      "x_seq:迢 迢 天 汉 西 南 落 ， 喔 喔 邻 鸡 一 再 鸣 。 壮 志 病 来 消 欲 尽 ， 出 门 搔 首 怆\n",
      "y_pred:2\n",
      "y_true:1\n",
      "----------\n",
      "x_seq:二 月 饶 睡 昏 昏 然 ， 不 独 夜 短 昼 分 眠 。 桃 花 气 暖 眼 自 醉 ， 春 渚 日 落 梦\n",
      "y_pred:2\n",
      "y_true:2\n",
      "----------\n",
      "x_seq:旅 心 已 多 恨 ， 春 至 尚 离 群 。 翠 枝 结 斜 影 ， 绿 水 散 圆 文 。 戏 鱼 两 相 顾\n",
      "y_pred:1\n",
      "y_true:1\n",
      "----------\n",
      "x_seq:塞 下 秋 来 风 景 异 ， 衡 阳 雁 去 无 留 意 。 四 面 边 声 连 角 起 ， 千 嶂 里 ， 长\n",
      "y_pred:2\n",
      "y_true:2\n",
      "----------\n",
      "END:**************************************************\n",
      "test_example:**************************************************\n",
      "x_seq:紫 陌 红 尘 拂 面 来 ， 无 人 不 道 看 花 回 。 玄 都 观 里 桃 千 树 ， 尽 是 刘 郎 去\n",
      "y_pred:1\n",
      "y_true:1\n",
      "----------\n",
      "x_seq:十 日 画 一 水 ， 五 日 画 一 石 。 能 事 不 受 相 促 迫 ， 王 宰 始 肯 留 真 迹 。 壮\n",
      "y_pred:2\n",
      "y_true:2\n",
      "----------\n",
      "x_seq:麦 秀 渐 渐 兮 ， 禾 黍 油 油 。 彼 狡 童 兮 ， 不 与 我 好 兮 。 [UNK] [PAD] [PAD] [PAD] [PAD] [PAD] [PAD]\n",
      "y_pred:3\n",
      "y_true:1\n",
      "----------\n",
      "x_seq:辇 路 江 枫 暗 ， 宫 庭 野 草 春 。 伤 心 庾 开 府 ， 老 作 北 朝 臣 。 [UNK] [PAD] [PAD] [PAD] [PAD]\n",
      "y_pred:2\n",
      "y_true:1\n",
      "----------\n",
      "x_seq:西 楼 遗 迹 尚 豪 雄 ， 锦 绣 笙 萧 在 半 空 。 万 里 因 循 成 久 客 ， 一 年 容 易 又\n",
      "y_pred:2\n",
      "y_true:2\n",
      "----------\n",
      "x_seq:三 月 三 日 天 气 新 ， 长 安 水 边 多 丽 人 。 态 浓 意 远 淑 且 真 ， 肌 理 细 腻 骨\n",
      "y_pred:1\n",
      "y_true:3\n",
      "----------\n",
      "x_seq:余 闲 居 ， 爱 重 九 之 名 。 秋 菊 盈 园 ， 而 持 醪 靡 由 ， 空 服 九 华 ， 寄 怀 于\n",
      "y_pred:3\n",
      "y_true:2\n",
      "----------\n",
      "x_seq:杨 花 扑 帐 春 云 热 ， 龟 甲 屏 风 醉 眼 [UNK] 。 东 家 胡 蝶 西 家 飞 ， 白 骑 少 年 今\n",
      "y_pred:1\n",
      "y_true:1\n",
      "----------\n",
      "x_seq:天 下 事 ， 问 天 怎 忍 如 此 ！ 陵 图 谁 把 献 君 王 ， 结 愁 未 已 。 少 豪 气 概 总\n",
      "y_pred:2\n",
      "y_true:2\n",
      "----------\n",
      "x_seq:离 多 最 是 ， 东 西 流 水 ， 终 解 两 相 逢 。 浅 情 终 似 ， 行 云 无 定 ， 犹 到 梦\n",
      "y_pred:1\n",
      "y_true:1\n",
      "----------\n",
      "END:**************************************************\n"
     ]
    },
    {
     "name": "stderr",
     "output_type": "stream",
     "text": [
      "I:BASE TASK:[base_task.:270]:Task ALLU_CLASS:\n",
      "I:BASE TASK:[base_task.:271]:\t29 training batches\n",
      "I:BASE TASK:[base_task.:272]:\t6 validation batches\n",
      "I:BASE TASK:[base_task.:273]:\t9 test batches\n",
      "I:BASE TASK:[base_task.:270]:Task READABILITY:\n",
      "I:BASE TASK:[base_task.:271]:\t21 training batches\n",
      "I:BASE TASK:[base_task.:272]:\t4 validation batches\n",
      "I:BASE TASK:[base_task.:273]:\t6 test batches\n",
      "I:BASE TASK:[base_task.:270]:Task ALLU_SOURCE:\n",
      "I:BASE TASK:[base_task.:271]:\t64 training batches\n",
      "I:BASE TASK:[base_task.:272]:\t12 validation batches\n",
      "I:BASE TASK:[base_task.:273]:\t94 test batches\n",
      "I:BERT EMBEDDING:[bert_embed:105]:seq_len:30\n",
      "I:BERT EMBEDDING:[bert_embed:105]:seq_len:30\n",
      "I:AHMTL MODEL:[AHMTL.py:126]:Multi-Task Learning Model has been instantiated.\n",
      "I:CUR_SPLIT:1:[sampler_mu: 92]:Set up ready. Begining training/validation.\n",
      "I:BASE-MODEL:[base_model:133]:NER's model_dir is ./model_ckpt/2020-02-04-01_18_48/1/NER-Naive_CRF_Model\n",
      "I:BASE-MODEL:[base_model:232]:[NER]:train info:Train on 2040 samples, validate on 360 samples\n",
      "I:BASE-MODEL:[base_model:133]:ALLU_SOURCE's model_dir is ./model_ckpt/2020-02-04-01_18_48/1/ALLU_SOURCE-NaiveDenseModel\n",
      "I:BASE-MODEL:[base_model:232]:[ALLU_SOURCE]:train info:Train on 4080 samples, validate on 720 samples\n",
      "I:BASE-MODEL:[base_model:133]:ALLU_CLASS's model_dir is ./model_ckpt/2020-02-04-01_18_48/1/ALLU_CLASS-NaiveDenseModel\n",
      "I:BASE-MODEL:[base_model:232]:[ALLU_CLASS]:train info:Train on 1813 samples, validate on 321 samples\n",
      "I:BASE-MODEL:[base_model:133]:READABILITY's model_dir is ./model_ckpt/2020-02-04-01_18_48/1/READABILITY-NaiveDenseModel\n",
      "I:BASE-MODEL:[base_model:232]:[READABILITY]:train info:Train on 1301 samples, validate on 230 samples\n"
     ]
    },
    {
     "name": "stdout",
     "output_type": "stream",
     "text": [
      "Epoch 1/50\n",
      "146/146 [==============================] - 212s 1s/step - task_name:     NER     - loss: 7.2719 - accuracy: 0.7757 - val_loss: 11.2276 - val_accuracy: 0.8066\n",
      "146/146 [==============================] - 212s 1s/step - task_name: ALLU_SOURCE - loss: 0.6434 - accuracy: 0.5578 - val_loss: 0.7148 - val_accuracy: 0.5833 \n",
      "146/146 [==============================] - 212s 1s/step - task_name: ALLU_CLASS  - loss: 2.4581 - accuracy: 0.2616 - val_loss: 2.3847 - val_accuracy: 0.3724\n",
      "146/146 [==============================] - 212s 1s/step - task_name: READABILITY - loss: 0.9765 - accuracy: 0.5618 - val_loss: 0.8487 - val_accuracy: 0.6172\n"
     ]
    },
    {
     "name": "stderr",
     "output_type": "stream",
     "text": [
      "I:CUR_SPLIT:1:[sampler_mu:139]:----------------------------------------------------------------------------------------------------\n"
     ]
    },
    {
     "name": "stdout",
     "output_type": "stream",
     "text": [
      "Epoch 2/50\n",
      "146/146 [==============================] - 53s 362ms/step - task_name:     NER     - loss: 4.3656 - accuracy: 0.8039 - val_loss: 11.1577 - val_accuracy: 0.8025\n",
      "146/146 [==============================] - 53s 362ms/step - task_name: ALLU_SOURCE - loss: 0.6915 - accuracy: 0.6222 - val_loss: 0.7228 - val_accuracy: 0.5794 \n",
      "146/146 [==============================] - 53s 362ms/step - task_name: ALLU_CLASS  - loss: 1.6419 - accuracy: 0.3650 - val_loss: 2.2479 - val_accuracy: 0.3958\n",
      "146/146 [==============================] - 53s 362ms/step - task_name: READABILITY - loss: 0.9041 - accuracy: 0.6719 - val_loss: 0.7767 - val_accuracy: 0.6562\n"
     ]
    },
    {
     "name": "stderr",
     "output_type": "stream",
     "text": [
      "I:CUR_SPLIT:1:[sampler_mu:139]:----------------------------------------------------------------------------------------------------\n"
     ]
    },
    {
     "name": "stdout",
     "output_type": "stream",
     "text": [
      "Epoch 3/50\n",
      "146/146 [==============================] - 45s 308ms/step - task_name:     NER     - loss: 3.2379 - accuracy: 0.8137 - val_loss: 11.0115 - val_accuracy: 0.8092\n",
      "146/146 [==============================] - 45s 308ms/step - task_name: ALLU_SOURCE - loss: 0.6035 - accuracy: 0.6532 - val_loss: 0.7512 - val_accuracy: 0.5807 \n",
      "146/146 [==============================] - 45s 308ms/step - task_name: ALLU_CLASS  - loss: 1.5174 - accuracy: 0.4273 - val_loss: 2.2310 - val_accuracy: 0.3776\n",
      "146/146 [==============================] - 45s 308ms/step - task_name: READABILITY - loss: 1.0160 - accuracy: 0.7223 - val_loss: 0.8028 - val_accuracy: 0.6445\n"
     ]
    },
    {
     "name": "stderr",
     "output_type": "stream",
     "text": [
      "I:CUR_SPLIT:1:[sampler_mu:139]:----------------------------------------------------------------------------------------------------\n"
     ]
    },
    {
     "name": "stdout",
     "output_type": "stream",
     "text": [
      "Epoch 4/50\n",
      "146/146 [==============================] - 58s 397ms/step - task_name:     NER     - loss: 3.9107 - accuracy: 0.8199 - val_loss: 10.5919 - val_accuracy: 0.8062\n",
      "146/146 [==============================] - 58s 397ms/step - task_name: ALLU_SOURCE - loss: 0.5992 - accuracy: 0.6849 - val_loss: 0.6879 - val_accuracy: 0.6419 \n",
      "146/146 [==============================] - 58s 397ms/step - task_name: ALLU_CLASS  - loss: 1.7789 - accuracy: 0.4986 - val_loss: 2.2114 - val_accuracy: 0.4401\n",
      "146/146 [==============================] - 58s 397ms/step - task_name: READABILITY - loss: 0.4146 - accuracy: 0.7646 - val_loss: 0.8147 - val_accuracy: 0.6289\n"
     ]
    },
    {
     "name": "stderr",
     "output_type": "stream",
     "text": [
      "I:CUR_SPLIT:1:[sampler_mu:139]:----------------------------------------------------------------------------------------------------\n"
     ]
    },
    {
     "name": "stdout",
     "output_type": "stream",
     "text": [
      "Epoch 5/50\n",
      "146/146 [==============================] - 41s 283ms/step - task_name:     NER     - loss: 4.8117 - accuracy: 0.8266 - val_loss: 10.7051 - val_accuracy: 0.8053\n",
      "146/146 [==============================] - 41s 283ms/step - task_name: ALLU_SOURCE - loss: 0.5440 - accuracy: 0.7330 - val_loss: 0.7145 - val_accuracy: 0.6589 \n",
      "146/146 [==============================] - 41s 283ms/step - task_name: ALLU_CLASS  - loss: 0.9315 - accuracy: 0.5578 - val_loss: 2.2991 - val_accuracy: 0.3802\n",
      "146/146 [==============================] - 41s 283ms/step - task_name: READABILITY - loss: 0.4852 - accuracy: 0.7939 - val_loss: 0.9239 - val_accuracy: 0.6289\n"
     ]
    },
    {
     "name": "stderr",
     "output_type": "stream",
     "text": [
      "I:CUR_SPLIT:1:[sampler_mu:139]:----------------------------------------------------------------------------------------------------\n"
     ]
    },
    {
     "name": "stdout",
     "output_type": "stream",
     "text": [
      "Epoch 6/50\n",
      "145/146 [============================>.] - ETA: 0s - task_name: READABILITY - loss: 0.3966 - accuracy: 0.8164\n",
      "Epoch 00006: ReduceLROnPlateau reducing learning rate to 0.0007000000332482159.\n",
      "146/146 [==============================] - 42s 288ms/step - task_name:     NER     - loss: 3.5541 - accuracy: 0.8353 - val_loss: 10.6296 - val_accuracy: 0.8094\n",
      "146/146 [==============================] - 42s 288ms/step - task_name: ALLU_SOURCE - loss: 0.5159 - accuracy: 0.7782 - val_loss: 0.7556 - val_accuracy: 0.6484 \n",
      "146/146 [==============================] - 42s 288ms/step - task_name: ALLU_CLASS  - loss: 1.2337 - accuracy: 0.5690 - val_loss: 2.3946 - val_accuracy: 0.3464\n",
      "146/146 [==============================] - 42s 288ms/step - task_name: READABILITY - loss: 0.3397 - accuracy: 0.8164 - val_loss: 0.7884 - val_accuracy: 0.6562\n"
     ]
    },
    {
     "name": "stderr",
     "output_type": "stream",
     "text": [
      "I:CUR_SPLIT:1:[sampler_mu:139]:----------------------------------------------------------------------------------------------------\n"
     ]
    },
    {
     "name": "stdout",
     "output_type": "stream",
     "text": [
      "Epoch 7/50\n",
      "146/146 [==============================] - 42s 286ms/step - task_name:     NER     - loss: 3.9559 - accuracy: 0.8437 - val_loss: 10.4017 - val_accuracy: 0.8118\n",
      "146/146 [==============================] - 42s 286ms/step - task_name: ALLU_SOURCE - loss: 0.3041 - accuracy: 0.8024 - val_loss: 0.7833 - val_accuracy: 0.6484 \n",
      "146/146 [==============================] - 42s 286ms/step - task_name: ALLU_CLASS  - loss: 1.6042 - accuracy: 0.6481 - val_loss: 2.4837 - val_accuracy: 0.3776\n",
      "146/146 [==============================] - 42s 286ms/step - task_name: READABILITY - loss: 0.4217 - accuracy: 0.8402 - val_loss: 0.8219 - val_accuracy: 0.6523\n"
     ]
    },
    {
     "name": "stderr",
     "output_type": "stream",
     "text": [
      "I:CUR_SPLIT:1:[sampler_mu:139]:----------------------------------------------------------------------------------------------------\n"
     ]
    },
    {
     "name": "stdout",
     "output_type": "stream",
     "text": [
      "Epoch 8/50\n",
      "145/146 [============================>.] - ETA: 0s - task_name: ALLU_SOURCE - loss: 0.4164 - accuracy: 0.8181\n",
      "Epoch 00008: ReduceLROnPlateau reducing learning rate to 0.0007000000332482159.\n",
      "146/146 [==============================] - 41s 283ms/step - task_name:     NER     - loss: 3.3269 - accuracy: 0.8475 - val_loss: 10.4178 - val_accuracy: 0.8118\n",
      "146/146 [==============================] - 41s 283ms/step - task_name: ALLU_SOURCE - loss: 0.3796 - accuracy: 0.8181 - val_loss: 0.9763 - val_accuracy: 0.6393 \n",
      "146/146 [==============================] - 41s 283ms/step - task_name: ALLU_CLASS  - loss: 1.0221 - accuracy: 0.7074 - val_loss: 2.5772 - val_accuracy: 0.3750\n",
      "146/146 [==============================] - 41s 283ms/step - task_name: READABILITY - loss: 0.3524 - accuracy: 0.8638 - val_loss: 0.9032 - val_accuracy: 0.6367\n"
     ]
    },
    {
     "name": "stderr",
     "output_type": "stream",
     "text": [
      "I:CUR_SPLIT:1:[sampler_mu:139]:----------------------------------------------------------------------------------------------------\n"
     ]
    },
    {
     "name": "stdout",
     "output_type": "stream",
     "text": [
      "Epoch 9/50\n",
      "145/146 [============================>.] - ETA: 0s - task_name: ALLU_SOURCE - loss: 0.2897 - accuracy: 0.8485\n",
      "Epoch 00009: ReduceLROnPlateau reducing learning rate to 0.0004900000232737511.\n",
      "146/146 [==============================] - 41s 279ms/step - task_name:     NER     - loss: 3.7948 - accuracy: 0.8507 - val_loss: 10.4786 - val_accuracy: 0.8076\n",
      "146/146 [==============================] - 41s 279ms/step - task_name: ALLU_SOURCE - loss: 0.3289 - accuracy: 0.8485 - val_loss: 0.9283 - val_accuracy: 0.6263 \n",
      "146/146 [==============================] - 41s 279ms/step - task_name: ALLU_CLASS  - loss: 0.7651 - accuracy: 0.7597 - val_loss: 2.6800 - val_accuracy: 0.3620\n",
      "146/146 [==============================] - 41s 279ms/step - task_name: READABILITY - loss: 0.3082 - accuracy: 0.8970 - val_loss: 1.0419 - val_accuracy: 0.6367\n"
     ]
    },
    {
     "name": "stderr",
     "output_type": "stream",
     "text": [
      "I:CUR_SPLIT:1:[sampler_mu:139]:----------------------------------------------------------------------------------------------------\n"
     ]
    },
    {
     "name": "stdout",
     "output_type": "stream",
     "text": [
      "Epoch 10/50\n",
      "145/146 [============================>.] - ETA: 0s - task_name: ALLU_SOURCE - loss: 0.2716 - accuracy: 0.8234\n",
      "Epoch 00010: ReduceLROnPlateau reducing learning rate to 0.0007000000332482159.\n",
      "146/146 [==============================] - 37s 253ms/step - task_name:     NER     - loss: 4.5219 - accuracy: 0.8173 - val_loss: 10.5854 - val_accuracy: 0.7947\n",
      "146/146 [==============================] - 37s 253ms/step - task_name: ALLU_SOURCE - loss: 0.3905 - accuracy: 0.8237 - val_loss: 0.9025 - val_accuracy: 0.6393 \n",
      "146/146 [==============================] - 37s 253ms/step - task_name: ALLU_CLASS  - loss: 1.1208 - accuracy: 0.5781 - val_loss: 2.6569 - val_accuracy: 0.3151\n"
     ]
    },
    {
     "name": "stderr",
     "output_type": "stream",
     "text": [
      "I:CUR_SPLIT:1:[sampler_mu:139]:----------------------------------------------------------------------------------------------------\n"
     ]
    },
    {
     "name": "stdout",
     "output_type": "stream",
     "text": [
      "Epoch 11/50\n",
      "146/146 [==============================] - 40s 273ms/step - task_name:     NER     - loss: 3.0556 - accuracy: 0.8253 - val_loss: 10.2413 - val_accuracy: 0.8029\n",
      "146/146 [==============================] - 40s 273ms/step - task_name: ALLU_SOURCE - loss: 0.3588 - accuracy: 0.8520 - val_loss: 1.1164 - val_accuracy: 0.6328 \n",
      "146/146 [==============================] - 40s 273ms/step - task_name: ALLU_CLASS  - loss: 1.1897 - accuracy: 0.5871 - val_loss: 2.5095 - val_accuracy: 0.3464\n"
     ]
    },
    {
     "name": "stderr",
     "output_type": "stream",
     "text": [
      "I:CUR_SPLIT:1:[sampler_mu:139]:----------------------------------------------------------------------------------------------------\n"
     ]
    },
    {
     "name": "stdout",
     "output_type": "stream",
     "text": [
      "Epoch 12/50\n",
      "146/146 [==============================] - 11s 72ms/step - task_name:     NER     - loss: 2.8425 - accuracy: 0.8506 - val_loss: 10.2352 - val_accuracy: 0.8093\n"
     ]
    },
    {
     "name": "stderr",
     "output_type": "stream",
     "text": [
      "I:CUR_SPLIT:1:[sampler_mu:139]:----------------------------------------------------------------------------------------------------\n"
     ]
    },
    {
     "name": "stdout",
     "output_type": "stream",
     "text": [
      "Epoch 13/50\n",
      "146/146 [==============================] - 9s 63ms/step - task_name:     NER     - loss: 2.4438 - accuracy: 0.8597 - val_loss: 10.1013 - val_accuracy: 0.8131\n"
     ]
    },
    {
     "name": "stderr",
     "output_type": "stream",
     "text": [
      "I:CUR_SPLIT:1:[sampler_mu:139]:----------------------------------------------------------------------------------------------------\n"
     ]
    },
    {
     "name": "stdout",
     "output_type": "stream",
     "text": [
      "Epoch 14/50\n",
      "146/146 [==============================] - 10s 68ms/step - task_name:     NER     - loss: 3.7193 - accuracy: 0.8595 - val_loss: 10.1664 - val_accuracy: 0.8091\n"
     ]
    },
    {
     "name": "stderr",
     "output_type": "stream",
     "text": [
      "I:CUR_SPLIT:1:[sampler_mu:139]:----------------------------------------------------------------------------------------------------\n"
     ]
    },
    {
     "name": "stdout",
     "output_type": "stream",
     "text": [
      "Epoch 15/50\n",
      "146/146 [==============================] - 12s 82ms/step - task_name:     NER     - loss: 3.3117 - accuracy: 0.8641 - val_loss: 9.9309 - val_accuracy: 0.8116\n"
     ]
    },
    {
     "name": "stderr",
     "output_type": "stream",
     "text": [
      "I:CUR_SPLIT:1:[sampler_mu:139]:----------------------------------------------------------------------------------------------------\n"
     ]
    },
    {
     "name": "stdout",
     "output_type": "stream",
     "text": [
      "Epoch 16/50\n",
      "144/146 [============================>.] - ETA: 0s - task_name:     NER     - loss: 2.7894 - accuracy: 0.8738\n",
      "Epoch 00016: ReduceLROnPlateau reducing learning rate to 0.00034300000406801696.\n",
      "146/146 [==============================] - 8s 53ms/step - task_name:     NER     - loss: 2.5410 - accuracy: 0.8738 - val_loss: 10.0279 - val_accuracy: 0.8086\n"
     ]
    },
    {
     "name": "stderr",
     "output_type": "stream",
     "text": [
      "I:CUR_SPLIT:1:[sampler_mu:139]:----------------------------------------------------------------------------------------------------\n"
     ]
    },
    {
     "name": "stdout",
     "output_type": "stream",
     "text": [
      "Epoch 17/50\n",
      "146/146 [==============================] - 11s 79ms/step - task_name:     NER     - loss: 2.8986 - accuracy: 0.8746 - val_loss: 9.9170 - val_accuracy: 0.8099\n"
     ]
    },
    {
     "name": "stderr",
     "output_type": "stream",
     "text": [
      "I:CUR_SPLIT:1:[sampler_mu:139]:----------------------------------------------------------------------------------------------------\n"
     ]
    },
    {
     "name": "stdout",
     "output_type": "stream",
     "text": [
      "Epoch 18/50\n",
      "146/146 [==============================] - 11s 77ms/step - task_name:     NER     - loss: 2.7531 - accuracy: 0.8800 - val_loss: 9.8531 - val_accuracy: 0.8072\n"
     ]
    },
    {
     "name": "stderr",
     "output_type": "stream",
     "text": [
      "I:CUR_SPLIT:1:[sampler_mu:139]:----------------------------------------------------------------------------------------------------\n"
     ]
    },
    {
     "name": "stdout",
     "output_type": "stream",
     "text": [
      "Epoch 19/50\n",
      "145/146 [============================>.] - ETA: 0s - task_name:     NER     - loss: 2.5805 - accuracy: 0.8871\n",
      "Epoch 00019: ReduceLROnPlateau reducing learning rate to 0.00024009999469853935.\n",
      "146/146 [==============================] - 11s 73ms/step - task_name:     NER     - loss: 2.4947 - accuracy: 0.8862 - val_loss: 9.8363 - val_accuracy: 0.8128\n"
     ]
    },
    {
     "name": "stderr",
     "output_type": "stream",
     "text": [
      "I:CUR_SPLIT:1:[sampler_mu:139]:----------------------------------------------------------------------------------------------------\n"
     ]
    },
    {
     "name": "stdout",
     "output_type": "stream",
     "text": [
      "Epoch 20/50\n",
      "146/146 [==============================] - 7s 45ms/step - task_name:     NER     - loss: 1.8930 - accuracy: 0.8900 - val_loss: 9.9348 - val_accuracy: 0.8107\n"
     ]
    },
    {
     "name": "stderr",
     "output_type": "stream",
     "text": [
      "I:CUR_SPLIT:1:[sampler_mu:139]:----------------------------------------------------------------------------------------------------\n"
     ]
    },
    {
     "name": "stdout",
     "output_type": "stream",
     "text": [
      "Epoch 21/50\n",
      "146/146 [==============================] - 10s 72ms/step - task_name:     NER     - loss: 2.1126 - accuracy: 0.8803 - val_loss: 9.7202 - val_accuracy: 0.8083\n"
     ]
    },
    {
     "name": "stderr",
     "output_type": "stream",
     "text": [
      "I:CUR_SPLIT:1:[sampler_mu:139]:----------------------------------------------------------------------------------------------------\n"
     ]
    },
    {
     "name": "stdout",
     "output_type": "stream",
     "text": [
      "Epoch 22/50\n",
      "146/146 [==============================] - 10s 69ms/step - task_name:     NER     - loss: 2.9486 - accuracy: 0.8908 - val_loss: 9.9217 - val_accuracy: 0.8093\n"
     ]
    },
    {
     "name": "stderr",
     "output_type": "stream",
     "text": [
      "I:CUR_SPLIT:1:[sampler_mu:139]:----------------------------------------------------------------------------------------------------\n"
     ]
    },
    {
     "name": "stdout",
     "output_type": "stream",
     "text": [
      "Epoch 23/50\n",
      "140/146 [===========================>..] - ETA: 0s - task_name:     NER     - loss: 2.2875 - accuracy: 0.8917\n",
      "Epoch 00023: ReduceLROnPlateau reducing learning rate to 0.00016806999628897755.\n",
      "146/146 [==============================] - 9s 58ms/step - task_name:     NER     - loss: 2.3792 - accuracy: 0.8920 - val_loss: 9.8199 - val_accuracy: 0.8114\n"
     ]
    },
    {
     "name": "stderr",
     "output_type": "stream",
     "text": [
      "I:CUR_SPLIT:1:[sampler_mu:139]:----------------------------------------------------------------------------------------------------\n"
     ]
    },
    {
     "name": "stdout",
     "output_type": "stream",
     "text": [
      "Epoch 24/50\n",
      "146/146 [==============================] - 12s 83ms/step - task_name:     NER     - loss: 3.5654 - accuracy: 0.8912 - val_loss: 9.9731 - val_accuracy: 0.8091\n"
     ]
    },
    {
     "name": "stderr",
     "output_type": "stream",
     "text": [
      "I:CUR_SPLIT:1:[sampler_mu:139]:----------------------------------------------------------------------------------------------------\n"
     ]
    },
    {
     "name": "stdout",
     "output_type": "stream",
     "text": [
      "Epoch 25/50\n",
      "146/146 [==============================] - 8s 56ms/step - task_name:     NER     - loss: 2.1939 - accuracy: 0.8961 - val_loss: 9.8261 - val_accuracy: 0.8128\n"
     ]
    },
    {
     "name": "stderr",
     "output_type": "stream",
     "text": [
      "I:CUR_SPLIT:1:[sampler_mu:139]:----------------------------------------------------------------------------------------------------\n"
     ]
    },
    {
     "name": "stdout",
     "output_type": "stream",
     "text": [
      "Epoch 26/50\n",
      "145/146 [============================>.] - ETA: 0s - task_name:     NER     - loss: 2.5114 - accuracy: 0.8968\n",
      "Epoch 00026: ReduceLROnPlateau reducing learning rate to 0.00011764899536501615.\n",
      "146/146 [==============================] - 11s 72ms/step - task_name:     NER     - loss: 2.0723 - accuracy: 0.8968 - val_loss: 9.6350 - val_accuracy: 0.7997\n"
     ]
    },
    {
     "name": "stderr",
     "output_type": "stream",
     "text": [
      "I:CUR_SPLIT:1:[sampler_mu:139]:----------------------------------------------------------------------------------------------------\n"
     ]
    },
    {
     "name": "stdout",
     "output_type": "stream",
     "text": [
      "Epoch 27/50\n",
      "146/146 [==============================] - 9s 59ms/step - task_name:     NER     - loss: 2.3285 - accuracy: 0.8983 - val_loss: 9.6945 - val_accuracy: 0.8012\n"
     ]
    },
    {
     "name": "stderr",
     "output_type": "stream",
     "text": [
      "I:CUR_SPLIT:1:[sampler_mu:139]:----------------------------------------------------------------------------------------------------\n"
     ]
    },
    {
     "name": "stdout",
     "output_type": "stream",
     "text": [
      "Epoch 28/50\n",
      "146/146 [==============================] - 7s 51ms/step - task_name:     NER     - loss: 1.9445 - accuracy: 0.9031 - val_loss: 9.7814 - val_accuracy: 0.8112\n"
     ]
    },
    {
     "name": "stderr",
     "output_type": "stream",
     "text": [
      "I:CUR_SPLIT:1:[sampler_mu:139]:----------------------------------------------------------------------------------------------------\n"
     ]
    },
    {
     "name": "stdout",
     "output_type": "stream",
     "text": [
      "Epoch 29/50\n",
      "144/146 [============================>.] - ETA: 0s - task_name:     NER     - loss: 2.1117 - accuracy: 0.9028\n",
      "Epoch 00029: ReduceLROnPlateau reducing learning rate to 8.235429777414538e-05.\n",
      "146/146 [==============================] - 8s 56ms/step - task_name:     NER     - loss: 2.1160 - accuracy: 0.9028 - val_loss: 9.7169 - val_accuracy: 0.8129\n"
     ]
    },
    {
     "name": "stderr",
     "output_type": "stream",
     "text": [
      "I:CUR_SPLIT:1:[sampler_mu:139]:----------------------------------------------------------------------------------------------------\n"
     ]
    },
    {
     "name": "stdout",
     "output_type": "stream",
     "text": [
      "Epoch 30/50\n",
      "146/146 [==============================] - 9s 61ms/step - task_name:     NER     - loss: 2.3269 - accuracy: 0.9045 - val_loss: 9.6786 - val_accuracy: 0.8094\n"
     ]
    },
    {
     "name": "stderr",
     "output_type": "stream",
     "text": [
      "I:CUR_SPLIT:1:[sampler_mu:139]:----------------------------------------------------------------------------------------------------\n"
     ]
    },
    {
     "name": "stdout",
     "output_type": "stream",
     "text": [
      "Epoch 31/50\n",
      "146/146 [==============================] - 9s 61ms/step - task_name:     NER     - loss: 2.2828 - accuracy: 0.9051 - val_loss: 9.6692 - val_accuracy: 0.8116\n"
     ]
    },
    {
     "name": "stderr",
     "output_type": "stream",
     "text": [
      "I:CUR_SPLIT:1:[sampler_mu:139]:----------------------------------------------------------------------------------------------------\n"
     ]
    },
    {
     "name": "stdout",
     "output_type": "stream",
     "text": [
      "Epoch 32/50\n",
      "135/146 [==========================>...] - ETA: 0s - task_name:     NER     - loss: 2.1579 - accuracy: 0.9071\n",
      "Epoch 00032: ReduceLROnPlateau reducing learning rate to 5.76480058953166e-05.\n",
      "146/146 [==============================] - 8s 57ms/step - task_name:     NER     - loss: 2.0413 - accuracy: 0.9071 - val_loss: 9.6481 - val_accuracy: 0.8106\n"
     ]
    },
    {
     "name": "stderr",
     "output_type": "stream",
     "text": [
      "I:CUR_SPLIT:1:[sampler_mu:139]:----------------------------------------------------------------------------------------------------\n"
     ]
    },
    {
     "name": "stdout",
     "output_type": "stream",
     "text": [
      "Epoch 33/50\n",
      "146/146 [==============================] - 9s 59ms/step - task_name:     NER     - loss: 2.1177 - accuracy: 0.9068 - val_loss: 9.6654 - val_accuracy: 0.8104\n"
     ]
    },
    {
     "name": "stderr",
     "output_type": "stream",
     "text": [
      "I:CUR_SPLIT:1:[sampler_mu:139]:----------------------------------------------------------------------------------------------------\n"
     ]
    },
    {
     "name": "stdout",
     "output_type": "stream",
     "text": [
      "\n",
      "----------------------------------NER LABEL METRICS -----------------------------------\n",
      "\n",
      "epoch:labeling EPOCH accuracy 0.813090 precision: 0.372233, recall: 0.308333, f1: 0.337284\n",
      "\n",
      "           precision    recall  f1-score   support\n",
      "\n",
      "     ALLU     0.3722    0.3083    0.3373       600\n",
      "\n",
      "micro avg     0.3722    0.3083    0.3373       600\n",
      "macro avg     0.3722    0.3083    0.3373       600\n",
      "\n",
      "----------------------------------NER END ----------------------------------\n",
      "train_example:**************************************************\n",
      "x_seq:不 必 恋 恩 多 感 激 , 过 淮 应 合 见 征 黄 。\n",
      "y_pred:O O O O O O O O O O O O O B-ALLU I-ALLU O\n",
      "y_true:O O O O O O O O O O O O O B-ALLU I-ALLU O\n",
      "----------\n",
      "x_seq:终 悲 去 国 远 , 泪 尽 竹 林 前 。\n",
      "y_pred:O O O O O O O O B-ALLU I-ALLU O O\n",
      "y_true:O O O O O O O O B-ALLU I-ALLU O O\n",
      "----------\n",
      "x_seq:僻 居 城 南 隅 , 颜 子 须 泣 血 。\n",
      "y_pred:O O O O O O B-ALLU I-ALLU O O O O\n",
      "y_true:O O O O O O B-ALLU O O O O O\n",
      "----------\n",
      "x_seq:孟 坚 勒 燕 然 , 岂 独 在 汉 朝 。\n",
      "y_pred:O O O O O O O O O O O O\n",
      "y_true:O O B-ALLU I-ALLU O O O O O O O O\n",
      "----------\n",
      "x_seq:名 香 播 兰 蕙 , 重 价 蕴 琼 瑶 。\n",
      "y_pred:O O O I-ALLU I-ALLU O O O O O O O\n",
      "y_true:O O B-ALLU I-ALLU I-ALLU O O O O O O O\n",
      "----------\n",
      "x_seq:管 宁 纱 帽 净 , 江 令 锦 袍 鲜 。\n",
      "y_pred:O O O O O O B-ALLU I-ALLU I-ALLU I-ALLU O O\n",
      "y_true:O O O O O O B-ALLU I-ALLU I-ALLU I-ALLU O O\n",
      "----------\n",
      "x_seq:今 朝 麟 阁 上 , 偏 [UNK] 圣 情 多 。\n",
      "y_pred:O O B-ALLU I-ALLU O O O O O O O O\n",
      "y_true:O O B-ALLU I-ALLU O O O O O O O O\n",
      "----------\n",
      "x_seq:袁 公 论 剑 术 , 孙 子 叙 兵 篇 。\n",
      "y_pred:O O O O O O B-ALLU I-ALLU I-ALLU I-ALLU O O\n",
      "y_true:O O O O O O B-ALLU I-ALLU I-ALLU I-ALLU O O\n",
      "----------\n",
      "x_seq:季 鹰 久 疏 旷 , 叔 度 早 畴 昔 。\n",
      "y_pred:O O O O O O B-ALLU I-ALLU O O O O\n",
      "y_true:O O O O O O B-ALLU I-ALLU O O O O\n",
      "----------\n",
      "x_seq:泠 然 御 风 客 , 与 道 自 浮 沉 。\n",
      "y_pred:O O B-ALLU I-ALLU I-ALLU O O O O O O O\n",
      "y_true:O O B-ALLU I-ALLU I-ALLU O O O O O O O\n",
      "----------\n",
      "END:**************************************************\n",
      "test_example:**************************************************\n",
      "x_seq:都 缘 有 意 重 熏 [UNK] , 更 [UNK] 江 毫 上 玉 堂 。\n",
      "y_pred:O O O O O O O O O O B-ALLU I-ALLU I-ALLU I-ALLU I-ALLU O\n",
      "y_true:O O O O O O O O O O B-ALLU O O O O O\n",
      "----------\n",
      "x_seq:闻 道 金 陵 龙 虎 盘 , 还 同 谢 [UNK] 望 长 安 。\n",
      "y_pred:O O O O O O O O O O B-ALLU I-ALLU O O O O\n",
      "y_true:O O O O O O O O O O B-ALLU I-ALLU O O O O\n",
      "----------\n",
      "x_seq:蜀 笺 都 有 三 千 幅 , 总 写 离 情 寄 孟 光 。\n",
      "y_pred:O O O O O O O O O O O O O B-ALLU I-ALLU O\n",
      "y_true:O O O O O O O O O O O O O B-ALLU I-ALLU O\n",
      "----------\n",
      "x_seq:无 国 要 孟 子 , 有 人 毁 仲 尼 。\n",
      "y_pred:O O O O O O O O O O O O\n",
      "y_true:O O O O O O O O B-ALLU I-ALLU I-ALLU O\n",
      "----------\n",
      "x_seq:何 妨 成 五 色 , 永 愿 助 风 骚 。\n",
      "y_pred:O O O O O O O O O O O O\n",
      "y_true:O O O B-ALLU I-ALLU O O O O O O O\n",
      "----------\n",
      "x_seq:客 来 唯 劝 酒 , 蝴 蝶 是 前 身 。\n",
      "y_pred:O O O O O O B-ALLU I-ALLU O O O O\n",
      "y_true:O O O O O O B-ALLU I-ALLU O O O O\n",
      "----------\n",
      "x_seq:余 今 正 泣 杨 朱 泪 , 八 月 边 城 风 刮 地 。\n",
      "y_pred:O O O O B-ALLU I-ALLU O O O O O O O O O O\n",
      "y_true:O O O O B-ALLU I-ALLU I-ALLU O O O O O O O O O\n",
      "----------\n",
      "x_seq:炙 背 可 以 献 天 子 , 美 芹 由 来 知 野 人 。\n",
      "y_pred:O O O O O O O O O O O O O O O O\n",
      "y_true:O O O O B-ALLU I-ALLU I-ALLU I-ALLU I-ALLU I-ALLU O O O O O O\n",
      "----------\n",
      "x_seq:燕 臣 昔 恸 哭 , 五 月 飞 秋 霜 。\n",
      "y_pred:O O O O O O O O O O O O\n",
      "y_true:O O O O O O B-ALLU I-ALLU I-ALLU I-ALLU I-ALLU O\n",
      "----------\n",
      "x_seq:若 访 张 仲 蔚 , 衡 门 满 蒿 莱 。\n",
      "y_pred:O O B-ALLU I-ALLU I-ALLU I-ALLU B-ALLU O O O O O\n",
      "y_true:O O B-ALLU I-ALLU I-ALLU O O O O O O O\n",
      "----------\n",
      "END:**************************************************\n",
      "example:**************************************************\n",
      "x_seq:三 五 月 明 临 阚 泽 , 百 千 人 众 看 王 恭 。 [UNK] [PAD] [PAD] [PAD] [PAD] [PAD] [PAD] [PAD] [PAD] [PAD] [PAD] [PAD] [PAD]\n",
      "x_ALLU:阚 泽 , 字 德 润 , 会 稽 山 阴 人 也 。 家 世 农 夫 , 至 泽 好 学 , 居 贫 无 资 ,\n",
      "y_pred:[0.66771317]\n",
      "y_true:1\n",
      "----------\n",
      "x_seq:三 五 月 明 临 阚 泽 , 百 千 人 众 看 王 恭 。 [UNK] [PAD] [PAD] [PAD] [PAD] [PAD] [PAD] [PAD] [PAD] [PAD] [PAD] [PAD] [PAD]\n",
      "x_ALLU:叔 孙 氏 之 车 士 曰 子 曰 商 , 采 薪 于 大 野 , 获 麟 焉 , 折 其 前 左 足 , 载 以\n",
      "y_pred:[0.41486183]\n",
      "y_true:0\n",
      "----------\n",
      "x_seq:三 五 月 明 临 阚 泽 , 百 千 人 众 看 王 恭 。 [UNK] [PAD] [PAD] [PAD] [PAD] [PAD] [PAD] [PAD] [PAD] [PAD] [PAD] [PAD] [PAD]\n",
      "x_ALLU:永 平 十 七 年 , 冬 十 一 月 , 遣 奉 车 都 尉 窦 固 [UNK] [UNK] 出 敦 煌 昆 仑 塞 。 [UNK] [PAD]\n",
      "y_pred:[0.06479827]\n",
      "y_true:0\n",
      "----------\n",
      "x_seq:三 五 月 明 临 阚 泽 , 百 千 人 众 看 王 恭 。 [UNK] [PAD] [PAD] [PAD] [PAD] [PAD] [PAD] [PAD] [PAD] [PAD] [PAD] [PAD] [PAD]\n",
      "x_ALLU:后 又 征 诣 京 邑 , 为 筑 室 于 钟 山 西 岩 下 , 谓 之 招 隐 馆 , 使 为 皇 太 子 诸\n",
      "y_pred:[0.38318104]\n",
      "y_true:0\n",
      "----------\n",
      "x_seq:三 五 月 明 临 阚 泽 , 百 千 人 众 看 王 恭 。 [UNK] [PAD] [PAD] [PAD] [PAD] [PAD] [PAD] [PAD] [PAD] [PAD] [PAD] [PAD] [PAD]\n",
      "x_ALLU:谶 明 解 咒 术 , 所 向 皆 验 , 西 域 号 为 大 咒 师 。 后 随 王 入 山 , 王 渴 须 水\n",
      "y_pred:[0.19068938]\n",
      "y_true:0\n",
      "----------\n",
      "x_seq:三 五 月 明 临 阚 泽 , 百 千 人 众 看 王 恭 。 [UNK] [PAD] [PAD] [PAD] [PAD] [PAD] [PAD] [PAD] [PAD] [PAD] [PAD] [PAD] [PAD]\n",
      "x_ALLU:朱 丝 , 朱 弦 也 。 [UNK] [PAD] [PAD] [PAD] [PAD] [PAD] [PAD] [PAD] [PAD] [PAD] [PAD] [PAD] [PAD] [PAD] [PAD] [PAD] [PAD] [PAD] [PAD] [PAD] [PAD] [PAD]\n",
      "y_pred:[0.16495538]\n",
      "y_true:0\n",
      "----------\n",
      "x_seq:三 五 月 明 临 阚 泽 , 百 千 人 众 看 王 恭 。 [UNK] [PAD] [PAD] [PAD] [PAD] [PAD] [PAD] [PAD] [PAD] [PAD] [PAD] [PAD] [PAD]\n",
      "x_ALLU:河 津 一 名 龙 门 , 大 鱼 集 龙 门 下 数 千 , 不 得 上 。 上 者 为 龙 , 不 上 者 [UNK]\n",
      "y_pred:[0.26127642]\n",
      "y_true:0\n",
      "----------\n",
      "x_seq:三 五 月 明 临 阚 泽 , 百 千 人 众 看 王 恭 。 [UNK] [PAD] [PAD] [PAD] [PAD] [PAD] [PAD] [PAD] [PAD] [PAD] [PAD] [PAD] [PAD]\n",
      "x_ALLU:令 尹 子 兰 [UNK] [UNK] 使 上 官 大 夫 短 屈 原 于 顷 襄 王 , 顷 襄 王 怒 而 迁 之 。 屈 原\n",
      "y_pred:[0.8617456]\n",
      "y_true:0\n",
      "----------\n",
      "x_seq:三 五 月 明 临 阚 泽 , 百 千 人 众 看 王 恭 。 [UNK] [PAD] [PAD] [PAD] [PAD] [PAD] [PAD] [PAD] [PAD] [PAD] [PAD] [PAD] [PAD]\n",
      "x_ALLU:大 同 中 , 童 谣 曰 : [UNK] 青 丝 白 马 寿 阳 来 。 [UNK] 其 后 侯 景 破 丹 阳 , 乘 白 马\n",
      "y_pred:[0.05561316]\n",
      "y_true:0\n",
      "----------\n",
      "x_seq:三 五 月 明 临 阚 泽 , 百 千 人 众 看 王 恭 。 [UNK] [PAD] [PAD] [PAD] [PAD] [PAD] [PAD] [PAD] [PAD] [PAD] [PAD] [PAD] [PAD]\n",
      "x_ALLU:《 卷 耳 》 , 后 妃 之 志 也 。 又 当 辅 佐 君 子 , 求 贤 审 官 , 知 臣 下 之 勤 劳\n",
      "y_pred:[0.1346434]\n",
      "y_true:0\n",
      "----------\n",
      "x_seq:海 鲸 始 生 尾 , 试 摆 蓬 壶 涡 。 [UNK] [PAD] [PAD] [PAD] [PAD] [PAD] [PAD] [PAD] [PAD] [PAD] [PAD] [PAD] [PAD] [PAD] [PAD] [PAD] [PAD]\n",
      "x_ALLU:齐 人 徐 市 等 上 书 , 言 海 中 有 三 神 山 , 名 曰 蓬 莱 、 方 丈 、 瀛 洲 , 仙 人\n",
      "y_pred:[0.87556505]\n",
      "y_true:1\n",
      "----------\n",
      "x_seq:海 鲸 始 生 尾 , 试 摆 蓬 壶 涡 。 [UNK] [PAD] [PAD] [PAD] [PAD] [PAD] [PAD] [PAD] [PAD] [PAD] [PAD] [PAD] [PAD] [PAD] [PAD] [PAD] [PAD]\n",
      "x_ALLU:建 安 初 , 来 游 许 下 。 始 达 颍 川 , 乃 阴 怀 一 刺 , 既 而 无 所 之 适 , 至 于\n",
      "y_pred:[0.5325787]\n",
      "y_true:0\n",
      "----------\n",
      "x_seq:海 鲸 始 生 尾 , 试 摆 蓬 壶 涡 。 [UNK] [PAD] [PAD] [PAD] [PAD] [PAD] [PAD] [PAD] [PAD] [PAD] [PAD] [PAD] [PAD] [PAD] [PAD] [PAD] [PAD]\n",
      "x_ALLU:临 江 闵 王 荣 以 孝 景 前 四 年 为 皇 太 子 , 四 岁 废 为 临 江 王 。 三 岁 , 坐 侵\n",
      "y_pred:[0.353181]\n",
      "y_true:0\n",
      "----------\n",
      "x_seq:海 鲸 始 生 尾 , 试 摆 蓬 壶 涡 。 [UNK] [PAD] [PAD] [PAD] [PAD] [PAD] [PAD] [PAD] [PAD] [PAD] [PAD] [PAD] [PAD] [PAD] [PAD] [PAD] [PAD]\n",
      "x_ALLU:皙 与 司 业 畴 人 , 肄 修 乡 饮 之 礼 。 然 所 咏 之 诗 , 或 有 义 无 辞 , 音 乐 取\n",
      "y_pred:[0.3899646]\n",
      "y_true:0\n",
      "----------\n",
      "x_seq:海 鲸 始 生 尾 , 试 摆 蓬 壶 涡 。 [UNK] [PAD] [PAD] [PAD] [PAD] [PAD] [PAD] [PAD] [PAD] [PAD] [PAD] [PAD] [PAD] [PAD] [PAD] [PAD] [PAD]\n",
      "x_ALLU:执 鞭 珥 笔 , 出 从 华 盖 , 入 侍 辇 毂 。 [UNK] [PAD] [PAD] [PAD] [PAD] [PAD] [PAD] [PAD] [PAD] [PAD] [PAD] [PAD] [PAD] [PAD]\n",
      "y_pred:[0.62931144]\n",
      "y_true:0\n",
      "----------\n",
      "x_seq:海 鲸 始 生 尾 , 试 摆 蓬 壶 涡 。 [UNK] [PAD] [PAD] [PAD] [PAD] [PAD] [PAD] [PAD] [PAD] [PAD] [PAD] [PAD] [PAD] [PAD] [PAD] [PAD] [PAD]\n",
      "x_ALLU:( 殷 帝 辛 ) 九 年 , 王 师 伐 有 苏 , 获 妲 己 以 归 。 作 琼 室 , 立 玉 门 。 [UNK]\n",
      "y_pred:[0.34222478]\n",
      "y_true:0\n",
      "----------\n",
      "x_seq:海 鲸 始 生 尾 , 试 摆 蓬 壶 涡 。 [UNK] [PAD] [PAD] [PAD] [PAD] [PAD] [PAD] [PAD] [PAD] [PAD] [PAD] [PAD] [PAD] [PAD] [PAD] [PAD] [PAD]\n",
      "x_ALLU:宣 子 曰 : [UNK] 昔 [UNK] 之 祖 , 自 虞 以 上 , 为 陶 唐 氏 , 在 夏 为 御 龙 氏 , 在 商\n",
      "y_pred:[0.50321853]\n",
      "y_true:0\n",
      "----------\n",
      "x_seq:海 鲸 始 生 尾 , 试 摆 蓬 壶 涡 。 [UNK] [PAD] [PAD] [PAD] [PAD] [PAD] [PAD] [PAD] [PAD] [PAD] [PAD] [PAD] [PAD] [PAD] [PAD] [PAD] [PAD]\n",
      "x_ALLU:百 川 学 海 而 至 于 海 ; 丘 陵 学 山 而 不 至 于 山 。 [UNK] [PAD] [PAD] [PAD] [PAD] [PAD] [PAD] [PAD] [PAD] [PAD]\n",
      "y_pred:[0.36685884]\n",
      "y_true:0\n",
      "----------\n",
      "x_seq:海 鲸 始 生 尾 , 试 摆 蓬 壶 涡 。 [UNK] [PAD] [PAD] [PAD] [PAD] [PAD] [PAD] [PAD] [PAD] [PAD] [PAD] [PAD] [PAD] [PAD] [PAD] [PAD] [PAD]\n",
      "x_ALLU:缀 以 二 华 , 巨 灵 [UNK] [UNK] , 高 掌 远 [UNK] , 以 流 河 曲 , 厥 迹 犹 存 。 [UNK] [PAD] [PAD] [PAD]\n",
      "y_pred:[0.38132018]\n",
      "y_true:0\n",
      "----------\n",
      "x_seq:海 鲸 始 生 尾 , 试 摆 蓬 壶 涡 。 [UNK] [PAD] [PAD] [PAD] [PAD] [PAD] [PAD] [PAD] [PAD] [PAD] [PAD] [PAD] [PAD] [PAD] [PAD] [PAD] [PAD]\n",
      "x_ALLU:平 原 君 家 楼 临 民 家 。 民 家 有 [UNK] ( 瘸 腿 ) 者 , 槃 散 行 汲 。 平 原 君 美 人\n",
      "y_pred:[0.7043764]\n",
      "y_true:0\n",
      "----------\n",
      "x_seq:忆 戴 差 过 [UNK] , 游 仙 惯 入 壶 。 [UNK] [PAD] [PAD] [PAD] [PAD] [PAD] [PAD] [PAD] [PAD] [PAD] [PAD] [PAD] [PAD] [PAD] [PAD] [PAD] [PAD]\n",
      "x_ALLU:汝 南 费 长 房 从 仙 人 壶 公 入 深 山 学 道 , 后 长 房 辞 归 , 翁 与 一 竹 杖 , 曰\n",
      "y_pred:[0.7917155]\n",
      "y_true:1\n",
      "----------\n",
      "x_seq:忆 戴 差 过 [UNK] , 游 仙 惯 入 壶 。 [UNK] [PAD] [PAD] [PAD] [PAD] [PAD] [PAD] [PAD] [PAD] [PAD] [PAD] [PAD] [PAD] [PAD] [PAD] [PAD] [PAD]\n",
      "x_ALLU:孔 淳 之 字 彦 深 , 鲁 人 也 。 [UNK] [UNK] 性 好 山 水 , 每 有 所 游 , 必 穷 其 幽 峻 ,\n",
      "y_pred:[0.84775084]\n",
      "y_true:0\n",
      "----------\n",
      "x_seq:忆 戴 差 过 [UNK] , 游 仙 惯 入 壶 。 [UNK] [PAD] [PAD] [PAD] [PAD] [PAD] [PAD] [PAD] [PAD] [PAD] [PAD] [PAD] [PAD] [PAD] [PAD] [PAD] [PAD]\n",
      "x_ALLU:永 平 十 五 年 , 上 ( 汉 明 帝 ) 行 幸 诸 国 , 敕 [UNK] 车 驾 发 后 , 将 缇 骑 宿 玄\n",
      "y_pred:[0.21926126]\n",
      "y_true:0\n",
      "----------\n",
      "x_seq:忆 戴 差 过 [UNK] , 游 仙 惯 入 壶 。 [UNK] [PAD] [PAD] [PAD] [PAD] [PAD] [PAD] [PAD] [PAD] [PAD] [PAD] [PAD] [PAD] [PAD] [PAD] [PAD] [PAD]\n",
      "x_ALLU:桓 玄 尝 登 江 陵 城 南 楼 云 : [UNK] 我 今 欲 为 王 孝 伯 作 [UNK] 。 [UNK] 因 吟 啸 良 久 ,\n",
      "y_pred:[0.47229427]\n",
      "y_true:0\n",
      "----------\n",
      "x_seq:忆 戴 差 过 [UNK] , 游 仙 惯 入 壶 。 [UNK] [PAD] [PAD] [PAD] [PAD] [PAD] [PAD] [PAD] [PAD] [PAD] [PAD] [PAD] [PAD] [PAD] [PAD] [PAD] [PAD]\n",
      "x_ALLU:《 汉 官 仪 》 曰 : [UNK] 凡 章 表 皆 启 封 , 其 言 密 事 得 皂 囊 [UNK] 也 。 [UNK] [PAD] [PAD] [PAD]\n",
      "y_pred:[0.17362973]\n",
      "y_true:0\n",
      "----------\n",
      "x_seq:忆 戴 差 过 [UNK] , 游 仙 惯 入 壶 。 [UNK] [PAD] [PAD] [PAD] [PAD] [PAD] [PAD] [PAD] [PAD] [PAD] [PAD] [PAD] [PAD] [PAD] [PAD] [PAD] [PAD]\n",
      "x_ALLU:祖 , 始 也 。 龙 , 人 君 象 。 谓 始 皇 也 。 [UNK] [PAD] [PAD] [PAD] [PAD] [PAD] [PAD] [PAD] [PAD] [PAD] [PAD] [PAD] [PAD]\n",
      "y_pred:[0.2025907]\n",
      "y_true:0\n",
      "----------\n",
      "x_seq:忆 戴 差 过 [UNK] , 游 仙 惯 入 壶 。 [UNK] [PAD] [PAD] [PAD] [PAD] [PAD] [PAD] [PAD] [PAD] [PAD] [PAD] [PAD] [PAD] [PAD] [PAD] [PAD] [PAD]\n",
      "x_ALLU:若 夫 青 琴 宓 妃 之 徒 。 [UNK] [PAD] [PAD] [PAD] [PAD] [PAD] [PAD] [PAD] [PAD] [PAD] [PAD] [PAD] [PAD] [PAD] [PAD] [PAD] [PAD] [PAD] [PAD] [PAD]\n",
      "y_pred:[0.65577185]\n",
      "y_true:0\n",
      "----------\n",
      "x_seq:忆 戴 差 过 [UNK] , 游 仙 惯 入 壶 。 [UNK] [PAD] [PAD] [PAD] [PAD] [PAD] [PAD] [PAD] [PAD] [PAD] [PAD] [PAD] [PAD] [PAD] [PAD] [PAD] [PAD]\n",
      "x_ALLU:年 十 四 , 随 邑 人 行 贩 洛 阳 , 倚 啸 上 东 门 [UNK] , 王 衍 见 而 异 之 , 顾 谓 左\n",
      "y_pred:[0.46246058]\n",
      "y_true:0\n",
      "----------\n",
      "x_seq:忆 戴 差 过 [UNK] , 游 仙 惯 入 壶 。 [UNK] [PAD] [PAD] [PAD] [PAD] [PAD] [PAD] [PAD] [PAD] [PAD] [PAD] [PAD] [PAD] [PAD] [PAD] [PAD] [PAD]\n",
      "x_ALLU:帝 曰 : [UNK] 俞 , 允 若 兹 。 嘉 言 罔 攸 伏 , 野 无 遗 贤 , 万 邦 咸 宁 。 [UNK] [UNK] [PAD]\n",
      "y_pred:[0.16183469]\n",
      "y_true:0\n",
      "----------\n",
      "x_seq:忆 戴 差 过 [UNK] , 游 仙 惯 入 壶 。 [UNK] [PAD] [PAD] [PAD] [PAD] [PAD] [PAD] [PAD] [PAD] [PAD] [PAD] [PAD] [PAD] [PAD] [PAD] [PAD] [PAD]\n",
      "x_ALLU:又 西 百 八 十 里 , 曰 泰 器 之 山 。 观 水 出 焉 , 西 流 注 入 流 沙 。 是 多 文 [UNK]\n",
      "y_pred:[0.255117]\n",
      "y_true:0\n",
      "----------\n",
      "x_seq:词 客 题 桥 去 , 忠 臣 叱 驭 来 。 [UNK] [PAD] [PAD] [PAD] [PAD] [PAD] [PAD] [PAD] [PAD] [PAD] [PAD] [PAD] [PAD] [PAD] [PAD] [PAD] [PAD]\n",
      "x_ALLU:天 子 以 为 然 , 乃 拜 相 如 为 中 郎 将 , 建 节 往 使 。 [UNK] [UNK] 至 蜀 , 蜀 太 守 以\n",
      "y_pred:[0.5655111]\n",
      "y_true:1\n",
      "----------\n",
      "x_seq:词 客 题 桥 去 , 忠 臣 叱 驭 来 。 [UNK] [PAD] [PAD] [PAD] [PAD] [PAD] [PAD] [PAD] [PAD] [PAD] [PAD] [PAD] [PAD] [PAD] [PAD] [PAD] [PAD]\n",
      "x_ALLU:刘 伶 著 《 酒 德 颂 》 , 意 气 所 寄 。 [UNK] [PAD] [PAD] [PAD] [PAD] [PAD] [PAD] [PAD] [PAD] [PAD] [PAD] [PAD] [PAD] [PAD] [PAD]\n",
      "y_pred:[0.5358527]\n",
      "y_true:0\n",
      "----------\n",
      "x_seq:词 客 题 桥 去 , 忠 臣 叱 驭 来 。 [UNK] [PAD] [PAD] [PAD] [PAD] [PAD] [PAD] [PAD] [PAD] [PAD] [PAD] [PAD] [PAD] [PAD] [PAD] [PAD] [PAD]\n",
      "x_ALLU:黄 宪 字 叔 度 , 汝 南 慎 阳 人 也 。 世 贫 贱 , 父 为 牛 医 。 颍 川 荀 淑 至 慎 阳\n",
      "y_pred:[0.80293846]\n",
      "y_true:0\n",
      "----------\n",
      "x_seq:词 客 题 桥 去 , 忠 臣 叱 驭 来 。 [UNK] [PAD] [PAD] [PAD] [PAD] [PAD] [PAD] [PAD] [PAD] [PAD] [PAD] [PAD] [PAD] [PAD] [PAD] [PAD] [PAD]\n",
      "x_ALLU:王 谓 尹 氏 , 命 程 伯 休 父 。 [UNK] 左 右 陈 行 , 戒 我 师 旅 。 [UNK] 率 彼 淮 浦 , 省\n",
      "y_pred:[0.58364207]\n",
      "y_true:0\n",
      "----------\n",
      "x_seq:词 客 题 桥 去 , 忠 臣 叱 驭 来 。 [UNK] [PAD] [PAD] [PAD] [PAD] [PAD] [PAD] [PAD] [PAD] [PAD] [PAD] [PAD] [PAD] [PAD] [PAD] [PAD] [PAD]\n",
      "x_ALLU:禹 疏 九 河 , [UNK] 济 漯 而 注 诸 海 , 决 汝 汉 , 排 淮 泗 而 注 之 江 , 然 后 中 国\n",
      "y_pred:[0.5484141]\n",
      "y_true:0\n",
      "----------\n",
      "x_seq:词 客 题 桥 去 , 忠 臣 叱 驭 来 。 [UNK] [PAD] [PAD] [PAD] [PAD] [PAD] [PAD] [PAD] [PAD] [PAD] [PAD] [PAD] [PAD] [PAD] [PAD] [PAD] [PAD]\n",
      "x_ALLU:召 皇 太 后 御 小 马 车 。 [UNK] [PAD] [PAD] [PAD] [PAD] [PAD] [PAD] [PAD] [PAD] [PAD] [PAD] [PAD] [PAD] [PAD] [PAD] [PAD] [PAD] [PAD] [PAD] [PAD]\n",
      "y_pred:[0.39701673]\n",
      "y_true:0\n",
      "----------\n",
      "x_seq:词 客 题 桥 去 , 忠 臣 叱 驭 来 。 [UNK] [PAD] [PAD] [PAD] [PAD] [PAD] [PAD] [PAD] [PAD] [PAD] [PAD] [PAD] [PAD] [PAD] [PAD] [PAD] [PAD]\n",
      "x_ALLU:咸 任 达 不 拘 , 与 叔 父 籍 为 竹 林 之 游 , 当 世 礼 法 者 讥 其 所 为 。 [UNK] [PAD] [PAD]\n",
      "y_pred:[0.31448168]\n",
      "y_true:0\n",
      "----------\n",
      "x_seq:词 客 题 桥 去 , 忠 臣 叱 驭 来 。 [UNK] [PAD] [PAD] [PAD] [PAD] [PAD] [PAD] [PAD] [PAD] [PAD] [PAD] [PAD] [PAD] [PAD] [PAD] [PAD] [PAD]\n",
      "x_ALLU:始 皇 长 子 扶 苏 谏 曰 : [UNK] 天 下 初 定 , 远 方 黔 首 未 集 , 诸 生 皆 诵 法 孔 子\n",
      "y_pred:[0.38014013]\n",
      "y_true:0\n",
      "----------\n",
      "x_seq:词 客 题 桥 去 , 忠 臣 叱 驭 来 。 [UNK] [PAD] [PAD] [PAD] [PAD] [PAD] [PAD] [PAD] [PAD] [PAD] [PAD] [PAD] [PAD] [PAD] [PAD] [PAD] [PAD]\n",
      "x_ALLU:召 为 中 大 夫 。 以 数 切 谏 , 不 得 久 留 内 , 迁 为 东 海 太 守 [UNK] [UNK] 上 闻 , 召\n",
      "y_pred:[0.5932959]\n",
      "y_true:0\n",
      "----------\n",
      "x_seq:词 客 题 桥 去 , 忠 臣 叱 驭 来 。 [UNK] [PAD] [PAD] [PAD] [PAD] [PAD] [PAD] [PAD] [PAD] [PAD] [PAD] [PAD] [PAD] [PAD] [PAD] [PAD] [PAD]\n",
      "x_ALLU:皇 女 致 , 三 年 封 沁 水 公 主 , 适 高 密 侯 邓 乾 。 [UNK] [PAD] [PAD] [PAD] [PAD] [PAD] [PAD] [PAD] [PAD] [PAD]\n",
      "y_pred:[0.37805092]\n",
      "y_true:0\n",
      "----------\n",
      "x_seq:鼎 鱼 犹 假 息 , 穴 蚁 欲 何 逃 。 [UNK] [PAD] [PAD] [PAD] [PAD] [PAD] [PAD] [PAD] [PAD] [PAD] [PAD] [PAD] [PAD] [PAD] [PAD] [PAD] [PAD]\n",
      "x_ALLU:而 将 军 鱼 游 于 沸 鼎 之 中 , 燕 巢 于 飞 幕 之 上 , 不 亦 惑 乎 ! [UNK] [PAD] [PAD] [PAD] [PAD]\n",
      "y_pred:[0.3164959]\n",
      "y_true:1\n",
      "----------\n",
      "x_seq:鼎 鱼 犹 假 息 , 穴 蚁 欲 何 逃 。 [UNK] [PAD] [PAD] [PAD] [PAD] [PAD] [PAD] [PAD] [PAD] [PAD] [PAD] [PAD] [PAD] [PAD] [PAD] [PAD] [PAD]\n",
      "x_ALLU:阴 竹 之 管 , 龙 门 之 琴 瑟 。 [UNK] [PAD] [PAD] [PAD] [PAD] [PAD] [PAD] [PAD] [PAD] [PAD] [PAD] [PAD] [PAD] [PAD] [PAD] [PAD] [PAD] [PAD]\n",
      "y_pred:[0.71623385]\n",
      "y_true:0\n",
      "----------\n",
      "x_seq:鼎 鱼 犹 假 息 , 穴 蚁 欲 何 逃 。 [UNK] [PAD] [PAD] [PAD] [PAD] [PAD] [PAD] [PAD] [PAD] [PAD] [PAD] [PAD] [PAD] [PAD] [PAD] [PAD] [PAD]\n",
      "x_ALLU:初 , 吴 之 未 灭 也 , 斗 牛 之 间 常 有 紫 气 , [UNK] [UNK] 及 吴 平 之 后 , 紫 气 愈 明\n",
      "y_pred:[0.49640027]\n",
      "y_true:0\n",
      "----------\n",
      "x_seq:鼎 鱼 犹 假 息 , 穴 蚁 欲 何 逃 。 [UNK] [PAD] [PAD] [PAD] [PAD] [PAD] [PAD] [PAD] [PAD] [PAD] [PAD] [PAD] [PAD] [PAD] [PAD] [PAD] [PAD]\n",
      "x_ALLU:《 楚 辞 》 曰 : [UNK] 采 三 秀 于 山 间 。 [UNK] 王 逸 曰 : [UNK] 三 秀 , 谓 芝 草 也 。 [UNK]\n",
      "y_pred:[0.7891176]\n",
      "y_true:0\n",
      "----------\n",
      "x_seq:鼎 鱼 犹 假 息 , 穴 蚁 欲 何 逃 。 [UNK] [PAD] [PAD] [PAD] [PAD] [PAD] [PAD] [PAD] [PAD] [PAD] [PAD] [PAD] [PAD] [PAD] [PAD] [PAD] [PAD]\n",
      "x_ALLU:子 贡 曰 : [UNK] 有 美 玉 于 斯 , [UNK] [UNK] 而 藏 诸 ? 求 善 贾 而 沽 诸 ? [UNK] 子 曰 : [UNK]\n",
      "y_pred:[0.19647634]\n",
      "y_true:0\n",
      "----------\n",
      "x_seq:鼎 鱼 犹 假 息 , 穴 蚁 欲 何 逃 。 [UNK] [PAD] [PAD] [PAD] [PAD] [PAD] [PAD] [PAD] [PAD] [PAD] [PAD] [PAD] [PAD] [PAD] [PAD] [PAD] [PAD]\n",
      "x_ALLU:向 长 字 子 平 , 河 内 朝 歌 人 也 。 隐 居 不 仕 , 性 尚 中 和 , 好 通 《 老 》 、\n",
      "y_pred:[0.89165473]\n",
      "y_true:0\n",
      "----------\n",
      "x_seq:鼎 鱼 犹 假 息 , 穴 蚁 欲 何 逃 。 [UNK] [PAD] [PAD] [PAD] [PAD] [PAD] [PAD] [PAD] [PAD] [PAD] [PAD] [PAD] [PAD] [PAD] [PAD] [PAD] [PAD]\n",
      "x_ALLU:楷 少 与 琅 邪 王 戎 俱 为 [UNK] 发 名 , 钟 会 致 之 大 将 军 司 马 文 王 曰 : [UNK] 裴 楷\n",
      "y_pred:[0.8282656]\n",
      "y_true:0\n",
      "----------\n",
      "x_seq:鼎 鱼 犹 假 息 , 穴 蚁 欲 何 逃 。 [UNK] [PAD] [PAD] [PAD] [PAD] [PAD] [PAD] [PAD] [PAD] [PAD] [PAD] [PAD] [PAD] [PAD] [PAD] [PAD] [PAD]\n",
      "x_ALLU:机 天 才 秀 逸 , 辞 藻 宏 丽 , [UNK] [UNK] 弟 云 尝 与 书 曰 : [UNK] 君 苗 见 兄 文 , 辄 欲\n",
      "y_pred:[0.44896254]\n",
      "y_true:0\n",
      "----------\n",
      "x_seq:鼎 鱼 犹 假 息 , 穴 蚁 欲 何 逃 。 [UNK] [PAD] [PAD] [PAD] [PAD] [PAD] [PAD] [PAD] [PAD] [PAD] [PAD] [PAD] [PAD] [PAD] [PAD] [PAD] [PAD]\n",
      "x_ALLU:二 人 同 心 其 利 断 金 者 , 二 人 若 同 齐 其 心 , 其 [UNK] 利 能 断 截 于 金 , 金 是\n",
      "y_pred:[0.1431585]\n",
      "y_true:0\n",
      "----------\n",
      "x_seq:鼎 鱼 犹 假 息 , 穴 蚁 欲 何 逃 。 [UNK] [PAD] [PAD] [PAD] [PAD] [PAD] [PAD] [PAD] [PAD] [PAD] [PAD] [PAD] [PAD] [PAD] [PAD] [PAD] [PAD]\n",
      "x_ALLU:颜 阖 将 傅 卫 灵 公 太 子 , 而 问 于 [UNK] 伯 玉 [UNK] [UNK] 。 [UNK] 伯 玉 曰 : [UNK] [UNK] [UNK] 汝 不\n",
      "y_pred:[0.31601602]\n",
      "y_true:0\n",
      "----------\n",
      "x_seq:五 侯 初 买 笑 , 建 章 方 落 籍 。 [UNK] [PAD] [PAD] [PAD] [PAD] [PAD] [PAD] [PAD] [PAD] [PAD] [PAD] [PAD] [PAD] [PAD] [PAD] [PAD] [PAD]\n",
      "x_ALLU:河 平 二 年 , 上 悉 封 舅 谭 为 平 阿 侯 , 商 成 都 侯 , 立 红 阳 侯 , 根 曲 阳 侯\n",
      "y_pred:[0.47340003]\n",
      "y_true:1\n",
      "----------\n",
      "x_seq:五 侯 初 买 笑 , 建 章 方 落 籍 。 [UNK] [PAD] [PAD] [PAD] [PAD] [PAD] [PAD] [PAD] [PAD] [PAD] [PAD] [PAD] [PAD] [PAD] [PAD] [PAD] [PAD]\n",
      "x_ALLU:朝 发 襄 阳 城 , 暮 至 大 堤 宿 。 大 堤 诸 女 儿 , 花 艳 惊 郎 目 。 [UNK] [PAD] [PAD] [PAD] [PAD]\n",
      "y_pred:[0.4942824]\n",
      "y_true:0\n",
      "----------\n",
      "x_seq:五 侯 初 买 笑 , 建 章 方 落 籍 。 [UNK] [PAD] [PAD] [PAD] [PAD] [PAD] [PAD] [PAD] [PAD] [PAD] [PAD] [PAD] [PAD] [PAD] [PAD] [PAD] [PAD]\n",
      "x_ALLU:( 扬 雄 ) 又 怪 屈 原 文 过 相 如 , 至 不 容 , 作 《 离 骚 》 , 自 投 江 而 死 ,\n",
      "y_pred:[0.9569799]\n",
      "y_true:0\n",
      "----------\n",
      "x_seq:五 侯 初 买 笑 , 建 章 方 落 籍 。 [UNK] [PAD] [PAD] [PAD] [PAD] [PAD] [PAD] [PAD] [PAD] [PAD] [PAD] [PAD] [PAD] [PAD] [PAD] [PAD] [PAD]\n",
      "x_ALLU:月 中 有 兔 与 蟾 蜍 何 ? 月 , 阴 也 ; 蟾 蜍 , 阳 也 , 而 与 兔 并 明 , 阴 系 阳\n",
      "y_pred:[0.22340357]\n",
      "y_true:0\n",
      "----------\n",
      "x_seq:五 侯 初 买 笑 , 建 章 方 落 籍 。 [UNK] [PAD] [PAD] [PAD] [PAD] [PAD] [PAD] [PAD] [PAD] [PAD] [PAD] [PAD] [PAD] [PAD] [PAD] [PAD] [PAD]\n",
      "x_ALLU:言 行 草 中 , 使 草 偃 卧 , 故 云 横 草 也 。 [UNK] [PAD] [PAD] [PAD] [PAD] [PAD] [PAD] [PAD] [PAD] [PAD] [PAD] [PAD] [PAD]\n",
      "y_pred:[0.384803]\n",
      "y_true:0\n",
      "----------\n",
      "x_seq:五 侯 初 买 笑 , 建 章 方 落 籍 。 [UNK] [PAD] [PAD] [PAD] [PAD] [PAD] [PAD] [PAD] [PAD] [PAD] [PAD] [PAD] [PAD] [PAD] [PAD] [PAD] [PAD]\n",
      "x_ALLU:郭 解 , [UNK] 人 也 。 字 翁 伯 , 善 相 人 者 许 负 外 孙 也 。 解 父 以 任 侠 , 孝 文\n",
      "y_pred:[0.71956295]\n",
      "y_true:0\n",
      "----------\n",
      "x_seq:五 侯 初 买 笑 , 建 章 方 落 籍 。 [UNK] [PAD] [PAD] [PAD] [PAD] [PAD] [PAD] [PAD] [PAD] [PAD] [PAD] [PAD] [PAD] [PAD] [PAD] [PAD] [PAD]\n",
      "x_ALLU:崔 浩 云 : [UNK] 以 钧 制 器 万 殊 , 故 如 造 化 也 。 [UNK] [UNK] [PAD] [PAD] [PAD] [PAD] [PAD] [PAD] [PAD] [PAD] [PAD]\n",
      "y_pred:[0.29120338]\n",
      "y_true:0\n",
      "----------\n",
      "x_seq:五 侯 初 买 笑 , 建 章 方 落 籍 。 [UNK] [PAD] [PAD] [PAD] [PAD] [PAD] [PAD] [PAD] [PAD] [PAD] [PAD] [PAD] [PAD] [PAD] [PAD] [PAD] [PAD]\n",
      "x_ALLU:沛 公 攻 南 阳 , 乃 遇 ( 吴 ) 芮 之 将 梅 [UNK] , 与 偕 攻 析 、 郦 , 降 之 。 及 项\n",
      "y_pred:[0.37374288]\n",
      "y_true:0\n",
      "----------\n",
      "x_seq:五 侯 初 买 笑 , 建 章 方 落 籍 。 [UNK] [PAD] [PAD] [PAD] [PAD] [PAD] [PAD] [PAD] [PAD] [PAD] [PAD] [PAD] [PAD] [PAD] [PAD] [PAD] [PAD]\n",
      "x_ALLU:清 河 令 徐 季 龙 使 人 行 猎 , 令 [UNK] [UNK] 其 所 得 。 [UNK] [PAD] [PAD] [PAD] [PAD] [PAD] [PAD] [PAD] [PAD] [PAD] [PAD]\n",
      "y_pred:[0.3091069]\n",
      "y_true:0\n",
      "----------\n",
      "x_seq:五 侯 初 买 笑 , 建 章 方 落 籍 。 [UNK] [PAD] [PAD] [PAD] [PAD] [PAD] [PAD] [PAD] [PAD] [PAD] [PAD] [PAD] [PAD] [PAD] [PAD] [PAD] [PAD]\n",
      "x_ALLU:昔 高 阳 氏 有 才 子 八 人 [UNK] [UNK] 天 下 之 民 谓 之 [UNK] 八 恺 [UNK] 。 高 辛 氏 有 才 子 八\n",
      "y_pred:[0.77658254]\n",
      "y_true:0\n",
      "----------\n",
      "x_seq:李 膺 门 客 为 闲 客 , 梅 福 官 衔 改 旧 衔 。 [UNK] [PAD] [PAD] [PAD] [PAD] [PAD] [PAD] [PAD] [PAD] [PAD] [PAD] [PAD] [PAD]\n",
      "x_ALLU:年 四 十 , 县 召 补 吏 , 选 为 蒲 亭 长 。 劝 人 生 业 , 为 制 科 令 , 至 于 果 菜\n",
      "y_pred:[0.82470953]\n",
      "y_true:1\n",
      "----------\n",
      "x_seq:李 膺 门 客 为 闲 客 , 梅 福 官 衔 改 旧 衔 。 [UNK] [PAD] [PAD] [PAD] [PAD] [PAD] [PAD] [PAD] [PAD] [PAD] [PAD] [PAD] [PAD]\n",
      "x_ALLU:邓 攸 治 吴 , 在 郡 刑 政 清 明 , 百 姓 欢 悦 , 为 中 兴 良 守 。 后 称 疾 去 职 。\n",
      "y_pred:[0.7236874]\n",
      "y_true:0\n",
      "----------\n",
      "x_seq:李 膺 门 客 为 闲 客 , 梅 福 官 衔 改 旧 衔 。 [UNK] [PAD] [PAD] [PAD] [PAD] [PAD] [PAD] [PAD] [PAD] [PAD] [PAD] [PAD] [PAD]\n",
      "x_ALLU:七 子 均 养 者 , [UNK] 鸠 之 仁 也 。 [UNK] [PAD] [PAD] [PAD] [PAD] [PAD] [PAD] [PAD] [PAD] [PAD] [PAD] [PAD] [PAD] [PAD] [PAD] [PAD] [PAD]\n",
      "y_pred:[0.29295492]\n",
      "y_true:0\n",
      "----------\n",
      "x_seq:李 膺 门 客 为 闲 客 , 梅 福 官 衔 改 旧 衔 。 [UNK] [PAD] [PAD] [PAD] [PAD] [PAD] [PAD] [PAD] [PAD] [PAD] [PAD] [PAD] [PAD]\n",
      "x_ALLU:鲁 元 公 主 墓 在 咸 阳 县 西 北 二 十 五 里 , 次 东 有 张 敖 冢 , 与 公 主 同 域 。\n",
      "y_pred:[0.4291196]\n",
      "y_true:0\n",
      "----------\n",
      "END:**************************************************\n",
      "array([[0.66771317, 0.41486183, 0.06479827, 0.38318104, 0.19068938,\n",
      "        0.16495538, 0.26127642, 0.8617456 , 0.05561316, 0.1346434 ],\n",
      "       [0.87556505, 0.5325787 , 0.353181  , 0.3899646 , 0.62931144,\n",
      "        0.34222478, 0.50321853, 0.36685884, 0.38132018, 0.7043764 ],\n",
      "       [0.7917155 , 0.84775084, 0.21926126, 0.47229427, 0.17362973,\n",
      "        0.2025907 , 0.65577185, 0.46246058, 0.16183469, 0.255117  ],\n",
      "       [0.5655111 , 0.5358527 , 0.80293846, 0.58364207, 0.5484141 ,\n",
      "        0.39701673, 0.31448168, 0.38014013, 0.5932959 , 0.37805092],\n",
      "       [0.3164959 , 0.71623385, 0.49640027, 0.7891176 , 0.19647634,\n",
      "        0.89165473, 0.8282656 , 0.44896254, 0.1431585 , 0.31601602],\n",
      "       [0.47340003, 0.4942824 , 0.9569799 , 0.22340357, 0.384803  ,\n",
      "        0.71956295, 0.29120338, 0.37374288, 0.3091069 , 0.77658254],\n",
      "       [0.82470953, 0.7236874 , 0.29295492, 0.4291196 , 0.3428762 ,\n",
      "        0.38199684, 0.37325838, 0.41744354, 0.26195908, 0.3348736 ],\n",
      "       [0.9455407 , 0.23348594, 0.04621038, 0.3736984 , 0.1841344 ,\n",
      "        0.46812513, 0.20983067, 0.62504274, 0.06271681, 0.10678056],\n",
      "       [0.19830292, 0.32324183, 0.2952618 , 0.2897274 , 0.2570539 ,\n",
      "        0.17222676, 0.16968402, 0.25772053, 0.37823772, 0.36190376],\n",
      "       [0.8445007 , 0.05534798, 0.02245992, 0.116842  , 0.07304469,\n",
      "        0.2690362 , 0.05237386, 0.35826665, 0.08711767, 0.33099592]],\n",
      "      dtype=float32)\n",
      "array([7, 0, 1, 3, 6, 4, 5, 9, 2, 8])\n",
      "[0, 1, 0, 0, 0, 0, 0, 0, 0, 0]\n",
      "array([0, 9, 4, 1, 6, 3, 8, 7, 2, 5])\n",
      "[1, 0, 0, 0, 0, 0, 0, 0, 0, 0]\n",
      "array([1, 0, 6, 3, 7, 9, 2, 5, 4, 8])\n",
      "[0, 1, 0, 0, 0, 0, 0, 0, 0, 0]\n",
      "array([2, 8, 3, 0, 4, 1, 5, 7, 9, 6])\n",
      "[0, 0, 0, 1, 0, 0, 0, 0, 0, 0]\n",
      "array([5, 6, 3, 1, 2, 7, 0, 9, 4, 8])\n",
      "[0, 0, 0, 0, 0, 0, 1, 0, 0, 0]\n",
      "array([2, 9, 5, 1, 0, 4, 7, 8, 6, 3])\n",
      "[0, 0, 0, 0, 1, 0, 0, 0, 0, 0]\n",
      "array([0, 1, 3, 7, 5, 6, 4, 9, 2, 8])\n",
      "[1, 0, 0, 0, 0, 0, 0, 0, 0, 0]\n",
      "array([0, 7, 5, 3, 1, 6, 4, 9, 8, 2])\n",
      "[1, 0, 0, 0, 0, 0, 0, 0, 0, 0]\n",
      "array([8, 9, 1, 2, 3, 7, 4, 0, 5, 6])\n",
      "[0, 0, 0, 0, 0, 0, 0, 1, 0, 0]\n",
      "array([0, 7, 9, 5, 3, 8, 4, 1, 6, 2])\n",
      "[1, 0, 0, 0, 0, 0, 0, 0, 0, 0]\n",
      "\n",
      "----------------------------------ALLU_SOURCE PAIRMATCH METRICS -----------------------------------\n",
      "\n",
      "epoch:PAIRMATCH AVG_RANKING MRR: 0.5289\n",
      "\n",
      "----------------------------------ALLU_SOURCE END ----------------------------------\n",
      "\n",
      "----------------------------------ALLU_CLASS CLASS METRICS -----------------------------------\n",
      "\n",
      "              precision    recall  f1-score   support\n",
      "    accuracy                         0.3820       534\n",
      "   macro avg     0.3827    0.3172    0.3235       534\n",
      "weighted avg     0.3843    0.3820    0.3663       534\n",
      "\n",
      "\n",
      "epoch:classification EPOCH accuracy: 0.38202247191011235 precision: 0.382748, recall: 0.317218, f1: 0.323489\n",
      "\n",
      "-----------------------------ALLU_CLASS END ----------------------------\n",
      "train_example:**************************************************\n",
      "x_seq:几 时 逢 雁 足 ， 著 处 断 猿 肠 。 [UNK] [PAD] [PAD] [PAD] [PAD] [PAD] [PAD] [PAD] [PAD] [PAD] [PAD] [PAD] [PAD] [PAD] [PAD] [PAD] [PAD]\n",
      "y_pred:人事部\n",
      "y_true:人事部\n",
      "----------\n",
      "x_seq:文 如 翻 水 成 ， 赋 作 叉 手 速 。 [UNK] [PAD] [PAD] [PAD] [PAD] [PAD] [PAD] [PAD] [PAD] [PAD] [PAD] [PAD] [PAD] [PAD] [PAD] [PAD] [PAD]\n",
      "y_pred:文明部\n",
      "y_true:文明部\n",
      "----------\n",
      "x_seq:既 欣 东 日 户 ， 复 咏 南 风 篇 。 [UNK] [PAD] [PAD] [PAD] [PAD] [PAD] [PAD] [PAD] [PAD] [PAD] [PAD] [PAD] [PAD] [PAD] [PAD] [PAD] [PAD]\n",
      "y_pred:文明部\n",
      "y_true:文明部\n",
      "----------\n",
      "x_seq:猿 鹤 幻 化 那 忍 论 ， 我 为 剪 纸 招 忠 魂 。 [UNK] [PAD] [PAD] [PAD] [PAD] [PAD] [PAD] [PAD] [PAD] [PAD] [PAD] [PAD] [PAD]\n",
      "y_pred:人事部\n",
      "y_true:武备部\n",
      "----------\n",
      "x_seq:功 名 堕 [UNK] 谁 能 问 ， 羞 作 饥 鹰 夜 掣 [UNK] 。 [UNK] [PAD] [PAD] [PAD] [PAD] [PAD] [PAD] [PAD] [PAD] [PAD] [PAD] [PAD] [PAD]\n",
      "y_pred:人事部\n",
      "y_true:器用部\n",
      "----------\n",
      "x_seq:汉 庭 文 采 有 相 如 ， 天 子 通 宵 爱 子 虚 。 [UNK] [PAD] [PAD] [PAD] [PAD] [PAD] [PAD] [PAD] [PAD] [PAD] [PAD] [PAD] [PAD]\n",
      "y_pred:人物部\n",
      "y_true:人物部\n",
      "----------\n",
      "x_seq:穷 巷 悄 然 车 马 绝 ， 案 头 干 死 读 书 萤 。 [UNK] [PAD] [PAD] [PAD] [PAD] [PAD] [PAD] [PAD] [PAD] [PAD] [PAD] [PAD] [PAD]\n",
      "y_pred:器用部\n",
      "y_true:动物部\n",
      "----------\n",
      "x_seq:青 牛 游 华 岳 ， 赤 马 走 吴 官 。 [UNK] [PAD] [PAD] [PAD] [PAD] [PAD] [PAD] [PAD] [PAD] [PAD] [PAD] [PAD] [PAD] [PAD] [PAD] [PAD] [PAD]\n",
      "y_pred:动物部\n",
      "y_true:动物部\n",
      "----------\n",
      "x_seq:甚 欲 去 为 汤 饼 客 ， 惟 愁 错 写 弄 獐 书 。 [UNK] [PAD] [PAD] [PAD] [PAD] [PAD] [PAD] [PAD] [PAD] [PAD] [PAD] [PAD] [PAD]\n",
      "y_pred:文明部\n",
      "y_true:文明部\n",
      "----------\n",
      "x_seq:陶 潜 政 事 千 杯 酒 ， 张 翰 生 涯 一 叶 舟 。 [UNK] [PAD] [PAD] [PAD] [PAD] [PAD] [PAD] [PAD] [PAD] [PAD] [PAD] [PAD] [PAD]\n",
      "y_pred:器用部\n",
      "y_true:人事部\n",
      "----------\n",
      "END:**************************************************\n",
      "test_example:**************************************************\n",
      "x_seq:黄 鸟 作 悲 诗 ， 至 今 声 不 亏 。 [UNK] [PAD] [PAD] [PAD] [PAD] [PAD] [PAD] [PAD] [PAD] [PAD] [PAD] [PAD] [PAD] [PAD] [PAD] [PAD] [PAD]\n",
      "y_pred:文明部\n",
      "y_true:文明部\n",
      "----------\n",
      "x_seq:莫 笑 冯 唐 老 ， 还 来 谒 圣 君 。 [UNK] [PAD] [PAD] [PAD] [PAD] [PAD] [PAD] [PAD] [PAD] [PAD] [PAD] [PAD] [PAD] [PAD] [PAD] [PAD] [PAD]\n",
      "y_pred:人物部\n",
      "y_true:人事部\n",
      "----------\n",
      "x_seq:凿 壁 年 虽 异 ， 穿 杨 志 幸 同 。 [UNK] [PAD] [PAD] [PAD] [PAD] [PAD] [PAD] [PAD] [PAD] [PAD] [PAD] [PAD] [PAD] [PAD] [PAD] [PAD] [PAD]\n",
      "y_pred:人事部\n",
      "y_true:器用部\n",
      "----------\n",
      "x_seq:敢 援 齐 相 狐 裘 例 ， 尚 可 随 身 十 五 年 。 [UNK] [PAD] [PAD] [PAD] [PAD] [PAD] [PAD] [PAD] [PAD] [PAD] [PAD] [PAD] [PAD]\n",
      "y_pred:器用部\n",
      "y_true:人事部\n",
      "----------\n",
      "x_seq:彭 尸 不 得 去 ， 罡 骑 无 行 色 。 [UNK] [PAD] [PAD] [PAD] [PAD] [PAD] [PAD] [PAD] [PAD] [PAD] [PAD] [PAD] [PAD] [PAD] [PAD] [PAD] [PAD]\n",
      "y_pred:人物部\n",
      "y_true:九流部\n",
      "----------\n",
      "x_seq:五 柳 先 生 本 在 山 ， 偶 然 为 客 落 人 间 。 [UNK] [PAD] [PAD] [PAD] [PAD] [PAD] [PAD] [PAD] [PAD] [PAD] [PAD] [PAD] [PAD]\n",
      "y_pred:人物部\n",
      "y_true:人物部\n",
      "----------\n",
      "x_seq:相 马 知 何 限 ， 登 龙 反 自 疑 。 [UNK] [PAD] [PAD] [PAD] [PAD] [PAD] [PAD] [PAD] [PAD] [PAD] [PAD] [PAD] [PAD] [PAD] [PAD] [PAD] [PAD]\n",
      "y_pred:动物部\n",
      "y_true:政事部\n",
      "----------\n",
      "x_seq:一 丛 黄 菊 地 ， 九 日 白 衣 人 。 [UNK] [PAD] [PAD] [PAD] [PAD] [PAD] [PAD] [PAD] [PAD] [PAD] [PAD] [PAD] [PAD] [PAD] [PAD] [PAD] [PAD]\n",
      "y_pred:植物部\n",
      "y_true:天文部\n",
      "----------\n",
      "x_seq:仍 闻 吐 握 延 儒 素 ， 犹 恐 民 疵 未 尽 知 。 [UNK] [PAD] [PAD] [PAD] [PAD] [PAD] [PAD] [PAD] [PAD] [PAD] [PAD] [PAD] [PAD]\n",
      "y_pred:政事部\n",
      "y_true:政事部\n",
      "----------\n",
      "x_seq:昔 为 扬 子 宅 ， 今 是 李 膺 门 。 [UNK] [PAD] [PAD] [PAD] [PAD] [PAD] [PAD] [PAD] [PAD] [PAD] [PAD] [PAD] [PAD] [PAD] [PAD] [PAD] [PAD]\n",
      "y_pred:器用部\n",
      "y_true:器用部\n",
      "----------\n",
      "END:**************************************************\n",
      "\n",
      "----------------------------------READABILITY CLASS METRICS -----------------------------------\n",
      "\n",
      "              precision    recall  f1-score   support\n",
      "    accuracy                         0.6527       383\n",
      "   macro avg     0.6729    0.6665    0.6682       383\n",
      "weighted avg     0.6522    0.6527    0.6506       383\n",
      "\n",
      "\n",
      "epoch:classification EPOCH accuracy: 0.6527415143603134 precision: 0.672936, recall: 0.666460, f1: 0.668218\n",
      "\n",
      "-----------------------------READABILITY END ----------------------------\n"
     ]
    },
    {
     "name": "stderr",
     "output_type": "stream",
     "text": [
      "I:SAMPLE_TRAINER:[sampler_mu: 43]:cur_split_idx 1th END\n",
      "I:SAMPLE_TRAINER:[sampler_mu: 44]:****************************************************************************************************\n",
      "I:SAMPLE_TRAINER:[sampler_mu: 45]:****************************************************************************************************\n"
     ]
    },
    {
     "name": "stdout",
     "output_type": "stream",
     "text": [
      "train_example:**************************************************\n",
      "x_seq:我 来 竟 何 事 ， 高 卧 沙 丘 城 。 城 边 有 古 树 ， 日 夕 连 秋 声 。 鲁 酒 不 可 醉\n",
      "y_pred:2\n",
      "y_true:1\n",
      "----------\n",
      "x_seq:深 闺 春 色 劳 思 想 ， 恨 共 春 芜 长 。 黄 鹂 娇 [UNK] 泥 芳 妍 ， 杏 枝 如 画 倚 轻 烟\n",
      "y_pred:2\n",
      "y_true:2\n",
      "----------\n",
      "x_seq:天 门 开 ， [UNK] 荡 荡 ， 穆 并 骋 ， 以 临 飨 。 光 夜 烛 ， 德 信 著 ， 灵 浸 鸿 ， 长\n",
      "y_pred:3\n",
      "y_true:3\n",
      "----------\n",
      "x_seq:伯 兮 [UNK] 兮 ， 邦 之 桀 兮 。 伯 也 执 [UNK] ， 为 王 前 驱 。 自 伯 之 东 ， 首 如 飞 蓬\n",
      "y_pred:3\n",
      "y_true:3\n",
      "----------\n",
      "x_seq:寂 历 秋 江 渔 火 稀 ， 起 看 残 月 映 林 微 。 波 光 水 鸟 惊 犹 宿 ， 露 冷 流 萤 湿\n",
      "y_pred:1\n",
      "y_true:1\n",
      "----------\n",
      "x_seq:耕 犁 千 亩 实 千 箱 ， 力 尽 筋 疲 谁 复 伤 ？ 但 得 众 生 皆 得 饱 ， 不 辞 羸 病 卧\n",
      "y_pred:1\n",
      "y_true:1\n",
      "----------\n",
      "x_seq:月 晕 天 风 雾 不 开 ， 海 鲸 东 蹙 百 川 回 。 惊 波 一 起 三 山 动 ， 公 无 渡 河 归\n",
      "y_pred:1\n",
      "y_true:1\n",
      "----------\n",
      "x_seq:战 城 南 ， 死 郭 北 ， 野 死 不 葬 乌 可 食 。 为 我 谓 乌 ： 且 为 客 豪 ！ 野 死 谅\n",
      "y_pred:2\n",
      "y_true:2\n",
      "----------\n",
      "x_seq:十 日 画 一 水 ， 五 日 画 一 石 。 能 事 不 受 相 促 迫 ， 王 宰 始 肯 留 真 迹 。 壮\n",
      "y_pred:2\n",
      "y_true:2\n",
      "----------\n",
      "x_seq:出 其 东 门 ， 有 女 如 云 。 虽 则 如 云 ， 匪 我 思 存 。 [UNK] 衣 綦 巾 ， 聊 乐 我 员\n",
      "y_pred:3\n",
      "y_true:3\n",
      "----------\n",
      "END:**************************************************\n",
      "test_example:**************************************************\n",
      "x_seq:八 月 湖 水 平 ， 涵 虚 混 太 清 。 气 蒸 云 梦 泽 ， 波 撼 岳 阳 城 。 欲 济 无 舟 楫\n",
      "y_pred:1\n",
      "y_true:2\n",
      "----------\n",
      "x_seq:田 家 少 闲 月 ， 五 月 人 倍 忙 。 夜 来 南 风 起 ， 小 麦 覆 陇 黄 。 妇 姑 荷 [UNK] 食\n",
      "y_pred:1\n",
      "y_true:1\n",
      "----------\n",
      "x_seq:台 城 六 代 竞 豪 华 ， 结 绮 临 春 事 最 奢 。 万 户 千 门 成 野 草 ， 只 缘 一 曲 后\n",
      "y_pred:1\n",
      "y_true:1\n",
      "----------\n",
      "x_seq:初 八 月 ， 半 镜 上 青 霄 。 斜 倚 画 阑 娇 不 语 ， 暗 移 梅 影 过 红 桥 ， 裙 带 北\n",
      "y_pred:1\n",
      "y_true:2\n",
      "----------\n",
      "x_seq:有 客 有 客 ， 爰 来 宦 止 。 秉 直 司 聪 ， 惠 于 百 里 。 [UNK] 胜 如 归 ， 聆 善 若 始\n",
      "y_pred:3\n",
      "y_true:3\n",
      "----------\n",
      "x_seq:习 习 谷 风 ， 维 风 及 雨 。 将 恐 将 惧 ， 维 予 与 女 。 将 安 将 乐 ， 女 转 弃 予\n",
      "y_pred:3\n",
      "y_true:3\n",
      "----------\n",
      "x_seq:采 薇 采 薇 ， 薇 亦 作 止 。 曰 归 曰 归 ， 岁 亦 莫 止 。 靡 室 靡 家 ， [UNK] [UNK] 之 故\n",
      "y_pred:3\n",
      "y_true:3\n",
      "----------\n",
      "x_seq:羔 裘 豹 祛 ， 自 我 人 居 居 。 岂 无 他 人 ？ 维 子 之 故 。 羔 裘 豹 [UNK] ， 自 我 人\n",
      "y_pred:3\n",
      "y_true:3\n",
      "----------\n",
      "x_seq:金 锁 重 门 荒 苑 静 ， 绮 窗 愁 对 秋 空 。 翠 华 一 去 寂 无 踪 。 玉 楼 歌 吹 ， 声\n",
      "y_pred:2\n",
      "y_true:1\n",
      "----------\n",
      "x_seq:梦 后 楼 台 高 锁 ， 酒 醒 帘 幕 低 垂 。 去 年 春 恨 却 来 时 。 落 花 人 独 立 ， 微\n",
      "y_pred:1\n",
      "y_true:2\n",
      "----------\n",
      "END:**************************************************\n"
     ]
    },
    {
     "name": "stderr",
     "output_type": "stream",
     "text": [
      "I:BASE TASK:[base_task.:270]:Task NER:\n",
      "I:BASE TASK:[base_task.:271]:\t32 training batches\n",
      "I:BASE TASK:[base_task.:272]:\t6 validation batches\n",
      "I:BASE TASK:[base_task.:273]:\t10 test batches\n",
      "I:BASE TASK:[base_task.:270]:Task ALLU_CLASS:\n",
      "I:BASE TASK:[base_task.:271]:\t29 training batches\n",
      "I:BASE TASK:[base_task.:272]:\t6 validation batches\n",
      "I:BASE TASK:[base_task.:273]:\t9 test batches\n",
      "I:BASE TASK:[base_task.:270]:Task READABILITY:\n",
      "I:BASE TASK:[base_task.:271]:\t21 training batches\n",
      "I:BASE TASK:[base_task.:272]:\t4 validation batches\n",
      "I:BASE TASK:[base_task.:273]:\t6 test batches\n",
      "I:BASE TASK:[base_task.:270]:Task ALLU_SOURCE:\n",
      "I:BASE TASK:[base_task.:271]:\t64 training batches\n",
      "I:BASE TASK:[base_task.:272]:\t12 validation batches\n",
      "I:BASE TASK:[base_task.:273]:\t94 test batches\n",
      "I:BERT EMBEDDING:[bert_embed:105]:seq_len:30\n",
      "I:BERT EMBEDDING:[bert_embed:105]:seq_len:30\n",
      "I:AHMTL MODEL:[AHMTL.py:126]:Multi-Task Learning Model has been instantiated.\n",
      "I:CUR_SPLIT:2:[sampler_mu: 92]:Set up ready. Begining training/validation.\n",
      "I:BASE-MODEL:[base_model:133]:NER's model_dir is ./model_ckpt/2020-02-04-01_18_48/2/NER-Naive_CRF_Model\n",
      "I:BASE-MODEL:[base_model:232]:[NER]:train info:Train on 2040 samples, validate on 360 samples\n",
      "I:BASE-MODEL:[base_model:133]:ALLU_SOURCE's model_dir is ./model_ckpt/2020-02-04-01_18_48/2/ALLU_SOURCE-NaiveDenseModel\n",
      "I:BASE-MODEL:[base_model:232]:[ALLU_SOURCE]:train info:Train on 4080 samples, validate on 720 samples\n",
      "I:BASE-MODEL:[base_model:133]:ALLU_CLASS's model_dir is ./model_ckpt/2020-02-04-01_18_48/2/ALLU_CLASS-NaiveDenseModel\n",
      "I:BASE-MODEL:[base_model:232]:[ALLU_CLASS]:train info:Train on 1813 samples, validate on 321 samples\n",
      "I:BASE-MODEL:[base_model:133]:READABILITY's model_dir is ./model_ckpt/2020-02-04-01_18_48/2/READABILITY-NaiveDenseModel\n",
      "I:BASE-MODEL:[base_model:232]:[READABILITY]:train info:Train on 1301 samples, validate on 230 samples\n"
     ]
    },
    {
     "name": "stdout",
     "output_type": "stream",
     "text": [
      "Epoch 1/50\n",
      "146/146 [==============================] - 269s 2s/step - task_name:     NER     - loss: 10.5041 - accuracy: 0.7696 - val_loss: 16.1329 - val_accuracy: 0.7286\n",
      "146/146 [==============================] - 269s 2s/step - task_name: ALLU_SOURCE - loss: 0.6011 - accuracy: 0.5436 - val_loss: 0.7076 - val_accuracy: 0.5964  \n",
      "146/146 [==============================] - 269s 2s/step - task_name: ALLU_CLASS  - loss: 2.6704 - accuracy: 0.2675 - val_loss: 2.4992 - val_accuracy: 0.3151\n",
      "146/146 [==============================] - 269s 2s/step - task_name: READABILITY - loss: 1.0458 - accuracy: 0.6163 - val_loss: 0.8421 - val_accuracy: 0.6562\n"
     ]
    },
    {
     "name": "stderr",
     "output_type": "stream",
     "text": [
      "I:CUR_SPLIT:2:[sampler_mu:139]:----------------------------------------------------------------------------------------------------\n"
     ]
    },
    {
     "name": "stdout",
     "output_type": "stream",
     "text": [
      "Epoch 2/50\n",
      "146/146 [==============================] - 126s 860ms/step - task_name:     NER     - loss: 7.7062 - accuracy: 0.8018 - val_loss: 15.6539 - val_accuracy: 0.7389\n",
      "146/146 [==============================] - 126s 860ms/step - task_name: ALLU_SOURCE - loss: 0.6599 - accuracy: 0.6212 - val_loss: 0.6810 - val_accuracy: 0.6146 \n",
      "146/146 [==============================] - 126s 860ms/step - task_name: ALLU_CLASS  - loss: 1.7949 - accuracy: 0.4001 - val_loss: 2.3773 - val_accuracy: 0.3203\n",
      "146/146 [==============================] - 126s 860ms/step - task_name: READABILITY - loss: 0.6823 - accuracy: 0.7031 - val_loss: 0.8025 - val_accuracy: 0.6875\n"
     ]
    },
    {
     "name": "stderr",
     "output_type": "stream",
     "text": [
      "I:CUR_SPLIT:2:[sampler_mu:139]:----------------------------------------------------------------------------------------------------\n"
     ]
    },
    {
     "name": "stdout",
     "output_type": "stream",
     "text": [
      "Epoch 3/50\n",
      "146/146 [==============================] - 52s 356ms/step - task_name:     NER     - loss: 9.1270 - accuracy: 0.8058 - val_loss: 15.3074 - val_accuracy: 0.7335\n",
      "146/146 [==============================] - 52s 356ms/step - task_name: ALLU_SOURCE - loss: 0.5036 - accuracy: 0.6156 - val_loss: 0.6814 - val_accuracy: 0.6289 \n",
      "146/146 [==============================] - 52s 356ms/step - task_name: ALLU_CLASS  - loss: 1.6544 - accuracy: 0.4672 - val_loss: 2.3483 - val_accuracy: 0.3411\n",
      "146/146 [==============================] - 52s 356ms/step - task_name: READABILITY - loss: 0.7414 - accuracy: 0.7428 - val_loss: 0.9091 - val_accuracy: 0.6328\n"
     ]
    },
    {
     "name": "stderr",
     "output_type": "stream",
     "text": [
      "I:CUR_SPLIT:2:[sampler_mu:139]:----------------------------------------------------------------------------------------------------\n"
     ]
    },
    {
     "name": "stdout",
     "output_type": "stream",
     "text": [
      "Epoch 4/50\n",
      "146/146 [==============================] - 67s 460ms/step - task_name:     NER     - loss: 7.0755 - accuracy: 0.8143 - val_loss: 14.8354 - val_accuracy: 0.7512\n",
      "146/146 [==============================] - 67s 460ms/step - task_name: ALLU_SOURCE - loss: 0.5976 - accuracy: 0.6802 - val_loss: 0.6721 - val_accuracy: 0.6185 \n",
      "146/146 [==============================] - 67s 460ms/step - task_name: ALLU_CLASS  - loss: 1.2317 - accuracy: 0.5181 - val_loss: 2.3516 - val_accuracy: 0.3411\n",
      "146/146 [==============================] - 67s 460ms/step - task_name: READABILITY - loss: 0.6165 - accuracy: 0.7734 - val_loss: 0.9370 - val_accuracy: 0.6289\n"
     ]
    },
    {
     "name": "stderr",
     "output_type": "stream",
     "text": [
      "I:CUR_SPLIT:2:[sampler_mu:139]:----------------------------------------------------------------------------------------------------\n"
     ]
    },
    {
     "name": "stdout",
     "output_type": "stream",
     "text": [
      "Epoch 5/50\n",
      "146/146 [==============================] - 49s 334ms/step - task_name:     NER     - loss: 4.9846 - accuracy: 0.8192 - val_loss: 14.6319 - val_accuracy: 0.7457\n",
      "146/146 [==============================] - 49s 335ms/step - task_name: ALLU_SOURCE - loss: 0.7309 - accuracy: 0.7158 - val_loss: 0.6746 - val_accuracy: 0.6758 \n",
      "146/146 [==============================] - 49s 335ms/step - task_name: ALLU_CLASS  - loss: 0.7375 - accuracy: 0.5919 - val_loss: 2.3414 - val_accuracy: 0.3646\n",
      "146/146 [==============================] - 49s 335ms/step - task_name: READABILITY - loss: 0.4576 - accuracy: 0.8102 - val_loss: 0.9895 - val_accuracy: 0.6289\n"
     ]
    },
    {
     "name": "stderr",
     "output_type": "stream",
     "text": [
      "I:CUR_SPLIT:2:[sampler_mu:139]:----------------------------------------------------------------------------------------------------\n"
     ]
    },
    {
     "name": "stdout",
     "output_type": "stream",
     "text": [
      "Epoch 6/50\n",
      "145/146 [============================>.] - ETA: 0s - task_name:     NER     - loss: 7.3068 - accuracy: 0.8227\n",
      "Epoch 00006: ReduceLROnPlateau reducing learning rate to 0.0007000000332482159.\n",
      "146/146 [==============================] - 44s 298ms/step - task_name:     NER     - loss: 6.3246 - accuracy: 0.8225 - val_loss: 14.3270 - val_accuracy: 0.7433\n",
      "146/146 [==============================] - 44s 299ms/step - task_name: ALLU_SOURCE - loss: 0.5562 - accuracy: 0.7538 - val_loss: 0.6920 - val_accuracy: 0.6654 \n",
      "146/146 [==============================] - 44s 299ms/step - task_name: ALLU_CLASS  - loss: 0.9270 - accuracy: 0.6189 - val_loss: 2.4615 - val_accuracy: 0.3568\n",
      "146/146 [==============================] - 44s 299ms/step - task_name: READABILITY - loss: 0.4341 - accuracy: 0.8467 - val_loss: 1.0235 - val_accuracy: 0.6445\n"
     ]
    },
    {
     "name": "stderr",
     "output_type": "stream",
     "text": [
      "I:CUR_SPLIT:2:[sampler_mu:139]:----------------------------------------------------------------------------------------------------\n"
     ]
    },
    {
     "name": "stdout",
     "output_type": "stream",
     "text": [
      "Epoch 7/50\n",
      "146/146 [==============================] - 43s 296ms/step - task_name:     NER     - loss: 4.7992 - accuracy: 0.8253 - val_loss: 14.0464 - val_accuracy: 0.8016\n",
      "146/146 [==============================] - 43s 296ms/step - task_name: ALLU_SOURCE - loss: 0.4870 - accuracy: 0.7863 - val_loss: 0.7229 - val_accuracy: 0.6510 \n",
      "146/146 [==============================] - 43s 296ms/step - task_name: ALLU_CLASS  - loss: 1.2502 - accuracy: 0.6692 - val_loss: 2.5226 - val_accuracy: 0.3281\n",
      "146/146 [==============================] - 43s 296ms/step - task_name: READABILITY - loss: 0.3293 - accuracy: 0.8403 - val_loss: 1.0062 - val_accuracy: 0.6211\n"
     ]
    },
    {
     "name": "stderr",
     "output_type": "stream",
     "text": [
      "I:CUR_SPLIT:2:[sampler_mu:139]:----------------------------------------------------------------------------------------------------\n"
     ]
    },
    {
     "name": "stdout",
     "output_type": "stream",
     "text": [
      "Epoch 8/50\n",
      "146/146 [==============================] - 44s 302ms/step - task_name:     NER     - loss: 6.4707 - accuracy: 0.8376 - val_loss: 13.5065 - val_accuracy: 0.8179\n",
      "146/146 [==============================] - 44s 302ms/step - task_name: ALLU_SOURCE - loss: 0.4464 - accuracy: 0.8055 - val_loss: 0.7378 - val_accuracy: 0.6510 \n",
      "146/146 [==============================] - 44s 302ms/step - task_name: ALLU_CLASS  - loss: 0.6779 - accuracy: 0.7031 - val_loss: 2.7266 - val_accuracy: 0.3438\n",
      "146/146 [==============================] - 44s 302ms/step - task_name: READABILITY - loss: 0.3615 - accuracy: 0.8542 - val_loss: 1.0627 - val_accuracy: 0.6367\n"
     ]
    },
    {
     "name": "stderr",
     "output_type": "stream",
     "text": [
      "I:CUR_SPLIT:2:[sampler_mu:139]:----------------------------------------------------------------------------------------------------\n"
     ]
    },
    {
     "name": "stdout",
     "output_type": "stream",
     "text": [
      "Epoch 9/50\n",
      "146/146 [==============================] - 45s 306ms/step - task_name:     NER     - loss: 4.1284 - accuracy: 0.8356 - val_loss: 13.2862 - val_accuracy: 0.8123\n",
      "146/146 [==============================] - 45s 306ms/step - task_name: ALLU_SOURCE - loss: 0.4402 - accuracy: 0.8248 - val_loss: 0.7980 - val_accuracy: 0.6393 \n",
      "146/146 [==============================] - 45s 306ms/step - task_name: ALLU_CLASS  - loss: 0.9837 - accuracy: 0.7287 - val_loss: 2.7639 - val_accuracy: 0.3203\n",
      "146/146 [==============================] - 45s 306ms/step - task_name: READABILITY - loss: 0.3093 - accuracy: 0.8725 - val_loss: 1.0037 - val_accuracy: 0.6641\n"
     ]
    },
    {
     "name": "stderr",
     "output_type": "stream",
     "text": [
      "I:CUR_SPLIT:2:[sampler_mu:139]:----------------------------------------------------------------------------------------------------\n"
     ]
    },
    {
     "name": "stdout",
     "output_type": "stream",
     "text": [
      "Epoch 10/50\n",
      "146/146 [==============================] - 38s 264ms/step - task_name:     NER     - loss: 5.2957 - accuracy: 0.8353 - val_loss: 13.1647 - val_accuracy: 0.8061\n",
      "146/146 [==============================] - 38s 264ms/step - task_name: ALLU_SOURCE - loss: 0.3470 - accuracy: 0.8435 - val_loss: 0.8209 - val_accuracy: 0.6510 \n",
      "146/146 [==============================] - 39s 264ms/step - task_name: ALLU_CLASS  - loss: 0.9914 - accuracy: 0.7202 - val_loss: 2.5827 - val_accuracy: 0.3464\n"
     ]
    },
    {
     "name": "stderr",
     "output_type": "stream",
     "text": [
      "I:CUR_SPLIT:2:[sampler_mu:139]:----------------------------------------------------------------------------------------------------\n"
     ]
    },
    {
     "name": "stdout",
     "output_type": "stream",
     "text": [
      "Epoch 11/50\n",
      "146/146 [==============================] - 40s 271ms/step - task_name:     NER     - loss: 5.9974 - accuracy: 0.8433 - val_loss: 12.8651 - val_accuracy: 0.8052\n",
      "146/146 [==============================] - 40s 271ms/step - task_name: ALLU_SOURCE - loss: 0.3679 - accuracy: 0.8435 - val_loss: 0.8771 - val_accuracy: 0.6237 \n",
      "146/146 [==============================] - 40s 271ms/step - task_name: ALLU_CLASS  - loss: 0.5862 - accuracy: 0.7792 - val_loss: 2.7300 - val_accuracy: 0.3177\n"
     ]
    },
    {
     "name": "stderr",
     "output_type": "stream",
     "text": [
      "I:CUR_SPLIT:2:[sampler_mu:139]:----------------------------------------------------------------------------------------------------\n"
     ]
    },
    {
     "name": "stdout",
     "output_type": "stream",
     "text": [
      "Epoch 12/50\n",
      "146/146 [==============================] - 17s 116ms/step - task_name:     NER     - loss: 4.0823 - accuracy: 0.8498 - val_loss: 12.7098 - val_accuracy: 0.8023\n",
      "146/146 [==============================] - 17s 116ms/step - task_name: ALLU_CLASS  - loss: 0.7453 - accuracy: 0.8097 - val_loss: 2.8053 - val_accuracy: 0.3177 \n"
     ]
    },
    {
     "name": "stderr",
     "output_type": "stream",
     "text": [
      "I:CUR_SPLIT:2:[sampler_mu:139]:----------------------------------------------------------------------------------------------------\n"
     ]
    },
    {
     "name": "stdout",
     "output_type": "stream",
     "text": [
      "Epoch 13/50\n",
      "146/146 [==============================] - 12s 83ms/step - task_name:     NER     - loss: 5.4432 - accuracy: 0.8554 - val_loss: 12.3672 - val_accuracy: 0.8086\n"
     ]
    },
    {
     "name": "stderr",
     "output_type": "stream",
     "text": [
      "I:CUR_SPLIT:2:[sampler_mu:139]:----------------------------------------------------------------------------------------------------\n"
     ]
    },
    {
     "name": "stdout",
     "output_type": "stream",
     "text": [
      "Epoch 14/50\n",
      "146/146 [==============================] - 11s 79ms/step - task_name:     NER     - loss: 4.8423 - accuracy: 0.8599 - val_loss: 12.1012 - val_accuracy: 0.8001\n"
     ]
    },
    {
     "name": "stderr",
     "output_type": "stream",
     "text": [
      "I:CUR_SPLIT:2:[sampler_mu:139]:----------------------------------------------------------------------------------------------------\n"
     ]
    },
    {
     "name": "stdout",
     "output_type": "stream",
     "text": [
      "Epoch 15/50\n",
      "143/146 [============================>.] - ETA: 0s - task_name:     NER     - loss: 4.1229 - accuracy: 0.8706\n",
      "Epoch 00015: ReduceLROnPlateau reducing learning rate to 0.0007000000332482159.\n",
      "146/146 [==============================] - 11s 77ms/step - task_name:     NER     - loss: 4.4158 - accuracy: 0.8706 - val_loss: 11.8751 - val_accuracy: 0.8228\n"
     ]
    },
    {
     "name": "stderr",
     "output_type": "stream",
     "text": [
      "I:CUR_SPLIT:2:[sampler_mu:139]:----------------------------------------------------------------------------------------------------\n"
     ]
    },
    {
     "name": "stdout",
     "output_type": "stream",
     "text": [
      "Epoch 16/50\n",
      "146/146 [==============================] - 11s 76ms/step - task_name:     NER     - loss: 4.0031 - accuracy: 0.8800 - val_loss: 11.7252 - val_accuracy: 0.8209\n"
     ]
    },
    {
     "name": "stderr",
     "output_type": "stream",
     "text": [
      "I:CUR_SPLIT:2:[sampler_mu:139]:----------------------------------------------------------------------------------------------------\n"
     ]
    },
    {
     "name": "stdout",
     "output_type": "stream",
     "text": [
      "Epoch 17/50\n",
      "146/146 [==============================] - 11s 76ms/step - task_name:     NER     - loss: 3.8426 - accuracy: 0.8836 - val_loss: 11.5447 - val_accuracy: 0.8241\n"
     ]
    },
    {
     "name": "stderr",
     "output_type": "stream",
     "text": [
      "I:CUR_SPLIT:2:[sampler_mu:139]:----------------------------------------------------------------------------------------------------\n"
     ]
    },
    {
     "name": "stdout",
     "output_type": "stream",
     "text": [
      "Epoch 18/50\n",
      "146/146 [==============================] - 9s 61ms/step - task_name:     NER     - loss: 2.6577 - accuracy: 0.8885 - val_loss: 11.5145 - val_accuracy: 0.8187\n"
     ]
    },
    {
     "name": "stderr",
     "output_type": "stream",
     "text": [
      "I:CUR_SPLIT:2:[sampler_mu:139]:----------------------------------------------------------------------------------------------------\n"
     ]
    },
    {
     "name": "stdout",
     "output_type": "stream",
     "text": [
      "Epoch 19/50\n",
      "146/146 [==============================] - 10s 68ms/step - task_name:     NER     - loss: 3.0351 - accuracy: 0.8926 - val_loss: 11.4050 - val_accuracy: 0.8155\n"
     ]
    },
    {
     "name": "stderr",
     "output_type": "stream",
     "text": [
      "I:CUR_SPLIT:2:[sampler_mu:139]:----------------------------------------------------------------------------------------------------\n"
     ]
    },
    {
     "name": "stdout",
     "output_type": "stream",
     "text": [
      "Epoch 20/50\n",
      "146/146 [==============================] - 13s 88ms/step - task_name:     NER     - loss: 4.1455 - accuracy: 0.9008 - val_loss: 11.2428 - val_accuracy: 0.8193\n"
     ]
    },
    {
     "name": "stderr",
     "output_type": "stream",
     "text": [
      "I:CUR_SPLIT:2:[sampler_mu:139]:----------------------------------------------------------------------------------------------------\n"
     ]
    },
    {
     "name": "stdout",
     "output_type": "stream",
     "text": [
      "Epoch 21/50\n",
      "145/146 [============================>.] - ETA: 0s - task_name:     NER     - loss: 2.8753 - accuracy: 0.9044\n",
      "Epoch 00021: ReduceLROnPlateau reducing learning rate to 0.0004900000232737511.\n",
      "146/146 [==============================] - 12s 82ms/step - task_name:     NER     - loss: 3.7093 - accuracy: 0.9044 - val_loss: 11.0419 - val_accuracy: 0.8199\n"
     ]
    },
    {
     "name": "stderr",
     "output_type": "stream",
     "text": [
      "I:CUR_SPLIT:2:[sampler_mu:139]:----------------------------------------------------------------------------------------------------\n"
     ]
    },
    {
     "name": "stdout",
     "output_type": "stream",
     "text": [
      "Epoch 22/50\n",
      "146/146 [==============================] - 10s 66ms/step - task_name:     NER     - loss: 2.3879 - accuracy: 0.9103 - val_loss: 11.0328 - val_accuracy: 0.8152\n"
     ]
    },
    {
     "name": "stderr",
     "output_type": "stream",
     "text": [
      "I:CUR_SPLIT:2:[sampler_mu:139]:----------------------------------------------------------------------------------------------------\n"
     ]
    },
    {
     "name": "stdout",
     "output_type": "stream",
     "text": [
      "Epoch 23/50\n",
      "146/146 [==============================] - 10s 66ms/step - task_name:     NER     - loss: 2.5332 - accuracy: 0.9105 - val_loss: 10.8981 - val_accuracy: 0.8203\n"
     ]
    },
    {
     "name": "stderr",
     "output_type": "stream",
     "text": [
      "I:CUR_SPLIT:2:[sampler_mu:139]:----------------------------------------------------------------------------------------------------\n"
     ]
    },
    {
     "name": "stdout",
     "output_type": "stream",
     "text": [
      "Epoch 24/50\n",
      "146/146 [==============================] - 11s 73ms/step - task_name:     NER     - loss: 2.8035 - accuracy: 0.9165 - val_loss: 10.8687 - val_accuracy: 0.8227\n"
     ]
    },
    {
     "name": "stderr",
     "output_type": "stream",
     "text": [
      "I:CUR_SPLIT:2:[sampler_mu:139]:----------------------------------------------------------------------------------------------------\n"
     ]
    },
    {
     "name": "stdout",
     "output_type": "stream",
     "text": [
      "Epoch 25/50\n",
      "145/146 [============================>.] - ETA: 0s - task_name:     NER     - loss: 2.9621 - accuracy: 0.9212\n",
      "Epoch 00025: ReduceLROnPlateau reducing learning rate to 0.00034300000406801696.\n",
      "146/146 [==============================] - 11s 73ms/step - task_name:     NER     - loss: 2.7090 - accuracy: 0.9212 - val_loss: 10.8446 - val_accuracy: 0.8257\n"
     ]
    },
    {
     "name": "stderr",
     "output_type": "stream",
     "text": [
      "I:CUR_SPLIT:2:[sampler_mu:139]:----------------------------------------------------------------------------------------------------\n"
     ]
    },
    {
     "name": "stdout",
     "output_type": "stream",
     "text": [
      "Epoch 26/50\n",
      "146/146 [==============================] - 11s 73ms/step - task_name:     NER     - loss: 2.6149 - accuracy: 0.9245 - val_loss: 10.7729 - val_accuracy: 0.8252\n"
     ]
    },
    {
     "name": "stderr",
     "output_type": "stream",
     "text": [
      "I:CUR_SPLIT:2:[sampler_mu:139]:----------------------------------------------------------------------------------------------------\n"
     ]
    },
    {
     "name": "stdout",
     "output_type": "stream",
     "text": [
      "Epoch 27/50\n",
      "146/146 [==============================] - 12s 82ms/step - task_name:     NER     - loss: 3.0370 - accuracy: 0.9217 - val_loss: 10.7089 - val_accuracy: 0.8184\n"
     ]
    },
    {
     "name": "stderr",
     "output_type": "stream",
     "text": [
      "I:CUR_SPLIT:2:[sampler_mu:139]:----------------------------------------------------------------------------------------------------\n"
     ]
    },
    {
     "name": "stdout",
     "output_type": "stream",
     "text": [
      "Epoch 28/50\n",
      "139/146 [===========================>..] - ETA: 0s - task_name:     NER     - loss: 2.3503 - accuracy: 0.9316\n",
      "Epoch 00028: ReduceLROnPlateau reducing learning rate to 0.00024009999469853935.\n",
      "146/146 [==============================] - 13s 88ms/step - task_name:     NER     - loss: 3.2450 - accuracy: 0.9316 - val_loss: 10.6673 - val_accuracy: 0.8231\n"
     ]
    },
    {
     "name": "stderr",
     "output_type": "stream",
     "text": [
      "I:CUR_SPLIT:2:[sampler_mu:139]:----------------------------------------------------------------------------------------------------\n"
     ]
    },
    {
     "name": "stdout",
     "output_type": "stream",
     "text": [
      "Epoch 29/50\n",
      "146/146 [==============================] - 10s 68ms/step - task_name:     NER     - loss: 2.0502 - accuracy: 0.9329 - val_loss: 10.6437 - val_accuracy: 0.8101\n"
     ]
    },
    {
     "name": "stderr",
     "output_type": "stream",
     "text": [
      "I:CUR_SPLIT:2:[sampler_mu:139]:----------------------------------------------------------------------------------------------------\n"
     ]
    },
    {
     "name": "stdout",
     "output_type": "stream",
     "text": [
      "Epoch 30/50\n",
      "146/146 [==============================] - 9s 62ms/step - task_name:     NER     - loss: 1.7945 - accuracy: 0.9375 - val_loss: 10.6166 - val_accuracy: 0.8169\n"
     ]
    },
    {
     "name": "stderr",
     "output_type": "stream",
     "text": [
      "I:CUR_SPLIT:2:[sampler_mu:139]:----------------------------------------------------------------------------------------------------\n"
     ]
    },
    {
     "name": "stdout",
     "output_type": "stream",
     "text": [
      "Epoch 31/50\n",
      "146/146 [==============================] - 10s 69ms/step - task_name:     NER     - loss: 2.1460 - accuracy: 0.9345 - val_loss: 10.5411 - val_accuracy: 0.8124\n"
     ]
    },
    {
     "name": "stderr",
     "output_type": "stream",
     "text": [
      "I:CUR_SPLIT:2:[sampler_mu:139]:----------------------------------------------------------------------------------------------------\n"
     ]
    },
    {
     "name": "stdout",
     "output_type": "stream",
     "text": [
      "Epoch 32/50\n",
      "146/146 [==============================] - 9s 65ms/step - task_name:     NER     - loss: 2.6686 - accuracy: 0.9391 - val_loss: 10.5444 - val_accuracy: 0.8171\n"
     ]
    },
    {
     "name": "stderr",
     "output_type": "stream",
     "text": [
      "I:CUR_SPLIT:2:[sampler_mu:139]:----------------------------------------------------------------------------------------------------\n"
     ]
    },
    {
     "name": "stdout",
     "output_type": "stream",
     "text": [
      "Epoch 33/50\n",
      "145/146 [============================>.] - ETA: 0s - task_name:     NER     - loss: 2.0808 - accuracy: 0.9373\n",
      "Epoch 00033: ReduceLROnPlateau reducing learning rate to 0.00016806999628897755.\n",
      "146/146 [==============================] - 10s 67ms/step - task_name:     NER     - loss: 1.8552 - accuracy: 0.9373 - val_loss: 10.4382 - val_accuracy: 0.8139\n"
     ]
    },
    {
     "name": "stderr",
     "output_type": "stream",
     "text": [
      "I:CUR_SPLIT:2:[sampler_mu:139]:----------------------------------------------------------------------------------------------------\n"
     ]
    },
    {
     "name": "stdout",
     "output_type": "stream",
     "text": [
      "Epoch 34/50\n",
      "146/146 [==============================] - 8s 55ms/step - task_name:     NER     - loss: 2.1764 - accuracy: 0.9416 - val_loss: 10.4411 - val_accuracy: 0.8085\n"
     ]
    },
    {
     "name": "stderr",
     "output_type": "stream",
     "text": [
      "I:CUR_SPLIT:2:[sampler_mu:139]:----------------------------------------------------------------------------------------------------\n"
     ]
    },
    {
     "name": "stdout",
     "output_type": "stream",
     "text": [
      "Epoch 35/50\n",
      "146/146 [==============================] - 10s 68ms/step - task_name:     NER     - loss: 2.7236 - accuracy: 0.9417 - val_loss: 10.4774 - val_accuracy: 0.8169\n"
     ]
    },
    {
     "name": "stderr",
     "output_type": "stream",
     "text": [
      "I:CUR_SPLIT:2:[sampler_mu:139]:----------------------------------------------------------------------------------------------------\n"
     ]
    },
    {
     "name": "stdout",
     "output_type": "stream",
     "text": [
      "Epoch 36/50\n",
      "144/146 [============================>.] - ETA: 0s - task_name:     NER     - loss: 1.9387 - accuracy: 0.9398\n",
      "Epoch 00036: ReduceLROnPlateau reducing learning rate to 0.00011764899536501615.\n",
      "146/146 [==============================] - 10s 72ms/step - task_name:     NER     - loss: 2.0746 - accuracy: 0.9398 - val_loss: 10.4109 - val_accuracy: 0.8141\n"
     ]
    },
    {
     "name": "stderr",
     "output_type": "stream",
     "text": [
      "I:CUR_SPLIT:2:[sampler_mu:139]:----------------------------------------------------------------------------------------------------\n"
     ]
    },
    {
     "name": "stdout",
     "output_type": "stream",
     "text": [
      "Epoch 37/50\n",
      "146/146 [==============================] - 9s 65ms/step - task_name:     NER     - loss: 1.7359 - accuracy: 0.9446 - val_loss: 10.3756 - val_accuracy: 0.8132\n"
     ]
    },
    {
     "name": "stderr",
     "output_type": "stream",
     "text": [
      "I:CUR_SPLIT:2:[sampler_mu:139]:----------------------------------------------------------------------------------------------------\n"
     ]
    },
    {
     "name": "stdout",
     "output_type": "stream",
     "text": [
      "Epoch 38/50\n",
      "146/146 [==============================] - 12s 79ms/step - task_name:     NER     - loss: 2.2485 - accuracy: 0.9473 - val_loss: 10.3721 - val_accuracy: 0.8094\n"
     ]
    },
    {
     "name": "stderr",
     "output_type": "stream",
     "text": [
      "I:CUR_SPLIT:2:[sampler_mu:139]:----------------------------------------------------------------------------------------------------\n"
     ]
    },
    {
     "name": "stdout",
     "output_type": "stream",
     "text": [
      "Epoch 39/50\n",
      "146/146 [==============================] - 7s 47ms/step - task_name:     NER     - loss: 1.6435 - accuracy: 0.9494 - val_loss: 10.3882 - val_accuracy: 0.8126\n"
     ]
    },
    {
     "name": "stderr",
     "output_type": "stream",
     "text": [
      "I:CUR_SPLIT:2:[sampler_mu:139]:----------------------------------------------------------------------------------------------------\n"
     ]
    },
    {
     "name": "stdout",
     "output_type": "stream",
     "text": [
      "Epoch 40/50\n",
      "146/146 [==============================] - 13s 89ms/step - task_name:     NER     - loss: 2.5771 - accuracy: 0.9494 - val_loss: 10.3048 - val_accuracy: 0.8125\n"
     ]
    },
    {
     "name": "stderr",
     "output_type": "stream",
     "text": [
      "I:CUR_SPLIT:2:[sampler_mu:139]:----------------------------------------------------------------------------------------------------\n"
     ]
    },
    {
     "name": "stdout",
     "output_type": "stream",
     "text": [
      "Epoch 41/50\n",
      "146/146 [==============================] - 7s 46ms/step - task_name:     NER     - loss: 1.6173 - accuracy: 0.9497 - val_loss: 10.3400 - val_accuracy: 0.8143\n"
     ]
    },
    {
     "name": "stderr",
     "output_type": "stream",
     "text": [
      "I:CUR_SPLIT:2:[sampler_mu:139]:----------------------------------------------------------------------------------------------------\n"
     ]
    },
    {
     "name": "stdout",
     "output_type": "stream",
     "text": [
      "Epoch 42/50\n",
      "146/146 [==============================] - 8s 55ms/step - task_name:     NER     - loss: 1.9556 - accuracy: 0.9513 - val_loss: 10.3359 - val_accuracy: 0.8145\n"
     ]
    },
    {
     "name": "stderr",
     "output_type": "stream",
     "text": [
      "I:CUR_SPLIT:2:[sampler_mu:139]:----------------------------------------------------------------------------------------------------\n"
     ]
    },
    {
     "name": "stdout",
     "output_type": "stream",
     "text": [
      "Epoch 43/50\n",
      "146/146 [==============================] - 14s 96ms/step - task_name:     NER     - loss: 2.8523 - accuracy: 0.9534 - val_loss: 10.2768 - val_accuracy: 0.8158\n"
     ]
    },
    {
     "name": "stderr",
     "output_type": "stream",
     "text": [
      "I:CUR_SPLIT:2:[sampler_mu:139]:----------------------------------------------------------------------------------------------------\n"
     ]
    },
    {
     "name": "stdout",
     "output_type": "stream",
     "text": [
      "Epoch 44/50\n",
      "145/146 [============================>.] - ETA: 0s - task_name:     NER     - loss: 2.1493 - accuracy: 0.9494\n",
      "Epoch 00044: ReduceLROnPlateau reducing learning rate to 8.235429777414538e-05.\n",
      "146/146 [==============================] - 11s 73ms/step - task_name:     NER     - loss: 1.8896 - accuracy: 0.9494 - val_loss: 10.2539 - val_accuracy: 0.8152\n"
     ]
    },
    {
     "name": "stderr",
     "output_type": "stream",
     "text": [
      "I:CUR_SPLIT:2:[sampler_mu:139]:----------------------------------------------------------------------------------------------------\n"
     ]
    },
    {
     "name": "stdout",
     "output_type": "stream",
     "text": [
      "Epoch 45/50\n",
      "146/146 [==============================] - 10s 71ms/step - task_name:     NER     - loss: 1.6437 - accuracy: 0.9546 - val_loss: 10.2453 - val_accuracy: 0.8143\n"
     ]
    },
    {
     "name": "stderr",
     "output_type": "stream",
     "text": [
      "I:CUR_SPLIT:2:[sampler_mu:139]:----------------------------------------------------------------------------------------------------\n"
     ]
    },
    {
     "name": "stdout",
     "output_type": "stream",
     "text": [
      "Epoch 46/50\n",
      "146/146 [==============================] - 14s 96ms/step - task_name:     NER     - loss: 2.4788 - accuracy: 0.9540 - val_loss: 10.2397 - val_accuracy: 0.8143\n"
     ]
    },
    {
     "name": "stderr",
     "output_type": "stream",
     "text": [
      "I:CUR_SPLIT:2:[sampler_mu:139]:----------------------------------------------------------------------------------------------------\n"
     ]
    },
    {
     "name": "stdout",
     "output_type": "stream",
     "text": [
      "Epoch 47/50\n",
      "141/146 [===========================>..] - ETA: 0s - task_name:     NER     - loss: 1.8309 - accuracy: 0.9562\n",
      "Epoch 00047: ReduceLROnPlateau reducing learning rate to 5.76480058953166e-05.\n",
      "146/146 [==============================] - 12s 80ms/step - task_name:     NER     - loss: 1.8326 - accuracy: 0.9562 - val_loss: 10.2099 - val_accuracy: 0.8141\n"
     ]
    },
    {
     "name": "stderr",
     "output_type": "stream",
     "text": [
      "I:CUR_SPLIT:2:[sampler_mu:139]:----------------------------------------------------------------------------------------------------\n"
     ]
    },
    {
     "name": "stdout",
     "output_type": "stream",
     "text": [
      "Epoch 48/50\n",
      "146/146 [==============================] - 7s 51ms/step - task_name:     NER     - loss: 1.6749 - accuracy: 0.9567 - val_loss: 10.2390 - val_accuracy: 0.8143\n"
     ]
    },
    {
     "name": "stderr",
     "output_type": "stream",
     "text": [
      "I:CUR_SPLIT:2:[sampler_mu:139]:----------------------------------------------------------------------------------------------------\n"
     ]
    },
    {
     "name": "stdout",
     "output_type": "stream",
     "text": [
      "Epoch 49/50\n",
      "146/146 [==============================] - 11s 78ms/step - task_name:     NER     - loss: 1.8993 - accuracy: 0.9564 - val_loss: 10.1999 - val_accuracy: 0.8139\n"
     ]
    },
    {
     "name": "stderr",
     "output_type": "stream",
     "text": [
      "I:CUR_SPLIT:2:[sampler_mu:139]:----------------------------------------------------------------------------------------------------\n"
     ]
    },
    {
     "name": "stdout",
     "output_type": "stream",
     "text": [
      "Epoch 50/50\n",
      "145/146 [============================>.] - ETA: 0s - task_name:     NER     - loss: 1.6352 - accuracy: 0.9578\n",
      "Epoch 00050: ReduceLROnPlateau reducing learning rate to 4.0353603617404586e-05.\n",
      "146/146 [==============================] - 10s 66ms/step - task_name:     NER     - loss: 2.1808 - accuracy: 0.9576 - val_loss: 10.2067 - val_accuracy: 0.8139\n"
     ]
    },
    {
     "name": "stderr",
     "output_type": "stream",
     "text": [
      "I:CUR_SPLIT:2:[sampler_mu:139]:----------------------------------------------------------------------------------------------------\n"
     ]
    },
    {
     "name": "stdout",
     "output_type": "stream",
     "text": [
      "\n",
      "----------------------------------NER LABEL METRICS -----------------------------------\n",
      "\n",
      "epoch:labeling EPOCH accuracy 0.807992 precision: 0.269450, recall: 0.237062, f1: 0.252220\n",
      "\n",
      "           precision    recall  f1-score   support\n",
      "\n",
      "     ALLU     0.3100    0.2371    0.2687       599\n",
      "\n",
      "micro avg     0.2694    0.2371    0.2522       599\n",
      "macro avg     0.3100    0.2371    0.2687       599\n",
      "\n",
      "----------------------------------NER END ----------------------------------\n",
      "train_example:**************************************************\n",
      "x_seq:只 有 朝 陵 日 , 妆 [UNK] 一 暂 开 。\n",
      "y_pred:O O O O O O B-ALLU [PAD] I-ALLU I-ALLU I-ALLU O\n",
      "y_true:O O O O O O B-ALLU I-ALLU I-ALLU I-ALLU I-ALLU O\n",
      "----------\n",
      "x_seq:龙 髯 不 可 望 , 玉 座 生 尘 埃 。\n",
      "y_pred:B-ALLU I-ALLU O O O O O O O O O O\n",
      "y_true:B-ALLU I-ALLU O O O O O O O O O O\n",
      "----------\n",
      "x_seq:家 从 入 洛 声 名 大 , 迹 为 依 刘 事 分 偏 。\n",
      "y_pred:O O O O O O O O O O B-ALLU I-ALLU O O O O\n",
      "y_true:O O O O O O O O O O B-ALLU I-ALLU O O O O\n",
      "----------\n",
      "x_seq:遥 知 用 兵 处 , 多 在 八 公 山 。\n",
      "y_pred:O O O O O O O O B-ALLU I-ALLU I-ALLU O\n",
      "y_true:O O O O O O O O B-ALLU I-ALLU I-ALLU O\n",
      "----------\n",
      "x_seq:长 陵 锐 头 儿 , 出 猎 待 明 发 。\n",
      "y_pred:O O B-ALLU I-ALLU O O O O O O O O\n",
      "y_true:O O B-ALLU I-ALLU O O O O O O O O\n",
      "----------\n",
      "x_seq:白 [UNK] 歌 西 曲 , 黄 苞 寄 北 人 。\n",
      "y_pred:O [PAD] O O O O B-ALLU I-ALLU O O O O\n",
      "y_true:O O O O O O B-ALLU I-ALLU O O O O\n",
      "----------\n",
      "x_seq:中 宫 陈 广 乐 , 元 老 进 赓 歌 。\n",
      "y_pred:O O O O O O O O O B-ALLU I-ALLU O\n",
      "y_true:O O O O O O O O O B-ALLU I-ALLU O\n",
      "----------\n",
      "x_seq:河 阳 富 奇 藻 , 彭 泽 纵 名 杯 。\n",
      "y_pred:B-ALLU I-ALLU O O O O O O O O O O\n",
      "y_true:B-ALLU I-ALLU O O O O O O O O O O\n",
      "----------\n",
      "x_seq:妾 有 秦 家 镜 , 宝 匣 装 珠 玑 。 鉴 来 年 二 八 , 不 记 易 阴 晖 。 妾 无 光 寂 寂\n",
      "y_pred:O O B-ALLU I-ALLU I-ALLU O O O O O O O O O O O O O O O O O O O O O O O O\n",
      "y_true:O O B-ALLU I-ALLU I-ALLU O O O O O O O O O O O O O O O O O O O O O O O O\n",
      "----------\n",
      "x_seq:王 俭 坠 车 , 褚 渊 落 水 。\n",
      "y_pred:O O O O O B-ALLU I-ALLU I-ALLU I-ALLU O\n",
      "y_true:O O O O O B-ALLU I-ALLU I-ALLU I-ALLU O\n",
      "----------\n",
      "END:**************************************************\n",
      "test_example:**************************************************\n",
      "x_seq:自 悯 秦 冤 痛 , 谁 怜 楚 奏 哀 。\n",
      "y_pred:O O O O O O O O O O O O\n",
      "y_true:O O O O O O O O B-ALLU I-ALLU O O\n",
      "----------\n",
      "x_seq:风 雨 嗟 何 及 , 江 湖 涕 泫 然 。\n",
      "y_pred:O O O O O O O O O O O O\n",
      "y_true:B-ALLU I-ALLU O O O O O O O O O O\n",
      "----------\n",
      "x_seq:冀 马 楼 兰 将 , 燕 犀 上 谷 兵 。\n",
      "y_pred:B-ALLU O O O O O B-ALLU I-ALLU I-ALLU I-ALLU O O\n",
      "y_true:O O O O O O O O B-ALLU I-ALLU I-ALLU O\n",
      "----------\n",
      "x_seq:孔 子 释 氏 亲 抱 送 , 并 是 天 上 麒 麟 儿 。\n",
      "y_pred:O O O O O O O O O O O O B-ALLU I-ALLU O O\n",
      "y_true:O O O O O O O O O O B-ALLU I-ALLU I-ALLU I-ALLU O O\n",
      "----------\n",
      "x_seq:沐 猴 而 冠 不 足 言 , 身 骑 土 牛 滞 东 鲁 。\n",
      "y_pred:B-ALLU I-ALLU I-ALLU I-ALLU O O O O O O B-ALLU I-ALLU O O O O\n",
      "y_true:O O O O O O O O O B-ALLU I-ALLU I-ALLU O O O O\n",
      "----------\n",
      "x_seq:行 观 向 子 赋 , 坐 忆 旧 邻 情 。\n",
      "y_pred:O O O O O O O O O O O O\n",
      "y_true:O O B-ALLU I-ALLU I-ALLU O O O O O O O\n",
      "----------\n",
      "x_seq:罢 琴 惆 怅 月 照 席 , 几 岁 寄 我 空 中 书 。\n",
      "y_pred:O O O O O O O O O O O O O O O O\n",
      "y_true:O O O O O O O O O O O O B-ALLU I-ALLU I-ALLU O\n",
      "----------\n",
      "x_seq:五 株 衰 柳 下 , 三 径 小 园 深 。\n",
      "y_pred:O O O O O O B-ALLU I-ALLU O O O O\n",
      "y_true:B-ALLU I-ALLU I-ALLU I-ALLU O O O O O O O O\n",
      "----------\n",
      "x_seq:无 因 暂 泊 鲁 阳 戈 , 白 发 兼 愁 日 日 多 。\n",
      "y_pred:O O O O B-ALLU I-ALLU O O O O O O O O O O\n",
      "y_true:O O O O B-ALLU I-ALLU I-ALLU O O O O O O O O O\n",
      "----------\n",
      "x_seq:往 年 西 谒 谢 玄 晖 , 樽 酒 留 欢 醉 始 归 。\n",
      "y_pred:O O O O O O O O O O O O O O O O\n",
      "y_true:O O O O B-ALLU O O O O O O O O O O O\n",
      "----------\n",
      "END:**************************************************\n",
      "example:**************************************************\n",
      "x_seq:鸿 荒 古 已 颓 , 谁 识 巢 居 子 。 [UNK] [PAD] [PAD] [PAD] [PAD] [PAD] [PAD] [PAD] [PAD] [PAD] [PAD] [PAD] [PAD] [PAD] [PAD] [PAD] [PAD]\n",
      "x_ALLU:曾 闵 之 孝 , 夷 齐 之 廉 , 岂 畏 死 而 为 之 哉 ? 教 化 之 所 至 也 。 [UNK] [PAD] [PAD] [PAD]\n",
      "y_pred:[0.88684857]\n",
      "y_true:1\n",
      "----------\n",
      "x_seq:鸿 荒 古 已 颓 , 谁 识 巢 居 子 。 [UNK] [PAD] [PAD] [PAD] [PAD] [PAD] [PAD] [PAD] [PAD] [PAD] [PAD] [PAD] [PAD] [PAD] [PAD] [PAD] [PAD]\n",
      "x_ALLU:糜 竺 [UNK] [UNK] 有 宝 库 千 间 。 竺 性 能 账 生 恤 死 。 [UNK] [UNK] 行 于 路 曲 , 忽 见 前 妇\n",
      "y_pred:[0.2749494]\n",
      "y_true:0\n",
      "----------\n",
      "x_seq:鸿 荒 古 已 颓 , 谁 识 巢 居 子 。 [UNK] [PAD] [PAD] [PAD] [PAD] [PAD] [PAD] [PAD] [PAD] [PAD] [PAD] [PAD] [PAD] [PAD] [PAD] [PAD] [PAD]\n",
      "x_ALLU:尊 者 有 谦 而 更 光 明 盛 大 , 卑 谦 而 不 可 逾 越 。 [UNK] [PAD] [PAD] [PAD] [PAD] [PAD] [PAD] [PAD] [PAD] [PAD]\n",
      "y_pred:[0.24486357]\n",
      "y_true:0\n",
      "----------\n",
      "x_seq:鸿 荒 古 已 颓 , 谁 识 巢 居 子 。 [UNK] [PAD] [PAD] [PAD] [PAD] [PAD] [PAD] [PAD] [PAD] [PAD] [PAD] [PAD] [PAD] [PAD] [PAD] [PAD] [PAD]\n",
      "x_ALLU:玉 女 流 [UNK] 而 下 视 。 [UNK] [PAD] [PAD] [PAD] [PAD] [PAD] [PAD] [PAD] [PAD] [PAD] [PAD] [PAD] [PAD] [PAD] [PAD] [PAD] [PAD] [PAD] [PAD] [PAD] [PAD]\n",
      "y_pred:[0.14772034]\n",
      "y_true:0\n",
      "----------\n",
      "x_seq:鸿 荒 古 已 颓 , 谁 识 巢 居 子 。 [UNK] [PAD] [PAD] [PAD] [PAD] [PAD] [PAD] [PAD] [PAD] [PAD] [PAD] [PAD] [PAD] [PAD] [PAD] [PAD] [PAD]\n",
      "x_ALLU:机 天 才 秀 逸 , 辞 藻 宏 丽 , [UNK] [UNK] 弟 云 尝 与 书 曰 : [UNK] 君 苗 见 兄 文 , 辄 欲\n",
      "y_pred:[0.4857494]\n",
      "y_true:0\n",
      "----------\n",
      "x_seq:鸿 荒 古 已 颓 , 谁 识 巢 居 子 。 [UNK] [PAD] [PAD] [PAD] [PAD] [PAD] [PAD] [PAD] [PAD] [PAD] [PAD] [PAD] [PAD] [PAD] [PAD] [PAD] [PAD]\n",
      "x_ALLU:辩 析 天 口 , 而 似 不 能 言 。 [UNK] [PAD] [PAD] [PAD] [PAD] [PAD] [PAD] [PAD] [PAD] [PAD] [PAD] [PAD] [PAD] [PAD] [PAD] [PAD] [PAD] [PAD]\n",
      "y_pred:[0.5048508]\n",
      "y_true:0\n",
      "----------\n",
      "x_seq:鸿 荒 古 已 颓 , 谁 识 巢 居 子 。 [UNK] [PAD] [PAD] [PAD] [PAD] [PAD] [PAD] [PAD] [PAD] [PAD] [PAD] [PAD] [PAD] [PAD] [PAD] [PAD] [PAD]\n",
      "x_ALLU:刘 季 和 性 爱 香 , 尝 上 厕 还 , 过 香 炉 上 。 主 簿 张 坦 曰 : [UNK] 人 名 公 作 俗\n",
      "y_pred:[0.78262746]\n",
      "y_true:0\n",
      "----------\n",
      "x_seq:鸿 荒 古 已 颓 , 谁 识 巢 居 子 。 [UNK] [PAD] [PAD] [PAD] [PAD] [PAD] [PAD] [PAD] [PAD] [PAD] [PAD] [PAD] [PAD] [PAD] [PAD] [PAD] [PAD]\n",
      "x_ALLU:尔 乃 归 穷 委 命 , 离 群 丧 侣 , 闭 以 雕 笼 , 剪 其 翅 羽 。 [UNK] [PAD] [PAD] [PAD] [PAD] [PAD] [PAD]\n",
      "y_pred:[0.4076302]\n",
      "y_true:0\n",
      "----------\n",
      "x_seq:鸿 荒 古 已 颓 , 谁 识 巢 居 子 。 [UNK] [PAD] [PAD] [PAD] [PAD] [PAD] [PAD] [PAD] [PAD] [PAD] [PAD] [PAD] [PAD] [PAD] [PAD] [PAD] [PAD]\n",
      "x_ALLU:樊 晔 字 仲 华 , 南 阳 新 野 人 也 。 与 光 武 少 游 旧 。 建 武 初 , 征 为 侍 御 史\n",
      "y_pred:[0.47310606]\n",
      "y_true:0\n",
      "----------\n",
      "x_seq:鸿 荒 古 已 颓 , 谁 识 巢 居 子 。 [UNK] [PAD] [PAD] [PAD] [PAD] [PAD] [PAD] [PAD] [PAD] [PAD] [PAD] [PAD] [PAD] [PAD] [PAD] [PAD] [PAD]\n",
      "x_ALLU:即 昆 仑 之 山 木 禾 。 《 山 海 经 》 曰 : [UNK] 昆 仑 之 上 有 木 禾 , 长 五 寻 , 大\n",
      "y_pred:[0.37633646]\n",
      "y_true:0\n",
      "----------\n",
      "x_seq:永 怀 芸 阁 友 , 寂 寞 滞 扬 云 。 [UNK] [PAD] [PAD] [PAD] [PAD] [PAD] [PAD] [PAD] [PAD] [PAD] [PAD] [PAD] [PAD] [PAD] [PAD] [PAD] [PAD]\n",
      "x_ALLU:尚 泰 奢 丽 夸 诩 , 非 尧 、 舜 、 成 汤 、 文 王 三 驱 之 意 也 。 又 恐 后 世 复 修\n",
      "y_pred:[0.2957402]\n",
      "y_true:1\n",
      "----------\n",
      "x_seq:永 怀 芸 阁 友 , 寂 寞 滞 扬 云 。 [UNK] [PAD] [PAD] [PAD] [PAD] [PAD] [PAD] [PAD] [PAD] [PAD] [PAD] [PAD] [PAD] [PAD] [PAD] [PAD] [PAD]\n",
      "x_ALLU:以 鸟 为 喻 。 [UNK] [PAD] [PAD] [PAD] [PAD] [PAD] [PAD] [PAD] [PAD] [PAD] [PAD] [PAD] [PAD] [PAD] [PAD] [PAD] [PAD] [PAD] [PAD] [PAD] [PAD] [PAD] [PAD] [PAD]\n",
      "y_pred:[0.18568236]\n",
      "y_true:0\n",
      "----------\n",
      "x_seq:永 怀 芸 阁 友 , 寂 寞 滞 扬 云 。 [UNK] [PAD] [PAD] [PAD] [PAD] [PAD] [PAD] [PAD] [PAD] [PAD] [PAD] [PAD] [PAD] [PAD] [PAD] [PAD] [PAD]\n",
      "x_ALLU:秉 性 不 饮 酒 , 又 早 丧 夫 人 , 遂 不 复 娶 , 所 在 以 淳 白 称 。 尝 从 容 言 曰\n",
      "y_pred:[0.24060974]\n",
      "y_true:0\n",
      "----------\n",
      "x_seq:永 怀 芸 阁 友 , 寂 寞 滞 扬 云 。 [UNK] [PAD] [PAD] [PAD] [PAD] [PAD] [PAD] [PAD] [PAD] [PAD] [PAD] [PAD] [PAD] [PAD] [PAD] [PAD] [PAD]\n",
      "x_ALLU:革 曰 : [UNK] 渤 海 之 东 不 知 几 亿 万 里 , 有 大 壑 焉 [UNK] [UNK] 其 中 有 五 山 焉 : 一\n",
      "y_pred:[0.7789593]\n",
      "y_true:0\n",
      "----------\n",
      "x_seq:永 怀 芸 阁 友 , 寂 寞 滞 扬 云 。 [UNK] [PAD] [PAD] [PAD] [PAD] [PAD] [PAD] [PAD] [PAD] [PAD] [PAD] [PAD] [PAD] [PAD] [PAD] [PAD] [PAD]\n",
      "x_ALLU:陆 通 , 字 接 舆 , 楚 人 也 。 好 养 性 , 躬 耕 以 为 食 。 楚 昭 王 时 , 通 见 楚\n",
      "y_pred:[0.6680056]\n",
      "y_true:0\n",
      "----------\n",
      "x_seq:永 怀 芸 阁 友 , 寂 寞 滞 扬 云 。 [UNK] [PAD] [PAD] [PAD] [PAD] [PAD] [PAD] [PAD] [PAD] [PAD] [PAD] [PAD] [PAD] [PAD] [PAD] [PAD] [PAD]\n",
      "x_ALLU:习 凿 齿 字 彦 威 , 襄 阳 人 也 。 [UNK] [UNK] 凿 齿 少 有 志 气 , 博 学 洽 闻 , 以 文 笔\n",
      "y_pred:[0.1268574]\n",
      "y_true:0\n",
      "----------\n",
      "x_seq:永 怀 芸 阁 友 , 寂 寞 滞 扬 云 。 [UNK] [PAD] [PAD] [PAD] [PAD] [PAD] [PAD] [PAD] [PAD] [PAD] [PAD] [PAD] [PAD] [PAD] [PAD] [PAD] [PAD]\n",
      "x_ALLU:鲁 之 [UNK] 尤 薄 。 [UNK] [PAD] [PAD] [PAD] [PAD] [PAD] [PAD] [PAD] [PAD] [PAD] [PAD] [PAD] [PAD] [PAD] [PAD] [PAD] [PAD] [PAD] [PAD] [PAD] [PAD] [PAD] [PAD]\n",
      "y_pred:[0.1284625]\n",
      "y_true:0\n",
      "----------\n",
      "x_seq:永 怀 芸 阁 友 , 寂 寞 滞 扬 云 。 [UNK] [PAD] [PAD] [PAD] [PAD] [PAD] [PAD] [PAD] [PAD] [PAD] [PAD] [PAD] [PAD] [PAD] [PAD] [PAD] [PAD]\n",
      "x_ALLU:游 睢 涣 者 , 学 藻 [UNK] 之 彩 。 [UNK] [PAD] [PAD] [PAD] [PAD] [PAD] [PAD] [PAD] [PAD] [PAD] [PAD] [PAD] [PAD] [PAD] [PAD] [PAD] [PAD] [PAD]\n",
      "y_pred:[0.38239196]\n",
      "y_true:0\n",
      "----------\n",
      "x_seq:永 怀 芸 阁 友 , 寂 寞 滞 扬 云 。 [UNK] [PAD] [PAD] [PAD] [PAD] [PAD] [PAD] [PAD] [PAD] [PAD] [PAD] [PAD] [PAD] [PAD] [PAD] [PAD] [PAD]\n",
      "x_ALLU:[UNK] 魅 罔 两 。 [UNK] [PAD] [PAD] [PAD] [PAD] [PAD] [PAD] [PAD] [PAD] [PAD] [PAD] [PAD] [PAD] [PAD] [PAD] [PAD] [PAD] [PAD] [PAD] [PAD] [PAD] [PAD] [PAD] [PAD]\n",
      "y_pred:[0.46569437]\n",
      "y_true:0\n",
      "----------\n",
      "x_seq:永 怀 芸 阁 友 , 寂 寞 滞 扬 云 。 [UNK] [PAD] [PAD] [PAD] [PAD] [PAD] [PAD] [PAD] [PAD] [PAD] [PAD] [PAD] [PAD] [PAD] [PAD] [PAD] [PAD]\n",
      "x_ALLU:凡 游 仙 之 篇 , 皆 所 以 滓 秽 尘 网 , [UNK] 铢 缨 [UNK] , [UNK] 霞 倒 景 , 饵 玉 玄 都 。\n",
      "y_pred:[0.2707904]\n",
      "y_true:0\n",
      "----------\n",
      "x_seq:紫 鳞 仙 客 驭 , 金 颗 李 衡 奴 。 [UNK] [PAD] [PAD] [PAD] [PAD] [PAD] [PAD] [PAD] [PAD] [PAD] [PAD] [PAD] [PAD] [PAD] [PAD] [PAD] [PAD]\n",
      "x_ALLU:又 诏 曰 : [UNK] 丹 杨 太 守 李 衡 [UNK] [UNK] [UNK] [UNK] [PAD] [PAD] [PAD] [PAD] [PAD] [PAD] [PAD] [PAD] [PAD] [PAD] [PAD] [PAD] [PAD] [PAD]\n",
      "y_pred:[0.3489502]\n",
      "y_true:1\n",
      "----------\n",
      "x_seq:紫 鳞 仙 客 驭 , 金 颗 李 衡 奴 。 [UNK] [PAD] [PAD] [PAD] [PAD] [PAD] [PAD] [PAD] [PAD] [PAD] [PAD] [PAD] [PAD] [PAD] [PAD] [PAD] [PAD]\n",
      "x_ALLU:呜 呼 ! 世 路 险 , 一 至 于 此 ! 太 行 、 孟 门 岂 云 [UNK] 绝 ? [UNK] [PAD] [PAD] [PAD] [PAD] [PAD] [PAD]\n",
      "y_pred:[0.7539706]\n",
      "y_true:0\n",
      "----------\n",
      "x_seq:紫 鳞 仙 客 驭 , 金 颗 李 衡 奴 。 [UNK] [PAD] [PAD] [PAD] [PAD] [PAD] [PAD] [PAD] [PAD] [PAD] [PAD] [PAD] [PAD] [PAD] [PAD] [PAD] [PAD]\n",
      "x_ALLU:荣 机 神 朗 悟 , 弱 冠 仕 吴 , 为 黄 门 侍 郎 、 太 子 辅 义 都 尉 。 吴 平 , 与 陆\n",
      "y_pred:[0.51126516]\n",
      "y_true:0\n",
      "----------\n",
      "x_seq:紫 鳞 仙 客 驭 , 金 颗 李 衡 奴 。 [UNK] [PAD] [PAD] [PAD] [PAD] [PAD] [PAD] [PAD] [PAD] [PAD] [PAD] [PAD] [PAD] [PAD] [PAD] [PAD] [PAD]\n",
      "x_ALLU:时 远 法 师 与 诸 贤 结 莲 社 , 以 书 招 渊 明 。 谢 灵 运 [UNK] [UNK] 至 庐 山 一 见 远 公\n",
      "y_pred:[0.60375]\n",
      "y_true:0\n",
      "----------\n",
      "x_seq:紫 鳞 仙 客 驭 , 金 颗 李 衡 奴 。 [UNK] [PAD] [PAD] [PAD] [PAD] [PAD] [PAD] [PAD] [PAD] [PAD] [PAD] [PAD] [PAD] [PAD] [PAD] [PAD] [PAD]\n",
      "x_ALLU:成 帝 建 始 四 年 九 月 , 长 安 城 南 有 鼠 衔 黄 蒿 、 柏 叶 , 上 民 冢 柏 及 榆 树\n",
      "y_pred:[0.30999812]\n",
      "y_true:0\n",
      "----------\n",
      "x_seq:紫 鳞 仙 客 驭 , 金 颗 李 衡 奴 。 [UNK] [PAD] [PAD] [PAD] [PAD] [PAD] [PAD] [PAD] [PAD] [PAD] [PAD] [PAD] [PAD] [PAD] [PAD] [PAD] [PAD]\n",
      "x_ALLU:《 碧 玉 歌 》 者 , 宋 汝 南 王 所 作 也 。 碧 玉 , 汝 南 王 妾 名 。 以 宠 爱 之 甚\n",
      "y_pred:[0.5342558]\n",
      "y_true:0\n",
      "----------\n",
      "x_seq:紫 鳞 仙 客 驭 , 金 颗 李 衡 奴 。 [UNK] [PAD] [PAD] [PAD] [PAD] [PAD] [PAD] [PAD] [PAD] [PAD] [PAD] [PAD] [PAD] [PAD] [PAD] [PAD] [PAD]\n",
      "x_ALLU:光 薨 , 上 及 皇 太 后 亲 临 光 丧 。 [UNK] [UNK] 赐 [UNK] [UNK] 梓 宫 、 便 房 、 黄 肠 题 凑 各\n",
      "y_pred:[0.3705935]\n",
      "y_true:0\n",
      "----------\n",
      "x_seq:紫 鳞 仙 客 驭 , 金 颗 李 衡 奴 。 [UNK] [PAD] [PAD] [PAD] [PAD] [PAD] [PAD] [PAD] [PAD] [PAD] [PAD] [PAD] [PAD] [PAD] [PAD] [PAD] [PAD]\n",
      "x_ALLU:大 姒 嗣 徽 音 , 则 百 斯 男 。 [UNK] [PAD] [PAD] [PAD] [PAD] [PAD] [PAD] [PAD] [PAD] [PAD] [PAD] [PAD] [PAD] [PAD] [PAD] [PAD] [PAD] [PAD]\n",
      "y_pred:[0.20176613]\n",
      "y_true:0\n",
      "----------\n",
      "x_seq:紫 鳞 仙 客 驭 , 金 颗 李 衡 奴 。 [UNK] [PAD] [PAD] [PAD] [PAD] [PAD] [PAD] [PAD] [PAD] [PAD] [PAD] [PAD] [PAD] [PAD] [PAD] [PAD] [PAD]\n",
      "x_ALLU:得 黄 金 百 斤 , 不 如 得 季 布 一 诺 。 [UNK] [PAD] [PAD] [PAD] [PAD] [PAD] [PAD] [PAD] [PAD] [PAD] [PAD] [PAD] [PAD] [PAD] [PAD]\n",
      "y_pred:[0.67097676]\n",
      "y_true:0\n",
      "----------\n",
      "x_seq:紫 鳞 仙 客 驭 , 金 颗 李 衡 奴 。 [UNK] [PAD] [PAD] [PAD] [PAD] [PAD] [PAD] [PAD] [PAD] [PAD] [PAD] [PAD] [PAD] [PAD] [PAD] [PAD] [PAD]\n",
      "x_ALLU:绛 侯 、 灌 婴 等 咸 谗 陈 平 曰 : [UNK] 平 虽 美 丈 夫 , 如 冠 玉 耳 , 其 中 未 必 有\n",
      "y_pred:[0.5312167]\n",
      "y_true:0\n",
      "----------\n",
      "x_seq:歌 入 平 阳 第 , 舞 对 石 崇 家 。 [UNK] [PAD] [PAD] [PAD] [PAD] [PAD] [PAD] [PAD] [PAD] [PAD] [PAD] [PAD] [PAD] [PAD] [PAD] [PAD] [PAD]\n",
      "x_ALLU:东 南 流 径 晋 卫 尉 卿 石 崇 之 居 。 石 季 伦 《 金 谷 诗 集 序 》 曰 : [UNK] 余 以 元\n",
      "y_pred:[0.46752977]\n",
      "y_true:1\n",
      "----------\n",
      "x_seq:歌 入 平 阳 第 , 舞 对 石 崇 家 。 [UNK] [PAD] [PAD] [PAD] [PAD] [PAD] [PAD] [PAD] [PAD] [PAD] [PAD] [PAD] [PAD] [PAD] [PAD] [PAD] [PAD]\n",
      "x_ALLU:孔 子 见 老 [UNK] , 老 [UNK] 新 沐 [UNK] [UNK] 孔 子 出 , 以 告 颜 回 曰 : [UNK] 丘 之 于 道 也 ,\n",
      "y_pred:[0.3605237]\n",
      "y_true:0\n",
      "----------\n",
      "x_seq:歌 入 平 阳 第 , 舞 对 石 崇 家 。 [UNK] [PAD] [PAD] [PAD] [PAD] [PAD] [PAD] [PAD] [PAD] [PAD] [PAD] [PAD] [PAD] [PAD] [PAD] [PAD] [PAD]\n",
      "x_ALLU:孔 子 学 琴 于 师 襄 子 , 襄 子 曰 : [UNK] 吾 虽 以 击 磬 为 官 , 然 能 于 琴 。 [UNK] [UNK]\n",
      "y_pred:[0.57884306]\n",
      "y_true:0\n",
      "----------\n",
      "x_seq:歌 入 平 阳 第 , 舞 对 石 崇 家 。 [UNK] [PAD] [PAD] [PAD] [PAD] [PAD] [PAD] [PAD] [PAD] [PAD] [PAD] [PAD] [PAD] [PAD] [PAD] [PAD] [PAD]\n",
      "x_ALLU:孝 宣 皇 帝 , 武 帝 曾 孙 , 戾 太 子 孙 也 [UNK] [UNK] 号 曰 皇 曾 孙 。 生 数 月 , 遭 巫\n",
      "y_pred:[0.29094303]\n",
      "y_true:0\n",
      "----------\n",
      "x_seq:歌 入 平 阳 第 , 舞 对 石 崇 家 。 [UNK] [PAD] [PAD] [PAD] [PAD] [PAD] [PAD] [PAD] [PAD] [PAD] [PAD] [PAD] [PAD] [PAD] [PAD] [PAD] [PAD]\n",
      "x_ALLU:众 , [UNK] 一 作 [UNK] 终 [UNK] 。 [UNK] [PAD] [PAD] [PAD] [PAD] [PAD] [PAD] [PAD] [PAD] [PAD] [PAD] [PAD] [PAD] [PAD] [PAD] [PAD] [PAD] [PAD] [PAD] [PAD]\n",
      "y_pred:[0.24713439]\n",
      "y_true:0\n",
      "----------\n",
      "x_seq:歌 入 平 阳 第 , 舞 对 石 崇 家 。 [UNK] [PAD] [PAD] [PAD] [PAD] [PAD] [PAD] [PAD] [PAD] [PAD] [PAD] [PAD] [PAD] [PAD] [PAD] [PAD] [PAD]\n",
      "x_ALLU:相 思 , 大 树 也 , 材 理 坚 , 邪 斫 之 , 则 文 , 可 作 器 。 其 实 如 珊 瑚 , 历\n",
      "y_pred:[0.14851984]\n",
      "y_true:0\n",
      "----------\n",
      "x_seq:歌 入 平 阳 第 , 舞 对 石 崇 家 。 [UNK] [PAD] [PAD] [PAD] [PAD] [PAD] [PAD] [PAD] [PAD] [PAD] [PAD] [PAD] [PAD] [PAD] [PAD] [PAD] [PAD]\n",
      "x_ALLU:以 衣 涉 水 为 厉 , 谓 由 带 以 上 也 。 揭 , [UNK] 衣 也 。 遭 时 制 宜 , 如 遇 水 深\n",
      "y_pred:[0.20429891]\n",
      "y_true:0\n",
      "----------\n",
      "x_seq:歌 入 平 阳 第 , 舞 对 石 崇 家 。 [UNK] [PAD] [PAD] [PAD] [PAD] [PAD] [PAD] [PAD] [PAD] [PAD] [PAD] [PAD] [PAD] [PAD] [PAD] [PAD] [PAD]\n",
      "x_ALLU:钩 陈 , 后 宫 也 。 [UNK] [PAD] [PAD] [PAD] [PAD] [PAD] [PAD] [PAD] [PAD] [PAD] [PAD] [PAD] [PAD] [PAD] [PAD] [PAD] [PAD] [PAD] [PAD] [PAD] [PAD] [PAD]\n",
      "y_pred:[0.4943037]\n",
      "y_true:0\n",
      "----------\n",
      "x_seq:歌 入 平 阳 第 , 舞 对 石 崇 家 。 [UNK] [PAD] [PAD] [PAD] [PAD] [PAD] [PAD] [PAD] [PAD] [PAD] [PAD] [PAD] [PAD] [PAD] [PAD] [PAD] [PAD]\n",
      "x_ALLU:于 是 南 岳 献 嘲 , 北 垄 腾 笑 ; 列 壑 争 讥 , 攒 峰 [UNK] [UNK] 。 [UNK] [PAD] [PAD] [PAD] [PAD] [PAD] [PAD]\n",
      "y_pred:[0.61581355]\n",
      "y_true:0\n",
      "----------\n",
      "x_seq:歌 入 平 阳 第 , 舞 对 石 崇 家 。 [UNK] [PAD] [PAD] [PAD] [PAD] [PAD] [PAD] [PAD] [PAD] [PAD] [PAD] [PAD] [PAD] [PAD] [PAD] [PAD] [PAD]\n",
      "x_ALLU:古 者 , 日 在 北 陆 而 藏 冰 ; 西 陆 , 朝 [UNK] 而 出 之 。 其 藏 冰 也 , 深 山 穷 谷\n",
      "y_pred:[0.16571987]\n",
      "y_true:0\n",
      "----------\n",
      "x_seq:莫 学 嵇 康 懒 , 且 安 原 宪 贫 。 [UNK] [PAD] [PAD] [PAD] [PAD] [PAD] [PAD] [PAD] [PAD] [PAD] [PAD] [PAD] [PAD] [PAD] [PAD] [PAD] [PAD]\n",
      "x_ALLU:嵇 康 拜 中 散 大 夫 , 居 山 阳 。 性 绝 巧 而 好 锻 。 宅 中 有 一 柳 树 甚 茂 , 乃\n",
      "y_pred:[0.76876533]\n",
      "y_true:1\n",
      "----------\n",
      "x_seq:莫 学 嵇 康 懒 , 且 安 原 宪 贫 。 [UNK] [PAD] [PAD] [PAD] [PAD] [PAD] [PAD] [PAD] [PAD] [PAD] [PAD] [PAD] [PAD] [PAD] [PAD] [PAD] [PAD]\n",
      "x_ALLU:[UNK] [UNK] [UNK] [UNK] , 既 取 我 子 , 无 毁 我 室 。 恩 斯 勤 斯 , [UNK] 子 之 闵 斯 。 [UNK] [PAD] [PAD]\n",
      "y_pred:[0.22596297]\n",
      "y_true:0\n",
      "----------\n",
      "x_seq:莫 学 嵇 康 懒 , 且 安 原 宪 贫 。 [UNK] [PAD] [PAD] [PAD] [PAD] [PAD] [PAD] [PAD] [PAD] [PAD] [PAD] [PAD] [PAD] [PAD] [PAD] [PAD] [PAD]\n",
      "x_ALLU:黄 香 字 文 强 , 江 夏 安 陆 人 。 父 况 , 为 郡 五 官 [UNK] 。 [UNK] [UNK] 举 孝 廉 , 贫 无\n",
      "y_pred:[0.35766718]\n",
      "y_true:0\n",
      "----------\n",
      "x_seq:莫 学 嵇 康 懒 , 且 安 原 宪 贫 。 [UNK] [PAD] [PAD] [PAD] [PAD] [PAD] [PAD] [PAD] [PAD] [PAD] [PAD] [PAD] [PAD] [PAD] [PAD] [PAD] [PAD]\n",
      "x_ALLU:琬 琰 之 玉 , 在 [UNK] 泥 之 中 , 虽 廉 者 弗 释 。 [UNK] [PAD] [PAD] [PAD] [PAD] [PAD] [PAD] [PAD] [PAD] [PAD] [PAD] [PAD]\n",
      "y_pred:[0.256223]\n",
      "y_true:0\n",
      "----------\n",
      "x_seq:莫 学 嵇 康 懒 , 且 安 原 宪 贫 。 [UNK] [PAD] [PAD] [PAD] [PAD] [PAD] [PAD] [PAD] [PAD] [PAD] [PAD] [PAD] [PAD] [PAD] [PAD] [PAD] [PAD]\n",
      "x_ALLU:苏 秦 说 秦 王 书 十 上 而 说 不 行 。 黑 貂 之 裘 弊 , 黄 金 百 斤 尽 , 资 用 乏 绝\n",
      "y_pred:[0.41654098]\n",
      "y_true:0\n",
      "----------\n",
      "x_seq:莫 学 嵇 康 懒 , 且 安 原 宪 贫 。 [UNK] [PAD] [PAD] [PAD] [PAD] [PAD] [PAD] [PAD] [PAD] [PAD] [PAD] [PAD] [PAD] [PAD] [PAD] [PAD] [PAD]\n",
      "x_ALLU:孤 , 特 也 。 [UNK] 山 之 阳 , 特 生 桐 , 中 琴 瑟 。 [UNK] [PAD] [PAD] [PAD] [PAD] [PAD] [PAD] [PAD] [PAD] [PAD] [PAD]\n",
      "y_pred:[0.38967064]\n",
      "y_true:0\n",
      "----------\n",
      "x_seq:莫 学 嵇 康 懒 , 且 安 原 宪 贫 。 [UNK] [PAD] [PAD] [PAD] [PAD] [PAD] [PAD] [PAD] [PAD] [PAD] [PAD] [PAD] [PAD] [PAD] [PAD] [PAD] [PAD]\n",
      "x_ALLU:至 武 帝 攘 却 胡 、 越 , 开 地 斥 境 , 南 置 交 [UNK] , 北 置 朔 方 之 州 。 [UNK] [PAD] [PAD]\n",
      "y_pred:[0.3916958]\n",
      "y_true:0\n",
      "----------\n",
      "x_seq:莫 学 嵇 康 懒 , 且 安 原 宪 贫 。 [UNK] [PAD] [PAD] [PAD] [PAD] [PAD] [PAD] [PAD] [PAD] [PAD] [PAD] [PAD] [PAD] [PAD] [PAD] [PAD] [PAD]\n",
      "x_ALLU:嫣 然 一 笑 , 惑 阳 城 , 迷 下 蔡 。 [UNK] [PAD] [PAD] [PAD] [PAD] [PAD] [PAD] [PAD] [PAD] [PAD] [PAD] [PAD] [PAD] [PAD] [PAD] [PAD]\n",
      "y_pred:[0.49680656]\n",
      "y_true:0\n",
      "----------\n",
      "x_seq:莫 学 嵇 康 懒 , 且 安 原 宪 贫 。 [UNK] [PAD] [PAD] [PAD] [PAD] [PAD] [PAD] [PAD] [PAD] [PAD] [PAD] [PAD] [PAD] [PAD] [PAD] [PAD] [PAD]\n",
      "x_ALLU:义 阳 腊 日 饮 祭 之 后 , 叟 妃 儿 童 分 为 藏 驱 ( 即 藏 钩 ) 之 戏 , 分 二 曹 ,\n",
      "y_pred:[0.18459198]\n",
      "y_true:0\n",
      "----------\n",
      "x_seq:莫 学 嵇 康 懒 , 且 安 原 宪 贫 。 [UNK] [PAD] [PAD] [PAD] [PAD] [PAD] [PAD] [PAD] [PAD] [PAD] [PAD] [PAD] [PAD] [PAD] [PAD] [PAD] [PAD]\n",
      "x_ALLU:友 字 它 仁 , 襄 阳 人 。 少 好 学 , 不 持 节 俭 。 [UNK] [UNK] 始 仕 荆 州 , 后 在 温 府\n",
      "y_pred:[0.6005954]\n",
      "y_true:0\n",
      "----------\n",
      "x_seq:八 族 未 来 谁 北 拱 , 四 凶 犹 在 莫 南 巡 。 [UNK] [PAD] [PAD] [PAD] [PAD] [PAD] [PAD] [PAD] [PAD] [PAD] [PAD] [PAD] [PAD]\n",
      "x_ALLU:高 阳 帝 颛 顼 之 号 。 八 人 , 其 苗 裔 。 [UNK] [PAD] [PAD] [PAD] [PAD] [PAD] [PAD] [PAD] [PAD] [PAD] [PAD] [PAD] [PAD] [PAD]\n",
      "y_pred:[0.277286]\n",
      "y_true:1\n",
      "----------\n",
      "x_seq:八 族 未 来 谁 北 拱 , 四 凶 犹 在 莫 南 巡 。 [UNK] [PAD] [PAD] [PAD] [PAD] [PAD] [PAD] [PAD] [PAD] [PAD] [PAD] [PAD] [PAD]\n",
      "x_ALLU:高 贵 乡 公 卒 , 年 二 十 。 [UNK] [PAD] [PAD] [PAD] [PAD] [PAD] [PAD] [PAD] [PAD] [PAD] [PAD] [PAD] [PAD] [PAD] [PAD] [PAD] [PAD] [PAD] [PAD]\n",
      "y_pred:[0.54254055]\n",
      "y_true:0\n",
      "----------\n",
      "x_seq:八 族 未 来 谁 北 拱 , 四 凶 犹 在 莫 南 巡 。 [UNK] [PAD] [PAD] [PAD] [PAD] [PAD] [PAD] [PAD] [PAD] [PAD] [PAD] [PAD] [PAD]\n",
      "x_ALLU:咸 字 仲 , 为 丞 相 史 , 举 茂 材 , 好 [UNK] 令 , 迁 淮 阳 、 泗 水 内 史 , 张 掖 、\n",
      "y_pred:[0.7894608]\n",
      "y_true:0\n",
      "----------\n",
      "x_seq:八 族 未 来 谁 北 拱 , 四 凶 犹 在 莫 南 巡 。 [UNK] [PAD] [PAD] [PAD] [PAD] [PAD] [PAD] [PAD] [PAD] [PAD] [PAD] [PAD] [PAD]\n",
      "x_ALLU:客 谓 通 曰 : [UNK] 先 生 之 于 曹 相 国 , 拾 遗 举 过 , 显 贤 进 能 , 齐 国 莫 若 先\n",
      "y_pred:[0.6574309]\n",
      "y_true:0\n",
      "----------\n",
      "x_seq:八 族 未 来 谁 北 拱 , 四 凶 犹 在 莫 南 巡 。 [UNK] [PAD] [PAD] [PAD] [PAD] [PAD] [PAD] [PAD] [PAD] [PAD] [PAD] [PAD] [PAD]\n",
      "x_ALLU:麻 衣 , 深 衣 。 诸 侯 之 朝 朝 服 , 朝 夕 则 深 衣 也 。 [UNK] [PAD] [PAD] [PAD] [PAD] [PAD] [PAD] [PAD] [PAD]\n",
      "y_pred:[0.37503448]\n",
      "y_true:0\n",
      "----------\n",
      "x_seq:八 族 未 来 谁 北 拱 , 四 凶 犹 在 莫 南 巡 。 [UNK] [PAD] [PAD] [PAD] [PAD] [PAD] [PAD] [PAD] [PAD] [PAD] [PAD] [PAD] [PAD]\n",
      "x_ALLU:珣 字 元 琳 。 弱 冠 与 陈 郡 谢 玄 为 桓 温 [UNK] , [UNK] [UNK] 珣 转 主 簿 。 [UNK] [UNK] 迁 秘 书\n",
      "y_pred:[0.48822403]\n",
      "y_true:0\n",
      "----------\n",
      "x_seq:八 族 未 来 谁 北 拱 , 四 凶 犹 在 莫 南 巡 。 [UNK] [PAD] [PAD] [PAD] [PAD] [PAD] [PAD] [PAD] [PAD] [PAD] [PAD] [PAD] [PAD]\n",
      "x_ALLU:言 臣 出 使 能 扬 君 之 美 , 延 其 誉 于 四 方 , 则 为 不 辱 命 也 。 [UNK] [PAD] [PAD] [PAD] [PAD]\n",
      "y_pred:[0.4627336]\n",
      "y_true:0\n",
      "----------\n",
      "x_seq:八 族 未 来 谁 北 拱 , 四 凶 犹 在 莫 南 巡 。 [UNK] [PAD] [PAD] [PAD] [PAD] [PAD] [PAD] [PAD] [PAD] [PAD] [PAD] [PAD] [PAD]\n",
      "x_ALLU:迁 鼎 息 大 [UNK] 之 惭 。 [UNK] [PAD] [PAD] [PAD] [PAD] [PAD] [PAD] [PAD] [PAD] [PAD] [PAD] [PAD] [PAD] [PAD] [PAD] [PAD] [PAD] [PAD] [PAD] [PAD] [PAD]\n",
      "y_pred:[0.2822927]\n",
      "y_true:0\n",
      "----------\n",
      "x_seq:八 族 未 来 谁 北 拱 , 四 凶 犹 在 莫 南 巡 。 [UNK] [PAD] [PAD] [PAD] [PAD] [PAD] [PAD] [PAD] [PAD] [PAD] [PAD] [PAD] [PAD]\n",
      "x_ALLU:巫 马 期 以 星 出 , 以 星 入 , 日 夜 不 居 , 以 身 亲 之 , 而 单 父 亦 治 。 [UNK] [PAD]\n",
      "y_pred:[0.6381558]\n",
      "y_true:0\n",
      "----------\n",
      "x_seq:八 族 未 来 谁 北 拱 , 四 凶 犹 在 莫 南 巡 。 [UNK] [PAD] [PAD] [PAD] [PAD] [PAD] [PAD] [PAD] [PAD] [PAD] [PAD] [PAD] [PAD]\n",
      "x_ALLU:从 祖 玄 , 吴 时 学 道 得 仙 , 号 曰 葛 仙 公 , 以 其 炼 丹 秘 术 授 弟 子 郑 隐 。\n",
      "y_pred:[0.7194107]\n",
      "y_true:0\n",
      "----------\n",
      "x_seq:桂 华 临 洛 浦 , 如 挹 李 膺 仙 。 [UNK] [PAD] [PAD] [PAD] [PAD] [PAD] [PAD] [PAD] [PAD] [PAD] [PAD] [PAD] [PAD] [PAD] [PAD] [PAD] [PAD]\n",
      "x_ALLU:郭 太 字 林 宗 , 太 原 界 休 人 也 。 家 世 贫 贱 。 早 孤 , 母 欲 使 给 事 县 廷 。\n",
      "y_pred:[0.5210519]\n",
      "y_true:1\n",
      "----------\n",
      "x_seq:桂 华 临 洛 浦 , 如 挹 李 膺 仙 。 [UNK] [PAD] [PAD] [PAD] [PAD] [PAD] [PAD] [PAD] [PAD] [PAD] [PAD] [PAD] [PAD] [PAD] [PAD] [PAD] [PAD]\n",
      "x_ALLU:庾 公 权 重 , 足 倾 王 公 。 庾 在 石 头 , 王 ( 导 ) 在 冶 城 坐 。 大 风 扬 尘 ,\n",
      "y_pred:[0.6183077]\n",
      "y_true:0\n",
      "----------\n",
      "x_seq:桂 华 临 洛 浦 , 如 挹 李 膺 仙 。 [UNK] [PAD] [PAD] [PAD] [PAD] [PAD] [PAD] [PAD] [PAD] [PAD] [PAD] [PAD] [PAD] [PAD] [PAD] [PAD] [PAD]\n",
      "x_ALLU:昔 我 往 矣 , 杨 柳 依 依 。 今 我 来 思 , 雨 雪 霏 霏 。 [UNK] [PAD] [PAD] [PAD] [PAD] [PAD] [PAD] [PAD] [PAD]\n",
      "y_pred:[0.5073054]\n",
      "y_true:0\n",
      "----------\n",
      "x_seq:桂 华 临 洛 浦 , 如 挹 李 膺 仙 。 [UNK] [PAD] [PAD] [PAD] [PAD] [PAD] [PAD] [PAD] [PAD] [PAD] [PAD] [PAD] [PAD] [PAD] [PAD] [PAD] [PAD]\n",
      "x_ALLU:日 中 大 寒 , 北 风 雨 雪 , 有 冻 人 。 天 子 作 诗 三 章 以 哀 民 , 曰 : 我 [UNK] 黄\n",
      "y_pred:[0.2358697]\n",
      "y_true:0\n",
      "----------\n",
      "END:**************************************************\n",
      "array([[0.88684857, 0.2749494 , 0.24486357, 0.14772034, 0.4857494 ,\n",
      "        0.5048508 , 0.78262746, 0.4076302 , 0.47310606, 0.37633646],\n",
      "       [0.2957402 , 0.18568236, 0.24060974, 0.7789593 , 0.6680056 ,\n",
      "        0.1268574 , 0.1284625 , 0.38239196, 0.46569437, 0.2707904 ],\n",
      "       [0.3489502 , 0.7539706 , 0.51126516, 0.60375   , 0.30999812,\n",
      "        0.5342558 , 0.3705935 , 0.20176613, 0.67097676, 0.5312167 ],\n",
      "       [0.46752977, 0.3605237 , 0.57884306, 0.29094303, 0.24713439,\n",
      "        0.14851984, 0.20429891, 0.4943037 , 0.61581355, 0.16571987],\n",
      "       [0.76876533, 0.22596297, 0.35766718, 0.256223  , 0.41654098,\n",
      "        0.38967064, 0.3916958 , 0.49680656, 0.18459198, 0.6005954 ],\n",
      "       [0.277286  , 0.54254055, 0.7894608 , 0.6574309 , 0.37503448,\n",
      "        0.48822403, 0.4627336 , 0.2822927 , 0.6381558 , 0.7194107 ],\n",
      "       [0.5210519 , 0.6183077 , 0.5073054 , 0.2358697 , 0.31505412,\n",
      "        0.24049568, 0.3348597 , 0.21346623, 0.17092356, 0.3111626 ],\n",
      "       [0.48347643, 0.5744881 , 0.43318707, 0.5021995 , 0.42438692,\n",
      "        0.5983683 , 0.5289522 , 0.2817657 , 0.8501619 , 0.5761863 ],\n",
      "       [0.8032071 , 0.5482884 , 0.514678  , 0.7412729 , 0.3237071 ,\n",
      "        0.45249465, 0.21435323, 0.2655492 , 0.17226967, 0.67450225],\n",
      "       [0.10792881, 0.4182449 , 0.7381194 , 0.73337924, 0.2253088 ,\n",
      "        0.23877048, 0.20609543, 0.28212795, 0.6529808 , 0.50702286]],\n",
      "      dtype=float32)\n",
      "array([0, 6, 5, 4, 8, 7, 9, 1, 2, 3])\n",
      "[1, 0, 0, 0, 0, 0, 0, 0, 0, 0]\n",
      "array([3, 4, 8, 7, 0, 9, 2, 1, 6, 5])\n",
      "[0, 0, 0, 0, 1, 0, 0, 0, 0, 0]\n",
      "array([1, 8, 3, 5, 9, 2, 6, 0, 4, 7])\n",
      "[0, 0, 0, 0, 0, 0, 0, 1, 0, 0]\n",
      "array([8, 2, 7, 0, 1, 3, 4, 6, 9, 5])\n",
      "[0, 0, 0, 1, 0, 0, 0, 0, 0, 0]\n",
      "array([0, 9, 7, 4, 6, 5, 2, 3, 1, 8])\n",
      "[1, 0, 0, 0, 0, 0, 0, 0, 0, 0]\n",
      "array([2, 9, 3, 8, 1, 5, 6, 4, 7, 0])\n",
      "[0, 0, 0, 0, 0, 0, 0, 0, 0, 1]\n",
      "array([1, 0, 2, 6, 4, 9, 5, 3, 7, 8])\n",
      "[0, 1, 0, 0, 0, 0, 0, 0, 0, 0]\n",
      "array([8, 5, 9, 1, 6, 3, 0, 2, 4, 7])\n",
      "[0, 0, 0, 0, 0, 0, 1, 0, 0, 0]\n",
      "array([0, 3, 9, 1, 2, 5, 4, 7, 6, 8])\n",
      "[1, 0, 0, 0, 0, 0, 0, 0, 0, 0]\n",
      "array([2, 3, 8, 9, 1, 7, 5, 4, 6, 0])\n",
      "[0, 0, 0, 0, 0, 0, 0, 0, 0, 1]\n",
      "\n",
      "----------------------------------ALLU_SOURCE PAIRMATCH METRICS -----------------------------------\n",
      "\n",
      "epoch:PAIRMATCH AVG_RANKING MRR: 0.5193\n",
      "\n",
      "----------------------------------ALLU_SOURCE END ----------------------------------\n",
      "\n",
      "----------------------------------ALLU_CLASS CLASS METRICS -----------------------------------\n",
      "\n",
      "              precision    recall  f1-score   support\n",
      "    accuracy                         0.3708       534\n",
      "   macro avg     0.2684    0.2646    0.2523       534\n",
      "weighted avg     0.3560    0.3708    0.3513       534\n",
      "\n",
      "\n",
      "epoch:classification EPOCH accuracy: 0.3707865168539326 precision: 0.268381, recall: 0.264571, f1: 0.252327\n",
      "\n",
      "-----------------------------ALLU_CLASS END ----------------------------\n",
      "train_example:**************************************************\n",
      "x_seq:常 娥 应 悔 偷 灵 药 ， 碧 海 青 天 夜 夜 心 。 [UNK] [PAD] [PAD] [PAD] [PAD] [PAD] [PAD] [PAD] [PAD] [PAD] [PAD] [PAD] [PAD]\n",
      "y_pred:九流部\n",
      "y_true:九流部\n",
      "----------\n",
      "x_seq:玉 润 犹 沾 玉 垒 雪 ， 碧 鲜 似 染 [UNK] 弘 血 。 [UNK] [PAD] [PAD] [PAD] [PAD] [PAD] [PAD] [PAD] [PAD] [PAD] [PAD] [PAD] [PAD]\n",
      "y_pred:人体部\n",
      "y_true:人体部\n",
      "----------\n",
      "x_seq:已 符 东 山 趣 ， 况 值 江 南 秋 。 [UNK] [PAD] [PAD] [PAD] [PAD] [PAD] [PAD] [PAD] [PAD] [PAD] [PAD] [PAD] [PAD] [PAD] [PAD] [PAD] [PAD]\n",
      "y_pred:人事部\n",
      "y_true:人事部\n",
      "----------\n",
      "x_seq:舐 痔 或 尝 粪 ， 车 服 夸 新 好 。 [UNK] [PAD] [PAD] [PAD] [PAD] [PAD] [PAD] [PAD] [PAD] [PAD] [PAD] [PAD] [PAD] [PAD] [PAD] [PAD] [PAD]\n",
      "y_pred:人体部\n",
      "y_true:人体部\n",
      "----------\n",
      "x_seq:呦 呦 思 近 华 山 路 ， 祝 祝 复 远 尸 乡 鸡 。 [UNK] [PAD] [PAD] [PAD] [PAD] [PAD] [PAD] [PAD] [PAD] [PAD] [PAD] [PAD] [PAD]\n",
      "y_pred:动物部\n",
      "y_true:动物部\n",
      "----------\n",
      "x_seq:闲 身 欲 住 张 融 舸 ， 短 发 羞 [UNK] 杜 甫 冠 。 [UNK] [PAD] [PAD] [PAD] [PAD] [PAD] [PAD] [PAD] [PAD] [PAD] [PAD] [PAD] [PAD]\n",
      "y_pred:器用部\n",
      "y_true:器用部\n",
      "----------\n",
      "x_seq:漱 石 先 生 难 可 意 ， 啮 毡 校 尉 久 无 明 。 [UNK] [PAD] [PAD] [PAD] [PAD] [PAD] [PAD] [PAD] [PAD] [PAD] [PAD] [PAD] [PAD]\n",
      "y_pred:人物部\n",
      "y_true:地理部\n",
      "----------\n",
      "x_seq:一 见 刺 史 天 ， 稍 忘 狱 吏 尊 。 [UNK] [PAD] [PAD] [PAD] [PAD] [PAD] [PAD] [PAD] [PAD] [PAD] [PAD] [PAD] [PAD] [PAD] [PAD] [PAD] [PAD]\n",
      "y_pred:人物部\n",
      "y_true:人物部\n",
      "----------\n",
      "x_seq:高 情 帝 王 慕 乘 驾 ， 绀 发 初 簪 玉 叶 冠 、 [UNK] [PAD] [PAD] [PAD] [PAD] [PAD] [PAD] [PAD] [PAD] [PAD] [PAD] [PAD] [PAD]\n",
      "y_pred:人体部\n",
      "y_true:动物部\n",
      "----------\n",
      "x_seq:中 年 涉 事 熟 ， 欲 学 唾 面 娄 。 [UNK] [PAD] [PAD] [PAD] [PAD] [PAD] [PAD] [PAD] [PAD] [PAD] [PAD] [PAD] [PAD] [PAD] [PAD] [PAD] [PAD]\n",
      "y_pred:人物部\n",
      "y_true:人物部\n",
      "----------\n",
      "END:**************************************************\n",
      "test_example:**************************************************\n",
      "x_seq:瓮 间 眠 太 率 ， 床 下 隐 何 卑 。 [UNK] [PAD] [PAD] [PAD] [PAD] [PAD] [PAD] [PAD] [PAD] [PAD] [PAD] [PAD] [PAD] [PAD] [PAD] [PAD] [PAD]\n",
      "y_pred:器用部\n",
      "y_true:人事部\n",
      "----------\n",
      "x_seq:韦 氏 传 经 业 ， 毛 生 捧 檄 心 。 [UNK] [PAD] [PAD] [PAD] [PAD] [PAD] [PAD] [PAD] [PAD] [PAD] [PAD] [PAD] [PAD] [PAD] [PAD] [PAD] [PAD]\n",
      "y_pred:政事部\n",
      "y_true:伦类部\n",
      "----------\n",
      "x_seq:寂 寂 岂 惟 惭 邓 禹 ， 厌 厌 更 觉 类 曹 蜍 。 [UNK] [PAD] [PAD] [PAD] [PAD] [PAD] [PAD] [PAD] [PAD] [PAD] [PAD] [PAD] [PAD]\n",
      "y_pred:人物部\n",
      "y_true:人事部\n",
      "----------\n",
      "x_seq:且 当 横 行 去 ， 谁 论 裹 尸 人 。 [UNK] [PAD] [PAD] [PAD] [PAD] [PAD] [PAD] [PAD] [PAD] [PAD] [PAD] [PAD] [PAD] [PAD] [PAD] [PAD] [PAD]\n",
      "y_pred:人事部\n",
      "y_true:人事部\n",
      "----------\n",
      "x_seq:虎 知 应 去 境 ， 牛 在 肯 全 形 。 [UNK] [PAD] [PAD] [PAD] [PAD] [PAD] [PAD] [PAD] [PAD] [PAD] [PAD] [PAD] [PAD] [PAD] [PAD] [PAD] [PAD]\n",
      "y_pred:动物部\n",
      "y_true:政事部\n",
      "----------\n",
      "x_seq:卓 彼 文 靖 公 ， 早 立 程 门 雪 。 [UNK] [PAD] [PAD] [PAD] [PAD] [PAD] [PAD] [PAD] [PAD] [PAD] [PAD] [PAD] [PAD] [PAD] [PAD] [PAD] [PAD]\n",
      "y_pred:器用部\n",
      "y_true:天文部\n",
      "----------\n",
      "x_seq:如 何 农 亩 三 时 望 ， 只 得 官 蛙 一 饷 鸣 。 [UNK] [PAD] [PAD] [PAD] [PAD] [PAD] [PAD] [PAD] [PAD] [PAD] [PAD] [PAD] [PAD]\n",
      "y_pred:动物部\n",
      "y_true:动物部\n",
      "----------\n",
      "x_seq:圣 朝 寰 海 静 ， 所 至 不 埋 轮 。 [UNK] [PAD] [PAD] [PAD] [PAD] [PAD] [PAD] [PAD] [PAD] [PAD] [PAD] [PAD] [PAD] [PAD] [PAD] [PAD] [PAD]\n",
      "y_pred:地理部\n",
      "y_true:器用部\n",
      "----------\n",
      "x_seq:梦 人 神 山 教 神 妪 ， 老 鱼 跳 波 瘦 蛟 舞 。 [UNK] [PAD] [PAD] [PAD] [PAD] [PAD] [PAD] [PAD] [PAD] [PAD] [PAD] [PAD] [PAD]\n",
      "y_pred:九流部\n",
      "y_true:动物部\n",
      "----------\n",
      "x_seq:毋 许 [UNK] 乃 公 ， 鼾 睡 卧 榻 侧 。 [UNK] [PAD] [PAD] [PAD] [PAD] [PAD] [PAD] [PAD] [PAD] [PAD] [PAD] [PAD] [PAD] [PAD] [PAD] [PAD] [PAD]\n",
      "y_pred:器用部\n",
      "y_true:器用部\n",
      "----------\n",
      "END:**************************************************\n",
      "\n",
      "----------------------------------READABILITY CLASS METRICS -----------------------------------\n",
      "\n",
      "              precision    recall  f1-score   support\n",
      "    accuracy                         0.6606       383\n",
      "   macro avg     0.7308    0.6547    0.6816       383\n",
      "weighted avg     0.6814    0.6606    0.6642       383\n",
      "\n",
      "\n",
      "epoch:classification EPOCH accuracy: 0.660574412532637 precision: 0.730779, recall: 0.654701, f1: 0.681577\n",
      "\n",
      "-----------------------------READABILITY END ----------------------------\n",
      "train_example:**************************************************\n",
      "x_seq:忆 对 中 秋 丹 桂 丛 ， 花 也 杯 中 ， 月 也 杯 中 。 今 宵 楼 上 一 尊 同 ， 云 湿 纱\n",
      "y_pred:1\n",
      "y_true:2\n",
      "----------\n",
      "x_seq:猿 鸣 诚 知 曙 ， 谷 幽 光 未 显 。 岩 下 云 方 合 ， 花 上 露 犹 泫 。 逶 迤 傍 隈 [UNK]\n",
      "y_pred:2\n",
      "y_true:3\n",
      "----------\n",
      "x_seq:去 年 落 一 牙 ， 今 年 落 一 齿 。 俄 然 落 六 七 ， 落 势 殊 未 已 。 馀 存 皆 动 摇\n",
      "y_pred:2\n",
      "y_true:2\n",
      "----------\n",
      "x_seq:渴 不 饮 盗 泉 水 ， 热 不 息 恶 木 阴 。 恶 木 岂 无 枝 ？ 志 士 多 苦 心 。 整 驾 肃\n",
      "y_pred:2\n",
      "y_true:2\n",
      "----------\n",
      "x_seq:小 筑 暂 高 枕 ， 忧 时 旧 有 盟 。 呼 樽 来 揖 客 ， 挥 [UNK] 坐 谈 兵 。 云 护 牙 签 满\n",
      "y_pred:2\n",
      "y_true:2\n",
      "----------\n",
      "x_seq:界 围 汇 湘 曲 ， 青 壁 环 澄 流 。 悬 泉 粲 成 帘 ， 罗 注 无 时 休 。 韵 磬 叩 凝 碧\n",
      "y_pred:2\n",
      "y_true:3\n",
      "----------\n",
      "x_seq:餐 霞 卧 旧 壑 ， 散 发 谢 远 游 。 山 蝉 号 枯 桑 ， 始 复 知 天 秋 。 朔 雁 别 海 裔\n",
      "y_pred:2\n",
      "y_true:2\n",
      "----------\n",
      "x_seq:结 发 为 夫 妻 ， 恩 爱 两 不 疑 。 欢 娱 在 今 夕 ， 嬿 婉 及 良 时 。 征 夫 怀 远 路\n",
      "y_pred:2\n",
      "y_true:1\n",
      "----------\n",
      "x_seq:候 馆 梅 残 ， 溪 桥 柳 细 。 草 薰 风 暖 摇 征 [UNK] 。 离 愁 渐 远 渐 无 穷 ， 迢 迢 不\n",
      "y_pred:2\n",
      "y_true:2\n",
      "----------\n",
      "x_seq:山 不 在 高 ， 有 仙 则 名 。 水 不 在 深 ， 有 龙 则 灵 。 斯 是 陋 室 ， 惟 吾 德 馨\n",
      "y_pred:2\n",
      "y_true:2\n",
      "----------\n",
      "END:**************************************************\n",
      "test_example:**************************************************\n",
      "x_seq:迢 迢 天 汉 西 南 落 ， 喔 喔 邻 鸡 一 再 鸣 。 壮 志 病 来 消 欲 尽 ， 出 门 搔 首 怆\n",
      "y_pred:2\n",
      "y_true:1\n",
      "----------\n",
      "x_seq:原 来 姹 紫 嫣 红 开 遍 ， 似 这 般 都 付 与 断 井 颓 垣 ， 良 辰 美 景 奈 何 天 ， 赏\n",
      "y_pred:2\n",
      "y_true:1\n",
      "----------\n",
      "x_seq:添 线 绣 床 人 倦 ， 翻 香 罗 幕 烟 斜 。 五 更 箫 鼓 贵 人 家 。 门 外 晓 寒 嘶 马 。\n",
      "y_pred:1\n",
      "y_true:1\n",
      "----------\n",
      "x_seq:余 于 长 沙 公 为 族 ， 祖 同 出 大 司 马 。 昭 穆 既 远 ， 以 为 路 人 。 经 过 浔 阳\n",
      "y_pred:3\n",
      "y_true:3\n",
      "----------\n",
      "x_seq:天 上 月 ， 遥 望 似 一 团 银 。 夜 久 更 阑 风 渐 紧 。 与 奴 吹 散 月 边 云 。 照 见\n",
      "y_pred:1\n",
      "y_true:1\n",
      "----------\n",
      "x_seq:漫 漫 秋 夜 长 ， 烈 烈 北 风 凉 。 展 转 不 能 寐 ， 披 衣 起 彷 徨 。 彷 徨 忽 已 久\n",
      "y_pred:2\n",
      "y_true:1\n",
      "----------\n",
      "x_seq:[UNK] [UNK] 青 骊 马 ， 往 战 城 南 畿 。 五 历 鱼 丽 阵 ， 三 入 九 重 围 。 名 慑 武 安 将\n",
      "y_pred:2\n",
      "y_true:2\n",
      "----------\n",
      "x_seq:故 人 柳 子 厚 之 谪 永 州 ， 得 胜 地 ， 结 茅 树 蔬 ， 为 沼 [UNK] ， 为 台 榭 ， 目 曰\n",
      "y_pred:2\n",
      "y_true:1\n",
      "----------\n",
      "x_seq:车 驾 至 临 溜 自 劳 军 ， 群 臣 大 会 。 帝 谓 [UNK] 曰 ： [UNK] 昔 韩 信 破 历 下 以 开 基\n",
      "y_pred:3\n",
      "y_true:2\n",
      "----------\n",
      "x_seq:桂 树 丛 生 兮 山 之 幽 ， 偃 蹇 连 蜷 兮 枝 相 缭 。 山 气 [UNK] [UNK] 兮 石 嵯 峨 ， 溪 谷\n",
      "y_pred:2\n",
      "y_true:3\n",
      "----------"
     ]
    },
    {
     "name": "stderr",
     "output_type": "stream",
     "text": [
      "I:SAMPLE_TRAINER:[sampler_mu: 43]:cur_split_idx 2th END\n",
      "I:SAMPLE_TRAINER:[sampler_mu: 44]:****************************************************************************************************\n",
      "I:SAMPLE_TRAINER:[sampler_mu: 45]:****************************************************************************************************\n",
      "I:BASE TASK:[base_task.:270]:Task NER:\n",
      "I:BASE TASK:[base_task.:271]:\t32 training batches\n",
      "I:BASE TASK:[base_task.:272]:\t6 validation batches\n",
      "I:BASE TASK:[base_task.:273]:\t10 test batches\n",
      "I:BASE TASK:[base_task.:270]:Task ALLU_CLASS:\n",
      "I:BASE TASK:[base_task.:271]:\t29 training batches\n",
      "I:BASE TASK:[base_task.:272]:\t6 validation batches\n",
      "I:BASE TASK:[base_task.:273]:\t9 test batches\n",
      "I:BASE TASK:[base_task.:270]:Task READABILITY:\n",
      "I:BASE TASK:[base_task.:271]:\t21 training batches\n",
      "I:BASE TASK:[base_task.:272]:\t4 validation batches\n",
      "I:BASE TASK:[base_task.:273]:\t6 test batches\n"
     ]
    },
    {
     "name": "stdout",
     "output_type": "stream",
     "text": [
      "\n",
      "END:**************************************************\n"
     ]
    },
    {
     "name": "stderr",
     "output_type": "stream",
     "text": [
      "I:BASE TASK:[base_task.:270]:Task ALLU_SOURCE:\n",
      "I:BASE TASK:[base_task.:271]:\t64 training batches\n",
      "I:BASE TASK:[base_task.:272]:\t12 validation batches\n",
      "I:BASE TASK:[base_task.:273]:\t94 test batches\n",
      "I:BERT EMBEDDING:[bert_embed:105]:seq_len:30\n",
      "I:BERT EMBEDDING:[bert_embed:105]:seq_len:30\n",
      "I:AHMTL MODEL:[AHMTL.py:126]:Multi-Task Learning Model has been instantiated.\n",
      "I:CUR_SPLIT:3:[sampler_mu: 92]:Set up ready. Begining training/validation.\n",
      "I:BASE-MODEL:[base_model:133]:NER's model_dir is ./model_ckpt/2020-02-04-01_18_48/3/NER-Naive_CRF_Model\n",
      "I:BASE-MODEL:[base_model:232]:[NER]:train info:Train on 2040 samples, validate on 360 samples\n",
      "I:BASE-MODEL:[base_model:133]:ALLU_SOURCE's model_dir is ./model_ckpt/2020-02-04-01_18_48/3/ALLU_SOURCE-NaiveDenseModel\n",
      "I:BASE-MODEL:[base_model:232]:[ALLU_SOURCE]:train info:Train on 4080 samples, validate on 720 samples\n",
      "I:BASE-MODEL:[base_model:133]:ALLU_CLASS's model_dir is ./model_ckpt/2020-02-04-01_18_48/3/ALLU_CLASS-NaiveDenseModel\n",
      "I:BASE-MODEL:[base_model:232]:[ALLU_CLASS]:train info:Train on 1814 samples, validate on 321 samples\n",
      "I:BASE-MODEL:[base_model:133]:READABILITY's model_dir is ./model_ckpt/2020-02-04-01_18_48/3/READABILITY-NaiveDenseModel\n",
      "I:BASE-MODEL:[base_model:232]:[READABILITY]:train info:Train on 1301 samples, validate on 230 samples\n"
     ]
    },
    {
     "name": "stdout",
     "output_type": "stream",
     "text": [
      "Epoch 1/50\n",
      "146/146 [==============================] - 253s 2s/step - task_name:     NER     - loss: 9.9673 - accuracy: 0.7608 - val_loss: 13.9724 - val_accuracy: 0.7154\n",
      "146/146 [==============================] - 253s 2s/step - task_name: ALLU_SOURCE - loss: 0.6332 - accuracy: 0.5452 - val_loss: 0.7021 - val_accuracy: 0.5898 \n",
      "146/146 [==============================] - 253s 2s/step - task_name: ALLU_CLASS  - loss: 2.5838 - accuracy: 0.2642 - val_loss: 2.3491 - val_accuracy: 0.3724\n",
      "146/146 [==============================] - 253s 2s/step - task_name: READABILITY - loss: 0.9362 - accuracy: 0.5897 - val_loss: 0.8205 - val_accuracy: 0.6680\n"
     ]
    },
    {
     "name": "stderr",
     "output_type": "stream",
     "text": [
      "I:CUR_SPLIT:3:[sampler_mu:139]:----------------------------------------------------------------------------------------------------\n"
     ]
    },
    {
     "name": "stdout",
     "output_type": "stream",
     "text": [
      "Epoch 2/50\n",
      "146/146 [==============================] - 56s 385ms/step - task_name:     NER     - loss: 5.0949 - accuracy: 0.8033 - val_loss: 13.6966 - val_accuracy: 0.7249\n",
      "146/146 [==============================] - 56s 385ms/step - task_name: ALLU_SOURCE - loss: 0.7106 - accuracy: 0.6156 - val_loss: 0.6886 - val_accuracy: 0.6016 \n",
      "146/146 [==============================] - 56s 385ms/step - task_name: ALLU_CLASS  - loss: 1.7538 - accuracy: 0.3929 - val_loss: 2.1630 - val_accuracy: 0.4062\n",
      "146/146 [==============================] - 56s 385ms/step - task_name: READABILITY - loss: 0.8107 - accuracy: 0.6894 - val_loss: 0.7874 - val_accuracy: 0.6562\n"
     ]
    },
    {
     "name": "stderr",
     "output_type": "stream",
     "text": [
      "I:CUR_SPLIT:3:[sampler_mu:139]:----------------------------------------------------------------------------------------------------\n"
     ]
    },
    {
     "name": "stdout",
     "output_type": "stream",
     "text": [
      "Epoch 3/50\n",
      "146/146 [==============================] - 47s 320ms/step - task_name:     NER     - loss: 7.4079 - accuracy: 0.8032 - val_loss: 13.4770 - val_accuracy: 0.7262\n",
      "146/146 [==============================] - 47s 320ms/step - task_name: ALLU_SOURCE - loss: 0.7082 - accuracy: 0.6548 - val_loss: 0.6997 - val_accuracy: 0.6315 \n",
      "146/146 [==============================] - 47s 320ms/step - task_name: ALLU_CLASS  - loss: 1.5948 - accuracy: 0.4498 - val_loss: 2.1054 - val_accuracy: 0.4427\n",
      "146/146 [==============================] - 47s 320ms/step - task_name: READABILITY - loss: 0.3125 - accuracy: 0.7016 - val_loss: 0.7965 - val_accuracy: 0.6406\n"
     ]
    },
    {
     "name": "stderr",
     "output_type": "stream",
     "text": [
      "I:CUR_SPLIT:3:[sampler_mu:139]:----------------------------------------------------------------------------------------------------\n"
     ]
    },
    {
     "name": "stdout",
     "output_type": "stream",
     "text": [
      "Epoch 4/50\n",
      "145/146 [============================>.] - ETA: 0s - task_name: ALLU_SOURCE - loss: 0.5724 - accuracy: 0.6764\n",
      "Epoch 00004: ReduceLROnPlateau reducing learning rate to 0.0007000000332482159.\n",
      "146/146 [==============================] - 52s 359ms/step - task_name:     NER     - loss: 4.4712 - accuracy: 0.8050 - val_loss: 13.3126 - val_accuracy: 0.7336\n",
      "146/146 [==============================] - 52s 359ms/step - task_name: ALLU_SOURCE - loss: 0.6687 - accuracy: 0.6777 - val_loss: 0.6804 - val_accuracy: 0.6393 \n",
      "146/146 [==============================] - 52s 359ms/step - task_name: ALLU_CLASS  - loss: 1.6341 - accuracy: 0.5251 - val_loss: 2.1526 - val_accuracy: 0.4089\n",
      "146/146 [==============================] - 52s 359ms/step - task_name: READABILITY - loss: 0.5354 - accuracy: 0.7127 - val_loss: 0.7810 - val_accuracy: 0.6641\n"
     ]
    },
    {
     "name": "stderr",
     "output_type": "stream",
     "text": [
      "I:CUR_SPLIT:3:[sampler_mu:139]:----------------------------------------------------------------------------------------------------\n"
     ]
    },
    {
     "name": "stdout",
     "output_type": "stream",
     "text": [
      "Epoch 5/50\n",
      "146/146 [==============================] - 44s 301ms/step - task_name:     NER     - loss: 6.3091 - accuracy: 0.8121 - val_loss: 13.0622 - val_accuracy: 0.7369\n",
      "146/146 [==============================] - 44s 301ms/step - task_name: ALLU_SOURCE - loss: 0.6393 - accuracy: 0.7314 - val_loss: 0.6990 - val_accuracy: 0.6263 \n",
      "146/146 [==============================] - 44s 301ms/step - task_name: ALLU_CLASS  - loss: 0.9021 - accuracy: 0.5820 - val_loss: 2.1294 - val_accuracy: 0.4036\n",
      "146/146 [==============================] - 44s 301ms/step - task_name: READABILITY - loss: 0.4180 - accuracy: 0.7333 - val_loss: 0.8732 - val_accuracy: 0.6250\n"
     ]
    },
    {
     "name": "stderr",
     "output_type": "stream",
     "text": [
      "I:CUR_SPLIT:3:[sampler_mu:139]:----------------------------------------------------------------------------------------------------\n"
     ]
    },
    {
     "name": "stdout",
     "output_type": "stream",
     "text": [
      "Epoch 6/50\n",
      "145/146 [============================>.] - ETA: 0s - task_name: ALLU_SOURCE - loss: 0.4846 - accuracy: 0.7659\n",
      "Epoch 00006: ReduceLROnPlateau reducing learning rate to 0.0007000000332482159.\n",
      "146/146 [==============================] - 44s 299ms/step - task_name:     NER     - loss: 5.6959 - accuracy: 0.8168 - val_loss: 12.8839 - val_accuracy: 0.7339\n",
      "146/146 [==============================] - 44s 299ms/step - task_name: ALLU_SOURCE - loss: 0.5032 - accuracy: 0.7652 - val_loss: 0.7213 - val_accuracy: 0.6289 \n",
      "146/146 [==============================] - 44s 299ms/step - task_name: ALLU_CLASS  - loss: 1.0035 - accuracy: 0.6075 - val_loss: 2.1908 - val_accuracy: 0.3880\n",
      "146/146 [==============================] - 44s 300ms/step - task_name: READABILITY - loss: 0.6145 - accuracy: 0.7682 - val_loss: 0.7875 - val_accuracy: 0.6758\n"
     ]
    },
    {
     "name": "stderr",
     "output_type": "stream",
     "text": [
      "I:CUR_SPLIT:3:[sampler_mu:139]:----------------------------------------------------------------------------------------------------\n"
     ]
    },
    {
     "name": "stdout",
     "output_type": "stream",
     "text": [
      "Epoch 7/50\n",
      "145/146 [============================>.] - ETA: 0s - task_name: ALLU_SOURCE - loss: 0.4408 - accuracy: 0.7734\n",
      "Epoch 00007: ReduceLROnPlateau reducing learning rate to 0.0007000000332482159.\n",
      "146/146 [==============================] - 43s 296ms/step - task_name:     NER     - loss: 7.2349 - accuracy: 0.8238 - val_loss: 12.5250 - val_accuracy: 0.7302\n",
      "146/146 [==============================] - 43s 296ms/step - task_name: ALLU_SOURCE - loss: 0.3700 - accuracy: 0.7742 - val_loss: 0.7054 - val_accuracy: 0.6315 \n",
      "146/146 [==============================] - 43s 296ms/step - task_name: ALLU_CLASS  - loss: 0.9981 - accuracy: 0.6635 - val_loss: 2.2750 - val_accuracy: 0.3828\n",
      "146/146 [==============================] - 43s 296ms/step - task_name: READABILITY - loss: 0.5855 - accuracy: 0.7906 - val_loss: 0.8057 - val_accuracy: 0.6602\n"
     ]
    },
    {
     "name": "stderr",
     "output_type": "stream",
     "text": [
      "I:CUR_SPLIT:3:[sampler_mu:139]:----------------------------------------------------------------------------------------------------\n"
     ]
    },
    {
     "name": "stdout",
     "output_type": "stream",
     "text": [
      "Epoch 8/50\n",
      "145/146 [============================>.] - ETA: 0s - task_name: ALLU_SOURCE - loss: 0.4623 - accuracy: 0.7899\n",
      "Epoch 00008: ReduceLROnPlateau reducing learning rate to 0.0007000000332482159.\n",
      "146/146 [==============================] - 44s 303ms/step - task_name:     NER     - loss: 3.7972 - accuracy: 0.8315 - val_loss: 12.4314 - val_accuracy: 0.7366\n",
      "146/146 [==============================] - 44s 303ms/step - task_name: ALLU_SOURCE - loss: 0.4485 - accuracy: 0.7899 - val_loss: 0.7320 - val_accuracy: 0.6302 \n",
      "146/146 [==============================] - 44s 303ms/step - task_name: ALLU_CLASS  - loss: 1.1159 - accuracy: 0.7230 - val_loss: 2.4579 - val_accuracy: 0.3802\n",
      "146/146 [==============================] - 44s 303ms/step - task_name: READABILITY - loss: 0.4248 - accuracy: 0.8408 - val_loss: 0.8399 - val_accuracy: 0.6680\n"
     ]
    },
    {
     "name": "stderr",
     "output_type": "stream",
     "text": [
      "I:CUR_SPLIT:3:[sampler_mu:139]:----------------------------------------------------------------------------------------------------\n"
     ]
    },
    {
     "name": "stdout",
     "output_type": "stream",
     "text": [
      "Epoch 9/50\n",
      "146/146 [==============================] - 44s 303ms/step - task_name:     NER     - loss: 5.5091 - accuracy: 0.8381 - val_loss: 12.3048 - val_accuracy: 0.7338\n",
      "146/146 [==============================] - 44s 303ms/step - task_name: ALLU_SOURCE - loss: 0.4357 - accuracy: 0.8109 - val_loss: 0.8010 - val_accuracy: 0.6289 \n",
      "146/146 [==============================] - 44s 303ms/step - task_name: ALLU_CLASS  - loss: 0.6951 - accuracy: 0.7885 - val_loss: 2.4120 - val_accuracy: 0.3776\n",
      "146/146 [==============================] - 44s 303ms/step - task_name: READABILITY - loss: 0.2988 - accuracy: 0.8535 - val_loss: 0.8656 - val_accuracy: 0.6641\n"
     ]
    },
    {
     "name": "stderr",
     "output_type": "stream",
     "text": [
      "I:CUR_SPLIT:3:[sampler_mu:139]:----------------------------------------------------------------------------------------------------\n"
     ]
    },
    {
     "name": "stdout",
     "output_type": "stream",
     "text": [
      "Epoch 10/50\n",
      "145/146 [============================>.] - ETA: 0s - task_name: ALLU_SOURCE - loss: 0.2995 - accuracy: 0.8214\n",
      "Epoch 00010: ReduceLROnPlateau reducing learning rate to 0.0004900000232737511.\n",
      "146/146 [==============================] - 45s 308ms/step - task_name:     NER     - loss: 4.1798 - accuracy: 0.8401 - val_loss: 12.2233 - val_accuracy: 0.7358\n",
      "146/146 [==============================] - 45s 308ms/step - task_name: ALLU_SOURCE - loss: 0.4551 - accuracy: 0.8214 - val_loss: 0.8359 - val_accuracy: 0.6250 \n",
      "146/146 [==============================] - 45s 308ms/step - task_name: ALLU_CLASS  - loss: 0.5790 - accuracy: 0.8089 - val_loss: 2.5283 - val_accuracy: 0.3932\n",
      "146/146 [==============================] - 45s 308ms/step - task_name: READABILITY - loss: 0.3237 - accuracy: 0.8775 - val_loss: 0.8466 - val_accuracy: 0.6406\n"
     ]
    },
    {
     "name": "stderr",
     "output_type": "stream",
     "text": [
      "I:CUR_SPLIT:3:[sampler_mu:139]:----------------------------------------------------------------------------------------------------\n"
     ]
    },
    {
     "name": "stdout",
     "output_type": "stream",
     "text": [
      "Epoch 11/50\n",
      "145/146 [============================>.] - ETA: 0s - task_name: ALLU_SOURCE - loss: 0.3836 - accuracy: 0.8517\n",
      "Epoch 00011: ReduceLROnPlateau reducing learning rate to 0.0004900000232737511.\n",
      "146/146 [==============================] - 36s 249ms/step - task_name:     NER     - loss: 5.2973 - accuracy: 0.8358 - val_loss: 12.1539 - val_accuracy: 0.7360\n",
      "146/146 [==============================] - 36s 249ms/step - task_name: ALLU_SOURCE - loss: 0.3013 - accuracy: 0.8517 - val_loss: 0.8142 - val_accuracy: 0.6523 \n",
      "146/146 [==============================] - 36s 249ms/step - task_name: READABILITY - loss: 0.4162 - accuracy: 0.8341 - val_loss: 0.8501 - val_accuracy: 0.6289\n"
     ]
    },
    {
     "name": "stderr",
     "output_type": "stream",
     "text": [
      "I:CUR_SPLIT:3:[sampler_mu:139]:----------------------------------------------------------------------------------------------------\n"
     ]
    },
    {
     "name": "stdout",
     "output_type": "stream",
     "text": [
      "Epoch 12/50\n",
      "146/146 [==============================] - 10s 66ms/step - task_name:     NER     - loss: 3.6301 - accuracy: 0.8417 - val_loss: 12.0068 - val_accuracy: 0.7330\n"
     ]
    },
    {
     "name": "stderr",
     "output_type": "stream",
     "text": [
      "I:CUR_SPLIT:3:[sampler_mu:139]:----------------------------------------------------------------------------------------------------\n"
     ]
    },
    {
     "name": "stdout",
     "output_type": "stream",
     "text": [
      "Epoch 13/50\n",
      "146/146 [==============================] - 11s 79ms/step - task_name:     NER     - loss: 4.5293 - accuracy: 0.8463 - val_loss: 11.9340 - val_accuracy: 0.7357\n"
     ]
    },
    {
     "name": "stderr",
     "output_type": "stream",
     "text": [
      "I:CUR_SPLIT:3:[sampler_mu:139]:----------------------------------------------------------------------------------------------------\n"
     ]
    },
    {
     "name": "stdout",
     "output_type": "stream",
     "text": [
      "Epoch 14/50\n",
      "146/146 [==============================] - 12s 79ms/step - task_name:     NER     - loss: 4.8213 - accuracy: 0.8477 - val_loss: 11.8647 - val_accuracy: 0.7349\n"
     ]
    },
    {
     "name": "stderr",
     "output_type": "stream",
     "text": [
      "I:CUR_SPLIT:3:[sampler_mu:139]:----------------------------------------------------------------------------------------------------\n"
     ]
    },
    {
     "name": "stdout",
     "output_type": "stream",
     "text": [
      "Epoch 15/50\n",
      "143/146 [============================>.] - ETA: 0s - task_name:     NER     - loss: 4.6665 - accuracy: 0.8515\n",
      "Epoch 00015: ReduceLROnPlateau reducing learning rate to 0.00034300000406801696.\n",
      "146/146 [==============================] - 11s 79ms/step - task_name:     NER     - loss: 4.8295 - accuracy: 0.8520 - val_loss: 11.7608 - val_accuracy: 0.7383\n"
     ]
    },
    {
     "name": "stderr",
     "output_type": "stream",
     "text": [
      "I:CUR_SPLIT:3:[sampler_mu:139]:----------------------------------------------------------------------------------------------------\n"
     ]
    },
    {
     "name": "stdout",
     "output_type": "stream",
     "text": [
      "Epoch 16/50\n",
      "146/146 [==============================] - 11s 76ms/step - task_name:     NER     - loss: 4.1355 - accuracy: 0.8571 - val_loss: 11.6539 - val_accuracy: 0.7393\n"
     ]
    },
    {
     "name": "stderr",
     "output_type": "stream",
     "text": [
      "I:CUR_SPLIT:3:[sampler_mu:139]:----------------------------------------------------------------------------------------------------\n"
     ]
    },
    {
     "name": "stdout",
     "output_type": "stream",
     "text": [
      "Epoch 17/50\n",
      "146/146 [==============================] - 13s 91ms/step - task_name:     NER     - loss: 5.3147 - accuracy: 0.8648 - val_loss: 11.5497 - val_accuracy: 0.7414\n"
     ]
    },
    {
     "name": "stderr",
     "output_type": "stream",
     "text": [
      "I:CUR_SPLIT:3:[sampler_mu:139]:----------------------------------------------------------------------------------------------------\n"
     ]
    },
    {
     "name": "stdout",
     "output_type": "stream",
     "text": [
      "Epoch 18/50\n",
      "142/146 [============================>.] - ETA: 0s - task_name:     NER     - loss: 4.3983 - accuracy: 0.8632\n",
      "Epoch 00018: ReduceLROnPlateau reducing learning rate to 0.00024009999469853935.\n",
      "146/146 [==============================] - 12s 81ms/step - task_name:     NER     - loss: 4.3327 - accuracy: 0.8632 - val_loss: 11.5050 - val_accuracy: 0.7397\n"
     ]
    },
    {
     "name": "stderr",
     "output_type": "stream",
     "text": [
      "I:CUR_SPLIT:3:[sampler_mu:139]:----------------------------------------------------------------------------------------------------\n"
     ]
    },
    {
     "name": "stdout",
     "output_type": "stream",
     "text": [
      "Epoch 19/50\n",
      "146/146 [==============================] - 12s 80ms/step - task_name:     NER     - loss: 4.2101 - accuracy: 0.8694 - val_loss: 11.4401 - val_accuracy: 0.7358\n"
     ]
    },
    {
     "name": "stderr",
     "output_type": "stream",
     "text": [
      "I:CUR_SPLIT:3:[sampler_mu:139]:----------------------------------------------------------------------------------------------------\n"
     ]
    },
    {
     "name": "stdout",
     "output_type": "stream",
     "text": [
      "Epoch 20/50\n",
      "146/146 [==============================] - 10s 69ms/step - task_name:     NER     - loss: 4.8497 - accuracy: 0.8703 - val_loss: 11.5820 - val_accuracy: 0.7399\n"
     ]
    },
    {
     "name": "stderr",
     "output_type": "stream",
     "text": [
      "I:CUR_SPLIT:3:[sampler_mu:139]:----------------------------------------------------------------------------------------------------\n"
     ]
    },
    {
     "name": "stdout",
     "output_type": "stream",
     "text": [
      "Epoch 21/50\n",
      "146/146 [==============================] - 8s 52ms/step - task_name:     NER     - loss: 3.4736 - accuracy: 0.8709 - val_loss: 11.4580 - val_accuracy: 0.7414\n"
     ]
    },
    {
     "name": "stderr",
     "output_type": "stream",
     "text": [
      "I:CUR_SPLIT:3:[sampler_mu:139]:----------------------------------------------------------------------------------------------------\n"
     ]
    },
    {
     "name": "stdout",
     "output_type": "stream",
     "text": [
      "Epoch 22/50\n",
      "146/146 [==============================] - 11s 74ms/step - task_name:     NER     - loss: 3.6094 - accuracy: 0.8779 - val_loss: 11.3716 - val_accuracy: 0.7418\n"
     ]
    },
    {
     "name": "stderr",
     "output_type": "stream",
     "text": [
      "I:CUR_SPLIT:3:[sampler_mu:139]:----------------------------------------------------------------------------------------------------\n"
     ]
    },
    {
     "name": "stdout",
     "output_type": "stream",
     "text": [
      "Epoch 23/50\n",
      "146/146 [==============================] - 13s 91ms/step - task_name:     NER     - loss: 4.9030 - accuracy: 0.8800 - val_loss: 11.3284 - val_accuracy: 0.7356\n"
     ]
    },
    {
     "name": "stderr",
     "output_type": "stream",
     "text": [
      "I:CUR_SPLIT:3:[sampler_mu:139]:----------------------------------------------------------------------------------------------------\n"
     ]
    },
    {
     "name": "stdout",
     "output_type": "stream",
     "text": [
      "Epoch 24/50\n",
      "142/146 [============================>.] - ETA: 0s - task_name:     NER     - loss: 3.7273 - accuracy: 0.8823\n",
      "Epoch 00024: ReduceLROnPlateau reducing learning rate to 0.00016806999628897755.\n",
      "146/146 [==============================] - 11s 78ms/step - task_name:     NER     - loss: 3.7079 - accuracy: 0.8823 - val_loss: 11.2831 - val_accuracy: 0.7342\n"
     ]
    },
    {
     "name": "stderr",
     "output_type": "stream",
     "text": [
      "I:CUR_SPLIT:3:[sampler_mu:139]:----------------------------------------------------------------------------------------------------\n"
     ]
    },
    {
     "name": "stdout",
     "output_type": "stream",
     "text": [
      "Epoch 25/50\n",
      "146/146 [==============================] - 11s 75ms/step - task_name:     NER     - loss: 3.3767 - accuracy: 0.8853 - val_loss: 11.2403 - val_accuracy: 0.7401\n"
     ]
    },
    {
     "name": "stderr",
     "output_type": "stream",
     "text": [
      "I:CUR_SPLIT:3:[sampler_mu:139]:----------------------------------------------------------------------------------------------------\n"
     ]
    },
    {
     "name": "stdout",
     "output_type": "stream",
     "text": [
      "Epoch 26/50\n",
      "146/146 [==============================] - 11s 78ms/step - task_name:     NER     - loss: 3.6242 - accuracy: 0.8832 - val_loss: 11.2377 - val_accuracy: 0.7351\n"
     ]
    },
    {
     "name": "stderr",
     "output_type": "stream",
     "text": [
      "I:CUR_SPLIT:3:[sampler_mu:139]:----------------------------------------------------------------------------------------------------\n"
     ]
    },
    {
     "name": "stdout",
     "output_type": "stream",
     "text": [
      "Epoch 27/50\n",
      "146/146 [==============================] - 7s 47ms/step - task_name:     NER     - loss: 2.7920 - accuracy: 0.8865 - val_loss: 11.4218 - val_accuracy: 0.7411\n"
     ]
    },
    {
     "name": "stderr",
     "output_type": "stream",
     "text": [
      "I:CUR_SPLIT:3:[sampler_mu:139]:----------------------------------------------------------------------------------------------------\n"
     ]
    },
    {
     "name": "stdout",
     "output_type": "stream",
     "text": [
      "Epoch 28/50\n",
      "146/146 [==============================] - 12s 84ms/step - task_name:     NER     - loss: 4.0728 - accuracy: 0.8875 - val_loss: 11.1347 - val_accuracy: 0.7393\n"
     ]
    },
    {
     "name": "stderr",
     "output_type": "stream",
     "text": [
      "I:CUR_SPLIT:3:[sampler_mu:139]:----------------------------------------------------------------------------------------------------\n"
     ]
    },
    {
     "name": "stdout",
     "output_type": "stream",
     "text": [
      "Epoch 29/50\n",
      "146/146 [==============================] - 7s 46ms/step - task_name:     NER     - loss: 2.7122 - accuracy: 0.8877 - val_loss: 11.3465 - val_accuracy: 0.7328\n"
     ]
    },
    {
     "name": "stderr",
     "output_type": "stream",
     "text": [
      "I:CUR_SPLIT:3:[sampler_mu:139]:----------------------------------------------------------------------------------------------------\n"
     ]
    },
    {
     "name": "stdout",
     "output_type": "stream",
     "text": [
      "Epoch 30/50\n",
      "146/146 [==============================] - 6s 42ms/step - task_name:     NER     - loss: 2.3592 - accuracy: 0.8937 - val_loss: 11.1383 - val_accuracy: 0.7319\n"
     ]
    },
    {
     "name": "stderr",
     "output_type": "stream",
     "text": [
      "I:CUR_SPLIT:3:[sampler_mu:139]:----------------------------------------------------------------------------------------------------\n"
     ]
    },
    {
     "name": "stdout",
     "output_type": "stream",
     "text": [
      "Epoch 31/50\n",
      "146/146 [==============================] - 7s 46ms/step - task_name:     NER     - loss: 2.5531 - accuracy: 0.8943 - val_loss: 11.2652 - val_accuracy: 0.7333\n"
     ]
    },
    {
     "name": "stderr",
     "output_type": "stream",
     "text": [
      "I:CUR_SPLIT:3:[sampler_mu:139]:----------------------------------------------------------------------------------------------------\n"
     ]
    },
    {
     "name": "stdout",
     "output_type": "stream",
     "text": [
      "Epoch 32/50\n",
      "146/146 [==============================] - 10s 68ms/step - task_name:     NER     - loss: 2.8577 - accuracy: 0.8920 - val_loss: 11.1043 - val_accuracy: 0.7389\n"
     ]
    },
    {
     "name": "stderr",
     "output_type": "stream",
     "text": [
      "I:CUR_SPLIT:3:[sampler_mu:139]:----------------------------------------------------------------------------------------------------\n"
     ]
    },
    {
     "name": "stdout",
     "output_type": "stream",
     "text": [
      "Epoch 33/50\n",
      "143/146 [============================>.] - ETA: 0s - task_name:     NER     - loss: 2.9712 - accuracy: 0.8976\n",
      "Epoch 00033: ReduceLROnPlateau reducing learning rate to 0.00011764899536501615.\n",
      "146/146 [==============================] - 10s 66ms/step - task_name:     NER     - loss: 3.6792 - accuracy: 0.8976 - val_loss: 11.2105 - val_accuracy: 0.7339\n"
     ]
    },
    {
     "name": "stderr",
     "output_type": "stream",
     "text": [
      "I:CUR_SPLIT:3:[sampler_mu:139]:----------------------------------------------------------------------------------------------------\n"
     ]
    },
    {
     "name": "stdout",
     "output_type": "stream",
     "text": [
      "Epoch 34/50\n",
      "146/146 [==============================] - 13s 87ms/step - task_name:     NER     - loss: 4.0740 - accuracy: 0.8939 - val_loss: 11.0260 - val_accuracy: 0.7352\n"
     ]
    },
    {
     "name": "stderr",
     "output_type": "stream",
     "text": [
      "I:CUR_SPLIT:3:[sampler_mu:139]:----------------------------------------------------------------------------------------------------\n"
     ]
    },
    {
     "name": "stdout",
     "output_type": "stream",
     "text": [
      "Epoch 35/50\n",
      "146/146 [==============================] - 6s 40ms/step - task_name:     NER     - loss: 2.0226 - accuracy: 0.9048 - val_loss: 11.0429 - val_accuracy: 0.7371\n"
     ]
    },
    {
     "name": "stderr",
     "output_type": "stream",
     "text": [
      "I:CUR_SPLIT:3:[sampler_mu:139]:----------------------------------------------------------------------------------------------------\n"
     ]
    },
    {
     "name": "stdout",
     "output_type": "stream",
     "text": [
      "Epoch 36/50\n",
      "146/146 [==============================] - 10s 66ms/step - task_name:     NER     - loss: 2.6079 - accuracy: 0.8991 - val_loss: 10.9974 - val_accuracy: 0.7372\n"
     ]
    },
    {
     "name": "stderr",
     "output_type": "stream",
     "text": [
      "I:CUR_SPLIT:3:[sampler_mu:139]:----------------------------------------------------------------------------------------------------\n"
     ]
    },
    {
     "name": "stdout",
     "output_type": "stream",
     "text": [
      "Epoch 37/50\n",
      "146/146 [==============================] - 11s 74ms/step - task_name:     NER     - loss: 3.1245 - accuracy: 0.9039 - val_loss: 10.9611 - val_accuracy: 0.7385\n"
     ]
    },
    {
     "name": "stderr",
     "output_type": "stream",
     "text": [
      "I:CUR_SPLIT:3:[sampler_mu:139]:----------------------------------------------------------------------------------------------------\n"
     ]
    },
    {
     "name": "stdout",
     "output_type": "stream",
     "text": [
      "Epoch 38/50\n",
      "134/146 [==========================>...] - ETA: 0s - task_name:     NER     - loss: 2.6032 - accuracy: 0.9016\n",
      "Epoch 00038: ReduceLROnPlateau reducing learning rate to 8.235429777414538e-05.\n",
      "146/146 [==============================] - 7s 50ms/step - task_name:     NER     - loss: 2.6388 - accuracy: 0.9016 - val_loss: 11.0006 - val_accuracy: 0.7369\n"
     ]
    },
    {
     "name": "stderr",
     "output_type": "stream",
     "text": [
      "I:CUR_SPLIT:3:[sampler_mu:139]:----------------------------------------------------------------------------------------------------\n"
     ]
    },
    {
     "name": "stdout",
     "output_type": "stream",
     "text": [
      "Epoch 39/50\n",
      "146/146 [==============================] - 7s 47ms/step - task_name:     NER     - loss: 2.4149 - accuracy: 0.9038 - val_loss: 11.0216 - val_accuracy: 0.7358\n"
     ]
    },
    {
     "name": "stderr",
     "output_type": "stream",
     "text": [
      "I:CUR_SPLIT:3:[sampler_mu:139]:----------------------------------------------------------------------------------------------------\n"
     ]
    },
    {
     "name": "stdout",
     "output_type": "stream",
     "text": [
      "Epoch 40/50\n",
      "146/146 [==============================] - 7s 49ms/step - task_name:     NER     - loss: 2.4705 - accuracy: 0.9083 - val_loss: 10.9678 - val_accuracy: 0.7363\n"
     ]
    },
    {
     "name": "stderr",
     "output_type": "stream",
     "text": [
      "I:CUR_SPLIT:3:[sampler_mu:139]:----------------------------------------------------------------------------------------------------\n"
     ]
    },
    {
     "name": "stdout",
     "output_type": "stream",
     "text": [
      "Epoch 41/50\n",
      "122/146 [========================>.....] - ETA: 1s - task_name:     NER     - loss: 2.8440 - accuracy: 0.9099\n",
      "Epoch 00041: ReduceLROnPlateau reducing learning rate to 5.76480058953166e-05.\n",
      "146/146 [==============================] - 10s 71ms/step - task_name:     NER     - loss: 2.8160 - accuracy: 0.9097 - val_loss: 10.9341 - val_accuracy: 0.7377\n"
     ]
    },
    {
     "name": "stderr",
     "output_type": "stream",
     "text": [
      "I:CUR_SPLIT:3:[sampler_mu:139]:----------------------------------------------------------------------------------------------------\n"
     ]
    },
    {
     "name": "stdout",
     "output_type": "stream",
     "text": [
      "Epoch 42/50\n",
      "146/146 [==============================] - 8s 55ms/step - task_name:     NER     - loss: 2.8155 - accuracy: 0.9090 - val_loss: 10.9639 - val_accuracy: 0.7363\n"
     ]
    },
    {
     "name": "stderr",
     "output_type": "stream",
     "text": [
      "I:CUR_SPLIT:3:[sampler_mu:139]:----------------------------------------------------------------------------------------------------\n"
     ]
    },
    {
     "name": "stdout",
     "output_type": "stream",
     "text": [
      "Epoch 43/50\n",
      "146/146 [==============================] - 7s 49ms/step - task_name:     NER     - loss: 2.4302 - accuracy: 0.9127 - val_loss: 10.9532 - val_accuracy: 0.7356\n"
     ]
    },
    {
     "name": "stderr",
     "output_type": "stream",
     "text": [
      "I:CUR_SPLIT:3:[sampler_mu:139]:----------------------------------------------------------------------------------------------------\n"
     ]
    },
    {
     "name": "stdout",
     "output_type": "stream",
     "text": [
      "Epoch 44/50\n",
      "139/146 [===========================>..] - ETA: 0s - task_name:     NER     - loss: 2.6975 - accuracy: 0.9128\n",
      "Epoch 00044: ReduceLROnPlateau reducing learning rate to 4.0353603617404586e-05.\n",
      "146/146 [==============================] - 8s 54ms/step - task_name:     NER     - loss: 2.6772 - accuracy: 0.9125 - val_loss: 10.9453 - val_accuracy: 0.7370\n"
     ]
    },
    {
     "name": "stderr",
     "output_type": "stream",
     "text": [
      "I:CUR_SPLIT:3:[sampler_mu:139]:----------------------------------------------------------------------------------------------------\n"
     ]
    },
    {
     "name": "stdout",
     "output_type": "stream",
     "text": [
      "Epoch 45/50\n",
      "146/146 [==============================] - 9s 61ms/step - task_name:     NER     - loss: 3.0498 - accuracy: 0.9107 - val_loss: 10.9465 - val_accuracy: 0.7371\n"
     ]
    },
    {
     "name": "stderr",
     "output_type": "stream",
     "text": [
      "I:CUR_SPLIT:3:[sampler_mu:139]:----------------------------------------------------------------------------------------------------\n"
     ]
    },
    {
     "name": "stdout",
     "output_type": "stream",
     "text": [
      "Epoch 46/50\n",
      "146/146 [==============================] - 8s 54ms/step - task_name:     NER     - loss: 2.6686 - accuracy: 0.9117 - val_loss: 10.9443 - val_accuracy: 0.7383\n"
     ]
    },
    {
     "name": "stderr",
     "output_type": "stream",
     "text": [
      "I:CUR_SPLIT:3:[sampler_mu:139]:----------------------------------------------------------------------------------------------------\n"
     ]
    },
    {
     "name": "stdout",
     "output_type": "stream",
     "text": [
      "Epoch 47/50\n",
      "141/146 [===========================>..] - ETA: 0s - task_name:     NER     - loss: 2.5609 - accuracy: 0.9116\n",
      "Epoch 00047: ReduceLROnPlateau reducing learning rate to 2.8247522277524694e-05.\n",
      "146/146 [==============================] - 10s 67ms/step - task_name:     NER     - loss: 3.3640 - accuracy: 0.9116 - val_loss: 10.9474 - val_accuracy: 0.7363\n"
     ]
    },
    {
     "name": "stderr",
     "output_type": "stream",
     "text": [
      "I:CUR_SPLIT:3:[sampler_mu:139]:----------------------------------------------------------------------------------------------------\n"
     ]
    },
    {
     "name": "stdout",
     "output_type": "stream",
     "text": [
      "Epoch 48/50\n",
      "146/146 [==============================] - 10s 65ms/step - task_name:     NER     - loss: 3.1611 - accuracy: 0.9126 - val_loss: 10.9589 - val_accuracy: 0.7364\n"
     ]
    },
    {
     "name": "stderr",
     "output_type": "stream",
     "text": [
      "I:CUR_SPLIT:3:[sampler_mu:139]:----------------------------------------------------------------------------------------------------\n"
     ]
    },
    {
     "name": "stdout",
     "output_type": "stream",
     "text": [
      "\n",
      "----------------------------------NER LABEL METRICS -----------------------------------\n",
      "\n",
      "epoch:labeling EPOCH accuracy 0.807523 precision: 0.253205, recall: 0.263333, f1: 0.258170\n",
      "\n",
      "           precision    recall  f1-score   support\n",
      "\n",
      "     ALLU     0.2904    0.2633    0.2762       600\n",
      "\n",
      "micro avg     0.2532    0.2633    0.2582       600\n",
      "macro avg     0.2904    0.2633    0.2762       600\n",
      "\n",
      "----------------------------------NER END ----------------------------------\n",
      "train_example:**************************************************\n",
      "x_seq:愿 奉 唐 生 诀 , 将 知 跃 马 年 。\n",
      "y_pred:O O O O O O O O B-ALLU I-ALLU O O\n",
      "y_true:O O O O O O O O B-ALLU I-ALLU I-ALLU O\n",
      "----------\n",
      "x_seq:地 形 龟 食 报 , 坟 土 燕 衔 来 。\n",
      "y_pred:O O O O O O B-ALLU I-ALLU I-ALLU I-ALLU O O\n",
      "y_true:O O O O O O B-ALLU I-ALLU I-ALLU I-ALLU O O\n",
      "----------\n",
      "x_seq:刘 伶 今 日 意 , 异 代 是 同 声 。\n",
      "y_pred:O O O O O O O O O O O O\n",
      "y_true:B-ALLU I-ALLU O O O O O O O O O O\n",
      "----------\n",
      "x_seq:陈 琳 书 记 好 , 王 粲 从 军 乐 。\n",
      "y_pred:O O O O O O B-ALLU I-ALLU I-ALLU I-ALLU O O\n",
      "y_true:O O O O O O B-ALLU I-ALLU I-ALLU I-ALLU O O\n",
      "----------\n",
      "x_seq:新 戒 珠 从 衣 里 得 , 初 心 莲 向 火 中 生 。\n",
      "y_pred:O O O O O O O O O O B-ALLU O O O O O\n",
      "y_true:O O O O O O O O O O B-ALLU I-ALLU I-ALLU O O O\n",
      "----------\n",
      "x_seq:日 下 骋 琅 [UNK] , 空 中 无 罗 绮 。\n",
      "y_pred:O O O O O O O O O O O O\n",
      "y_true:B-ALLU O O O O O O O O O O O\n",
      "----------\n",
      "x_seq:崇 侯 入 辅 严 陵 退 , 堪 忆 啼 猿 万 仞 峰 。\n",
      "y_pred:B-ALLU I-ALLU O O O O O O O O O O O O O O\n",
      "y_true:B-ALLU I-ALLU O O O O O O O O O O O O O O\n",
      "----------\n",
      "x_seq:襄 城 非 牧 竖 , 楚 国 有 巴 人 。\n",
      "y_pred:O O O O O O O O O O O O\n",
      "y_true:O O O O O O O O O B-ALLU I-ALLU O\n",
      "----------\n",
      "x_seq:置 榻 恩 逾 重 , 迎 门 礼 自 卑 。\n",
      "y_pred:O B-ALLU O O O O O O O O O O\n",
      "y_true:O B-ALLU O O O O O O O O O O\n",
      "----------\n",
      "x_seq:濯 缨 何 处 去 , 鉴 物 自 堪 妍 。\n",
      "y_pred:B-ALLU I-ALLU O O O O O O O O O O\n",
      "y_true:B-ALLU I-ALLU O O O O O O O O O O\n",
      "----------\n",
      "END:**************************************************\n",
      "test_example:**************************************************\n",
      "x_seq:愿 君 此 地 攻 文 字 , 如 炼 仙 家 九 转 丹 。\n",
      "y_pred:O O O O O O O O O O O I-ALLU B-ALLU O O O\n",
      "y_true:O O O O O O O O O O O O B-ALLU I-ALLU I-ALLU O\n",
      "----------\n",
      "x_seq:时 伴 庾 公 看 海 月 , 好 吟 诗 断 望 江 楼 。\n",
      "y_pred:O O B-ALLU I-ALLU O O O O O O O O O O O O\n",
      "y_true:O O B-ALLU I-ALLU I-ALLU I-ALLU I-ALLU O O O O O O O O O\n",
      "----------\n",
      "x_seq:不 必 恋 恩 多 感 激 , 过 淮 应 合 见 征 黄 。\n",
      "y_pred:O O O O O O O O O O O O O O O O\n",
      "y_true:O O O O O O O O O O O O O B-ALLU I-ALLU O\n",
      "----------\n",
      "x_seq:为 君 使 无 私 之 光 及 可 物 , 蛰 虫 昭 苏 萌 草 出 。\n",
      "y_pred:O O O O O O O O O O O O O O O O O O O\n",
      "y_true:O O O O O O O O O O O O O O O B-ALLU I-ALLU I-ALLU O\n",
      "----------\n",
      "x_seq:掖 庭 羞 改 画 , 长 门 不 惜 金 。\n",
      "y_pred:O O O I-ALLU I-ALLU O B-ALLU I-ALLU O O O O\n",
      "y_true:O O O O O O B-ALLU I-ALLU I-ALLU I-ALLU I-ALLU O\n",
      "----------\n",
      "x_seq:试 将 生 计 问 蓬 根 , 心 委 寒 灰 首 戴 盆 。\n",
      "y_pred:O O O O O B-ALLU I-ALLU O O I-ALLU I-ALLU I-ALLU B-ALLU O O O\n",
      "y_true:O O O O O O O O O O O O O B-ALLU I-ALLU O\n",
      "----------\n",
      "x_seq:鹤 前 飞 九 转 , 壶 里 驻 三 光 。\n",
      "y_pred:O O O O O O B-ALLU O O B-ALLU O O\n",
      "y_true:O O O O O O B-ALLU O O O O O\n",
      "----------\n",
      "x_seq:隋 家 两 岸 尽 , 陶 宅 五 株 荣 。\n",
      "y_pred:O O O O O O B-ALLU I-ALLU B-ALLU O O O\n",
      "y_true:O O O O O O O O B-ALLU O O O\n",
      "----------\n",
      "x_seq:石 门 迥 接 苍 梧 野 , 愁 色 阴 深 二 妃 寡 。\n",
      "y_pred:O O O O O O O O O O O O B-ALLU O O O\n",
      "y_true:O O O O O O O O B-ALLU I-ALLU I-ALLU I-ALLU I-ALLU O O O\n",
      "----------\n",
      "x_seq:人 知 窦 车 骑 , 计 日 勒 铭 还 。\n",
      "y_pred:O O B-ALLU I-ALLU I-ALLU O O O B-ALLU I-ALLU O O\n",
      "y_true:O O O O O O O O B-ALLU I-ALLU O O\n",
      "----------\n",
      "END:**************************************************\n",
      "example:**************************************************\n",
      "x_seq:三 旬 九 过 饮 , 每 食 唯 旧 贫 。 [UNK] [PAD] [PAD] [PAD] [PAD] [PAD] [PAD] [PAD] [PAD] [PAD] [PAD] [PAD] [PAD] [PAD] [PAD] [PAD] [PAD]\n",
      "x_ALLU:子 思 居 于 卫 , [UNK] 袍 无 衣 , 二 旬 而 九 食 。 田 子 方 闻 之 , 使 人 遗 孤 白 之\n",
      "y_pred:[0.21262965]\n",
      "y_true:1\n",
      "----------\n",
      "x_seq:三 旬 九 过 饮 , 每 食 唯 旧 贫 。 [UNK] [PAD] [PAD] [PAD] [PAD] [PAD] [PAD] [PAD] [PAD] [PAD] [PAD] [PAD] [PAD] [PAD] [PAD] [PAD] [PAD]\n",
      "x_ALLU:又 西 百 八 十 里 , 曰 泰 器 之 山 。 观 水 出 焉 , 西 流 注 入 流 沙 。 是 多 文 [UNK]\n",
      "y_pred:[0.60790986]\n",
      "y_true:0\n",
      "----------\n",
      "x_seq:三 旬 九 过 饮 , 每 食 唯 旧 贫 。 [UNK] [PAD] [PAD] [PAD] [PAD] [PAD] [PAD] [PAD] [PAD] [PAD] [PAD] [PAD] [PAD] [PAD] [PAD] [PAD] [PAD]\n",
      "x_ALLU:晋 侯 梦 大 厉 [UNK] [UNK] 公 觉 , 召 桑 田 巫 。 巫 言 如 梦 。 公 曰 : [UNK] 何 如 ? [UNK] 曰\n",
      "y_pred:[0.71641445]\n",
      "y_true:0\n",
      "----------\n",
      "x_seq:三 旬 九 过 饮 , 每 食 唯 旧 贫 。 [UNK] [PAD] [PAD] [PAD] [PAD] [PAD] [PAD] [PAD] [PAD] [PAD] [PAD] [PAD] [PAD] [PAD] [PAD] [PAD] [PAD]\n",
      "x_ALLU:张 飞 字 益 德 , 涿 郡 人 也 , 少 与 关 羽 俱 事 先 主 。 [UNK] [UNK] 先 主 既 定 江 南 ,\n",
      "y_pred:[0.59405386]\n",
      "y_true:0\n",
      "----------\n",
      "x_seq:三 旬 九 过 饮 , 每 食 唯 旧 贫 。 [UNK] [PAD] [PAD] [PAD] [PAD] [PAD] [PAD] [PAD] [PAD] [PAD] [PAD] [PAD] [PAD] [PAD] [PAD] [PAD] [PAD]\n",
      "x_ALLU:吴 王 [UNK] [UNK] 乃 使 使 赐 伍 子 胥 属 镂 之 剑 , 曰 : [UNK] 子 以 此 死 。 [UNK] 伍 子 胥 [UNK]\n",
      "y_pred:[0.73123026]\n",
      "y_true:0\n",
      "----------\n",
      "x_seq:三 旬 九 过 饮 , 每 食 唯 旧 贫 。 [UNK] [PAD] [PAD] [PAD] [PAD] [PAD] [PAD] [PAD] [PAD] [PAD] [PAD] [PAD] [PAD] [PAD] [PAD] [PAD] [PAD]\n",
      "x_ALLU:坚 发 长 安 , 戎 卒 六 十 余 万 , 骑 二 十 七 万 [UNK] [UNK] 达 于 汝 颍 。 融 等 攻 陷 寿\n",
      "y_pred:[0.48902214]\n",
      "y_true:0\n",
      "----------\n",
      "x_seq:三 旬 九 过 饮 , 每 食 唯 旧 贫 。 [UNK] [PAD] [PAD] [PAD] [PAD] [PAD] [PAD] [PAD] [PAD] [PAD] [PAD] [PAD] [PAD] [PAD] [PAD] [PAD] [PAD]\n",
      "x_ALLU:神 识 安 闲 , 形 容 审 定 , 遥 望 之 者 , 其 犹 木 鸡 , 不 动 不 惊 , 其 德 全 具\n",
      "y_pred:[0.59305817]\n",
      "y_true:0\n",
      "----------\n",
      "x_seq:三 旬 九 过 饮 , 每 食 唯 旧 贫 。 [UNK] [PAD] [PAD] [PAD] [PAD] [PAD] [PAD] [PAD] [PAD] [PAD] [PAD] [PAD] [PAD] [PAD] [PAD] [PAD] [PAD]\n",
      "x_ALLU:延 陵 季 子 适 齐 , 于 其 反 也 , 其 长 子 死 , 葬 于 赢 博 之 间 [UNK] [UNK] 曰 : [UNK] 骨\n",
      "y_pred:[0.48092857]\n",
      "y_true:0\n",
      "----------\n",
      "x_seq:三 旬 九 过 饮 , 每 食 唯 旧 贫 。 [UNK] [PAD] [PAD] [PAD] [PAD] [PAD] [PAD] [PAD] [PAD] [PAD] [PAD] [PAD] [PAD] [PAD] [PAD] [PAD] [PAD]\n",
      "x_ALLU:彬 性 好 饮 酒 , 以 [UNK] 壶 瓢 勺 [UNK] 皮 为 肴 , 著 帛 冠 十 二 年 不 改 易 , 以 大 [UNK]\n",
      "y_pred:[0.45657012]\n",
      "y_true:0\n",
      "----------\n",
      "x_seq:三 旬 九 过 饮 , 每 食 唯 旧 贫 。 [UNK] [PAD] [PAD] [PAD] [PAD] [PAD] [PAD] [PAD] [PAD] [PAD] [PAD] [PAD] [PAD] [PAD] [PAD] [PAD] [PAD]\n",
      "x_ALLU:满 奋 畏 风 。 在 晋 武 帝 坐 , 北 窗 作 琉 璃 扇 屏 风 , 实 密 似 疏 , 奋 有 难 色\n",
      "y_pred:[0.73499864]\n",
      "y_true:0\n",
      "----------\n",
      "x_seq:镜 掩 鸾 空 在 , 霞 消 凤 不 回 。 [UNK] [PAD] [PAD] [PAD] [PAD] [PAD] [PAD] [PAD] [PAD] [PAD] [PAD] [PAD] [PAD] [PAD] [PAD] [PAD] [PAD]\n",
      "x_ALLU:箫 史 者 , 秦 缪 公 时 人 也 。 善 吹 箫 [UNK] [UNK] 。 [UNK] [PAD] [PAD] [PAD] [PAD] [PAD] [PAD] [PAD] [PAD] [PAD] [PAD] [PAD]\n",
      "y_pred:[0.9708553]\n",
      "y_true:1\n",
      "----------\n",
      "x_seq:镜 掩 鸾 空 在 , 霞 消 凤 不 回 。 [UNK] [PAD] [PAD] [PAD] [PAD] [PAD] [PAD] [PAD] [PAD] [PAD] [PAD] [PAD] [PAD] [PAD] [PAD] [PAD] [PAD]\n",
      "x_ALLU:皇 国 父 白 皙 而 居 近 泽 门 。 子 罕 黑 色 而 居 邑 中 。 [UNK] [PAD] [PAD] [PAD] [PAD] [PAD] [PAD] [PAD] [PAD]\n",
      "y_pred:[0.4590445]\n",
      "y_true:0\n",
      "----------\n",
      "x_seq:镜 掩 鸾 空 在 , 霞 消 凤 不 回 。 [UNK] [PAD] [PAD] [PAD] [PAD] [PAD] [PAD] [PAD] [PAD] [PAD] [PAD] [PAD] [PAD] [PAD] [PAD] [PAD] [PAD]\n",
      "x_ALLU:如 使 夫 子 得 当 仕 路 行 齐 而 可 以 行 道 [UNK] [UNK] [UNK] [PAD] [PAD] [PAD] [PAD] [PAD] [PAD] [PAD] [PAD] [PAD] [PAD] [PAD]\n",
      "y_pred:[0.45224234]\n",
      "y_true:0\n",
      "----------\n",
      "x_seq:镜 掩 鸾 空 在 , 霞 消 凤 不 回 。 [UNK] [PAD] [PAD] [PAD] [PAD] [PAD] [PAD] [PAD] [PAD] [PAD] [PAD] [PAD] [PAD] [PAD] [PAD] [PAD] [PAD]\n",
      "x_ALLU:太 史 公 之 羡 慕 仰 企 平 仲 之 行 , 假 令 晏 生 在 世 , 己 虽 与 之 为 仆 隶 , 为\n",
      "y_pred:[0.73238665]\n",
      "y_true:0\n",
      "----------\n",
      "x_seq:镜 掩 鸾 空 在 , 霞 消 凤 不 回 。 [UNK] [PAD] [PAD] [PAD] [PAD] [PAD] [PAD] [PAD] [PAD] [PAD] [PAD] [PAD] [PAD] [PAD] [PAD] [PAD] [PAD]\n",
      "x_ALLU:郭 璞 , 字 景 纯 , 河 东 闻 喜 人 也 。 璞 撰 前 后 [UNK] 验 六 十 余 事 , 名 为 《 洞\n",
      "y_pred:[0.4103076]\n",
      "y_true:0\n",
      "----------\n",
      "x_seq:镜 掩 鸾 空 在 , 霞 消 凤 不 回 。 [UNK] [PAD] [PAD] [PAD] [PAD] [PAD] [PAD] [PAD] [PAD] [PAD] [PAD] [PAD] [PAD] [PAD] [PAD] [PAD] [PAD]\n",
      "x_ALLU:不 可 使 尘 网 名 缰 拘 锁 , 怡 然 长 笑 , 脱 去 十 洲 三 岛 , 相 期 拾 瑶 草 , 侍\n",
      "y_pred:[0.34629512]\n",
      "y_true:0\n",
      "----------\n",
      "x_seq:镜 掩 鸾 空 在 , 霞 消 凤 不 回 。 [UNK] [PAD] [PAD] [PAD] [PAD] [PAD] [PAD] [PAD] [PAD] [PAD] [PAD] [PAD] [PAD] [PAD] [PAD] [PAD] [PAD]\n",
      "x_ALLU:轮 , 轮 [UNK] , 言 高 大 ; 奂 , 言 众 多 。 [UNK] [PAD] [PAD] [PAD] [PAD] [PAD] [PAD] [PAD] [PAD] [PAD] [PAD] [PAD] [PAD] [PAD]\n",
      "y_pred:[0.2446793]\n",
      "y_true:0\n",
      "----------\n",
      "x_seq:镜 掩 鸾 空 在 , 霞 消 凤 不 回 。 [UNK] [PAD] [PAD] [PAD] [PAD] [PAD] [PAD] [PAD] [PAD] [PAD] [PAD] [PAD] [PAD] [PAD] [PAD] [PAD] [PAD]\n",
      "x_ALLU:火 星 昏 见 东 方 , 谓 三 月 、 四 月 中 。 [UNK] [PAD] [PAD] [PAD] [PAD] [PAD] [PAD] [PAD] [PAD] [PAD] [PAD] [PAD] [PAD] [PAD]\n",
      "y_pred:[0.5744508]\n",
      "y_true:0\n",
      "----------\n",
      "x_seq:镜 掩 鸾 空 在 , 霞 消 凤 不 回 。 [UNK] [PAD] [PAD] [PAD] [PAD] [PAD] [PAD] [PAD] [PAD] [PAD] [PAD] [PAD] [PAD] [PAD] [PAD] [PAD] [PAD]\n",
      "x_ALLU:策 , 马 。 临 别 授 之 马 , 并 示 己 所 策 以 展 情 。 绕 朝 , 秦 大 夫 。 [UNK] [PAD] [PAD]\n",
      "y_pred:[0.429281]\n",
      "y_true:0\n",
      "----------\n",
      "x_seq:镜 掩 鸾 空 在 , 霞 消 凤 不 回 。 [UNK] [PAD] [PAD] [PAD] [PAD] [PAD] [PAD] [PAD] [PAD] [PAD] [PAD] [PAD] [PAD] [PAD] [PAD] [PAD] [PAD]\n",
      "x_ALLU:七 月 在 野 , 八 月 在 宇 , 九 月 在 户 , 十 月 蟋 蟀 人 我 床 下 。 [UNK] [PAD] [PAD] [PAD] [PAD]\n",
      "y_pred:[0.55960804]\n",
      "y_true:0\n",
      "----------\n",
      "x_seq:买 得 千 金 赋 , 花 颜 已 如 灰 。 [UNK] [PAD] [PAD] [PAD] [PAD] [PAD] [PAD] [PAD] [PAD] [PAD] [PAD] [PAD] [PAD] [PAD] [PAD] [PAD] [PAD]\n",
      "x_ALLU:相 如 既 病 免 , 家 居 茂 陵 。 [UNK] [PAD] [PAD] [PAD] [PAD] [PAD] [PAD] [PAD] [PAD] [PAD] [PAD] [PAD] [PAD] [PAD] [PAD] [PAD] [PAD] [PAD]\n",
      "y_pred:[0.9545916]\n",
      "y_true:1\n",
      "----------\n",
      "x_seq:买 得 千 金 赋 , 花 颜 已 如 灰 。 [UNK] [PAD] [PAD] [PAD] [PAD] [PAD] [PAD] [PAD] [PAD] [PAD] [PAD] [PAD] [PAD] [PAD] [PAD] [PAD] [PAD]\n",
      "x_ALLU:仲 秋 之 月 [UNK] [UNK] 是 月 也 , 养 衰 老 , 授 几 杖 , 行 糜 粥 饮 食 。 [UNK] [PAD] [PAD] [PAD] [PAD]\n",
      "y_pred:[0.34842786]\n",
      "y_true:0\n",
      "----------\n",
      "x_seq:买 得 千 金 赋 , 花 颜 已 如 灰 。 [UNK] [PAD] [PAD] [PAD] [PAD] [PAD] [PAD] [PAD] [PAD] [PAD] [PAD] [PAD] [PAD] [PAD] [PAD] [PAD] [PAD]\n",
      "x_ALLU:荆 轲 者 , 卫 人 也 。 [UNK] [UNK] 而 之 燕 , 燕 人 谓 之 荆 卿 。 于 是 太 子 豫 求 天 下\n",
      "y_pred:[0.42238128]\n",
      "y_true:0\n",
      "----------\n",
      "x_seq:买 得 千 金 赋 , 花 颜 已 如 灰 。 [UNK] [PAD] [PAD] [PAD] [PAD] [PAD] [PAD] [PAD] [PAD] [PAD] [PAD] [PAD] [PAD] [PAD] [PAD] [PAD] [PAD]\n",
      "x_ALLU:郭 璞 , 字 景 纯 , 河 东 闻 喜 人 也 。 璞 撰 前 后 [UNK] 验 六 十 余 事 , 名 为 《 洞\n",
      "y_pred:[0.3413189]\n",
      "y_true:0\n",
      "----------\n",
      "x_seq:买 得 千 金 赋 , 花 颜 已 如 灰 。 [UNK] [PAD] [PAD] [PAD] [PAD] [PAD] [PAD] [PAD] [PAD] [PAD] [PAD] [PAD] [PAD] [PAD] [PAD] [PAD] [PAD]\n",
      "x_ALLU:君 子 行 则 鸣 佩 玉 。 [UNK] [PAD] [PAD] [PAD] [PAD] [PAD] [PAD] [PAD] [PAD] [PAD] [PAD] [PAD] [PAD] [PAD] [PAD] [PAD] [PAD] [PAD] [PAD] [PAD] [PAD]\n",
      "y_pred:[0.4156505]\n",
      "y_true:0\n",
      "----------\n",
      "x_seq:买 得 千 金 赋 , 花 颜 已 如 灰 。 [UNK] [PAD] [PAD] [PAD] [PAD] [PAD] [PAD] [PAD] [PAD] [PAD] [PAD] [PAD] [PAD] [PAD] [PAD] [PAD] [PAD]\n",
      "x_ALLU:晋 侯 以 乐 之 半 赐 魏 绛 , 曰 : [UNK] 子 教 寡 人 和 诸 戎 狄 , 以 正 诸 华 。 八 年\n",
      "y_pred:[0.09027407]\n",
      "y_true:0\n",
      "----------\n",
      "x_seq:买 得 千 金 赋 , 花 颜 已 如 灰 。 [UNK] [PAD] [PAD] [PAD] [PAD] [PAD] [PAD] [PAD] [PAD] [PAD] [PAD] [PAD] [PAD] [PAD] [PAD] [PAD] [PAD]\n",
      "x_ALLU:江 充 先 治 甘 泉 宫 人 , 转 至 未 央 椒 房 。 [UNK] [PAD] [PAD] [PAD] [PAD] [PAD] [PAD] [PAD] [PAD] [PAD] [PAD] [PAD] [PAD]\n",
      "y_pred:[0.4190364]\n",
      "y_true:0\n",
      "----------\n",
      "x_seq:买 得 千 金 赋 , 花 颜 已 如 灰 。 [UNK] [PAD] [PAD] [PAD] [PAD] [PAD] [PAD] [PAD] [PAD] [PAD] [PAD] [PAD] [PAD] [PAD] [PAD] [PAD] [PAD]\n",
      "x_ALLU:昔 高 阳 氏 有 才 子 八 人 , 世 得 其 利 , 谓 之 [UNK] 八 恺 [UNK] 。 高 辛 氏 有 才 子 八\n",
      "y_pred:[0.577626]\n",
      "y_true:0\n",
      "----------\n",
      "x_seq:买 得 千 金 赋 , 花 颜 已 如 灰 。 [UNK] [PAD] [PAD] [PAD] [PAD] [PAD] [PAD] [PAD] [PAD] [PAD] [PAD] [PAD] [PAD] [PAD] [PAD] [PAD] [PAD]\n",
      "x_ALLU:言 人 有 [UNK] 羹 而 中 热 , 心 中 惩 [UNK] , 见 [UNK] 则 恐 而 吹 之 。 [UNK] [PAD] [PAD] [PAD] [PAD] [PAD] [PAD]\n",
      "y_pred:[0.11408955]\n",
      "y_true:0\n",
      "----------\n",
      "x_seq:买 得 千 金 赋 , 花 颜 已 如 灰 。 [UNK] [PAD] [PAD] [PAD] [PAD] [PAD] [PAD] [PAD] [PAD] [PAD] [PAD] [PAD] [PAD] [PAD] [PAD] [PAD] [PAD]\n",
      "x_ALLU:周 旋 我 陋 圃 , 西 瞻 广 武 庐 。 [UNK] [PAD] [PAD] [PAD] [PAD] [PAD] [PAD] [PAD] [PAD] [PAD] [PAD] [PAD] [PAD] [PAD] [PAD] [PAD] [PAD]\n",
      "y_pred:[0.60565436]\n",
      "y_true:0\n",
      "----------\n",
      "x_seq:水 净 露 鲛 室 , 烟 销 凝 蜃 楼 。 [UNK] [PAD] [PAD] [PAD] [PAD] [PAD] [PAD] [PAD] [PAD] [PAD] [PAD] [PAD] [PAD] [PAD] [PAD] [PAD] [PAD]\n",
      "x_ALLU:其 垠 则 有 天 琛 水 怪 , 鲛 人 之 室 。 [UNK] [PAD] [PAD] [PAD] [PAD] [PAD] [PAD] [PAD] [PAD] [PAD] [PAD] [PAD] [PAD] [PAD] [PAD]\n",
      "y_pred:[0.573586]\n",
      "y_true:1\n",
      "----------\n",
      "x_seq:水 净 露 鲛 室 , 烟 销 凝 蜃 楼 。 [UNK] [PAD] [PAD] [PAD] [PAD] [PAD] [PAD] [PAD] [PAD] [PAD] [PAD] [PAD] [PAD] [PAD] [PAD] [PAD] [PAD]\n",
      "x_ALLU:子 胥 出 走 , 边 候 得 之 。 子 胥 曰 : [UNK] 上 索 我 者 , 以 我 有 美 珠 也 。 今 我\n",
      "y_pred:[0.15706986]\n",
      "y_true:0\n",
      "----------\n",
      "x_seq:水 净 露 鲛 室 , 烟 销 凝 蜃 楼 。 [UNK] [PAD] [PAD] [PAD] [PAD] [PAD] [PAD] [PAD] [PAD] [PAD] [PAD] [PAD] [PAD] [PAD] [PAD] [PAD] [PAD]\n",
      "x_ALLU:将 已 受 斧 钺 , [UNK] [UNK] 乃 爪 [UNK] , 设 明 衣 也 , 凿 凶 门 而 出 。 [UNK] [PAD] [PAD] [PAD] [PAD] [PAD]\n",
      "y_pred:[0.27702472]\n",
      "y_true:0\n",
      "----------\n",
      "x_seq:水 净 露 鲛 室 , 烟 销 凝 蜃 楼 。 [UNK] [PAD] [PAD] [PAD] [PAD] [PAD] [PAD] [PAD] [PAD] [PAD] [PAD] [PAD] [PAD] [PAD] [PAD] [PAD] [PAD]\n",
      "x_ALLU:天 汉 二 年 , 贰 师 将 军 伐 匈 奴 。 李 陵 自 请 带 一 队 人 马 到 兰 干 山 南 以 分\n",
      "y_pred:[0.4293977]\n",
      "y_true:0\n",
      "----------\n",
      "x_seq:水 净 露 鲛 室 , 烟 销 凝 蜃 楼 。 [UNK] [PAD] [PAD] [PAD] [PAD] [PAD] [PAD] [PAD] [PAD] [PAD] [PAD] [PAD] [PAD] [PAD] [PAD] [PAD] [PAD]\n",
      "x_ALLU:退 , 谓 处 俗 也 。 [UNK] [PAD] [PAD] [PAD] [PAD] [PAD] [PAD] [PAD] [PAD] [PAD] [PAD] [PAD] [PAD] [PAD] [PAD] [PAD] [PAD] [PAD] [PAD] [PAD] [PAD] [PAD]\n",
      "y_pred:[0.6022028]\n",
      "y_true:0\n",
      "----------\n",
      "x_seq:水 净 露 鲛 室 , 烟 销 凝 蜃 楼 。 [UNK] [PAD] [PAD] [PAD] [PAD] [PAD] [PAD] [PAD] [PAD] [PAD] [PAD] [PAD] [PAD] [PAD] [PAD] [PAD] [PAD]\n",
      "x_ALLU:王 子 猷 、 子 敬 俱 病 笃 , 而 子 敬 先 亡 。 子 猷 问 左 右 : [UNK] 何 以 都 不 闻 消\n",
      "y_pred:[0.27727187]\n",
      "y_true:0\n",
      "----------\n",
      "x_seq:水 净 露 鲛 室 , 烟 销 凝 蜃 楼 。 [UNK] [PAD] [PAD] [PAD] [PAD] [PAD] [PAD] [PAD] [PAD] [PAD] [PAD] [PAD] [PAD] [PAD] [PAD] [PAD] [PAD]\n",
      "x_ALLU:介 象 者 字 元 则 , 会 稽 人 也 , [UNK] [UNK] 于 山 中 见 一 美 女 [UNK] [UNK] 真 神 仙 也 。 象\n",
      "y_pred:[0.50966907]\n",
      "y_true:0\n",
      "----------\n",
      "x_seq:水 净 露 鲛 室 , 烟 销 凝 蜃 楼 。 [UNK] [PAD] [PAD] [PAD] [PAD] [PAD] [PAD] [PAD] [PAD] [PAD] [PAD] [PAD] [PAD] [PAD] [PAD] [PAD] [PAD]\n",
      "x_ALLU:皇 甫 谧 曰 : [UNK] 尧 以 甲 申 岁 生 , 甲 辰 即 帝 位 [UNK] [UNK] 辛 巳 崩 , 年 百 一 十 八\n",
      "y_pred:[0.19270056]\n",
      "y_true:0\n",
      "----------\n",
      "x_seq:水 净 露 鲛 室 , 烟 销 凝 蜃 楼 。 [UNK] [PAD] [PAD] [PAD] [PAD] [PAD] [PAD] [PAD] [PAD] [PAD] [PAD] [PAD] [PAD] [PAD] [PAD] [PAD] [PAD]\n",
      "x_ALLU:郭 林 宗 少 游 汝 南 , 先 过 袁 阆 , 不 宿 而 退 ; 进 往 从 宪 , 累 日 方 还 。 或\n",
      "y_pred:[0.33933294]\n",
      "y_true:0\n",
      "----------\n",
      "x_seq:水 净 露 鲛 室 , 烟 销 凝 蜃 楼 。 [UNK] [PAD] [PAD] [PAD] [PAD] [PAD] [PAD] [PAD] [PAD] [PAD] [PAD] [PAD] [PAD] [PAD] [PAD] [PAD] [PAD]\n",
      "x_ALLU:启 禹 子 也 。 禹 治 水 过 门 不 入 , 闻 启 泣 声 , 不 暇 子 名 之 , 以 大 治 度 水\n",
      "y_pred:[0.45260262]\n",
      "y_true:0\n",
      "----------\n",
      "x_seq:愿 回 凌 潮 楫 , 且 著 登 山 屐 。 [UNK] [PAD] [PAD] [PAD] [PAD] [PAD] [PAD] [PAD] [PAD] [PAD] [PAD] [PAD] [PAD] [PAD] [PAD] [PAD] [PAD]\n",
      "x_ALLU:( 灵 运 ) 寻 山 陟 岭 , 必 造 幽 峻 , 岩 嶂 千 重 , 莫 不 备 尽 。 登 蹑 常 著 木\n",
      "y_pred:[0.27078074]\n",
      "y_true:1\n",
      "----------\n",
      "x_seq:愿 回 凌 潮 楫 , 且 著 登 山 屐 。 [UNK] [PAD] [PAD] [PAD] [PAD] [PAD] [PAD] [PAD] [PAD] [PAD] [PAD] [PAD] [PAD] [PAD] [PAD] [PAD] [PAD]\n",
      "x_ALLU:有 信 数 寄 书 , 无 信 心 相 忆 。 莫 作 瓶 落 井 , 一 去 无 消 息 。 [UNK] [PAD] [PAD] [PAD] [PAD]\n",
      "y_pred:[0.60540617]\n",
      "y_true:0\n",
      "----------\n",
      "x_seq:愿 回 凌 潮 楫 , 且 著 登 山 屐 。 [UNK] [PAD] [PAD] [PAD] [PAD] [PAD] [PAD] [PAD] [PAD] [PAD] [PAD] [PAD] [PAD] [PAD] [PAD] [PAD] [PAD]\n",
      "x_ALLU:( 华 ) 谭 曰 : [UNK] 然 。 馥 振 缨 中 朝 , 素 有 俊 彦 之 称 。 [UNK] [UNK] [PAD] [PAD] [PAD] [PAD] [PAD]\n",
      "y_pred:[0.43396935]\n",
      "y_true:0\n",
      "----------\n",
      "x_seq:愿 回 凌 潮 楫 , 且 著 登 山 屐 。 [UNK] [PAD] [PAD] [PAD] [PAD] [PAD] [PAD] [PAD] [PAD] [PAD] [PAD] [PAD] [PAD] [PAD] [PAD] [PAD] [PAD]\n",
      "x_ALLU:谢 太 傅 问 诸 子 侄 : [UNK] 子 弟 亦 何 预 人 事 , 而 正 欲 使 其 佳 ? [UNK] 诸 人 莫 有\n",
      "y_pred:[0.66998357]\n",
      "y_true:0\n",
      "----------\n",
      "x_seq:愿 回 凌 潮 楫 , 且 著 登 山 屐 。 [UNK] [PAD] [PAD] [PAD] [PAD] [PAD] [PAD] [PAD] [PAD] [PAD] [PAD] [PAD] [PAD] [PAD] [PAD] [PAD] [PAD]\n",
      "x_ALLU:孟 子 曰 [UNK] : [UNK] 伯 夷 辟 纣 , 居 北 海 之 滨 , 闻 文 王 作 , 兴 曰 : [UNK] 归 乎 来\n",
      "y_pred:[0.4690853]\n",
      "y_true:0\n",
      "----------\n",
      "x_seq:愿 回 凌 潮 楫 , 且 著 登 山 屐 。 [UNK] [PAD] [PAD] [PAD] [PAD] [PAD] [PAD] [PAD] [PAD] [PAD] [PAD] [PAD] [PAD] [PAD] [PAD] [PAD] [PAD]\n",
      "x_ALLU:相 思 , 大 树 也 , 材 理 坚 , 邪 斫 之 , 则 文 , 可 作 器 。 其 实 如 珊 瑚 , 历\n",
      "y_pred:[0.48721433]\n",
      "y_true:0\n",
      "----------\n",
      "x_seq:愿 回 凌 潮 楫 , 且 著 登 山 屐 。 [UNK] [PAD] [PAD] [PAD] [PAD] [PAD] [PAD] [PAD] [PAD] [PAD] [PAD] [PAD] [PAD] [PAD] [PAD] [PAD] [PAD]\n",
      "x_ALLU:欢 乐 极 兮 哀 情 多 , 少 壮 几 时 兮 奈 老 何 。 [UNK] [PAD] [PAD] [PAD] [PAD] [PAD] [PAD] [PAD] [PAD] [PAD] [PAD] [PAD]\n",
      "y_pred:[0.36518925]\n",
      "y_true:0\n",
      "----------\n",
      "x_seq:愿 回 凌 潮 楫 , 且 著 登 山 屐 。 [UNK] [PAD] [PAD] [PAD] [PAD] [PAD] [PAD] [PAD] [PAD] [PAD] [PAD] [PAD] [PAD] [PAD] [PAD] [PAD] [PAD]\n",
      "x_ALLU:《 诗 》 云 : [UNK] 白 圭 之 玷 , 尚 可 磨 也 ; 斯 言 之 玷 , 不 可 为 也 。 [UNK] 南 容\n",
      "y_pred:[0.34902835]\n",
      "y_true:0\n",
      "----------\n",
      "x_seq:愿 回 凌 潮 楫 , 且 著 登 山 屐 。 [UNK] [PAD] [PAD] [PAD] [PAD] [PAD] [PAD] [PAD] [PAD] [PAD] [PAD] [PAD] [PAD] [PAD] [PAD] [PAD] [PAD]\n",
      "x_ALLU:( 日 ) 薄 于 虞 泉 , 是 谓 黄 昏 。 [UNK] [PAD] [PAD] [PAD] [PAD] [PAD] [PAD] [PAD] [PAD] [PAD] [PAD] [PAD] [PAD] [PAD] [PAD] [PAD]\n",
      "y_pred:[0.30624825]\n",
      "y_true:0\n",
      "----------\n",
      "x_seq:愿 回 凌 潮 楫 , 且 著 登 山 屐 。 [UNK] [PAD] [PAD] [PAD] [PAD] [PAD] [PAD] [PAD] [PAD] [PAD] [PAD] [PAD] [PAD] [PAD] [PAD] [PAD] [PAD]\n",
      "x_ALLU:老 子 者 , 名 重 耳 , 字 伯 阳 。 [UNK] [UNK] 或 云 , 老 子 之 母 , 适 至 李 树 下 而 生\n",
      "y_pred:[0.6418934]\n",
      "y_true:0\n",
      "----------\n",
      "x_seq:眉 如 松 雪 齐 四 皓 , 调 笑 可 以 安 储 皇 。 [UNK] [PAD] [PAD] [PAD] [PAD] [PAD] [PAD] [PAD] [PAD] [PAD] [PAD] [PAD] [PAD]\n",
      "x_ALLU:汉 十 二 年 , 上 从 破 布 归 , 疾 益 甚 , 愈 欲 易 太 子 [UNK] [UNK] 及 宴 , 置 酒 , 太\n",
      "y_pred:[0.7417745]\n",
      "y_true:1\n",
      "----------\n",
      "x_seq:眉 如 松 雪 齐 四 皓 , 调 笑 可 以 安 储 皇 。 [UNK] [PAD] [PAD] [PAD] [PAD] [PAD] [PAD] [PAD] [PAD] [PAD] [PAD] [PAD] [PAD]\n",
      "x_ALLU:《 定 情 诗 》 , 汉 繁 钦 所 作 也 。 言 妇 人 不 能 以 礼 从 人 , 而 自 相 悦 媚 。\n",
      "y_pred:[0.5379219]\n",
      "y_true:0\n",
      "----------\n",
      "x_seq:眉 如 松 雪 齐 四 皓 , 调 笑 可 以 安 储 皇 。 [UNK] [PAD] [PAD] [PAD] [PAD] [PAD] [PAD] [PAD] [PAD] [PAD] [PAD] [PAD] [PAD]\n",
      "x_ALLU:皋 , 泽 也 。 言 身 隐 而 名 著 也 。 [UNK] [PAD] [PAD] [PAD] [PAD] [PAD] [PAD] [PAD] [PAD] [PAD] [PAD] [PAD] [PAD] [PAD] [PAD] [PAD]\n",
      "y_pred:[0.6180917]\n",
      "y_true:0\n",
      "----------\n",
      "x_seq:眉 如 松 雪 齐 四 皓 , 调 笑 可 以 安 储 皇 。 [UNK] [PAD] [PAD] [PAD] [PAD] [PAD] [PAD] [PAD] [PAD] [PAD] [PAD] [PAD] [PAD]\n",
      "x_ALLU:况 迁 大 鸿 [UNK] 。 帝 数 幸 其 第 , 会 公 卿 诸 侯 亲 家 饮 燕 , 赏 赐 金 钱 [UNK] 帛 ,\n",
      "y_pred:[0.6227788]\n",
      "y_true:0\n",
      "----------\n",
      "x_seq:眉 如 松 雪 齐 四 皓 , 调 笑 可 以 安 储 皇 。 [UNK] [PAD] [PAD] [PAD] [PAD] [PAD] [PAD] [PAD] [PAD] [PAD] [PAD] [PAD] [PAD]\n",
      "x_ALLU:荆 轲 者 , 卫 人 也 。 [UNK] [UNK] 而 之 燕 , 燕 人 谓 之 荆 卿 。 于 是 太 子 豫 求 天 下\n",
      "y_pred:[0.54168993]\n",
      "y_true:0\n",
      "----------\n",
      "x_seq:眉 如 松 雪 齐 四 皓 , 调 笑 可 以 安 储 皇 。 [UNK] [PAD] [PAD] [PAD] [PAD] [PAD] [PAD] [PAD] [PAD] [PAD] [PAD] [PAD] [PAD]\n",
      "x_ALLU:孟 敏 字 叔 达 , 巨 鹿 杨 氏 人 也 。 客 居 太 原 。 荷 [UNK] 堕 地 , 不 顾 而 去 。 林\n",
      "y_pred:[0.85824084]\n",
      "y_true:0\n",
      "----------\n",
      "x_seq:眉 如 松 雪 齐 四 皓 , 调 笑 可 以 安 储 皇 。 [UNK] [PAD] [PAD] [PAD] [PAD] [PAD] [PAD] [PAD] [PAD] [PAD] [PAD] [PAD] [PAD]\n",
      "x_ALLU:孝 惠 帝 为 东 朝 长 乐 宫 。 [UNK] [PAD] [PAD] [PAD] [PAD] [PAD] [PAD] [PAD] [PAD] [PAD] [PAD] [PAD] [PAD] [PAD] [PAD] [PAD] [PAD] [PAD] [PAD]\n",
      "y_pred:[0.7141299]\n",
      "y_true:0\n",
      "----------\n",
      "x_seq:眉 如 松 雪 齐 四 皓 , 调 笑 可 以 安 储 皇 。 [UNK] [PAD] [PAD] [PAD] [PAD] [PAD] [PAD] [PAD] [PAD] [PAD] [PAD] [PAD] [PAD]\n",
      "x_ALLU:丙 寅 晦 , 齐 师 夜 遁 。 师 旷 告 晋 侯 曰 : [UNK] 鸟 乌 之 声 乐 , 齐 师 其 遁 ? [UNK]\n",
      "y_pred:[0.43880716]\n",
      "y_true:0\n",
      "----------\n",
      "x_seq:眉 如 松 雪 齐 四 皓 , 调 笑 可 以 安 储 皇 。 [UNK] [PAD] [PAD] [PAD] [PAD] [PAD] [PAD] [PAD] [PAD] [PAD] [PAD] [PAD] [PAD]\n",
      "x_ALLU:自 陕 而 东 者 , 周 公 主 之 。 自 陕 而 西 者 , 召 公 主 之 。 [UNK] [PAD] [PAD] [PAD] [PAD] [PAD] [PAD]\n",
      "y_pred:[0.8649602]\n",
      "y_true:0\n",
      "----------\n",
      "x_seq:眉 如 松 雪 齐 四 皓 , 调 笑 可 以 安 储 皇 。 [UNK] [PAD] [PAD] [PAD] [PAD] [PAD] [PAD] [PAD] [PAD] [PAD] [PAD] [PAD] [PAD]\n",
      "x_ALLU:献 帝 西 迁 , 粲 徙 长 安 , 左 中 郎 将 蔡 邕 见 而 奇 之 [UNK] [UNK] 年 十 七 , 司 徒 辟\n",
      "y_pred:[0.7768476]\n",
      "y_true:0\n",
      "----------\n",
      "x_seq:所 期 波 涛 助 , [UNK] 赫 呈 吞 舟 。 [UNK] [PAD] [PAD] [PAD] [PAD] [PAD] [PAD] [PAD] [PAD] [PAD] [PAD] [PAD] [PAD] [PAD] [PAD] [PAD] [PAD]\n",
      "x_ALLU:庚 桑 子 曰 : [UNK] [UNK] [UNK] 夫 函 车 之 兽 , 介 而 离 山 , 则 不 免 于 网 [UNK] 之 患 ; 吞\n",
      "y_pred:[0.36888987]\n",
      "y_true:1\n",
      "----------\n",
      "x_seq:所 期 波 涛 助 , [UNK] 赫 呈 吞 舟 。 [UNK] [PAD] [PAD] [PAD] [PAD] [PAD] [PAD] [PAD] [PAD] [PAD] [PAD] [PAD] [PAD] [PAD] [PAD] [PAD] [PAD]\n",
      "x_ALLU:朱 儒 , 短 人 也 。 [UNK] [PAD] [PAD] [PAD] [PAD] [PAD] [PAD] [PAD] [PAD] [PAD] [PAD] [PAD] [PAD] [PAD] [PAD] [PAD] [PAD] [PAD] [PAD] [PAD] [PAD] [PAD]\n",
      "y_pred:[0.65863496]\n",
      "y_true:0\n",
      "----------\n",
      "x_seq:所 期 波 涛 助 , [UNK] 赫 呈 吞 舟 。 [UNK] [PAD] [PAD] [PAD] [PAD] [PAD] [PAD] [PAD] [PAD] [PAD] [PAD] [PAD] [PAD] [PAD] [PAD] [PAD] [PAD]\n",
      "x_ALLU:祢 衡 字 正 平 , 平 原 般 人 也 , 少 有 才 辩 , 而 尚 气 刚 傲 , 好 矫 时 慢 物 。\n",
      "y_pred:[0.681234]\n",
      "y_true:0\n",
      "----------\n",
      "x_seq:所 期 波 涛 助 , [UNK] 赫 呈 吞 舟 。 [UNK] [PAD] [PAD] [PAD] [PAD] [PAD] [PAD] [PAD] [PAD] [PAD] [PAD] [PAD] [PAD] [PAD] [PAD] [PAD] [PAD]\n",
      "x_ALLU:年 十 四 , 随 邑 人 行 贩 洛 阳 , 倚 啸 上 东 门 [UNK] , 王 衍 见 而 异 之 , 顾 谓 左\n",
      "y_pred:[0.5919747]\n",
      "y_true:0\n",
      "----------\n",
      "END:**************************************************\n",
      "array([[0.21262965, 0.60790986, 0.71641445, 0.59405386, 0.73123026,\n",
      "        0.48902214, 0.59305817, 0.48092857, 0.45657012, 0.73499864],\n",
      "       [0.9708553 , 0.4590445 , 0.45224234, 0.73238665, 0.4103076 ,\n",
      "        0.34629512, 0.2446793 , 0.5744508 , 0.429281  , 0.55960804],\n",
      "       [0.9545916 , 0.34842786, 0.42238128, 0.3413189 , 0.4156505 ,\n",
      "        0.09027407, 0.4190364 , 0.577626  , 0.11408955, 0.60565436],\n",
      "       [0.573586  , 0.15706986, 0.27702472, 0.4293977 , 0.6022028 ,\n",
      "        0.27727187, 0.50966907, 0.19270056, 0.33933294, 0.45260262],\n",
      "       [0.27078074, 0.60540617, 0.43396935, 0.66998357, 0.4690853 ,\n",
      "        0.48721433, 0.36518925, 0.34902835, 0.30624825, 0.6418934 ],\n",
      "       [0.7417745 , 0.5379219 , 0.6180917 , 0.6227788 , 0.54168993,\n",
      "        0.85824084, 0.7141299 , 0.43880716, 0.8649602 , 0.7768476 ],\n",
      "       [0.36888987, 0.65863496, 0.681234  , 0.5919747 , 0.36625713,\n",
      "        0.63700354, 0.4883063 , 0.32865235, 0.44317842, 0.6277487 ],\n",
      "       [0.9400824 , 0.43491817, 0.34559268, 0.43231478, 0.16286731,\n",
      "        0.1863983 , 0.22447836, 0.57740253, 0.49568537, 0.34166208],\n",
      "       [0.5136844 , 0.33021033, 0.49324602, 0.74058324, 0.65656304,\n",
      "        0.36784434, 0.58792967, 0.3655653 , 0.51637065, 0.9404954 ],\n",
      "       [0.95691985, 0.31664234, 0.77773935, 0.31390446, 0.46302423,\n",
      "        0.9591022 , 0.555658  , 0.5349405 , 0.505444  , 0.13149735]],\n",
      "      dtype=float32)\n",
      "array([9, 4, 2, 1, 3, 6, 5, 7, 8, 0])\n",
      "[0, 0, 0, 0, 0, 0, 0, 0, 0, 1]\n",
      "array([0, 3, 7, 9, 1, 2, 8, 4, 5, 6])\n",
      "[1, 0, 0, 0, 0, 0, 0, 0, 0, 0]\n",
      "array([0, 9, 7, 2, 6, 4, 1, 3, 8, 5])\n",
      "[1, 0, 0, 0, 0, 0, 0, 0, 0, 0]\n",
      "array([4, 0, 6, 9, 3, 8, 5, 2, 7, 1])\n",
      "[0, 1, 0, 0, 0, 0, 0, 0, 0, 0]\n",
      "array([3, 9, 1, 5, 4, 2, 6, 7, 8, 0])\n",
      "[0, 0, 0, 0, 0, 0, 0, 0, 0, 1]\n",
      "array([8, 5, 9, 0, 6, 3, 2, 4, 1, 7])\n",
      "[0, 0, 0, 1, 0, 0, 0, 0, 0, 0]\n",
      "array([2, 1, 5, 9, 3, 6, 8, 0, 4, 7])\n",
      "[0, 0, 0, 0, 0, 0, 0, 1, 0, 0]\n",
      "array([0, 7, 8, 1, 3, 2, 9, 6, 5, 4])\n",
      "[1, 0, 0, 0, 0, 0, 0, 0, 0, 0]\n",
      "array([9, 3, 4, 6, 8, 0, 2, 5, 7, 1])\n",
      "[0, 0, 0, 0, 0, 1, 0, 0, 0, 0]\n",
      "array([5, 0, 2, 6, 7, 8, 4, 1, 3, 9])\n",
      "[0, 1, 0, 0, 0, 0, 0, 0, 0, 0]\n",
      "\n",
      "----------------------------------ALLU_SOURCE PAIRMATCH METRICS -----------------------------------\n",
      "\n",
      "epoch:PAIRMATCH AVG_RANKING MRR: 0.5199\n",
      "\n",
      "----------------------------------ALLU_SOURCE END ----------------------------------\n",
      "\n",
      "----------------------------------ALLU_CLASS CLASS METRICS -----------------------------------\n",
      "\n",
      "              precision    recall  f1-score   support\n",
      "    accuracy                         0.3696       533\n",
      "   macro avg     0.3273    0.2769    0.2823       533\n",
      "weighted avg     0.3701    0.3696    0.3522       533\n",
      "\n",
      "\n",
      "epoch:classification EPOCH accuracy: 0.3696060037523452 precision: 0.327305, recall: 0.276925, f1: 0.282263\n",
      "\n",
      "-----------------------------ALLU_CLASS END ----------------------------\n",
      "train_example:**************************************************\n",
      "x_seq:深 冬 苦 得 朝 丹 阙 ， 太 华 峰 前 衣 锦 归 。 [UNK] [PAD] [PAD] [PAD] [PAD] [PAD] [PAD] [PAD] [PAD] [PAD] [PAD] [PAD] [PAD]\n",
      "y_pred:人事部\n",
      "y_true:人事部\n",
      "----------\n",
      "x_seq:相 逢 浑 不 觉 ， 只 似 茂 陵 贫 。 [UNK] [PAD] [PAD] [PAD] [PAD] [PAD] [PAD] [PAD] [PAD] [PAD] [PAD] [PAD] [PAD] [PAD] [PAD] [PAD] [PAD]\n",
      "y_pred:人事部\n",
      "y_true:人事部\n",
      "----------\n",
      "x_seq:楚 昭 萍 已 破 ， 韩 嫣 弹 争 投 。 [UNK] [PAD] [PAD] [PAD] [PAD] [PAD] [PAD] [PAD] [PAD] [PAD] [PAD] [PAD] [PAD] [PAD] [PAD] [PAD] [PAD]\n",
      "y_pred:人物部\n",
      "y_true:植物部\n",
      "----------\n",
      "x_seq:玉 台 挂 宝 镜 ， 持 此 意 何 如 ？ [UNK] [PAD] [PAD] [PAD] [PAD] [PAD] [PAD] [PAD] [PAD] [PAD] [PAD] [PAD] [PAD] [PAD] [PAD] [PAD] [PAD]\n",
      "y_pred:器用部\n",
      "y_true:器用部\n",
      "----------\n",
      "x_seq:青 藜 杖 出 氛 埃 外 ， 白 版 扉 开 水 竹 边 。 [UNK] [PAD] [PAD] [PAD] [PAD] [PAD] [PAD] [PAD] [PAD] [PAD] [PAD] [PAD] [PAD]\n",
      "y_pred:器用部\n",
      "y_true:器用部\n",
      "----------\n",
      "x_seq:五 月 披 裘 者 ， 应 知 不 取 金 。 [UNK] [PAD] [PAD] [PAD] [PAD] [PAD] [PAD] [PAD] [PAD] [PAD] [PAD] [PAD] [PAD] [PAD] [PAD] [PAD] [PAD]\n",
      "y_pred:人事部\n",
      "y_true:人事部\n",
      "----------\n",
      "x_seq:[UNK] 天 犹 指 鹿 ， 依 社 尚 凭 狐 。 [UNK] [PAD] [PAD] [PAD] [PAD] [PAD] [PAD] [PAD] [PAD] [PAD] [PAD] [PAD] [PAD] [PAD] [PAD] [PAD] [PAD]\n",
      "y_pred:动物部\n",
      "y_true:政事部\n",
      "----------\n",
      "x_seq:垂 [UNK] 资 穆 穆 ， 祝 网 但 恢 恢 。 [UNK] [PAD] [PAD] [PAD] [PAD] [PAD] [PAD] [PAD] [PAD] [PAD] [PAD] [PAD] [PAD] [PAD] [PAD] [PAD] [PAD]\n",
      "y_pred:器用部\n",
      "y_true:器用部\n",
      "----------\n",
      "x_seq:安 得 壮 士 挽 天 河 ， 净 洗 甲 兵 长 不 用 。 [UNK] [PAD] [PAD] [PAD] [PAD] [PAD] [PAD] [PAD] [PAD] [PAD] [PAD] [PAD] [PAD]\n",
      "y_pred:武备部\n",
      "y_true:武备部\n",
      "----------\n",
      "x_seq:三 顾 频 烦 天 下 计 ， 两 朝 开 济 老 臣 心 。 [UNK] [PAD] [PAD] [PAD] [PAD] [PAD] [PAD] [PAD] [PAD] [PAD] [PAD] [PAD] [PAD]\n",
      "y_pred:政事部\n",
      "y_true:人物部\n",
      "----------\n",
      "END:**************************************************\n",
      "test_example:**************************************************\n",
      "x_seq:不 然 学 仁 贵 ， 三 矢 平 虏 庭 。 [UNK] [PAD] [PAD] [PAD] [PAD] [PAD] [PAD] [PAD] [PAD] [PAD] [PAD] [PAD] [PAD] [PAD] [PAD] [PAD] [PAD]\n",
      "y_pred:武备部\n",
      "y_true:武备部\n",
      "----------\n",
      "x_seq:诸 生 个 个 王 恭 柳 ， 从 事 人 人 庾 [UNK] 莲 。 [UNK] [PAD] [PAD] [PAD] [PAD] [PAD] [PAD] [PAD] [PAD] [PAD] [PAD] [PAD] [PAD]\n",
      "y_pred:人物部\n",
      "y_true:植物部\n",
      "----------\n",
      "x_seq:昔 者 漆 园 叟 ， 箕 踞 歌 鼓 盆 。 [UNK] [PAD] [PAD] [PAD] [PAD] [PAD] [PAD] [PAD] [PAD] [PAD] [PAD] [PAD] [PAD] [PAD] [PAD] [PAD] [PAD]\n",
      "y_pred:人事部\n",
      "y_true:器用部\n",
      "----------\n",
      "x_seq:人 疑 卫 叔 美 ， 客 似 长 卿 才 。 [UNK] [PAD] [PAD] [PAD] [PAD] [PAD] [PAD] [PAD] [PAD] [PAD] [PAD] [PAD] [PAD] [PAD] [PAD] [PAD] [PAD]\n",
      "y_pred:人物部\n",
      "y_true:人物部\n",
      "----------\n",
      "x_seq:与 可 画 竹 时 ， 胸 中 有 成 竹 。 [UNK] [PAD] [PAD] [PAD] [PAD] [PAD] [PAD] [PAD] [PAD] [PAD] [PAD] [PAD] [PAD] [PAD] [PAD] [PAD] [PAD]\n",
      "y_pred:文明部\n",
      "y_true:植物部\n",
      "----------\n",
      "x_seq:季 子 生 前 别 ， 羊 昙 醉 后 悲 。 [UNK] [PAD] [PAD] [PAD] [PAD] [PAD] [PAD] [PAD] [PAD] [PAD] [PAD] [PAD] [PAD] [PAD] [PAD] [PAD] [PAD]\n",
      "y_pred:人事部\n",
      "y_true:人事部\n",
      "----------\n",
      "x_seq:渭 曲 摸 随 双 鲤 逝 ， 延 津 剑 化 一 龙 吟 。 [UNK] [PAD] [PAD] [PAD] [PAD] [PAD] [PAD] [PAD] [PAD] [PAD] [PAD] [PAD] [PAD]\n",
      "y_pred:人事部\n",
      "y_true:动物部\n",
      "----------\n",
      "x_seq:见 义 必 许 死 ， 临 危 当 指 国 。 [UNK] [PAD] [PAD] [PAD] [PAD] [PAD] [PAD] [PAD] [PAD] [PAD] [PAD] [PAD] [PAD] [PAD] [PAD] [PAD] [PAD]\n",
      "y_pred:人事部\n",
      "y_true:伦类部\n",
      "----------\n",
      "x_seq:高 会 日 陪 山 简 醉 ， 狂 言 屡 发 次 公 醒 。 [UNK] [PAD] [PAD] [PAD] [PAD] [PAD] [PAD] [PAD] [PAD] [PAD] [PAD] [PAD] [PAD]\n",
      "y_pred:人事部\n",
      "y_true:器用部\n",
      "----------\n",
      "x_seq:闻 就 庞 公 隐 ， 移 居 近 洞 湖 。 [UNK] [PAD] [PAD] [PAD] [PAD] [PAD] [PAD] [PAD] [PAD] [PAD] [PAD] [PAD] [PAD] [PAD] [PAD] [PAD] [PAD]\n",
      "y_pred:地理部\n",
      "y_true:人事部\n",
      "----------\n",
      "END:**************************************************\n",
      "\n",
      "----------------------------------READABILITY CLASS METRICS -----------------------------------\n",
      "\n",
      "              precision    recall  f1-score   support\n",
      "    accuracy                         0.6736       383\n",
      "   macro avg     0.6910    0.6688    0.6787       383\n",
      "weighted avg     0.6748    0.6736    0.6736       383\n",
      "\n",
      "\n",
      "epoch:classification EPOCH accuracy: 0.6736292428198434 precision: 0.691006, recall: 0.668769, f1: 0.678690\n",
      "\n",
      "-----------------------------READABILITY END ----------------------------\n"
     ]
    },
    {
     "name": "stderr",
     "output_type": "stream",
     "text": [
      "I:SAMPLE_TRAINER:[sampler_mu: 43]:cur_split_idx 3th END\n",
      "I:SAMPLE_TRAINER:[sampler_mu: 44]:****************************************************************************************************\n",
      "I:SAMPLE_TRAINER:[sampler_mu: 45]:****************************************************************************************************\n",
      "I:BASE TASK:[base_task.:270]:Task NER:\n",
      "I:BASE TASK:[base_task.:271]:\t32 training batches\n",
      "I:BASE TASK:[base_task.:272]:\t6 validation batches\n",
      "I:BASE TASK:[base_task.:273]:\t10 test batches\n"
     ]
    },
    {
     "name": "stdout",
     "output_type": "stream",
     "text": [
      "train_example:**************************************************\n",
      "x_seq:永 夜 抛 人 何 处 去 ？ 绝 来 音 。 香 阁 掩 ， 眉 敛 ， 月 将 沉 。 争 忍 不 相 寻 ？\n",
      "y_pred:1\n",
      "y_true:2\n",
      "----------\n",
      "x_seq:黄 金 殿 里 ， 烛 影 双 龙 戏 。 劝 得 官 家 真 个 醉 ， 进 酒 犹 呼 万 岁 。 折 旋 舞\n",
      "y_pred:1\n",
      "y_true:2\n",
      "----------\n",
      "x_seq:社 长 排 门 告 示 ， 但 有 的 差 使 无 推 故 ， 这 差 使 不 寻 俗 。 一 壁 厢 纳 草 也\n",
      "y_pred:3\n",
      "y_true:3\n",
      "----------\n",
      "x_seq:静 夜 四 无 邻 ， 荒 居 旧 业 贫 。 雨 中 黄 叶 树 ， 灯 下 白 头 人 。 以 我 独 沉 久\n",
      "y_pred:2\n",
      "y_true:1\n",
      "----------\n",
      "x_seq:中 庭 地 白 树 栖 鸦 ， 冷 露 无 声 湿 桂 花 。 今 夜 月 明 人 尽 望 ， 不 知 秋 思 落\n",
      "y_pred:1\n",
      "y_true:1\n",
      "----------\n",
      "x_seq:落 羽 辞 金 殿 ， 孤 鸣 咤 绣 衣 。 能 言 终 见 弃 ， 还 向 陇 西 飞 。 [UNK] [PAD] [PAD] [PAD] [PAD]\n",
      "y_pred:2\n",
      "y_true:2\n",
      "----------\n",
      "x_seq:出 其 东 门 ， 有 女 如 云 。 虽 则 如 云 ， 匪 我 思 存 。 [UNK] 衣 綦 巾 ， 聊 乐 我 员\n",
      "y_pred:3\n",
      "y_true:3\n",
      "----------\n",
      "x_seq:禾 黍 离 离 半 野 蒿 ， 昔 人 城 此 岂 知 劳 ？ 水 声 东 去 市 朝 变 ， 山 势 北 来 宫\n",
      "y_pred:2\n",
      "y_true:2\n",
      "----------\n",
      "x_seq:野 寺 分 晴 树 ， 山 亭 过 晚 霞 。 春 深 无 客 到 ， 一 路 落 松 花 。 [UNK] [PAD] [PAD] [PAD] [PAD]\n",
      "y_pred:1\n",
      "y_true:1\n",
      "----------\n",
      "x_seq:曲 江 萧 条 秋 气 高 ， 菱 荷 枯 折 随 波 涛 ， 游 子 空 嗟 垂 二 毛 。 白 石 素 沙 亦\n",
      "y_pred:2\n",
      "y_true:2\n",
      "----------\n",
      "END:**************************************************\n",
      "test_example:**************************************************\n",
      "x_seq:路 转 山 腰 足 未 移 ， 水 清 石 瘦 便 能 奇 。 白 云 自 占 东 西 岭 ， 明 月 谁 分 上\n",
      "y_pred:2\n",
      "y_true:1\n",
      "----------\n",
      "x_seq:日 暮 苍 山 远 ， 天 寒 白 屋 贫 。 柴 门 闻 犬 吠 ， 风 雪 夜 归 人 。 [UNK] [PAD] [PAD] [PAD] [PAD]\n",
      "y_pred:1\n",
      "y_true:1\n",
      "----------\n",
      "x_seq:才 近 中 秋 月 已 清 ， 鸦 青 幕 挂 一 团 冰 。 忽 然 觉 得 今 宵 月 ， 元 不 黏 天 独\n",
      "y_pred:1\n",
      "y_true:1\n",
      "----------\n",
      "x_seq:昨 夜 霜 风 。 先 入 梧 桐 。 浑 无 处 、 回 避 衰 容 。 问 公 何 事 ， 不 语 书 空 。\n",
      "y_pred:2\n",
      "y_true:1\n",
      "----------\n",
      "x_seq:落 日 斜 ， 秋 风 冷 。 今 夜 故 人 来 不 来 ， 教 人 立 尽 梧 桐 影 。 [UNK] [PAD] [PAD] [PAD] [PAD]\n",
      "y_pred:1\n",
      "y_true:1\n",
      "----------\n",
      "x_seq:静 女 其 姝 ， 俟 我 于 城 隅 。 爱 而 不 见 ， 搔 首 踟 [UNK] 。 静 女 其 [UNK] ， 贻 我 彤\n",
      "y_pred:3\n",
      "y_true:3\n",
      "----------\n",
      "x_seq:清 溪 流 过 碧 山 头 ， 空 水 澄 鲜 一 色 秋 。 隔 断 红 尘 三 十 里 ， 白 云 红 叶 两\n",
      "y_pred:1\n",
      "y_true:1\n",
      "----------\n",
      "x_seq:而 今 才 道 当 时 错 ， 心 绪 凄 迷 。 红 泪 偷 垂 ， 满 眼 春 风 百 事 非 。 情 知 此\n",
      "y_pred:2\n",
      "y_true:1\n",
      "----------\n",
      "x_seq:留 人 不 住 ， 醉 解 兰 舟 去 。 一 棹 碧 涛 春 水 路 ， 过 尽 晓 莺 啼 处 。 渡 头 杨\n",
      "y_pred:1\n",
      "y_true:1\n",
      "----------\n",
      "x_seq:尔 牛 角 弯 环 ， 我 牛 尾 秃 速 。 共 拈 短 笛 与 长 鞭 ， 南 陇 东 冈 去 相 逐 。 日\n",
      "y_pred:1\n",
      "y_true:1\n",
      "----------\n",
      "END:**************************************************\n"
     ]
    },
    {
     "name": "stderr",
     "output_type": "stream",
     "text": [
      "I:BASE TASK:[base_task.:270]:Task ALLU_CLASS:\n",
      "I:BASE TASK:[base_task.:271]:\t29 training batches\n",
      "I:BASE TASK:[base_task.:272]:\t6 validation batches\n",
      "I:BASE TASK:[base_task.:273]:\t9 test batches\n",
      "I:BASE TASK:[base_task.:270]:Task READABILITY:\n",
      "I:BASE TASK:[base_task.:271]:\t21 training batches\n",
      "I:BASE TASK:[base_task.:272]:\t4 validation batches\n",
      "I:BASE TASK:[base_task.:273]:\t6 test batches\n",
      "I:BASE TASK:[base_task.:270]:Task ALLU_SOURCE:\n",
      "I:BASE TASK:[base_task.:271]:\t64 training batches\n",
      "I:BASE TASK:[base_task.:272]:\t12 validation batches\n",
      "I:BASE TASK:[base_task.:273]:\t94 test batches\n",
      "I:BERT EMBEDDING:[bert_embed:105]:seq_len:30\n",
      "I:BERT EMBEDDING:[bert_embed:105]:seq_len:30\n",
      "I:AHMTL MODEL:[AHMTL.py:126]:Multi-Task Learning Model has been instantiated.\n",
      "I:CUR_SPLIT:4:[sampler_mu: 92]:Set up ready. Begining training/validation.\n",
      "I:BASE-MODEL:[base_model:133]:NER's model_dir is ./model_ckpt/2020-02-04-01_18_48/4/NER-Naive_CRF_Model\n",
      "I:BASE-MODEL:[base_model:232]:[NER]:train info:Train on 2040 samples, validate on 360 samples\n",
      "I:BASE-MODEL:[base_model:133]:ALLU_SOURCE's model_dir is ./model_ckpt/2020-02-04-01_18_48/4/ALLU_SOURCE-NaiveDenseModel\n",
      "I:BASE-MODEL:[base_model:232]:[ALLU_SOURCE]:train info:Train on 4080 samples, validate on 720 samples\n",
      "I:BASE-MODEL:[base_model:133]:ALLU_CLASS's model_dir is ./model_ckpt/2020-02-04-01_18_48/4/ALLU_CLASS-NaiveDenseModel\n",
      "I:BASE-MODEL:[base_model:232]:[ALLU_CLASS]:train info:Train on 1814 samples, validate on 321 samples\n",
      "I:BASE-MODEL:[base_model:133]:READABILITY's model_dir is ./model_ckpt/2020-02-04-01_18_48/4/READABILITY-NaiveDenseModel\n",
      "I:BASE-MODEL:[base_model:232]:[READABILITY]:train info:Train on 1302 samples, validate on 230 samples\n"
     ]
    },
    {
     "name": "stdout",
     "output_type": "stream",
     "text": [
      "Epoch 1/50\n",
      "146/146 [==============================] - 195s 1s/step - task_name:     NER     - loss: 8.7974 - accuracy: 0.7646 - val_loss: 19.7730 - val_accuracy: 0.4844\n",
      "146/146 [==============================] - 195s 1s/step - task_name: ALLU_SOURCE - loss: 0.7524 - accuracy: 0.5584 - val_loss: 0.7133 - val_accuracy: 0.6081 \n",
      "146/146 [==============================] - 195s 1s/step - task_name: ALLU_CLASS  - loss: 2.4917 - accuracy: 0.2525 - val_loss: 2.4326 - val_accuracy: 0.3307\n",
      "146/146 [==============================] - 195s 1s/step - task_name: READABILITY - loss: 0.7267 - accuracy: 0.5851 - val_loss: 0.8919 - val_accuracy: 0.6094\n"
     ]
    },
    {
     "name": "stderr",
     "output_type": "stream",
     "text": [
      "I:CUR_SPLIT:4:[sampler_mu:139]:----------------------------------------------------------------------------------------------------\n"
     ]
    },
    {
     "name": "stdout",
     "output_type": "stream",
     "text": [
      "Epoch 2/50\n",
      "146/146 [==============================] - 46s 312ms/step - task_name:     NER     - loss: 9.3647 - accuracy: 0.8065 - val_loss: 19.2648 - val_accuracy: 0.4681\n",
      "146/146 [==============================] - 46s 312ms/step - task_name: ALLU_SOURCE - loss: 0.6075 - accuracy: 0.6240 - val_loss: 0.7245 - val_accuracy: 0.6107 \n",
      "146/146 [==============================] - 46s 312ms/step - task_name: ALLU_CLASS  - loss: 1.5803 - accuracy: 0.3499 - val_loss: 2.3615 - val_accuracy: 0.3281\n",
      "146/146 [==============================] - 46s 312ms/step - task_name: READABILITY - loss: 0.6570 - accuracy: 0.6743 - val_loss: 1.0085 - val_accuracy: 0.5898\n"
     ]
    },
    {
     "name": "stderr",
     "output_type": "stream",
     "text": [
      "I:CUR_SPLIT:4:[sampler_mu:139]:----------------------------------------------------------------------------------------------------\n"
     ]
    },
    {
     "name": "stdout",
     "output_type": "stream",
     "text": [
      "Epoch 3/50\n",
      "146/146 [==============================] - 68s 465ms/step - task_name:     NER     - loss: 6.4095 - accuracy: 0.8111 - val_loss: 19.0372 - val_accuracy: 0.4601\n",
      "146/146 [==============================] - 68s 465ms/step - task_name: ALLU_SOURCE - loss: 0.6498 - accuracy: 0.6514 - val_loss: 0.7019 - val_accuracy: 0.6341 \n",
      "146/146 [==============================] - 68s 465ms/step - task_name: ALLU_CLASS  - loss: 1.2128 - accuracy: 0.4242 - val_loss: 2.3105 - val_accuracy: 0.3490\n",
      "146/146 [==============================] - 68s 465ms/step - task_name: READABILITY - loss: 0.8786 - accuracy: 0.6981 - val_loss: 0.9770 - val_accuracy: 0.5898\n"
     ]
    },
    {
     "name": "stderr",
     "output_type": "stream",
     "text": [
      "I:CUR_SPLIT:4:[sampler_mu:139]:----------------------------------------------------------------------------------------------------\n"
     ]
    },
    {
     "name": "stdout",
     "output_type": "stream",
     "text": [
      "Epoch 4/50\n",
      "146/146 [==============================] - 46s 315ms/step - task_name:     NER     - loss: 6.7374 - accuracy: 0.7871 - val_loss: 18.6491 - val_accuracy: 0.4551\n",
      "146/146 [==============================] - 46s 315ms/step - task_name: ALLU_SOURCE - loss: 0.6371 - accuracy: 0.6516 - val_loss: 0.7151 - val_accuracy: 0.6406 \n",
      "146/146 [==============================] - 46s 315ms/step - task_name: ALLU_CLASS  - loss: 1.7790 - accuracy: 0.4561 - val_loss: 2.2281 - val_accuracy: 0.3542\n",
      "146/146 [==============================] - 46s 315ms/step - task_name: READABILITY - loss: 0.5533 - accuracy: 0.7336 - val_loss: 1.0893 - val_accuracy: 0.5938\n"
     ]
    },
    {
     "name": "stderr",
     "output_type": "stream",
     "text": [
      "I:CUR_SPLIT:4:[sampler_mu:139]:----------------------------------------------------------------------------------------------------\n"
     ]
    },
    {
     "name": "stdout",
     "output_type": "stream",
     "text": [
      "Epoch 5/50\n",
      "146/146 [==============================] - 45s 311ms/step - task_name:     NER     - loss: 5.7337 - accuracy: 0.8165 - val_loss: 18.3029 - val_accuracy: 0.4530\n",
      "146/146 [==============================] - 45s 311ms/step - task_name: ALLU_SOURCE - loss: 0.5670 - accuracy: 0.7073 - val_loss: 0.7230 - val_accuracy: 0.6419 \n",
      "146/146 [==============================] - 45s 311ms/step - task_name: ALLU_CLASS  - loss: 1.5406 - accuracy: 0.5066 - val_loss: 2.2236 - val_accuracy: 0.3906\n",
      "146/146 [==============================] - 45s 311ms/step - task_name: READABILITY - loss: 0.5382 - accuracy: 0.7641 - val_loss: 1.1383 - val_accuracy: 0.5820\n"
     ]
    },
    {
     "name": "stderr",
     "output_type": "stream",
     "text": [
      "I:CUR_SPLIT:4:[sampler_mu:139]:----------------------------------------------------------------------------------------------------\n"
     ]
    },
    {
     "name": "stdout",
     "output_type": "stream",
     "text": [
      "Epoch 6/50\n",
      "145/146 [============================>.] - ETA: 0s - task_name: READABILITY - loss: 0.4722 - accuracy: 0.7878\n",
      "Epoch 00006: ReduceLROnPlateau reducing learning rate to 0.0007000000332482159.\n",
      "146/146 [==============================] - 45s 307ms/step - task_name:     NER     - loss: 4.4895 - accuracy: 0.8264 - val_loss: 18.2677 - val_accuracy: 0.4731\n",
      "146/146 [==============================] - 45s 307ms/step - task_name: ALLU_SOURCE - loss: 0.5733 - accuracy: 0.7289 - val_loss: 0.7538 - val_accuracy: 0.6328 \n",
      "146/146 [==============================] - 45s 307ms/step - task_name: ALLU_CLASS  - loss: 1.3871 - accuracy: 0.5971 - val_loss: 2.2925 - val_accuracy: 0.3620\n",
      "146/146 [==============================] - 45s 307ms/step - task_name: READABILITY - loss: 0.4522 - accuracy: 0.7878 - val_loss: 1.0688 - val_accuracy: 0.6094\n"
     ]
    },
    {
     "name": "stderr",
     "output_type": "stream",
     "text": [
      "I:CUR_SPLIT:4:[sampler_mu:139]:----------------------------------------------------------------------------------------------------\n"
     ]
    },
    {
     "name": "stdout",
     "output_type": "stream",
     "text": [
      "Epoch 7/50\n",
      "146/146 [==============================] - 44s 303ms/step - task_name:     NER     - loss: 6.3232 - accuracy: 0.8295 - val_loss: 17.8551 - val_accuracy: 0.4494\n",
      "146/146 [==============================] - 44s 303ms/step - task_name: ALLU_SOURCE - loss: 0.4908 - accuracy: 0.7532 - val_loss: 0.7801 - val_accuracy: 0.6289 \n",
      "146/146 [==============================] - 44s 303ms/step - task_name: ALLU_CLASS  - loss: 0.9957 - accuracy: 0.6470 - val_loss: 2.3393 - val_accuracy: 0.3828\n",
      "146/146 [==============================] - 44s 303ms/step - task_name: READABILITY - loss: 0.4500 - accuracy: 0.7844 - val_loss: 1.0154 - val_accuracy: 0.6094\n"
     ]
    },
    {
     "name": "stderr",
     "output_type": "stream",
     "text": [
      "I:CUR_SPLIT:4:[sampler_mu:139]:----------------------------------------------------------------------------------------------------\n"
     ]
    },
    {
     "name": "stdout",
     "output_type": "stream",
     "text": [
      "Epoch 8/50\n",
      "146/146 [==============================] - 44s 301ms/step - task_name:     NER     - loss: 5.8632 - accuracy: 0.8345 - val_loss: 17.4239 - val_accuracy: 0.4339\n",
      "146/146 [==============================] - 44s 301ms/step - task_name: ALLU_SOURCE - loss: 0.4592 - accuracy: 0.7760 - val_loss: 0.8202 - val_accuracy: 0.6055 \n",
      "146/146 [==============================] - 44s 301ms/step - task_name: ALLU_CLASS  - loss: 0.9963 - accuracy: 0.6783 - val_loss: 2.3689 - val_accuracy: 0.3854\n",
      "146/146 [==============================] - 44s 301ms/step - task_name: READABILITY - loss: 0.3748 - accuracy: 0.8199 - val_loss: 0.9714 - val_accuracy: 0.6602\n"
     ]
    },
    {
     "name": "stderr",
     "output_type": "stream",
     "text": [
      "I:CUR_SPLIT:4:[sampler_mu:139]:----------------------------------------------------------------------------------------------------\n"
     ]
    },
    {
     "name": "stdout",
     "output_type": "stream",
     "text": [
      "Epoch 9/50\n",
      "145/146 [============================>.] - ETA: 0s - task_name: ALLU_SOURCE - loss: 0.3977 - accuracy: 0.7962\n",
      "Epoch 00009: ReduceLROnPlateau reducing learning rate to 0.0007000000332482159.\n",
      "146/146 [==============================] - 40s 273ms/step - task_name:     NER     - loss: 5.1504 - accuracy: 0.8378 - val_loss: 18.8461 - val_accuracy: 0.4644\n",
      "146/146 [==============================] - 40s 273ms/step - task_name: ALLU_SOURCE - loss: 0.4760 - accuracy: 0.7964 - val_loss: 0.8345 - val_accuracy: 0.6211 \n",
      "146/146 [==============================] - 40s 273ms/step - task_name: ALLU_CLASS  - loss: 1.0458 - accuracy: 0.6551 - val_loss: 2.3781 - val_accuracy: 0.3698\n"
     ]
    },
    {
     "name": "stderr",
     "output_type": "stream",
     "text": [
      "I:CUR_SPLIT:4:[sampler_mu:139]:----------------------------------------------------------------------------------------------------\n"
     ]
    },
    {
     "name": "stdout",
     "output_type": "stream",
     "text": [
      "Epoch 10/50\n",
      "143/146 [============================>.] - ETA: 0s - task_name: ALLU_SOURCE - loss: 0.3829 - accuracy: 0.8068\n",
      "Epoch 00010: ReduceLROnPlateau reducing learning rate to 0.0004900000232737511.\n",
      "146/146 [==============================] - 40s 274ms/step - task_name:     NER     - loss: 5.9118 - accuracy: 0.8195 - val_loss: 16.8494 - val_accuracy: 0.4392\n",
      "146/146 [==============================] - 40s 274ms/step - task_name: ALLU_SOURCE - loss: 0.3935 - accuracy: 0.8071 - val_loss: 0.8767 - val_accuracy: 0.6068 \n",
      "146/146 [==============================] - 40s 274ms/step - task_name: ALLU_CLASS  - loss: 1.0879 - accuracy: 0.6774 - val_loss: 2.4233 - val_accuracy: 0.3880\n"
     ]
    },
    {
     "name": "stderr",
     "output_type": "stream",
     "text": [
      "I:CUR_SPLIT:4:[sampler_mu:139]:----------------------------------------------------------------------------------------------------\n"
     ]
    },
    {
     "name": "stdout",
     "output_type": "stream",
     "text": [
      "Epoch 11/50\n",
      "146/146 [==============================] - 43s 291ms/step - task_name:     NER     - loss: 5.7189 - accuracy: 0.8436 - val_loss: 16.9021 - val_accuracy: 0.4722\n",
      "146/146 [==============================] - 43s 291ms/step - task_name: ALLU_CLASS  - loss: 0.9533 - accuracy: 0.7486 - val_loss: 2.4219 - val_accuracy: 0.3438 \n"
     ]
    },
    {
     "name": "stderr",
     "output_type": "stream",
     "text": [
      "I:CUR_SPLIT:4:[sampler_mu:139]:----------------------------------------------------------------------------------------------------\n"
     ]
    },
    {
     "name": "stdout",
     "output_type": "stream",
     "text": [
      "Epoch 12/50\n",
      "144/146 [============================>.] - ETA: 0s - task_name: ALLU_CLASS  - loss: 0.7509 - accuracy: 0.7812- ETA: 7s - task_name: ALLU_SOURCE - loss\n",
      "Epoch 00012: ReduceLROnPlateau reducing learning rate to 0.0004900000232737511.\n",
      "146/146 [==============================] - 36s 246ms/step - task_name:     NER     - loss: 5.3528 - accuracy: 0.8517 - val_loss: 16.5927 - val_accuracy: 0.4467\n",
      "146/146 [==============================] - 36s 246ms/step - task_name: ALLU_CLASS  - loss: 0.7493 - accuracy: 0.7812 - val_loss: 2.4422 - val_accuracy: 0.3411 \n"
     ]
    },
    {
     "name": "stderr",
     "output_type": "stream",
     "text": [
      "I:CUR_SPLIT:4:[sampler_mu:139]:----------------------------------------------------------------------------------------------------\n"
     ]
    },
    {
     "name": "stdout",
     "output_type": "stream",
     "text": [
      "Epoch 13/50\n",
      "146/146 [==============================] - 16s 112ms/step - task_name:     NER     - loss: 3.2594 - accuracy: 0.8534 - val_loss: 16.5075 - val_accuracy: 0.4402\n"
     ]
    },
    {
     "name": "stderr",
     "output_type": "stream",
     "text": [
      "I:CUR_SPLIT:4:[sampler_mu:139]:----------------------------------------------------------------------------------------------------\n"
     ]
    },
    {
     "name": "stdout",
     "output_type": "stream",
     "text": [
      "Epoch 14/50\n",
      "146/146 [==============================] - 11s 74ms/step - task_name:     NER     - loss: 4.2381 - accuracy: 0.8598 - val_loss: 16.3790 - val_accuracy: 0.4435\n"
     ]
    },
    {
     "name": "stderr",
     "output_type": "stream",
     "text": [
      "I:CUR_SPLIT:4:[sampler_mu:139]:----------------------------------------------------------------------------------------------------\n"
     ]
    },
    {
     "name": "stdout",
     "output_type": "stream",
     "text": [
      "Epoch 15/50\n",
      "146/146 [==============================] - 7s 47ms/step - task_name:     NER     - loss: 3.4486 - accuracy: 0.8625 - val_loss: 16.4130 - val_accuracy: 0.4649\n"
     ]
    },
    {
     "name": "stderr",
     "output_type": "stream",
     "text": [
      "I:CUR_SPLIT:4:[sampler_mu:139]:----------------------------------------------------------------------------------------------------\n"
     ]
    },
    {
     "name": "stdout",
     "output_type": "stream",
     "text": [
      "Epoch 16/50\n",
      "145/146 [============================>.] - ETA: 0s - task_name:     NER     - loss: 3.7986 - accuracy: 0.8606\n",
      "Epoch 00016: ReduceLROnPlateau reducing learning rate to 0.00034300000406801696.\n",
      "146/146 [==============================] - 30s 208ms/step - task_name:     NER     - loss: 5.1251 - accuracy: 0.8606 - val_loss: 16.1287 - val_accuracy: 0.4488\n"
     ]
    },
    {
     "name": "stderr",
     "output_type": "stream",
     "text": [
      "I:CUR_SPLIT:4:[sampler_mu:139]:----------------------------------------------------------------------------------------------------\n"
     ]
    },
    {
     "name": "stdout",
     "output_type": "stream",
     "text": [
      "Epoch 17/50\n",
      "146/146 [==============================] - 34s 234ms/step - task_name:     NER     - loss: 4.2338 - accuracy: 0.8695 - val_loss: 16.0085 - val_accuracy: 0.4633\n"
     ]
    },
    {
     "name": "stderr",
     "output_type": "stream",
     "text": [
      "I:CUR_SPLIT:4:[sampler_mu:139]:----------------------------------------------------------------------------------------------------\n"
     ]
    },
    {
     "name": "stdout",
     "output_type": "stream",
     "text": [
      "Epoch 18/50\n",
      "146/146 [==============================] - 10s 70ms/step - task_name:     NER     - loss: 3.5737 - accuracy: 0.8714 - val_loss: 15.8925 - val_accuracy: 0.4817\n"
     ]
    },
    {
     "name": "stderr",
     "output_type": "stream",
     "text": [
      "I:CUR_SPLIT:4:[sampler_mu:139]:----------------------------------------------------------------------------------------------------\n"
     ]
    },
    {
     "name": "stdout",
     "output_type": "stream",
     "text": [
      "Epoch 19/50\n",
      "137/146 [===========================>..] - ETA: 0s - task_name:     NER     - loss: 3.6235 - accuracy: 0.8747\n",
      "Epoch 00019: ReduceLROnPlateau reducing learning rate to 0.00024009999469853935.\n",
      "146/146 [==============================] - 12s 80ms/step - task_name:     NER     - loss: 4.0977 - accuracy: 0.8747 - val_loss: 15.8259 - val_accuracy: 0.4714\n"
     ]
    },
    {
     "name": "stderr",
     "output_type": "stream",
     "text": [
      "I:CUR_SPLIT:4:[sampler_mu:139]:----------------------------------------------------------------------------------------------------\n"
     ]
    },
    {
     "name": "stdout",
     "output_type": "stream",
     "text": [
      "Epoch 20/50\n",
      "146/146 [==============================] - 10s 69ms/step - task_name:     NER     - loss: 4.7078 - accuracy: 0.8763 - val_loss: 15.9488 - val_accuracy: 0.4934\n"
     ]
    },
    {
     "name": "stderr",
     "output_type": "stream",
     "text": [
      "I:CUR_SPLIT:4:[sampler_mu:139]:----------------------------------------------------------------------------------------------------\n"
     ]
    },
    {
     "name": "stdout",
     "output_type": "stream",
     "text": [
      "Epoch 21/50\n",
      "146/146 [==============================] - 9s 61ms/step - task_name:     NER     - loss: 4.0596 - accuracy: 0.8811 - val_loss: 15.9023 - val_accuracy: 0.4936\n"
     ]
    },
    {
     "name": "stderr",
     "output_type": "stream",
     "text": [
      "I:CUR_SPLIT:4:[sampler_mu:139]:----------------------------------------------------------------------------------------------------\n"
     ]
    },
    {
     "name": "stdout",
     "output_type": "stream",
     "text": [
      "Epoch 22/50\n",
      "145/146 [============================>.] - ETA: 0s - task_name:     NER     - loss: 3.8289 - accuracy: 0.8791\n",
      "Epoch 00022: ReduceLROnPlateau reducing learning rate to 0.00016806999628897755.\n",
      "146/146 [==============================] - 10s 70ms/step - task_name:     NER     - loss: 3.3257 - accuracy: 0.8791 - val_loss: 15.8005 - val_accuracy: 0.7389\n"
     ]
    },
    {
     "name": "stderr",
     "output_type": "stream",
     "text": [
      "I:CUR_SPLIT:4:[sampler_mu:139]:----------------------------------------------------------------------------------------------------\n"
     ]
    },
    {
     "name": "stdout",
     "output_type": "stream",
     "text": [
      "Epoch 23/50\n",
      "146/146 [==============================] - 10s 70ms/step - task_name:     NER     - loss: 2.5934 - accuracy: 0.8844 - val_loss: 15.7965 - val_accuracy: 0.7374\n"
     ]
    },
    {
     "name": "stderr",
     "output_type": "stream",
     "text": [
      "I:CUR_SPLIT:4:[sampler_mu:139]:----------------------------------------------------------------------------------------------------\n"
     ]
    },
    {
     "name": "stdout",
     "output_type": "stream",
     "text": [
      "Epoch 24/50\n",
      "146/146 [==============================] - 7s 48ms/step - task_name:     NER     - loss: 2.8874 - accuracy: 0.8857 - val_loss: 15.8035 - val_accuracy: 0.7332\n"
     ]
    },
    {
     "name": "stderr",
     "output_type": "stream",
     "text": [
      "I:CUR_SPLIT:4:[sampler_mu:139]:----------------------------------------------------------------------------------------------------\n"
     ]
    },
    {
     "name": "stdout",
     "output_type": "stream",
     "text": [
      "Epoch 25/50\n",
      "146/146 [==============================] - 11s 75ms/step - task_name:     NER     - loss: 3.3669 - accuracy: 0.8894 - val_loss: 15.7538 - val_accuracy: 0.7349\n"
     ]
    },
    {
     "name": "stderr",
     "output_type": "stream",
     "text": [
      "I:CUR_SPLIT:4:[sampler_mu:139]:----------------------------------------------------------------------------------------------------\n"
     ]
    },
    {
     "name": "stdout",
     "output_type": "stream",
     "text": [
      "Epoch 26/50\n",
      "141/146 [===========================>..] - ETA: 0s - task_name:     NER     - loss: 3.7539 - accuracy: 0.8912\n",
      "Epoch 00026: ReduceLROnPlateau reducing learning rate to 0.00011764899536501615.\n",
      "146/146 [==============================] - 9s 59ms/step - task_name:     NER     - loss: 3.5691 - accuracy: 0.8912 - val_loss: 15.7915 - val_accuracy: 0.7295\n"
     ]
    },
    {
     "name": "stderr",
     "output_type": "stream",
     "text": [
      "I:CUR_SPLIT:4:[sampler_mu:139]:----------------------------------------------------------------------------------------------------\n"
     ]
    },
    {
     "name": "stdout",
     "output_type": "stream",
     "text": [
      "Epoch 27/50\n",
      "146/146 [==============================] - 11s 75ms/step - task_name:     NER     - loss: 3.5570 - accuracy: 0.8878 - val_loss: 15.6864 - val_accuracy: 0.7328\n"
     ]
    },
    {
     "name": "stderr",
     "output_type": "stream",
     "text": [
      "I:CUR_SPLIT:4:[sampler_mu:139]:----------------------------------------------------------------------------------------------------\n"
     ]
    },
    {
     "name": "stdout",
     "output_type": "stream",
     "text": [
      "Epoch 28/50\n",
      "146/146 [==============================] - 8s 58ms/step - task_name:     NER     - loss: 3.4878 - accuracy: 0.8928 - val_loss: 15.7080 - val_accuracy: 0.7326\n"
     ]
    },
    {
     "name": "stderr",
     "output_type": "stream",
     "text": [
      "I:CUR_SPLIT:4:[sampler_mu:139]:----------------------------------------------------------------------------------------------------\n"
     ]
    },
    {
     "name": "stdout",
     "output_type": "stream",
     "text": [
      "Epoch 29/50\n",
      "140/146 [===========================>..] - ETA: 0s - task_name:     NER     - loss: 3.6119 - accuracy: 0.8944\n",
      "Epoch 00029: ReduceLROnPlateau reducing learning rate to 8.235429777414538e-05.\n",
      "146/146 [==============================] - 11s 76ms/step - task_name:     NER     - loss: 3.5865 - accuracy: 0.8944 - val_loss: 15.6560 - val_accuracy: 0.7335\n"
     ]
    },
    {
     "name": "stderr",
     "output_type": "stream",
     "text": [
      "I:CUR_SPLIT:4:[sampler_mu:139]:----------------------------------------------------------------------------------------------------\n"
     ]
    },
    {
     "name": "stdout",
     "output_type": "stream",
     "text": [
      "Epoch 30/50\n",
      "146/146 [==============================] - 10s 68ms/step - task_name:     NER     - loss: 3.0152 - accuracy: 0.8942 - val_loss: 15.6262 - val_accuracy: 0.7341\n"
     ]
    },
    {
     "name": "stderr",
     "output_type": "stream",
     "text": [
      "I:CUR_SPLIT:4:[sampler_mu:139]:----------------------------------------------------------------------------------------------------\n"
     ]
    },
    {
     "name": "stdout",
     "output_type": "stream",
     "text": [
      "Epoch 31/50\n",
      "146/146 [==============================] - 12s 80ms/step - task_name:     NER     - loss: 3.7205 - accuracy: 0.8966 - val_loss: 15.5968 - val_accuracy: 0.7355\n"
     ]
    },
    {
     "name": "stderr",
     "output_type": "stream",
     "text": [
      "I:CUR_SPLIT:4:[sampler_mu:139]:----------------------------------------------------------------------------------------------------\n"
     ]
    },
    {
     "name": "stdout",
     "output_type": "stream",
     "text": [
      "Epoch 32/50\n",
      "139/146 [===========================>..] - ETA: 0s - task_name:     NER     - loss: 3.1986 - accuracy: 0.8978\n",
      "Epoch 00032: ReduceLROnPlateau reducing learning rate to 5.76480058953166e-05.\n",
      "146/146 [==============================] - 12s 79ms/step - task_name:     NER     - loss: 3.6737 - accuracy: 0.8978 - val_loss: 15.5159 - val_accuracy: 0.7356\n"
     ]
    },
    {
     "name": "stderr",
     "output_type": "stream",
     "text": [
      "I:CUR_SPLIT:4:[sampler_mu:139]:----------------------------------------------------------------------------------------------------\n"
     ]
    },
    {
     "name": "stdout",
     "output_type": "stream",
     "text": [
      "Epoch 33/50\n",
      "146/146 [==============================] - 8s 52ms/step - task_name:     NER     - loss: 2.9447 - accuracy: 0.8963 - val_loss: 15.5388 - val_accuracy: 0.7366\n"
     ]
    },
    {
     "name": "stderr",
     "output_type": "stream",
     "text": [
      "I:CUR_SPLIT:4:[sampler_mu:139]:----------------------------------------------------------------------------------------------------\n"
     ]
    },
    {
     "name": "stdout",
     "output_type": "stream",
     "text": [
      "Epoch 34/50\n",
      "146/146 [==============================] - 11s 76ms/step - task_name:     NER     - loss: 3.3458 - accuracy: 0.8956 - val_loss: 15.5050 - val_accuracy: 0.7366\n"
     ]
    },
    {
     "name": "stderr",
     "output_type": "stream",
     "text": [
      "I:CUR_SPLIT:4:[sampler_mu:139]:----------------------------------------------------------------------------------------------------\n"
     ]
    },
    {
     "name": "stdout",
     "output_type": "stream",
     "text": [
      "Epoch 35/50\n",
      "144/146 [============================>.] - ETA: 0s - task_name:     NER     - loss: 3.2212 - accuracy: 0.8981\n",
      "Epoch 00035: ReduceLROnPlateau reducing learning rate to 4.0353603617404586e-05.\n",
      "146/146 [==============================] - 11s 73ms/step - task_name:     NER     - loss: 3.2400 - accuracy: 0.8981 - val_loss: 15.5049 - val_accuracy: 0.7362\n"
     ]
    },
    {
     "name": "stderr",
     "output_type": "stream",
     "text": [
      "I:CUR_SPLIT:4:[sampler_mu:139]:----------------------------------------------------------------------------------------------------\n"
     ]
    },
    {
     "name": "stdout",
     "output_type": "stream",
     "text": [
      "Epoch 36/50\n",
      "146/146 [==============================] - 11s 73ms/step - task_name:     NER     - loss: 3.2204 - accuracy: 0.8970 - val_loss: 15.4688 - val_accuracy: 0.7374\n"
     ]
    },
    {
     "name": "stderr",
     "output_type": "stream",
     "text": [
      "I:CUR_SPLIT:4:[sampler_mu:139]:----------------------------------------------------------------------------------------------------\n"
     ]
    },
    {
     "name": "stdout",
     "output_type": "stream",
     "text": [
      "Epoch 37/50\n",
      "146/146 [==============================] - 7s 50ms/step - task_name:     NER     - loss: 2.7341 - accuracy: 0.8961 - val_loss: 15.4761 - val_accuracy: 0.7360\n"
     ]
    },
    {
     "name": "stderr",
     "output_type": "stream",
     "text": [
      "I:CUR_SPLIT:4:[sampler_mu:139]:----------------------------------------------------------------------------------------------------\n"
     ]
    },
    {
     "name": "stdout",
     "output_type": "stream",
     "text": [
      "Epoch 38/50\n",
      "145/146 [============================>.] - ETA: 0s - task_name:     NER     - loss: 2.9773 - accuracy: 0.9018\n",
      "Epoch 00038: ReduceLROnPlateau reducing learning rate to 2.8247522277524694e-05.\n",
      "146/146 [==============================] - 10s 70ms/step - task_name:     NER     - loss: 2.7920 - accuracy: 0.9018 - val_loss: 15.4222 - val_accuracy: 0.7359\n"
     ]
    },
    {
     "name": "stderr",
     "output_type": "stream",
     "text": [
      "I:CUR_SPLIT:4:[sampler_mu:139]:----------------------------------------------------------------------------------------------------\n"
     ]
    },
    {
     "name": "stdout",
     "output_type": "stream",
     "text": [
      "Epoch 39/50\n",
      "146/146 [==============================] - 11s 74ms/step - task_name:     NER     - loss: 3.2885 - accuracy: 0.9013 - val_loss: 15.4134 - val_accuracy: 0.7362\n"
     ]
    },
    {
     "name": "stderr",
     "output_type": "stream",
     "text": [
      "I:CUR_SPLIT:4:[sampler_mu:139]:----------------------------------------------------------------------------------------------------\n"
     ]
    },
    {
     "name": "stdout",
     "output_type": "stream",
     "text": [
      "Epoch 40/50\n",
      "146/146 [==============================] - 8s 54ms/step - task_name:     NER     - loss: 2.9527 - accuracy: 0.9032 - val_loss: 15.4237 - val_accuracy: 0.7357\n"
     ]
    },
    {
     "name": "stderr",
     "output_type": "stream",
     "text": [
      "I:CUR_SPLIT:4:[sampler_mu:139]:----------------------------------------------------------------------------------------------------\n"
     ]
    },
    {
     "name": "stdout",
     "output_type": "stream",
     "text": [
      "Epoch 41/50\n",
      "146/146 [==============================] - 7s 47ms/step - task_name:     NER     - loss: 2.4364 - accuracy: 0.9033 - val_loss: 15.4170 - val_accuracy: 0.7357\n"
     ]
    },
    {
     "name": "stderr",
     "output_type": "stream",
     "text": [
      "I:CUR_SPLIT:4:[sampler_mu:139]:----------------------------------------------------------------------------------------------------\n"
     ]
    },
    {
     "name": "stdout",
     "output_type": "stream",
     "text": [
      "Epoch 42/50\n",
      "146/146 [==============================] - 11s 74ms/step - task_name:     NER     - loss: 3.0738 - accuracy: 0.8992 - val_loss: 15.4070 - val_accuracy: 0.7357\n"
     ]
    },
    {
     "name": "stderr",
     "output_type": "stream",
     "text": [
      "I:CUR_SPLIT:4:[sampler_mu:139]:----------------------------------------------------------------------------------------------------\n"
     ]
    },
    {
     "name": "stdout",
     "output_type": "stream",
     "text": [
      "Epoch 43/50\n",
      "146/146 [==============================] - 11s 76ms/step - task_name:     NER     - loss: 3.1499 - accuracy: 0.9014 - val_loss: 15.3798 - val_accuracy: 0.7366\n"
     ]
    },
    {
     "name": "stderr",
     "output_type": "stream",
     "text": [
      "I:CUR_SPLIT:4:[sampler_mu:139]:----------------------------------------------------------------------------------------------------\n"
     ]
    },
    {
     "name": "stdout",
     "output_type": "stream",
     "text": [
      "Epoch 44/50\n",
      "137/146 [===========================>..] - ETA: 0s - task_name:     NER     - loss: 2.8849 - accuracy: 0.9011\n",
      "Epoch 00044: ReduceLROnPlateau reducing learning rate to 1.977326610358432e-05.\n",
      "146/146 [==============================] - 8s 54ms/step - task_name:     NER     - loss: 2.8378 - accuracy: 0.9011 - val_loss: 15.4054 - val_accuracy: 0.7355\n"
     ]
    },
    {
     "name": "stderr",
     "output_type": "stream",
     "text": [
      "I:CUR_SPLIT:4:[sampler_mu:139]:----------------------------------------------------------------------------------------------------\n"
     ]
    },
    {
     "name": "stdout",
     "output_type": "stream",
     "text": [
      "Epoch 45/50\n",
      "146/146 [==============================] - 10s 66ms/step - task_name:     NER     - loss: 3.6200 - accuracy: 0.9019 - val_loss: 15.3871 - val_accuracy: 0.7364\n"
     ]
    },
    {
     "name": "stderr",
     "output_type": "stream",
     "text": [
      "I:CUR_SPLIT:4:[sampler_mu:139]:----------------------------------------------------------------------------------------------------\n"
     ]
    },
    {
     "name": "stdout",
     "output_type": "stream",
     "text": [
      "Epoch 46/50\n",
      "146/146 [==============================] - 11s 77ms/step - task_name:     NER     - loss: 3.5263 - accuracy: 0.9015 - val_loss: 15.3775 - val_accuracy: 0.7362\n"
     ]
    },
    {
     "name": "stderr",
     "output_type": "stream",
     "text": [
      "I:CUR_SPLIT:4:[sampler_mu:139]:----------------------------------------------------------------------------------------------------\n"
     ]
    },
    {
     "name": "stdout",
     "output_type": "stream",
     "text": [
      "Epoch 47/50\n",
      "145/146 [============================>.] - ETA: 0s - task_name:     NER     - loss: 2.8556 - accuracy: 0.9014\n",
      "Epoch 00047: ReduceLROnPlateau reducing learning rate to 1.3841286272509023e-05.\n",
      "146/146 [==============================] - 9s 65ms/step - task_name:     NER     - loss: 3.6157 - accuracy: 0.9020 - val_loss: 15.4024 - val_accuracy: 0.7349\n"
     ]
    },
    {
     "name": "stderr",
     "output_type": "stream",
     "text": [
      "I:CUR_SPLIT:4:[sampler_mu:139]:----------------------------------------------------------------------------------------------------\n"
     ]
    },
    {
     "name": "stdout",
     "output_type": "stream",
     "text": [
      "Epoch 48/50\n",
      "146/146 [==============================] - 10s 66ms/step - task_name:     NER     - loss: 3.5919 - accuracy: 0.9038 - val_loss: 15.3993 - val_accuracy: 0.7351\n"
     ]
    },
    {
     "name": "stderr",
     "output_type": "stream",
     "text": [
      "I:CUR_SPLIT:4:[sampler_mu:139]:----------------------------------------------------------------------------------------------------\n"
     ]
    },
    {
     "name": "stdout",
     "output_type": "stream",
     "text": [
      "Epoch 49/50\n",
      "146/146 [==============================] - 9s 63ms/step - task_name:     NER     - loss: 3.4143 - accuracy: 0.9011 - val_loss: 15.3929 - val_accuracy: 0.7353\n"
     ]
    },
    {
     "name": "stderr",
     "output_type": "stream",
     "text": [
      "I:CUR_SPLIT:4:[sampler_mu:139]:----------------------------------------------------------------------------------------------------\n"
     ]
    },
    {
     "name": "stdout",
     "output_type": "stream",
     "text": [
      "Epoch 50/50\n",
      "142/146 [============================>.] - ETA: 0s - task_name:     NER     - loss: 2.9989 - accuracy: 0.9045\n",
      "Epoch 00050: ReduceLROnPlateau reducing learning rate to 1e-05.\n",
      "146/146 [==============================] - 10s 69ms/step - task_name:     NER     - loss: 3.7897 - accuracy: 0.9045 - val_loss: 15.3954 - val_accuracy: 0.7349\n"
     ]
    },
    {
     "name": "stderr",
     "output_type": "stream",
     "text": [
      "I:CUR_SPLIT:4:[sampler_mu:139]:----------------------------------------------------------------------------------------------------\n"
     ]
    },
    {
     "name": "stdout",
     "output_type": "stream",
     "text": [
      "\n",
      "----------------------------------NER LABEL METRICS -----------------------------------\n",
      "\n",
      "epoch:labeling EPOCH accuracy 0.819510 precision: 0.292089, recall: 0.240000, f1: 0.263495\n",
      "\n",
      "           precision    recall  f1-score   support\n",
      "\n",
      "     ALLU     0.3547    0.2400    0.2863       600\n",
      "\n",
      "micro avg     0.2921    0.2400    0.2635       600\n",
      "macro avg     0.3547    0.2400    0.2863       600\n",
      "\n",
      "----------------------------------NER END ----------------------------------\n",
      "train_example:**************************************************\n",
      "x_seq:宦 情 哂 鸡 口 , 世 路 倦 羊 肠 。\n",
      "y_pred:O O O B-ALLU I-ALLU O O O O B-ALLU I-ALLU O\n",
      "y_true:O O O B-ALLU I-ALLU O O O O O O O\n",
      "----------\n",
      "x_seq:兔 应 疑 鹤 发 , 蟾 亦 恋 貂 裘 。\n",
      "y_pred:B-ALLU O O O O O O O O O O O\n",
      "y_true:B-ALLU I-ALLU I-ALLU I-ALLU I-ALLU I-ALLU I-ALLU O O O O O\n",
      "----------\n",
      "x_seq:五 马 浮 渡 江 , 一 龙 跃 天 津 。\n",
      "y_pred:B-ALLU I-ALLU O O O O O O O O O O\n",
      "y_true:B-ALLU I-ALLU I-ALLU I-ALLU I-ALLU O O O O O O O\n",
      "----------\n",
      "x_seq:谢 安 春 渚 饯 袁 宏 , 千 里 仁 风 一 扇 清 。\n",
      "y_pred:O O O O O O O O O O B-ALLU I-ALLU O O O O\n",
      "y_true:O O O O O O O O O O B-ALLU I-ALLU O O O O\n",
      "----------\n",
      "x_seq:相 如 已 定 题 桥 去 , 江 上 无 由 梦 钓 台 。\n",
      "y_pred:O O O O B-ALLU I-ALLU O O O O O O O O O O\n",
      "y_true:O O O O B-ALLU I-ALLU O O O O O O O O O O\n",
      "----------\n",
      "x_seq:常 时 载 笔 窥 金 匮 , 暇 日 登 楼 到 石 渠 。\n",
      "y_pred:O O O O O O O O O O O O O B-ALLU I-ALLU O\n",
      "y_true:O O O O O O O O O O O O O B-ALLU I-ALLU O\n",
      "----------\n",
      "x_seq:妾 有 秦 家 镜 , 宝 匣 装 珠 玑 。 鉴 来 年 二 八 , 不 记 易 阴 晖 。 妾 无 光 寂 寂\n",
      "y_pred:O O B-ALLU I-ALLU I-ALLU O O O O O O O O O O O O O O O O O O O O O O O O\n",
      "y_true:O O B-ALLU I-ALLU I-ALLU O O O O O O O O O O O O O O O O O O O O O O O O\n",
      "----------\n",
      "x_seq:佐 军 髯 尚 短 , 掷 地 思 还 新 。\n",
      "y_pred:O O O O O O B-ALLU I-ALLU O O O O\n",
      "y_true:O O O O O O B-ALLU I-ALLU O O O O\n",
      "----------\n",
      "x_seq:虽 无 二 十 五 老 者 , 且 有 一 翁 钱 少 阳 。\n",
      "y_pred:O O B-ALLU I-ALLU I-ALLU O O O O O O O O O O O\n",
      "y_true:O O B-ALLU I-ALLU I-ALLU I-ALLU O O O O O O O O O O\n",
      "----------\n",
      "x_seq:尝 叹 晋 郊 无 乞 [UNK] , 岂 忘 吴 俗 共 分 忧 。\n",
      "y_pred:O O O O O O [PAD] O O O O O O O O O\n",
      "y_true:O O O O O O O O O O B-ALLU I-ALLU I-ALLU I-ALLU I-ALLU O\n",
      "----------\n",
      "END:**************************************************\n",
      "test_example:**************************************************\n",
      "x_seq:肉 食 谋 何 失 , 藜 藿 缅 纵 横 。\n",
      "y_pred:O O O O O O O O O O O O\n",
      "y_true:B-ALLU I-ALLU O O O O O O O O O O\n",
      "----------\n",
      "x_seq:自 知 毛 骨 还 应 异 , 更 请 孙 阳 仔 细 看 。\n",
      "y_pred:O O O O O O O O O O B-ALLU I-ALLU O O O O\n",
      "y_true:O O O O O O O O O O B-ALLU I-ALLU O O O O\n",
      "----------\n",
      "x_seq:风 卷 蓬 根 屯 戊 己 , 月 移 松 影 守 庚 申 。\n",
      "y_pred:O O O O O O O O O O O O O O O O\n",
      "y_true:O O O O B-ALLU I-ALLU O O O O O O O O O O\n",
      "----------\n",
      "x_seq:庞 公 竟 独 往 , 尚 子 终 罕 遇 。\n",
      "y_pred:B-ALLU I-ALLU O O O O B-ALLU I-ALLU O O O O\n",
      "y_true:O O O O O O B-ALLU O O O O O\n",
      "----------\n",
      "x_seq:杨 仆 移 关 三 百 里 , 可 能 全 是 为 荆 山 。\n",
      "y_pred:O O O O O O O O O O O O O B-ALLU I-ALLU O\n",
      "y_true:B-ALLU I-ALLU I-ALLU I-ALLU O O O O O O O O O O O O\n",
      "----------\n",
      "x_seq:记 取 丹 山 凤 , 公 为 百 鸟 尊 。\n",
      "y_pred:O O O O O O O O O O O O\n",
      "y_true:O O B-ALLU I-ALLU I-ALLU O O O O O O O\n",
      "----------\n",
      "x_seq:河 梁 暮 相 遇 , 草 草 不 复 言 。\n",
      "y_pred:B-ALLU I-ALLU O O O O O O O O O O\n",
      "y_true:B-ALLU I-ALLU O O O O O O O O O O\n",
      "----------\n",
      "x_seq:运 筹 知 决 胜 , 聚 米 似 论 边 。\n",
      "y_pred:O O O O O O O O O O O O\n",
      "y_true:O O O O O O B-ALLU I-ALLU O O O O\n",
      "----------\n",
      "x_seq:云 衢 有 志 终 骧 首 , 吏 道 无 媒 且 折 腰 。\n",
      "y_pred:O O O O O O O O O O O O O O O O\n",
      "y_true:O O O O O O O O O O O O O B-ALLU I-ALLU O\n",
      "----------\n",
      "x_seq:宣 父 犹 能 畏 后 生 , 丈 夫 未 可 轻 年 少 。\n",
      "y_pred:O O O O O O O O O O O O O O O O\n",
      "y_true:O O O O B-ALLU I-ALLU I-ALLU O O O O O O O O O\n",
      "----------\n",
      "END:**************************************************\n",
      "example:**************************************************\n",
      "x_seq:梁 王 兔 苑 荆 榛 里 , 炀 帝 鸡 台 梦 想 中 。 [UNK] [PAD] [PAD] [PAD] [PAD] [PAD] [PAD] [PAD] [PAD] [PAD] [PAD] [PAD] [PAD]\n",
      "x_ALLU:于 是 孝 王 筑 东 苑 , 方 三 百 余 里 , 广 睢 阳 城 七 十 里 。 大 治 宫 室 , 为 复\n",
      "y_pred:[0.28851414]\n",
      "y_true:1\n",
      "----------\n",
      "x_seq:梁 王 兔 苑 荆 榛 里 , 炀 帝 鸡 台 梦 想 中 。 [UNK] [PAD] [PAD] [PAD] [PAD] [PAD] [PAD] [PAD] [PAD] [PAD] [PAD] [PAD] [PAD]\n",
      "x_ALLU:尧 以 天 下 让 舜 , 为 诸 侯 , 怒 于 尧 曰 : [UNK] [UNK] [UNK] 今 我 得 地 之 道 , 而 不 以\n",
      "y_pred:[0.26644343]\n",
      "y_true:0\n",
      "----------\n",
      "x_seq:梁 王 兔 苑 荆 榛 里 , 炀 帝 鸡 台 梦 想 中 。 [UNK] [PAD] [PAD] [PAD] [PAD] [PAD] [PAD] [PAD] [PAD] [PAD] [PAD] [PAD] [PAD]\n",
      "x_ALLU:钟 山 在 都 北 。 其 先 , 周 彦 伦 隐 于 此 山 , 后 应 诏 出 为 海 盐 令 , 欲 却 过\n",
      "y_pred:[0.49745342]\n",
      "y_true:0\n",
      "----------\n",
      "x_seq:梁 王 兔 苑 荆 榛 里 , 炀 帝 鸡 台 梦 想 中 。 [UNK] [PAD] [PAD] [PAD] [PAD] [PAD] [PAD] [PAD] [PAD] [PAD] [PAD] [PAD] [PAD]\n",
      "x_ALLU:家 事 大 小 , 一 切 勿 关 [UNK] [PAD] [PAD] [PAD] [PAD] [PAD] [PAD] [PAD] [PAD] [PAD] [PAD] [PAD] [PAD] [PAD] [PAD] [PAD] [PAD] [PAD] [PAD] [PAD]\n",
      "y_pred:[0.49590084]\n",
      "y_true:0\n",
      "----------\n",
      "x_seq:梁 王 兔 苑 荆 榛 里 , 炀 帝 鸡 台 梦 想 中 。 [UNK] [PAD] [PAD] [PAD] [PAD] [PAD] [PAD] [PAD] [PAD] [PAD] [PAD] [PAD] [PAD]\n",
      "x_ALLU:( 庄 子 ) 出 于 山 , 舍 于 故 人 之 家 。 故 人 喜 , 命 竖 子 杀 雁 而 烹 之 。 竖\n",
      "y_pred:[0.25228602]\n",
      "y_true:0\n",
      "----------\n",
      "x_seq:梁 王 兔 苑 荆 榛 里 , 炀 帝 鸡 台 梦 想 中 。 [UNK] [PAD] [PAD] [PAD] [PAD] [PAD] [PAD] [PAD] [PAD] [PAD] [PAD] [PAD] [PAD]\n",
      "x_ALLU:枢 字 践 言 , 美 容 仪 , 性 沉 静 , 好 学 , 手 不 释 卷 。 [UNK] [UNK] 废 帝 即 位 , 迁\n",
      "y_pred:[0.39666352]\n",
      "y_true:0\n",
      "----------\n",
      "x_seq:梁 王 兔 苑 荆 榛 里 , 炀 帝 鸡 台 梦 想 中 。 [UNK] [PAD] [PAD] [PAD] [PAD] [PAD] [PAD] [PAD] [PAD] [PAD] [PAD] [PAD] [PAD]\n",
      "x_ALLU:南 冥 者 , 天 池 也 。 [UNK] [UNK] 《 谐 》 之 言 曰 : [UNK] 鹏 之 徙 于 南 冥 也 , 水 击 三\n",
      "y_pred:[0.31006107]\n",
      "y_true:0\n",
      "----------\n",
      "x_seq:梁 王 兔 苑 荆 榛 里 , 炀 帝 鸡 台 梦 想 中 。 [UNK] [PAD] [PAD] [PAD] [PAD] [PAD] [PAD] [PAD] [PAD] [PAD] [PAD] [PAD] [PAD]\n",
      "x_ALLU:沛 公 拜 良 为 厩 将 。 良 数 以 《 太 公 兵 法 》 说 沛 公 [UNK] [UNK] 张 良 多 病 , 未 尝\n",
      "y_pred:[0.54434097]\n",
      "y_true:0\n",
      "----------\n",
      "x_seq:梁 王 兔 苑 荆 榛 里 , 炀 帝 鸡 台 梦 想 中 。 [UNK] [PAD] [PAD] [PAD] [PAD] [PAD] [PAD] [PAD] [PAD] [PAD] [PAD] [PAD] [PAD]\n",
      "x_ALLU:陆 通 者 , 云 楚 狂 接 舆 也 , 好 养 生 , 食 橐 卢 木 实 及 芜 菁 子 , 游 诸 名 山\n",
      "y_pred:[0.6977383]\n",
      "y_true:0\n",
      "----------\n",
      "x_seq:梁 王 兔 苑 荆 榛 里 , 炀 帝 鸡 台 梦 想 中 。 [UNK] [PAD] [PAD] [PAD] [PAD] [PAD] [PAD] [PAD] [PAD] [PAD] [PAD] [PAD] [PAD]\n",
      "x_ALLU:房 自 请 , 愿 无 属 刺 史 , 得 除 用 它 郡 人 , 自 第 吏 千 石 已 下 , 岁 竟 乘 传\n",
      "y_pred:[0.75448996]\n",
      "y_true:0\n",
      "----------\n",
      "x_seq:凭 谁 借 问 岩 前 叟 , 曾 托 吾 皇 一 梦 来 。 [UNK] [PAD] [PAD] [PAD] [PAD] [PAD] [PAD] [PAD] [PAD] [PAD] [PAD] [PAD] [PAD]\n",
      "x_ALLU:傅 说 筑 傅 岩 , 武 丁 举 以 为 相 。 [UNK] [PAD] [PAD] [PAD] [PAD] [PAD] [PAD] [PAD] [PAD] [PAD] [PAD] [PAD] [PAD] [PAD] [PAD] [PAD]\n",
      "y_pred:[0.41562212]\n",
      "y_true:1\n",
      "----------\n",
      "x_seq:凭 谁 借 问 岩 前 叟 , 曾 托 吾 皇 一 梦 来 。 [UNK] [PAD] [PAD] [PAD] [PAD] [PAD] [PAD] [PAD] [PAD] [PAD] [PAD] [PAD] [PAD]\n",
      "x_ALLU:试 望 平 原 , 蔓 草 萦 骨 , 拱 木 敛 魂 。 人 生 到 此 , 天 道 宁 论 ; 于 是 仆 本\n",
      "y_pred:[0.34069735]\n",
      "y_true:0\n",
      "----------\n",
      "x_seq:凭 谁 借 问 岩 前 叟 , 曾 托 吾 皇 一 梦 来 。 [UNK] [PAD] [PAD] [PAD] [PAD] [PAD] [PAD] [PAD] [PAD] [PAD] [PAD] [PAD] [PAD]\n",
      "x_ALLU:在 河 东 。 [UNK] [PAD] [PAD] [PAD] [PAD] [PAD] [PAD] [PAD] [PAD] [PAD] [PAD] [PAD] [PAD] [PAD] [PAD] [PAD] [PAD] [PAD] [PAD] [PAD] [PAD] [PAD] [PAD] [PAD] [PAD]\n",
      "y_pred:[0.5173564]\n",
      "y_true:0\n",
      "----------\n",
      "x_seq:凭 谁 借 问 岩 前 叟 , 曾 托 吾 皇 一 梦 来 。 [UNK] [PAD] [PAD] [PAD] [PAD] [PAD] [PAD] [PAD] [PAD] [PAD] [PAD] [PAD] [PAD]\n",
      "x_ALLU:客 有 歌 于 郢 中 者 , 其 始 曰 《 下 里 》 《 巴 人 》 , 国 中 属 而 和 者 数 千 人\n",
      "y_pred:[0.7746337]\n",
      "y_true:0\n",
      "----------\n",
      "x_seq:凭 谁 借 问 岩 前 叟 , 曾 托 吾 皇 一 梦 来 。 [UNK] [PAD] [PAD] [PAD] [PAD] [PAD] [PAD] [PAD] [PAD] [PAD] [PAD] [PAD] [PAD]\n",
      "x_ALLU:兰 陵 武 王 长 恭 , 一 名 孝 [UNK] , 文 襄 第 四 子 也 。 [UNK] [UNK] 为 将 躬 勤 细 事 , 每\n",
      "y_pred:[0.24777988]\n",
      "y_true:0\n",
      "----------\n",
      "x_seq:凭 谁 借 问 岩 前 叟 , 曾 托 吾 皇 一 梦 来 。 [UNK] [PAD] [PAD] [PAD] [PAD] [PAD] [PAD] [PAD] [PAD] [PAD] [PAD] [PAD] [PAD]\n",
      "x_ALLU:颜 阖 将 傅 卫 灵 公 太 子 , 而 问 于 [UNK] 伯 玉 [UNK] [UNK] 。 [UNK] 伯 玉 曰 : [UNK] [UNK] [UNK] 汝 不\n",
      "y_pred:[0.36804926]\n",
      "y_true:0\n",
      "----------\n",
      "x_seq:凭 谁 借 问 岩 前 叟 , 曾 托 吾 皇 一 梦 来 。 [UNK] [PAD] [PAD] [PAD] [PAD] [PAD] [PAD] [PAD] [PAD] [PAD] [PAD] [PAD] [PAD]\n",
      "x_ALLU:山 涛 , 字 巨 源 , 河 内 怀 人 也 。 与 宣 穆 后 有 中 表 亲 , [UNK] [UNK] 拜 赵 国 相 ,\n",
      "y_pred:[0.377108]\n",
      "y_true:0\n",
      "----------\n",
      "x_seq:凭 谁 借 问 岩 前 叟 , 曾 托 吾 皇 一 梦 来 。 [UNK] [PAD] [PAD] [PAD] [PAD] [PAD] [PAD] [PAD] [PAD] [PAD] [PAD] [PAD] [PAD]\n",
      "x_ALLU:[UNK] , 定 也 , 天 不 言 而 默 定 下 民 。 [UNK] [PAD] [PAD] [PAD] [PAD] [PAD] [PAD] [PAD] [PAD] [PAD] [PAD] [PAD] [PAD] [PAD] [PAD]\n",
      "y_pred:[0.06528825]\n",
      "y_true:0\n",
      "----------\n",
      "x_seq:凭 谁 借 问 岩 前 叟 , 曾 托 吾 皇 一 梦 来 。 [UNK] [PAD] [PAD] [PAD] [PAD] [PAD] [PAD] [PAD] [PAD] [PAD] [PAD] [PAD] [PAD]\n",
      "x_ALLU:或 称 伊 、 霍 之 勋 , 无 谢 于 往 载 ; 或 谓 良 、 平 之 画 , 复 兴 于 当 今 。 [UNK]\n",
      "y_pred:[0.38787127]\n",
      "y_true:0\n",
      "----------\n",
      "x_seq:凭 谁 借 问 岩 前 叟 , 曾 托 吾 皇 一 梦 来 。 [UNK] [PAD] [PAD] [PAD] [PAD] [PAD] [PAD] [PAD] [PAD] [PAD] [PAD] [PAD] [PAD]\n",
      "x_ALLU:衡 门 , 横 木 为 门 , 言 浅 陋 也 。 栖 迟 , 游 息 也 。 [UNK] [PAD] [PAD] [PAD] [PAD] [PAD] [PAD] [PAD] [PAD]\n",
      "y_pred:[0.32653922]\n",
      "y_true:0\n",
      "----------\n",
      "x_seq:傅 岩 来 筑 处 , [UNK] 溪 入 钓 前 。 [UNK] [PAD] [PAD] [PAD] [PAD] [PAD] [PAD] [PAD] [PAD] [PAD] [PAD] [PAD] [PAD] [PAD] [PAD] [PAD] [PAD]\n",
      "x_ALLU:吕 尚 姓 姜 氏 [UNK] [UNK] 年 老 矣 , 以 渔 钓 奸 周 西 伯 。 西 伯 将 猎 , 卜 之 , 曰 :\n",
      "y_pred:[0.5808277]\n",
      "y_true:1\n",
      "----------\n",
      "x_seq:傅 岩 来 筑 处 , [UNK] 溪 入 钓 前 。 [UNK] [PAD] [PAD] [PAD] [PAD] [PAD] [PAD] [PAD] [PAD] [PAD] [PAD] [PAD] [PAD] [PAD] [PAD] [PAD] [PAD]\n",
      "x_ALLU:盖 有 南 威 之 容 , 乃 可 以 论 其 淑 媛 ; 有 龙 泉 之 利 , 乃 可 以 议 其 断 割 。\n",
      "y_pred:[0.33618316]\n",
      "y_true:0\n",
      "----------\n",
      "x_seq:傅 岩 来 筑 处 , [UNK] 溪 入 钓 前 。 [UNK] [PAD] [PAD] [PAD] [PAD] [PAD] [PAD] [PAD] [PAD] [PAD] [PAD] [PAD] [PAD] [PAD] [PAD] [PAD] [PAD]\n",
      "x_ALLU:乐 土 , 有 德 之 国 。 [UNK] [PAD] [PAD] [PAD] [PAD] [PAD] [PAD] [PAD] [PAD] [PAD] [PAD] [PAD] [PAD] [PAD] [PAD] [PAD] [PAD] [PAD] [PAD] [PAD] [PAD]\n",
      "y_pred:[0.18080857]\n",
      "y_true:0\n",
      "----------\n",
      "x_seq:傅 岩 来 筑 处 , [UNK] 溪 入 钓 前 。 [UNK] [PAD] [PAD] [PAD] [PAD] [PAD] [PAD] [PAD] [PAD] [PAD] [PAD] [PAD] [PAD] [PAD] [PAD] [PAD] [PAD]\n",
      "x_ALLU:( 建 武 ) 七 年 , 代 朱 浮 为 执 金 吾 。 明 年 , 从 车 驾 击 [UNK] 嚣 , 而 颍 川 盗\n",
      "y_pred:[0.48913485]\n",
      "y_true:0\n",
      "----------\n",
      "x_seq:傅 岩 来 筑 处 , [UNK] 溪 入 钓 前 。 [UNK] [PAD] [PAD] [PAD] [PAD] [PAD] [PAD] [PAD] [PAD] [PAD] [PAD] [PAD] [PAD] [PAD] [PAD] [PAD] [PAD]\n",
      "x_ALLU:鱼 不 可 脱 于 渊 , 国 之 利 器 , 不 可 以 示 人 。 [UNK] [PAD] [PAD] [PAD] [PAD] [PAD] [PAD] [PAD] [PAD] [PAD] [PAD]\n",
      "y_pred:[0.17552081]\n",
      "y_true:0\n",
      "----------\n",
      "x_seq:傅 岩 来 筑 处 , [UNK] 溪 入 钓 前 。 [UNK] [PAD] [PAD] [PAD] [PAD] [PAD] [PAD] [PAD] [PAD] [PAD] [PAD] [PAD] [PAD] [PAD] [PAD] [PAD] [PAD]\n",
      "x_ALLU:初 九 , 不 远 复 , 无 祗 悔 , 元 吉 。 [UNK] [PAD] [PAD] [PAD] [PAD] [PAD] [PAD] [PAD] [PAD] [PAD] [PAD] [PAD] [PAD] [PAD] [PAD]\n",
      "y_pred:[0.3508473]\n",
      "y_true:0\n",
      "----------\n",
      "x_seq:傅 岩 来 筑 处 , [UNK] 溪 入 钓 前 。 [UNK] [PAD] [PAD] [PAD] [PAD] [PAD] [PAD] [PAD] [PAD] [PAD] [PAD] [PAD] [PAD] [PAD] [PAD] [PAD] [PAD]\n",
      "x_ALLU:尚 书 郎 奏 事 明 光 殿 , 省 中 皆 胡 粉 涂 壁 。 [UNK] [PAD] [PAD] [PAD] [PAD] [PAD] [PAD] [PAD] [PAD] [PAD] [PAD] [PAD]\n",
      "y_pred:[0.2537198]\n",
      "y_true:0\n",
      "----------\n",
      "x_seq:傅 岩 来 筑 处 , [UNK] 溪 入 钓 前 。 [UNK] [PAD] [PAD] [PAD] [PAD] [PAD] [PAD] [PAD] [PAD] [PAD] [PAD] [PAD] [PAD] [PAD] [PAD] [PAD] [PAD]\n",
      "x_ALLU:刘 伶 病 酒 , 渴 甚 , 从 妇 求 酒 。 妇 捐 酒 毁 器 , 涕 泣 谏 曰 : [UNK] 君 饮 太 过\n",
      "y_pred:[0.7482695]\n",
      "y_true:0\n",
      "----------\n",
      "x_seq:傅 岩 来 筑 处 , [UNK] 溪 入 钓 前 。 [UNK] [PAD] [PAD] [PAD] [PAD] [PAD] [PAD] [PAD] [PAD] [PAD] [PAD] [PAD] [PAD] [PAD] [PAD] [PAD] [PAD]\n",
      "x_ALLU:永 平 二 年 , 明 帝 诏 曰 : [UNK] [UNK] 尊 事 三 老 , 兄 事 五 更 , 安 车 软 轮 , 供 绥\n",
      "y_pred:[0.08265474]\n",
      "y_true:0\n",
      "----------\n",
      "x_seq:傅 岩 来 筑 处 , [UNK] 溪 入 钓 前 。 [UNK] [PAD] [PAD] [PAD] [PAD] [PAD] [PAD] [PAD] [PAD] [PAD] [PAD] [PAD] [PAD] [PAD] [PAD] [PAD] [PAD]\n",
      "x_ALLU:[UNK] 人 掌 守 王 宫 之 中 门 之 禁 。 [UNK] [PAD] [PAD] [PAD] [PAD] [PAD] [PAD] [PAD] [PAD] [PAD] [PAD] [PAD] [PAD] [PAD] [PAD] [PAD] [PAD]\n",
      "y_pred:[0.3899066]\n",
      "y_true:0\n",
      "----------\n",
      "x_seq:谁 把 碧 梧 枝 , 刻 作 云 门 乐 。 [UNK] [PAD] [PAD] [PAD] [PAD] [PAD] [PAD] [PAD] [PAD] [PAD] [PAD] [PAD] [PAD] [PAD] [PAD] [PAD] [PAD]\n",
      "x_ALLU:乃 奏 黄 钟 , 歌 大 吕 , 舞 云 门 , 以 祀 天 神 。 [UNK] [PAD] [PAD] [PAD] [PAD] [PAD] [PAD] [PAD] [PAD] [PAD] [PAD]\n",
      "y_pred:[0.13537633]\n",
      "y_true:1\n",
      "----------\n",
      "x_seq:谁 把 碧 梧 枝 , 刻 作 云 门 乐 。 [UNK] [PAD] [PAD] [PAD] [PAD] [PAD] [PAD] [PAD] [PAD] [PAD] [PAD] [PAD] [PAD] [PAD] [PAD] [PAD] [PAD]\n",
      "x_ALLU:梁 鸿 字 伯 鸾 , 同 县 有 孟 氏 女 , 三 十 不 嫁 , 曰 : 欲 得 贤 如 梁 伯 鸾 者 。\n",
      "y_pred:[0.37997833]\n",
      "y_true:0\n",
      "----------\n",
      "x_seq:谁 把 碧 梧 枝 , 刻 作 云 门 乐 。 [UNK] [PAD] [PAD] [PAD] [PAD] [PAD] [PAD] [PAD] [PAD] [PAD] [PAD] [PAD] [PAD] [PAD] [PAD] [PAD] [PAD]\n",
      "x_ALLU:紫 殿 肃 阴 阴 , 彤 庭 赫 弘 敞 。 风 动 万 年 枝 , 日 华 承 露 掌 。 [UNK] [PAD] [PAD] [PAD] [PAD]\n",
      "y_pred:[0.21195045]\n",
      "y_true:0\n",
      "----------\n",
      "x_seq:谁 把 碧 梧 枝 , 刻 作 云 门 乐 。 [UNK] [PAD] [PAD] [PAD] [PAD] [PAD] [PAD] [PAD] [PAD] [PAD] [PAD] [PAD] [PAD] [PAD] [PAD] [PAD] [PAD]\n",
      "x_ALLU:吴 王 [UNK] [UNK] 乃 使 使 赐 伍 子 胥 属 镂 之 剑 , 曰 : [UNK] 子 以 此 死 。 [UNK] 伍 子 胥 [UNK]\n",
      "y_pred:[0.24265248]\n",
      "y_true:0\n",
      "----------\n",
      "x_seq:谁 把 碧 梧 枝 , 刻 作 云 门 乐 。 [UNK] [PAD] [PAD] [PAD] [PAD] [PAD] [PAD] [PAD] [PAD] [PAD] [PAD] [PAD] [PAD] [PAD] [PAD] [PAD] [PAD]\n",
      "x_ALLU:[UNK] 字 宗 子 , 江 夏 钟 武 人 。 [UNK] [UNK] [UNK] 好 学 , 善 草 隶 , 与 兄 式 齐 名 。 [UNK] 疾\n",
      "y_pred:[0.34863806]\n",
      "y_true:0\n",
      "----------\n",
      "x_seq:谁 把 碧 梧 枝 , 刻 作 云 门 乐 。 [UNK] [PAD] [PAD] [PAD] [PAD] [PAD] [PAD] [PAD] [PAD] [PAD] [PAD] [PAD] [PAD] [PAD] [PAD] [PAD] [PAD]\n",
      "x_ALLU:建 宁 元 年 , 太 傅 陈 蕃 、 大 将 军 窦 武 为 阉 人 所 害 , 林 宗 哭 之 于 野 。 [UNK]\n",
      "y_pred:[0.3443454]\n",
      "y_true:0\n",
      "----------\n",
      "x_seq:谁 把 碧 梧 枝 , 刻 作 云 门 乐 。 [UNK] [PAD] [PAD] [PAD] [PAD] [PAD] [PAD] [PAD] [PAD] [PAD] [PAD] [PAD] [PAD] [PAD] [PAD] [PAD] [PAD]\n",
      "x_ALLU:薄 戎 [UNK] , 至 于 太 原 。 [UNK] [PAD] [PAD] [PAD] [PAD] [PAD] [PAD] [PAD] [PAD] [PAD] [PAD] [PAD] [PAD] [PAD] [PAD] [PAD] [PAD] [PAD] [PAD] [PAD]\n",
      "y_pred:[0.12610865]\n",
      "y_true:0\n",
      "----------\n",
      "x_seq:谁 把 碧 梧 枝 , 刻 作 云 门 乐 。 [UNK] [PAD] [PAD] [PAD] [PAD] [PAD] [PAD] [PAD] [PAD] [PAD] [PAD] [PAD] [PAD] [PAD] [PAD] [PAD] [PAD]\n",
      "x_ALLU:王 濛 字 仲 祖 , 哀 靖 皇 后 父 也 。 [UNK] [UNK] 濛 少 时 放 纵 不 羁 , 不 为 乡 曲 所 齿\n",
      "y_pred:[0.5060172]\n",
      "y_true:0\n",
      "----------\n",
      "x_seq:谁 把 碧 梧 枝 , 刻 作 云 门 乐 。 [UNK] [PAD] [PAD] [PAD] [PAD] [PAD] [PAD] [PAD] [PAD] [PAD] [PAD] [PAD] [PAD] [PAD] [PAD] [PAD] [PAD]\n",
      "x_ALLU:上 复 兴 神 仙 方 术 之 事 , 而 淮 南 有 《 枕 中 鸿 宝 》 、 《 苑 秘 书 》 。 书 言\n",
      "y_pred:[0.3440053]\n",
      "y_true:0\n",
      "----------\n",
      "x_seq:谁 把 碧 梧 枝 , 刻 作 云 门 乐 。 [UNK] [PAD] [PAD] [PAD] [PAD] [PAD] [PAD] [PAD] [PAD] [PAD] [PAD] [PAD] [PAD] [PAD] [PAD] [PAD] [PAD]\n",
      "x_ALLU:江 南 山 溪 水 中 有 射 工 虫 , 甲 虫 之 类 也 。 长 一 、 二 寸 , 口 中 有 弩 形 ,\n",
      "y_pred:[0.44898927]\n",
      "y_true:0\n",
      "----------\n",
      "x_seq:康 乐 上 官 去 , 永 嘉 游 石 门 。 江 中 有 孤 屿 , 千 载 迹 犹 存 。 我 来 游 秋 浦\n",
      "x_ALLU:谢 灵 运 , 陈 郡 阳 夏 人 也 。 祖 玄 , 晋 车 骑 将 军 。 灵 运 少 好 学 , 博 览 群\n",
      "y_pred:[0.5698508]\n",
      "y_true:1\n",
      "----------\n",
      "x_seq:康 乐 上 官 去 , 永 嘉 游 石 门 。 江 中 有 孤 屿 , 千 载 迹 犹 存 。 我 来 游 秋 浦\n",
      "x_ALLU:汀 洲 采 白 蘋 , 日 落 江 南 春 。 洞 庭 有 归 客 , 潇 湘 逢 故 人 。 [UNK] [PAD] [PAD] [PAD] [PAD]\n",
      "y_pred:[0.77713525]\n",
      "y_true:0\n",
      "----------\n",
      "x_seq:康 乐 上 官 去 , 永 嘉 游 石 门 。 江 中 有 孤 屿 , 千 载 迹 犹 存 。 我 来 游 秋 浦\n",
      "x_ALLU:太 仓 公 者 , 齐 太 仓 长 , 临 [UNK] 人 也 , 姓 淳 于 氏 , 名 意 。 文 帝 四 年 中 ,\n",
      "y_pred:[0.38194153]\n",
      "y_true:0\n",
      "----------\n",
      "x_seq:康 乐 上 官 去 , 永 嘉 游 石 门 。 江 中 有 孤 屿 , 千 载 迹 犹 存 。 我 来 游 秋 浦\n",
      "x_ALLU:合 欢 , 树 似 梧 桐 , 枝 叶 繁 , 互 相 交 结 。 每 一 风 来 , 辄 自 相 离 , 了 不\n",
      "y_pred:[0.49540052]\n",
      "y_true:0\n",
      "----------\n",
      "x_seq:康 乐 上 官 去 , 永 嘉 游 石 门 。 江 中 有 孤 屿 , 千 载 迹 犹 存 。 我 来 游 秋 浦\n",
      "x_ALLU:权 自 出 祖 送 [UNK] [UNK] 桓 曰 : [UNK] 天 授 陛 下 圣 姿 , 当 君 临 四 海 , 猥 重 任 臣 ,\n",
      "y_pred:[0.23713174]\n",
      "y_true:0\n",
      "----------\n",
      "x_seq:康 乐 上 官 去 , 永 嘉 游 石 门 。 江 中 有 孤 屿 , 千 载 迹 犹 存 。 我 来 游 秋 浦\n",
      "x_ALLU:司 马 迁 《 报 任 安 书 》 : 且 李 陵 提 步 卒 不 满 五 千 , 深 践 戎 马 之 地 [UNK] [UNK]\n",
      "y_pred:[0.34675616]\n",
      "y_true:0\n",
      "----------\n",
      "x_seq:康 乐 上 官 去 , 永 嘉 游 石 门 。 江 中 有 孤 屿 , 千 载 迹 犹 存 。 我 来 游 秋 浦\n",
      "x_ALLU:安 北 将 军 王 俊 遣 乌 凡 骑 攻 成 都 王 颖 于 邺 , 大 败 之 。 颖 与 帝 单 车 走 洛\n",
      "y_pred:[0.40774122]\n",
      "y_true:0\n",
      "----------\n",
      "x_seq:康 乐 上 官 去 , 永 嘉 游 石 门 。 江 中 有 孤 屿 , 千 载 迹 犹 存 。 我 来 游 秋 浦\n",
      "x_ALLU:是 时 越 欲 与 汉 用 船 战 逐 , 乃 大 修 昆 明 池 , 列 观 环 之 。 治 楼 船 , 高 十\n",
      "y_pred:[0.2853061]\n",
      "y_true:0\n",
      "----------\n",
      "x_seq:康 乐 上 官 去 , 永 嘉 游 石 门 。 江 中 有 孤 屿 , 千 载 迹 犹 存 。 我 来 游 秋 浦\n",
      "x_ALLU:《 汉 书 》 张 良 曰 : [UNK] 今 以 三 寸 舌 为 帝 师 , 封 万 户 , 位 列 侯 , 此 布 衣\n",
      "y_pred:[0.40576756]\n",
      "y_true:0\n",
      "----------\n",
      "x_seq:康 乐 上 官 去 , 永 嘉 游 石 门 。 江 中 有 孤 屿 , 千 载 迹 犹 存 。 我 来 游 秋 浦\n",
      "x_ALLU:驰 道 , 天 子 所 行 道 也 , 若 今 之 中 道 。 [UNK] [PAD] [PAD] [PAD] [PAD] [PAD] [PAD] [PAD] [PAD] [PAD] [PAD] [PAD] [PAD]\n",
      "y_pred:[0.12465578]\n",
      "y_true:0\n",
      "----------\n",
      "x_seq:马 惊 折 左 臂 , 骨 折 面 如 墨 。 [UNK] [UNK] 漫 深 泥 , 何 不 避 雨 色 。 劝 君 休 叹 恨\n",
      "x_ALLU:近 塞 上 之 人 有 善 术 者 , 马 无 故 亡 而 入 胡 , 人 皆 吊 之 。 其 父 曰 : [UNK] 此\n",
      "y_pred:[0.3893054]\n",
      "y_true:1\n",
      "----------\n",
      "x_seq:马 惊 折 左 臂 , 骨 折 面 如 墨 。 [UNK] [UNK] 漫 深 泥 , 何 不 避 雨 色 。 劝 君 休 叹 恨\n",
      "x_ALLU:[UNK] 在 乡 闾 , 平 心 率 物 。 其 有 争 讼 , 辄 求 判 正 , 晓 譬 曲 直 , 退 无 怨 者\n",
      "y_pred:[0.39506292]\n",
      "y_true:0\n",
      "----------\n",
      "x_seq:马 惊 折 左 臂 , 骨 折 面 如 墨 。 [UNK] [UNK] 漫 深 泥 , 何 不 避 雨 色 。 劝 君 休 叹 恨\n",
      "x_ALLU:于 是 洛 灵 感 焉 [UNK] [UNK] 体 迅 飞 [UNK] , 飘 忽 若 神 , 陵 波 微 步 , 罗 袜 生 尘 。 [UNK]\n",
      "y_pred:[0.4154449]\n",
      "y_true:0\n",
      "----------\n",
      "x_seq:马 惊 折 左 臂 , 骨 折 面 如 墨 。 [UNK] [UNK] 漫 深 泥 , 何 不 避 雨 色 。 劝 君 休 叹 恨\n",
      "x_ALLU:孔 子 曰 : [UNK] 益 者 三 友 , 损 者 三 友 。 友 直 、 友 谅 、 友 多 闻 , 益 矣 。 友\n",
      "y_pred:[0.0694803]\n",
      "y_true:0\n",
      "----------\n",
      "x_seq:马 惊 折 左 臂 , 骨 折 面 如 墨 。 [UNK] [UNK] 漫 深 泥 , 何 不 避 雨 色 。 劝 君 休 叹 恨\n",
      "x_ALLU:陈 留 董 祀 妻 者 , 同 郡 蔡 邕 之 女 也 , 名 琰 , 字 文 姬 。 [UNK] [UNK] 兴 平 中 , 天\n",
      "y_pred:[0.61771643]\n",
      "y_true:0\n",
      "----------\n",
      "x_seq:马 惊 折 左 臂 , 骨 折 面 如 墨 。 [UNK] [UNK] 漫 深 泥 , 何 不 避 雨 色 。 劝 君 休 叹 恨\n",
      "x_ALLU:汉 使 骠 骑 将 军 去 病 将 万 骑 出 陇 西 , 过 焉 支 山 千 余 里 , 击 匈 奴 。 [UNK] [PAD]\n",
      "y_pred:[0.44529587]\n",
      "y_true:0\n",
      "----------\n",
      "x_seq:马 惊 折 左 臂 , 骨 折 面 如 墨 。 [UNK] [UNK] 漫 深 泥 , 何 不 避 雨 色 。 劝 君 休 叹 恨\n",
      "x_ALLU:子 来 有 病 , 喘 喘 然 将 死 。 其 妻 子 环 而 泣 之 。 [UNK] [UNK] 子 来 曰 : [UNK] [UNK] [UNK] 夫\n",
      "y_pred:[0.1795794]\n",
      "y_true:0\n",
      "----------\n",
      "x_seq:马 惊 折 左 臂 , 骨 折 面 如 墨 。 [UNK] [UNK] 漫 深 泥 , 何 不 避 雨 色 。 劝 君 休 叹 恨\n",
      "x_ALLU:东 南 流 径 晋 卫 尉 卿 石 崇 之 居 。 石 季 伦 《 金 谷 诗 集 序 》 曰 : [UNK] 余 以 元\n",
      "y_pred:[0.63520175]\n",
      "y_true:0\n",
      "----------\n",
      "x_seq:马 惊 折 左 臂 , 骨 折 面 如 墨 。 [UNK] [UNK] 漫 深 泥 , 何 不 避 雨 色 。 劝 君 休 叹 恨\n",
      "x_ALLU:武 帝 女 寿 阳 公 主 人 日 卧 于 含 章 簷 下 , 梅 花 落 公 主 额 上 , 成 五 出 之 花\n",
      "y_pred:[0.6406584]\n",
      "y_true:0\n",
      "----------\n",
      "x_seq:马 惊 折 左 臂 , 骨 折 面 如 墨 。 [UNK] [UNK] 漫 深 泥 , 何 不 避 雨 色 。 劝 君 休 叹 恨\n",
      "x_ALLU:时 有 [UNK] 弘 , 能 招 致 神 异 。 [UNK] [UNK] 王 乃 疏 [UNK] 弘 而 求 正 谏 之 士 。 时 异 方 贡\n",
      "y_pred:[0.34980872]\n",
      "y_true:0\n",
      "----------\n",
      "x_seq:鲛 人 远 泛 渔 舟 水 , [UNK] 鸟 闲 飞 露 里 天 。 [UNK] [PAD] [PAD] [PAD] [PAD] [PAD] [PAD] [PAD] [PAD] [PAD] [PAD] [PAD] [PAD]\n",
      "x_ALLU:初 汉 辞 人 , 顺 流 而 作 , 陆 贾 扣 其 端 , 贾 谊 振 其 绪 , 枚 马 同 其 风 , 王\n",
      "y_pred:[0.8804289]\n",
      "y_true:1\n",
      "----------\n",
      "x_seq:鲛 人 远 泛 渔 舟 水 , [UNK] 鸟 闲 飞 露 里 天 。 [UNK] [PAD] [PAD] [PAD] [PAD] [PAD] [PAD] [PAD] [PAD] [PAD] [PAD] [PAD] [PAD]\n",
      "x_ALLU:乃 以 宗 正 刘 礼 为 将 军 , 军 霸 上 ; 祝 兹 侯 徐 厉 为 将 军 , 军 棘 门 [UNK] [UNK] 上\n",
      "y_pred:[0.4138506]\n",
      "y_true:0\n",
      "----------\n",
      "x_seq:鲛 人 远 泛 渔 舟 水 , [UNK] 鸟 闲 飞 露 里 天 。 [UNK] [PAD] [PAD] [PAD] [PAD] [PAD] [PAD] [PAD] [PAD] [PAD] [PAD] [PAD] [PAD]\n",
      "x_ALLU:石 尤 , 打 头 逆 风 也 。 [UNK] [PAD] [PAD] [PAD] [PAD] [PAD] [PAD] [PAD] [PAD] [PAD] [PAD] [PAD] [PAD] [PAD] [PAD] [PAD] [PAD] [PAD] [PAD] [PAD]\n",
      "y_pred:[0.4032205]\n",
      "y_true:0\n",
      "----------\n",
      "x_seq:鲛 人 远 泛 渔 舟 水 , [UNK] 鸟 闲 飞 露 里 天 。 [UNK] [PAD] [PAD] [PAD] [PAD] [PAD] [PAD] [PAD] [PAD] [PAD] [PAD] [PAD] [PAD]\n",
      "x_ALLU:谓 喜 怒 不 过 节 也 。 [UNK] [PAD] [PAD] [PAD] [PAD] [PAD] [PAD] [PAD] [PAD] [PAD] [PAD] [PAD] [PAD] [PAD] [PAD] [PAD] [PAD] [PAD] [PAD] [PAD] [PAD]\n",
      "y_pred:[0.07947716]\n",
      "y_true:0\n",
      "----------\n",
      "END:**************************************************\n",
      "array([[0.28851414, 0.26644343, 0.49745342, 0.49590084, 0.25228602,\n",
      "        0.39666352, 0.31006107, 0.54434097, 0.6977383 , 0.75448996],\n",
      "       [0.41562212, 0.34069735, 0.5173564 , 0.7746337 , 0.24777988,\n",
      "        0.36804926, 0.377108  , 0.06528825, 0.38787127, 0.32653922],\n",
      "       [0.5808277 , 0.33618316, 0.18080857, 0.48913485, 0.17552081,\n",
      "        0.3508473 , 0.2537198 , 0.7482695 , 0.08265474, 0.3899066 ],\n",
      "       [0.13537633, 0.37997833, 0.21195045, 0.24265248, 0.34863806,\n",
      "        0.3443454 , 0.12610865, 0.5060172 , 0.3440053 , 0.44898927],\n",
      "       [0.5698508 , 0.77713525, 0.38194153, 0.49540052, 0.23713174,\n",
      "        0.34675616, 0.40774122, 0.2853061 , 0.40576756, 0.12465578],\n",
      "       [0.3893054 , 0.39506292, 0.4154449 , 0.0694803 , 0.61771643,\n",
      "        0.44529587, 0.1795794 , 0.63520175, 0.6406584 , 0.34980872],\n",
      "       [0.8804289 , 0.4138506 , 0.4032205 , 0.07947716, 0.6493417 ,\n",
      "        0.2172986 , 0.26498425, 0.3639884 , 0.43612838, 0.42298186],\n",
      "       [0.6728393 , 0.33980605, 0.6001119 , 0.43678522, 0.7690258 ,\n",
      "        0.41094226, 0.7131063 , 0.38887995, 0.49274227, 0.6860336 ],\n",
      "       [0.69403476, 0.4477139 , 0.32455096, 0.9107965 , 0.2663803 ,\n",
      "        0.4870259 , 0.31265008, 0.3681384 , 0.6536203 , 0.3693275 ],\n",
      "       [0.48626   , 0.32881314, 0.3873075 , 0.24432066, 0.46647   ,\n",
      "        0.29227373, 0.2412247 , 0.62748426, 0.3900385 , 0.08699632]],\n",
      "      dtype=float32)\n",
      "array([9, 8, 7, 2, 3, 5, 6, 0, 1, 4])\n",
      "[0, 0, 0, 0, 0, 0, 0, 1, 0, 0]\n",
      "array([3, 2, 0, 8, 6, 5, 1, 9, 4, 7])\n",
      "[0, 0, 1, 0, 0, 0, 0, 0, 0, 0]\n",
      "array([7, 0, 3, 9, 5, 1, 6, 2, 4, 8])\n",
      "[0, 1, 0, 0, 0, 0, 0, 0, 0, 0]\n",
      "array([7, 9, 1, 4, 5, 8, 3, 2, 0, 6])\n",
      "[0, 0, 0, 0, 0, 0, 0, 0, 1, 0]\n",
      "array([1, 0, 3, 6, 8, 2, 5, 7, 4, 9])\n",
      "[0, 1, 0, 0, 0, 0, 0, 0, 0, 0]\n",
      "array([8, 7, 4, 5, 2, 1, 0, 9, 6, 3])\n",
      "[0, 0, 0, 0, 0, 0, 1, 0, 0, 0]\n",
      "array([0, 4, 8, 9, 1, 2, 7, 6, 5, 3])\n",
      "[1, 0, 0, 0, 0, 0, 0, 0, 0, 0]\n",
      "array([4, 6, 9, 0, 2, 8, 3, 5, 7, 1])\n",
      "[0, 0, 0, 1, 0, 0, 0, 0, 0, 0]\n",
      "array([3, 0, 8, 5, 1, 9, 7, 2, 6, 4])\n",
      "[0, 1, 0, 0, 0, 0, 0, 0, 0, 0]\n",
      "array([7, 0, 4, 8, 2, 1, 5, 3, 6, 9])\n",
      "[0, 1, 0, 0, 0, 0, 0, 0, 0, 0]\n",
      "\n",
      "----------------------------------ALLU_SOURCE PAIRMATCH METRICS -----------------------------------\n",
      "\n",
      "epoch:PAIRMATCH AVG_RANKING MRR: 0.4790\n",
      "\n",
      "----------------------------------ALLU_SOURCE END ----------------------------------\n",
      "\n",
      "----------------------------------ALLU_CLASS CLASS METRICS -----------------------------------\n",
      "\n",
      "              precision    recall  f1-score   support\n",
      "    accuracy                         0.3640       533\n",
      "   macro avg     0.3614    0.3252    0.3152       533\n",
      "weighted avg     0.3723    0.3640    0.3500       533\n",
      "\n",
      "\n",
      "epoch:classification EPOCH accuracy: 0.36397748592870544 precision: 0.361361, recall: 0.325204, f1: 0.315197\n",
      "\n",
      "-----------------------------ALLU_CLASS END ----------------------------\n",
      "train_example:**************************************************\n",
      "x_seq:频 年 但 觉 貂 裘 敝 ， 万 古 何 曾 马 角 生 。 [UNK] [PAD] [PAD] [PAD] [PAD] [PAD] [PAD] [PAD] [PAD] [PAD] [PAD] [PAD] [PAD]\n",
      "y_pred:动物部\n",
      "y_true:人事部\n",
      "----------\n",
      "x_seq:愿 得 华 山 之 下 长 归 马 ， 野 田 无 复 堆 冤 者 。 [UNK] [PAD] [PAD] [PAD] [PAD] [PAD] [PAD] [PAD] [PAD] [PAD] [PAD]\n",
      "y_pred:地理部\n",
      "y_true:地理部\n",
      "----------\n",
      "x_seq:端 拱 复 垂 裳 ， 长 怀 御 远 方 。 [UNK] [PAD] [PAD] [PAD] [PAD] [PAD] [PAD] [PAD] [PAD] [PAD] [PAD] [PAD] [PAD] [PAD] [PAD] [PAD] [PAD]\n",
      "y_pred:人物部\n",
      "y_true:人物部\n",
      "----------\n",
      "x_seq:楼 迷 五 里 雾 ， 坛 烛 九 枝 灯 。 [UNK] [PAD] [PAD] [PAD] [PAD] [PAD] [PAD] [PAD] [PAD] [PAD] [PAD] [PAD] [PAD] [PAD] [PAD] [PAD] [PAD]\n",
      "y_pred:天文部\n",
      "y_true:天文部\n",
      "----------\n",
      "x_seq:曹 韩 画 样 出 中 秘 ， 燕 市 死 骨 空 千 金 。 [UNK] [PAD] [PAD] [PAD] [PAD] [PAD] [PAD] [PAD] [PAD] [PAD] [PAD] [PAD] [PAD]\n",
      "y_pred:人事部\n",
      "y_true:器用部\n",
      "----------\n",
      "x_seq:方 无 夜 犬 惊 ， 向 息 神 牛 斗 。 [UNK] [PAD] [PAD] [PAD] [PAD] [PAD] [PAD] [PAD] [PAD] [PAD] [PAD] [PAD] [PAD] [PAD] [PAD] [PAD] [PAD]\n",
      "y_pred:动物部\n",
      "y_true:动物部\n",
      "----------\n",
      "x_seq:廉 蔺 若 未 死 ， 孙 吴 知 暗 同 。 [UNK] [PAD] [PAD] [PAD] [PAD] [PAD] [PAD] [PAD] [PAD] [PAD] [PAD] [PAD] [PAD] [PAD] [PAD] [PAD] [PAD]\n",
      "y_pred:人事部\n",
      "y_true:武备部\n",
      "----------\n",
      "x_seq:面 前 小 沼 清 如 镜 ， 终 养 琴 高 赤 鲤 鱼 。 [UNK] [PAD] [PAD] [PAD] [PAD] [PAD] [PAD] [PAD] [PAD] [PAD] [PAD] [PAD] [PAD]\n",
      "y_pred:动物部\n",
      "y_true:动物部\n",
      "----------\n",
      "x_seq:赁 舂 尚 未 偕 荆 妇 ， 祭 灶 仍 先 请 比 邻 。 [UNK] [PAD] [PAD] [PAD] [PAD] [PAD] [PAD] [PAD] [PAD] [PAD] [PAD] [PAD] [PAD]\n",
      "y_pred:伦类部\n",
      "y_true:伦类部\n",
      "----------\n",
      "x_seq:自 成 鼓 吹 喧 朝 夕 ， 输 与 东 湖 两 部 蛙 。 [UNK] [PAD] [PAD] [PAD] [PAD] [PAD] [PAD] [PAD] [PAD] [PAD] [PAD] [PAD] [PAD]\n",
      "y_pred:动物部\n",
      "y_true:动物部\n",
      "----------\n",
      "END:**************************************************\n",
      "test_example:**************************************************\n",
      "x_seq:减 米 散 同 舟 ， 路 难 思 共 济 。 [UNK] [PAD] [PAD] [PAD] [PAD] [PAD] [PAD] [PAD] [PAD] [PAD] [PAD] [PAD] [PAD] [PAD] [PAD] [PAD] [PAD]\n",
      "y_pred:器用部\n",
      "y_true:器用部\n",
      "----------\n",
      "x_seq:汤 征 随 北 怨 ， 舜 咏 起 《 南 风 》 。 [UNK] [PAD] [PAD] [PAD] [PAD] [PAD] [PAD] [PAD] [PAD] [PAD] [PAD] [PAD] [PAD] [PAD] [PAD]\n",
      "y_pred:天文部\n",
      "y_true:人物部\n",
      "----------\n",
      "x_seq:江 郡 讴 谣 夸 杜 母 ， 洛 城 欢 会 忆 车 公 。 [UNK] [PAD] [PAD] [PAD] [PAD] [PAD] [PAD] [PAD] [PAD] [PAD] [PAD] [PAD] [PAD]\n",
      "y_pred:人物部\n",
      "y_true:政事部\n",
      "----------\n",
      "x_seq:同 受 新 年 不 同 赏 ， 无 由 缩 地 欲 如 何 。 [UNK] [PAD] [PAD] [PAD] [PAD] [PAD] [PAD] [PAD] [PAD] [PAD] [PAD] [PAD] [PAD]\n",
      "y_pred:人事部\n",
      "y_true:地理部\n",
      "----------\n",
      "x_seq:人 楚 廉 颇 犹 未 老 ， 过 秦 扁 鹊 更 能 工 。 [UNK] [PAD] [PAD] [PAD] [PAD] [PAD] [PAD] [PAD] [PAD] [PAD] [PAD] [PAD] [PAD]\n",
      "y_pred:人物部\n",
      "y_true:人事部\n",
      "----------\n",
      "x_seq:桑 下 岂 无 三 宿 恋 ， 樽 前 聊 与 一 身 归 。 [UNK] [PAD] [PAD] [PAD] [PAD] [PAD] [PAD] [PAD] [PAD] [PAD] [PAD] [PAD] [PAD]\n",
      "y_pred:人事部\n",
      "y_true:植物部\n",
      "----------\n",
      "x_seq:郑 侠 图 曾 伤 目 击 ， 陈 琳 檄 可 愈 头 风 。 [UNK] [PAD] [PAD] [PAD] [PAD] [PAD] [PAD] [PAD] [PAD] [PAD] [PAD] [PAD] [PAD]\n",
      "y_pred:人体部\n",
      "y_true:文明部\n",
      "----------\n",
      "x_seq:投 笔 书 生 古 来 有 ， 从 军 乐 事 世 间 无 。 [UNK] [PAD] [PAD] [PAD] [PAD] [PAD] [PAD] [PAD] [PAD] [PAD] [PAD] [PAD] [PAD]\n",
      "y_pred:人物部\n",
      "y_true:武备部\n",
      "----------\n",
      "x_seq:抱 瓮 灌 秋 蔬 ， 心 闲 游 天 云 。 [UNK] [PAD] [PAD] [PAD] [PAD] [PAD] [PAD] [PAD] [PAD] [PAD] [PAD] [PAD] [PAD] [PAD] [PAD] [PAD] [PAD]\n",
      "y_pred:人事部\n",
      "y_true:器用部\n",
      "----------\n",
      "x_seq:中 山 之 狼 恣 反 噬 ， 莱 公 远 滴 为 拂 须 。 [UNK] [PAD] [PAD] [PAD] [PAD] [PAD] [PAD] [PAD] [PAD] [PAD] [PAD] [PAD] [PAD]\n",
      "y_pred:动物部\n",
      "y_true:政事部\n",
      "----------\n",
      "END:**************************************************\n",
      "\n",
      "----------------------------------READABILITY CLASS METRICS -----------------------------------\n",
      "\n",
      "              precision    recall  f1-score   support\n",
      "    accuracy                         0.7068       382\n",
      "   macro avg     0.7407    0.6875    0.7064       382\n",
      "weighted avg     0.7147    0.7068    0.7061       382\n",
      "\n",
      "\n",
      "epoch:classification EPOCH accuracy: 0.7068062827225131 precision: 0.740698, recall: 0.687525, f1: 0.706432\n",
      "\n",
      "-----------------------------READABILITY END ----------------------------\n"
     ]
    },
    {
     "name": "stderr",
     "output_type": "stream",
     "text": [
      "I:SAMPLE_TRAINER:[sampler_mu: 43]:cur_split_idx 4th END\n",
      "I:SAMPLE_TRAINER:[sampler_mu: 44]:****************************************************************************************************\n",
      "I:SAMPLE_TRAINER:[sampler_mu: 45]:****************************************************************************************************\n"
     ]
    },
    {
     "name": "stdout",
     "output_type": "stream",
     "text": [
      "train_example:**************************************************\n",
      "x_seq:朝 登 百 丈 峰 ， 遥 望 燕 支 道 。 汉 垒 青 冥 间 ， 胡 天 白 如 扫 。 忆 昔 霍 将 军\n",
      "y_pred:2\n",
      "y_true:2\n",
      "----------\n",
      "x_seq:西 上 莲 花 山 ， 迢 迢 见 明 星 。 素 手 把 芙 蓉 ， 虚 步 蹑 太 清 。 霓 裳 曳 广 带\n",
      "y_pred:2\n",
      "y_true:2\n",
      "----------\n",
      "x_seq:夙 龄 爱 远 壑 ， 晚 莅 见 奇 山 。 标 峰 彩 虹 外 ， 置 岭 白 云 间 。 倾 壁 忽 斜 竖\n",
      "y_pred:2\n",
      "y_true:2\n",
      "----------\n",
      "x_seq:江 碧 鸟 逾 白 ， 山 青 花 欲 燃 。 今 春 看 又 过 ， 何 日 是 归 年 ？ [UNK] [PAD] [PAD] [PAD] [PAD]\n",
      "y_pred:1\n",
      "y_true:1\n",
      "----------\n",
      "x_seq:望 断 平 时 翠 辇 过 ， 空 闻 子 夜 鬼 悲 歌 。 金 舆 不 返 倾 城 色 ， 玉 殿 犹 分 下\n",
      "y_pred:2\n",
      "y_true:3\n",
      "----------\n",
      "x_seq:手 里 金 鹦 鹉 ， 胸 前 绣 凤 凰 。 偷 眼 暗 形 相 ， 不 如 从 嫁 与 ， 作 鸳 鸯 。 [UNK]\n",
      "y_pred:1\n",
      "y_true:1\n",
      "----------\n",
      "x_seq:一 重 山 ， 两 重 山 。 山 远 天 高 烟 水 寒 ， 相 思 枫 叶 丹 。 菊 花 开 ， 菊 花 残\n",
      "y_pred:1\n",
      "y_true:1\n",
      "----------\n",
      "x_seq:纨 绔 不 饿 死 ， 儒 冠 多 误 身 。 丈 人 试 静 听 ， 贱 子 请 具 陈 。 甫 昔 少 年 日\n",
      "y_pred:2\n",
      "y_true:3\n",
      "----------\n",
      "x_seq:江 南 佳 丽 地 ， 金 陵 帝 王 州 。 逶 迤 带 绿 水 ， 迢 递 起 朱 楼 。 飞 [UNK] 夹 驰 道\n",
      "y_pred:2\n",
      "y_true:2\n",
      "----------\n",
      "x_seq:君 自 故 乡 来 ， 应 知 故 乡 事 。 来 日 绮 窗 前 ， 寒 梅 著 花 未 ？ [UNK] [PAD] [PAD] [PAD] [PAD]\n",
      "y_pred:1\n",
      "y_true:1\n",
      "----------\n",
      "END:**************************************************\n",
      "test_example:**************************************************\n",
      "x_seq:男 儿 一 片 气 ， 何 必 五 车 书 。 好 勇 方 过 我 ， 多 才 便 起 予 。 运 筹 将 入 幕\n",
      "y_pred:2\n",
      "y_true:2\n",
      "----------\n",
      "x_seq:万 马 不 嘶 ， 一 声 寒 角 ， 令 行 柳 营 。 见 秋 原 如 掌 ， 枪 刀 突 出 ， 星 驰 铁\n",
      "y_pred:1\n",
      "y_true:3\n",
      "----------\n",
      "x_seq:我 梦 扬 州 ， 便 想 到 扬 州 梦 我 。 第 一 是 隋 堤 绿 柳 ， 不 堪 烟 锁 。 潮 打 三\n",
      "y_pred:1\n",
      "y_true:2\n",
      "----------\n",
      "x_seq:南 北 驱 驰 报 主 情 ， 江 花 边 草 笑 平 生 。 一 年 三 百 六 十 日 ， 多 是 横 戈 马\n",
      "y_pred:1\n",
      "y_true:1\n",
      "----------\n",
      "x_seq:幽 闺 欲 曙 闻 莺 转 ， 红 窗 月 影 微 明 。 好 风 频 谢 落 花 声 。 隔 帷 残 烛 ， 犹\n",
      "y_pred:1\n",
      "y_true:1\n",
      "----------\n",
      "x_seq:月 黑 见 渔 灯 ， 孤 光 一 点 萤 。 微 微 风 簇 浪 ， 散 作 满 河 星 。 [UNK] [PAD] [PAD] [PAD] [PAD]\n",
      "y_pred:1\n",
      "y_true:1\n",
      "----------\n",
      "x_seq:大 江 一 浩 荡 ， 离 悲 足 几 重 。 潮 落 犹 如 盖 ， 云 昏 不 作 峰 。 远 戍 唯 闻 鼓\n",
      "y_pred:1\n",
      "y_true:2\n",
      "----------\n",
      "x_seq:秋 草 生 庭 白 露 时 ， 故 园 诸 弟 益 相 思 。 尽 日 高 斋 无 一 事 ， 芭 蕉 叶 上 独\n",
      "y_pred:1\n",
      "y_true:1\n",
      "----------\n",
      "x_seq:轻 薄 儿 ， 面 如 玉 ， 紫 陌 春 风 缠 马 足 。 双 蹬 悬 金 缕 鹘 飞 ， 长 衫 刺 雪 生\n",
      "y_pred:1\n",
      "y_true:2\n",
      "----------\n",
      "x_seq:金 陵 为 帝 王 之 州 。 自 六 朝 迄 于 南 唐 ， 类 皆 偏 据 一 方 ， 无 以 应 山 川 之\n",
      "y_pred:2\n",
      "y_true:3\n",
      "----------\n",
      "END:**************************************************\n"
     ]
    }
   ],
   "source": [
    "allu_def_seq_len = poem_seq_len\n",
    "trainer = SamplerMultiTaskTrainer(task_list=task_list,\n",
    "                                  batch_size=64,\n",
    "                                  total_epochs=50,\n",
    "                                  poem_seq_len=poem_seq_len,\n",
    "                                  allu_def_seq_len=allu_def_seq_len)\n",
    "\n",
    "final_res = trainer.train()\n"
   ]
  },
  {
   "cell_type": "code",
   "execution_count": 4,
   "metadata": {},
   "outputs": [],
   "source": [
    "from kashgari.utils import compute_mean_metrics\n",
    "from kashgari.utils import plot_final_res"
   ]
  },
  {
   "cell_type": "code",
   "execution_count": 5,
   "metadata": {},
   "outputs": [
    {
     "name": "stdout",
     "output_type": "stream",
     "text": [
      "NER\t[0.81197011 0.31953836 0.26341235 0.28715309]\n",
      "ALLU_SOURCE\t0.5112346560846561\n",
      "ALLU_CLASS\t[0.36544329 0.33283796 0.29324418 0.28977647]\n",
      "READABILITY\t[0.66720982 0.70363402 0.66660156 0.68014877]\n"
     ]
    },
    {
     "data": {
      "image/png": "[encoded data removed]",
      "text/plain": [
       "<Figure size 1440x576 with 10 Axes>"
      ]
     },
     "metadata": {
      "needs_background": "light"
     },
     "output_type": "display_data"
    },
    {
     "data": {
      "image/png": "[encoded data removed]",
      "text/plain": [
       "<Figure size 1440x576 with 10 Axes>"
      ]
     },
     "metadata": {
      "needs_background": "light"
     },
     "output_type": "display_data"
    },
    {
     "data": {
      "image/png": "[encoded data removed]",
      "text/plain": [
       "<Figure size 1440x576 with 10 Axes>"
      ]
     },
     "metadata": {
      "needs_background": "light"
     },
     "output_type": "display_data"
    },
    {
     "data": {
      "image/png": "[encoded data removed]",
      "text/plain": [
       "<Figure size 1440x576 with 10 Axes>"
      ]
     },
     "metadata": {
      "needs_background": "light"
     },
     "output_type": "display_data"
    }
   ],
   "source": [
    "compute_mean_metrics(final_res)\n",
    "plot_final_res(final_res)"
   ]
  },
  {
   "cell_type": "code",
   "execution_count": null,
   "metadata": {},
   "outputs": [],
   "source": []
  }
 ],
 "metadata": {
  "kernelspec": {
   "display_name": "Python [conda env:ner_tf2] *",
   "language": "python",
   "name": "conda-env-ner_tf2-py"
  },
  "language_info": {
   "codemirror_mode": {
    "name": "ipython",
    "version": 3
   },
   "file_extension": ".py",
   "mimetype": "text/x-python",
   "name": "python",
   "nbconvert_exporter": "python",
   "pygments_lexer": "ipython3",
   "version": "3.7.4"
  },
  "toc": {
   "base_numbering": 1,
   "nav_menu": {},
   "number_sections": true,
   "sideBar": true,
   "skip_h1_title": false,
   "title_cell": "Table of Contents",
   "title_sidebar": "Contents",
   "toc_cell": false,
   "toc_position": {},
   "toc_section_display": true,
   "toc_window_display": false
  }
 },
 "nbformat": 4,
 "nbformat_minor": 2
}
